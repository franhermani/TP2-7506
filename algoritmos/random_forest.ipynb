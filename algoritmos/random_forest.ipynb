{
 "cells": [
  {
   "cell_type": "code",
   "execution_count": 1,
   "metadata": {},
   "outputs": [],
   "source": [
    "import pandas as pd\n",
    "import numpy as np\n",
    "\n",
    "from sklearn.ensemble import RandomForestClassifier\n",
    "from sklearn.model_selection import train_test_split\n",
    "from sklearn.metrics import accuracy_score"
   ]
  },
  {
   "cell_type": "markdown",
   "metadata": {},
   "source": [
    "## Cargamos el Set de Entrenamiento y el Test Final"
   ]
  },
  {
   "cell_type": "code",
   "execution_count": 2,
   "metadata": {},
   "outputs": [],
   "source": [
    "train = pd.read_csv('modelo.csv')\n",
    "test_final = pd.read_csv('test_final.csv')\n",
    "\n",
    "id_aviso_postulante = test_final['id']"
   ]
  },
  {
   "cell_type": "markdown",
   "metadata": {},
   "source": [
    "## Realizamos pruebas con el Set de Entrenamiento"
   ]
  },
  {
   "cell_type": "markdown",
   "metadata": {},
   "source": [
    "Particionamos nuestro set de entrenamiento para testear los resultados de forma local. La idea es realizar varias ejecuciones hasta encontrar los hiper-parámetros que consideramos óptimos, para luego utilizarlos con el test final."
   ]
  },
  {
   "cell_type": "code",
   "execution_count": 11,
   "metadata": {},
   "outputs": [],
   "source": [
    "test_s = 0.25\n",
    "random_s = 0\n",
    "n_samples = 1000000\n",
    "\n",
    "no = train['se_postulo'] == 0\n",
    "si = train['se_postulo'] == 1\n",
    "\n",
    "train_no = train[no].sample(n_samples)\n",
    "train_si = train[si].sample(n_samples)\n",
    "\n",
    "train_final = pd.merge(train_no, train_si, how='outer')\n",
    "\n",
    "buenos_aires = (train_final['nombre_zona'] == 'Capital Federal') |\\\n",
    "              (train_final['nombre_zona'] == 'Gran Buenos Aires') |\\\n",
    "               (train_final['nombre_zona'] == 'Buenos Aires (fuera de GBA)')\n",
    "\n",
    "train_final.loc[(buenos_aires), 'Buenos Aires'] = 1\n",
    "train_final.loc[(~buenos_aires), 'Buenos Aires'] = 0\n",
    "train_final.loc[(train_final['nombre_zona'].isnull()), 'Buenos Aires'] = 0\n",
    "train_final.loc[(train_final['edad'].isnull(), 'edad')] = 0\n",
    "\n",
    "x = np.array(train_final[['edad', 'sexo', 'orden_estudio', 'nivel_laboral', 'tipo_de_trabajo', 'Buenos Aires']])\n",
    "y = np.array(train_final['se_postulo'])\n",
    "\n",
    "x_train, x_test, y_train, y_test = train_test_split(x, y, test_size=test_s, random_state=random_s)"
   ]
  },
  {
   "cell_type": "code",
   "execution_count": 12,
   "metadata": {},
   "outputs": [
    {
     "name": "stderr",
     "output_type": "stream",
     "text": [
      "C:\\Users\\Francisco\\Anaconda3\\lib\\site-packages\\sklearn\\ensemble\\forest.py:453: UserWarning: Some inputs do not have OOB scores. This probably means too few trees were used to compute any reliable oob estimates.\n",
      "  warn(\"Some inputs do not have OOB scores. \"\n",
      "C:\\Users\\Francisco\\Anaconda3\\lib\\site-packages\\sklearn\\ensemble\\forest.py:458: RuntimeWarning: invalid value encountered in true_divide\n",
      "  predictions[k].sum(axis=1)[:, np.newaxis])\n"
     ]
    },
    {
     "data": {
      "text/plain": [
       "0.687492"
      ]
     },
     "execution_count": 12,
     "metadata": {},
     "output_type": "execute_result"
    }
   ],
   "source": [
    "# Creamos el Random Forest\n",
    "random_forest = RandomForestClassifier(n_estimators=25, max_features='sqrt', max_depth=5, min_samples_split=2,\\\n",
    "                                   min_samples_leaf=5, bootstrap=True, oob_score=True, warm_start=True)\n",
    "\n",
    "# Lo entrenamos con nuestro set de entrenamiento\n",
    "random_forest.fit(x_train,y_train)\n",
    "\n",
    "# Predecimos valores de nuestro set de datos\n",
    "pred = random_forest.predict(x_test)\n",
    "\n",
    "# Evaluamos la precisión\n",
    "precision = accuracy_score(y_test, pred)\n",
    "\n",
    "precision"
   ]
  },
  {
   "cell_type": "markdown",
   "metadata": {},
   "source": [
    "## Predecimos el Test Final "
   ]
  },
  {
   "cell_type": "markdown",
   "metadata": {},
   "source": [
    "En base a los resultados obtenidos con el set de entrenamiento, utilizaremos los hiper-parámetros que consideramos óptimos para predecir las postulaciones del test final."
   ]
  },
  {
   "cell_type": "code",
   "execution_count": 13,
   "metadata": {},
   "outputs": [],
   "source": [
    "x_test = np.array(test_final[['edad', 'sexo', 'orden_estudio', 'nivel_laboral', 'tipo_de_trabajo', 'Buenos Aires']])\n",
    "\n",
    "random_forest = RandomForestClassifier(n_estimators=25, max_features='sqrt', max_depth=5, min_samples_split=2,\\\n",
    "                                   min_samples_leaf=5, bootstrap=False, oob_score=False, warm_start=False)\n",
    "\n",
    "# Lo entrenamos con la totalidad del set de datos\n",
    "random_forest.fit(x,y)\n",
    "\n",
    "# Predecimos las postulaciones del set final\n",
    "pred_final = random_forest.predict(x_test)"
   ]
  },
  {
   "cell_type": "markdown",
   "metadata": {},
   "source": [
    "## Submit File"
   ]
  },
  {
   "cell_type": "markdown",
   "metadata": {},
   "source": [
    "Generamos el Submit File para subir a la competencia de Kaggle"
   ]
  },
  {
   "cell_type": "code",
   "execution_count": 14,
   "metadata": {},
   "outputs": [],
   "source": [
    "submit = pd.DataFrame({'id':id_aviso_postulante, 'sepostulo':pred_final})\n",
    "\n",
    "submit.to_csv('submit_random_forest.csv', index=False)"
   ]
  },
  {
   "cell_type": "code",
   "execution_count": 15,
   "metadata": {},
   "outputs": [
    {
     "data": {
      "text/plain": [
       "1    95075\n",
       "0     4925\n",
       "Name: sepostulo, dtype: int64"
      ]
     },
     "execution_count": 15,
     "metadata": {},
     "output_type": "execute_result"
    }
   ],
   "source": [
    "submit['sepostulo'].value_counts()"
   ]
  },
  {
   "cell_type": "code",
   "execution_count": null,
   "metadata": {},
   "outputs": [],
   "source": []
  }
 ],
 "metadata": {
  "kernelspec": {
   "display_name": "Python 3",
   "language": "python",
   "name": "python3"
  },
  "language_info": {
   "codemirror_mode": {
    "name": "ipython",
    "version": 3
   },
   "file_extension": ".py",
   "mimetype": "text/x-python",
   "name": "python",
   "nbconvert_exporter": "python",
   "pygments_lexer": "ipython3",
   "version": "3.6.4"
  }
 },
 "nbformat": 4,
 "nbformat_minor": 2
}
