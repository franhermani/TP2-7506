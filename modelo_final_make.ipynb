{
 "cells": [
  {
   "cell_type": "markdown",
   "metadata": {},
   "source": [
    "# Importación de librerías"
   ]
  },
  {
   "cell_type": "code",
   "execution_count": 1,
   "metadata": {},
   "outputs": [],
   "source": [
    "import pandas as pd\n",
    "import numpy as np\n",
    "import matplotlib.pyplot as plt\n",
    "\n",
    "from time import time\n",
    "\n",
    "%matplotlib inline\n",
    "%matplotlib notebook\n",
    "plt.style.use('default')"
   ]
  },
  {
   "cell_type": "markdown",
   "metadata": {},
   "source": [
    "# Operaciones con los dataframes"
   ]
  },
  {
   "cell_type": "markdown",
   "metadata": {},
   "source": [
    "### DF 1: Educación de los postulantes"
   ]
  },
  {
   "cell_type": "markdown",
   "metadata": {},
   "source": [
    "Realizamos un merge de los 3 dataframes de educación de los postulantes que nos fueron provistos, para poder trabajar de manera unificada."
   ]
  },
  {
   "cell_type": "code",
   "execution_count": 36,
   "metadata": {},
   "outputs": [
    {
     "data": {
      "text/html": [
       "<div>\n",
       "<style scoped>\n",
       "    .dataframe tbody tr th:only-of-type {\n",
       "        vertical-align: middle;\n",
       "    }\n",
       "\n",
       "    .dataframe tbody tr th {\n",
       "        vertical-align: top;\n",
       "    }\n",
       "\n",
       "    .dataframe thead th {\n",
       "        text-align: right;\n",
       "    }\n",
       "</style>\n",
       "<table border=\"1\" class=\"dataframe\">\n",
       "  <thead>\n",
       "    <tr style=\"text-align: right;\">\n",
       "      <th></th>\n",
       "      <th>idpostulante</th>\n",
       "      <th>titulo_univ</th>\n",
       "      <th>estado</th>\n",
       "    </tr>\n",
       "  </thead>\n",
       "  <tbody>\n",
       "    <tr>\n",
       "      <th>0</th>\n",
       "      <td>ZjlZ</td>\n",
       "      <td>Master</td>\n",
       "      <td>En Curso</td>\n",
       "    </tr>\n",
       "    <tr>\n",
       "      <th>1</th>\n",
       "      <td>NdJl</td>\n",
       "      <td>Posgrado</td>\n",
       "      <td>En Curso</td>\n",
       "    </tr>\n",
       "    <tr>\n",
       "      <th>2</th>\n",
       "      <td>5kNq</td>\n",
       "      <td>Otro</td>\n",
       "      <td>En Curso</td>\n",
       "    </tr>\n",
       "    <tr>\n",
       "      <th>3</th>\n",
       "      <td>8rYD</td>\n",
       "      <td>Master</td>\n",
       "      <td>En Curso</td>\n",
       "    </tr>\n",
       "    <tr>\n",
       "      <th>4</th>\n",
       "      <td>1Wvj</td>\n",
       "      <td>Universitario</td>\n",
       "      <td>En Curso</td>\n",
       "    </tr>\n",
       "  </tbody>\n",
       "</table>\n",
       "</div>"
      ],
      "text/plain": [
       "  idpostulante    titulo_univ    estado\n",
       "0         ZjlZ         Master  En Curso\n",
       "1         NdJl       Posgrado  En Curso\n",
       "2         5kNq           Otro  En Curso\n",
       "3         8rYD         Master  En Curso\n",
       "4         1Wvj  Universitario  En Curso"
      ]
     },
     "execution_count": 36,
     "metadata": {},
     "output_type": "execute_result"
    }
   ],
   "source": [
    "postulantes_educ = pd.read_csv('datos_navent_fiuba/h15_fiuba_1_postulantes_educacion.csv')\n",
    "postulantes_educ_2 = pd.read_csv('datos_navent_fiuba/d15_fiuba_1_postulantes_educacion.csv')\n",
    "\n",
    "postulantes_educ = pd.merge(postulantes_educ, postulantes_educ_2, on=['idpostulante', 'nombre', 'estado']\\\n",
    "                       , how='outer')\n",
    "\n",
    "postulantes_educ_2 = pd.read_csv('datos_navent_fiuba/fiuba_1_postulantes_educacion.csv')\n",
    "\n",
    "postulantes_educ = pd.merge(postulantes_educ, postulantes_educ_2, on=['idpostulante', 'nombre', 'estado']\\\n",
    "                       , how='outer')\n",
    "\n",
    "# Renombramos la columna 'nombre' por algo mas apropiado\n",
    "postulantes_educ.rename(columns={'nombre':'titulo_univ'}, inplace=True)\n",
    "\n",
    "postulantes_educ.head()"
   ]
  },
  {
   "cell_type": "code",
   "execution_count": 37,
   "metadata": {},
   "outputs": [
    {
     "name": "stdout",
     "output_type": "stream",
     "text": [
      "<class 'pandas.core.frame.DataFrame'>\n",
      "Int64Index: 693641 entries, 0 to 693640\n",
      "Data columns (total 3 columns):\n",
      "idpostulante    693641 non-null object\n",
      "titulo_univ     693641 non-null object\n",
      "estado          693641 non-null object\n",
      "dtypes: object(3)\n",
      "memory usage: 21.2+ MB\n"
     ]
    }
   ],
   "source": [
    "postulantes_educ.info()"
   ]
  },
  {
   "cell_type": "markdown",
   "metadata": {},
   "source": [
    "Transformamos los strings de los títulos universitarios en variables numéricas.\n",
    "En principio esto lo realizamos para poder eliminar los IDs duplicados del dataframe. Aquí se contemplan los casos de postulantes que ingresaron con distintos títulos o que el estado de su título varió entre una postulación y la otra. A su vez, esto nos servirá más adelante para aplicar los algoritmos de Machine Learning.\n",
    "\n",
    "Analizamos los distintos tipos de títulos universitarios que existen."
   ]
  },
  {
   "cell_type": "code",
   "execution_count": 38,
   "metadata": {},
   "outputs": [
    {
     "data": {
      "text/plain": [
       "titulo_univ\n",
       "Doctorado               620\n",
       "Master                10074\n",
       "Otro                  53363\n",
       "Posgrado              20624\n",
       "Secundario           244689\n",
       "Terciario/Técnico    113421\n",
       "Universitario        250850\n",
       "Name: titulo_univ, dtype: int64"
      ]
     },
     "execution_count": 38,
     "metadata": {},
     "output_type": "execute_result"
    }
   ],
   "source": [
    "postulantes_educ.groupby('titulo_univ')['titulo_univ'].count()"
   ]
  },
  {
   "cell_type": "markdown",
   "metadata": {},
   "source": [
    "Pasamos a variables numéricas cada una de las combinaciones de título y estado de título, a fin de armar un orden de jerarquía de títulos, de manera tal de quedarnos por cada ID del postulante con su título más avanzado.\n",
    "\n",
    "NOTA: consideramos que 'Otro' es el nivel jerárquico más bajo."
   ]
  },
  {
   "cell_type": "code",
   "execution_count": 39,
   "metadata": {},
   "outputs": [
    {
     "data": {
      "text/html": [
       "<div>\n",
       "<style scoped>\n",
       "    .dataframe tbody tr th:only-of-type {\n",
       "        vertical-align: middle;\n",
       "    }\n",
       "\n",
       "    .dataframe tbody tr th {\n",
       "        vertical-align: top;\n",
       "    }\n",
       "\n",
       "    .dataframe thead th {\n",
       "        text-align: right;\n",
       "    }\n",
       "</style>\n",
       "<table border=\"1\" class=\"dataframe\">\n",
       "  <thead>\n",
       "    <tr style=\"text-align: right;\">\n",
       "      <th></th>\n",
       "      <th>idpostulante</th>\n",
       "      <th>titulo_univ</th>\n",
       "      <th>estado</th>\n",
       "      <th>estudios</th>\n",
       "    </tr>\n",
       "  </thead>\n",
       "  <tbody>\n",
       "    <tr>\n",
       "      <th>675918</th>\n",
       "      <td>5mPYdqv</td>\n",
       "      <td>Secundario</td>\n",
       "      <td>Graduado</td>\n",
       "      <td>2.0</td>\n",
       "    </tr>\n",
       "    <tr>\n",
       "      <th>499894</th>\n",
       "      <td>2zwLQ20</td>\n",
       "      <td>Secundario</td>\n",
       "      <td>Graduado</td>\n",
       "      <td>2.0</td>\n",
       "    </tr>\n",
       "    <tr>\n",
       "      <th>415194</th>\n",
       "      <td>ow2eRjW</td>\n",
       "      <td>Secundario</td>\n",
       "      <td>En Curso</td>\n",
       "      <td>2.0</td>\n",
       "    </tr>\n",
       "    <tr>\n",
       "      <th>408943</th>\n",
       "      <td>Z99k1R</td>\n",
       "      <td>Universitario</td>\n",
       "      <td>En Curso</td>\n",
       "      <td>4.0</td>\n",
       "    </tr>\n",
       "    <tr>\n",
       "      <th>93107</th>\n",
       "      <td>6zjxzO</td>\n",
       "      <td>Terciario/Técnico</td>\n",
       "      <td>Abandonado</td>\n",
       "      <td>3.0</td>\n",
       "    </tr>\n",
       "  </tbody>\n",
       "</table>\n",
       "</div>"
      ],
      "text/plain": [
       "       idpostulante        titulo_univ      estado  estudios\n",
       "675918      5mPYdqv         Secundario    Graduado       2.0\n",
       "499894      2zwLQ20         Secundario    Graduado       2.0\n",
       "415194      ow2eRjW         Secundario    En Curso       2.0\n",
       "408943       Z99k1R      Universitario    En Curso       4.0\n",
       "93107        6zjxzO  Terciario/Técnico  Abandonado       3.0"
      ]
     },
     "execution_count": 39,
     "metadata": {},
     "output_type": "execute_result"
    }
   ],
   "source": [
    "# Otro\n",
    "postulantes_educ.loc[(postulantes_educ[\"titulo_univ\"] == \"Otro\"), 'estudios'] = 1\n",
    " \n",
    "# Secundario\n",
    "postulantes_educ.loc[(postulantes_educ['titulo_univ'] == 'Secundario'), 'estudios'] = 2\n",
    "\n",
    "# Terciario/ Técnico\n",
    "postulantes_educ.loc[(postulantes_educ['titulo_univ'] == 'Terciario/Técnico'), 'estudios'] = 3\n",
    "\n",
    "# Universitario\n",
    "postulantes_educ.loc[(postulantes_educ['titulo_univ'] == 'Universitario'), 'estudios'] = 4\n",
    "\n",
    "# Posgrado\n",
    "postulantes_educ.loc[(postulantes_educ['titulo_univ'] == 'Posgrado'), 'estudios'] = 5\n",
    "\n",
    "# Master\n",
    "postulantes_educ.loc[(postulantes_educ['titulo_univ'] == 'Master'), 'estudios'] = 6\n",
    "\n",
    "# Doctorado\n",
    "postulantes_educ.loc[(postulantes_educ['titulo_univ'] == 'Doctorado'), 'estudios'] = 7\n",
    "\n",
    "postulantes_educ.sample(5)"
   ]
  },
  {
   "cell_type": "markdown",
   "metadata": {},
   "source": [
    "Analizamos la cantidad de IDs duplicados"
   ]
  },
  {
   "cell_type": "code",
   "execution_count": 40,
   "metadata": {},
   "outputs": [
    {
     "data": {
      "text/plain": [
       "180088"
      ]
     },
     "execution_count": 40,
     "metadata": {},
     "output_type": "execute_result"
    }
   ],
   "source": [
    "IDs_duplicados = sum(postulantes_educ['idpostulante'].value_counts() > 1)\n",
    "IDs_duplicados"
   ]
  },
  {
   "cell_type": "markdown",
   "metadata": {},
   "source": [
    "Ordenamos el dataframe según el orden jerárquico de estudio en forma descendente."
   ]
  },
  {
   "cell_type": "code",
   "execution_count": 41,
   "metadata": {},
   "outputs": [],
   "source": [
    "postulantes_educ = postulantes_educ.sort_values('estudios', ascending=False)"
   ]
  },
  {
   "cell_type": "markdown",
   "metadata": {},
   "source": [
    "Eliminamos todos los IDs duplicados. Considerando que previamente se ordenó el dataframe por orden de estudio, quedará un único ID por postulante con su título más avanzado."
   ]
  },
  {
   "cell_type": "code",
   "execution_count": 42,
   "metadata": {},
   "outputs": [
    {
     "data": {
      "text/html": [
       "<div>\n",
       "<style scoped>\n",
       "    .dataframe tbody tr th:only-of-type {\n",
       "        vertical-align: middle;\n",
       "    }\n",
       "\n",
       "    .dataframe tbody tr th {\n",
       "        vertical-align: top;\n",
       "    }\n",
       "\n",
       "    .dataframe thead th {\n",
       "        text-align: right;\n",
       "    }\n",
       "</style>\n",
       "<table border=\"1\" class=\"dataframe\">\n",
       "  <thead>\n",
       "    <tr style=\"text-align: right;\">\n",
       "      <th></th>\n",
       "      <th>idpostulante</th>\n",
       "      <th>titulo_univ</th>\n",
       "      <th>estado</th>\n",
       "      <th>estudios</th>\n",
       "    </tr>\n",
       "  </thead>\n",
       "  <tbody>\n",
       "    <tr>\n",
       "      <th>82012</th>\n",
       "      <td>NrWq15</td>\n",
       "      <td>Posgrado</td>\n",
       "      <td>Graduado</td>\n",
       "      <td>5.0</td>\n",
       "    </tr>\n",
       "    <tr>\n",
       "      <th>606172</th>\n",
       "      <td>akbYdWq</td>\n",
       "      <td>Universitario</td>\n",
       "      <td>En Curso</td>\n",
       "      <td>4.0</td>\n",
       "    </tr>\n",
       "    <tr>\n",
       "      <th>678781</th>\n",
       "      <td>qe2ZZJx</td>\n",
       "      <td>Secundario</td>\n",
       "      <td>Graduado</td>\n",
       "      <td>2.0</td>\n",
       "    </tr>\n",
       "    <tr>\n",
       "      <th>282198</th>\n",
       "      <td>KBAKkWq</td>\n",
       "      <td>Secundario</td>\n",
       "      <td>Graduado</td>\n",
       "      <td>2.0</td>\n",
       "    </tr>\n",
       "    <tr>\n",
       "      <th>55131</th>\n",
       "      <td>pzjxeDp</td>\n",
       "      <td>Universitario</td>\n",
       "      <td>Abandonado</td>\n",
       "      <td>4.0</td>\n",
       "    </tr>\n",
       "  </tbody>\n",
       "</table>\n",
       "</div>"
      ],
      "text/plain": [
       "       idpostulante    titulo_univ      estado  estudios\n",
       "82012        NrWq15       Posgrado    Graduado       5.0\n",
       "606172      akbYdWq  Universitario    En Curso       4.0\n",
       "678781      qe2ZZJx     Secundario    Graduado       2.0\n",
       "282198      KBAKkWq     Secundario    Graduado       2.0\n",
       "55131       pzjxeDp  Universitario  Abandonado       4.0"
      ]
     },
     "execution_count": 42,
     "metadata": {},
     "output_type": "execute_result"
    }
   ],
   "source": [
    "postulantes_educ = postulantes_educ.drop_duplicates('idpostulante')\n",
    "postulantes_educ.sample(5)"
   ]
  },
  {
   "cell_type": "markdown",
   "metadata": {},
   "source": [
    "Comprobamos que efectivamente no quedaron IDs duplicados."
   ]
  },
  {
   "cell_type": "code",
   "execution_count": 43,
   "metadata": {},
   "outputs": [
    {
     "data": {
      "text/plain": [
       "0"
      ]
     },
     "execution_count": 43,
     "metadata": {},
     "output_type": "execute_result"
    }
   ],
   "source": [
    "IDs_duplicados = sum(postulantes_educ['idpostulante'].value_counts() > 1)\n",
    "IDs_duplicados"
   ]
  },
  {
   "cell_type": "markdown",
   "metadata": {},
   "source": [
    "Creamos una nueva columna que indica si el postulante en cuestión tiene un título en curso o ya se graduó/ abandonó"
   ]
  },
  {
   "cell_type": "code",
   "execution_count": 44,
   "metadata": {},
   "outputs": [
    {
     "data": {
      "text/plain": [
       "Graduado      253166\n",
       "En Curso      148362\n",
       "Abandonado     46381\n",
       "Name: estado, dtype: int64"
      ]
     },
     "execution_count": 44,
     "metadata": {},
     "output_type": "execute_result"
    }
   ],
   "source": [
    "postulantes_educ['estado'].value_counts()"
   ]
  },
  {
   "cell_type": "code",
   "execution_count": 45,
   "metadata": {},
   "outputs": [
    {
     "data": {
      "text/html": [
       "<div>\n",
       "<style scoped>\n",
       "    .dataframe tbody tr th:only-of-type {\n",
       "        vertical-align: middle;\n",
       "    }\n",
       "\n",
       "    .dataframe tbody tr th {\n",
       "        vertical-align: top;\n",
       "    }\n",
       "\n",
       "    .dataframe thead th {\n",
       "        text-align: right;\n",
       "    }\n",
       "</style>\n",
       "<table border=\"1\" class=\"dataframe\">\n",
       "  <thead>\n",
       "    <tr style=\"text-align: right;\">\n",
       "      <th></th>\n",
       "      <th>idpostulante</th>\n",
       "      <th>titulo_univ</th>\n",
       "      <th>estado</th>\n",
       "      <th>estudios</th>\n",
       "      <th>esta_estudiando</th>\n",
       "    </tr>\n",
       "  </thead>\n",
       "  <tbody>\n",
       "    <tr>\n",
       "      <th>653830</th>\n",
       "      <td>vV9ABNX</td>\n",
       "      <td>Secundario</td>\n",
       "      <td>Graduado</td>\n",
       "      <td>2.0</td>\n",
       "      <td>0.0</td>\n",
       "    </tr>\n",
       "    <tr>\n",
       "      <th>31925</th>\n",
       "      <td>Ebk9l0</td>\n",
       "      <td>Universitario</td>\n",
       "      <td>En Curso</td>\n",
       "      <td>4.0</td>\n",
       "      <td>1.0</td>\n",
       "    </tr>\n",
       "    <tr>\n",
       "      <th>54986</th>\n",
       "      <td>ekOlEe8</td>\n",
       "      <td>Secundario</td>\n",
       "      <td>Graduado</td>\n",
       "      <td>2.0</td>\n",
       "      <td>0.0</td>\n",
       "    </tr>\n",
       "    <tr>\n",
       "      <th>632968</th>\n",
       "      <td>Ez4Nmq0</td>\n",
       "      <td>Universitario</td>\n",
       "      <td>Abandonado</td>\n",
       "      <td>4.0</td>\n",
       "      <td>0.0</td>\n",
       "    </tr>\n",
       "    <tr>\n",
       "      <th>446686</th>\n",
       "      <td>OqPkxOr</td>\n",
       "      <td>Terciario/Técnico</td>\n",
       "      <td>Graduado</td>\n",
       "      <td>3.0</td>\n",
       "      <td>0.0</td>\n",
       "    </tr>\n",
       "  </tbody>\n",
       "</table>\n",
       "</div>"
      ],
      "text/plain": [
       "       idpostulante        titulo_univ      estado  estudios  esta_estudiando\n",
       "653830      vV9ABNX         Secundario    Graduado       2.0              0.0\n",
       "31925        Ebk9l0      Universitario    En Curso       4.0              1.0\n",
       "54986       ekOlEe8         Secundario    Graduado       2.0              0.0\n",
       "632968      Ez4Nmq0      Universitario  Abandonado       4.0              0.0\n",
       "446686      OqPkxOr  Terciario/Técnico    Graduado       3.0              0.0"
      ]
     },
     "execution_count": 45,
     "metadata": {},
     "output_type": "execute_result"
    }
   ],
   "source": [
    "postulantes_educ.loc[(postulantes_educ['estado'] == 'Graduado'), 'esta_estudiando'] = 0\n",
    "postulantes_educ.loc[(postulantes_educ['estado'] == 'Abandonado'), 'esta_estudiando'] = 0\n",
    "postulantes_educ.loc[(postulantes_educ['estado'] == 'En Curso'), 'esta_estudiando'] = 1\n",
    "\n",
    "postulantes_educ.sample(5)"
   ]
  },
  {
   "cell_type": "markdown",
   "metadata": {},
   "source": [
    "Eliminamos las columnas 'titulo_univ' y 'estado', ya que la información relativa a esto ya se encuentra contenida en 'orden_estudio' y en 'esta_estudiando'"
   ]
  },
  {
   "cell_type": "code",
   "execution_count": 46,
   "metadata": {},
   "outputs": [
    {
     "data": {
      "text/html": [
       "<div>\n",
       "<style scoped>\n",
       "    .dataframe tbody tr th:only-of-type {\n",
       "        vertical-align: middle;\n",
       "    }\n",
       "\n",
       "    .dataframe tbody tr th {\n",
       "        vertical-align: top;\n",
       "    }\n",
       "\n",
       "    .dataframe thead th {\n",
       "        text-align: right;\n",
       "    }\n",
       "</style>\n",
       "<table border=\"1\" class=\"dataframe\">\n",
       "  <thead>\n",
       "    <tr style=\"text-align: right;\">\n",
       "      <th></th>\n",
       "      <th>idpostulante</th>\n",
       "      <th>estudios</th>\n",
       "      <th>esta_estudiando</th>\n",
       "    </tr>\n",
       "  </thead>\n",
       "  <tbody>\n",
       "    <tr>\n",
       "      <th>171455</th>\n",
       "      <td>ow2dZP3</td>\n",
       "      <td>3.0</td>\n",
       "      <td>0.0</td>\n",
       "    </tr>\n",
       "    <tr>\n",
       "      <th>342925</th>\n",
       "      <td>pze2083</td>\n",
       "      <td>4.0</td>\n",
       "      <td>1.0</td>\n",
       "    </tr>\n",
       "    <tr>\n",
       "      <th>4443</th>\n",
       "      <td>qewQvrL</td>\n",
       "      <td>4.0</td>\n",
       "      <td>1.0</td>\n",
       "    </tr>\n",
       "    <tr>\n",
       "      <th>126044</th>\n",
       "      <td>rmvWrNQ</td>\n",
       "      <td>4.0</td>\n",
       "      <td>0.0</td>\n",
       "    </tr>\n",
       "    <tr>\n",
       "      <th>129818</th>\n",
       "      <td>qe2VKVR</td>\n",
       "      <td>2.0</td>\n",
       "      <td>0.0</td>\n",
       "    </tr>\n",
       "  </tbody>\n",
       "</table>\n",
       "</div>"
      ],
      "text/plain": [
       "       idpostulante  estudios  esta_estudiando\n",
       "171455      ow2dZP3       3.0              0.0\n",
       "342925      pze2083       4.0              1.0\n",
       "4443        qewQvrL       4.0              1.0\n",
       "126044      rmvWrNQ       4.0              0.0\n",
       "129818      qe2VKVR       2.0              0.0"
      ]
     },
     "execution_count": 46,
     "metadata": {},
     "output_type": "execute_result"
    }
   ],
   "source": [
    "postulantes_educ.drop(columns={'titulo_univ', 'estado'}, axis=1, inplace=True)\n",
    "postulantes_educ.sample(5)"
   ]
  },
  {
   "cell_type": "code",
   "execution_count": 47,
   "metadata": {},
   "outputs": [
    {
     "name": "stdout",
     "output_type": "stream",
     "text": [
      "<class 'pandas.core.frame.DataFrame'>\n",
      "Int64Index: 447909 entries, 393408 to 530578\n",
      "Data columns (total 3 columns):\n",
      "idpostulante       447909 non-null object\n",
      "estudios           447909 non-null float64\n",
      "esta_estudiando    447909 non-null float64\n",
      "dtypes: float64(2), object(1)\n",
      "memory usage: 13.7+ MB\n"
     ]
    }
   ],
   "source": [
    "postulantes_educ.info()"
   ]
  },
  {
   "cell_type": "markdown",
   "metadata": {},
   "source": [
    "### DF 2: Nacimiento y sexo de los postulantes"
   ]
  },
  {
   "cell_type": "markdown",
   "metadata": {},
   "source": [
    "Realizamos un merge de los 3 dataframes de nacimiento y sexo de los postulantes que nos fueron provistos, para poder trabajar de manera unificada."
   ]
  },
  {
   "cell_type": "code",
   "execution_count": 48,
   "metadata": {},
   "outputs": [
    {
     "data": {
      "text/html": [
       "<div>\n",
       "<style scoped>\n",
       "    .dataframe tbody tr th:only-of-type {\n",
       "        vertical-align: middle;\n",
       "    }\n",
       "\n",
       "    .dataframe tbody tr th {\n",
       "        vertical-align: top;\n",
       "    }\n",
       "\n",
       "    .dataframe thead th {\n",
       "        text-align: right;\n",
       "    }\n",
       "</style>\n",
       "<table border=\"1\" class=\"dataframe\">\n",
       "  <thead>\n",
       "    <tr style=\"text-align: right;\">\n",
       "      <th></th>\n",
       "      <th>idpostulante</th>\n",
       "      <th>fechanacimiento</th>\n",
       "      <th>sexo</th>\n",
       "    </tr>\n",
       "  </thead>\n",
       "  <tbody>\n",
       "    <tr>\n",
       "      <th>0</th>\n",
       "      <td>6MM</td>\n",
       "      <td>1985-01-01</td>\n",
       "      <td>MASC</td>\n",
       "    </tr>\n",
       "    <tr>\n",
       "      <th>1</th>\n",
       "      <td>Nzz</td>\n",
       "      <td>NaN</td>\n",
       "      <td>NO_DECLARA</td>\n",
       "    </tr>\n",
       "    <tr>\n",
       "      <th>2</th>\n",
       "      <td>ZX1</td>\n",
       "      <td>NaN</td>\n",
       "      <td>NO_DECLARA</td>\n",
       "    </tr>\n",
       "    <tr>\n",
       "      <th>3</th>\n",
       "      <td>Nq5</td>\n",
       "      <td>NaN</td>\n",
       "      <td>NO_DECLARA</td>\n",
       "    </tr>\n",
       "    <tr>\n",
       "      <th>4</th>\n",
       "      <td>ebE</td>\n",
       "      <td>1952-07-07</td>\n",
       "      <td>MASC</td>\n",
       "    </tr>\n",
       "  </tbody>\n",
       "</table>\n",
       "</div>"
      ],
      "text/plain": [
       "  idpostulante fechanacimiento        sexo\n",
       "0          6MM      1985-01-01        MASC\n",
       "1          Nzz             NaN  NO_DECLARA\n",
       "2          ZX1             NaN  NO_DECLARA\n",
       "3          Nq5             NaN  NO_DECLARA\n",
       "4          ebE      1952-07-07        MASC"
      ]
     },
     "execution_count": 48,
     "metadata": {},
     "output_type": "execute_result"
    }
   ],
   "source": [
    "postulantes_gen_nac = pd.read_csv('datos_navent_fiuba/h15_fiuba_2_postulantes_genero_y_edad.csv')\n",
    "postulantes_gen_nac_2 = pd.read_csv('datos_navent_fiuba/d15_fiuba_2_postulantes_genero_y_edad.csv')\n",
    "\n",
    "postulantes_gen_nac = pd.merge(postulantes_gen_nac, postulantes_gen_nac_2, how='outer')\n",
    "\n",
    "postulantes_gen_nac_2 = pd.read_csv('datos_navent_fiuba/fiuba_2_postulantes_genero_y_edad.csv')\n",
    "\n",
    "postulantes_gen_nac = pd.merge(postulantes_gen_nac, postulantes_gen_nac_2, how='outer')\n",
    "\n",
    "postulantes_gen_nac.head()"
   ]
  },
  {
   "cell_type": "code",
   "execution_count": 49,
   "metadata": {},
   "outputs": [
    {
     "name": "stdout",
     "output_type": "stream",
     "text": [
      "<class 'pandas.core.frame.DataFrame'>\n",
      "Int64Index: 505382 entries, 0 to 505381\n",
      "Data columns (total 3 columns):\n",
      "idpostulante       505382 non-null object\n",
      "fechanacimiento    478699 non-null object\n",
      "sexo               505382 non-null object\n",
      "dtypes: object(3)\n",
      "memory usage: 15.4+ MB\n"
     ]
    }
   ],
   "source": [
    "postulantes_gen_nac.info()"
   ]
  },
  {
   "cell_type": "markdown",
   "metadata": {},
   "source": [
    " "
   ]
  },
  {
   "cell_type": "markdown",
   "metadata": {},
   "source": [
    "Analizamos los posibles valores de la columna 'sexo'"
   ]
  },
  {
   "cell_type": "code",
   "execution_count": 50,
   "metadata": {},
   "outputs": [
    {
     "data": {
      "text/plain": [
       "FEM           251431\n",
       "MASC          228008\n",
       "NO_DECLARA     25936\n",
       "0.0                7\n",
       "Name: sexo, dtype: int64"
      ]
     },
     "execution_count": 50,
     "metadata": {},
     "output_type": "execute_result"
    }
   ],
   "source": [
    "postulantes_gen_nac['sexo'].value_counts()"
   ]
  },
  {
   "cell_type": "markdown",
   "metadata": {},
   "source": [
    "Descartamos los registros que figuran con 'sexo' == 0.0, ya que son una pequeñísima parte del set de datos y no brindan información consistente."
   ]
  },
  {
   "cell_type": "code",
   "execution_count": 51,
   "metadata": {},
   "outputs": [],
   "source": [
    "postulantes_gen_nac = postulantes_gen_nac[postulantes_gen_nac['sexo'] != '0.0']"
   ]
  },
  {
   "cell_type": "markdown",
   "metadata": {},
   "source": [
    "Comprobamos que efectivamente fueron eliminados esos registros"
   ]
  },
  {
   "cell_type": "code",
   "execution_count": 52,
   "metadata": {},
   "outputs": [
    {
     "data": {
      "text/plain": [
       "FEM           251431\n",
       "MASC          228008\n",
       "NO_DECLARA     25936\n",
       "Name: sexo, dtype: int64"
      ]
     },
     "execution_count": 52,
     "metadata": {},
     "output_type": "execute_result"
    }
   ],
   "source": [
    "postulantes_gen_nac['sexo'].value_counts()"
   ]
  },
  {
   "cell_type": "markdown",
   "metadata": {},
   "source": [
    "Analizamos la cantidad de IDs duplicados"
   ]
  },
  {
   "cell_type": "code",
   "execution_count": 53,
   "metadata": {},
   "outputs": [
    {
     "data": {
      "text/plain": [
       "972"
      ]
     },
     "execution_count": 53,
     "metadata": {},
     "output_type": "execute_result"
    }
   ],
   "source": [
    "IDs_duplicados = sum(postulantes_gen_nac['idpostulante'].value_counts() > 1)\n",
    "IDs_duplicados"
   ]
  },
  {
   "cell_type": "markdown",
   "metadata": {},
   "source": [
    "Ordenamos el dataframe según el sexo en forma ascendente."
   ]
  },
  {
   "cell_type": "code",
   "execution_count": 54,
   "metadata": {},
   "outputs": [],
   "source": [
    "postulantes_gen_nac = postulantes_gen_nac.sort_values('sexo', ascending=True)"
   ]
  },
  {
   "cell_type": "markdown",
   "metadata": {},
   "source": [
    "Eliminamos todos los IDs duplicados. Considerando que previamente se ordenó el dataframe por sexo y que 'NO_DECLARA' tiene un orden alfabético menor que 'FEM' y 'MASC', quedará un único ID por postulante con su información más específica de sexo.\n",
    "\n",
    "Interpretamos que la información concreta del sexo nos será relevante en posteriores análisis, por eso filtramos los IDs duplicados de esta forma."
   ]
  },
  {
   "cell_type": "code",
   "execution_count": 55,
   "metadata": {},
   "outputs": [
    {
     "data": {
      "text/html": [
       "<div>\n",
       "<style scoped>\n",
       "    .dataframe tbody tr th:only-of-type {\n",
       "        vertical-align: middle;\n",
       "    }\n",
       "\n",
       "    .dataframe tbody tr th {\n",
       "        vertical-align: top;\n",
       "    }\n",
       "\n",
       "    .dataframe thead th {\n",
       "        text-align: right;\n",
       "    }\n",
       "</style>\n",
       "<table border=\"1\" class=\"dataframe\">\n",
       "  <thead>\n",
       "    <tr style=\"text-align: right;\">\n",
       "      <th></th>\n",
       "      <th>idpostulante</th>\n",
       "      <th>fechanacimiento</th>\n",
       "      <th>sexo</th>\n",
       "    </tr>\n",
       "  </thead>\n",
       "  <tbody>\n",
       "    <tr>\n",
       "      <th>53617</th>\n",
       "      <td>ZqQqKR</td>\n",
       "      <td>1975-04-24</td>\n",
       "      <td>MASC</td>\n",
       "    </tr>\n",
       "    <tr>\n",
       "      <th>41999</th>\n",
       "      <td>5WeZYv</td>\n",
       "      <td>1989-03-09</td>\n",
       "      <td>MASC</td>\n",
       "    </tr>\n",
       "    <tr>\n",
       "      <th>428019</th>\n",
       "      <td>1pNJPL</td>\n",
       "      <td>1990-01-24</td>\n",
       "      <td>FEM</td>\n",
       "    </tr>\n",
       "    <tr>\n",
       "      <th>301886</th>\n",
       "      <td>9690k98</td>\n",
       "      <td>1989-06-01</td>\n",
       "      <td>FEM</td>\n",
       "    </tr>\n",
       "    <tr>\n",
       "      <th>198148</th>\n",
       "      <td>mz5DQj1</td>\n",
       "      <td>1971-05-19</td>\n",
       "      <td>MASC</td>\n",
       "    </tr>\n",
       "  </tbody>\n",
       "</table>\n",
       "</div>"
      ],
      "text/plain": [
       "       idpostulante fechanacimiento  sexo\n",
       "53617        ZqQqKR      1975-04-24  MASC\n",
       "41999        5WeZYv      1989-03-09  MASC\n",
       "428019       1pNJPL      1990-01-24   FEM\n",
       "301886      9690k98      1989-06-01   FEM\n",
       "198148      mz5DQj1      1971-05-19  MASC"
      ]
     },
     "execution_count": 55,
     "metadata": {},
     "output_type": "execute_result"
    }
   ],
   "source": [
    "postulantes_gen_nac = postulantes_gen_nac.drop_duplicates('idpostulante')\n",
    "postulantes_gen_nac.sample(5)"
   ]
  },
  {
   "cell_type": "markdown",
   "metadata": {},
   "source": [
    "Se transforma la columna 'fechanacimiento' en 'edad', mediante una serie de operaciones lógicas."
   ]
  },
  {
   "cell_type": "code",
   "execution_count": 56,
   "metadata": {},
   "outputs": [
    {
     "data": {
      "text/html": [
       "<div>\n",
       "<style scoped>\n",
       "    .dataframe tbody tr th:only-of-type {\n",
       "        vertical-align: middle;\n",
       "    }\n",
       "\n",
       "    .dataframe tbody tr th {\n",
       "        vertical-align: top;\n",
       "    }\n",
       "\n",
       "    .dataframe thead th {\n",
       "        text-align: right;\n",
       "    }\n",
       "</style>\n",
       "<table border=\"1\" class=\"dataframe\">\n",
       "  <thead>\n",
       "    <tr style=\"text-align: right;\">\n",
       "      <th></th>\n",
       "      <th>idpostulante</th>\n",
       "      <th>edad</th>\n",
       "      <th>sexo</th>\n",
       "    </tr>\n",
       "  </thead>\n",
       "  <tbody>\n",
       "    <tr>\n",
       "      <th>364026</th>\n",
       "      <td>MVr5Zwo</td>\n",
       "      <td>46</td>\n",
       "      <td>FEM</td>\n",
       "    </tr>\n",
       "    <tr>\n",
       "      <th>344521</th>\n",
       "      <td>qe2M5K1</td>\n",
       "      <td>27</td>\n",
       "      <td>FEM</td>\n",
       "    </tr>\n",
       "    <tr>\n",
       "      <th>171442</th>\n",
       "      <td>QNP833o</td>\n",
       "      <td>41</td>\n",
       "      <td>FEM</td>\n",
       "    </tr>\n",
       "    <tr>\n",
       "      <th>397358</th>\n",
       "      <td>ZDrJOAb</td>\n",
       "      <td>23</td>\n",
       "      <td>FEM</td>\n",
       "    </tr>\n",
       "    <tr>\n",
       "      <th>337745</th>\n",
       "      <td>6AXMrl</td>\n",
       "      <td>39</td>\n",
       "      <td>MASC</td>\n",
       "    </tr>\n",
       "  </tbody>\n",
       "</table>\n",
       "</div>"
      ],
      "text/plain": [
       "       idpostulante  edad  sexo\n",
       "364026      MVr5Zwo    46   FEM\n",
       "344521      qe2M5K1    27   FEM\n",
       "171442      QNP833o    41   FEM\n",
       "397358      ZDrJOAb    23   FEM\n",
       "337745       6AXMrl    39  MASC"
      ]
     },
     "execution_count": 56,
     "metadata": {},
     "output_type": "execute_result"
    }
   ],
   "source": [
    "# Renombramos la columna por algo más apropiado\n",
    "postulantes_gen_nac = postulantes_gen_nac.rename(columns={'fechanacimiento': 'edad'})\n",
    "\n",
    "# Obtenemos el año de nacimiento\n",
    "fecha_nac = postulantes_gen_nac['edad'].str.split('-')\n",
    "año_nac = fecha_nac.str[0]\n",
    "postulantes_gen_nac['edad'] = año_nac\n",
    "postulantes_gen_nac['edad'] = pd.to_numeric(postulantes_gen_nac['edad'], errors='coerce').fillna(0).astype(np.int64)\n",
    "\n",
    "# Filtramos edades inválidas\n",
    "edad_min = postulantes_gen_nac['edad'] > 2000\n",
    "edad_max = postulantes_gen_nac['edad'] < 1950\n",
    "condicion_final = ((edad_min | edad_max))\n",
    "postulantes_gen_nac = postulantes_gen_nac[np.logical_not(condicion_final)]\n",
    "\n",
    "# Obtenemos la edad real según el año actual\n",
    "postulantes_gen_nac['edad'] = postulantes_gen_nac['edad'].apply(lambda x: 2018-x)\n",
    "\n",
    "postulantes_gen_nac.sample(5)"
   ]
  },
  {
   "cell_type": "markdown",
   "metadata": {},
   "source": [
    " "
   ]
  },
  {
   "cell_type": "markdown",
   "metadata": {},
   "source": [
    "Creamos la columna rango_edad para minimizar la cantidad de valores posibles correspondientes a la edad del postulante.\n",
    "\n",
    "Rangos:\n",
    "- 18-25\n",
    "- 26-30\n",
    "- 31-40\n",
    "- 41-68"
   ]
  },
  {
   "cell_type": "code",
   "execution_count": 57,
   "metadata": {},
   "outputs": [
    {
     "data": {
      "text/html": [
       "<div>\n",
       "<style scoped>\n",
       "    .dataframe tbody tr th:only-of-type {\n",
       "        vertical-align: middle;\n",
       "    }\n",
       "\n",
       "    .dataframe tbody tr th {\n",
       "        vertical-align: top;\n",
       "    }\n",
       "\n",
       "    .dataframe thead th {\n",
       "        text-align: right;\n",
       "    }\n",
       "</style>\n",
       "<table border=\"1\" class=\"dataframe\">\n",
       "  <thead>\n",
       "    <tr style=\"text-align: right;\">\n",
       "      <th></th>\n",
       "      <th>idpostulante</th>\n",
       "      <th>edad</th>\n",
       "      <th>sexo</th>\n",
       "      <th>rango_edad</th>\n",
       "    </tr>\n",
       "  </thead>\n",
       "  <tbody>\n",
       "    <tr>\n",
       "      <th>419368</th>\n",
       "      <td>0zPRxa8</td>\n",
       "      <td>26</td>\n",
       "      <td>MASC</td>\n",
       "      <td>2.0</td>\n",
       "    </tr>\n",
       "    <tr>\n",
       "      <th>438889</th>\n",
       "      <td>Ezp2wzJ</td>\n",
       "      <td>40</td>\n",
       "      <td>FEM</td>\n",
       "      <td>3.0</td>\n",
       "    </tr>\n",
       "    <tr>\n",
       "      <th>400313</th>\n",
       "      <td>LNKOYRw</td>\n",
       "      <td>27</td>\n",
       "      <td>FEM</td>\n",
       "      <td>2.0</td>\n",
       "    </tr>\n",
       "    <tr>\n",
       "      <th>3017</th>\n",
       "      <td>N6rvl</td>\n",
       "      <td>48</td>\n",
       "      <td>MASC</td>\n",
       "      <td>4.0</td>\n",
       "    </tr>\n",
       "    <tr>\n",
       "      <th>121703</th>\n",
       "      <td>jkVL5Rr</td>\n",
       "      <td>40</td>\n",
       "      <td>MASC</td>\n",
       "      <td>3.0</td>\n",
       "    </tr>\n",
       "  </tbody>\n",
       "</table>\n",
       "</div>"
      ],
      "text/plain": [
       "       idpostulante  edad  sexo  rango_edad\n",
       "419368      0zPRxa8    26  MASC         2.0\n",
       "438889      Ezp2wzJ    40   FEM         3.0\n",
       "400313      LNKOYRw    27   FEM         2.0\n",
       "3017          N6rvl    48  MASC         4.0\n",
       "121703      jkVL5Rr    40  MASC         3.0"
      ]
     },
     "execution_count": 57,
     "metadata": {},
     "output_type": "execute_result"
    }
   ],
   "source": [
    "rango_18_25 = (postulantes_gen_nac['edad'] >= 18) & (postulantes_gen_nac['edad'] <= 25)\n",
    "rango_26_30 = (postulantes_gen_nac['edad'] >= 26) & (postulantes_gen_nac['edad'] <= 30)\n",
    "rango_31_40 = (postulantes_gen_nac['edad'] >= 31) & (postulantes_gen_nac['edad'] <= 40)\n",
    "rango_41_68 = (postulantes_gen_nac['edad'] >= 41) & (postulantes_gen_nac['edad'] <= 68)\n",
    "\n",
    "postulantes_gen_nac.loc[(rango_18_25), 'rango_edad'] = 1\n",
    "postulantes_gen_nac.loc[(rango_26_30), 'rango_edad'] = 2\n",
    "postulantes_gen_nac.loc[(rango_31_40), 'rango_edad'] = 3\n",
    "postulantes_gen_nac.loc[(rango_41_68), 'rango_edad'] = 4\n",
    "\n",
    "postulantes_gen_nac.sample(5)"
   ]
  },
  {
   "cell_type": "markdown",
   "metadata": {},
   "source": [
    "Eliminamos la columna edad. Consideramos que la información importante se encuentra contenida en el rango edad."
   ]
  },
  {
   "cell_type": "code",
   "execution_count": 58,
   "metadata": {},
   "outputs": [
    {
     "data": {
      "text/html": [
       "<div>\n",
       "<style scoped>\n",
       "    .dataframe tbody tr th:only-of-type {\n",
       "        vertical-align: middle;\n",
       "    }\n",
       "\n",
       "    .dataframe tbody tr th {\n",
       "        vertical-align: top;\n",
       "    }\n",
       "\n",
       "    .dataframe thead th {\n",
       "        text-align: right;\n",
       "    }\n",
       "</style>\n",
       "<table border=\"1\" class=\"dataframe\">\n",
       "  <thead>\n",
       "    <tr style=\"text-align: right;\">\n",
       "      <th></th>\n",
       "      <th>idpostulante</th>\n",
       "      <th>sexo</th>\n",
       "      <th>rango_edad</th>\n",
       "    </tr>\n",
       "  </thead>\n",
       "  <tbody>\n",
       "    <tr>\n",
       "      <th>173767</th>\n",
       "      <td>VNPAdYd</td>\n",
       "      <td>FEM</td>\n",
       "      <td>1.0</td>\n",
       "    </tr>\n",
       "    <tr>\n",
       "      <th>8372</th>\n",
       "      <td>NMwYYz</td>\n",
       "      <td>FEM</td>\n",
       "      <td>4.0</td>\n",
       "    </tr>\n",
       "    <tr>\n",
       "      <th>490534</th>\n",
       "      <td>akj1llq</td>\n",
       "      <td>FEM</td>\n",
       "      <td>2.0</td>\n",
       "    </tr>\n",
       "    <tr>\n",
       "      <th>331254</th>\n",
       "      <td>MV62wO3</td>\n",
       "      <td>FEM</td>\n",
       "      <td>1.0</td>\n",
       "    </tr>\n",
       "    <tr>\n",
       "      <th>59740</th>\n",
       "      <td>13QjZ3</td>\n",
       "      <td>MASC</td>\n",
       "      <td>2.0</td>\n",
       "    </tr>\n",
       "  </tbody>\n",
       "</table>\n",
       "</div>"
      ],
      "text/plain": [
       "       idpostulante  sexo  rango_edad\n",
       "173767      VNPAdYd   FEM         1.0\n",
       "8372         NMwYYz   FEM         4.0\n",
       "490534      akj1llq   FEM         2.0\n",
       "331254      MV62wO3   FEM         1.0\n",
       "59740        13QjZ3  MASC         2.0"
      ]
     },
     "execution_count": 58,
     "metadata": {},
     "output_type": "execute_result"
    }
   ],
   "source": [
    "postulantes_gen_nac.drop(columns={'edad'}, axis=1, inplace=True)\n",
    "postulantes_gen_nac.sample(5)"
   ]
  },
  {
   "cell_type": "code",
   "execution_count": 59,
   "metadata": {},
   "outputs": [
    {
     "name": "stdout",
     "output_type": "stream",
     "text": [
      "<class 'pandas.core.frame.DataFrame'>\n",
      "Int64Index: 478001 entries, 165770 to 147639\n",
      "Data columns (total 3 columns):\n",
      "idpostulante    478001 non-null object\n",
      "sexo            478001 non-null object\n",
      "rango_edad      478001 non-null float64\n",
      "dtypes: float64(1), object(2)\n",
      "memory usage: 14.6+ MB\n"
     ]
    }
   ],
   "source": [
    "postulantes_gen_nac.info()"
   ]
  },
  {
   "cell_type": "markdown",
   "metadata": {},
   "source": [
    " "
   ]
  },
  {
   "cell_type": "markdown",
   "metadata": {},
   "source": [
    "### Merge de los DF 1 y 2"
   ]
  },
  {
   "cell_type": "markdown",
   "metadata": {},
   "source": [
    "Se realiza un merge de los dos dataframes con información correspondiente a los postulantes"
   ]
  },
  {
   "cell_type": "code",
   "execution_count": 60,
   "metadata": {},
   "outputs": [
    {
     "data": {
      "text/html": [
       "<div>\n",
       "<style scoped>\n",
       "    .dataframe tbody tr th:only-of-type {\n",
       "        vertical-align: middle;\n",
       "    }\n",
       "\n",
       "    .dataframe tbody tr th {\n",
       "        vertical-align: top;\n",
       "    }\n",
       "\n",
       "    .dataframe thead th {\n",
       "        text-align: right;\n",
       "    }\n",
       "</style>\n",
       "<table border=\"1\" class=\"dataframe\">\n",
       "  <thead>\n",
       "    <tr style=\"text-align: right;\">\n",
       "      <th></th>\n",
       "      <th>idpostulante</th>\n",
       "      <th>estudios</th>\n",
       "      <th>esta_estudiando</th>\n",
       "      <th>sexo</th>\n",
       "      <th>rango_edad</th>\n",
       "    </tr>\n",
       "  </thead>\n",
       "  <tbody>\n",
       "    <tr>\n",
       "      <th>0</th>\n",
       "      <td>a0XaWD</td>\n",
       "      <td>7.0</td>\n",
       "      <td>0.0</td>\n",
       "      <td>MASC</td>\n",
       "      <td>4.0</td>\n",
       "    </tr>\n",
       "    <tr>\n",
       "      <th>1</th>\n",
       "      <td>4reGo5z</td>\n",
       "      <td>7.0</td>\n",
       "      <td>0.0</td>\n",
       "      <td>FEM</td>\n",
       "      <td>2.0</td>\n",
       "    </tr>\n",
       "    <tr>\n",
       "      <th>2</th>\n",
       "      <td>X9lpKkb</td>\n",
       "      <td>7.0</td>\n",
       "      <td>0.0</td>\n",
       "      <td>MASC</td>\n",
       "      <td>4.0</td>\n",
       "    </tr>\n",
       "    <tr>\n",
       "      <th>3</th>\n",
       "      <td>RzMXJ4E</td>\n",
       "      <td>7.0</td>\n",
       "      <td>0.0</td>\n",
       "      <td>FEM</td>\n",
       "      <td>4.0</td>\n",
       "    </tr>\n",
       "    <tr>\n",
       "      <th>4</th>\n",
       "      <td>akOA6b9</td>\n",
       "      <td>7.0</td>\n",
       "      <td>0.0</td>\n",
       "      <td>MASC</td>\n",
       "      <td>4.0</td>\n",
       "    </tr>\n",
       "  </tbody>\n",
       "</table>\n",
       "</div>"
      ],
      "text/plain": [
       "  idpostulante  estudios  esta_estudiando  sexo  rango_edad\n",
       "0       a0XaWD       7.0              0.0  MASC         4.0\n",
       "1      4reGo5z       7.0              0.0   FEM         2.0\n",
       "2      X9lpKkb       7.0              0.0  MASC         4.0\n",
       "3      RzMXJ4E       7.0              0.0   FEM         4.0\n",
       "4      akOA6b9       7.0              0.0  MASC         4.0"
      ]
     },
     "execution_count": 60,
     "metadata": {},
     "output_type": "execute_result"
    }
   ],
   "source": [
    "postulantes = pd.merge(postulantes_educ, postulantes_gen_nac, on='idpostulante', how='inner')\n",
    "\n",
    "postulantes.head()"
   ]
  },
  {
   "cell_type": "markdown",
   "metadata": {},
   "source": [
    "Pasamos a valor numérico el sexo de los postulantes.\n",
    "\n",
    "- FEM = 1\n",
    "- MASC = 2"
   ]
  },
  {
   "cell_type": "code",
   "execution_count": 61,
   "metadata": {},
   "outputs": [
    {
     "data": {
      "text/html": [
       "<div>\n",
       "<style scoped>\n",
       "    .dataframe tbody tr th:only-of-type {\n",
       "        vertical-align: middle;\n",
       "    }\n",
       "\n",
       "    .dataframe tbody tr th {\n",
       "        vertical-align: top;\n",
       "    }\n",
       "\n",
       "    .dataframe thead th {\n",
       "        text-align: right;\n",
       "    }\n",
       "</style>\n",
       "<table border=\"1\" class=\"dataframe\">\n",
       "  <thead>\n",
       "    <tr style=\"text-align: right;\">\n",
       "      <th></th>\n",
       "      <th>idpostulante</th>\n",
       "      <th>estudios</th>\n",
       "      <th>esta_estudiando</th>\n",
       "      <th>sexo</th>\n",
       "      <th>rango_edad</th>\n",
       "    </tr>\n",
       "  </thead>\n",
       "  <tbody>\n",
       "    <tr>\n",
       "      <th>226043</th>\n",
       "      <td>vV9wZzE</td>\n",
       "      <td>4.0</td>\n",
       "      <td>1.0</td>\n",
       "      <td>2</td>\n",
       "      <td>1.0</td>\n",
       "    </tr>\n",
       "    <tr>\n",
       "      <th>297359</th>\n",
       "      <td>YkOWKV</td>\n",
       "      <td>2.0</td>\n",
       "      <td>0.0</td>\n",
       "      <td>1</td>\n",
       "      <td>3.0</td>\n",
       "    </tr>\n",
       "    <tr>\n",
       "      <th>273654</th>\n",
       "      <td>W9Vv0AN</td>\n",
       "      <td>3.0</td>\n",
       "      <td>1.0</td>\n",
       "      <td>1</td>\n",
       "      <td>1.0</td>\n",
       "    </tr>\n",
       "    <tr>\n",
       "      <th>231198</th>\n",
       "      <td>8MZ0mBD</td>\n",
       "      <td>4.0</td>\n",
       "      <td>0.0</td>\n",
       "      <td>2</td>\n",
       "      <td>3.0</td>\n",
       "    </tr>\n",
       "    <tr>\n",
       "      <th>401691</th>\n",
       "      <td>X95eowL</td>\n",
       "      <td>2.0</td>\n",
       "      <td>0.0</td>\n",
       "      <td>2</td>\n",
       "      <td>2.0</td>\n",
       "    </tr>\n",
       "  </tbody>\n",
       "</table>\n",
       "</div>"
      ],
      "text/plain": [
       "       idpostulante  estudios  esta_estudiando sexo  rango_edad\n",
       "226043      vV9wZzE       4.0              1.0    2         1.0\n",
       "297359       YkOWKV       2.0              0.0    1         3.0\n",
       "273654      W9Vv0AN       3.0              1.0    1         1.0\n",
       "231198      8MZ0mBD       4.0              0.0    2         3.0\n",
       "401691      X95eowL       2.0              0.0    2         2.0"
      ]
     },
     "execution_count": 61,
     "metadata": {},
     "output_type": "execute_result"
    }
   ],
   "source": [
    "postulantes.loc[(postulantes['sexo'] == 'FEM'),'sexo'] = 1\n",
    "\n",
    "postulantes.loc[(postulantes['sexo'] == 'MASC'),'sexo'] = 2\n",
    "\n",
    "postulantes.sample(5)"
   ]
  },
  {
   "cell_type": "markdown",
   "metadata": {},
   "source": [
    "### DF 3: Vistas de los avisos"
   ]
  },
  {
   "cell_type": "markdown",
   "metadata": {},
   "source": [
    "Realizamos un merge de los 3 dataframes de vistas de los postulantes a los anuncios que nos fueron provistos, para poder trabajar de manera unificada."
   ]
  },
  {
   "cell_type": "code",
   "execution_count": 28,
   "metadata": {},
   "outputs": [
    {
     "data": {
      "text/html": [
       "<div>\n",
       "<style scoped>\n",
       "    .dataframe tbody tr th:only-of-type {\n",
       "        vertical-align: middle;\n",
       "    }\n",
       "\n",
       "    .dataframe tbody tr th {\n",
       "        vertical-align: top;\n",
       "    }\n",
       "\n",
       "    .dataframe thead th {\n",
       "        text-align: right;\n",
       "    }\n",
       "</style>\n",
       "<table border=\"1\" class=\"dataframe\">\n",
       "  <thead>\n",
       "    <tr style=\"text-align: right;\">\n",
       "      <th></th>\n",
       "      <th>idaviso</th>\n",
       "      <th>fechavista</th>\n",
       "      <th>idpostulante</th>\n",
       "    </tr>\n",
       "  </thead>\n",
       "  <tbody>\n",
       "    <tr>\n",
       "      <th>14008327</th>\n",
       "      <td>1112437243</td>\n",
       "      <td>2018-04-05T22:55:59.136-0400</td>\n",
       "      <td>6r2604L</td>\n",
       "    </tr>\n",
       "    <tr>\n",
       "      <th>1612034</th>\n",
       "      <td>1807328</td>\n",
       "      <td>2018-04-23T13:28:39.510-0400</td>\n",
       "      <td>Pd0o1E</td>\n",
       "    </tr>\n",
       "    <tr>\n",
       "      <th>7380654</th>\n",
       "      <td>1802441</td>\n",
       "      <td>2018-04-21T21:04:59.724-0400</td>\n",
       "      <td>aRQGW</td>\n",
       "    </tr>\n",
       "    <tr>\n",
       "      <th>15765328</th>\n",
       "      <td>1111753681</td>\n",
       "      <td>2018-04-06T18:30:01.406-0400</td>\n",
       "      <td>vVjkqW5</td>\n",
       "    </tr>\n",
       "    <tr>\n",
       "      <th>15859696</th>\n",
       "      <td>1112442622</td>\n",
       "      <td>2018-04-10T15:07:37.973-0400</td>\n",
       "      <td>pzYvlzm</td>\n",
       "    </tr>\n",
       "  </tbody>\n",
       "</table>\n",
       "</div>"
      ],
      "text/plain": [
       "             idaviso                    fechavista idpostulante\n",
       "14008327  1112437243  2018-04-05T22:55:59.136-0400      6r2604L\n",
       "1612034      1807328  2018-04-23T13:28:39.510-0400       Pd0o1E\n",
       "7380654      1802441  2018-04-21T21:04:59.724-0400        aRQGW\n",
       "15765328  1111753681  2018-04-06T18:30:01.406-0400      vVjkqW5\n",
       "15859696  1112442622  2018-04-10T15:07:37.973-0400      pzYvlzm"
      ]
     },
     "execution_count": 28,
     "metadata": {},
     "output_type": "execute_result"
    }
   ],
   "source": [
    "vistas = pd.read_csv('datos_navent_fiuba/fiuba_3_vistas.csv')\n",
    "vistas_2 = pd.read_csv('datos_navent_fiuba/d15_fiuba_3_vistas.csv')\n",
    "\n",
    "vistas = pd.merge(vistas, vistas_2, how='outer')\n",
    "\n",
    "vistas_2 = pd.read_csv('datos_navent_fiuba/h15_fiuba_3_vistas.csv')\n",
    "\n",
    "vistas = pd.merge(vistas, vistas_2, how='outer')\n",
    "\n",
    "# Renombramos algunas columnas por algo más apropiado\n",
    "vistas.rename(columns={'idAviso':'idaviso'}, inplace=True)\n",
    "vistas.rename(columns={'timestamp':'fechavista'}, inplace=True)\n",
    "\n",
    "vistas.sample(5)"
   ]
  },
  {
   "cell_type": "code",
   "execution_count": 29,
   "metadata": {},
   "outputs": [
    {
     "name": "stdout",
     "output_type": "stream",
     "text": [
      "<class 'pandas.core.frame.DataFrame'>\n",
      "Int64Index: 18024382 entries, 0 to 18024381\n",
      "Data columns (total 3 columns):\n",
      "idaviso         int64\n",
      "fechavista      object\n",
      "idpostulante    object\n",
      "dtypes: int64(1), object(2)\n",
      "memory usage: 550.1+ MB\n"
     ]
    }
   ],
   "source": [
    "vistas.info()"
   ]
  },
  {
   "cell_type": "markdown",
   "metadata": {},
   "source": [
    "Eliminamos los registros en los cuales un mismo idpostulante visitó un mismo aviso en el mismo día. Esto es para\n",
    "evitar usuarios que actualizaron muchas veces la página y casos similares.\n",
    "\n",
    "Para realizar esto, previamente cambiamos el formato de la fecha."
   ]
  },
  {
   "cell_type": "code",
   "execution_count": 30,
   "metadata": {},
   "outputs": [
    {
     "data": {
      "text/html": [
       "<div>\n",
       "<style scoped>\n",
       "    .dataframe tbody tr th:only-of-type {\n",
       "        vertical-align: middle;\n",
       "    }\n",
       "\n",
       "    .dataframe tbody tr th {\n",
       "        vertical-align: top;\n",
       "    }\n",
       "\n",
       "    .dataframe thead th {\n",
       "        text-align: right;\n",
       "    }\n",
       "</style>\n",
       "<table border=\"1\" class=\"dataframe\">\n",
       "  <thead>\n",
       "    <tr style=\"text-align: right;\">\n",
       "      <th></th>\n",
       "      <th>idaviso</th>\n",
       "      <th>fechavista</th>\n",
       "      <th>idpostulante</th>\n",
       "    </tr>\n",
       "  </thead>\n",
       "  <tbody>\n",
       "    <tr>\n",
       "      <th>0</th>\n",
       "      <td>1111780242</td>\n",
       "      <td>2018-02-23</td>\n",
       "      <td>YjVJQ6Z</td>\n",
       "    </tr>\n",
       "    <tr>\n",
       "      <th>1</th>\n",
       "      <td>1112263876</td>\n",
       "      <td>2018-02-23</td>\n",
       "      <td>BmVpYoR</td>\n",
       "    </tr>\n",
       "    <tr>\n",
       "      <th>2</th>\n",
       "      <td>1112327963</td>\n",
       "      <td>2018-02-23</td>\n",
       "      <td>wVkBzZd</td>\n",
       "    </tr>\n",
       "    <tr>\n",
       "      <th>3</th>\n",
       "      <td>1112318643</td>\n",
       "      <td>2018-02-23</td>\n",
       "      <td>OqmP9pv</td>\n",
       "    </tr>\n",
       "    <tr>\n",
       "      <th>4</th>\n",
       "      <td>1111903673</td>\n",
       "      <td>2018-02-23</td>\n",
       "      <td>DrpbXDP</td>\n",
       "    </tr>\n",
       "  </tbody>\n",
       "</table>\n",
       "</div>"
      ],
      "text/plain": [
       "      idaviso  fechavista idpostulante\n",
       "0  1111780242  2018-02-23      YjVJQ6Z\n",
       "1  1112263876  2018-02-23      BmVpYoR\n",
       "2  1112327963  2018-02-23      wVkBzZd\n",
       "3  1112318643  2018-02-23      OqmP9pv\n",
       "4  1111903673  2018-02-23      DrpbXDP"
      ]
     },
     "execution_count": 30,
     "metadata": {},
     "output_type": "execute_result"
    }
   ],
   "source": [
    "# Modificamos el formato de la fecha vista\n",
    "lista = vistas['fechavista'].str.split(\"T\")\n",
    "fecha = lista.str[0]\n",
    "vistas['fechavista'] = fecha\n",
    "\n",
    "# Eliminamos los registros arriba mencionados\n",
    "vistas = vistas.drop_duplicates(['idaviso', 'fechavista', 'idpostulante'])\n",
    "vistas.head()"
   ]
  },
  {
   "cell_type": "markdown",
   "metadata": {},
   "source": [
    "Ordenamos el dataframe según la 'fechavista' en forma descendente, para tener las fechas más actuales en primer lugar. De esta forma, al generar la columna cant_vistas, nos quedaremos con la última vista del postulante al aviso."
   ]
  },
  {
   "cell_type": "code",
   "execution_count": 31,
   "metadata": {},
   "outputs": [],
   "source": [
    "vistas = vistas.sort_values('fechavista', ascending=False)"
   ]
  },
  {
   "cell_type": "markdown",
   "metadata": {},
   "source": [
    "Agrupamos por (idaviso, idpostulante) para quedarnos con un único registro por cada par y agregamos la columna cant_vistas, la cual determina cuántas veces un postulante vio un determinado aviso.\n",
    "\n",
    "El registro que quedará será el más actual, según lo explicado arriba. Como ya tenemos la información que consideramos relevante en la columna 'cant_vistas', nos desentendemos de la columna 'fechavista', que creemos que no aportará información de peso para los algoritmos de Machine Learning."
   ]
  },
  {
   "cell_type": "code",
   "execution_count": 32,
   "metadata": {},
   "outputs": [
    {
     "data": {
      "text/html": [
       "<div>\n",
       "<style scoped>\n",
       "    .dataframe tbody tr th:only-of-type {\n",
       "        vertical-align: middle;\n",
       "    }\n",
       "\n",
       "    .dataframe tbody tr th {\n",
       "        vertical-align: top;\n",
       "    }\n",
       "\n",
       "    .dataframe thead th {\n",
       "        text-align: right;\n",
       "    }\n",
       "</style>\n",
       "<table border=\"1\" class=\"dataframe\">\n",
       "  <thead>\n",
       "    <tr style=\"text-align: right;\">\n",
       "      <th></th>\n",
       "      <th>idaviso</th>\n",
       "      <th>idpostulante</th>\n",
       "      <th>cant_vistas</th>\n",
       "    </tr>\n",
       "  </thead>\n",
       "  <tbody>\n",
       "    <tr>\n",
       "      <th>472618</th>\n",
       "      <td>1804444</td>\n",
       "      <td>q3RoRN</td>\n",
       "      <td>2</td>\n",
       "    </tr>\n",
       "    <tr>\n",
       "      <th>6815052</th>\n",
       "      <td>1112460700</td>\n",
       "      <td>zv8AoZ8</td>\n",
       "      <td>1</td>\n",
       "    </tr>\n",
       "    <tr>\n",
       "      <th>3295885</th>\n",
       "      <td>1112325077</td>\n",
       "      <td>KBrl40Y</td>\n",
       "      <td>1</td>\n",
       "    </tr>\n",
       "    <tr>\n",
       "      <th>587155</th>\n",
       "      <td>1805039</td>\n",
       "      <td>8mQjz</td>\n",
       "      <td>1</td>\n",
       "    </tr>\n",
       "    <tr>\n",
       "      <th>4260240</th>\n",
       "      <td>1112400113</td>\n",
       "      <td>Ezpo9o6</td>\n",
       "      <td>1</td>\n",
       "    </tr>\n",
       "  </tbody>\n",
       "</table>\n",
       "</div>"
      ],
      "text/plain": [
       "            idaviso idpostulante  cant_vistas\n",
       "472618      1804444       q3RoRN            2\n",
       "6815052  1112460700      zv8AoZ8            1\n",
       "3295885  1112325077      KBrl40Y            1\n",
       "587155      1805039        8mQjz            1\n",
       "4260240  1112400113      Ezpo9o6            1"
      ]
     },
     "execution_count": 32,
     "metadata": {},
     "output_type": "execute_result"
    }
   ],
   "source": [
    "vistas = vistas.groupby(['idaviso','idpostulante']).size().to_frame('cant_vistas').reset_index()\n",
    "vistas.sample(5)"
   ]
  },
  {
   "cell_type": "code",
   "execution_count": 33,
   "metadata": {},
   "outputs": [
    {
     "name": "stdout",
     "output_type": "stream",
     "text": [
      "<class 'pandas.core.frame.DataFrame'>\n",
      "RangeIndex: 8597915 entries, 0 to 8597914\n",
      "Data columns (total 3 columns):\n",
      "idaviso         int64\n",
      "idpostulante    object\n",
      "cant_vistas     int64\n",
      "dtypes: int64(2), object(1)\n",
      "memory usage: 196.8+ MB\n"
     ]
    }
   ],
   "source": [
    "vistas.info()"
   ]
  },
  {
   "cell_type": "markdown",
   "metadata": {},
   "source": [
    " "
   ]
  },
  {
   "cell_type": "markdown",
   "metadata": {},
   "source": [
    "### DF 4: Postulaciones a los avisos"
   ]
  },
  {
   "cell_type": "markdown",
   "metadata": {},
   "source": [
    "Realizamos un merge de los 2 dataframes de postulaciones a los anuncios que nos fueron provistos, para poder trabajar de manera unificada."
   ]
  },
  {
   "cell_type": "code",
   "execution_count": 62,
   "metadata": {},
   "outputs": [
    {
     "data": {
      "text/html": [
       "<div>\n",
       "<style scoped>\n",
       "    .dataframe tbody tr th:only-of-type {\n",
       "        vertical-align: middle;\n",
       "    }\n",
       "\n",
       "    .dataframe tbody tr th {\n",
       "        vertical-align: top;\n",
       "    }\n",
       "\n",
       "    .dataframe thead th {\n",
       "        text-align: right;\n",
       "    }\n",
       "</style>\n",
       "<table border=\"1\" class=\"dataframe\">\n",
       "  <thead>\n",
       "    <tr style=\"text-align: right;\">\n",
       "      <th></th>\n",
       "      <th>idaviso</th>\n",
       "      <th>idpostulante</th>\n",
       "      <th>fechapostulacion</th>\n",
       "    </tr>\n",
       "  </thead>\n",
       "  <tbody>\n",
       "    <tr>\n",
       "      <th>0</th>\n",
       "      <td>1112257047</td>\n",
       "      <td>NM5M</td>\n",
       "      <td>2018-01-15 16:22:34</td>\n",
       "    </tr>\n",
       "    <tr>\n",
       "      <th>1</th>\n",
       "      <td>1111920714</td>\n",
       "      <td>NM5M</td>\n",
       "      <td>2018-02-06 09:04:50</td>\n",
       "    </tr>\n",
       "    <tr>\n",
       "      <th>2</th>\n",
       "      <td>1112346945</td>\n",
       "      <td>NM5M</td>\n",
       "      <td>2018-02-22 09:04:47</td>\n",
       "    </tr>\n",
       "    <tr>\n",
       "      <th>3</th>\n",
       "      <td>1112345547</td>\n",
       "      <td>NM5M</td>\n",
       "      <td>2018-02-22 09:04:59</td>\n",
       "    </tr>\n",
       "    <tr>\n",
       "      <th>4</th>\n",
       "      <td>1112237522</td>\n",
       "      <td>5awk</td>\n",
       "      <td>2018-01-25 18:55:03</td>\n",
       "    </tr>\n",
       "  </tbody>\n",
       "</table>\n",
       "</div>"
      ],
      "text/plain": [
       "      idaviso idpostulante     fechapostulacion\n",
       "0  1112257047         NM5M  2018-01-15 16:22:34\n",
       "1  1111920714         NM5M  2018-02-06 09:04:50\n",
       "2  1112346945         NM5M  2018-02-22 09:04:47\n",
       "3  1112345547         NM5M  2018-02-22 09:04:59\n",
       "4  1112237522         5awk  2018-01-25 18:55:03"
      ]
     },
     "execution_count": 62,
     "metadata": {},
     "output_type": "execute_result"
    }
   ],
   "source": [
    "postulaciones = pd.read_csv('datos_navent_fiuba/fiuba_4_postulaciones.csv')\n",
    "postulaciones_2 = pd.read_csv('datos_navent_fiuba/h15_fiuba_4_postulaciones.csv')\n",
    "\n",
    "postulaciones = pd.merge(postulaciones, postulaciones_2, how='outer')\n",
    "\n",
    "postulaciones.head()"
   ]
  },
  {
   "cell_type": "code",
   "execution_count": 63,
   "metadata": {},
   "outputs": [
    {
     "name": "stdout",
     "output_type": "stream",
     "text": [
      "<class 'pandas.core.frame.DataFrame'>\n",
      "Int64Index: 6604534 entries, 0 to 6604533\n",
      "Data columns (total 3 columns):\n",
      "idaviso             int64\n",
      "idpostulante        object\n",
      "fechapostulacion    object\n",
      "dtypes: int64(1), object(2)\n",
      "memory usage: 201.6+ MB\n"
     ]
    }
   ],
   "source": [
    "postulaciones.info()"
   ]
  },
  {
   "cell_type": "markdown",
   "metadata": {},
   "source": [
    " "
   ]
  },
  {
   "cell_type": "markdown",
   "metadata": {},
   "source": [
    "### Merge de los DF 3 y 4"
   ]
  },
  {
   "cell_type": "markdown",
   "metadata": {},
   "source": [
    "Se realiza un merge de los dos dataframes con información correspondiente a las vistas y postulaciones a los anuncios por parte de los postulantes."
   ]
  },
  {
   "cell_type": "code",
   "execution_count": 64,
   "metadata": {},
   "outputs": [
    {
     "data": {
      "text/html": [
       "<div>\n",
       "<style scoped>\n",
       "    .dataframe tbody tr th:only-of-type {\n",
       "        vertical-align: middle;\n",
       "    }\n",
       "\n",
       "    .dataframe tbody tr th {\n",
       "        vertical-align: top;\n",
       "    }\n",
       "\n",
       "    .dataframe thead th {\n",
       "        text-align: right;\n",
       "    }\n",
       "</style>\n",
       "<table border=\"1\" class=\"dataframe\">\n",
       "  <thead>\n",
       "    <tr style=\"text-align: right;\">\n",
       "      <th></th>\n",
       "      <th>idaviso</th>\n",
       "      <th>idpostulante</th>\n",
       "      <th>cant_vistas</th>\n",
       "      <th>fechapostulacion</th>\n",
       "    </tr>\n",
       "  </thead>\n",
       "  <tbody>\n",
       "    <tr>\n",
       "      <th>0</th>\n",
       "      <td>18</td>\n",
       "      <td>BolNL</td>\n",
       "      <td>1.0</td>\n",
       "      <td>NaN</td>\n",
       "    </tr>\n",
       "    <tr>\n",
       "      <th>1</th>\n",
       "      <td>48375</td>\n",
       "      <td>RwVdKR</td>\n",
       "      <td>1.0</td>\n",
       "      <td>NaN</td>\n",
       "    </tr>\n",
       "    <tr>\n",
       "      <th>2</th>\n",
       "      <td>169730</td>\n",
       "      <td>1KjXB</td>\n",
       "      <td>1.0</td>\n",
       "      <td>NaN</td>\n",
       "    </tr>\n",
       "    <tr>\n",
       "      <th>3</th>\n",
       "      <td>169730</td>\n",
       "      <td>2AKzxa</td>\n",
       "      <td>1.0</td>\n",
       "      <td>NaN</td>\n",
       "    </tr>\n",
       "    <tr>\n",
       "      <th>4</th>\n",
       "      <td>169730</td>\n",
       "      <td>6LJ64</td>\n",
       "      <td>1.0</td>\n",
       "      <td>NaN</td>\n",
       "    </tr>\n",
       "  </tbody>\n",
       "</table>\n",
       "</div>"
      ],
      "text/plain": [
       "   idaviso idpostulante  cant_vistas fechapostulacion\n",
       "0       18        BolNL          1.0              NaN\n",
       "1    48375       RwVdKR          1.0              NaN\n",
       "2   169730        1KjXB          1.0              NaN\n",
       "3   169730       2AKzxa          1.0              NaN\n",
       "4   169730        6LJ64          1.0              NaN"
      ]
     },
     "execution_count": 64,
     "metadata": {},
     "output_type": "execute_result"
    }
   ],
   "source": [
    "modelo = pd.merge(vistas, postulaciones, on=['idpostulante', 'idaviso'], how='outer')\n",
    "\n",
    "modelo.head()"
   ]
  },
  {
   "cell_type": "markdown",
   "metadata": {},
   "source": [
    "Eliminamos la columna 'fechapostulacion' y la transformamos a una columna binaria llamada 'sepostulo'.\n",
    "\n",
    "De esta forma, aquellos registros que figuraban con una fecha efectiva en 'fechapostulacion', tendrán un 1 en la nueva columna. En cambio, aquellos registros que figuraban con NaN, tendrán un 0."
   ]
  },
  {
   "cell_type": "code",
   "execution_count": 65,
   "metadata": {},
   "outputs": [
    {
     "data": {
      "text/plain": [
       "0    6823880\n",
       "1    6604534\n",
       "Name: sepostulo, dtype: int64"
      ]
     },
     "execution_count": 65,
     "metadata": {},
     "output_type": "execute_result"
    }
   ],
   "source": [
    "modelo.loc[(pd.notna(modelo['fechapostulacion'])), 'fechapostulacion'] = 1   # Not NaN\n",
    "modelo.loc[(modelo['fechapostulacion'].isnull()), 'fechapostulacion'] = 0    # NaN\n",
    "\n",
    "modelo.rename(columns={'fechapostulacion':'sepostulo'}, inplace=True)\n",
    "\n",
    "modelo[\"sepostulo\"].value_counts()"
   ]
  },
  {
   "cell_type": "code",
   "execution_count": null,
   "metadata": {},
   "outputs": [],
   "source": [
    "modelo.info()"
   ]
  },
  {
   "cell_type": "markdown",
   "metadata": {},
   "source": [
    " "
   ]
  },
  {
   "cell_type": "markdown",
   "metadata": {},
   "source": [
    "Eliminamos los idaviso e idpostulante repetidos, para dejar un id único"
   ]
  },
  {
   "cell_type": "code",
   "execution_count": 67,
   "metadata": {},
   "outputs": [
    {
     "name": "stdout",
     "output_type": "stream",
     "text": [
      "<class 'pandas.core.frame.DataFrame'>\n",
      "Int64Index: 13427632 entries, 0 to 13428413\n",
      "Data columns (total 4 columns):\n",
      "idaviso         int64\n",
      "idpostulante    object\n",
      "cant_vistas     float64\n",
      "sepostulo       int64\n",
      "dtypes: float64(1), int64(2), object(1)\n",
      "memory usage: 512.2+ MB\n"
     ]
    }
   ],
   "source": [
    "modelo = modelo.drop_duplicates(['idaviso','idpostulante'])\n",
    "modelo.info()"
   ]
  },
  {
   "cell_type": "markdown",
   "metadata": {},
   "source": [
    " "
   ]
  },
  {
   "cell_type": "markdown",
   "metadata": {},
   "source": [
    "### DF 6: Detalles de los avisos"
   ]
  },
  {
   "cell_type": "markdown",
   "metadata": {},
   "source": [
    "Se realiza un merge de los 3 dataframes de detalles de los avisos que nos fueron provistos"
   ]
  },
  {
   "cell_type": "code",
   "execution_count": 68,
   "metadata": {},
   "outputs": [
    {
     "data": {
      "text/html": [
       "<div>\n",
       "<style scoped>\n",
       "    .dataframe tbody tr th:only-of-type {\n",
       "        vertical-align: middle;\n",
       "    }\n",
       "\n",
       "    .dataframe tbody tr th {\n",
       "        vertical-align: top;\n",
       "    }\n",
       "\n",
       "    .dataframe thead th {\n",
       "        text-align: right;\n",
       "    }\n",
       "</style>\n",
       "<table border=\"1\" class=\"dataframe\">\n",
       "  <thead>\n",
       "    <tr style=\"text-align: right;\">\n",
       "      <th></th>\n",
       "      <th>idaviso</th>\n",
       "      <th>idpais</th>\n",
       "      <th>titulo</th>\n",
       "      <th>descripcion</th>\n",
       "      <th>nombre_zona</th>\n",
       "      <th>ciudad</th>\n",
       "      <th>mapacalle</th>\n",
       "      <th>tipo_de_trabajo</th>\n",
       "      <th>nivel_laboral</th>\n",
       "      <th>nombre_area</th>\n",
       "      <th>denominacion_empresa</th>\n",
       "    </tr>\n",
       "  </thead>\n",
       "  <tbody>\n",
       "    <tr>\n",
       "      <th>23346</th>\n",
       "      <td>1112508843</td>\n",
       "      <td>1</td>\n",
       "      <td>Vendedor/a de productos</td>\n",
       "      <td>&lt;p&gt;&lt;strong&gt;Adecco Office&lt;/strong&gt; está especia...</td>\n",
       "      <td>Gran Buenos Aires</td>\n",
       "      <td>NaN</td>\n",
       "      <td>NaN</td>\n",
       "      <td>Full-time</td>\n",
       "      <td>Senior / Semi-Senior</td>\n",
       "      <td>Ventas</td>\n",
       "      <td>Adecco -Región GBA SUR</td>\n",
       "    </tr>\n",
       "    <tr>\n",
       "      <th>14027</th>\n",
       "      <td>1112393185</td>\n",
       "      <td>1</td>\n",
       "      <td>ADMINISTRATIVO DE FACTURACIÓN</td>\n",
       "      <td>?Estamos buscando UN/A ADMINISTRATIVO DE FACTU...</td>\n",
       "      <td>Gran Buenos Aires</td>\n",
       "      <td>NaN</td>\n",
       "      <td>NaN</td>\n",
       "      <td>Full-time</td>\n",
       "      <td>Junior</td>\n",
       "      <td>Comercial</td>\n",
       "      <td>VIDITEC S.A.</td>\n",
       "    </tr>\n",
       "    <tr>\n",
       "      <th>11147</th>\n",
       "      <td>1112448275</td>\n",
       "      <td>1</td>\n",
       "      <td>INSTRUMENTADOR QUIRURGICO</td>\n",
       "      <td>&lt;p&gt;Importante compañia de tecnología médica ub...</td>\n",
       "      <td>Gran Buenos Aires</td>\n",
       "      <td>NaN</td>\n",
       "      <td>NaN</td>\n",
       "      <td>Full-time</td>\n",
       "      <td>Junior</td>\n",
       "      <td>Salud</td>\n",
       "      <td>Lesmaher s.a.</td>\n",
       "    </tr>\n",
       "    <tr>\n",
       "      <th>18776</th>\n",
       "      <td>1111255977</td>\n",
       "      <td>1</td>\n",
       "      <td>Repositores de Productos</td>\n",
       "      <td>&lt;p&gt;Seleccionaremos repositores de productos se...</td>\n",
       "      <td>Gran Buenos Aires</td>\n",
       "      <td>NaN</td>\n",
       "      <td>NaN</td>\n",
       "      <td>Full-time</td>\n",
       "      <td>Junior</td>\n",
       "      <td>Comercial</td>\n",
       "      <td>Assistem</td>\n",
       "    </tr>\n",
       "    <tr>\n",
       "      <th>15504</th>\n",
       "      <td>1112464571</td>\n",
       "      <td>1</td>\n",
       "      <td>Armadores de pedidos EVENTUAL P/ Hiper Z/ Cann...</td>\n",
       "      <td>&lt;p&gt;Importante Cadena de Retails de artículos p...</td>\n",
       "      <td>Gran Buenos Aires</td>\n",
       "      <td>NaN</td>\n",
       "      <td>NaN</td>\n",
       "      <td>Full-time</td>\n",
       "      <td>Junior</td>\n",
       "      <td>Producción</td>\n",
       "      <td>Suministra</td>\n",
       "    </tr>\n",
       "  </tbody>\n",
       "</table>\n",
       "</div>"
      ],
      "text/plain": [
       "          idaviso  idpais                                             titulo  \\\n",
       "23346  1112508843       1                           Vendedor/a de productos    \n",
       "14027  1112393185       1                      ADMINISTRATIVO DE FACTURACIÓN   \n",
       "11147  1112448275       1                          INSTRUMENTADOR QUIRURGICO   \n",
       "18776  1111255977       1                          Repositores de Productos    \n",
       "15504  1112464571       1  Armadores de pedidos EVENTUAL P/ Hiper Z/ Cann...   \n",
       "\n",
       "                                             descripcion        nombre_zona  \\\n",
       "23346  <p><strong>Adecco Office</strong> está especia...  Gran Buenos Aires   \n",
       "14027  ?Estamos buscando UN/A ADMINISTRATIVO DE FACTU...  Gran Buenos Aires   \n",
       "11147  <p>Importante compañia de tecnología médica ub...  Gran Buenos Aires   \n",
       "18776  <p>Seleccionaremos repositores de productos se...  Gran Buenos Aires   \n",
       "15504  <p>Importante Cadena de Retails de artículos p...  Gran Buenos Aires   \n",
       "\n",
       "      ciudad mapacalle tipo_de_trabajo         nivel_laboral nombre_area  \\\n",
       "23346    NaN       NaN       Full-time  Senior / Semi-Senior      Ventas   \n",
       "14027    NaN       NaN       Full-time                Junior   Comercial   \n",
       "11147    NaN       NaN       Full-time                Junior       Salud   \n",
       "18776    NaN       NaN       Full-time                Junior   Comercial   \n",
       "15504    NaN       NaN       Full-time                Junior  Producción   \n",
       "\n",
       "         denominacion_empresa  \n",
       "23346  Adecco -Región GBA SUR  \n",
       "14027            VIDITEC S.A.  \n",
       "11147           Lesmaher s.a.  \n",
       "18776                Assistem  \n",
       "15504              Suministra  "
      ]
     },
     "execution_count": 68,
     "metadata": {},
     "output_type": "execute_result"
    }
   ],
   "source": [
    "avisos_detalles = pd.read_csv('datos_navent_fiuba/h15_fiuba_6_avisos_detalle.csv')\n",
    "avisos_detalles_2 = pd.read_csv('datos_navent_fiuba/d15_fiuba_6_avisos_detalle.csv')\n",
    "\n",
    "avisos_detalles = pd.merge(avisos_detalles, avisos_detalles_2, how='outer')\n",
    "\n",
    "avisos_detalles_2 = pd.read_csv('datos_navent_fiuba/fiuba_6_avisos_detalle.csv')\n",
    "\n",
    "avisos_detalles = pd.merge(avisos_detalles, avisos_detalles_2, how='outer')\n",
    "\n",
    "avisos_detalles.sample(5)"
   ]
  },
  {
   "cell_type": "code",
   "execution_count": 69,
   "metadata": {},
   "outputs": [
    {
     "name": "stdout",
     "output_type": "stream",
     "text": [
      "<class 'pandas.core.frame.DataFrame'>\n",
      "Int64Index: 25563 entries, 0 to 25562\n",
      "Data columns (total 11 columns):\n",
      "idaviso                 25563 non-null int64\n",
      "idpais                  25563 non-null int64\n",
      "titulo                  25563 non-null object\n",
      "descripcion             25563 non-null object\n",
      "nombre_zona             25563 non-null object\n",
      "ciudad                  137 non-null object\n",
      "mapacalle               1854 non-null object\n",
      "tipo_de_trabajo         25563 non-null object\n",
      "nivel_laboral           25563 non-null object\n",
      "nombre_area             25563 non-null object\n",
      "denominacion_empresa    25556 non-null object\n",
      "dtypes: int64(2), object(9)\n",
      "memory usage: 2.3+ MB\n"
     ]
    }
   ],
   "source": [
    "avisos_detalles.info()"
   ]
  },
  {
   "cell_type": "markdown",
   "metadata": {},
   "source": [
    " "
   ]
  },
  {
   "cell_type": "markdown",
   "metadata": {},
   "source": [
    "Eliminamos los avisos duplicados"
   ]
  },
  {
   "cell_type": "code",
   "execution_count": 70,
   "metadata": {},
   "outputs": [],
   "source": [
    "avisos_detalles = avisos_detalles.drop_duplicates(['idaviso'])"
   ]
  },
  {
   "cell_type": "code",
   "execution_count": 71,
   "metadata": {},
   "outputs": [],
   "source": [
    "# Renombramos la columna denominacion_empresa por algo más apropiado\n",
    "avisos_detalles.rename(columns={'denominacion_empresa':'nombre_empresa'}, inplace=True)"
   ]
  },
  {
   "cell_type": "markdown",
   "metadata": {},
   "source": [
    " "
   ]
  },
  {
   "cell_type": "markdown",
   "metadata": {},
   "source": [
    "Eliminamos las columnas que consideramos no relevantes. Según la explicación aquí abajo, éstas seran 'idpais', 'ciudad' y 'mapacalle'."
   ]
  },
  {
   "cell_type": "code",
   "execution_count": 72,
   "metadata": {},
   "outputs": [
    {
     "data": {
      "text/plain": [
       "1    24950\n",
       "Name: idpais, dtype: int64"
      ]
     },
     "execution_count": 72,
     "metadata": {},
     "output_type": "execute_result"
    }
   ],
   "source": [
    "# Analizamos la cantidad de 'idpais' posibles\n",
    "# Dado que hay un único idpais, eliminaremos esta columna.\n",
    "avisos_detalles['idpais'].value_counts()"
   ]
  },
  {
   "cell_type": "markdown",
   "metadata": {},
   "source": [
    " "
   ]
  },
  {
   "cell_type": "code",
   "execution_count": 73,
   "metadata": {},
   "outputs": [
    {
     "data": {
      "text/plain": [
       "True     24818\n",
       "False      132\n",
       "Name: ciudad, dtype: int64"
      ]
     },
     "execution_count": 73,
     "metadata": {},
     "output_type": "execute_result"
    }
   ],
   "source": [
    "# Analizamos la cantidad de valores nulos en 'ciudad'\n",
    "# Dado el gran porcentaje de valores nulos, eliminaremos la columna.\n",
    "avisos_detalles['ciudad'].isnull().value_counts()"
   ]
  },
  {
   "cell_type": "markdown",
   "metadata": {},
   "source": [
    " "
   ]
  },
  {
   "cell_type": "code",
   "execution_count": 74,
   "metadata": {},
   "outputs": [
    {
     "data": {
      "text/plain": [
       "True     23152\n",
       "False     1798\n",
       "Name: mapacalle, dtype: int64"
      ]
     },
     "execution_count": 74,
     "metadata": {},
     "output_type": "execute_result"
    }
   ],
   "source": [
    "# Analizamos la cantidad de valores nulos en 'mapacalle'\n",
    "# Dado el gran porcentaje de valores nulos, eliminaremos la columna.\n",
    "avisos_detalles['mapacalle'].isnull().value_counts()"
   ]
  },
  {
   "cell_type": "markdown",
   "metadata": {},
   "source": [
    " "
   ]
  },
  {
   "cell_type": "code",
   "execution_count": 75,
   "metadata": {},
   "outputs": [],
   "source": [
    "# Eliminamos las columnas arriba mencionadas\n",
    "avisos_detalles.drop(columns={'idpais', 'ciudad', 'mapacalle'}, axis=1, inplace=True)"
   ]
  },
  {
   "cell_type": "markdown",
   "metadata": {},
   "source": [
    " "
   ]
  },
  {
   "cell_type": "markdown",
   "metadata": {},
   "source": [
    "Pasamos a valor numérico el nombre zona, según un orden jerárquico asignado por nosotros. Entendemos que Gran Buenos Aires lidera el orden jerárquico, considerando la gran cantidad de registros con los que cuenta. Luego lo siguen Capital Federal y Otros (todas las zonas restantes)"
   ]
  },
  {
   "cell_type": "code",
   "execution_count": 76,
   "metadata": {},
   "outputs": [
    {
     "data": {
      "text/plain": [
       "Gran Buenos Aires              22972\n",
       "Capital Federal                 1914\n",
       "Buenos Aires (fuera de GBA)       42\n",
       "La Plata                           4\n",
       "GBA Oeste                          3\n",
       "Ciudad de Mendoza                  3\n",
       "Mendoza                            3\n",
       "Rosario                            2\n",
       "Tucuman                            1\n",
       "San Juan                           1\n",
       "Neuquen                            1\n",
       "Catamarca                          1\n",
       "Santa Cruz                         1\n",
       "Cordoba                            1\n",
       "Santa Fe                           1\n",
       "Name: nombre_zona, dtype: int64"
      ]
     },
     "execution_count": 76,
     "metadata": {},
     "output_type": "execute_result"
    }
   ],
   "source": [
    "avisos_detalles['nombre_zona'].value_counts()"
   ]
  },
  {
   "cell_type": "code",
   "execution_count": 77,
   "metadata": {},
   "outputs": [],
   "source": [
    "avisos_detalles.loc[(avisos_detalles['nombre_zona'] == 'Gran Buenos Aires'),'nombre_zona'] = 3\n",
    "avisos_detalles.loc[(avisos_detalles['nombre_zona'] == 'Capital Federal'),'nombre_zona'] = 2\n",
    "avisos_detalles.loc[(avisos_detalles['nombre_zona'] == 'Buenos Aires (fuera de GBA)'),'nombre_zona'] = 1\n",
    "avisos_detalles.loc[(avisos_detalles['nombre_zona'] == 'GBA Oeste'),'nombre_zona'] = 1\n",
    "avisos_detalles.loc[(avisos_detalles['nombre_zona'] == 'La Plata'),'nombre_zona'] = 1\n",
    "avisos_detalles.loc[(avisos_detalles['nombre_zona'] == 'Ciudad de Mendoza'),'nombre_zona'] = 1\n",
    "avisos_detalles.loc[(avisos_detalles['nombre_zona'] == 'Mendoza'),'nombre_zona'] = 1\n",
    "avisos_detalles.loc[(avisos_detalles['nombre_zona'] == 'Catamarca'),'nombre_zona'] = 1\n",
    "avisos_detalles.loc[(avisos_detalles['nombre_zona'] == 'Rosario'),'nombre_zona'] = 1\n",
    "avisos_detalles.loc[(avisos_detalles['nombre_zona'] == 'Santa Cruz'),'nombre_zona'] = 1\n",
    "avisos_detalles.loc[(avisos_detalles['nombre_zona'] == 'San Juan'),'nombre_zona'] = 1\n",
    "avisos_detalles.loc[(avisos_detalles['nombre_zona'] == 'Cordoba'),'nombre_zona'] = 1\n",
    "avisos_detalles.loc[(avisos_detalles['nombre_zona'] == 'Tucuman'),'nombre_zona'] = 1\n",
    "avisos_detalles.loc[(avisos_detalles['nombre_zona'] == 'Neuquen'),'nombre_zona'] = 1\n",
    "avisos_detalles.loc[(avisos_detalles['nombre_zona'] == 'Santa Fe'),'nombre_zona'] = 1"
   ]
  },
  {
   "cell_type": "markdown",
   "metadata": {},
   "source": [
    "Pasamos a valor numérico el tipo de trabajo, según un orden jerárquico asignado por nosotros."
   ]
  },
  {
   "cell_type": "code",
   "execution_count": 78,
   "metadata": {},
   "outputs": [
    {
     "data": {
      "text/plain": [
       "Full-time          22523\n",
       "Part-time           1725\n",
       "Teletrabajo          248\n",
       "Por Horas            124\n",
       "Pasantia             119\n",
       "Temporario            89\n",
       "Por Contrato          87\n",
       "Fines de Semana       28\n",
       "Primer empleo          6\n",
       "Voluntario             1\n",
       "Name: tipo_de_trabajo, dtype: int64"
      ]
     },
     "execution_count": 78,
     "metadata": {},
     "output_type": "execute_result"
    }
   ],
   "source": [
    "avisos_detalles['tipo_de_trabajo'].value_counts()"
   ]
  },
  {
   "cell_type": "code",
   "execution_count": 79,
   "metadata": {},
   "outputs": [],
   "source": [
    "avisos_detalles.loc[(avisos_detalles['tipo_de_trabajo'] == 'Full-time'),'tipo_de_trabajo'] = 10\n",
    "avisos_detalles.loc[(avisos_detalles['tipo_de_trabajo'] == 'Part-time'),'tipo_de_trabajo'] = 9\n",
    "avisos_detalles.loc[(avisos_detalles['tipo_de_trabajo'] == 'Teletrabajo'),'tipo_de_trabajo'] = 8\n",
    "avisos_detalles.loc[(avisos_detalles['tipo_de_trabajo'] == 'Por Horas'),'tipo_de_trabajo'] = 7\n",
    "avisos_detalles.loc[(avisos_detalles['tipo_de_trabajo'] == 'Pasantia'),'tipo_de_trabajo'] = 6\n",
    "avisos_detalles.loc[(avisos_detalles['tipo_de_trabajo'] == 'Temporario'),'tipo_de_trabajo'] = 5\n",
    "avisos_detalles.loc[(avisos_detalles['tipo_de_trabajo'] == 'Por Contrato'),'tipo_de_trabajo'] = 4\n",
    "avisos_detalles.loc[(avisos_detalles['tipo_de_trabajo'] == 'Fines de Semana'),'tipo_de_trabajo'] = 3\n",
    "avisos_detalles.loc[(avisos_detalles['tipo_de_trabajo'] == 'Primer empleo'),'tipo_de_trabajo'] = 2\n",
    "avisos_detalles.loc[(avisos_detalles['tipo_de_trabajo'] == 'Voluntario'),'tipo_de_trabajo'] = 1"
   ]
  },
  {
   "cell_type": "markdown",
   "metadata": {},
   "source": [
    "Pasamos a valor numérico el nivel laboral, según un orden jerárquico asignado por nosotros."
   ]
  },
  {
   "cell_type": "code",
   "execution_count": 80,
   "metadata": {},
   "outputs": [
    {
     "data": {
      "text/plain": [
       "Senior / Semi-Senior                    16977\n",
       "Junior                                   4149\n",
       "Otro                                     1975\n",
       "Jefe / Supervisor / Responsable          1527\n",
       "Gerencia / Alta Gerencia / Dirección      322\n",
       "Name: nivel_laboral, dtype: int64"
      ]
     },
     "execution_count": 80,
     "metadata": {},
     "output_type": "execute_result"
    }
   ],
   "source": [
    "avisos_detalles['nivel_laboral'].value_counts()"
   ]
  },
  {
   "cell_type": "code",
   "execution_count": 81,
   "metadata": {},
   "outputs": [],
   "source": [
    "avisos_detalles.loc[(avisos_detalles['nivel_laboral'] == 'Gerencia / Alta Gerencia / Dirección'),'nivel_laboral'] = 5\n",
    "avisos_detalles.loc[(avisos_detalles['nivel_laboral'] == 'Jefe / Supervisor / Responsable'),'nivel_laboral'] = 4\n",
    "avisos_detalles.loc[(avisos_detalles['nivel_laboral'] == 'Senior / Semi-Senior'),'nivel_laboral'] = 3\n",
    "avisos_detalles.loc[(avisos_detalles['nivel_laboral'] == 'Junior'),'nivel_laboral'] = 2\n",
    "avisos_detalles.loc[(avisos_detalles['nivel_laboral'] == 'Otro'),'nivel_laboral'] = 1"
   ]
  },
  {
   "cell_type": "code",
   "execution_count": 82,
   "metadata": {},
   "outputs": [
    {
     "data": {
      "text/html": [
       "<div>\n",
       "<style scoped>\n",
       "    .dataframe tbody tr th:only-of-type {\n",
       "        vertical-align: middle;\n",
       "    }\n",
       "\n",
       "    .dataframe tbody tr th {\n",
       "        vertical-align: top;\n",
       "    }\n",
       "\n",
       "    .dataframe thead th {\n",
       "        text-align: right;\n",
       "    }\n",
       "</style>\n",
       "<table border=\"1\" class=\"dataframe\">\n",
       "  <thead>\n",
       "    <tr style=\"text-align: right;\">\n",
       "      <th></th>\n",
       "      <th>idaviso</th>\n",
       "      <th>titulo</th>\n",
       "      <th>descripcion</th>\n",
       "      <th>nombre_zona</th>\n",
       "      <th>tipo_de_trabajo</th>\n",
       "      <th>nivel_laboral</th>\n",
       "      <th>nombre_area</th>\n",
       "      <th>nombre_empresa</th>\n",
       "    </tr>\n",
       "  </thead>\n",
       "  <tbody>\n",
       "    <tr>\n",
       "      <th>1893</th>\n",
       "      <td>1112414517</td>\n",
       "      <td>Estudiantes avanzados o graduados de Cs Económ...</td>\n",
       "      <td>&lt;p&gt;&lt;span style=\"\"&gt;EY, firma global de servicio...</td>\n",
       "      <td>3</td>\n",
       "      <td>10</td>\n",
       "      <td>3</td>\n",
       "      <td>Impuestos</td>\n",
       "      <td>EY</td>\n",
       "    </tr>\n",
       "    <tr>\n",
       "      <th>2930</th>\n",
       "      <td>1112287109</td>\n",
       "      <td>Vendedor de Salon -- UNOMOTOS</td>\n",
       "      <td>&lt;p&gt;UNOMOTOS Concesionaria líder en el rubro de...</td>\n",
       "      <td>3</td>\n",
       "      <td>10</td>\n",
       "      <td>3</td>\n",
       "      <td>Ventas</td>\n",
       "      <td>UNOMOTOS</td>\n",
       "    </tr>\n",
       "    <tr>\n",
       "      <th>19106</th>\n",
       "      <td>1112050230</td>\n",
       "      <td>Ingeniero Químico - Analista de Procesos</td>\n",
       "      <td>&lt;p&gt;Buscamos un Joven profesional de la Ingenie...</td>\n",
       "      <td>3</td>\n",
       "      <td>10</td>\n",
       "      <td>2</td>\n",
       "      <td>Ingeniería Química</td>\n",
       "      <td>RS Consultora Regional</td>\n",
       "    </tr>\n",
       "    <tr>\n",
       "      <th>7423</th>\n",
       "      <td>1112303665</td>\n",
       "      <td>Técnico electrónico para fábrica de seguridad ...</td>\n",
       "      <td>&lt;p&gt;&lt;span style=\"\"&gt;Plum y asociados Consultores...</td>\n",
       "      <td>3</td>\n",
       "      <td>10</td>\n",
       "      <td>3</td>\n",
       "      <td>Programación de producción</td>\n",
       "      <td>Plum &amp; Asociados Consultores</td>\n",
       "    </tr>\n",
       "    <tr>\n",
       "      <th>1319</th>\n",
       "      <td>1112412376</td>\n",
       "      <td>PL- Tecnico Mecánico de Turno (Zona Pilar)</td>\n",
       "      <td>&lt;p&gt;&lt;span style=\"\"&gt;Importante empresa plástica ...</td>\n",
       "      <td>3</td>\n",
       "      <td>10</td>\n",
       "      <td>3</td>\n",
       "      <td>Mantenimiento</td>\n",
       "      <td>Grupo Gestión</td>\n",
       "    </tr>\n",
       "  </tbody>\n",
       "</table>\n",
       "</div>"
      ],
      "text/plain": [
       "          idaviso                                             titulo  \\\n",
       "1893   1112414517  Estudiantes avanzados o graduados de Cs Económ...   \n",
       "2930   1112287109                      Vendedor de Salon -- UNOMOTOS   \n",
       "19106  1112050230           Ingeniero Químico - Analista de Procesos   \n",
       "7423   1112303665  Técnico electrónico para fábrica de seguridad ...   \n",
       "1319   1112412376         PL- Tecnico Mecánico de Turno (Zona Pilar)   \n",
       "\n",
       "                                             descripcion  nombre_zona  \\\n",
       "1893   <p><span style=\"\">EY, firma global de servicio...            3   \n",
       "2930   <p>UNOMOTOS Concesionaria líder en el rubro de...            3   \n",
       "19106  <p>Buscamos un Joven profesional de la Ingenie...            3   \n",
       "7423   <p><span style=\"\">Plum y asociados Consultores...            3   \n",
       "1319   <p><span style=\"\">Importante empresa plástica ...            3   \n",
       "\n",
       "       tipo_de_trabajo  nivel_laboral                 nombre_area  \\\n",
       "1893                10              3                   Impuestos   \n",
       "2930                10              3                      Ventas   \n",
       "19106               10              2          Ingeniería Química   \n",
       "7423                10              3  Programación de producción   \n",
       "1319                10              3               Mantenimiento   \n",
       "\n",
       "                     nombre_empresa  \n",
       "1893                             EY  \n",
       "2930                       UNOMOTOS  \n",
       "19106        RS Consultora Regional  \n",
       "7423   Plum & Asociados Consultores  \n",
       "1319                  Grupo Gestión  "
      ]
     },
     "execution_count": 82,
     "metadata": {},
     "output_type": "execute_result"
    }
   ],
   "source": [
    "avisos_detalles.sample(5)"
   ]
  },
  {
   "cell_type": "code",
   "execution_count": 83,
   "metadata": {},
   "outputs": [
    {
     "name": "stdout",
     "output_type": "stream",
     "text": [
      "<class 'pandas.core.frame.DataFrame'>\n",
      "Int64Index: 24950 entries, 0 to 25549\n",
      "Data columns (total 8 columns):\n",
      "idaviso            24950 non-null int64\n",
      "titulo             24950 non-null object\n",
      "descripcion        24950 non-null object\n",
      "nombre_zona        24950 non-null int64\n",
      "tipo_de_trabajo    24950 non-null int64\n",
      "nivel_laboral      24950 non-null int64\n",
      "nombre_area        24950 non-null object\n",
      "nombre_empresa     24943 non-null object\n",
      "dtypes: int64(4), object(4)\n",
      "memory usage: 1.7+ MB\n"
     ]
    }
   ],
   "source": [
    "avisos_detalles.info()"
   ]
  },
  {
   "cell_type": "markdown",
   "metadata": {},
   "source": [
    " "
   ]
  },
  {
   "cell_type": "markdown",
   "metadata": {},
   "source": [
    "## Merge del modelo con los postulantes y los detalles de los avisos"
   ]
  },
  {
   "cell_type": "markdown",
   "metadata": {},
   "source": [
    "Cabe destacar que se realiza un inner join en ambos casos, para contar con registros con datos consistentes y sin valores nulos"
   ]
  },
  {
   "cell_type": "code",
   "execution_count": 84,
   "metadata": {},
   "outputs": [
    {
     "data": {
      "text/html": [
       "<div>\n",
       "<style scoped>\n",
       "    .dataframe tbody tr th:only-of-type {\n",
       "        vertical-align: middle;\n",
       "    }\n",
       "\n",
       "    .dataframe tbody tr th {\n",
       "        vertical-align: top;\n",
       "    }\n",
       "\n",
       "    .dataframe thead th {\n",
       "        text-align: right;\n",
       "    }\n",
       "</style>\n",
       "<table border=\"1\" class=\"dataframe\">\n",
       "  <thead>\n",
       "    <tr style=\"text-align: right;\">\n",
       "      <th></th>\n",
       "      <th>idaviso</th>\n",
       "      <th>idpostulante</th>\n",
       "      <th>cant_vistas</th>\n",
       "      <th>sepostulo</th>\n",
       "      <th>estudios</th>\n",
       "      <th>esta_estudiando</th>\n",
       "      <th>sexo</th>\n",
       "      <th>rango_edad</th>\n",
       "    </tr>\n",
       "  </thead>\n",
       "  <tbody>\n",
       "    <tr>\n",
       "      <th>8343464</th>\n",
       "      <td>1112271859</td>\n",
       "      <td>0zdW2kM</td>\n",
       "      <td>NaN</td>\n",
       "      <td>1</td>\n",
       "      <td>4.0</td>\n",
       "      <td>1.0</td>\n",
       "      <td>1</td>\n",
       "      <td>1.0</td>\n",
       "    </tr>\n",
       "    <tr>\n",
       "      <th>8700976</th>\n",
       "      <td>1112326015</td>\n",
       "      <td>RzMx2aq</td>\n",
       "      <td>NaN</td>\n",
       "      <td>1</td>\n",
       "      <td>4.0</td>\n",
       "      <td>1.0</td>\n",
       "      <td>2</td>\n",
       "      <td>1.0</td>\n",
       "    </tr>\n",
       "    <tr>\n",
       "      <th>5499210</th>\n",
       "      <td>1112455508</td>\n",
       "      <td>JBm8k1J</td>\n",
       "      <td>1.0</td>\n",
       "      <td>1</td>\n",
       "      <td>4.0</td>\n",
       "      <td>0.0</td>\n",
       "      <td>1</td>\n",
       "      <td>3.0</td>\n",
       "    </tr>\n",
       "    <tr>\n",
       "      <th>4900141</th>\n",
       "      <td>1112425713</td>\n",
       "      <td>owaekLj</td>\n",
       "      <td>1.0</td>\n",
       "      <td>1</td>\n",
       "      <td>2.0</td>\n",
       "      <td>0.0</td>\n",
       "      <td>1</td>\n",
       "      <td>3.0</td>\n",
       "    </tr>\n",
       "    <tr>\n",
       "      <th>1618949</th>\n",
       "      <td>1112211362</td>\n",
       "      <td>2zwlraa</td>\n",
       "      <td>NaN</td>\n",
       "      <td>1</td>\n",
       "      <td>2.0</td>\n",
       "      <td>0.0</td>\n",
       "      <td>2</td>\n",
       "      <td>2.0</td>\n",
       "    </tr>\n",
       "  </tbody>\n",
       "</table>\n",
       "</div>"
      ],
      "text/plain": [
       "            idaviso idpostulante  cant_vistas  sepostulo  estudios  \\\n",
       "8343464  1112271859      0zdW2kM          NaN          1       4.0   \n",
       "8700976  1112326015      RzMx2aq          NaN          1       4.0   \n",
       "5499210  1112455508      JBm8k1J          1.0          1       4.0   \n",
       "4900141  1112425713      owaekLj          1.0          1       2.0   \n",
       "1618949  1112211362      2zwlraa          NaN          1       2.0   \n",
       "\n",
       "         esta_estudiando sexo  rango_edad  \n",
       "8343464              1.0    1         1.0  \n",
       "8700976              1.0    2         1.0  \n",
       "5499210              0.0    1         3.0  \n",
       "4900141              0.0    1         3.0  \n",
       "1618949              0.0    2         2.0  "
      ]
     },
     "execution_count": 84,
     "metadata": {},
     "output_type": "execute_result"
    }
   ],
   "source": [
    "modelo = pd.merge(modelo, postulantes, on='idpostulante', how='inner')\n",
    "modelo.sample(5)"
   ]
  },
  {
   "cell_type": "code",
   "execution_count": 85,
   "metadata": {},
   "outputs": [
    {
     "name": "stdout",
     "output_type": "stream",
     "text": [
      "<class 'pandas.core.frame.DataFrame'>\n",
      "Int64Index: 10591337 entries, 0 to 10591336\n",
      "Data columns (total 8 columns):\n",
      "idaviso            int64\n",
      "idpostulante       object\n",
      "cant_vistas        float64\n",
      "sepostulo          int64\n",
      "estudios           float64\n",
      "esta_estudiando    float64\n",
      "sexo               object\n",
      "rango_edad         float64\n",
      "dtypes: float64(4), int64(2), object(2)\n",
      "memory usage: 727.2+ MB\n"
     ]
    }
   ],
   "source": [
    "modelo.info()"
   ]
  },
  {
   "cell_type": "markdown",
   "metadata": {},
   "source": [
    " "
   ]
  },
  {
   "cell_type": "code",
   "execution_count": 86,
   "metadata": {},
   "outputs": [
    {
     "data": {
      "text/html": [
       "<div>\n",
       "<style scoped>\n",
       "    .dataframe tbody tr th:only-of-type {\n",
       "        vertical-align: middle;\n",
       "    }\n",
       "\n",
       "    .dataframe tbody tr th {\n",
       "        vertical-align: top;\n",
       "    }\n",
       "\n",
       "    .dataframe thead th {\n",
       "        text-align: right;\n",
       "    }\n",
       "</style>\n",
       "<table border=\"1\" class=\"dataframe\">\n",
       "  <thead>\n",
       "    <tr style=\"text-align: right;\">\n",
       "      <th></th>\n",
       "      <th>idaviso</th>\n",
       "      <th>idpostulante</th>\n",
       "      <th>cant_vistas</th>\n",
       "      <th>sepostulo</th>\n",
       "      <th>estudios</th>\n",
       "      <th>esta_estudiando</th>\n",
       "      <th>sexo</th>\n",
       "      <th>rango_edad</th>\n",
       "      <th>titulo</th>\n",
       "      <th>descripcion</th>\n",
       "      <th>nombre_zona</th>\n",
       "      <th>tipo_de_trabajo</th>\n",
       "      <th>nivel_laboral</th>\n",
       "      <th>nombre_area</th>\n",
       "      <th>nombre_empresa</th>\n",
       "    </tr>\n",
       "  </thead>\n",
       "  <tbody>\n",
       "    <tr>\n",
       "      <th>2608599</th>\n",
       "      <td>1112381560</td>\n",
       "      <td>DrzrZJW</td>\n",
       "      <td>NaN</td>\n",
       "      <td>1</td>\n",
       "      <td>4.0</td>\n",
       "      <td>1.0</td>\n",
       "      <td>1</td>\n",
       "      <td>2.0</td>\n",
       "      <td>Administrativo de Logística Eventual -  CABA</td>\n",
       "      <td>&lt;p&gt;Para importante empresa multinacional, nos ...</td>\n",
       "      <td>3</td>\n",
       "      <td>10</td>\n",
       "      <td>3</td>\n",
       "      <td>Logística</td>\n",
       "      <td>Manpower</td>\n",
       "    </tr>\n",
       "    <tr>\n",
       "      <th>4992965</th>\n",
       "      <td>1112325077</td>\n",
       "      <td>Z9LzL5</td>\n",
       "      <td>NaN</td>\n",
       "      <td>1</td>\n",
       "      <td>3.0</td>\n",
       "      <td>1.0</td>\n",
       "      <td>2</td>\n",
       "      <td>2.0</td>\n",
       "      <td>Operario de fábrica.</td>\n",
       "      <td>&lt;p style=\"\"&gt;Nos encontramos realizando una bús...</td>\n",
       "      <td>3</td>\n",
       "      <td>10</td>\n",
       "      <td>2</td>\n",
       "      <td>Producción</td>\n",
       "      <td>Rizoma Consulting</td>\n",
       "    </tr>\n",
       "    <tr>\n",
       "      <th>606969</th>\n",
       "      <td>1112445378</td>\n",
       "      <td>0zrzz38</td>\n",
       "      <td>1.0</td>\n",
       "      <td>0</td>\n",
       "      <td>4.0</td>\n",
       "      <td>1.0</td>\n",
       "      <td>1</td>\n",
       "      <td>2.0</td>\n",
       "      <td>Estudiantes de Administración, Ingeniería Indu...</td>\n",
       "      <td>&lt;p&gt;Importante empresa ubicada en la zona de Pu...</td>\n",
       "      <td>3</td>\n",
       "      <td>6</td>\n",
       "      <td>2</td>\n",
       "      <td>Pasantía / Trainee</td>\n",
       "      <td>Manpower</td>\n",
       "    </tr>\n",
       "    <tr>\n",
       "      <th>5617602</th>\n",
       "      <td>1112374055</td>\n",
       "      <td>zvaVLqK</td>\n",
       "      <td>NaN</td>\n",
       "      <td>1</td>\n",
       "      <td>4.0</td>\n",
       "      <td>0.0</td>\n",
       "      <td>2</td>\n",
       "      <td>3.0</td>\n",
       "      <td>Técnico de Mantenimiento para sector de Electr...</td>\n",
       "      <td>&lt;p style=\"\"&gt;&lt;strong&gt;&lt;span style=\"\"&gt;PROSEGUR&lt;/s...</td>\n",
       "      <td>3</td>\n",
       "      <td>10</td>\n",
       "      <td>1</td>\n",
       "      <td>Otros</td>\n",
       "      <td>JUNCADELLA</td>\n",
       "    </tr>\n",
       "    <tr>\n",
       "      <th>328852</th>\n",
       "      <td>1112460141</td>\n",
       "      <td>vV3A8wP</td>\n",
       "      <td>1.0</td>\n",
       "      <td>1</td>\n",
       "      <td>3.0</td>\n",
       "      <td>0.0</td>\n",
       "      <td>1</td>\n",
       "      <td>1.0</td>\n",
       "      <td>Administrativo/a área salud</td>\n",
       "      <td>&lt;p style=\"\"&gt;Helios Salud se encuentra en la bú...</td>\n",
       "      <td>3</td>\n",
       "      <td>10</td>\n",
       "      <td>3</td>\n",
       "      <td>Administración</td>\n",
       "      <td>HELIOS SALUD</td>\n",
       "    </tr>\n",
       "  </tbody>\n",
       "</table>\n",
       "</div>"
      ],
      "text/plain": [
       "            idaviso idpostulante  cant_vistas  sepostulo  estudios  \\\n",
       "2608599  1112381560      DrzrZJW          NaN          1       4.0   \n",
       "4992965  1112325077       Z9LzL5          NaN          1       3.0   \n",
       "606969   1112445378      0zrzz38          1.0          0       4.0   \n",
       "5617602  1112374055      zvaVLqK          NaN          1       4.0   \n",
       "328852   1112460141      vV3A8wP          1.0          1       3.0   \n",
       "\n",
       "         esta_estudiando sexo  rango_edad  \\\n",
       "2608599              1.0    1         2.0   \n",
       "4992965              1.0    2         2.0   \n",
       "606969               1.0    1         2.0   \n",
       "5617602              0.0    2         3.0   \n",
       "328852               0.0    1         1.0   \n",
       "\n",
       "                                                    titulo  \\\n",
       "2608599       Administrativo de Logística Eventual -  CABA   \n",
       "4992965                              Operario de fábrica.    \n",
       "606969   Estudiantes de Administración, Ingeniería Indu...   \n",
       "5617602  Técnico de Mantenimiento para sector de Electr...   \n",
       "328852                         Administrativo/a área salud   \n",
       "\n",
       "                                               descripcion  nombre_zona  \\\n",
       "2608599  <p>Para importante empresa multinacional, nos ...            3   \n",
       "4992965  <p style=\"\">Nos encontramos realizando una bús...            3   \n",
       "606969   <p>Importante empresa ubicada en la zona de Pu...            3   \n",
       "5617602  <p style=\"\"><strong><span style=\"\">PROSEGUR</s...            3   \n",
       "328852   <p style=\"\">Helios Salud se encuentra en la bú...            3   \n",
       "\n",
       "         tipo_de_trabajo  nivel_laboral         nombre_area     nombre_empresa  \n",
       "2608599               10              3           Logística           Manpower  \n",
       "4992965               10              2          Producción  Rizoma Consulting  \n",
       "606969                 6              2  Pasantía / Trainee           Manpower  \n",
       "5617602               10              1               Otros         JUNCADELLA  \n",
       "328852                10              3      Administración       HELIOS SALUD  "
      ]
     },
     "execution_count": 86,
     "metadata": {},
     "output_type": "execute_result"
    }
   ],
   "source": [
    "modelo = pd.merge(modelo, avisos_detalles, on='idaviso', how='inner')\n",
    "modelo.sample(5)"
   ]
  },
  {
   "cell_type": "code",
   "execution_count": 100,
   "metadata": {},
   "outputs": [
    {
     "name": "stdout",
     "output_type": "stream",
     "text": [
      "<class 'pandas.core.frame.DataFrame'>\n",
      "Int64Index: 9223108 entries, 0 to 9223107\n",
      "Data columns (total 15 columns):\n",
      "idaviso            int64\n",
      "idpostulante       object\n",
      "cant_vistas        float64\n",
      "sepostulo          int64\n",
      "nivel_estudios     float64\n",
      "esta_estudiando    float64\n",
      "sexo               object\n",
      "rango_edad         float64\n",
      "titulo             object\n",
      "descripcion        object\n",
      "nombre_zona        int64\n",
      "tipo_de_trabajo    int64\n",
      "nivel_laboral      int64\n",
      "nombre_area        object\n",
      "nombre_empresa     object\n",
      "dtypes: float64(4), int64(5), object(6)\n",
      "memory usage: 1.1+ GB\n"
     ]
    }
   ],
   "source": [
    "modelo.rename(columns={'estudios':'nivel_estudios'},inplace=True)\n",
    "modelo.info()"
   ]
  },
  {
   "cell_type": "markdown",
   "metadata": {},
   "source": [
    " "
   ]
  },
  {
   "cell_type": "markdown",
   "metadata": {},
   "source": [
    "Analizamos la información del modelo final que será utilizado por los algoritmos de Machine Learning."
   ]
  },
  {
   "cell_type": "markdown",
   "metadata": {},
   "source": [
    "Asignamos un 1 a aquellos valores NaN de la columna cant_vistas. Esto tiene dos propósitos:\n",
    "\n",
    "- Mantener la coherencia. Una persona no puede postularse a un aviso sin visualizarlo.\n",
    "- Evita valores nulos para los algoritmos de Machine Learning."
   ]
  },
  {
   "cell_type": "code",
   "execution_count": 89,
   "metadata": {},
   "outputs": [],
   "source": [
    "modelo.loc[(modelo['cant_vistas'].isnull()), 'cant_vistas'] = 1"
   ]
  },
  {
   "cell_type": "markdown",
   "metadata": {},
   "source": [
    "Comprobamos que efectivamente no quedó ningún registro con cant_vistas con valor nulo."
   ]
  },
  {
   "cell_type": "code",
   "execution_count": 90,
   "metadata": {
    "scrolled": true
   },
   "outputs": [
    {
     "data": {
      "text/plain": [
       "0"
      ]
     },
     "execution_count": 90,
     "metadata": {},
     "output_type": "execute_result"
    }
   ],
   "source": [
    "modelo['cant_vistas'].isnull().sum()"
   ]
  },
  {
   "cell_type": "markdown",
   "metadata": {},
   "source": [
    " "
   ]
  },
  {
   "cell_type": "code",
   "execution_count": 99,
   "metadata": {},
   "outputs": [
    {
     "name": "stdout",
     "output_type": "stream",
     "text": [
      "<class 'pandas.core.frame.DataFrame'>\n",
      "Int64Index: 9223108 entries, 0 to 9223107\n",
      "Data columns (total 15 columns):\n",
      "idaviso            int64\n",
      "idpostulante       object\n",
      "cant_vistas        float64\n",
      "sepostulo          int64\n",
      "estudios           float64\n",
      "esta_estudiando    float64\n",
      "sexo               object\n",
      "rango_edad         float64\n",
      "titulo             object\n",
      "descripcion        object\n",
      "nombre_zona        int64\n",
      "tipo_de_trabajo    int64\n",
      "nivel_laboral      int64\n",
      "nombre_area        object\n",
      "nombre_empresa     object\n",
      "dtypes: float64(4), int64(5), object(6)\n",
      "memory usage: 1.1+ GB\n"
     ]
    }
   ],
   "source": [
    "modelo.info()"
   ]
  },
  {
   "cell_type": "markdown",
   "metadata": {},
   "source": [
    "Reordenamos las columnas para facilitar el manejo del dataframe cuando apliquemos los algoritmos de ML"
   ]
  },
  {
   "cell_type": "code",
   "execution_count": 101,
   "metadata": {},
   "outputs": [
    {
     "data": {
      "text/html": [
       "<div>\n",
       "<style scoped>\n",
       "    .dataframe tbody tr th:only-of-type {\n",
       "        vertical-align: middle;\n",
       "    }\n",
       "\n",
       "    .dataframe tbody tr th {\n",
       "        vertical-align: top;\n",
       "    }\n",
       "\n",
       "    .dataframe thead th {\n",
       "        text-align: right;\n",
       "    }\n",
       "</style>\n",
       "<table border=\"1\" class=\"dataframe\">\n",
       "  <thead>\n",
       "    <tr style=\"text-align: right;\">\n",
       "      <th></th>\n",
       "      <th>idaviso</th>\n",
       "      <th>idpostulante</th>\n",
       "      <th>cant_vistas</th>\n",
       "      <th>rango_edad</th>\n",
       "      <th>sexo</th>\n",
       "      <th>nivel_estudios</th>\n",
       "      <th>esta_estudiando</th>\n",
       "      <th>titulo</th>\n",
       "      <th>descripcion</th>\n",
       "      <th>tipo_de_trabajo</th>\n",
       "      <th>nivel_laboral</th>\n",
       "      <th>nombre_zona</th>\n",
       "      <th>nombre_area</th>\n",
       "      <th>nombre_empresa</th>\n",
       "      <th>sepostulo</th>\n",
       "    </tr>\n",
       "  </thead>\n",
       "  <tbody>\n",
       "    <tr>\n",
       "      <th>8573706</th>\n",
       "      <td>1112397030</td>\n",
       "      <td>DrXmBvP</td>\n",
       "      <td>1.0</td>\n",
       "      <td>2.0</td>\n",
       "      <td>1</td>\n",
       "      <td>4.0</td>\n",
       "      <td>1.0</td>\n",
       "      <td>Jefe de Ventas</td>\n",
       "      <td>&lt;p&gt;&lt;span style=\"\"&gt;Requisitos de posición: Más ...</td>\n",
       "      <td>10</td>\n",
       "      <td>4</td>\n",
       "      <td>3</td>\n",
       "      <td>Ventas</td>\n",
       "      <td>Michaelson Trase S.A.</td>\n",
       "      <td>1</td>\n",
       "    </tr>\n",
       "    <tr>\n",
       "      <th>2706108</th>\n",
       "      <td>1112477044</td>\n",
       "      <td>6rLmARO</td>\n",
       "      <td>1.0</td>\n",
       "      <td>2.0</td>\n",
       "      <td>1</td>\n",
       "      <td>3.0</td>\n",
       "      <td>1.0</td>\n",
       "      <td>Recepcionista Junior</td>\n",
       "      <td>&lt;p&gt;Buscamos una recepcionista con buena presen...</td>\n",
       "      <td>10</td>\n",
       "      <td>2</td>\n",
       "      <td>2</td>\n",
       "      <td>Recepcionista</td>\n",
       "      <td>FIX (aff. Fitch Ratings)</td>\n",
       "      <td>0</td>\n",
       "    </tr>\n",
       "    <tr>\n",
       "      <th>2213134</th>\n",
       "      <td>1112368250</td>\n",
       "      <td>A3X0xNG</td>\n",
       "      <td>1.0</td>\n",
       "      <td>3.0</td>\n",
       "      <td>1</td>\n",
       "      <td>2.0</td>\n",
       "      <td>0.0</td>\n",
       "      <td>VENDEDORES TELEFÓNICOS para TEVECOMPRAS</td>\n",
       "      <td>&lt;p&gt;Incorporamos VENDEDORES TELEFÓNICOS para nu...</td>\n",
       "      <td>9</td>\n",
       "      <td>3</td>\n",
       "      <td>3</td>\n",
       "      <td>Telemarketing</td>\n",
       "      <td>TEVECOMPRAS 2001 SRL</td>\n",
       "      <td>0</td>\n",
       "    </tr>\n",
       "    <tr>\n",
       "      <th>3063730</th>\n",
       "      <td>1112452062</td>\n",
       "      <td>EzOkNO4</td>\n",
       "      <td>1.0</td>\n",
       "      <td>1.0</td>\n",
       "      <td>1</td>\n",
       "      <td>4.0</td>\n",
       "      <td>1.0</td>\n",
       "      <td>Asistente asuntos regulatorios - Importante la...</td>\n",
       "      <td>&lt;p&gt;&lt;strong&gt;Adecco Office&lt;/strong&gt; está especia...</td>\n",
       "      <td>10</td>\n",
       "      <td>3</td>\n",
       "      <td>3</td>\n",
       "      <td>Laboratorio</td>\n",
       "      <td>Adecco -Región Office</td>\n",
       "      <td>0</td>\n",
       "    </tr>\n",
       "    <tr>\n",
       "      <th>5075986</th>\n",
       "      <td>1112433569</td>\n",
       "      <td>82mlZz</td>\n",
       "      <td>1.0</td>\n",
       "      <td>3.0</td>\n",
       "      <td>2</td>\n",
       "      <td>5.0</td>\n",
       "      <td>0.0</td>\n",
       "      <td>Analista Semi Senior / Senior de RRHH (Perfil ...</td>\n",
       "      <td>&lt;p&gt;Empresa nacional de servicios (rubro sanita...</td>\n",
       "      <td>10</td>\n",
       "      <td>3</td>\n",
       "      <td>3</td>\n",
       "      <td>Recursos Humanos</td>\n",
       "      <td>INSIGNIA TALENTO</td>\n",
       "      <td>0</td>\n",
       "    </tr>\n",
       "  </tbody>\n",
       "</table>\n",
       "</div>"
      ],
      "text/plain": [
       "            idaviso idpostulante  cant_vistas  rango_edad sexo  \\\n",
       "8573706  1112397030      DrXmBvP          1.0         2.0    1   \n",
       "2706108  1112477044      6rLmARO          1.0         2.0    1   \n",
       "2213134  1112368250      A3X0xNG          1.0         3.0    1   \n",
       "3063730  1112452062      EzOkNO4          1.0         1.0    1   \n",
       "5075986  1112433569       82mlZz          1.0         3.0    2   \n",
       "\n",
       "         nivel_estudios  esta_estudiando  \\\n",
       "8573706             4.0              1.0   \n",
       "2706108             3.0              1.0   \n",
       "2213134             2.0              0.0   \n",
       "3063730             4.0              1.0   \n",
       "5075986             5.0              0.0   \n",
       "\n",
       "                                                    titulo  \\\n",
       "8573706                                    Jefe de Ventas    \n",
       "2706108                               Recepcionista Junior   \n",
       "2213134            VENDEDORES TELEFÓNICOS para TEVECOMPRAS   \n",
       "3063730  Asistente asuntos regulatorios - Importante la...   \n",
       "5075986  Analista Semi Senior / Senior de RRHH (Perfil ...   \n",
       "\n",
       "                                               descripcion  tipo_de_trabajo  \\\n",
       "8573706  <p><span style=\"\">Requisitos de posición: Más ...               10   \n",
       "2706108  <p>Buscamos una recepcionista con buena presen...               10   \n",
       "2213134  <p>Incorporamos VENDEDORES TELEFÓNICOS para nu...                9   \n",
       "3063730  <p><strong>Adecco Office</strong> está especia...               10   \n",
       "5075986  <p>Empresa nacional de servicios (rubro sanita...               10   \n",
       "\n",
       "         nivel_laboral  nombre_zona       nombre_area  \\\n",
       "8573706              4            3            Ventas   \n",
       "2706108              2            2     Recepcionista   \n",
       "2213134              3            3     Telemarketing   \n",
       "3063730              3            3       Laboratorio   \n",
       "5075986              3            3  Recursos Humanos   \n",
       "\n",
       "                   nombre_empresa  sepostulo  \n",
       "8573706     Michaelson Trase S.A.          1  \n",
       "2706108  FIX (aff. Fitch Ratings)          0  \n",
       "2213134      TEVECOMPRAS 2001 SRL          0  \n",
       "3063730     Adecco -Región Office          0  \n",
       "5075986          INSIGNIA TALENTO          0  "
      ]
     },
     "execution_count": 101,
     "metadata": {},
     "output_type": "execute_result"
    }
   ],
   "source": [
    "modelo = modelo[['idaviso','idpostulante','cant_vistas','rango_edad','sexo',\\\n",
    "                 'nivel_estudios','esta_estudiando','titulo','descripcion','tipo_de_trabajo',\\\n",
    "                 'nivel_laboral','nombre_zona','nombre_area','nombre_empresa',\\\n",
    "                 'sepostulo']]\n",
    "\n",
    "modelo.sample(5)"
   ]
  },
  {
   "cell_type": "code",
   "execution_count": 102,
   "metadata": {},
   "outputs": [
    {
     "name": "stdout",
     "output_type": "stream",
     "text": [
      "<class 'pandas.core.frame.DataFrame'>\n",
      "Int64Index: 9223108 entries, 0 to 9223107\n",
      "Data columns (total 15 columns):\n",
      "idaviso            int64\n",
      "idpostulante       object\n",
      "cant_vistas        float64\n",
      "rango_edad         float64\n",
      "sexo               object\n",
      "nivel_estudios     float64\n",
      "esta_estudiando    float64\n",
      "titulo             object\n",
      "descripcion        object\n",
      "tipo_de_trabajo    int64\n",
      "nivel_laboral      int64\n",
      "nombre_zona        int64\n",
      "nombre_area        object\n",
      "nombre_empresa     object\n",
      "sepostulo          int64\n",
      "dtypes: float64(4), int64(5), object(6)\n",
      "memory usage: 1.1+ GB\n"
     ]
    }
   ],
   "source": [
    "modelo.info()"
   ]
  },
  {
   "cell_type": "markdown",
   "metadata": {},
   "source": [
    " "
   ]
  },
  {
   "cell_type": "markdown",
   "metadata": {},
   "source": [
    "Analizamos la cantidad de postulaciones y no postulaciones con las que cuenta el dataframe."
   ]
  },
  {
   "cell_type": "code",
   "execution_count": 103,
   "metadata": {},
   "outputs": [
    {
     "data": {
      "text/plain": [
       "1    5792310\n",
       "0    3430798\n",
       "Name: sepostulo, dtype: int64"
      ]
     },
     "execution_count": 103,
     "metadata": {},
     "output_type": "execute_result"
    }
   ],
   "source": [
    "modelo[\"sepostulo\"].value_counts()"
   ]
  },
  {
   "cell_type": "markdown",
   "metadata": {},
   "source": [
    " "
   ]
  },
  {
   "cell_type": "markdown",
   "metadata": {},
   "source": [
    "Liberamos memoria para mejorar la performance"
   ]
  },
  {
   "cell_type": "code",
   "execution_count": 106,
   "metadata": {},
   "outputs": [],
   "source": [
    "postulantes_educ=0\n",
    "postulantes_educ_2=0\n",
    "postulantes_gen_nac=0\n",
    "postulantes_gen_nac_2=0\n",
    "fecha_nac=0\n",
    "año_nac=0\n",
    "edad_min=0\n",
    "edad_max=0\n",
    "postulantes=0\n",
    "vistas=0\n",
    "vista_2=0\n",
    "lista=0\n",
    "fecha=0\n",
    "postulaciones=0\n",
    "postulaciones_2=0\n",
    "avisos_detalles=0\n",
    "avisos_detalles_2=0"
   ]
  },
  {
   "cell_type": "markdown",
   "metadata": {},
   "source": [
    "Considerando la gran cantidad de registros que tiene el dataframe, decidimos tomar una porción aleatoria y equitativa de postulaciones y no postulaciones"
   ]
  },
  {
   "cell_type": "code",
   "execution_count": 107,
   "metadata": {},
   "outputs": [],
   "source": [
    "no = modelo[\"sepostulo\"] == 0\n",
    "si = modelo[\"sepostulo\"] == 1\n",
    "\n",
    "modelo_no = modelo[no]\n",
    "modelo_si = modelo[si]"
   ]
  },
  {
   "cell_type": "code",
   "execution_count": 108,
   "metadata": {},
   "outputs": [
    {
     "data": {
      "text/html": [
       "<div>\n",
       "<style scoped>\n",
       "    .dataframe tbody tr th:only-of-type {\n",
       "        vertical-align: middle;\n",
       "    }\n",
       "\n",
       "    .dataframe tbody tr th {\n",
       "        vertical-align: top;\n",
       "    }\n",
       "\n",
       "    .dataframe thead th {\n",
       "        text-align: right;\n",
       "    }\n",
       "</style>\n",
       "<table border=\"1\" class=\"dataframe\">\n",
       "  <thead>\n",
       "    <tr style=\"text-align: right;\">\n",
       "      <th></th>\n",
       "      <th>idaviso</th>\n",
       "      <th>idpostulante</th>\n",
       "      <th>cant_vistas</th>\n",
       "      <th>rango_edad</th>\n",
       "      <th>sexo</th>\n",
       "      <th>nivel_estudios</th>\n",
       "      <th>esta_estudiando</th>\n",
       "      <th>titulo</th>\n",
       "      <th>descripcion</th>\n",
       "      <th>tipo_de_trabajo</th>\n",
       "      <th>nivel_laboral</th>\n",
       "      <th>nombre_zona</th>\n",
       "      <th>nombre_area</th>\n",
       "      <th>nombre_empresa</th>\n",
       "      <th>sepostulo</th>\n",
       "    </tr>\n",
       "  </thead>\n",
       "  <tbody>\n",
       "    <tr>\n",
       "      <th>109328</th>\n",
       "      <td>1112394874</td>\n",
       "      <td>rm0N6wb</td>\n",
       "      <td>1.0</td>\n",
       "      <td>1.0</td>\n",
       "      <td>2</td>\n",
       "      <td>4.0</td>\n",
       "      <td>1.0</td>\n",
       "      <td>Jóvenes con perfil técnico y comercial - impor...</td>\n",
       "      <td>&lt;p&gt;Nos encontramos en búsqueda de jóvenes grad...</td>\n",
       "      <td>10</td>\n",
       "      <td>2</td>\n",
       "      <td>3</td>\n",
       "      <td>Ventas</td>\n",
       "      <td>Gentile y Asociados Consultores</td>\n",
       "      <td>0</td>\n",
       "    </tr>\n",
       "    <tr>\n",
       "      <th>115916</th>\n",
       "      <td>1112454993</td>\n",
       "      <td>193bkz</td>\n",
       "      <td>1.0</td>\n",
       "      <td>3.0</td>\n",
       "      <td>1</td>\n",
       "      <td>3.0</td>\n",
       "      <td>0.0</td>\n",
       "      <td>Asesores Comerciales Telefónicos</td>\n",
       "      <td>&lt;p align=\"center\"&gt;&lt;strong&gt;ASSIST CARD&lt;/strong&gt;...</td>\n",
       "      <td>9</td>\n",
       "      <td>3</td>\n",
       "      <td>3</td>\n",
       "      <td>Ventas</td>\n",
       "      <td>ASSIST CARD</td>\n",
       "      <td>0</td>\n",
       "    </tr>\n",
       "    <tr>\n",
       "      <th>437575</th>\n",
       "      <td>1112429861</td>\n",
       "      <td>ZY514V</td>\n",
       "      <td>1.0</td>\n",
       "      <td>3.0</td>\n",
       "      <td>2</td>\n",
       "      <td>3.0</td>\n",
       "      <td>0.0</td>\n",
       "      <td>Coordinador para Zona Residencial - Villa Olím...</td>\n",
       "      <td>&lt;p style=\"\"&gt;&lt;span style=\"\"&gt;Unidad de Proyecto ...</td>\n",
       "      <td>10</td>\n",
       "      <td>3</td>\n",
       "      <td>3</td>\n",
       "      <td>Hotelería</td>\n",
       "      <td>Gobierno de la Ciudad de Buenos Aires</td>\n",
       "      <td>0</td>\n",
       "    </tr>\n",
       "    <tr>\n",
       "      <th>195074</th>\n",
       "      <td>1112412660</td>\n",
       "      <td>Rz6O0M1</td>\n",
       "      <td>1.0</td>\n",
       "      <td>2.0</td>\n",
       "      <td>1</td>\n",
       "      <td>4.0</td>\n",
       "      <td>1.0</td>\n",
       "      <td>Recepcionista Administrativa</td>\n",
       "      <td>&lt;p&gt;Buscamos sumar una Recepcionista Administra...</td>\n",
       "      <td>10</td>\n",
       "      <td>3</td>\n",
       "      <td>3</td>\n",
       "      <td>Recepcionista</td>\n",
       "      <td>INSIGNIA TALENTO</td>\n",
       "      <td>0</td>\n",
       "    </tr>\n",
       "    <tr>\n",
       "      <th>251844</th>\n",
       "      <td>1112437476</td>\n",
       "      <td>bOjKre9</td>\n",
       "      <td>1.0</td>\n",
       "      <td>1.0</td>\n",
       "      <td>2</td>\n",
       "      <td>4.0</td>\n",
       "      <td>1.0</td>\n",
       "      <td>Operadores Telefónicos Trilingües (Portugues N...</td>\n",
       "      <td>&lt;p&gt;Para importante empresa de servicios, nos e...</td>\n",
       "      <td>9</td>\n",
       "      <td>2</td>\n",
       "      <td>3</td>\n",
       "      <td>Atención al Cliente</td>\n",
       "      <td>NovaSearch</td>\n",
       "      <td>0</td>\n",
       "    </tr>\n",
       "  </tbody>\n",
       "</table>\n",
       "</div>"
      ],
      "text/plain": [
       "           idaviso idpostulante  cant_vistas  rango_edad sexo  nivel_estudios  \\\n",
       "109328  1112394874      rm0N6wb          1.0         1.0    2             4.0   \n",
       "115916  1112454993       193bkz          1.0         3.0    1             3.0   \n",
       "437575  1112429861       ZY514V          1.0         3.0    2             3.0   \n",
       "195074  1112412660      Rz6O0M1          1.0         2.0    1             4.0   \n",
       "251844  1112437476      bOjKre9          1.0         1.0    2             4.0   \n",
       "\n",
       "        esta_estudiando                                             titulo  \\\n",
       "109328              1.0  Jóvenes con perfil técnico y comercial - impor...   \n",
       "115916              0.0                   Asesores Comerciales Telefónicos   \n",
       "437575              0.0  Coordinador para Zona Residencial - Villa Olím...   \n",
       "195074              1.0                       Recepcionista Administrativa   \n",
       "251844              1.0  Operadores Telefónicos Trilingües (Portugues N...   \n",
       "\n",
       "                                              descripcion  tipo_de_trabajo  \\\n",
       "109328  <p>Nos encontramos en búsqueda de jóvenes grad...               10   \n",
       "115916  <p align=\"center\"><strong>ASSIST CARD</strong>...                9   \n",
       "437575  <p style=\"\"><span style=\"\">Unidad de Proyecto ...               10   \n",
       "195074  <p>Buscamos sumar una Recepcionista Administra...               10   \n",
       "251844  <p>Para importante empresa de servicios, nos e...                9   \n",
       "\n",
       "        nivel_laboral  nombre_zona          nombre_area  \\\n",
       "109328              2            3               Ventas   \n",
       "115916              3            3               Ventas   \n",
       "437575              3            3            Hotelería   \n",
       "195074              3            3        Recepcionista   \n",
       "251844              2            3  Atención al Cliente   \n",
       "\n",
       "                               nombre_empresa  sepostulo  \n",
       "109328        Gentile y Asociados Consultores          0  \n",
       "115916                            ASSIST CARD          0  \n",
       "437575  Gobierno de la Ciudad de Buenos Aires          0  \n",
       "195074                       INSIGNIA TALENTO          0  \n",
       "251844                             NovaSearch          0  "
      ]
     },
     "execution_count": 108,
     "metadata": {},
     "output_type": "execute_result"
    }
   ],
   "source": [
    "n_samples = 500000\n",
    "\n",
    "modelo_no = modelo_no.sample(n_samples)\n",
    "modelo_si = modelo_si.sample(n_samples)\n",
    "\n",
    "modelo_final = pd.merge(modelo_no, modelo_si, how='outer')\n",
    "\n",
    "modelo_final.sample(5)"
   ]
  },
  {
   "cell_type": "markdown",
   "metadata": {},
   "source": [
    " "
   ]
  },
  {
   "cell_type": "markdown",
   "metadata": {},
   "source": [
    "Transformamos las variables categóricas de entero, objeto o flotante a categóricas propiamente dichas"
   ]
  },
  {
   "cell_type": "code",
   "execution_count": 112,
   "metadata": {},
   "outputs": [],
   "source": [
    "modelo_final['rango_edad'] = modelo_final['rango_edad'].astype('category')\n",
    "modelo_final['sexo'] = modelo_final['sexo'].astype('category') \n",
    "modelo_final['nivel_estudios'] = modelo_final['nivel_estudios'].astype('category')\n",
    "modelo_final['esta_estudiando'] = modelo_final['esta_estudiando'].astype('category')\n",
    "modelo_final['tipo_de_trabajo'] = modelo_final['tipo_de_trabajo'].astype('category')\n",
    "modelo_final['nivel_laboral'] = modelo_final['nivel_laboral'].astype('category')\n",
    "modelo_final['nombre_zona'] = modelo_final['nombre_zona'].astype('category')\n",
    "modelo_final['sepostulo'] = modelo_final['sepostulo'].astype('category')"
   ]
  },
  {
   "cell_type": "code",
   "execution_count": 113,
   "metadata": {},
   "outputs": [
    {
     "name": "stdout",
     "output_type": "stream",
     "text": [
      "<class 'pandas.core.frame.DataFrame'>\n",
      "Int64Index: 1000000 entries, 0 to 999999\n",
      "Data columns (total 15 columns):\n",
      "idaviso            1000000 non-null int64\n",
      "idpostulante       1000000 non-null object\n",
      "cant_vistas        1000000 non-null float64\n",
      "rango_edad         1000000 non-null category\n",
      "sexo               1000000 non-null category\n",
      "nivel_estudios     1000000 non-null category\n",
      "esta_estudiando    1000000 non-null category\n",
      "titulo             1000000 non-null object\n",
      "descripcion        1000000 non-null object\n",
      "tipo_de_trabajo    1000000 non-null category\n",
      "nivel_laboral      1000000 non-null category\n",
      "nombre_zona        1000000 non-null category\n",
      "nombre_area        1000000 non-null object\n",
      "nombre_empresa     999955 non-null object\n",
      "sepostulo          1000000 non-null category\n",
      "dtypes: category(8), float64(1), int64(1), object(5)\n",
      "memory usage: 68.7+ MB\n"
     ]
    }
   ],
   "source": [
    "modelo_final.info()"
   ]
  },
  {
   "cell_type": "markdown",
   "metadata": {},
   "source": [
    " "
   ]
  },
  {
   "cell_type": "markdown",
   "metadata": {},
   "source": [
    "Exportamos el modelo final a un CSV file, para desentendernos de todas las operaciones costosas de dataframes a partir de este punto, y poder tener el set de entrenamiento ya listo para los algoritmos de Machine Learning."
   ]
  },
  {
   "cell_type": "code",
   "execution_count": 114,
   "metadata": {},
   "outputs": [],
   "source": [
    "modelo_final.to_csv(\"modelo_final.csv\", encoding = \"utf-8\")"
   ]
  },
  {
   "cell_type": "code",
   "execution_count": null,
   "metadata": {},
   "outputs": [],
   "source": []
  }
 ],
 "metadata": {
  "kernelspec": {
   "display_name": "Python 3",
   "language": "python",
   "name": "python3"
  },
  "language_info": {
   "codemirror_mode": {
    "name": "ipython",
    "version": 3
   },
   "file_extension": ".py",
   "mimetype": "text/x-python",
   "name": "python",
   "nbconvert_exporter": "python",
   "pygments_lexer": "ipython3",
   "version": "3.5.2"
  }
 },
 "nbformat": 4,
 "nbformat_minor": 2
}
