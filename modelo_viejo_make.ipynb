{
 "cells": [
  {
   "cell_type": "markdown",
   "metadata": {},
   "source": [
    "# Importación de librerías"
   ]
  },
  {
   "cell_type": "code",
   "execution_count": 1,
   "metadata": {},
   "outputs": [],
   "source": [
    "import pandas as pd\n",
    "import numpy as np\n",
    "import matplotlib.pyplot as plt\n",
    "\n",
    "from time import time\n",
    "\n",
    "%matplotlib inline\n",
    "%matplotlib notebook\n",
    "plt.style.use('default')"
   ]
  },
  {
   "cell_type": "markdown",
   "metadata": {},
   "source": [
    "# Operaciones con los dataframes"
   ]
  },
  {
   "cell_type": "markdown",
   "metadata": {},
   "source": [
    "### DF 1: Educación de los postulantes"
   ]
  },
  {
   "cell_type": "markdown",
   "metadata": {},
   "source": [
    "Realizamos un merge de los 3 dataframes de educación de los postulantes que nos fueron provistos, para poder trabajar de manera unificada."
   ]
  },
  {
   "cell_type": "code",
   "execution_count": 2,
   "metadata": {},
   "outputs": [
    {
     "data": {
      "text/html": [
       "<div>\n",
       "<style scoped>\n",
       "    .dataframe tbody tr th:only-of-type {\n",
       "        vertical-align: middle;\n",
       "    }\n",
       "\n",
       "    .dataframe tbody tr th {\n",
       "        vertical-align: top;\n",
       "    }\n",
       "\n",
       "    .dataframe thead th {\n",
       "        text-align: right;\n",
       "    }\n",
       "</style>\n",
       "<table border=\"1\" class=\"dataframe\">\n",
       "  <thead>\n",
       "    <tr style=\"text-align: right;\">\n",
       "      <th></th>\n",
       "      <th>idpostulante</th>\n",
       "      <th>titulo_univ</th>\n",
       "      <th>estado</th>\n",
       "    </tr>\n",
       "  </thead>\n",
       "  <tbody>\n",
       "    <tr>\n",
       "      <th>0</th>\n",
       "      <td>ZjlZ</td>\n",
       "      <td>Master</td>\n",
       "      <td>En Curso</td>\n",
       "    </tr>\n",
       "    <tr>\n",
       "      <th>1</th>\n",
       "      <td>NdJl</td>\n",
       "      <td>Posgrado</td>\n",
       "      <td>En Curso</td>\n",
       "    </tr>\n",
       "    <tr>\n",
       "      <th>2</th>\n",
       "      <td>5kNq</td>\n",
       "      <td>Otro</td>\n",
       "      <td>En Curso</td>\n",
       "    </tr>\n",
       "    <tr>\n",
       "      <th>3</th>\n",
       "      <td>8rYD</td>\n",
       "      <td>Master</td>\n",
       "      <td>En Curso</td>\n",
       "    </tr>\n",
       "    <tr>\n",
       "      <th>4</th>\n",
       "      <td>1Wvj</td>\n",
       "      <td>Universitario</td>\n",
       "      <td>En Curso</td>\n",
       "    </tr>\n",
       "  </tbody>\n",
       "</table>\n",
       "</div>"
      ],
      "text/plain": [
       "  idpostulante    titulo_univ    estado\n",
       "0         ZjlZ         Master  En Curso\n",
       "1         NdJl       Posgrado  En Curso\n",
       "2         5kNq           Otro  En Curso\n",
       "3         8rYD         Master  En Curso\n",
       "4         1Wvj  Universitario  En Curso"
      ]
     },
     "execution_count": 2,
     "metadata": {},
     "output_type": "execute_result"
    }
   ],
   "source": [
    "postulantes_educ = pd.read_csv('datos_navent_fiuba/h15_fiuba_1_postulantes_educacion.csv')\n",
    "postulantes_educ_2 = pd.read_csv('datos_navent_fiuba/d15_fiuba_1_postulantes_educacion.csv')\n",
    "\n",
    "postulantes_educ = pd.merge(postulantes_educ, postulantes_educ_2, on=['idpostulante', 'nombre', 'estado']\\\n",
    "                       , how='outer')\n",
    "\n",
    "postulantes_educ_2 = pd.read_csv('datos_navent_fiuba/fiuba_1_postulantes_educacion.csv')\n",
    "\n",
    "postulantes_educ = pd.merge(postulantes_educ, postulantes_educ_2, on=['idpostulante', 'nombre', 'estado']\\\n",
    "                       , how='outer')\n",
    "\n",
    "# Renombramos la columna 'nombre' por algo mas apropiado\n",
    "postulantes_educ.rename(columns={'nombre':'titulo_univ'}, inplace=True)\n",
    "\n",
    "postulantes_educ.head()"
   ]
  },
  {
   "cell_type": "code",
   "execution_count": 3,
   "metadata": {},
   "outputs": [
    {
     "name": "stdout",
     "output_type": "stream",
     "text": [
      "<class 'pandas.core.frame.DataFrame'>\n",
      "Int64Index: 693641 entries, 0 to 693640\n",
      "Data columns (total 3 columns):\n",
      "idpostulante    693641 non-null object\n",
      "titulo_univ     693641 non-null object\n",
      "estado          693641 non-null object\n",
      "dtypes: object(3)\n",
      "memory usage: 21.2+ MB\n"
     ]
    }
   ],
   "source": [
    "postulantes_educ.info()"
   ]
  },
  {
   "cell_type": "markdown",
   "metadata": {},
   "source": [
    "Transformamos los strings de los títulos universitarios en variables numéricas.\n",
    "En principio esto lo realizamos para poder eliminar los IDs duplicados del dataframe. Aquí se contemplan los casos de postulantes que ingresaron con distintos títulos o que el estado de su título varió entre una postulación y la otra. A su vez, esto nos servirá más adelante para aplicar los algoritmos de Machine Learning.\n",
    "\n",
    "Analizamos los distintos tipos de títulos universitarios que existen."
   ]
  },
  {
   "cell_type": "code",
   "execution_count": 4,
   "metadata": {},
   "outputs": [
    {
     "data": {
      "text/plain": [
       "titulo_univ\n",
       "Doctorado               620\n",
       "Master                10074\n",
       "Otro                  53363\n",
       "Posgrado              20624\n",
       "Secundario           244689\n",
       "Terciario/Técnico    113421\n",
       "Universitario        250850\n",
       "Name: titulo_univ, dtype: int64"
      ]
     },
     "execution_count": 4,
     "metadata": {},
     "output_type": "execute_result"
    }
   ],
   "source": [
    "postulantes_educ.groupby('titulo_univ')['titulo_univ'].count()"
   ]
  },
  {
   "cell_type": "markdown",
   "metadata": {},
   "source": [
    "Pasamos a variables numéricas cada una de las combinaciones de título y estado de título, a fin de armar un orden de jerarquía de títulos, de manera tal de quedarnos por cada ID del postulante con su título más avanzado.\n",
    "\n",
    "NOTA: consideramos que 'Otro' es el nivel jerárquico más bajo."
   ]
  },
  {
   "cell_type": "code",
   "execution_count": 5,
   "metadata": {},
   "outputs": [
    {
     "data": {
      "text/html": [
       "<div>\n",
       "<style scoped>\n",
       "    .dataframe tbody tr th:only-of-type {\n",
       "        vertical-align: middle;\n",
       "    }\n",
       "\n",
       "    .dataframe tbody tr th {\n",
       "        vertical-align: top;\n",
       "    }\n",
       "\n",
       "    .dataframe thead th {\n",
       "        text-align: right;\n",
       "    }\n",
       "</style>\n",
       "<table border=\"1\" class=\"dataframe\">\n",
       "  <thead>\n",
       "    <tr style=\"text-align: right;\">\n",
       "      <th></th>\n",
       "      <th>idpostulante</th>\n",
       "      <th>titulo_univ</th>\n",
       "      <th>estado</th>\n",
       "      <th>estudios</th>\n",
       "    </tr>\n",
       "  </thead>\n",
       "  <tbody>\n",
       "    <tr>\n",
       "      <th>218434</th>\n",
       "      <td>JBX2MYp</td>\n",
       "      <td>Universitario</td>\n",
       "      <td>Abandonado</td>\n",
       "      <td>4.0</td>\n",
       "    </tr>\n",
       "    <tr>\n",
       "      <th>10606</th>\n",
       "      <td>mzbMKMY</td>\n",
       "      <td>Secundario</td>\n",
       "      <td>Graduado</td>\n",
       "      <td>2.0</td>\n",
       "    </tr>\n",
       "    <tr>\n",
       "      <th>205445</th>\n",
       "      <td>kPjOGlb</td>\n",
       "      <td>Secundario</td>\n",
       "      <td>Graduado</td>\n",
       "      <td>2.0</td>\n",
       "    </tr>\n",
       "    <tr>\n",
       "      <th>485463</th>\n",
       "      <td>LNwaQxB</td>\n",
       "      <td>Master</td>\n",
       "      <td>Graduado</td>\n",
       "      <td>6.0</td>\n",
       "    </tr>\n",
       "    <tr>\n",
       "      <th>455835</th>\n",
       "      <td>96Xeppp</td>\n",
       "      <td>Terciario/Técnico</td>\n",
       "      <td>Abandonado</td>\n",
       "      <td>3.0</td>\n",
       "    </tr>\n",
       "  </tbody>\n",
       "</table>\n",
       "</div>"
      ],
      "text/plain": [
       "       idpostulante        titulo_univ      estado  estudios\n",
       "218434      JBX2MYp      Universitario  Abandonado       4.0\n",
       "10606       mzbMKMY         Secundario    Graduado       2.0\n",
       "205445      kPjOGlb         Secundario    Graduado       2.0\n",
       "485463      LNwaQxB             Master    Graduado       6.0\n",
       "455835      96Xeppp  Terciario/Técnico  Abandonado       3.0"
      ]
     },
     "execution_count": 5,
     "metadata": {},
     "output_type": "execute_result"
    }
   ],
   "source": [
    "# Otro\n",
    "postulantes_educ.loc[(postulantes_educ[\"titulo_univ\"] == \"Otro\"), 'estudios'] = 1\n",
    " \n",
    "# Secundario\n",
    "postulantes_educ.loc[(postulantes_educ['titulo_univ'] == 'Secundario'), 'estudios'] = 2\n",
    "\n",
    "# Terciario/ Técnico\n",
    "postulantes_educ.loc[(postulantes_educ['titulo_univ'] == 'Terciario/Técnico'), 'estudios'] = 3\n",
    "\n",
    "# Universitario\n",
    "postulantes_educ.loc[(postulantes_educ['titulo_univ'] == 'Universitario'), 'estudios'] = 4\n",
    "\n",
    "# Posgrado\n",
    "postulantes_educ.loc[(postulantes_educ['titulo_univ'] == 'Posgrado'), 'estudios'] = 5\n",
    "\n",
    "# Master\n",
    "postulantes_educ.loc[(postulantes_educ['titulo_univ'] == 'Master'), 'estudios'] = 6\n",
    "\n",
    "# Doctorado\n",
    "postulantes_educ.loc[(postulantes_educ['titulo_univ'] == 'Doctorado'), 'estudios'] = 7\n",
    "\n",
    "postulantes_educ.sample(5)"
   ]
  },
  {
   "cell_type": "markdown",
   "metadata": {},
   "source": [
    "Analizamos la cantidad de IDs duplicados"
   ]
  },
  {
   "cell_type": "code",
   "execution_count": 6,
   "metadata": {},
   "outputs": [
    {
     "data": {
      "text/plain": [
       "180088"
      ]
     },
     "execution_count": 6,
     "metadata": {},
     "output_type": "execute_result"
    }
   ],
   "source": [
    "IDs_duplicados = sum(postulantes_educ['idpostulante'].value_counts() > 1)\n",
    "IDs_duplicados"
   ]
  },
  {
   "cell_type": "markdown",
   "metadata": {},
   "source": [
    "Ordenamos el dataframe según el orden jerárquico de estudio en forma descendente."
   ]
  },
  {
   "cell_type": "code",
   "execution_count": 7,
   "metadata": {},
   "outputs": [],
   "source": [
    "postulantes_educ = postulantes_educ.sort_values('estudios', ascending=False)"
   ]
  },
  {
   "cell_type": "markdown",
   "metadata": {},
   "source": [
    "Eliminamos todos los IDs duplicados. Considerando que previamente se ordenó el dataframe por orden de estudio, quedará un único ID por postulante con su título más avanzado."
   ]
  },
  {
   "cell_type": "code",
   "execution_count": 8,
   "metadata": {},
   "outputs": [
    {
     "data": {
      "text/html": [
       "<div>\n",
       "<style scoped>\n",
       "    .dataframe tbody tr th:only-of-type {\n",
       "        vertical-align: middle;\n",
       "    }\n",
       "\n",
       "    .dataframe tbody tr th {\n",
       "        vertical-align: top;\n",
       "    }\n",
       "\n",
       "    .dataframe thead th {\n",
       "        text-align: right;\n",
       "    }\n",
       "</style>\n",
       "<table border=\"1\" class=\"dataframe\">\n",
       "  <thead>\n",
       "    <tr style=\"text-align: right;\">\n",
       "      <th></th>\n",
       "      <th>idpostulante</th>\n",
       "      <th>titulo_univ</th>\n",
       "      <th>estado</th>\n",
       "      <th>estudios</th>\n",
       "    </tr>\n",
       "  </thead>\n",
       "  <tbody>\n",
       "    <tr>\n",
       "      <th>332688</th>\n",
       "      <td>lDwjkOz</td>\n",
       "      <td>Secundario</td>\n",
       "      <td>Graduado</td>\n",
       "      <td>2.0</td>\n",
       "    </tr>\n",
       "    <tr>\n",
       "      <th>268347</th>\n",
       "      <td>dY9jw5D</td>\n",
       "      <td>Secundario</td>\n",
       "      <td>Graduado</td>\n",
       "      <td>2.0</td>\n",
       "    </tr>\n",
       "    <tr>\n",
       "      <th>214543</th>\n",
       "      <td>5OAb2X</td>\n",
       "      <td>Universitario</td>\n",
       "      <td>En Curso</td>\n",
       "      <td>4.0</td>\n",
       "    </tr>\n",
       "    <tr>\n",
       "      <th>427476</th>\n",
       "      <td>3NzGYaq</td>\n",
       "      <td>Otro</td>\n",
       "      <td>En Curso</td>\n",
       "      <td>1.0</td>\n",
       "    </tr>\n",
       "    <tr>\n",
       "      <th>355185</th>\n",
       "      <td>e3BEvr</td>\n",
       "      <td>Posgrado</td>\n",
       "      <td>En Curso</td>\n",
       "      <td>5.0</td>\n",
       "    </tr>\n",
       "  </tbody>\n",
       "</table>\n",
       "</div>"
      ],
      "text/plain": [
       "       idpostulante    titulo_univ    estado  estudios\n",
       "332688      lDwjkOz     Secundario  Graduado       2.0\n",
       "268347      dY9jw5D     Secundario  Graduado       2.0\n",
       "214543       5OAb2X  Universitario  En Curso       4.0\n",
       "427476      3NzGYaq           Otro  En Curso       1.0\n",
       "355185       e3BEvr       Posgrado  En Curso       5.0"
      ]
     },
     "execution_count": 8,
     "metadata": {},
     "output_type": "execute_result"
    }
   ],
   "source": [
    "postulantes_educ = postulantes_educ.drop_duplicates('idpostulante')\n",
    "postulantes_educ.sample(5)"
   ]
  },
  {
   "cell_type": "markdown",
   "metadata": {},
   "source": [
    "Comprobamos que efectivamente no quedaron IDs duplicados."
   ]
  },
  {
   "cell_type": "code",
   "execution_count": 9,
   "metadata": {},
   "outputs": [
    {
     "data": {
      "text/plain": [
       "0"
      ]
     },
     "execution_count": 9,
     "metadata": {},
     "output_type": "execute_result"
    }
   ],
   "source": [
    "IDs_duplicados = sum(postulantes_educ['idpostulante'].value_counts() > 1)\n",
    "IDs_duplicados"
   ]
  },
  {
   "cell_type": "markdown",
   "metadata": {},
   "source": [
    "Creamos una nueva columna que indica si el postulante en cuestión tiene un título en curso o ya se graduó/ abandonó"
   ]
  },
  {
   "cell_type": "code",
   "execution_count": 10,
   "metadata": {},
   "outputs": [
    {
     "data": {
      "text/plain": [
       "Graduado      253166\n",
       "En Curso      148362\n",
       "Abandonado     46381\n",
       "Name: estado, dtype: int64"
      ]
     },
     "execution_count": 10,
     "metadata": {},
     "output_type": "execute_result"
    }
   ],
   "source": [
    "postulantes_educ['estado'].value_counts()"
   ]
  },
  {
   "cell_type": "code",
   "execution_count": 11,
   "metadata": {},
   "outputs": [
    {
     "data": {
      "text/html": [
       "<div>\n",
       "<style scoped>\n",
       "    .dataframe tbody tr th:only-of-type {\n",
       "        vertical-align: middle;\n",
       "    }\n",
       "\n",
       "    .dataframe tbody tr th {\n",
       "        vertical-align: top;\n",
       "    }\n",
       "\n",
       "    .dataframe thead th {\n",
       "        text-align: right;\n",
       "    }\n",
       "</style>\n",
       "<table border=\"1\" class=\"dataframe\">\n",
       "  <thead>\n",
       "    <tr style=\"text-align: right;\">\n",
       "      <th></th>\n",
       "      <th>idpostulante</th>\n",
       "      <th>titulo_univ</th>\n",
       "      <th>estado</th>\n",
       "      <th>estudios</th>\n",
       "      <th>esta_estudiando</th>\n",
       "    </tr>\n",
       "  </thead>\n",
       "  <tbody>\n",
       "    <tr>\n",
       "      <th>305653</th>\n",
       "      <td>X9xqmJv</td>\n",
       "      <td>Universitario</td>\n",
       "      <td>Abandonado</td>\n",
       "      <td>4.0</td>\n",
       "      <td>0.0</td>\n",
       "    </tr>\n",
       "    <tr>\n",
       "      <th>260389</th>\n",
       "      <td>pzdX1GL</td>\n",
       "      <td>Universitario</td>\n",
       "      <td>En Curso</td>\n",
       "      <td>4.0</td>\n",
       "      <td>1.0</td>\n",
       "    </tr>\n",
       "    <tr>\n",
       "      <th>8569</th>\n",
       "      <td>bO4Qbd2</td>\n",
       "      <td>Universitario</td>\n",
       "      <td>En Curso</td>\n",
       "      <td>4.0</td>\n",
       "      <td>1.0</td>\n",
       "    </tr>\n",
       "    <tr>\n",
       "      <th>689110</th>\n",
       "      <td>kPjxXdJ</td>\n",
       "      <td>Secundario</td>\n",
       "      <td>Graduado</td>\n",
       "      <td>2.0</td>\n",
       "      <td>0.0</td>\n",
       "    </tr>\n",
       "    <tr>\n",
       "      <th>594548</th>\n",
       "      <td>xkPeKAK</td>\n",
       "      <td>Universitario</td>\n",
       "      <td>En Curso</td>\n",
       "      <td>4.0</td>\n",
       "      <td>1.0</td>\n",
       "    </tr>\n",
       "  </tbody>\n",
       "</table>\n",
       "</div>"
      ],
      "text/plain": [
       "       idpostulante    titulo_univ      estado  estudios  esta_estudiando\n",
       "305653      X9xqmJv  Universitario  Abandonado       4.0              0.0\n",
       "260389      pzdX1GL  Universitario    En Curso       4.0              1.0\n",
       "8569        bO4Qbd2  Universitario    En Curso       4.0              1.0\n",
       "689110      kPjxXdJ     Secundario    Graduado       2.0              0.0\n",
       "594548      xkPeKAK  Universitario    En Curso       4.0              1.0"
      ]
     },
     "execution_count": 11,
     "metadata": {},
     "output_type": "execute_result"
    }
   ],
   "source": [
    "postulantes_educ.loc[(postulantes_educ['estado'] == 'Graduado'), 'esta_estudiando'] = 0\n",
    "postulantes_educ.loc[(postulantes_educ['estado'] == 'Abandonado'), 'esta_estudiando'] = 0\n",
    "postulantes_educ.loc[(postulantes_educ['estado'] == 'En Curso'), 'esta_estudiando'] = 1\n",
    "\n",
    "postulantes_educ.sample(5)"
   ]
  },
  {
   "cell_type": "markdown",
   "metadata": {},
   "source": [
    "Eliminamos las columnas 'titulo_univ' y 'estado', ya que la información relativa a esto ya se encuentra contenida en 'orden_estudio' y en 'esta_estudiando'"
   ]
  },
  {
   "cell_type": "code",
   "execution_count": 12,
   "metadata": {},
   "outputs": [
    {
     "data": {
      "text/html": [
       "<div>\n",
       "<style scoped>\n",
       "    .dataframe tbody tr th:only-of-type {\n",
       "        vertical-align: middle;\n",
       "    }\n",
       "\n",
       "    .dataframe tbody tr th {\n",
       "        vertical-align: top;\n",
       "    }\n",
       "\n",
       "    .dataframe thead th {\n",
       "        text-align: right;\n",
       "    }\n",
       "</style>\n",
       "<table border=\"1\" class=\"dataframe\">\n",
       "  <thead>\n",
       "    <tr style=\"text-align: right;\">\n",
       "      <th></th>\n",
       "      <th>idpostulante</th>\n",
       "      <th>estudios</th>\n",
       "      <th>esta_estudiando</th>\n",
       "    </tr>\n",
       "  </thead>\n",
       "  <tbody>\n",
       "    <tr>\n",
       "      <th>389645</th>\n",
       "      <td>GNeDRL9</td>\n",
       "      <td>5.0</td>\n",
       "      <td>1.0</td>\n",
       "    </tr>\n",
       "    <tr>\n",
       "      <th>214817</th>\n",
       "      <td>PmVGb3a</td>\n",
       "      <td>4.0</td>\n",
       "      <td>1.0</td>\n",
       "    </tr>\n",
       "    <tr>\n",
       "      <th>92409</th>\n",
       "      <td>OqjQwjv</td>\n",
       "      <td>4.0</td>\n",
       "      <td>0.0</td>\n",
       "    </tr>\n",
       "    <tr>\n",
       "      <th>538202</th>\n",
       "      <td>6r550KL</td>\n",
       "      <td>2.0</td>\n",
       "      <td>0.0</td>\n",
       "    </tr>\n",
       "    <tr>\n",
       "      <th>171581</th>\n",
       "      <td>akjoqYZ</td>\n",
       "      <td>2.0</td>\n",
       "      <td>0.0</td>\n",
       "    </tr>\n",
       "  </tbody>\n",
       "</table>\n",
       "</div>"
      ],
      "text/plain": [
       "       idpostulante  estudios  esta_estudiando\n",
       "389645      GNeDRL9       5.0              1.0\n",
       "214817      PmVGb3a       4.0              1.0\n",
       "92409       OqjQwjv       4.0              0.0\n",
       "538202      6r550KL       2.0              0.0\n",
       "171581      akjoqYZ       2.0              0.0"
      ]
     },
     "execution_count": 12,
     "metadata": {},
     "output_type": "execute_result"
    }
   ],
   "source": [
    "postulantes_educ.drop(columns={'titulo_univ', 'estado'}, axis=1, inplace=True)\n",
    "postulantes_educ.sample(5)"
   ]
  },
  {
   "cell_type": "code",
   "execution_count": 13,
   "metadata": {},
   "outputs": [
    {
     "name": "stdout",
     "output_type": "stream",
     "text": [
      "<class 'pandas.core.frame.DataFrame'>\n",
      "Int64Index: 447909 entries, 393408 to 530578\n",
      "Data columns (total 3 columns):\n",
      "idpostulante       447909 non-null object\n",
      "estudios           447909 non-null float64\n",
      "esta_estudiando    447909 non-null float64\n",
      "dtypes: float64(2), object(1)\n",
      "memory usage: 13.7+ MB\n"
     ]
    }
   ],
   "source": [
    "postulantes_educ.info()"
   ]
  },
  {
   "cell_type": "markdown",
   "metadata": {},
   "source": [
    "### DF 2: Nacimiento y sexo de los postulantes"
   ]
  },
  {
   "cell_type": "markdown",
   "metadata": {},
   "source": [
    "Realizamos un merge de los 3 dataframes de nacimiento y sexo de los postulantes que nos fueron provistos, para poder trabajar de manera unificada."
   ]
  },
  {
   "cell_type": "code",
   "execution_count": 14,
   "metadata": {},
   "outputs": [
    {
     "data": {
      "text/html": [
       "<div>\n",
       "<style scoped>\n",
       "    .dataframe tbody tr th:only-of-type {\n",
       "        vertical-align: middle;\n",
       "    }\n",
       "\n",
       "    .dataframe tbody tr th {\n",
       "        vertical-align: top;\n",
       "    }\n",
       "\n",
       "    .dataframe thead th {\n",
       "        text-align: right;\n",
       "    }\n",
       "</style>\n",
       "<table border=\"1\" class=\"dataframe\">\n",
       "  <thead>\n",
       "    <tr style=\"text-align: right;\">\n",
       "      <th></th>\n",
       "      <th>idpostulante</th>\n",
       "      <th>fechanacimiento</th>\n",
       "      <th>sexo</th>\n",
       "    </tr>\n",
       "  </thead>\n",
       "  <tbody>\n",
       "    <tr>\n",
       "      <th>0</th>\n",
       "      <td>6MM</td>\n",
       "      <td>1985-01-01</td>\n",
       "      <td>MASC</td>\n",
       "    </tr>\n",
       "    <tr>\n",
       "      <th>1</th>\n",
       "      <td>Nzz</td>\n",
       "      <td>NaN</td>\n",
       "      <td>NO_DECLARA</td>\n",
       "    </tr>\n",
       "    <tr>\n",
       "      <th>2</th>\n",
       "      <td>ZX1</td>\n",
       "      <td>NaN</td>\n",
       "      <td>NO_DECLARA</td>\n",
       "    </tr>\n",
       "    <tr>\n",
       "      <th>3</th>\n",
       "      <td>Nq5</td>\n",
       "      <td>NaN</td>\n",
       "      <td>NO_DECLARA</td>\n",
       "    </tr>\n",
       "    <tr>\n",
       "      <th>4</th>\n",
       "      <td>ebE</td>\n",
       "      <td>1952-07-07</td>\n",
       "      <td>MASC</td>\n",
       "    </tr>\n",
       "  </tbody>\n",
       "</table>\n",
       "</div>"
      ],
      "text/plain": [
       "  idpostulante fechanacimiento        sexo\n",
       "0          6MM      1985-01-01        MASC\n",
       "1          Nzz             NaN  NO_DECLARA\n",
       "2          ZX1             NaN  NO_DECLARA\n",
       "3          Nq5             NaN  NO_DECLARA\n",
       "4          ebE      1952-07-07        MASC"
      ]
     },
     "execution_count": 14,
     "metadata": {},
     "output_type": "execute_result"
    }
   ],
   "source": [
    "postulantes_gen_nac = pd.read_csv('datos_navent_fiuba/h15_fiuba_2_postulantes_genero_y_edad.csv')\n",
    "postulantes_gen_nac_2 = pd.read_csv('datos_navent_fiuba/d15_fiuba_2_postulantes_genero_y_edad.csv')\n",
    "\n",
    "postulantes_gen_nac = pd.merge(postulantes_gen_nac, postulantes_gen_nac_2, how='outer')\n",
    "\n",
    "postulantes_gen_nac_2 = pd.read_csv('datos_navent_fiuba/fiuba_2_postulantes_genero_y_edad.csv')\n",
    "\n",
    "postulantes_gen_nac = pd.merge(postulantes_gen_nac, postulantes_gen_nac_2, how='outer')\n",
    "\n",
    "postulantes_gen_nac.head()"
   ]
  },
  {
   "cell_type": "code",
   "execution_count": 15,
   "metadata": {},
   "outputs": [
    {
     "name": "stdout",
     "output_type": "stream",
     "text": [
      "<class 'pandas.core.frame.DataFrame'>\n",
      "Int64Index: 505382 entries, 0 to 505381\n",
      "Data columns (total 3 columns):\n",
      "idpostulante       505382 non-null object\n",
      "fechanacimiento    478699 non-null object\n",
      "sexo               505382 non-null object\n",
      "dtypes: object(3)\n",
      "memory usage: 15.4+ MB\n"
     ]
    }
   ],
   "source": [
    "postulantes_gen_nac.info()"
   ]
  },
  {
   "cell_type": "markdown",
   "metadata": {},
   "source": [
    " "
   ]
  },
  {
   "cell_type": "markdown",
   "metadata": {},
   "source": [
    "Analizamos los posibles valores de la columna 'sexo'"
   ]
  },
  {
   "cell_type": "code",
   "execution_count": 16,
   "metadata": {},
   "outputs": [
    {
     "data": {
      "text/plain": [
       "FEM           251431\n",
       "MASC          228008\n",
       "NO_DECLARA     25936\n",
       "0.0                7\n",
       "Name: sexo, dtype: int64"
      ]
     },
     "execution_count": 16,
     "metadata": {},
     "output_type": "execute_result"
    }
   ],
   "source": [
    "postulantes_gen_nac['sexo'].value_counts()"
   ]
  },
  {
   "cell_type": "markdown",
   "metadata": {},
   "source": [
    "Descartamos los registros que figuran con 'sexo' == 0.0, ya que son una pequeñísima parte del set de datos y no brindan información consistente."
   ]
  },
  {
   "cell_type": "code",
   "execution_count": 17,
   "metadata": {},
   "outputs": [],
   "source": [
    "postulantes_gen_nac = postulantes_gen_nac[postulantes_gen_nac['sexo'] != '0.0']"
   ]
  },
  {
   "cell_type": "markdown",
   "metadata": {},
   "source": [
    "Comprobamos que efectivamente fueron eliminados esos registros"
   ]
  },
  {
   "cell_type": "code",
   "execution_count": 18,
   "metadata": {},
   "outputs": [
    {
     "data": {
      "text/plain": [
       "FEM           251431\n",
       "MASC          228008\n",
       "NO_DECLARA     25936\n",
       "Name: sexo, dtype: int64"
      ]
     },
     "execution_count": 18,
     "metadata": {},
     "output_type": "execute_result"
    }
   ],
   "source": [
    "postulantes_gen_nac['sexo'].value_counts()"
   ]
  },
  {
   "cell_type": "markdown",
   "metadata": {},
   "source": [
    "Analizamos la cantidad de IDs duplicados"
   ]
  },
  {
   "cell_type": "code",
   "execution_count": 19,
   "metadata": {},
   "outputs": [
    {
     "data": {
      "text/plain": [
       "972"
      ]
     },
     "execution_count": 19,
     "metadata": {},
     "output_type": "execute_result"
    }
   ],
   "source": [
    "IDs_duplicados = sum(postulantes_gen_nac['idpostulante'].value_counts() > 1)\n",
    "IDs_duplicados"
   ]
  },
  {
   "cell_type": "markdown",
   "metadata": {},
   "source": [
    "Ordenamos el dataframe según el sexo en forma ascendente."
   ]
  },
  {
   "cell_type": "code",
   "execution_count": 20,
   "metadata": {},
   "outputs": [],
   "source": [
    "postulantes_gen_nac = postulantes_gen_nac.sort_values('sexo', ascending=True)"
   ]
  },
  {
   "cell_type": "markdown",
   "metadata": {},
   "source": [
    "Eliminamos todos los IDs duplicados. Considerando que previamente se ordenó el dataframe por sexo y que 'NO_DECLARA' tiene un orden alfabético menor que 'FEM' y 'MASC', quedará un único ID por postulante con su información más específica de sexo.\n",
    "\n",
    "Interpretamos que la información concreta del sexo nos será relevante en posteriores análisis, por eso filtramos los IDs duplicados de esta forma."
   ]
  },
  {
   "cell_type": "code",
   "execution_count": 21,
   "metadata": {},
   "outputs": [
    {
     "data": {
      "text/html": [
       "<div>\n",
       "<style scoped>\n",
       "    .dataframe tbody tr th:only-of-type {\n",
       "        vertical-align: middle;\n",
       "    }\n",
       "\n",
       "    .dataframe tbody tr th {\n",
       "        vertical-align: top;\n",
       "    }\n",
       "\n",
       "    .dataframe thead th {\n",
       "        text-align: right;\n",
       "    }\n",
       "</style>\n",
       "<table border=\"1\" class=\"dataframe\">\n",
       "  <thead>\n",
       "    <tr style=\"text-align: right;\">\n",
       "      <th></th>\n",
       "      <th>idpostulante</th>\n",
       "      <th>fechanacimiento</th>\n",
       "      <th>sexo</th>\n",
       "    </tr>\n",
       "  </thead>\n",
       "  <tbody>\n",
       "    <tr>\n",
       "      <th>321806</th>\n",
       "      <td>owEzXjj</td>\n",
       "      <td>1989-11-20</td>\n",
       "      <td>MASC</td>\n",
       "    </tr>\n",
       "    <tr>\n",
       "      <th>192795</th>\n",
       "      <td>rm0WvOb</td>\n",
       "      <td>1985-07-28</td>\n",
       "      <td>MASC</td>\n",
       "    </tr>\n",
       "    <tr>\n",
       "      <th>367590</th>\n",
       "      <td>DrpGOaP</td>\n",
       "      <td>1979-01-10</td>\n",
       "      <td>MASC</td>\n",
       "    </tr>\n",
       "    <tr>\n",
       "      <th>238828</th>\n",
       "      <td>MVr21qL</td>\n",
       "      <td>1986-10-10</td>\n",
       "      <td>MASC</td>\n",
       "    </tr>\n",
       "    <tr>\n",
       "      <th>288682</th>\n",
       "      <td>8MPdw9W</td>\n",
       "      <td>1996-04-11</td>\n",
       "      <td>FEM</td>\n",
       "    </tr>\n",
       "  </tbody>\n",
       "</table>\n",
       "</div>"
      ],
      "text/plain": [
       "       idpostulante fechanacimiento  sexo\n",
       "321806      owEzXjj      1989-11-20  MASC\n",
       "192795      rm0WvOb      1985-07-28  MASC\n",
       "367590      DrpGOaP      1979-01-10  MASC\n",
       "238828      MVr21qL      1986-10-10  MASC\n",
       "288682      8MPdw9W      1996-04-11   FEM"
      ]
     },
     "execution_count": 21,
     "metadata": {},
     "output_type": "execute_result"
    }
   ],
   "source": [
    "postulantes_gen_nac = postulantes_gen_nac.drop_duplicates('idpostulante')\n",
    "postulantes_gen_nac.sample(5)"
   ]
  },
  {
   "cell_type": "markdown",
   "metadata": {},
   "source": [
    "Se transforma la columna 'fechanacimiento' en 'edad', mediante una serie de operaciones lógicas."
   ]
  },
  {
   "cell_type": "code",
   "execution_count": 22,
   "metadata": {},
   "outputs": [
    {
     "data": {
      "text/html": [
       "<div>\n",
       "<style scoped>\n",
       "    .dataframe tbody tr th:only-of-type {\n",
       "        vertical-align: middle;\n",
       "    }\n",
       "\n",
       "    .dataframe tbody tr th {\n",
       "        vertical-align: top;\n",
       "    }\n",
       "\n",
       "    .dataframe thead th {\n",
       "        text-align: right;\n",
       "    }\n",
       "</style>\n",
       "<table border=\"1\" class=\"dataframe\">\n",
       "  <thead>\n",
       "    <tr style=\"text-align: right;\">\n",
       "      <th></th>\n",
       "      <th>idpostulante</th>\n",
       "      <th>edad</th>\n",
       "      <th>sexo</th>\n",
       "    </tr>\n",
       "  </thead>\n",
       "  <tbody>\n",
       "    <tr>\n",
       "      <th>291632</th>\n",
       "      <td>ow2r8za</td>\n",
       "      <td>22</td>\n",
       "      <td>FEM</td>\n",
       "    </tr>\n",
       "    <tr>\n",
       "      <th>414539</th>\n",
       "      <td>lDXopOG</td>\n",
       "      <td>28</td>\n",
       "      <td>FEM</td>\n",
       "    </tr>\n",
       "    <tr>\n",
       "      <th>140957</th>\n",
       "      <td>lDb4LAz</td>\n",
       "      <td>28</td>\n",
       "      <td>MASC</td>\n",
       "    </tr>\n",
       "    <tr>\n",
       "      <th>263270</th>\n",
       "      <td>OqroQKp</td>\n",
       "      <td>24</td>\n",
       "      <td>MASC</td>\n",
       "    </tr>\n",
       "    <tr>\n",
       "      <th>389659</th>\n",
       "      <td>qe6rZ81</td>\n",
       "      <td>32</td>\n",
       "      <td>FEM</td>\n",
       "    </tr>\n",
       "  </tbody>\n",
       "</table>\n",
       "</div>"
      ],
      "text/plain": [
       "       idpostulante  edad  sexo\n",
       "291632      ow2r8za    22   FEM\n",
       "414539      lDXopOG    28   FEM\n",
       "140957      lDb4LAz    28  MASC\n",
       "263270      OqroQKp    24  MASC\n",
       "389659      qe6rZ81    32   FEM"
      ]
     },
     "execution_count": 22,
     "metadata": {},
     "output_type": "execute_result"
    }
   ],
   "source": [
    "# Renombramos la columna por algo más apropiado\n",
    "postulantes_gen_nac = postulantes_gen_nac.rename(columns={'fechanacimiento': 'edad'})\n",
    "\n",
    "# Obtenemos el año de nacimiento\n",
    "fecha_nac = postulantes_gen_nac['edad'].str.split('-')\n",
    "año_nac = fecha_nac.str[0]\n",
    "postulantes_gen_nac['edad'] = año_nac\n",
    "postulantes_gen_nac['edad'] = pd.to_numeric(postulantes_gen_nac['edad'], errors='coerce').fillna(0).astype(np.int64)\n",
    "\n",
    "# Filtramos edades inválidas\n",
    "edad_min = postulantes_gen_nac['edad'] > 2000\n",
    "edad_max = postulantes_gen_nac['edad'] < 1950\n",
    "condicion_final = ((edad_min | edad_max))\n",
    "postulantes_gen_nac = postulantes_gen_nac[np.logical_not(condicion_final)]\n",
    "\n",
    "# Obtenemos la edad real según el año actual\n",
    "postulantes_gen_nac['edad'] = postulantes_gen_nac['edad'].apply(lambda x: 2018-x)\n",
    "\n",
    "postulantes_gen_nac.sample(5)"
   ]
  },
  {
   "cell_type": "markdown",
   "metadata": {},
   "source": [
    " "
   ]
  },
  {
   "cell_type": "markdown",
   "metadata": {},
   "source": [
    "Creamos la columna rango_edad para minimizar la cantidad de valores posibles correspondientes a la edad del postulante.\n",
    "\n",
    "Rangos:\n",
    "- 18-25\n",
    "- 26-30\n",
    "- 31-40\n",
    "- 41-68"
   ]
  },
  {
   "cell_type": "code",
   "execution_count": 23,
   "metadata": {},
   "outputs": [
    {
     "data": {
      "text/html": [
       "<div>\n",
       "<style scoped>\n",
       "    .dataframe tbody tr th:only-of-type {\n",
       "        vertical-align: middle;\n",
       "    }\n",
       "\n",
       "    .dataframe tbody tr th {\n",
       "        vertical-align: top;\n",
       "    }\n",
       "\n",
       "    .dataframe thead th {\n",
       "        text-align: right;\n",
       "    }\n",
       "</style>\n",
       "<table border=\"1\" class=\"dataframe\">\n",
       "  <thead>\n",
       "    <tr style=\"text-align: right;\">\n",
       "      <th></th>\n",
       "      <th>idpostulante</th>\n",
       "      <th>edad</th>\n",
       "      <th>sexo</th>\n",
       "      <th>rango_edad</th>\n",
       "    </tr>\n",
       "  </thead>\n",
       "  <tbody>\n",
       "    <tr>\n",
       "      <th>110218</th>\n",
       "      <td>A3Dq2Jl</td>\n",
       "      <td>31</td>\n",
       "      <td>FEM</td>\n",
       "      <td>3.0</td>\n",
       "    </tr>\n",
       "    <tr>\n",
       "      <th>421605</th>\n",
       "      <td>6rJqw4</td>\n",
       "      <td>46</td>\n",
       "      <td>FEM</td>\n",
       "      <td>4.0</td>\n",
       "    </tr>\n",
       "    <tr>\n",
       "      <th>79849</th>\n",
       "      <td>dYJ5GJM</td>\n",
       "      <td>26</td>\n",
       "      <td>FEM</td>\n",
       "      <td>2.0</td>\n",
       "    </tr>\n",
       "    <tr>\n",
       "      <th>142616</th>\n",
       "      <td>bOWvO1E</td>\n",
       "      <td>33</td>\n",
       "      <td>FEM</td>\n",
       "      <td>3.0</td>\n",
       "    </tr>\n",
       "    <tr>\n",
       "      <th>271763</th>\n",
       "      <td>ow2Ak6L</td>\n",
       "      <td>26</td>\n",
       "      <td>MASC</td>\n",
       "      <td>2.0</td>\n",
       "    </tr>\n",
       "  </tbody>\n",
       "</table>\n",
       "</div>"
      ],
      "text/plain": [
       "       idpostulante  edad  sexo  rango_edad\n",
       "110218      A3Dq2Jl    31   FEM         3.0\n",
       "421605       6rJqw4    46   FEM         4.0\n",
       "79849       dYJ5GJM    26   FEM         2.0\n",
       "142616      bOWvO1E    33   FEM         3.0\n",
       "271763      ow2Ak6L    26  MASC         2.0"
      ]
     },
     "execution_count": 23,
     "metadata": {},
     "output_type": "execute_result"
    }
   ],
   "source": [
    "rango_18_25 = (postulantes_gen_nac['edad'] >= 18) & (postulantes_gen_nac['edad'] <= 25)\n",
    "rango_26_30 = (postulantes_gen_nac['edad'] >= 26) & (postulantes_gen_nac['edad'] <= 30)\n",
    "rango_31_40 = (postulantes_gen_nac['edad'] >= 31) & (postulantes_gen_nac['edad'] <= 40)\n",
    "rango_41_68 = (postulantes_gen_nac['edad'] >= 41) & (postulantes_gen_nac['edad'] <= 68)\n",
    "\n",
    "postulantes_gen_nac.loc[(rango_18_25), 'rango_edad'] = 1\n",
    "postulantes_gen_nac.loc[(rango_26_30), 'rango_edad'] = 2\n",
    "postulantes_gen_nac.loc[(rango_31_40), 'rango_edad'] = 3\n",
    "postulantes_gen_nac.loc[(rango_41_68), 'rango_edad'] = 4\n",
    "\n",
    "postulantes_gen_nac.sample(5)"
   ]
  },
  {
   "cell_type": "markdown",
   "metadata": {},
   "source": [
    "Eliminamos la columna edad. Consideramos que la información importante se encuentra contenida en el rango edad."
   ]
  },
  {
   "cell_type": "code",
   "execution_count": 24,
   "metadata": {},
   "outputs": [
    {
     "data": {
      "text/html": [
       "<div>\n",
       "<style scoped>\n",
       "    .dataframe tbody tr th:only-of-type {\n",
       "        vertical-align: middle;\n",
       "    }\n",
       "\n",
       "    .dataframe tbody tr th {\n",
       "        vertical-align: top;\n",
       "    }\n",
       "\n",
       "    .dataframe thead th {\n",
       "        text-align: right;\n",
       "    }\n",
       "</style>\n",
       "<table border=\"1\" class=\"dataframe\">\n",
       "  <thead>\n",
       "    <tr style=\"text-align: right;\">\n",
       "      <th></th>\n",
       "      <th>idpostulante</th>\n",
       "      <th>sexo</th>\n",
       "      <th>rango_edad</th>\n",
       "    </tr>\n",
       "  </thead>\n",
       "  <tbody>\n",
       "    <tr>\n",
       "      <th>134800</th>\n",
       "      <td>JBe65PJ</td>\n",
       "      <td>FEM</td>\n",
       "      <td>2.0</td>\n",
       "    </tr>\n",
       "    <tr>\n",
       "      <th>193079</th>\n",
       "      <td>1QkG0Zz</td>\n",
       "      <td>FEM</td>\n",
       "      <td>3.0</td>\n",
       "    </tr>\n",
       "    <tr>\n",
       "      <th>110392</th>\n",
       "      <td>6rQDd4L</td>\n",
       "      <td>FEM</td>\n",
       "      <td>2.0</td>\n",
       "    </tr>\n",
       "    <tr>\n",
       "      <th>434776</th>\n",
       "      <td>LNwwKpq</td>\n",
       "      <td>MASC</td>\n",
       "      <td>2.0</td>\n",
       "    </tr>\n",
       "    <tr>\n",
       "      <th>354921</th>\n",
       "      <td>Bm5ZO2E</td>\n",
       "      <td>MASC</td>\n",
       "      <td>3.0</td>\n",
       "    </tr>\n",
       "  </tbody>\n",
       "</table>\n",
       "</div>"
      ],
      "text/plain": [
       "       idpostulante  sexo  rango_edad\n",
       "134800      JBe65PJ   FEM         2.0\n",
       "193079      1QkG0Zz   FEM         3.0\n",
       "110392      6rQDd4L   FEM         2.0\n",
       "434776      LNwwKpq  MASC         2.0\n",
       "354921      Bm5ZO2E  MASC         3.0"
      ]
     },
     "execution_count": 24,
     "metadata": {},
     "output_type": "execute_result"
    }
   ],
   "source": [
    "postulantes_gen_nac.drop(columns={'edad'}, axis=1, inplace=True)\n",
    "postulantes_gen_nac.sample(5)"
   ]
  },
  {
   "cell_type": "code",
   "execution_count": 25,
   "metadata": {},
   "outputs": [
    {
     "name": "stdout",
     "output_type": "stream",
     "text": [
      "<class 'pandas.core.frame.DataFrame'>\n",
      "Int64Index: 478001 entries, 165770 to 147639\n",
      "Data columns (total 3 columns):\n",
      "idpostulante    478001 non-null object\n",
      "sexo            478001 non-null object\n",
      "rango_edad      478001 non-null float64\n",
      "dtypes: float64(1), object(2)\n",
      "memory usage: 14.6+ MB\n"
     ]
    }
   ],
   "source": [
    "postulantes_gen_nac.info()"
   ]
  },
  {
   "cell_type": "markdown",
   "metadata": {},
   "source": [
    "Liberamos memoria para mejorar la performance"
   ]
  },
  {
   "cell_type": "code",
   "execution_count": 26,
   "metadata": {},
   "outputs": [],
   "source": [
    "postulantes_educ_2=0\n",
    "postulantes_gen_nac_2=0\n",
    "fecha_nac=0\n",
    "año_nac=0\n",
    "edad_min=0\n",
    "edad_max=0\n",
    "condicion_final=0\n",
    "rango_18_25=0\n",
    "rango_26_30=0\n",
    "rango_31_40=0\n",
    "rango_41_68=0"
   ]
  },
  {
   "cell_type": "markdown",
   "metadata": {},
   "source": [
    " "
   ]
  },
  {
   "cell_type": "markdown",
   "metadata": {},
   "source": [
    "### Merge de los DF 1 y 2"
   ]
  },
  {
   "cell_type": "markdown",
   "metadata": {},
   "source": [
    "Se realiza un merge de los dos dataframes con información correspondiente a los postulantes"
   ]
  },
  {
   "cell_type": "code",
   "execution_count": 27,
   "metadata": {},
   "outputs": [
    {
     "data": {
      "text/html": [
       "<div>\n",
       "<style scoped>\n",
       "    .dataframe tbody tr th:only-of-type {\n",
       "        vertical-align: middle;\n",
       "    }\n",
       "\n",
       "    .dataframe tbody tr th {\n",
       "        vertical-align: top;\n",
       "    }\n",
       "\n",
       "    .dataframe thead th {\n",
       "        text-align: right;\n",
       "    }\n",
       "</style>\n",
       "<table border=\"1\" class=\"dataframe\">\n",
       "  <thead>\n",
       "    <tr style=\"text-align: right;\">\n",
       "      <th></th>\n",
       "      <th>idpostulante</th>\n",
       "      <th>estudios</th>\n",
       "      <th>esta_estudiando</th>\n",
       "      <th>sexo</th>\n",
       "      <th>rango_edad</th>\n",
       "    </tr>\n",
       "  </thead>\n",
       "  <tbody>\n",
       "    <tr>\n",
       "      <th>0</th>\n",
       "      <td>a0XaWD</td>\n",
       "      <td>7.0</td>\n",
       "      <td>0.0</td>\n",
       "      <td>MASC</td>\n",
       "      <td>4.0</td>\n",
       "    </tr>\n",
       "    <tr>\n",
       "      <th>1</th>\n",
       "      <td>4reGo5z</td>\n",
       "      <td>7.0</td>\n",
       "      <td>0.0</td>\n",
       "      <td>FEM</td>\n",
       "      <td>2.0</td>\n",
       "    </tr>\n",
       "    <tr>\n",
       "      <th>2</th>\n",
       "      <td>X9lpKkb</td>\n",
       "      <td>7.0</td>\n",
       "      <td>0.0</td>\n",
       "      <td>MASC</td>\n",
       "      <td>4.0</td>\n",
       "    </tr>\n",
       "    <tr>\n",
       "      <th>3</th>\n",
       "      <td>RzMXJ4E</td>\n",
       "      <td>7.0</td>\n",
       "      <td>0.0</td>\n",
       "      <td>FEM</td>\n",
       "      <td>4.0</td>\n",
       "    </tr>\n",
       "    <tr>\n",
       "      <th>4</th>\n",
       "      <td>akOA6b9</td>\n",
       "      <td>7.0</td>\n",
       "      <td>0.0</td>\n",
       "      <td>MASC</td>\n",
       "      <td>4.0</td>\n",
       "    </tr>\n",
       "  </tbody>\n",
       "</table>\n",
       "</div>"
      ],
      "text/plain": [
       "  idpostulante  estudios  esta_estudiando  sexo  rango_edad\n",
       "0       a0XaWD       7.0              0.0  MASC         4.0\n",
       "1      4reGo5z       7.0              0.0   FEM         2.0\n",
       "2      X9lpKkb       7.0              0.0  MASC         4.0\n",
       "3      RzMXJ4E       7.0              0.0   FEM         4.0\n",
       "4      akOA6b9       7.0              0.0  MASC         4.0"
      ]
     },
     "execution_count": 27,
     "metadata": {},
     "output_type": "execute_result"
    }
   ],
   "source": [
    "postulantes = pd.merge(postulantes_educ, postulantes_gen_nac, on='idpostulante', how='inner')\n",
    "\n",
    "postulantes.head()"
   ]
  },
  {
   "cell_type": "code",
   "execution_count": 28,
   "metadata": {},
   "outputs": [
    {
     "data": {
      "text/plain": [
       "FEM           230514\n",
       "MASC          206954\n",
       "NO_DECLARA       983\n",
       "Name: sexo, dtype: int64"
      ]
     },
     "execution_count": 28,
     "metadata": {},
     "output_type": "execute_result"
    }
   ],
   "source": [
    "postulantes[\"sexo\"].value_counts()"
   ]
  },
  {
   "cell_type": "markdown",
   "metadata": {},
   "source": [
    "Pasamos a valor numérico el sexo de los postulantes.\n",
    "\n",
    "- FEM = 1\n",
    "- MASC = 2\n",
    "- NO_DECLARA = 0"
   ]
  },
  {
   "cell_type": "code",
   "execution_count": 29,
   "metadata": {},
   "outputs": [
    {
     "data": {
      "text/html": [
       "<div>\n",
       "<style scoped>\n",
       "    .dataframe tbody tr th:only-of-type {\n",
       "        vertical-align: middle;\n",
       "    }\n",
       "\n",
       "    .dataframe tbody tr th {\n",
       "        vertical-align: top;\n",
       "    }\n",
       "\n",
       "    .dataframe thead th {\n",
       "        text-align: right;\n",
       "    }\n",
       "</style>\n",
       "<table border=\"1\" class=\"dataframe\">\n",
       "  <thead>\n",
       "    <tr style=\"text-align: right;\">\n",
       "      <th></th>\n",
       "      <th>idpostulante</th>\n",
       "      <th>estudios</th>\n",
       "      <th>esta_estudiando</th>\n",
       "      <th>sexo</th>\n",
       "      <th>rango_edad</th>\n",
       "    </tr>\n",
       "  </thead>\n",
       "  <tbody>\n",
       "    <tr>\n",
       "      <th>384236</th>\n",
       "      <td>VNrApWN</td>\n",
       "      <td>2.0</td>\n",
       "      <td>0.0</td>\n",
       "      <td>2</td>\n",
       "      <td>1.0</td>\n",
       "    </tr>\n",
       "    <tr>\n",
       "      <th>269871</th>\n",
       "      <td>zvxX636</td>\n",
       "      <td>3.0</td>\n",
       "      <td>0.0</td>\n",
       "      <td>1</td>\n",
       "      <td>1.0</td>\n",
       "    </tr>\n",
       "    <tr>\n",
       "      <th>358169</th>\n",
       "      <td>dY9OZjq</td>\n",
       "      <td>2.0</td>\n",
       "      <td>0.0</td>\n",
       "      <td>2</td>\n",
       "      <td>4.0</td>\n",
       "    </tr>\n",
       "    <tr>\n",
       "      <th>358712</th>\n",
       "      <td>4rdAv4q</td>\n",
       "      <td>2.0</td>\n",
       "      <td>0.0</td>\n",
       "      <td>1</td>\n",
       "      <td>1.0</td>\n",
       "    </tr>\n",
       "    <tr>\n",
       "      <th>210506</th>\n",
       "      <td>X9oRPoO</td>\n",
       "      <td>4.0</td>\n",
       "      <td>0.0</td>\n",
       "      <td>1</td>\n",
       "      <td>3.0</td>\n",
       "    </tr>\n",
       "  </tbody>\n",
       "</table>\n",
       "</div>"
      ],
      "text/plain": [
       "       idpostulante  estudios  esta_estudiando  sexo  rango_edad\n",
       "384236      VNrApWN       2.0              0.0     2         1.0\n",
       "269871      zvxX636       3.0              0.0     1         1.0\n",
       "358169      dY9OZjq       2.0              0.0     2         4.0\n",
       "358712      4rdAv4q       2.0              0.0     1         1.0\n",
       "210506      X9oRPoO       4.0              0.0     1         3.0"
      ]
     },
     "execution_count": 29,
     "metadata": {},
     "output_type": "execute_result"
    }
   ],
   "source": [
    "postulantes.loc[(postulantes['sexo'] == 'FEM'),'sexo'] = 1\n",
    "\n",
    "postulantes.loc[(postulantes['sexo'] == 'MASC'),'sexo'] = 2\n",
    "\n",
    "postulantes.loc[(postulantes['sexo'] == 'NO_DECLARA'), 'sexo'] = 0\n",
    "\n",
    "postulantes.sample(5)"
   ]
  },
  {
   "cell_type": "markdown",
   "metadata": {},
   "source": [
    "### DF 3: Vistas de los avisos"
   ]
  },
  {
   "cell_type": "markdown",
   "metadata": {},
   "source": [
    "Realizamos un merge de los 3 dataframes de vistas de los postulantes a los anuncios que nos fueron provistos, para poder trabajar de manera unificada."
   ]
  },
  {
   "cell_type": "code",
   "execution_count": 30,
   "metadata": {},
   "outputs": [
    {
     "data": {
      "text/html": [
       "<div>\n",
       "<style scoped>\n",
       "    .dataframe tbody tr th:only-of-type {\n",
       "        vertical-align: middle;\n",
       "    }\n",
       "\n",
       "    .dataframe tbody tr th {\n",
       "        vertical-align: top;\n",
       "    }\n",
       "\n",
       "    .dataframe thead th {\n",
       "        text-align: right;\n",
       "    }\n",
       "</style>\n",
       "<table border=\"1\" class=\"dataframe\">\n",
       "  <thead>\n",
       "    <tr style=\"text-align: right;\">\n",
       "      <th></th>\n",
       "      <th>idaviso</th>\n",
       "      <th>fechavista</th>\n",
       "      <th>idpostulante</th>\n",
       "    </tr>\n",
       "  </thead>\n",
       "  <tbody>\n",
       "    <tr>\n",
       "      <th>16997532</th>\n",
       "      <td>1112438213</td>\n",
       "      <td>2018-04-03T17:06:18.115-0400</td>\n",
       "      <td>xkvNe8P</td>\n",
       "    </tr>\n",
       "    <tr>\n",
       "      <th>10211739</th>\n",
       "      <td>1112176012</td>\n",
       "      <td>2018-04-24T14:00:47.116-0400</td>\n",
       "      <td>2zwMJjV</td>\n",
       "    </tr>\n",
       "    <tr>\n",
       "      <th>4846451</th>\n",
       "      <td>1112430528</td>\n",
       "      <td>2018-04-24T15:43:29.996-0400</td>\n",
       "      <td>lD20V2M</td>\n",
       "    </tr>\n",
       "    <tr>\n",
       "      <th>12460707</th>\n",
       "      <td>1112415111</td>\n",
       "      <td>2018-04-16T07:35:27.785-0400</td>\n",
       "      <td>6A6vO4</td>\n",
       "    </tr>\n",
       "    <tr>\n",
       "      <th>16271164</th>\n",
       "      <td>1112314115</td>\n",
       "      <td>2018-04-03T20:44:20.603-0400</td>\n",
       "      <td>VNrbpPd</td>\n",
       "    </tr>\n",
       "  </tbody>\n",
       "</table>\n",
       "</div>"
      ],
      "text/plain": [
       "             idaviso                    fechavista idpostulante\n",
       "16997532  1112438213  2018-04-03T17:06:18.115-0400      xkvNe8P\n",
       "10211739  1112176012  2018-04-24T14:00:47.116-0400      2zwMJjV\n",
       "4846451   1112430528  2018-04-24T15:43:29.996-0400      lD20V2M\n",
       "12460707  1112415111  2018-04-16T07:35:27.785-0400       6A6vO4\n",
       "16271164  1112314115  2018-04-03T20:44:20.603-0400      VNrbpPd"
      ]
     },
     "execution_count": 30,
     "metadata": {},
     "output_type": "execute_result"
    }
   ],
   "source": [
    "vistas = pd.read_csv('datos_navent_fiuba/fiuba_3_vistas.csv')\n",
    "vistas_2 = pd.read_csv('datos_navent_fiuba/d15_fiuba_3_vistas.csv')\n",
    "\n",
    "vistas = pd.merge(vistas, vistas_2, how='outer')\n",
    "\n",
    "vistas_2 = pd.read_csv('datos_navent_fiuba/h15_fiuba_3_vistas.csv')\n",
    "\n",
    "vistas = pd.merge(vistas, vistas_2, how='outer')\n",
    "\n",
    "# Renombramos algunas columnas por algo más apropiado\n",
    "vistas.rename(columns={'idAviso':'idaviso'}, inplace=True)\n",
    "vistas.rename(columns={'timestamp':'fechavista'}, inplace=True)\n",
    "\n",
    "vistas.sample(5)"
   ]
  },
  {
   "cell_type": "code",
   "execution_count": 31,
   "metadata": {},
   "outputs": [
    {
     "name": "stdout",
     "output_type": "stream",
     "text": [
      "<class 'pandas.core.frame.DataFrame'>\n",
      "Int64Index: 18024382 entries, 0 to 18024381\n",
      "Data columns (total 3 columns):\n",
      "idaviso         int64\n",
      "fechavista      object\n",
      "idpostulante    object\n",
      "dtypes: int64(1), object(2)\n",
      "memory usage: 550.1+ MB\n"
     ]
    }
   ],
   "source": [
    "vistas.info()"
   ]
  },
  {
   "cell_type": "markdown",
   "metadata": {},
   "source": [
    "Eliminamos los registros en los cuales un mismo idpostulante visitó un mismo aviso en el mismo día. Esto es para\n",
    "evitar usuarios que actualizaron muchas veces la página y casos similares.\n",
    "\n",
    "Para realizar esto, previamente cambiamos el formato de la fecha."
   ]
  },
  {
   "cell_type": "code",
   "execution_count": 32,
   "metadata": {},
   "outputs": [
    {
     "data": {
      "text/html": [
       "<div>\n",
       "<style scoped>\n",
       "    .dataframe tbody tr th:only-of-type {\n",
       "        vertical-align: middle;\n",
       "    }\n",
       "\n",
       "    .dataframe tbody tr th {\n",
       "        vertical-align: top;\n",
       "    }\n",
       "\n",
       "    .dataframe thead th {\n",
       "        text-align: right;\n",
       "    }\n",
       "</style>\n",
       "<table border=\"1\" class=\"dataframe\">\n",
       "  <thead>\n",
       "    <tr style=\"text-align: right;\">\n",
       "      <th></th>\n",
       "      <th>idaviso</th>\n",
       "      <th>fechavista</th>\n",
       "      <th>idpostulante</th>\n",
       "    </tr>\n",
       "  </thead>\n",
       "  <tbody>\n",
       "    <tr>\n",
       "      <th>0</th>\n",
       "      <td>1111780242</td>\n",
       "      <td>2018-02-23</td>\n",
       "      <td>YjVJQ6Z</td>\n",
       "    </tr>\n",
       "    <tr>\n",
       "      <th>1</th>\n",
       "      <td>1112263876</td>\n",
       "      <td>2018-02-23</td>\n",
       "      <td>BmVpYoR</td>\n",
       "    </tr>\n",
       "    <tr>\n",
       "      <th>2</th>\n",
       "      <td>1112327963</td>\n",
       "      <td>2018-02-23</td>\n",
       "      <td>wVkBzZd</td>\n",
       "    </tr>\n",
       "    <tr>\n",
       "      <th>3</th>\n",
       "      <td>1112318643</td>\n",
       "      <td>2018-02-23</td>\n",
       "      <td>OqmP9pv</td>\n",
       "    </tr>\n",
       "    <tr>\n",
       "      <th>4</th>\n",
       "      <td>1111903673</td>\n",
       "      <td>2018-02-23</td>\n",
       "      <td>DrpbXDP</td>\n",
       "    </tr>\n",
       "  </tbody>\n",
       "</table>\n",
       "</div>"
      ],
      "text/plain": [
       "      idaviso  fechavista idpostulante\n",
       "0  1111780242  2018-02-23      YjVJQ6Z\n",
       "1  1112263876  2018-02-23      BmVpYoR\n",
       "2  1112327963  2018-02-23      wVkBzZd\n",
       "3  1112318643  2018-02-23      OqmP9pv\n",
       "4  1111903673  2018-02-23      DrpbXDP"
      ]
     },
     "execution_count": 32,
     "metadata": {},
     "output_type": "execute_result"
    }
   ],
   "source": [
    "# Modificamos el formato de la fecha vista\n",
    "lista = vistas['fechavista'].str.split(\"T\")\n",
    "fecha = lista.str[0]\n",
    "vistas['fechavista'] = fecha\n",
    "\n",
    "# Eliminamos los registros arriba mencionados\n",
    "vistas = vistas.drop_duplicates(['idaviso', 'fechavista', 'idpostulante'])\n",
    "vistas.head()"
   ]
  },
  {
   "cell_type": "markdown",
   "metadata": {},
   "source": [
    "Ordenamos el dataframe según la 'fechavista' en forma descendente, para tener las fechas más actuales en primer lugar. De esta forma, al generar la columna cant_vistas, nos quedaremos con la última vista del postulante al aviso."
   ]
  },
  {
   "cell_type": "code",
   "execution_count": 33,
   "metadata": {},
   "outputs": [],
   "source": [
    "vistas = vistas.sort_values('fechavista', ascending=False)"
   ]
  },
  {
   "cell_type": "markdown",
   "metadata": {},
   "source": [
    "Agrupamos por (idaviso, idpostulante) para quedarnos con un único registro por cada par y agregamos la columna cant_vistas, la cual determina cuántas veces un postulante vio un determinado aviso.\n",
    "\n",
    "El registro que quedará será el más actual, según lo explicado arriba. Como ya tenemos la información que consideramos relevante en la columna 'cant_vistas', nos desentendemos de la columna 'fechavista', que creemos que no aportará información de peso para los algoritmos de Machine Learning."
   ]
  },
  {
   "cell_type": "code",
   "execution_count": 34,
   "metadata": {},
   "outputs": [
    {
     "data": {
      "text/html": [
       "<div>\n",
       "<style scoped>\n",
       "    .dataframe tbody tr th:only-of-type {\n",
       "        vertical-align: middle;\n",
       "    }\n",
       "\n",
       "    .dataframe tbody tr th {\n",
       "        vertical-align: top;\n",
       "    }\n",
       "\n",
       "    .dataframe thead th {\n",
       "        text-align: right;\n",
       "    }\n",
       "</style>\n",
       "<table border=\"1\" class=\"dataframe\">\n",
       "  <thead>\n",
       "    <tr style=\"text-align: right;\">\n",
       "      <th></th>\n",
       "      <th>idaviso</th>\n",
       "      <th>idpostulante</th>\n",
       "      <th>cant_vistas</th>\n",
       "    </tr>\n",
       "  </thead>\n",
       "  <tbody>\n",
       "    <tr>\n",
       "      <th>1910458</th>\n",
       "      <td>1807692</td>\n",
       "      <td>BR1ZR</td>\n",
       "      <td>1</td>\n",
       "    </tr>\n",
       "    <tr>\n",
       "      <th>5051512</th>\n",
       "      <td>1112423908</td>\n",
       "      <td>NewE8L</td>\n",
       "      <td>1</td>\n",
       "    </tr>\n",
       "    <tr>\n",
       "      <th>955024</th>\n",
       "      <td>1806156</td>\n",
       "      <td>VGK6d</td>\n",
       "      <td>1</td>\n",
       "    </tr>\n",
       "    <tr>\n",
       "      <th>5174887</th>\n",
       "      <td>1112425807</td>\n",
       "      <td>4rmka1z</td>\n",
       "      <td>1</td>\n",
       "    </tr>\n",
       "    <tr>\n",
       "      <th>3808227</th>\n",
       "      <td>1112366438</td>\n",
       "      <td>3NLB5zX</td>\n",
       "      <td>2</td>\n",
       "    </tr>\n",
       "  </tbody>\n",
       "</table>\n",
       "</div>"
      ],
      "text/plain": [
       "            idaviso idpostulante  cant_vistas\n",
       "1910458     1807692        BR1ZR            1\n",
       "5051512  1112423908       NewE8L            1\n",
       "955024      1806156        VGK6d            1\n",
       "5174887  1112425807      4rmka1z            1\n",
       "3808227  1112366438      3NLB5zX            2"
      ]
     },
     "execution_count": 34,
     "metadata": {},
     "output_type": "execute_result"
    }
   ],
   "source": [
    "vistas = vistas.groupby(['idaviso','idpostulante']).size().to_frame('cant_vistas').reset_index()\n",
    "vistas.sample(5)"
   ]
  },
  {
   "cell_type": "code",
   "execution_count": 35,
   "metadata": {},
   "outputs": [
    {
     "name": "stdout",
     "output_type": "stream",
     "text": [
      "<class 'pandas.core.frame.DataFrame'>\n",
      "RangeIndex: 8597915 entries, 0 to 8597914\n",
      "Data columns (total 3 columns):\n",
      "idaviso         int64\n",
      "idpostulante    object\n",
      "cant_vistas     int64\n",
      "dtypes: int64(2), object(1)\n",
      "memory usage: 196.8+ MB\n"
     ]
    }
   ],
   "source": [
    "vistas.info()"
   ]
  },
  {
   "cell_type": "markdown",
   "metadata": {},
   "source": [
    " "
   ]
  },
  {
   "cell_type": "markdown",
   "metadata": {},
   "source": [
    "### DF 4: Postulaciones a los avisos"
   ]
  },
  {
   "cell_type": "markdown",
   "metadata": {},
   "source": [
    "Realizamos un merge de los 2 dataframes de postulaciones a los anuncios que nos fueron provistos, para poder trabajar de manera unificada."
   ]
  },
  {
   "cell_type": "code",
   "execution_count": 36,
   "metadata": {},
   "outputs": [
    {
     "data": {
      "text/html": [
       "<div>\n",
       "<style scoped>\n",
       "    .dataframe tbody tr th:only-of-type {\n",
       "        vertical-align: middle;\n",
       "    }\n",
       "\n",
       "    .dataframe tbody tr th {\n",
       "        vertical-align: top;\n",
       "    }\n",
       "\n",
       "    .dataframe thead th {\n",
       "        text-align: right;\n",
       "    }\n",
       "</style>\n",
       "<table border=\"1\" class=\"dataframe\">\n",
       "  <thead>\n",
       "    <tr style=\"text-align: right;\">\n",
       "      <th></th>\n",
       "      <th>idaviso</th>\n",
       "      <th>idpostulante</th>\n",
       "      <th>fechapostulacion</th>\n",
       "    </tr>\n",
       "  </thead>\n",
       "  <tbody>\n",
       "    <tr>\n",
       "      <th>0</th>\n",
       "      <td>1112257047</td>\n",
       "      <td>NM5M</td>\n",
       "      <td>2018-01-15 16:22:34</td>\n",
       "    </tr>\n",
       "    <tr>\n",
       "      <th>1</th>\n",
       "      <td>1111920714</td>\n",
       "      <td>NM5M</td>\n",
       "      <td>2018-02-06 09:04:50</td>\n",
       "    </tr>\n",
       "    <tr>\n",
       "      <th>2</th>\n",
       "      <td>1112346945</td>\n",
       "      <td>NM5M</td>\n",
       "      <td>2018-02-22 09:04:47</td>\n",
       "    </tr>\n",
       "    <tr>\n",
       "      <th>3</th>\n",
       "      <td>1112345547</td>\n",
       "      <td>NM5M</td>\n",
       "      <td>2018-02-22 09:04:59</td>\n",
       "    </tr>\n",
       "    <tr>\n",
       "      <th>4</th>\n",
       "      <td>1112237522</td>\n",
       "      <td>5awk</td>\n",
       "      <td>2018-01-25 18:55:03</td>\n",
       "    </tr>\n",
       "  </tbody>\n",
       "</table>\n",
       "</div>"
      ],
      "text/plain": [
       "      idaviso idpostulante     fechapostulacion\n",
       "0  1112257047         NM5M  2018-01-15 16:22:34\n",
       "1  1111920714         NM5M  2018-02-06 09:04:50\n",
       "2  1112346945         NM5M  2018-02-22 09:04:47\n",
       "3  1112345547         NM5M  2018-02-22 09:04:59\n",
       "4  1112237522         5awk  2018-01-25 18:55:03"
      ]
     },
     "execution_count": 36,
     "metadata": {},
     "output_type": "execute_result"
    }
   ],
   "source": [
    "postulaciones = pd.read_csv('datos_navent_fiuba/fiuba_4_postulaciones.csv')\n",
    "postulaciones_2 = pd.read_csv('datos_navent_fiuba/h15_fiuba_4_postulaciones.csv')\n",
    "\n",
    "postulaciones = pd.merge(postulaciones, postulaciones_2, how='outer')\n",
    "\n",
    "postulaciones.head()"
   ]
  },
  {
   "cell_type": "code",
   "execution_count": 37,
   "metadata": {},
   "outputs": [
    {
     "name": "stdout",
     "output_type": "stream",
     "text": [
      "<class 'pandas.core.frame.DataFrame'>\n",
      "Int64Index: 6604534 entries, 0 to 6604533\n",
      "Data columns (total 3 columns):\n",
      "idaviso             int64\n",
      "idpostulante        object\n",
      "fechapostulacion    object\n",
      "dtypes: int64(1), object(2)\n",
      "memory usage: 201.6+ MB\n"
     ]
    }
   ],
   "source": [
    "postulaciones.info()"
   ]
  },
  {
   "cell_type": "markdown",
   "metadata": {},
   "source": [
    " "
   ]
  },
  {
   "cell_type": "markdown",
   "metadata": {},
   "source": [
    "### Merge de los DF 3 y 4"
   ]
  },
  {
   "cell_type": "markdown",
   "metadata": {},
   "source": [
    "Se realiza un merge de los dos dataframes con información correspondiente a las vistas y postulaciones a los anuncios por parte de los postulantes."
   ]
  },
  {
   "cell_type": "code",
   "execution_count": 38,
   "metadata": {},
   "outputs": [
    {
     "data": {
      "text/html": [
       "<div>\n",
       "<style scoped>\n",
       "    .dataframe tbody tr th:only-of-type {\n",
       "        vertical-align: middle;\n",
       "    }\n",
       "\n",
       "    .dataframe tbody tr th {\n",
       "        vertical-align: top;\n",
       "    }\n",
       "\n",
       "    .dataframe thead th {\n",
       "        text-align: right;\n",
       "    }\n",
       "</style>\n",
       "<table border=\"1\" class=\"dataframe\">\n",
       "  <thead>\n",
       "    <tr style=\"text-align: right;\">\n",
       "      <th></th>\n",
       "      <th>idaviso</th>\n",
       "      <th>idpostulante</th>\n",
       "      <th>cant_vistas</th>\n",
       "      <th>fechapostulacion</th>\n",
       "    </tr>\n",
       "  </thead>\n",
       "  <tbody>\n",
       "    <tr>\n",
       "      <th>0</th>\n",
       "      <td>18</td>\n",
       "      <td>BolNL</td>\n",
       "      <td>1.0</td>\n",
       "      <td>NaN</td>\n",
       "    </tr>\n",
       "    <tr>\n",
       "      <th>1</th>\n",
       "      <td>48375</td>\n",
       "      <td>RwVdKR</td>\n",
       "      <td>1.0</td>\n",
       "      <td>NaN</td>\n",
       "    </tr>\n",
       "    <tr>\n",
       "      <th>2</th>\n",
       "      <td>169730</td>\n",
       "      <td>1KjXB</td>\n",
       "      <td>1.0</td>\n",
       "      <td>NaN</td>\n",
       "    </tr>\n",
       "    <tr>\n",
       "      <th>3</th>\n",
       "      <td>169730</td>\n",
       "      <td>2AKzxa</td>\n",
       "      <td>1.0</td>\n",
       "      <td>NaN</td>\n",
       "    </tr>\n",
       "    <tr>\n",
       "      <th>4</th>\n",
       "      <td>169730</td>\n",
       "      <td>6LJ64</td>\n",
       "      <td>1.0</td>\n",
       "      <td>NaN</td>\n",
       "    </tr>\n",
       "  </tbody>\n",
       "</table>\n",
       "</div>"
      ],
      "text/plain": [
       "   idaviso idpostulante  cant_vistas fechapostulacion\n",
       "0       18        BolNL          1.0              NaN\n",
       "1    48375       RwVdKR          1.0              NaN\n",
       "2   169730        1KjXB          1.0              NaN\n",
       "3   169730       2AKzxa          1.0              NaN\n",
       "4   169730        6LJ64          1.0              NaN"
      ]
     },
     "execution_count": 38,
     "metadata": {},
     "output_type": "execute_result"
    }
   ],
   "source": [
    "modelo = pd.merge(vistas, postulaciones, on=['idpostulante', 'idaviso'], how='outer')\n",
    "\n",
    "modelo.head()"
   ]
  },
  {
   "cell_type": "markdown",
   "metadata": {},
   "source": [
    "Eliminamos la columna 'fechapostulacion' y la transformamos a una columna binaria llamada 'sepostulo'.\n",
    "\n",
    "De esta forma, aquellos registros que figuraban con una fecha efectiva en 'fechapostulacion', tendrán un 1 en la nueva columna. En cambio, aquellos registros que figuraban con NaN, tendrán un 0."
   ]
  },
  {
   "cell_type": "code",
   "execution_count": 39,
   "metadata": {},
   "outputs": [
    {
     "data": {
      "text/plain": [
       "0    6823880\n",
       "1    6604534\n",
       "Name: sepostulo, dtype: int64"
      ]
     },
     "execution_count": 39,
     "metadata": {},
     "output_type": "execute_result"
    }
   ],
   "source": [
    "modelo.loc[(pd.notna(modelo['fechapostulacion'])), 'fechapostulacion'] = 1   # Not NaN\n",
    "modelo.loc[(modelo['fechapostulacion'].isnull()), 'fechapostulacion'] = 0    # NaN\n",
    "\n",
    "modelo.rename(columns={'fechapostulacion':'sepostulo'}, inplace=True)\n",
    "\n",
    "modelo[\"sepostulo\"].value_counts()"
   ]
  },
  {
   "cell_type": "code",
   "execution_count": 40,
   "metadata": {},
   "outputs": [
    {
     "name": "stdout",
     "output_type": "stream",
     "text": [
      "<class 'pandas.core.frame.DataFrame'>\n",
      "Int64Index: 13428414 entries, 0 to 13428413\n",
      "Data columns (total 4 columns):\n",
      "idaviso         int64\n",
      "idpostulante    object\n",
      "cant_vistas     float64\n",
      "sepostulo       int64\n",
      "dtypes: float64(1), int64(2), object(1)\n",
      "memory usage: 512.3+ MB\n"
     ]
    }
   ],
   "source": [
    "modelo.info()"
   ]
  },
  {
   "cell_type": "markdown",
   "metadata": {},
   "source": [
    " "
   ]
  },
  {
   "cell_type": "markdown",
   "metadata": {},
   "source": [
    "Eliminamos los idaviso e idpostulante repetidos, para dejar un id único"
   ]
  },
  {
   "cell_type": "code",
   "execution_count": 41,
   "metadata": {},
   "outputs": [
    {
     "name": "stdout",
     "output_type": "stream",
     "text": [
      "<class 'pandas.core.frame.DataFrame'>\n",
      "Int64Index: 13427632 entries, 0 to 13428413\n",
      "Data columns (total 4 columns):\n",
      "idaviso         int64\n",
      "idpostulante    object\n",
      "cant_vistas     float64\n",
      "sepostulo       int64\n",
      "dtypes: float64(1), int64(2), object(1)\n",
      "memory usage: 512.2+ MB\n"
     ]
    }
   ],
   "source": [
    "modelo = modelo.drop_duplicates(['idaviso','idpostulante'])\n",
    "modelo.info()"
   ]
  },
  {
   "cell_type": "markdown",
   "metadata": {},
   "source": [
    " "
   ]
  },
  {
   "cell_type": "markdown",
   "metadata": {},
   "source": [
    "### DF 6: Detalles de los avisos"
   ]
  },
  {
   "cell_type": "markdown",
   "metadata": {},
   "source": [
    "Se realiza un merge de los 3 dataframes de detalles de los avisos que nos fueron provistos"
   ]
  },
  {
   "cell_type": "code",
   "execution_count": 42,
   "metadata": {},
   "outputs": [
    {
     "data": {
      "text/html": [
       "<div>\n",
       "<style scoped>\n",
       "    .dataframe tbody tr th:only-of-type {\n",
       "        vertical-align: middle;\n",
       "    }\n",
       "\n",
       "    .dataframe tbody tr th {\n",
       "        vertical-align: top;\n",
       "    }\n",
       "\n",
       "    .dataframe thead th {\n",
       "        text-align: right;\n",
       "    }\n",
       "</style>\n",
       "<table border=\"1\" class=\"dataframe\">\n",
       "  <thead>\n",
       "    <tr style=\"text-align: right;\">\n",
       "      <th></th>\n",
       "      <th>idaviso</th>\n",
       "      <th>idpais</th>\n",
       "      <th>titulo</th>\n",
       "      <th>descripcion</th>\n",
       "      <th>nombre_zona</th>\n",
       "      <th>ciudad</th>\n",
       "      <th>mapacalle</th>\n",
       "      <th>tipo_de_trabajo</th>\n",
       "      <th>nivel_laboral</th>\n",
       "      <th>nombre_area</th>\n",
       "      <th>denominacion_empresa</th>\n",
       "    </tr>\n",
       "  </thead>\n",
       "  <tbody>\n",
       "    <tr>\n",
       "      <th>13339</th>\n",
       "      <td>1112325280</td>\n",
       "      <td>1</td>\n",
       "      <td>CHEVROLET INCORPORA PERSONAL.</td>\n",
       "      <td>&lt;p&gt;NUEVO, UNICO E INNOVADOR SISTEMA DE VENTAS....</td>\n",
       "      <td>Gran Buenos Aires</td>\n",
       "      <td>NaN</td>\n",
       "      <td>NaN</td>\n",
       "      <td>Full-time</td>\n",
       "      <td>Senior / Semi-Senior</td>\n",
       "      <td>Ventas</td>\n",
       "      <td>BESTGESTION SA</td>\n",
       "    </tr>\n",
       "    <tr>\n",
       "      <th>8107</th>\n",
       "      <td>1112241148</td>\n",
       "      <td>1</td>\n",
       "      <td>Empleada Contable</td>\n",
       "      <td>&lt;p style=\"\"&gt;&lt;strong&gt;&lt;span style=\"\"&gt;Adecco Offi...</td>\n",
       "      <td>Gran Buenos Aires</td>\n",
       "      <td>NaN</td>\n",
       "      <td>NaN</td>\n",
       "      <td>Full-time</td>\n",
       "      <td>Senior / Semi-Senior</td>\n",
       "      <td>Contabilidad</td>\n",
       "      <td>Adecco - Región NORTE &amp; OESTE GBA</td>\n",
       "    </tr>\n",
       "    <tr>\n",
       "      <th>25434</th>\n",
       "      <td>1112003378</td>\n",
       "      <td>1</td>\n",
       "      <td>Administrativo Patentamientos Concesionario Au...</td>\n",
       "      <td>&lt;p&gt;&lt;strong&gt;Taraborelli Automobile S. A. Conces...</td>\n",
       "      <td>Gran Buenos Aires</td>\n",
       "      <td>NaN</td>\n",
       "      <td>NaN</td>\n",
       "      <td>Full-time</td>\n",
       "      <td>Senior / Semi-Senior</td>\n",
       "      <td>Administración</td>\n",
       "      <td>Taraborelli Automobile S.A.</td>\n",
       "    </tr>\n",
       "    <tr>\n",
       "      <th>24874</th>\n",
       "      <td>1112361572</td>\n",
       "      <td>1</td>\n",
       "      <td>Desarrollador Frontend</td>\n",
       "      <td>&lt;p style=\"\"&gt;&lt;strong&gt;&lt;span style=\"\"&gt;IT Resource...</td>\n",
       "      <td>Gran Buenos Aires</td>\n",
       "      <td>NaN</td>\n",
       "      <td>NaN</td>\n",
       "      <td>Full-time</td>\n",
       "      <td>Senior / Semi-Senior</td>\n",
       "      <td>Programación</td>\n",
       "      <td>IT Resources</td>\n",
       "    </tr>\n",
       "    <tr>\n",
       "      <th>14562</th>\n",
       "      <td>1110888008</td>\n",
       "      <td>1</td>\n",
       "      <td>Administrativa Compras</td>\n",
       "      <td>&lt;p&gt;Importante Empresa metalúrgica se encuentra...</td>\n",
       "      <td>Capital Federal</td>\n",
       "      <td>NaN</td>\n",
       "      <td>Florencio varela 3215</td>\n",
       "      <td>Full-time</td>\n",
       "      <td>Senior / Semi-Senior</td>\n",
       "      <td>Administración</td>\n",
       "      <td>Eurotecno S.A.</td>\n",
       "    </tr>\n",
       "  </tbody>\n",
       "</table>\n",
       "</div>"
      ],
      "text/plain": [
       "          idaviso  idpais                                             titulo  \\\n",
       "13339  1112325280       1                      CHEVROLET INCORPORA PERSONAL.   \n",
       "8107   1112241148       1                                  Empleada Contable   \n",
       "25434  1112003378       1  Administrativo Patentamientos Concesionario Au...   \n",
       "24874  1112361572       1                             Desarrollador Frontend   \n",
       "14562  1110888008       1                             Administrativa Compras   \n",
       "\n",
       "                                             descripcion        nombre_zona  \\\n",
       "13339  <p>NUEVO, UNICO E INNOVADOR SISTEMA DE VENTAS....  Gran Buenos Aires   \n",
       "8107   <p style=\"\"><strong><span style=\"\">Adecco Offi...  Gran Buenos Aires   \n",
       "25434  <p><strong>Taraborelli Automobile S. A. Conces...  Gran Buenos Aires   \n",
       "24874  <p style=\"\"><strong><span style=\"\">IT Resource...  Gran Buenos Aires   \n",
       "14562  <p>Importante Empresa metalúrgica se encuentra...    Capital Federal   \n",
       "\n",
       "      ciudad              mapacalle tipo_de_trabajo         nivel_laboral  \\\n",
       "13339    NaN                    NaN       Full-time  Senior / Semi-Senior   \n",
       "8107     NaN                    NaN       Full-time  Senior / Semi-Senior   \n",
       "25434    NaN                    NaN       Full-time  Senior / Semi-Senior   \n",
       "24874    NaN                    NaN       Full-time  Senior / Semi-Senior   \n",
       "14562    NaN  Florencio varela 3215       Full-time  Senior / Semi-Senior   \n",
       "\n",
       "          nombre_area               denominacion_empresa  \n",
       "13339          Ventas                    BESTGESTION SA   \n",
       "8107     Contabilidad  Adecco - Región NORTE & OESTE GBA  \n",
       "25434  Administración        Taraborelli Automobile S.A.  \n",
       "24874    Programación                       IT Resources  \n",
       "14562  Administración                     Eurotecno S.A.  "
      ]
     },
     "execution_count": 42,
     "metadata": {},
     "output_type": "execute_result"
    }
   ],
   "source": [
    "avisos_detalles = pd.read_csv('datos_navent_fiuba/h15_fiuba_6_avisos_detalle.csv')\n",
    "avisos_detalles_2 = pd.read_csv('datos_navent_fiuba/d15_fiuba_6_avisos_detalle.csv')\n",
    "\n",
    "avisos_detalles = pd.merge(avisos_detalles, avisos_detalles_2, how='outer')\n",
    "\n",
    "avisos_detalles_2 = pd.read_csv('datos_navent_fiuba/fiuba_6_avisos_detalle.csv')\n",
    "\n",
    "avisos_detalles = pd.merge(avisos_detalles, avisos_detalles_2, how='outer')\n",
    "\n",
    "avisos_detalles.sample(5)"
   ]
  },
  {
   "cell_type": "code",
   "execution_count": 43,
   "metadata": {},
   "outputs": [
    {
     "name": "stdout",
     "output_type": "stream",
     "text": [
      "<class 'pandas.core.frame.DataFrame'>\n",
      "Int64Index: 25563 entries, 0 to 25562\n",
      "Data columns (total 11 columns):\n",
      "idaviso                 25563 non-null int64\n",
      "idpais                  25563 non-null int64\n",
      "titulo                  25563 non-null object\n",
      "descripcion             25563 non-null object\n",
      "nombre_zona             25563 non-null object\n",
      "ciudad                  137 non-null object\n",
      "mapacalle               1854 non-null object\n",
      "tipo_de_trabajo         25563 non-null object\n",
      "nivel_laboral           25563 non-null object\n",
      "nombre_area             25563 non-null object\n",
      "denominacion_empresa    25556 non-null object\n",
      "dtypes: int64(2), object(9)\n",
      "memory usage: 2.3+ MB\n"
     ]
    }
   ],
   "source": [
    "avisos_detalles.info()"
   ]
  },
  {
   "cell_type": "markdown",
   "metadata": {},
   "source": [
    " "
   ]
  },
  {
   "cell_type": "markdown",
   "metadata": {},
   "source": [
    "Eliminamos los avisos duplicados"
   ]
  },
  {
   "cell_type": "code",
   "execution_count": 44,
   "metadata": {},
   "outputs": [],
   "source": [
    "avisos_detalles = avisos_detalles.drop_duplicates(['idaviso'])"
   ]
  },
  {
   "cell_type": "code",
   "execution_count": 45,
   "metadata": {},
   "outputs": [],
   "source": [
    "# Renombramos la columna denominacion_empresa por algo más apropiado\n",
    "avisos_detalles.rename(columns={'denominacion_empresa':'nombre_empresa'}, inplace=True)"
   ]
  },
  {
   "cell_type": "markdown",
   "metadata": {},
   "source": [
    " "
   ]
  },
  {
   "cell_type": "markdown",
   "metadata": {},
   "source": [
    "Eliminamos las columnas que consideramos no relevantes. Según la explicación aquí abajo, éstas seran 'idpais', 'ciudad' y 'mapacalle'."
   ]
  },
  {
   "cell_type": "code",
   "execution_count": 46,
   "metadata": {},
   "outputs": [
    {
     "data": {
      "text/plain": [
       "1    24950\n",
       "Name: idpais, dtype: int64"
      ]
     },
     "execution_count": 46,
     "metadata": {},
     "output_type": "execute_result"
    }
   ],
   "source": [
    "# Analizamos la cantidad de 'idpais' posibles\n",
    "# Dado que hay un único idpais, eliminaremos esta columna.\n",
    "avisos_detalles['idpais'].value_counts()"
   ]
  },
  {
   "cell_type": "markdown",
   "metadata": {},
   "source": [
    " "
   ]
  },
  {
   "cell_type": "code",
   "execution_count": 47,
   "metadata": {},
   "outputs": [
    {
     "data": {
      "text/plain": [
       "True     24818\n",
       "False      132\n",
       "Name: ciudad, dtype: int64"
      ]
     },
     "execution_count": 47,
     "metadata": {},
     "output_type": "execute_result"
    }
   ],
   "source": [
    "# Analizamos la cantidad de valores nulos en 'ciudad'\n",
    "# Dado el gran porcentaje de valores nulos, eliminaremos la columna.\n",
    "avisos_detalles['ciudad'].isnull().value_counts()"
   ]
  },
  {
   "cell_type": "markdown",
   "metadata": {},
   "source": [
    " "
   ]
  },
  {
   "cell_type": "code",
   "execution_count": 48,
   "metadata": {},
   "outputs": [
    {
     "data": {
      "text/plain": [
       "True     23152\n",
       "False     1798\n",
       "Name: mapacalle, dtype: int64"
      ]
     },
     "execution_count": 48,
     "metadata": {},
     "output_type": "execute_result"
    }
   ],
   "source": [
    "# Analizamos la cantidad de valores nulos en 'mapacalle'\n",
    "# Dado el gran porcentaje de valores nulos, eliminaremos la columna.\n",
    "avisos_detalles['mapacalle'].isnull().value_counts()"
   ]
  },
  {
   "cell_type": "markdown",
   "metadata": {},
   "source": [
    " "
   ]
  },
  {
   "cell_type": "code",
   "execution_count": 49,
   "metadata": {},
   "outputs": [],
   "source": [
    "# Eliminamos las columnas arriba mencionadas\n",
    "avisos_detalles.drop(columns={'idpais', 'ciudad', 'mapacalle'}, axis=1, inplace=True)"
   ]
  },
  {
   "cell_type": "markdown",
   "metadata": {},
   "source": [
    " "
   ]
  },
  {
   "cell_type": "markdown",
   "metadata": {},
   "source": [
    "Pasamos a valor numérico el nombre zona, según un orden jerárquico asignado por nosotros. Entendemos que Gran Buenos Aires lidera el orden jerárquico, considerando la gran cantidad de registros con los que cuenta. Luego lo siguen Capital Federal y Otros (todas las zonas restantes)"
   ]
  },
  {
   "cell_type": "code",
   "execution_count": 50,
   "metadata": {},
   "outputs": [
    {
     "data": {
      "text/plain": [
       "Gran Buenos Aires              22972\n",
       "Capital Federal                 1914\n",
       "Buenos Aires (fuera de GBA)       42\n",
       "La Plata                           4\n",
       "GBA Oeste                          3\n",
       "Mendoza                            3\n",
       "Ciudad de Mendoza                  3\n",
       "Rosario                            2\n",
       "Santa Cruz                         1\n",
       "Catamarca                          1\n",
       "Neuquen                            1\n",
       "San Juan                           1\n",
       "Santa Fe                           1\n",
       "Tucuman                            1\n",
       "Cordoba                            1\n",
       "Name: nombre_zona, dtype: int64"
      ]
     },
     "execution_count": 50,
     "metadata": {},
     "output_type": "execute_result"
    }
   ],
   "source": [
    "avisos_detalles['nombre_zona'].value_counts()"
   ]
  },
  {
   "cell_type": "code",
   "execution_count": 51,
   "metadata": {},
   "outputs": [],
   "source": [
    "avisos_detalles.loc[(avisos_detalles['nombre_zona'] == 'Gran Buenos Aires'),'nombre_zona'] = 3\n",
    "avisos_detalles.loc[(avisos_detalles['nombre_zona'] == 'Capital Federal'),'nombre_zona'] = 2\n",
    "avisos_detalles.loc[(avisos_detalles['nombre_zona'] == 'Buenos Aires (fuera de GBA)'),'nombre_zona'] = 1\n",
    "avisos_detalles.loc[(avisos_detalles['nombre_zona'] == 'GBA Oeste'),'nombre_zona'] = 1\n",
    "avisos_detalles.loc[(avisos_detalles['nombre_zona'] == 'La Plata'),'nombre_zona'] = 1\n",
    "avisos_detalles.loc[(avisos_detalles['nombre_zona'] == 'Ciudad de Mendoza'),'nombre_zona'] = 1\n",
    "avisos_detalles.loc[(avisos_detalles['nombre_zona'] == 'Mendoza'),'nombre_zona'] = 1\n",
    "avisos_detalles.loc[(avisos_detalles['nombre_zona'] == 'Catamarca'),'nombre_zona'] = 1\n",
    "avisos_detalles.loc[(avisos_detalles['nombre_zona'] == 'Rosario'),'nombre_zona'] = 1\n",
    "avisos_detalles.loc[(avisos_detalles['nombre_zona'] == 'Santa Cruz'),'nombre_zona'] = 1\n",
    "avisos_detalles.loc[(avisos_detalles['nombre_zona'] == 'San Juan'),'nombre_zona'] = 1\n",
    "avisos_detalles.loc[(avisos_detalles['nombre_zona'] == 'Cordoba'),'nombre_zona'] = 1\n",
    "avisos_detalles.loc[(avisos_detalles['nombre_zona'] == 'Tucuman'),'nombre_zona'] = 1\n",
    "avisos_detalles.loc[(avisos_detalles['nombre_zona'] == 'Neuquen'),'nombre_zona'] = 1\n",
    "avisos_detalles.loc[(avisos_detalles['nombre_zona'] == 'Santa Fe'),'nombre_zona'] = 1"
   ]
  },
  {
   "cell_type": "markdown",
   "metadata": {},
   "source": [
    "Pasamos a valor numérico el tipo de trabajo, según un orden jerárquico asignado por nosotros."
   ]
  },
  {
   "cell_type": "code",
   "execution_count": 52,
   "metadata": {},
   "outputs": [
    {
     "data": {
      "text/plain": [
       "Full-time          22523\n",
       "Part-time           1725\n",
       "Teletrabajo          248\n",
       "Por Horas            124\n",
       "Pasantia             119\n",
       "Temporario            89\n",
       "Por Contrato          87\n",
       "Fines de Semana       28\n",
       "Primer empleo          6\n",
       "Voluntario             1\n",
       "Name: tipo_de_trabajo, dtype: int64"
      ]
     },
     "execution_count": 52,
     "metadata": {},
     "output_type": "execute_result"
    }
   ],
   "source": [
    "avisos_detalles['tipo_de_trabajo'].value_counts()"
   ]
  },
  {
   "cell_type": "code",
   "execution_count": 53,
   "metadata": {},
   "outputs": [],
   "source": [
    "avisos_detalles.loc[(avisos_detalles['tipo_de_trabajo'] == 'Full-time'),'tipo_de_trabajo'] = 10\n",
    "avisos_detalles.loc[(avisos_detalles['tipo_de_trabajo'] == 'Part-time'),'tipo_de_trabajo'] = 9\n",
    "avisos_detalles.loc[(avisos_detalles['tipo_de_trabajo'] == 'Teletrabajo'),'tipo_de_trabajo'] = 8\n",
    "avisos_detalles.loc[(avisos_detalles['tipo_de_trabajo'] == 'Por Horas'),'tipo_de_trabajo'] = 7\n",
    "avisos_detalles.loc[(avisos_detalles['tipo_de_trabajo'] == 'Pasantia'),'tipo_de_trabajo'] = 6\n",
    "avisos_detalles.loc[(avisos_detalles['tipo_de_trabajo'] == 'Temporario'),'tipo_de_trabajo'] = 5\n",
    "avisos_detalles.loc[(avisos_detalles['tipo_de_trabajo'] == 'Por Contrato'),'tipo_de_trabajo'] = 4\n",
    "avisos_detalles.loc[(avisos_detalles['tipo_de_trabajo'] == 'Fines de Semana'),'tipo_de_trabajo'] = 3\n",
    "avisos_detalles.loc[(avisos_detalles['tipo_de_trabajo'] == 'Primer empleo'),'tipo_de_trabajo'] = 2\n",
    "avisos_detalles.loc[(avisos_detalles['tipo_de_trabajo'] == 'Voluntario'),'tipo_de_trabajo'] = 1"
   ]
  },
  {
   "cell_type": "markdown",
   "metadata": {},
   "source": [
    "Pasamos a valor numérico el nivel laboral, según un orden jerárquico asignado por nosotros."
   ]
  },
  {
   "cell_type": "code",
   "execution_count": 54,
   "metadata": {},
   "outputs": [
    {
     "data": {
      "text/plain": [
       "Senior / Semi-Senior                    16977\n",
       "Junior                                   4149\n",
       "Otro                                     1975\n",
       "Jefe / Supervisor / Responsable          1527\n",
       "Gerencia / Alta Gerencia / Dirección      322\n",
       "Name: nivel_laboral, dtype: int64"
      ]
     },
     "execution_count": 54,
     "metadata": {},
     "output_type": "execute_result"
    }
   ],
   "source": [
    "avisos_detalles['nivel_laboral'].value_counts()"
   ]
  },
  {
   "cell_type": "code",
   "execution_count": 55,
   "metadata": {},
   "outputs": [],
   "source": [
    "avisos_detalles.loc[(avisos_detalles['nivel_laboral'] == 'Gerencia / Alta Gerencia / Dirección'),'nivel_laboral'] = 5\n",
    "avisos_detalles.loc[(avisos_detalles['nivel_laboral'] == 'Jefe / Supervisor / Responsable'),'nivel_laboral'] = 4\n",
    "avisos_detalles.loc[(avisos_detalles['nivel_laboral'] == 'Senior / Semi-Senior'),'nivel_laboral'] = 3\n",
    "avisos_detalles.loc[(avisos_detalles['nivel_laboral'] == 'Junior'),'nivel_laboral'] = 2\n",
    "avisos_detalles.loc[(avisos_detalles['nivel_laboral'] == 'Otro'),'nivel_laboral'] = 1"
   ]
  },
  {
   "cell_type": "code",
   "execution_count": 56,
   "metadata": {},
   "outputs": [
    {
     "data": {
      "text/html": [
       "<div>\n",
       "<style scoped>\n",
       "    .dataframe tbody tr th:only-of-type {\n",
       "        vertical-align: middle;\n",
       "    }\n",
       "\n",
       "    .dataframe tbody tr th {\n",
       "        vertical-align: top;\n",
       "    }\n",
       "\n",
       "    .dataframe thead th {\n",
       "        text-align: right;\n",
       "    }\n",
       "</style>\n",
       "<table border=\"1\" class=\"dataframe\">\n",
       "  <thead>\n",
       "    <tr style=\"text-align: right;\">\n",
       "      <th></th>\n",
       "      <th>idaviso</th>\n",
       "      <th>titulo</th>\n",
       "      <th>descripcion</th>\n",
       "      <th>nombre_zona</th>\n",
       "      <th>tipo_de_trabajo</th>\n",
       "      <th>nivel_laboral</th>\n",
       "      <th>nombre_area</th>\n",
       "      <th>nombre_empresa</th>\n",
       "    </tr>\n",
       "  </thead>\n",
       "  <tbody>\n",
       "    <tr>\n",
       "      <th>4891</th>\n",
       "      <td>1112228625</td>\n",
       "      <td>Carniceros</td>\n",
       "      <td>&lt;p&gt;Importante cadena frigorífica se encuentra ...</td>\n",
       "      <td>3</td>\n",
       "      <td>10</td>\n",
       "      <td>3</td>\n",
       "      <td>Gastronomia</td>\n",
       "      <td>Assistem</td>\n",
       "    </tr>\n",
       "    <tr>\n",
       "      <th>20424</th>\n",
       "      <td>1112473579</td>\n",
       "      <td>Telemarketer  Part time, turno tarde  para ven...</td>\n",
       "      <td>&lt;p&gt;Importante empresa de  Retiro incorporará v...</td>\n",
       "      <td>3</td>\n",
       "      <td>9</td>\n",
       "      <td>3</td>\n",
       "      <td>Telemarketing</td>\n",
       "      <td>RH Talentum</td>\n",
       "    </tr>\n",
       "    <tr>\n",
       "      <th>20732</th>\n",
       "      <td>1112477519</td>\n",
       "      <td>CAJERO ADMINISTRATIVO/A PARA IMPORTANTE RETAIL...</td>\n",
       "      <td>&lt;span style=\"\"&gt;Para empresa del rubro textil e...</td>\n",
       "      <td>3</td>\n",
       "      <td>10</td>\n",
       "      <td>3</td>\n",
       "      <td>Administración</td>\n",
       "      <td>RH Positivo</td>\n",
       "    </tr>\n",
       "    <tr>\n",
       "      <th>15392</th>\n",
       "      <td>1112202162</td>\n",
       "      <td>Operarios de Limpieza Técnica</td>\n",
       "      <td>&lt;p&gt;&lt;span lang=\"es\"&gt;Para importante empresa ubi...</td>\n",
       "      <td>3</td>\n",
       "      <td>10</td>\n",
       "      <td>2</td>\n",
       "      <td>Mantenimiento</td>\n",
       "      <td>RANDSTAD</td>\n",
       "    </tr>\n",
       "    <tr>\n",
       "      <th>204</th>\n",
       "      <td>1112408768</td>\n",
       "      <td>Analista de Pricing con experiencia en Consumo...</td>\n",
       "      <td>&lt;p&gt;Importante autoservicio mayorista se encuen...</td>\n",
       "      <td>3</td>\n",
       "      <td>10</td>\n",
       "      <td>3</td>\n",
       "      <td>Desarrollo de Negocios</td>\n",
       "      <td>Consultores de Empresas SRL</td>\n",
       "    </tr>\n",
       "  </tbody>\n",
       "</table>\n",
       "</div>"
      ],
      "text/plain": [
       "          idaviso                                             titulo  \\\n",
       "4891   1112228625                                         Carniceros   \n",
       "20424  1112473579  Telemarketer  Part time, turno tarde  para ven...   \n",
       "20732  1112477519  CAJERO ADMINISTRATIVO/A PARA IMPORTANTE RETAIL...   \n",
       "15392  1112202162                      Operarios de Limpieza Técnica   \n",
       "204    1112408768  Analista de Pricing con experiencia en Consumo...   \n",
       "\n",
       "                                             descripcion  nombre_zona  \\\n",
       "4891   <p>Importante cadena frigorífica se encuentra ...            3   \n",
       "20424  <p>Importante empresa de  Retiro incorporará v...            3   \n",
       "20732  <span style=\"\">Para empresa del rubro textil e...            3   \n",
       "15392  <p><span lang=\"es\">Para importante empresa ubi...            3   \n",
       "204    <p>Importante autoservicio mayorista se encuen...            3   \n",
       "\n",
       "       tipo_de_trabajo  nivel_laboral             nombre_area  \\\n",
       "4891                10              3             Gastronomia   \n",
       "20424                9              3           Telemarketing   \n",
       "20732               10              3          Administración   \n",
       "15392               10              2           Mantenimiento   \n",
       "204                 10              3  Desarrollo de Negocios   \n",
       "\n",
       "                    nombre_empresa  \n",
       "4891                      Assistem  \n",
       "20424                  RH Talentum  \n",
       "20732                  RH Positivo  \n",
       "15392                     RANDSTAD  \n",
       "204    Consultores de Empresas SRL  "
      ]
     },
     "execution_count": 56,
     "metadata": {},
     "output_type": "execute_result"
    }
   ],
   "source": [
    "avisos_detalles.sample(5)"
   ]
  },
  {
   "cell_type": "code",
   "execution_count": 57,
   "metadata": {},
   "outputs": [
    {
     "name": "stdout",
     "output_type": "stream",
     "text": [
      "<class 'pandas.core.frame.DataFrame'>\n",
      "Int64Index: 24950 entries, 0 to 25549\n",
      "Data columns (total 8 columns):\n",
      "idaviso            24950 non-null int64\n",
      "titulo             24950 non-null object\n",
      "descripcion        24950 non-null object\n",
      "nombre_zona        24950 non-null int64\n",
      "tipo_de_trabajo    24950 non-null int64\n",
      "nivel_laboral      24950 non-null int64\n",
      "nombre_area        24950 non-null object\n",
      "nombre_empresa     24943 non-null object\n",
      "dtypes: int64(4), object(4)\n",
      "memory usage: 1.7+ MB\n"
     ]
    }
   ],
   "source": [
    "avisos_detalles.info()"
   ]
  },
  {
   "cell_type": "markdown",
   "metadata": {},
   "source": [
    "Liberamos memoria para mejorar la performance"
   ]
  },
  {
   "cell_type": "code",
   "execution_count": 58,
   "metadata": {},
   "outputs": [],
   "source": [
    "vistas=0\n",
    "vista_2=0\n",
    "lista=0\n",
    "fecha=0\n",
    "postulaciones=0\n",
    "postulaciones_2=0\n",
    "avisos_detalles_2=0\n",
    "postulantes_educ=0\n",
    "postulantes_gen_nac=0"
   ]
  },
  {
   "cell_type": "markdown",
   "metadata": {},
   "source": [
    "## Merge del modelo con los postulantes y los detalles de los avisos"
   ]
  },
  {
   "cell_type": "markdown",
   "metadata": {},
   "source": [
    "Cabe destacar que se realiza un inner join en ambos casos, para contar con registros con datos consistentes y sin valores nulos"
   ]
  },
  {
   "cell_type": "code",
   "execution_count": 59,
   "metadata": {},
   "outputs": [
    {
     "data": {
      "text/html": [
       "<div>\n",
       "<style scoped>\n",
       "    .dataframe tbody tr th:only-of-type {\n",
       "        vertical-align: middle;\n",
       "    }\n",
       "\n",
       "    .dataframe tbody tr th {\n",
       "        vertical-align: top;\n",
       "    }\n",
       "\n",
       "    .dataframe thead th {\n",
       "        text-align: right;\n",
       "    }\n",
       "</style>\n",
       "<table border=\"1\" class=\"dataframe\">\n",
       "  <thead>\n",
       "    <tr style=\"text-align: right;\">\n",
       "      <th></th>\n",
       "      <th>idaviso</th>\n",
       "      <th>idpostulante</th>\n",
       "      <th>cant_vistas</th>\n",
       "      <th>sepostulo</th>\n",
       "      <th>estudios</th>\n",
       "      <th>esta_estudiando</th>\n",
       "      <th>sexo</th>\n",
       "      <th>rango_edad</th>\n",
       "    </tr>\n",
       "  </thead>\n",
       "  <tbody>\n",
       "    <tr>\n",
       "      <th>2316593</th>\n",
       "      <td>1112467682</td>\n",
       "      <td>GNorEPE</td>\n",
       "      <td>1.0</td>\n",
       "      <td>0</td>\n",
       "      <td>2.0</td>\n",
       "      <td>0.0</td>\n",
       "      <td>2</td>\n",
       "      <td>1.0</td>\n",
       "    </tr>\n",
       "    <tr>\n",
       "      <th>6347855</th>\n",
       "      <td>1112484808</td>\n",
       "      <td>dYjr2ZA</td>\n",
       "      <td>1.0</td>\n",
       "      <td>0</td>\n",
       "      <td>3.0</td>\n",
       "      <td>1.0</td>\n",
       "      <td>1</td>\n",
       "      <td>1.0</td>\n",
       "    </tr>\n",
       "    <tr>\n",
       "      <th>5169295</th>\n",
       "      <td>1112344973</td>\n",
       "      <td>X9Pk3vQ</td>\n",
       "      <td>NaN</td>\n",
       "      <td>1</td>\n",
       "      <td>4.0</td>\n",
       "      <td>1.0</td>\n",
       "      <td>1</td>\n",
       "      <td>1.0</td>\n",
       "    </tr>\n",
       "    <tr>\n",
       "      <th>976683</th>\n",
       "      <td>1112457554</td>\n",
       "      <td>jkj5NkO</td>\n",
       "      <td>1.0</td>\n",
       "      <td>0</td>\n",
       "      <td>4.0</td>\n",
       "      <td>0.0</td>\n",
       "      <td>1</td>\n",
       "      <td>1.0</td>\n",
       "    </tr>\n",
       "    <tr>\n",
       "      <th>4151921</th>\n",
       "      <td>1112397007</td>\n",
       "      <td>eYj418</td>\n",
       "      <td>NaN</td>\n",
       "      <td>1</td>\n",
       "      <td>3.0</td>\n",
       "      <td>0.0</td>\n",
       "      <td>1</td>\n",
       "      <td>2.0</td>\n",
       "    </tr>\n",
       "  </tbody>\n",
       "</table>\n",
       "</div>"
      ],
      "text/plain": [
       "            idaviso idpostulante  cant_vistas  sepostulo  estudios  \\\n",
       "2316593  1112467682      GNorEPE          1.0          0       2.0   \n",
       "6347855  1112484808      dYjr2ZA          1.0          0       3.0   \n",
       "5169295  1112344973      X9Pk3vQ          NaN          1       4.0   \n",
       "976683   1112457554      jkj5NkO          1.0          0       4.0   \n",
       "4151921  1112397007       eYj418          NaN          1       3.0   \n",
       "\n",
       "         esta_estudiando  sexo  rango_edad  \n",
       "2316593              0.0     2         1.0  \n",
       "6347855              1.0     1         1.0  \n",
       "5169295              1.0     1         1.0  \n",
       "976683               0.0     1         1.0  \n",
       "4151921              0.0     1         2.0  "
      ]
     },
     "execution_count": 59,
     "metadata": {},
     "output_type": "execute_result"
    }
   ],
   "source": [
    "modelo = pd.merge(modelo, postulantes, on='idpostulante', how='inner')\n",
    "modelo.sample(5)"
   ]
  },
  {
   "cell_type": "code",
   "execution_count": 60,
   "metadata": {},
   "outputs": [
    {
     "name": "stdout",
     "output_type": "stream",
     "text": [
      "<class 'pandas.core.frame.DataFrame'>\n",
      "Int64Index: 10591337 entries, 0 to 10591336\n",
      "Data columns (total 8 columns):\n",
      "idaviso            int64\n",
      "idpostulante       object\n",
      "cant_vistas        float64\n",
      "sepostulo          int64\n",
      "estudios           float64\n",
      "esta_estudiando    float64\n",
      "sexo               int64\n",
      "rango_edad         float64\n",
      "dtypes: float64(4), int64(3), object(1)\n",
      "memory usage: 727.2+ MB\n"
     ]
    }
   ],
   "source": [
    "modelo.info()"
   ]
  },
  {
   "cell_type": "markdown",
   "metadata": {},
   "source": [
    " "
   ]
  },
  {
   "cell_type": "code",
   "execution_count": 61,
   "metadata": {},
   "outputs": [
    {
     "data": {
      "text/html": [
       "<div>\n",
       "<style scoped>\n",
       "    .dataframe tbody tr th:only-of-type {\n",
       "        vertical-align: middle;\n",
       "    }\n",
       "\n",
       "    .dataframe tbody tr th {\n",
       "        vertical-align: top;\n",
       "    }\n",
       "\n",
       "    .dataframe thead th {\n",
       "        text-align: right;\n",
       "    }\n",
       "</style>\n",
       "<table border=\"1\" class=\"dataframe\">\n",
       "  <thead>\n",
       "    <tr style=\"text-align: right;\">\n",
       "      <th></th>\n",
       "      <th>idaviso</th>\n",
       "      <th>idpostulante</th>\n",
       "      <th>cant_vistas</th>\n",
       "      <th>sepostulo</th>\n",
       "      <th>estudios</th>\n",
       "      <th>esta_estudiando</th>\n",
       "      <th>sexo</th>\n",
       "      <th>rango_edad</th>\n",
       "      <th>titulo</th>\n",
       "      <th>descripcion</th>\n",
       "      <th>nombre_zona</th>\n",
       "      <th>tipo_de_trabajo</th>\n",
       "      <th>nivel_laboral</th>\n",
       "      <th>nombre_area</th>\n",
       "      <th>nombre_empresa</th>\n",
       "    </tr>\n",
       "  </thead>\n",
       "  <tbody>\n",
       "    <tr>\n",
       "      <th>4735955</th>\n",
       "      <td>1112344822</td>\n",
       "      <td>BmBLd6v</td>\n",
       "      <td>NaN</td>\n",
       "      <td>1</td>\n",
       "      <td>2.0</td>\n",
       "      <td>0.0</td>\n",
       "      <td>1</td>\n",
       "      <td>2.0</td>\n",
       "      <td>Musimundo SAN MIGUEL  necesita Vendedores</td>\n",
       "      <td>&lt;p&gt; &lt;/p&gt;&lt;p style=\"\"&gt;&lt;span style=\"\"&gt;Para nustra...</td>\n",
       "      <td>3</td>\n",
       "      <td>10</td>\n",
       "      <td>3</td>\n",
       "      <td>Ventas</td>\n",
       "      <td>Musimundo  SA</td>\n",
       "    </tr>\n",
       "    <tr>\n",
       "      <th>7902567</th>\n",
       "      <td>1112312285</td>\n",
       "      <td>bOWGXBb</td>\n",
       "      <td>NaN</td>\n",
       "      <td>1</td>\n",
       "      <td>4.0</td>\n",
       "      <td>0.0</td>\n",
       "      <td>2</td>\n",
       "      <td>1.0</td>\n",
       "      <td>ANALISTA DE CONTROL DE GESTION SSR. - BBVA SEG...</td>\n",
       "      <td>&lt;p style=\"\"&gt;Estamos en la búsqueda de estudian...</td>\n",
       "      <td>3</td>\n",
       "      <td>10</td>\n",
       "      <td>3</td>\n",
       "      <td>Administracion de Seguros</td>\n",
       "      <td>BBVA Francés</td>\n",
       "    </tr>\n",
       "    <tr>\n",
       "      <th>966247</th>\n",
       "      <td>1112431304</td>\n",
       "      <td>ZD24BwR</td>\n",
       "      <td>1.0</td>\n",
       "      <td>1</td>\n",
       "      <td>3.0</td>\n",
       "      <td>1.0</td>\n",
       "      <td>1</td>\n",
       "      <td>1.0</td>\n",
       "      <td>RECEPCIONISTA // TELEFONISTA</td>\n",
       "      <td>&lt;p&gt;Estudio juridico, ubicado en Microcentro, C...</td>\n",
       "      <td>3</td>\n",
       "      <td>9</td>\n",
       "      <td>3</td>\n",
       "      <td>Recepcionista</td>\n",
       "      <td>EPBA</td>\n",
       "    </tr>\n",
       "    <tr>\n",
       "      <th>4076938</th>\n",
       "      <td>1112438501</td>\n",
       "      <td>5mdoxvw</td>\n",
       "      <td>1.0</td>\n",
       "      <td>0</td>\n",
       "      <td>4.0</td>\n",
       "      <td>1.0</td>\n",
       "      <td>2</td>\n",
       "      <td>1.0</td>\n",
       "      <td>Ejecutivo de ventas (Forwarder) Zona CABA y Zo...</td>\n",
       "      <td>&lt;p&gt; &lt;/p&gt;&lt;p&gt;&lt;span style=\"\"&gt;CEVA LOGISTICS, Empr...</td>\n",
       "      <td>3</td>\n",
       "      <td>10</td>\n",
       "      <td>3</td>\n",
       "      <td>Ventas Internacionales/Exportación</td>\n",
       "      <td>Ceva Logistics</td>\n",
       "    </tr>\n",
       "    <tr>\n",
       "      <th>4681917</th>\n",
       "      <td>1112432565</td>\n",
       "      <td>ekO6A9W</td>\n",
       "      <td>1.0</td>\n",
       "      <td>0</td>\n",
       "      <td>4.0</td>\n",
       "      <td>1.0</td>\n",
       "      <td>2</td>\n",
       "      <td>1.0</td>\n",
       "      <td>P - Repositores (Zona Tigre)</td>\n",
       "      <td>&lt;p&gt;Importante hipermercado de zona norte incor...</td>\n",
       "      <td>3</td>\n",
       "      <td>9</td>\n",
       "      <td>2</td>\n",
       "      <td>Atención al Cliente</td>\n",
       "      <td>Grupo Gestión</td>\n",
       "    </tr>\n",
       "  </tbody>\n",
       "</table>\n",
       "</div>"
      ],
      "text/plain": [
       "            idaviso idpostulante  cant_vistas  sepostulo  estudios  \\\n",
       "4735955  1112344822      BmBLd6v          NaN          1       2.0   \n",
       "7902567  1112312285      bOWGXBb          NaN          1       4.0   \n",
       "966247   1112431304      ZD24BwR          1.0          1       3.0   \n",
       "4076938  1112438501      5mdoxvw          1.0          0       4.0   \n",
       "4681917  1112432565      ekO6A9W          1.0          0       4.0   \n",
       "\n",
       "         esta_estudiando  sexo  rango_edad  \\\n",
       "4735955              0.0     1         2.0   \n",
       "7902567              0.0     2         1.0   \n",
       "966247               1.0     1         1.0   \n",
       "4076938              1.0     2         1.0   \n",
       "4681917              1.0     2         1.0   \n",
       "\n",
       "                                                    titulo  \\\n",
       "4735955          Musimundo SAN MIGUEL  necesita Vendedores   \n",
       "7902567  ANALISTA DE CONTROL DE GESTION SSR. - BBVA SEG...   \n",
       "966247                       RECEPCIONISTA // TELEFONISTA    \n",
       "4076938  Ejecutivo de ventas (Forwarder) Zona CABA y Zo...   \n",
       "4681917                       P - Repositores (Zona Tigre)   \n",
       "\n",
       "                                               descripcion  nombre_zona  \\\n",
       "4735955  <p> </p><p style=\"\"><span style=\"\">Para nustra...            3   \n",
       "7902567  <p style=\"\">Estamos en la búsqueda de estudian...            3   \n",
       "966247   <p>Estudio juridico, ubicado en Microcentro, C...            3   \n",
       "4076938  <p> </p><p><span style=\"\">CEVA LOGISTICS, Empr...            3   \n",
       "4681917  <p>Importante hipermercado de zona norte incor...            3   \n",
       "\n",
       "         tipo_de_trabajo  nivel_laboral                         nombre_area  \\\n",
       "4735955               10              3                              Ventas   \n",
       "7902567               10              3           Administracion de Seguros   \n",
       "966247                 9              3                       Recepcionista   \n",
       "4076938               10              3  Ventas Internacionales/Exportación   \n",
       "4681917                9              2                 Atención al Cliente   \n",
       "\n",
       "         nombre_empresa  \n",
       "4735955   Musimundo  SA  \n",
       "7902567    BBVA Francés  \n",
       "966247             EPBA  \n",
       "4076938  Ceva Logistics  \n",
       "4681917   Grupo Gestión  "
      ]
     },
     "execution_count": 61,
     "metadata": {},
     "output_type": "execute_result"
    }
   ],
   "source": [
    "modelo = pd.merge(modelo, avisos_detalles, on='idaviso', how='inner')\n",
    "modelo.sample(5)"
   ]
  },
  {
   "cell_type": "code",
   "execution_count": 62,
   "metadata": {},
   "outputs": [
    {
     "name": "stdout",
     "output_type": "stream",
     "text": [
      "<class 'pandas.core.frame.DataFrame'>\n",
      "Int64Index: 9223108 entries, 0 to 9223107\n",
      "Data columns (total 15 columns):\n",
      "idaviso            int64\n",
      "idpostulante       object\n",
      "cant_vistas        float64\n",
      "sepostulo          int64\n",
      "nivel_estudios     float64\n",
      "esta_estudiando    float64\n",
      "sexo               int64\n",
      "rango_edad         float64\n",
      "titulo             object\n",
      "descripcion        object\n",
      "nombre_zona        int64\n",
      "tipo_de_trabajo    int64\n",
      "nivel_laboral      int64\n",
      "nombre_area        object\n",
      "nombre_empresa     object\n",
      "dtypes: float64(4), int64(6), object(5)\n",
      "memory usage: 1.1+ GB\n"
     ]
    }
   ],
   "source": [
    "modelo.rename(columns={'estudios':'nivel_estudios'},inplace=True)\n",
    "modelo.info()"
   ]
  },
  {
   "cell_type": "markdown",
   "metadata": {},
   "source": [
    " "
   ]
  },
  {
   "cell_type": "markdown",
   "metadata": {},
   "source": [
    "Analizamos la información del modelo final que será utilizado por los algoritmos de Machine Learning."
   ]
  },
  {
   "cell_type": "markdown",
   "metadata": {},
   "source": [
    "Asignamos un 1 a aquellos valores NaN de la columna cant_vistas. Esto tiene dos propósitos:\n",
    "\n",
    "- Mantener la coherencia. Una persona no puede postularse a un aviso sin visualizarlo.\n",
    "- Evita valores nulos para los algoritmos de Machine Learning."
   ]
  },
  {
   "cell_type": "code",
   "execution_count": 63,
   "metadata": {},
   "outputs": [],
   "source": [
    "modelo.loc[(modelo['cant_vistas'].isnull()), 'cant_vistas'] = 1"
   ]
  },
  {
   "cell_type": "markdown",
   "metadata": {},
   "source": [
    "Comprobamos que efectivamente no quedó ningún registro con cant_vistas con valor nulo."
   ]
  },
  {
   "cell_type": "code",
   "execution_count": 64,
   "metadata": {
    "scrolled": true
   },
   "outputs": [
    {
     "data": {
      "text/plain": [
       "0"
      ]
     },
     "execution_count": 64,
     "metadata": {},
     "output_type": "execute_result"
    }
   ],
   "source": [
    "modelo['cant_vistas'].isnull().sum()"
   ]
  },
  {
   "cell_type": "markdown",
   "metadata": {},
   "source": [
    " "
   ]
  },
  {
   "cell_type": "code",
   "execution_count": 65,
   "metadata": {},
   "outputs": [
    {
     "name": "stdout",
     "output_type": "stream",
     "text": [
      "<class 'pandas.core.frame.DataFrame'>\n",
      "Int64Index: 9223108 entries, 0 to 9223107\n",
      "Data columns (total 15 columns):\n",
      "idaviso            int64\n",
      "idpostulante       object\n",
      "cant_vistas        float64\n",
      "sepostulo          int64\n",
      "nivel_estudios     float64\n",
      "esta_estudiando    float64\n",
      "sexo               int64\n",
      "rango_edad         float64\n",
      "titulo             object\n",
      "descripcion        object\n",
      "nombre_zona        int64\n",
      "tipo_de_trabajo    int64\n",
      "nivel_laboral      int64\n",
      "nombre_area        object\n",
      "nombre_empresa     object\n",
      "dtypes: float64(4), int64(6), object(5)\n",
      "memory usage: 1.1+ GB\n"
     ]
    }
   ],
   "source": [
    "modelo.info()"
   ]
  },
  {
   "cell_type": "markdown",
   "metadata": {},
   "source": [
    "Reordenamos las columnas para facilitar el manejo del dataframe cuando apliquemos los algoritmos de ML"
   ]
  },
  {
   "cell_type": "code",
   "execution_count": 66,
   "metadata": {},
   "outputs": [
    {
     "data": {
      "text/html": [
       "<div>\n",
       "<style scoped>\n",
       "    .dataframe tbody tr th:only-of-type {\n",
       "        vertical-align: middle;\n",
       "    }\n",
       "\n",
       "    .dataframe tbody tr th {\n",
       "        vertical-align: top;\n",
       "    }\n",
       "\n",
       "    .dataframe thead th {\n",
       "        text-align: right;\n",
       "    }\n",
       "</style>\n",
       "<table border=\"1\" class=\"dataframe\">\n",
       "  <thead>\n",
       "    <tr style=\"text-align: right;\">\n",
       "      <th></th>\n",
       "      <th>idaviso</th>\n",
       "      <th>idpostulante</th>\n",
       "      <th>cant_vistas</th>\n",
       "      <th>rango_edad</th>\n",
       "      <th>sexo</th>\n",
       "      <th>nivel_estudios</th>\n",
       "      <th>esta_estudiando</th>\n",
       "      <th>titulo</th>\n",
       "      <th>descripcion</th>\n",
       "      <th>tipo_de_trabajo</th>\n",
       "      <th>nivel_laboral</th>\n",
       "      <th>nombre_zona</th>\n",
       "      <th>nombre_area</th>\n",
       "      <th>nombre_empresa</th>\n",
       "      <th>sepostulo</th>\n",
       "    </tr>\n",
       "  </thead>\n",
       "  <tbody>\n",
       "    <tr>\n",
       "      <th>1644800</th>\n",
       "      <td>1112425713</td>\n",
       "      <td>3NPJWxQ</td>\n",
       "      <td>1.0</td>\n",
       "      <td>3.0</td>\n",
       "      <td>1</td>\n",
       "      <td>4.0</td>\n",
       "      <td>1.0</td>\n",
       "      <td>Cajera - Part Time PSA (CABA)</td>\n",
       "      <td>&lt;p style=\"\"&gt;&lt;strong&gt;&lt;span style=\"\"&gt;¡Estamos bu...</td>\n",
       "      <td>9</td>\n",
       "      <td>2</td>\n",
       "      <td>3</td>\n",
       "      <td>Atención al Cliente</td>\n",
       "      <td>PSA</td>\n",
       "      <td>0</td>\n",
       "    </tr>\n",
       "    <tr>\n",
       "      <th>629708</th>\n",
       "      <td>1112223876</td>\n",
       "      <td>vVka8pj</td>\n",
       "      <td>1.0</td>\n",
       "      <td>1.0</td>\n",
       "      <td>1</td>\n",
       "      <td>4.0</td>\n",
       "      <td>1.0</td>\n",
       "      <td>OFICIAL DE BANCA EMPRESAS - MICROCENTRO</td>\n",
       "      <td>&lt;p&gt;&lt;span style=\"\"&gt;Orientamos nuestra búsqueda ...</td>\n",
       "      <td>10</td>\n",
       "      <td>3</td>\n",
       "      <td>3</td>\n",
       "      <td>Comercial</td>\n",
       "      <td>BBVA Francés</td>\n",
       "      <td>0</td>\n",
       "    </tr>\n",
       "    <tr>\n",
       "      <th>6023422</th>\n",
       "      <td>1112316757</td>\n",
       "      <td>1QdxaYB</td>\n",
       "      <td>1.0</td>\n",
       "      <td>1.0</td>\n",
       "      <td>1</td>\n",
       "      <td>2.0</td>\n",
       "      <td>0.0</td>\n",
       "      <td>Administrativo de depósito - Vicente López-</td>\n",
       "      <td>&lt;p style=\"\"&gt;&lt;strong style=\"\"&gt;Grupo Cosmos es u...</td>\n",
       "      <td>10</td>\n",
       "      <td>3</td>\n",
       "      <td>3</td>\n",
       "      <td>Administración</td>\n",
       "      <td>Grupo Cosmos</td>\n",
       "      <td>1</td>\n",
       "    </tr>\n",
       "    <tr>\n",
       "      <th>6825525</th>\n",
       "      <td>1112263300</td>\n",
       "      <td>kPX8jAj</td>\n",
       "      <td>1.0</td>\n",
       "      <td>2.0</td>\n",
       "      <td>2</td>\n",
       "      <td>4.0</td>\n",
       "      <td>0.0</td>\n",
       "      <td>Accounting Analysts (Jr/Ssr/Sr)</td>\n",
       "      <td>&lt;p&gt;&lt;strong&gt;Chevron&lt;/strong&gt; is one of the worl...</td>\n",
       "      <td>10</td>\n",
       "      <td>3</td>\n",
       "      <td>3</td>\n",
       "      <td>Contabilidad</td>\n",
       "      <td>Chevron Buenos Aires Shared Services Center</td>\n",
       "      <td>0</td>\n",
       "    </tr>\n",
       "    <tr>\n",
       "      <th>4872056</th>\n",
       "      <td>1112389343</td>\n",
       "      <td>ak5YB0N</td>\n",
       "      <td>1.0</td>\n",
       "      <td>3.0</td>\n",
       "      <td>2</td>\n",
       "      <td>4.0</td>\n",
       "      <td>0.0</td>\n",
       "      <td>INGENIERO JUNIOR PARA PLANIFICACION DE OBRAS I...</td>\n",
       "      <td>&lt;p style=\"\"&gt;&lt;span style=\"\"&gt;Nuestro cliente es ...</td>\n",
       "      <td>10</td>\n",
       "      <td>2</td>\n",
       "      <td>3</td>\n",
       "      <td>Ingeniería  Mecánica</td>\n",
       "      <td>Beretta Flavio Danilo</td>\n",
       "      <td>1</td>\n",
       "    </tr>\n",
       "  </tbody>\n",
       "</table>\n",
       "</div>"
      ],
      "text/plain": [
       "            idaviso idpostulante  cant_vistas  rango_edad  sexo  \\\n",
       "1644800  1112425713      3NPJWxQ          1.0         3.0     1   \n",
       "629708   1112223876      vVka8pj          1.0         1.0     1   \n",
       "6023422  1112316757      1QdxaYB          1.0         1.0     1   \n",
       "6825525  1112263300      kPX8jAj          1.0         2.0     2   \n",
       "4872056  1112389343      ak5YB0N          1.0         3.0     2   \n",
       "\n",
       "         nivel_estudios  esta_estudiando  \\\n",
       "1644800             4.0              1.0   \n",
       "629708              4.0              1.0   \n",
       "6023422             2.0              0.0   \n",
       "6825525             4.0              0.0   \n",
       "4872056             4.0              0.0   \n",
       "\n",
       "                                                    titulo  \\\n",
       "1644800                      Cajera - Part Time PSA (CABA)   \n",
       "629708             OFICIAL DE BANCA EMPRESAS - MICROCENTRO   \n",
       "6023422       Administrativo de depósito - Vicente López-    \n",
       "6825525                    Accounting Analysts (Jr/Ssr/Sr)   \n",
       "4872056  INGENIERO JUNIOR PARA PLANIFICACION DE OBRAS I...   \n",
       "\n",
       "                                               descripcion  tipo_de_trabajo  \\\n",
       "1644800  <p style=\"\"><strong><span style=\"\">¡Estamos bu...                9   \n",
       "629708   <p><span style=\"\">Orientamos nuestra búsqueda ...               10   \n",
       "6023422  <p style=\"\"><strong style=\"\">Grupo Cosmos es u...               10   \n",
       "6825525  <p><strong>Chevron</strong> is one of the worl...               10   \n",
       "4872056  <p style=\"\"><span style=\"\">Nuestro cliente es ...               10   \n",
       "\n",
       "         nivel_laboral  nombre_zona           nombre_area  \\\n",
       "1644800              2            3   Atención al Cliente   \n",
       "629708               3            3             Comercial   \n",
       "6023422              3            3        Administración   \n",
       "6825525              3            3          Contabilidad   \n",
       "4872056              2            3  Ingeniería  Mecánica   \n",
       "\n",
       "                                      nombre_empresa  sepostulo  \n",
       "1644800                                          PSA          0  \n",
       "629708                                  BBVA Francés          0  \n",
       "6023422                                 Grupo Cosmos          1  \n",
       "6825525  Chevron Buenos Aires Shared Services Center          0  \n",
       "4872056                       Beretta Flavio Danilo           1  "
      ]
     },
     "execution_count": 66,
     "metadata": {},
     "output_type": "execute_result"
    }
   ],
   "source": [
    "modelo = modelo[['idaviso','idpostulante','cant_vistas','rango_edad','sexo',\\\n",
    "                 'nivel_estudios','esta_estudiando','titulo','descripcion','tipo_de_trabajo',\\\n",
    "                 'nivel_laboral','nombre_zona','nombre_area','nombre_empresa',\\\n",
    "                 'sepostulo']]\n",
    "\n",
    "modelo.sample(5)"
   ]
  },
  {
   "cell_type": "code",
   "execution_count": 67,
   "metadata": {},
   "outputs": [
    {
     "name": "stdout",
     "output_type": "stream",
     "text": [
      "<class 'pandas.core.frame.DataFrame'>\n",
      "Int64Index: 9223108 entries, 0 to 9223107\n",
      "Data columns (total 15 columns):\n",
      "idaviso            int64\n",
      "idpostulante       object\n",
      "cant_vistas        float64\n",
      "rango_edad         float64\n",
      "sexo               int64\n",
      "nivel_estudios     float64\n",
      "esta_estudiando    float64\n",
      "titulo             object\n",
      "descripcion        object\n",
      "tipo_de_trabajo    int64\n",
      "nivel_laboral      int64\n",
      "nombre_zona        int64\n",
      "nombre_area        object\n",
      "nombre_empresa     object\n",
      "sepostulo          int64\n",
      "dtypes: float64(4), int64(6), object(5)\n",
      "memory usage: 1.1+ GB\n"
     ]
    }
   ],
   "source": [
    "modelo.info()"
   ]
  },
  {
   "cell_type": "markdown",
   "metadata": {},
   "source": [
    " "
   ]
  },
  {
   "cell_type": "markdown",
   "metadata": {},
   "source": [
    "Analizamos la cantidad de postulaciones y no postulaciones con las que cuenta el dataframe."
   ]
  },
  {
   "cell_type": "code",
   "execution_count": 68,
   "metadata": {},
   "outputs": [
    {
     "data": {
      "text/plain": [
       "1    5792310\n",
       "0    3430798\n",
       "Name: sepostulo, dtype: int64"
      ]
     },
     "execution_count": 68,
     "metadata": {},
     "output_type": "execute_result"
    }
   ],
   "source": [
    "modelo[\"sepostulo\"].value_counts()"
   ]
  },
  {
   "cell_type": "markdown",
   "metadata": {},
   "source": [
    " "
   ]
  },
  {
   "cell_type": "markdown",
   "metadata": {},
   "source": [
    "Liberamos memoria para mejorar la performance"
   ]
  },
  {
   "cell_type": "code",
   "execution_count": 69,
   "metadata": {},
   "outputs": [],
   "source": [
    "postulantes=0\n",
    "avisos_detalles=0"
   ]
  },
  {
   "cell_type": "markdown",
   "metadata": {},
   "source": [
    "Considerando la gran cantidad de registros que tiene el dataframe, decidimos tomar una porción aleatoria y equitativa de postulaciones y no postulaciones"
   ]
  },
  {
   "cell_type": "code",
   "execution_count": 70,
   "metadata": {},
   "outputs": [],
   "source": [
    "no = modelo[\"sepostulo\"] == 0\n",
    "si = modelo[\"sepostulo\"] == 1\n",
    "\n",
    "modelo_no = modelo[no]\n",
    "modelo_si = modelo[si]"
   ]
  },
  {
   "cell_type": "code",
   "execution_count": 71,
   "metadata": {},
   "outputs": [
    {
     "data": {
      "text/html": [
       "<div>\n",
       "<style scoped>\n",
       "    .dataframe tbody tr th:only-of-type {\n",
       "        vertical-align: middle;\n",
       "    }\n",
       "\n",
       "    .dataframe tbody tr th {\n",
       "        vertical-align: top;\n",
       "    }\n",
       "\n",
       "    .dataframe thead th {\n",
       "        text-align: right;\n",
       "    }\n",
       "</style>\n",
       "<table border=\"1\" class=\"dataframe\">\n",
       "  <thead>\n",
       "    <tr style=\"text-align: right;\">\n",
       "      <th></th>\n",
       "      <th>idaviso</th>\n",
       "      <th>idpostulante</th>\n",
       "      <th>cant_vistas</th>\n",
       "      <th>rango_edad</th>\n",
       "      <th>sexo</th>\n",
       "      <th>nivel_estudios</th>\n",
       "      <th>esta_estudiando</th>\n",
       "      <th>titulo</th>\n",
       "      <th>descripcion</th>\n",
       "      <th>tipo_de_trabajo</th>\n",
       "      <th>nivel_laboral</th>\n",
       "      <th>nombre_zona</th>\n",
       "      <th>nombre_area</th>\n",
       "      <th>nombre_empresa</th>\n",
       "      <th>sepostulo</th>\n",
       "    </tr>\n",
       "  </thead>\n",
       "  <tbody>\n",
       "    <tr>\n",
       "      <th>856019</th>\n",
       "      <td>1111841524</td>\n",
       "      <td>NzrjlLV</td>\n",
       "      <td>1.0</td>\n",
       "      <td>1.0</td>\n",
       "      <td>1</td>\n",
       "      <td>4.0</td>\n",
       "      <td>1.0</td>\n",
       "      <td>Asesores Comerciales Telefónicos</td>\n",
       "      <td>&lt;p align=\"center\"&gt;&lt;strong&gt;ASSIST CARD&lt;/strong&gt;...</td>\n",
       "      <td>9</td>\n",
       "      <td>3</td>\n",
       "      <td>3</td>\n",
       "      <td>Ventas</td>\n",
       "      <td>ASSIST CARD</td>\n",
       "      <td>1</td>\n",
       "    </tr>\n",
       "    <tr>\n",
       "      <th>194372</th>\n",
       "      <td>1110531374</td>\n",
       "      <td>kPjr3bQ</td>\n",
       "      <td>1.0</td>\n",
       "      <td>1.0</td>\n",
       "      <td>1</td>\n",
       "      <td>2.0</td>\n",
       "      <td>0.0</td>\n",
       "      <td>Operador Telefónico</td>\n",
       "      <td>&lt;p&gt;OPERADORES TELEFÓNICOS&lt;/p&gt;&lt;p align=\"left\"&gt;E...</td>\n",
       "      <td>9</td>\n",
       "      <td>2</td>\n",
       "      <td>3</td>\n",
       "      <td>Call Center</td>\n",
       "      <td>Importante Empresa</td>\n",
       "      <td>0</td>\n",
       "    </tr>\n",
       "    <tr>\n",
       "      <th>32223</th>\n",
       "      <td>1112404095</td>\n",
       "      <td>OqbokQW</td>\n",
       "      <td>1.0</td>\n",
       "      <td>3.0</td>\n",
       "      <td>1</td>\n",
       "      <td>3.0</td>\n",
       "      <td>0.0</td>\n",
       "      <td>Vendedor/a de salón</td>\n",
       "      <td>&lt;p&gt;&lt;span style=\"\"&gt;Empresa comercial de product...</td>\n",
       "      <td>10</td>\n",
       "      <td>3</td>\n",
       "      <td>3</td>\n",
       "      <td>Atención al Cliente</td>\n",
       "      <td>Ezequiel Pereyra</td>\n",
       "      <td>0</td>\n",
       "    </tr>\n",
       "    <tr>\n",
       "      <th>823087</th>\n",
       "      <td>1112246784</td>\n",
       "      <td>JBr2GWb</td>\n",
       "      <td>1.0</td>\n",
       "      <td>1.0</td>\n",
       "      <td>2</td>\n",
       "      <td>2.0</td>\n",
       "      <td>0.0</td>\n",
       "      <td>Ayudante de cocina / Zona Ezeiza</td>\n",
       "      <td>&lt;p&gt;&lt;span style=\"\"&gt;Importante empresa de cateri...</td>\n",
       "      <td>10</td>\n",
       "      <td>3</td>\n",
       "      <td>3</td>\n",
       "      <td>Gastronomia</td>\n",
       "      <td>Manpower</td>\n",
       "      <td>1</td>\n",
       "    </tr>\n",
       "    <tr>\n",
       "      <th>711151</th>\n",
       "      <td>1112309380</td>\n",
       "      <td>xkdAYMx</td>\n",
       "      <td>1.0</td>\n",
       "      <td>2.0</td>\n",
       "      <td>2</td>\n",
       "      <td>2.0</td>\n",
       "      <td>0.0</td>\n",
       "      <td>Ejecutivo de Cuentas para Chaco - Corrientes</td>\n",
       "      <td>&lt;p&gt;Importante Multinacional busca &lt;strong&gt;Ejec...</td>\n",
       "      <td>10</td>\n",
       "      <td>3</td>\n",
       "      <td>3</td>\n",
       "      <td>Comercial</td>\n",
       "      <td>Chemsearch SRL</td>\n",
       "      <td>1</td>\n",
       "    </tr>\n",
       "  </tbody>\n",
       "</table>\n",
       "</div>"
      ],
      "text/plain": [
       "           idaviso idpostulante  cant_vistas  rango_edad  sexo  \\\n",
       "856019  1111841524      NzrjlLV          1.0         1.0     1   \n",
       "194372  1110531374      kPjr3bQ          1.0         1.0     1   \n",
       "32223   1112404095      OqbokQW          1.0         3.0     1   \n",
       "823087  1112246784      JBr2GWb          1.0         1.0     2   \n",
       "711151  1112309380      xkdAYMx          1.0         2.0     2   \n",
       "\n",
       "        nivel_estudios  esta_estudiando  \\\n",
       "856019             4.0              1.0   \n",
       "194372             2.0              0.0   \n",
       "32223              3.0              0.0   \n",
       "823087             2.0              0.0   \n",
       "711151             2.0              0.0   \n",
       "\n",
       "                                              titulo  \\\n",
       "856019              Asesores Comerciales Telefónicos   \n",
       "194372                           Operador Telefónico   \n",
       "32223                            Vendedor/a de salón   \n",
       "823087              Ayudante de cocina / Zona Ezeiza   \n",
       "711151  Ejecutivo de Cuentas para Chaco - Corrientes   \n",
       "\n",
       "                                              descripcion  tipo_de_trabajo  \\\n",
       "856019  <p align=\"center\"><strong>ASSIST CARD</strong>...                9   \n",
       "194372  <p>OPERADORES TELEFÓNICOS</p><p align=\"left\">E...                9   \n",
       "32223   <p><span style=\"\">Empresa comercial de product...               10   \n",
       "823087  <p><span style=\"\">Importante empresa de cateri...               10   \n",
       "711151  <p>Importante Multinacional busca <strong>Ejec...               10   \n",
       "\n",
       "        nivel_laboral  nombre_zona          nombre_area      nombre_empresa  \\\n",
       "856019              3            3               Ventas         ASSIST CARD   \n",
       "194372              2            3          Call Center  Importante Empresa   \n",
       "32223               3            3  Atención al Cliente    Ezequiel Pereyra   \n",
       "823087              3            3          Gastronomia            Manpower   \n",
       "711151              3            3            Comercial      Chemsearch SRL   \n",
       "\n",
       "        sepostulo  \n",
       "856019          1  \n",
       "194372          0  \n",
       "32223           0  \n",
       "823087          1  \n",
       "711151          1  "
      ]
     },
     "execution_count": 71,
     "metadata": {},
     "output_type": "execute_result"
    }
   ],
   "source": [
    "n_samples = 500000\n",
    "\n",
    "modelo_no = modelo_no.sample(n_samples)\n",
    "modelo_si = modelo_si.sample(n_samples)\n",
    "\n",
    "modelo_final = pd.merge(modelo_no, modelo_si, how='outer')\n",
    "\n",
    "modelo_final.sample(5)"
   ]
  },
  {
   "cell_type": "markdown",
   "metadata": {},
   "source": [
    " "
   ]
  },
  {
   "cell_type": "markdown",
   "metadata": {},
   "source": [
    "Transformamos las variables categóricas de entero, objeto o flotante a categóricas propiamente dichas"
   ]
  },
  {
   "cell_type": "code",
   "execution_count": 72,
   "metadata": {},
   "outputs": [],
   "source": [
    "modelo_final['rango_edad'] = modelo_final['rango_edad'].astype('category')\n",
    "modelo_final['sexo'] = modelo_final['sexo'].astype('category') \n",
    "modelo_final['nivel_estudios'] = modelo_final['nivel_estudios'].astype('category')\n",
    "modelo_final['esta_estudiando'] = modelo_final['esta_estudiando'].astype('category')\n",
    "modelo_final['tipo_de_trabajo'] = modelo_final['tipo_de_trabajo'].astype('category')\n",
    "modelo_final['nivel_laboral'] = modelo_final['nivel_laboral'].astype('category')\n",
    "modelo_final['nombre_zona'] = modelo_final['nombre_zona'].astype('category')\n",
    "modelo_final['sepostulo'] = modelo_final['sepostulo'].astype('category')"
   ]
  },
  {
   "cell_type": "code",
   "execution_count": 73,
   "metadata": {},
   "outputs": [
    {
     "name": "stdout",
     "output_type": "stream",
     "text": [
      "<class 'pandas.core.frame.DataFrame'>\n",
      "Int64Index: 1000000 entries, 0 to 999999\n",
      "Data columns (total 15 columns):\n",
      "idaviso            1000000 non-null int64\n",
      "idpostulante       1000000 non-null object\n",
      "cant_vistas        1000000 non-null float64\n",
      "rango_edad         1000000 non-null category\n",
      "sexo               1000000 non-null category\n",
      "nivel_estudios     1000000 non-null category\n",
      "esta_estudiando    1000000 non-null category\n",
      "titulo             1000000 non-null object\n",
      "descripcion        1000000 non-null object\n",
      "tipo_de_trabajo    1000000 non-null category\n",
      "nivel_laboral      1000000 non-null category\n",
      "nombre_zona        1000000 non-null category\n",
      "nombre_area        1000000 non-null object\n",
      "nombre_empresa     999939 non-null object\n",
      "sepostulo          1000000 non-null category\n",
      "dtypes: category(8), float64(1), int64(1), object(5)\n",
      "memory usage: 68.7+ MB\n"
     ]
    }
   ],
   "source": [
    "modelo_final.info()"
   ]
  },
  {
   "cell_type": "markdown",
   "metadata": {},
   "source": [
    " "
   ]
  },
  {
   "cell_type": "markdown",
   "metadata": {},
   "source": [
    "Exportamos el modelo final a un CSV file, para desentendernos de todas las operaciones costosas de dataframes a partir de este punto, y poder tener el set de entrenamiento ya listo para los algoritmos de Machine Learning."
   ]
  },
  {
   "cell_type": "code",
   "execution_count": 74,
   "metadata": {},
   "outputs": [],
   "source": [
    "modelo_final.to_csv(\"modelo_final.csv\", encoding = \"utf-8\", index = False)"
   ]
  },
  {
   "cell_type": "code",
   "execution_count": null,
   "metadata": {},
   "outputs": [],
   "source": []
  }
 ],
 "metadata": {
  "kernelspec": {
   "display_name": "Python 3",
   "language": "python",
   "name": "python3"
  },
  "language_info": {
   "codemirror_mode": {
    "name": "ipython",
    "version": 3
   },
   "file_extension": ".py",
   "mimetype": "text/x-python",
   "name": "python",
   "nbconvert_exporter": "python",
   "pygments_lexer": "ipython3",
   "version": "3.6.4"
  }
 },
 "nbformat": 4,
 "nbformat_minor": 2
}
