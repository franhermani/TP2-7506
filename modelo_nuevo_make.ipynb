{
 "cells": [
  {
   "cell_type": "markdown",
   "metadata": {},
   "source": [
    "# Importación de librerías"
   ]
  },
  {
   "cell_type": "code",
   "execution_count": 1,
   "metadata": {},
   "outputs": [],
   "source": [
    "import pandas as pd\n",
    "import numpy as np\n",
    "import matplotlib.pyplot as plt\n",
    "import seaborn as sns\n",
    "\n",
    "from time import time\n",
    "\n",
    "%matplotlib inline\n",
    "%matplotlib notebook\n",
    "plt.style.use('default')"
   ]
  },
  {
   "cell_type": "markdown",
   "metadata": {},
   "source": [
    "# Operaciones con los dataframes"
   ]
  },
  {
   "cell_type": "markdown",
   "metadata": {},
   "source": [
    "### DF 1: Educación de los postulantes"
   ]
  },
  {
   "cell_type": "markdown",
   "metadata": {},
   "source": [
    "Realizamos un merge de los 3 dataframes de educación de los postulantes que nos fueron provistos, para poder trabajar de manera unificada."
   ]
  },
  {
   "cell_type": "code",
   "execution_count": 2,
   "metadata": {},
   "outputs": [
    {
     "data": {
      "text/html": [
       "<div>\n",
       "<style scoped>\n",
       "    .dataframe tbody tr th:only-of-type {\n",
       "        vertical-align: middle;\n",
       "    }\n",
       "\n",
       "    .dataframe tbody tr th {\n",
       "        vertical-align: top;\n",
       "    }\n",
       "\n",
       "    .dataframe thead th {\n",
       "        text-align: right;\n",
       "    }\n",
       "</style>\n",
       "<table border=\"1\" class=\"dataframe\">\n",
       "  <thead>\n",
       "    <tr style=\"text-align: right;\">\n",
       "      <th></th>\n",
       "      <th>idpostulante</th>\n",
       "      <th>titulo_univ</th>\n",
       "      <th>estado</th>\n",
       "    </tr>\n",
       "  </thead>\n",
       "  <tbody>\n",
       "    <tr>\n",
       "      <th>0</th>\n",
       "      <td>ZjlZ</td>\n",
       "      <td>Master</td>\n",
       "      <td>En Curso</td>\n",
       "    </tr>\n",
       "    <tr>\n",
       "      <th>1</th>\n",
       "      <td>NdJl</td>\n",
       "      <td>Posgrado</td>\n",
       "      <td>En Curso</td>\n",
       "    </tr>\n",
       "    <tr>\n",
       "      <th>2</th>\n",
       "      <td>5kNq</td>\n",
       "      <td>Otro</td>\n",
       "      <td>En Curso</td>\n",
       "    </tr>\n",
       "    <tr>\n",
       "      <th>3</th>\n",
       "      <td>8rYD</td>\n",
       "      <td>Master</td>\n",
       "      <td>En Curso</td>\n",
       "    </tr>\n",
       "    <tr>\n",
       "      <th>4</th>\n",
       "      <td>1Wvj</td>\n",
       "      <td>Universitario</td>\n",
       "      <td>En Curso</td>\n",
       "    </tr>\n",
       "  </tbody>\n",
       "</table>\n",
       "</div>"
      ],
      "text/plain": [
       "  idpostulante    titulo_univ    estado\n",
       "0         ZjlZ         Master  En Curso\n",
       "1         NdJl       Posgrado  En Curso\n",
       "2         5kNq           Otro  En Curso\n",
       "3         8rYD         Master  En Curso\n",
       "4         1Wvj  Universitario  En Curso"
      ]
     },
     "execution_count": 2,
     "metadata": {},
     "output_type": "execute_result"
    }
   ],
   "source": [
    "postulantes_educ = pd.read_csv('datos_navent_fiuba/h15_fiuba_1_postulantes_educacion.csv')\n",
    "postulantes_educ_2 = pd.read_csv('datos_navent_fiuba/d15_fiuba_1_postulantes_educacion.csv')\n",
    "\n",
    "postulantes_educ = pd.merge(postulantes_educ, postulantes_educ_2, how='outer')\n",
    "\n",
    "postulantes_educ_2 = pd.read_csv('datos_navent_fiuba/fiuba_1_postulantes_educacion.csv')\n",
    "\n",
    "postulantes_educ = pd.merge(postulantes_educ, postulantes_educ_2, how='outer')\n",
    "\n",
    "# Renombramos la columna 'nombre' por algo mas apropiado\n",
    "postulantes_educ.rename(columns={'nombre':'titulo_univ'}, inplace=True)\n",
    "\n",
    "postulantes_educ.head()"
   ]
  },
  {
   "cell_type": "code",
   "execution_count": 3,
   "metadata": {},
   "outputs": [
    {
     "name": "stdout",
     "output_type": "stream",
     "text": [
      "<class 'pandas.core.frame.DataFrame'>\n",
      "Int64Index: 693641 entries, 0 to 693640\n",
      "Data columns (total 3 columns):\n",
      "idpostulante    693641 non-null object\n",
      "titulo_univ     693641 non-null object\n",
      "estado          693641 non-null object\n",
      "dtypes: object(3)\n",
      "memory usage: 21.2+ MB\n"
     ]
    }
   ],
   "source": [
    "postulantes_educ.info()"
   ]
  },
  {
   "cell_type": "markdown",
   "metadata": {},
   "source": [
    "Transformamos los strings de los títulos universitarios en variables numéricas.\n",
    "En principio esto lo realizamos para poder eliminar los IDs duplicados del dataframe. Aquí se contemplan los casos de postulantes que ingresaron con distintos títulos o que el estado de su título varió entre una postulación y la otra. A su vez, esto nos servirá más adelante para aplicar los algoritmos de Machine Learning.\n",
    "\n",
    "Analizamos los distintos tipos de títulos universitarios que existen."
   ]
  },
  {
   "cell_type": "code",
   "execution_count": 4,
   "metadata": {},
   "outputs": [
    {
     "data": {
      "text/plain": [
       "titulo_univ\n",
       "Doctorado               620\n",
       "Master                10074\n",
       "Otro                  53363\n",
       "Posgrado              20624\n",
       "Secundario           244689\n",
       "Terciario/Técnico    113421\n",
       "Universitario        250850\n",
       "Name: titulo_univ, dtype: int64"
      ]
     },
     "execution_count": 4,
     "metadata": {},
     "output_type": "execute_result"
    }
   ],
   "source": [
    "postulantes_educ.groupby('titulo_univ')['titulo_univ'].count()"
   ]
  },
  {
   "cell_type": "markdown",
   "metadata": {},
   "source": [
    "Pasamos a variables numéricas cada uno de los posibles títulos, a fin de armar un orden de jerarquía de títulos, de manera tal de quedarnos por cada ID del postulante con su título más avanzado.\n",
    "\n",
    "NOTA: consideramos que 'Otro' es el nivel jerárquico más bajo."
   ]
  },
  {
   "cell_type": "code",
   "execution_count": 5,
   "metadata": {},
   "outputs": [
    {
     "data": {
      "text/html": [
       "<div>\n",
       "<style scoped>\n",
       "    .dataframe tbody tr th:only-of-type {\n",
       "        vertical-align: middle;\n",
       "    }\n",
       "\n",
       "    .dataframe tbody tr th {\n",
       "        vertical-align: top;\n",
       "    }\n",
       "\n",
       "    .dataframe thead th {\n",
       "        text-align: right;\n",
       "    }\n",
       "</style>\n",
       "<table border=\"1\" class=\"dataframe\">\n",
       "  <thead>\n",
       "    <tr style=\"text-align: right;\">\n",
       "      <th></th>\n",
       "      <th>idpostulante</th>\n",
       "      <th>titulo_univ</th>\n",
       "      <th>estado</th>\n",
       "      <th>estudios</th>\n",
       "    </tr>\n",
       "  </thead>\n",
       "  <tbody>\n",
       "    <tr>\n",
       "      <th>644654</th>\n",
       "      <td>RzPm1w1</td>\n",
       "      <td>Otro</td>\n",
       "      <td>En Curso</td>\n",
       "      <td>1.0</td>\n",
       "    </tr>\n",
       "    <tr>\n",
       "      <th>138247</th>\n",
       "      <td>5mPoE0p</td>\n",
       "      <td>Secundario</td>\n",
       "      <td>Graduado</td>\n",
       "      <td>2.0</td>\n",
       "    </tr>\n",
       "    <tr>\n",
       "      <th>199682</th>\n",
       "      <td>Z3q9M8</td>\n",
       "      <td>Universitario</td>\n",
       "      <td>Graduado</td>\n",
       "      <td>4.0</td>\n",
       "    </tr>\n",
       "    <tr>\n",
       "      <th>101449</th>\n",
       "      <td>LNdlZ0j</td>\n",
       "      <td>Posgrado</td>\n",
       "      <td>Graduado</td>\n",
       "      <td>5.0</td>\n",
       "    </tr>\n",
       "    <tr>\n",
       "      <th>458283</th>\n",
       "      <td>qe2b8BX</td>\n",
       "      <td>Secundario</td>\n",
       "      <td>Graduado</td>\n",
       "      <td>2.0</td>\n",
       "    </tr>\n",
       "  </tbody>\n",
       "</table>\n",
       "</div>"
      ],
      "text/plain": [
       "       idpostulante    titulo_univ    estado  estudios\n",
       "644654      RzPm1w1           Otro  En Curso       1.0\n",
       "138247      5mPoE0p     Secundario  Graduado       2.0\n",
       "199682       Z3q9M8  Universitario  Graduado       4.0\n",
       "101449      LNdlZ0j       Posgrado  Graduado       5.0\n",
       "458283      qe2b8BX     Secundario  Graduado       2.0"
      ]
     },
     "execution_count": 5,
     "metadata": {},
     "output_type": "execute_result"
    }
   ],
   "source": [
    "# Otro\n",
    "postulantes_educ.loc[(postulantes_educ[\"titulo_univ\"] == \"Otro\"), 'estudios'] = 1\n",
    " \n",
    "# Secundario\n",
    "postulantes_educ.loc[(postulantes_educ['titulo_univ'] == 'Secundario'), 'estudios'] = 2\n",
    "\n",
    "# Terciario/ Técnico\n",
    "postulantes_educ.loc[(postulantes_educ['titulo_univ'] == 'Terciario/Técnico'), 'estudios'] = 3\n",
    "\n",
    "# Universitario\n",
    "postulantes_educ.loc[(postulantes_educ['titulo_univ'] == 'Universitario'), 'estudios'] = 4\n",
    "\n",
    "# Posgrado\n",
    "postulantes_educ.loc[(postulantes_educ['titulo_univ'] == 'Posgrado'), 'estudios'] = 5\n",
    "\n",
    "# Master\n",
    "postulantes_educ.loc[(postulantes_educ['titulo_univ'] == 'Master'), 'estudios'] = 6\n",
    "\n",
    "# Doctorado\n",
    "postulantes_educ.loc[(postulantes_educ['titulo_univ'] == 'Doctorado'), 'estudios'] = 7\n",
    "\n",
    "postulantes_educ.sample(5)"
   ]
  },
  {
   "cell_type": "markdown",
   "metadata": {},
   "source": [
    "Analizamos la cantidad de IDs duplicados"
   ]
  },
  {
   "cell_type": "code",
   "execution_count": 6,
   "metadata": {},
   "outputs": [
    {
     "data": {
      "text/plain": [
       "180088"
      ]
     },
     "execution_count": 6,
     "metadata": {},
     "output_type": "execute_result"
    }
   ],
   "source": [
    "IDs_duplicados = sum(postulantes_educ['idpostulante'].value_counts() > 1)\n",
    "IDs_duplicados"
   ]
  },
  {
   "cell_type": "markdown",
   "metadata": {},
   "source": [
    "Ordenamos el dataframe según el orden jerárquico de estudio en forma descendente."
   ]
  },
  {
   "cell_type": "code",
   "execution_count": 7,
   "metadata": {},
   "outputs": [],
   "source": [
    "postulantes_educ = postulantes_educ.sort_values('estudios', ascending=False)"
   ]
  },
  {
   "cell_type": "markdown",
   "metadata": {},
   "source": [
    "Eliminamos todos los IDs duplicados. Considerando que previamente se ordenó el dataframe por orden de estudio, quedará un único ID por postulante con su título más avanzado."
   ]
  },
  {
   "cell_type": "code",
   "execution_count": 8,
   "metadata": {},
   "outputs": [
    {
     "data": {
      "text/html": [
       "<div>\n",
       "<style scoped>\n",
       "    .dataframe tbody tr th:only-of-type {\n",
       "        vertical-align: middle;\n",
       "    }\n",
       "\n",
       "    .dataframe tbody tr th {\n",
       "        vertical-align: top;\n",
       "    }\n",
       "\n",
       "    .dataframe thead th {\n",
       "        text-align: right;\n",
       "    }\n",
       "</style>\n",
       "<table border=\"1\" class=\"dataframe\">\n",
       "  <thead>\n",
       "    <tr style=\"text-align: right;\">\n",
       "      <th></th>\n",
       "      <th>idpostulante</th>\n",
       "      <th>titulo_univ</th>\n",
       "      <th>estado</th>\n",
       "      <th>estudios</th>\n",
       "    </tr>\n",
       "  </thead>\n",
       "  <tbody>\n",
       "    <tr>\n",
       "      <th>551010</th>\n",
       "      <td>JBxDVzJ</td>\n",
       "      <td>Universitario</td>\n",
       "      <td>En Curso</td>\n",
       "      <td>4.0</td>\n",
       "    </tr>\n",
       "    <tr>\n",
       "      <th>473106</th>\n",
       "      <td>6PB65r</td>\n",
       "      <td>Universitario</td>\n",
       "      <td>Graduado</td>\n",
       "      <td>4.0</td>\n",
       "    </tr>\n",
       "    <tr>\n",
       "      <th>573243</th>\n",
       "      <td>YmYBR1</td>\n",
       "      <td>Secundario</td>\n",
       "      <td>Graduado</td>\n",
       "      <td>2.0</td>\n",
       "    </tr>\n",
       "    <tr>\n",
       "      <th>476521</th>\n",
       "      <td>mzdDE2O</td>\n",
       "      <td>Terciario/Técnico</td>\n",
       "      <td>Graduado</td>\n",
       "      <td>3.0</td>\n",
       "    </tr>\n",
       "    <tr>\n",
       "      <th>446242</th>\n",
       "      <td>ekOvRP4</td>\n",
       "      <td>Universitario</td>\n",
       "      <td>En Curso</td>\n",
       "      <td>4.0</td>\n",
       "    </tr>\n",
       "  </tbody>\n",
       "</table>\n",
       "</div>"
      ],
      "text/plain": [
       "       idpostulante        titulo_univ    estado  estudios\n",
       "551010      JBxDVzJ      Universitario  En Curso       4.0\n",
       "473106       6PB65r      Universitario  Graduado       4.0\n",
       "573243       YmYBR1         Secundario  Graduado       2.0\n",
       "476521      mzdDE2O  Terciario/Técnico  Graduado       3.0\n",
       "446242      ekOvRP4      Universitario  En Curso       4.0"
      ]
     },
     "execution_count": 8,
     "metadata": {},
     "output_type": "execute_result"
    }
   ],
   "source": [
    "postulantes_educ = postulantes_educ.drop_duplicates('idpostulante')\n",
    "postulantes_educ.sample(5)"
   ]
  },
  {
   "cell_type": "markdown",
   "metadata": {},
   "source": [
    "Comprobamos que efectivamente no quedaron IDs duplicados."
   ]
  },
  {
   "cell_type": "code",
   "execution_count": 9,
   "metadata": {},
   "outputs": [
    {
     "data": {
      "text/plain": [
       "0"
      ]
     },
     "execution_count": 9,
     "metadata": {},
     "output_type": "execute_result"
    }
   ],
   "source": [
    "IDs_duplicados = sum(postulantes_educ['idpostulante'].value_counts() > 1)\n",
    "IDs_duplicados"
   ]
  },
  {
   "cell_type": "markdown",
   "metadata": {},
   "source": [
    "Creamos una nueva columna que indica si el postulante en cuestión tiene un título en curso o ya se graduó/ abandonó"
   ]
  },
  {
   "cell_type": "code",
   "execution_count": 10,
   "metadata": {},
   "outputs": [
    {
     "data": {
      "text/plain": [
       "Graduado      253166\n",
       "En Curso      148362\n",
       "Abandonado     46381\n",
       "Name: estado, dtype: int64"
      ]
     },
     "execution_count": 10,
     "metadata": {},
     "output_type": "execute_result"
    }
   ],
   "source": [
    "postulantes_educ['estado'].value_counts()"
   ]
  },
  {
   "cell_type": "code",
   "execution_count": 11,
   "metadata": {},
   "outputs": [
    {
     "data": {
      "text/html": [
       "<div>\n",
       "<style scoped>\n",
       "    .dataframe tbody tr th:only-of-type {\n",
       "        vertical-align: middle;\n",
       "    }\n",
       "\n",
       "    .dataframe tbody tr th {\n",
       "        vertical-align: top;\n",
       "    }\n",
       "\n",
       "    .dataframe thead th {\n",
       "        text-align: right;\n",
       "    }\n",
       "</style>\n",
       "<table border=\"1\" class=\"dataframe\">\n",
       "  <thead>\n",
       "    <tr style=\"text-align: right;\">\n",
       "      <th></th>\n",
       "      <th>idpostulante</th>\n",
       "      <th>titulo_univ</th>\n",
       "      <th>estado</th>\n",
       "      <th>estudios</th>\n",
       "      <th>esta_estudiando</th>\n",
       "    </tr>\n",
       "  </thead>\n",
       "  <tbody>\n",
       "    <tr>\n",
       "      <th>394526</th>\n",
       "      <td>ae8rmW</td>\n",
       "      <td>Terciario/Técnico</td>\n",
       "      <td>Graduado</td>\n",
       "      <td>3.0</td>\n",
       "      <td>0.0</td>\n",
       "    </tr>\n",
       "    <tr>\n",
       "      <th>51526</th>\n",
       "      <td>LN8reek</td>\n",
       "      <td>Universitario</td>\n",
       "      <td>Abandonado</td>\n",
       "      <td>4.0</td>\n",
       "      <td>0.0</td>\n",
       "    </tr>\n",
       "    <tr>\n",
       "      <th>594242</th>\n",
       "      <td>NzMvJzD</td>\n",
       "      <td>Universitario</td>\n",
       "      <td>En Curso</td>\n",
       "      <td>4.0</td>\n",
       "      <td>1.0</td>\n",
       "    </tr>\n",
       "    <tr>\n",
       "      <th>377311</th>\n",
       "      <td>KBrDxBX</td>\n",
       "      <td>Secundario</td>\n",
       "      <td>En Curso</td>\n",
       "      <td>2.0</td>\n",
       "      <td>1.0</td>\n",
       "    </tr>\n",
       "    <tr>\n",
       "      <th>257252</th>\n",
       "      <td>8zKV1D</td>\n",
       "      <td>Secundario</td>\n",
       "      <td>Graduado</td>\n",
       "      <td>2.0</td>\n",
       "      <td>0.0</td>\n",
       "    </tr>\n",
       "  </tbody>\n",
       "</table>\n",
       "</div>"
      ],
      "text/plain": [
       "       idpostulante        titulo_univ      estado  estudios  esta_estudiando\n",
       "394526       ae8rmW  Terciario/Técnico    Graduado       3.0              0.0\n",
       "51526       LN8reek      Universitario  Abandonado       4.0              0.0\n",
       "594242      NzMvJzD      Universitario    En Curso       4.0              1.0\n",
       "377311      KBrDxBX         Secundario    En Curso       2.0              1.0\n",
       "257252       8zKV1D         Secundario    Graduado       2.0              0.0"
      ]
     },
     "execution_count": 11,
     "metadata": {},
     "output_type": "execute_result"
    }
   ],
   "source": [
    "postulantes_educ.loc[(postulantes_educ['estado'] == 'Graduado'), 'esta_estudiando'] = 0\n",
    "postulantes_educ.loc[(postulantes_educ['estado'] == 'Abandonado'), 'esta_estudiando'] = 0\n",
    "postulantes_educ.loc[(postulantes_educ['estado'] == 'En Curso'), 'esta_estudiando'] = 1\n",
    "\n",
    "postulantes_educ.sample(5)"
   ]
  },
  {
   "cell_type": "markdown",
   "metadata": {},
   "source": [
    "Eliminamos las columnas 'titulo_univ' y 'estado', ya que la información relativa a esto ya se encuentra contenida en 'estudios' y en 'esta_estudiando'"
   ]
  },
  {
   "cell_type": "code",
   "execution_count": 12,
   "metadata": {},
   "outputs": [
    {
     "data": {
      "text/html": [
       "<div>\n",
       "<style scoped>\n",
       "    .dataframe tbody tr th:only-of-type {\n",
       "        vertical-align: middle;\n",
       "    }\n",
       "\n",
       "    .dataframe tbody tr th {\n",
       "        vertical-align: top;\n",
       "    }\n",
       "\n",
       "    .dataframe thead th {\n",
       "        text-align: right;\n",
       "    }\n",
       "</style>\n",
       "<table border=\"1\" class=\"dataframe\">\n",
       "  <thead>\n",
       "    <tr style=\"text-align: right;\">\n",
       "      <th></th>\n",
       "      <th>idpostulante</th>\n",
       "      <th>estudios</th>\n",
       "      <th>esta_estudiando</th>\n",
       "    </tr>\n",
       "  </thead>\n",
       "  <tbody>\n",
       "    <tr>\n",
       "      <th>325552</th>\n",
       "      <td>JBmejrk</td>\n",
       "      <td>2.0</td>\n",
       "      <td>0.0</td>\n",
       "    </tr>\n",
       "    <tr>\n",
       "      <th>436725</th>\n",
       "      <td>YjQND3V</td>\n",
       "      <td>4.0</td>\n",
       "      <td>1.0</td>\n",
       "    </tr>\n",
       "    <tr>\n",
       "      <th>330395</th>\n",
       "      <td>LNebVEq</td>\n",
       "      <td>6.0</td>\n",
       "      <td>1.0</td>\n",
       "    </tr>\n",
       "    <tr>\n",
       "      <th>372380</th>\n",
       "      <td>GNZvepb</td>\n",
       "      <td>2.0</td>\n",
       "      <td>0.0</td>\n",
       "    </tr>\n",
       "    <tr>\n",
       "      <th>246265</th>\n",
       "      <td>6rPBa4l</td>\n",
       "      <td>2.0</td>\n",
       "      <td>0.0</td>\n",
       "    </tr>\n",
       "  </tbody>\n",
       "</table>\n",
       "</div>"
      ],
      "text/plain": [
       "       idpostulante  estudios  esta_estudiando\n",
       "325552      JBmejrk       2.0              0.0\n",
       "436725      YjQND3V       4.0              1.0\n",
       "330395      LNebVEq       6.0              1.0\n",
       "372380      GNZvepb       2.0              0.0\n",
       "246265      6rPBa4l       2.0              0.0"
      ]
     },
     "execution_count": 12,
     "metadata": {},
     "output_type": "execute_result"
    }
   ],
   "source": [
    "postulantes_educ.drop(columns={'titulo_univ', 'estado'}, axis=1, inplace=True)\n",
    "postulantes_educ.sample(5)"
   ]
  },
  {
   "cell_type": "code",
   "execution_count": 13,
   "metadata": {},
   "outputs": [
    {
     "name": "stdout",
     "output_type": "stream",
     "text": [
      "<class 'pandas.core.frame.DataFrame'>\n",
      "Int64Index: 447909 entries, 393408 to 530578\n",
      "Data columns (total 3 columns):\n",
      "idpostulante       447909 non-null object\n",
      "estudios           447909 non-null float64\n",
      "esta_estudiando    447909 non-null float64\n",
      "dtypes: float64(2), object(1)\n",
      "memory usage: 13.7+ MB\n"
     ]
    }
   ],
   "source": [
    "postulantes_educ.info()"
   ]
  },
  {
   "cell_type": "markdown",
   "metadata": {},
   "source": [
    "### DF 2: Nacimiento y sexo de los postulantes"
   ]
  },
  {
   "cell_type": "markdown",
   "metadata": {},
   "source": [
    "Realizamos un merge de los 3 dataframes de nacimiento y sexo de los postulantes que nos fueron provistos, para poder trabajar de manera unificada."
   ]
  },
  {
   "cell_type": "code",
   "execution_count": 14,
   "metadata": {},
   "outputs": [
    {
     "data": {
      "text/html": [
       "<div>\n",
       "<style scoped>\n",
       "    .dataframe tbody tr th:only-of-type {\n",
       "        vertical-align: middle;\n",
       "    }\n",
       "\n",
       "    .dataframe tbody tr th {\n",
       "        vertical-align: top;\n",
       "    }\n",
       "\n",
       "    .dataframe thead th {\n",
       "        text-align: right;\n",
       "    }\n",
       "</style>\n",
       "<table border=\"1\" class=\"dataframe\">\n",
       "  <thead>\n",
       "    <tr style=\"text-align: right;\">\n",
       "      <th></th>\n",
       "      <th>idpostulante</th>\n",
       "      <th>fechanacimiento</th>\n",
       "      <th>sexo</th>\n",
       "    </tr>\n",
       "  </thead>\n",
       "  <tbody>\n",
       "    <tr>\n",
       "      <th>0</th>\n",
       "      <td>6MM</td>\n",
       "      <td>1985-01-01</td>\n",
       "      <td>MASC</td>\n",
       "    </tr>\n",
       "    <tr>\n",
       "      <th>1</th>\n",
       "      <td>Nzz</td>\n",
       "      <td>NaN</td>\n",
       "      <td>NO_DECLARA</td>\n",
       "    </tr>\n",
       "    <tr>\n",
       "      <th>2</th>\n",
       "      <td>ZX1</td>\n",
       "      <td>NaN</td>\n",
       "      <td>NO_DECLARA</td>\n",
       "    </tr>\n",
       "    <tr>\n",
       "      <th>3</th>\n",
       "      <td>Nq5</td>\n",
       "      <td>NaN</td>\n",
       "      <td>NO_DECLARA</td>\n",
       "    </tr>\n",
       "    <tr>\n",
       "      <th>4</th>\n",
       "      <td>ebE</td>\n",
       "      <td>1952-07-07</td>\n",
       "      <td>MASC</td>\n",
       "    </tr>\n",
       "  </tbody>\n",
       "</table>\n",
       "</div>"
      ],
      "text/plain": [
       "  idpostulante fechanacimiento        sexo\n",
       "0          6MM      1985-01-01        MASC\n",
       "1          Nzz             NaN  NO_DECLARA\n",
       "2          ZX1             NaN  NO_DECLARA\n",
       "3          Nq5             NaN  NO_DECLARA\n",
       "4          ebE      1952-07-07        MASC"
      ]
     },
     "execution_count": 14,
     "metadata": {},
     "output_type": "execute_result"
    }
   ],
   "source": [
    "postulantes_gen_nac = pd.read_csv('datos_navent_fiuba/h15_fiuba_2_postulantes_genero_y_edad.csv')\n",
    "postulantes_gen_nac_2 = pd.read_csv('datos_navent_fiuba/d15_fiuba_2_postulantes_genero_y_edad.csv')\n",
    "\n",
    "postulantes_gen_nac = pd.merge(postulantes_gen_nac, postulantes_gen_nac_2, how='outer')\n",
    "\n",
    "postulantes_gen_nac_2 = pd.read_csv('datos_navent_fiuba/fiuba_2_postulantes_genero_y_edad.csv')\n",
    "\n",
    "postulantes_gen_nac = pd.merge(postulantes_gen_nac, postulantes_gen_nac_2, how='outer')\n",
    "\n",
    "postulantes_gen_nac.head()"
   ]
  },
  {
   "cell_type": "code",
   "execution_count": 15,
   "metadata": {},
   "outputs": [
    {
     "name": "stdout",
     "output_type": "stream",
     "text": [
      "<class 'pandas.core.frame.DataFrame'>\n",
      "Int64Index: 505382 entries, 0 to 505381\n",
      "Data columns (total 3 columns):\n",
      "idpostulante       505382 non-null object\n",
      "fechanacimiento    478699 non-null object\n",
      "sexo               505382 non-null object\n",
      "dtypes: object(3)\n",
      "memory usage: 15.4+ MB\n"
     ]
    }
   ],
   "source": [
    "postulantes_gen_nac.info()"
   ]
  },
  {
   "cell_type": "markdown",
   "metadata": {},
   "source": [
    "Analizamos los posibles valores de la columna 'sexo'"
   ]
  },
  {
   "cell_type": "code",
   "execution_count": 16,
   "metadata": {},
   "outputs": [
    {
     "data": {
      "text/plain": [
       "FEM           251431\n",
       "MASC          228008\n",
       "NO_DECLARA     25936\n",
       "0.0                7\n",
       "Name: sexo, dtype: int64"
      ]
     },
     "execution_count": 16,
     "metadata": {},
     "output_type": "execute_result"
    }
   ],
   "source": [
    "postulantes_gen_nac['sexo'].value_counts()"
   ]
  },
  {
   "cell_type": "markdown",
   "metadata": {},
   "source": [
    "Descartamos los registros que figuran con 'sexo' == 0.0, ya que son una pequeñísima parte del set de datos y no brindan información consistente."
   ]
  },
  {
   "cell_type": "code",
   "execution_count": 17,
   "metadata": {},
   "outputs": [],
   "source": [
    "postulantes_gen_nac = postulantes_gen_nac[postulantes_gen_nac['sexo'] != '0.0']"
   ]
  },
  {
   "cell_type": "markdown",
   "metadata": {},
   "source": [
    "Comprobamos que efectivamente fueron eliminados esos registros"
   ]
  },
  {
   "cell_type": "code",
   "execution_count": 18,
   "metadata": {},
   "outputs": [
    {
     "data": {
      "text/plain": [
       "FEM           251431\n",
       "MASC          228008\n",
       "NO_DECLARA     25936\n",
       "Name: sexo, dtype: int64"
      ]
     },
     "execution_count": 18,
     "metadata": {},
     "output_type": "execute_result"
    }
   ],
   "source": [
    "postulantes_gen_nac['sexo'].value_counts()"
   ]
  },
  {
   "cell_type": "markdown",
   "metadata": {},
   "source": [
    "Analizamos la cantidad de IDs duplicados"
   ]
  },
  {
   "cell_type": "code",
   "execution_count": 19,
   "metadata": {},
   "outputs": [
    {
     "data": {
      "text/plain": [
       "972"
      ]
     },
     "execution_count": 19,
     "metadata": {},
     "output_type": "execute_result"
    }
   ],
   "source": [
    "IDs_duplicados = sum(postulantes_gen_nac['idpostulante'].value_counts() > 1)\n",
    "IDs_duplicados"
   ]
  },
  {
   "cell_type": "markdown",
   "metadata": {},
   "source": [
    "Ordenamos el dataframe según el sexo en forma ascendente."
   ]
  },
  {
   "cell_type": "code",
   "execution_count": 20,
   "metadata": {},
   "outputs": [],
   "source": [
    "postulantes_gen_nac = postulantes_gen_nac.sort_values('sexo', ascending=True)"
   ]
  },
  {
   "cell_type": "markdown",
   "metadata": {},
   "source": [
    "Eliminamos todos los IDs duplicados. Considerando que previamente se ordenó el dataframe por sexo y que 'NO_DECLARA' tiene un orden alfabético menor que 'FEM' y 'MASC', quedará un único ID por postulante con su información más específica de sexo.\n",
    "\n",
    "Interpretamos que la información concreta del sexo nos será relevante en posteriores análisis, por eso filtramos los IDs duplicados de esta forma."
   ]
  },
  {
   "cell_type": "code",
   "execution_count": 21,
   "metadata": {},
   "outputs": [
    {
     "data": {
      "text/html": [
       "<div>\n",
       "<style scoped>\n",
       "    .dataframe tbody tr th:only-of-type {\n",
       "        vertical-align: middle;\n",
       "    }\n",
       "\n",
       "    .dataframe tbody tr th {\n",
       "        vertical-align: top;\n",
       "    }\n",
       "\n",
       "    .dataframe thead th {\n",
       "        text-align: right;\n",
       "    }\n",
       "</style>\n",
       "<table border=\"1\" class=\"dataframe\">\n",
       "  <thead>\n",
       "    <tr style=\"text-align: right;\">\n",
       "      <th></th>\n",
       "      <th>idpostulante</th>\n",
       "      <th>fechanacimiento</th>\n",
       "      <th>sexo</th>\n",
       "    </tr>\n",
       "  </thead>\n",
       "  <tbody>\n",
       "    <tr>\n",
       "      <th>273548</th>\n",
       "      <td>mzd8p93</td>\n",
       "      <td>1979-07-07</td>\n",
       "      <td>FEM</td>\n",
       "    </tr>\n",
       "    <tr>\n",
       "      <th>341392</th>\n",
       "      <td>Yj536OJ</td>\n",
       "      <td>1997-09-27</td>\n",
       "      <td>FEM</td>\n",
       "    </tr>\n",
       "    <tr>\n",
       "      <th>177159</th>\n",
       "      <td>kPLYLGW</td>\n",
       "      <td>1994-02-08</td>\n",
       "      <td>MASC</td>\n",
       "    </tr>\n",
       "    <tr>\n",
       "      <th>238869</th>\n",
       "      <td>akjvmB5</td>\n",
       "      <td>1998-06-12</td>\n",
       "      <td>FEM</td>\n",
       "    </tr>\n",
       "    <tr>\n",
       "      <th>176031</th>\n",
       "      <td>0zkwmQa</td>\n",
       "      <td>1990-04-17</td>\n",
       "      <td>MASC</td>\n",
       "    </tr>\n",
       "  </tbody>\n",
       "</table>\n",
       "</div>"
      ],
      "text/plain": [
       "       idpostulante fechanacimiento  sexo\n",
       "273548      mzd8p93      1979-07-07   FEM\n",
       "341392      Yj536OJ      1997-09-27   FEM\n",
       "177159      kPLYLGW      1994-02-08  MASC\n",
       "238869      akjvmB5      1998-06-12   FEM\n",
       "176031      0zkwmQa      1990-04-17  MASC"
      ]
     },
     "execution_count": 21,
     "metadata": {},
     "output_type": "execute_result"
    }
   ],
   "source": [
    "postulantes_gen_nac = postulantes_gen_nac.drop_duplicates('idpostulante')\n",
    "postulantes_gen_nac.sample(5)"
   ]
  },
  {
   "cell_type": "markdown",
   "metadata": {},
   "source": [
    "Se transforma la columna 'fechanacimiento' en 'edad', mediante una serie de operaciones lógicas."
   ]
  },
  {
   "cell_type": "code",
   "execution_count": 22,
   "metadata": {},
   "outputs": [
    {
     "data": {
      "text/html": [
       "<div>\n",
       "<style scoped>\n",
       "    .dataframe tbody tr th:only-of-type {\n",
       "        vertical-align: middle;\n",
       "    }\n",
       "\n",
       "    .dataframe tbody tr th {\n",
       "        vertical-align: top;\n",
       "    }\n",
       "\n",
       "    .dataframe thead th {\n",
       "        text-align: right;\n",
       "    }\n",
       "</style>\n",
       "<table border=\"1\" class=\"dataframe\">\n",
       "  <thead>\n",
       "    <tr style=\"text-align: right;\">\n",
       "      <th></th>\n",
       "      <th>idpostulante</th>\n",
       "      <th>edad</th>\n",
       "      <th>sexo</th>\n",
       "    </tr>\n",
       "  </thead>\n",
       "  <tbody>\n",
       "    <tr>\n",
       "      <th>141065</th>\n",
       "      <td>vVe0KrP</td>\n",
       "      <td>21</td>\n",
       "      <td>FEM</td>\n",
       "    </tr>\n",
       "    <tr>\n",
       "      <th>257097</th>\n",
       "      <td>ow2XNN3</td>\n",
       "      <td>19</td>\n",
       "      <td>FEM</td>\n",
       "    </tr>\n",
       "    <tr>\n",
       "      <th>328341</th>\n",
       "      <td>ow2VeB0</td>\n",
       "      <td>22</td>\n",
       "      <td>FEM</td>\n",
       "    </tr>\n",
       "    <tr>\n",
       "      <th>276266</th>\n",
       "      <td>VNrjz1j</td>\n",
       "      <td>25</td>\n",
       "      <td>MASC</td>\n",
       "    </tr>\n",
       "    <tr>\n",
       "      <th>448987</th>\n",
       "      <td>6rQm9wx</td>\n",
       "      <td>43</td>\n",
       "      <td>FEM</td>\n",
       "    </tr>\n",
       "  </tbody>\n",
       "</table>\n",
       "</div>"
      ],
      "text/plain": [
       "       idpostulante  edad  sexo\n",
       "141065      vVe0KrP    21   FEM\n",
       "257097      ow2XNN3    19   FEM\n",
       "328341      ow2VeB0    22   FEM\n",
       "276266      VNrjz1j    25  MASC\n",
       "448987      6rQm9wx    43   FEM"
      ]
     },
     "execution_count": 22,
     "metadata": {},
     "output_type": "execute_result"
    }
   ],
   "source": [
    "# Renombramos la columna por algo más apropiado\n",
    "postulantes_gen_nac = postulantes_gen_nac.rename(columns={'fechanacimiento': 'edad'})\n",
    "\n",
    "# Obtenemos el año de nacimiento\n",
    "fecha_nac = postulantes_gen_nac['edad'].str.split('-')\n",
    "año_nac = fecha_nac.str[0]\n",
    "postulantes_gen_nac['edad'] = año_nac\n",
    "postulantes_gen_nac['edad'] = pd.to_numeric(postulantes_gen_nac['edad'], errors='coerce').fillna(0).astype(np.int64)\n",
    "\n",
    "# Filtramos edades que consideramos inválidas\n",
    "edad_min = postulantes_gen_nac['edad'] > 2000\n",
    "edad_max = postulantes_gen_nac['edad'] < 1950\n",
    "condicion_final = ((edad_min | edad_max))\n",
    "postulantes_gen_nac = postulantes_gen_nac[np.logical_not(condicion_final)]\n",
    "\n",
    "# Obtenemos la edad real según el año actual\n",
    "postulantes_gen_nac['edad'] = postulantes_gen_nac['edad'].apply(lambda x: 2018-x)\n",
    "\n",
    "postulantes_gen_nac.sample(5)"
   ]
  },
  {
   "cell_type": "markdown",
   "metadata": {},
   "source": [
    " "
   ]
  },
  {
   "cell_type": "markdown",
   "metadata": {},
   "source": [
    "Creamos la columna rango_edad para minimizar la cantidad de valores posibles correspondientes a la edad del postulante.\n",
    "\n",
    "Rangos:\n",
    "- 18-25\n",
    "- 26-30\n",
    "- 31-40\n",
    "- 41-68"
   ]
  },
  {
   "cell_type": "code",
   "execution_count": 23,
   "metadata": {},
   "outputs": [
    {
     "data": {
      "text/html": [
       "<div>\n",
       "<style scoped>\n",
       "    .dataframe tbody tr th:only-of-type {\n",
       "        vertical-align: middle;\n",
       "    }\n",
       "\n",
       "    .dataframe tbody tr th {\n",
       "        vertical-align: top;\n",
       "    }\n",
       "\n",
       "    .dataframe thead th {\n",
       "        text-align: right;\n",
       "    }\n",
       "</style>\n",
       "<table border=\"1\" class=\"dataframe\">\n",
       "  <thead>\n",
       "    <tr style=\"text-align: right;\">\n",
       "      <th></th>\n",
       "      <th>idpostulante</th>\n",
       "      <th>edad</th>\n",
       "      <th>sexo</th>\n",
       "      <th>rango_edad</th>\n",
       "    </tr>\n",
       "  </thead>\n",
       "  <tbody>\n",
       "    <tr>\n",
       "      <th>503074</th>\n",
       "      <td>QNrzKEW</td>\n",
       "      <td>20</td>\n",
       "      <td>MASC</td>\n",
       "      <td>1.0</td>\n",
       "    </tr>\n",
       "    <tr>\n",
       "      <th>193334</th>\n",
       "      <td>JBxYl9p</td>\n",
       "      <td>21</td>\n",
       "      <td>FEM</td>\n",
       "      <td>1.0</td>\n",
       "    </tr>\n",
       "    <tr>\n",
       "      <th>399507</th>\n",
       "      <td>2zP9bNv</td>\n",
       "      <td>19</td>\n",
       "      <td>MASC</td>\n",
       "      <td>1.0</td>\n",
       "    </tr>\n",
       "    <tr>\n",
       "      <th>110779</th>\n",
       "      <td>2zmZBE1</td>\n",
       "      <td>26</td>\n",
       "      <td>FEM</td>\n",
       "      <td>2.0</td>\n",
       "    </tr>\n",
       "    <tr>\n",
       "      <th>217048</th>\n",
       "      <td>W9WrKvR</td>\n",
       "      <td>20</td>\n",
       "      <td>FEM</td>\n",
       "      <td>1.0</td>\n",
       "    </tr>\n",
       "  </tbody>\n",
       "</table>\n",
       "</div>"
      ],
      "text/plain": [
       "       idpostulante  edad  sexo  rango_edad\n",
       "503074      QNrzKEW    20  MASC         1.0\n",
       "193334      JBxYl9p    21   FEM         1.0\n",
       "399507      2zP9bNv    19  MASC         1.0\n",
       "110779      2zmZBE1    26   FEM         2.0\n",
       "217048      W9WrKvR    20   FEM         1.0"
      ]
     },
     "execution_count": 23,
     "metadata": {},
     "output_type": "execute_result"
    }
   ],
   "source": [
    "rango_18_25 = (postulantes_gen_nac['edad'] >= 18) & (postulantes_gen_nac['edad'] <= 25)\n",
    "rango_26_30 = (postulantes_gen_nac['edad'] >= 26) & (postulantes_gen_nac['edad'] <= 30)\n",
    "rango_31_40 = (postulantes_gen_nac['edad'] >= 31) & (postulantes_gen_nac['edad'] <= 40)\n",
    "rango_41_68 = (postulantes_gen_nac['edad'] >= 41) & (postulantes_gen_nac['edad'] <= 68)\n",
    "\n",
    "postulantes_gen_nac.loc[(rango_18_25), 'rango_edad'] = 1\n",
    "postulantes_gen_nac.loc[(rango_26_30), 'rango_edad'] = 2\n",
    "postulantes_gen_nac.loc[(rango_31_40), 'rango_edad'] = 3\n",
    "postulantes_gen_nac.loc[(rango_41_68), 'rango_edad'] = 4\n",
    "\n",
    "postulantes_gen_nac.sample(5)"
   ]
  },
  {
   "cell_type": "markdown",
   "metadata": {},
   "source": [
    "Eliminamos la columna edad. Consideramos que la información importante se encuentra contenida en el rango edad."
   ]
  },
  {
   "cell_type": "code",
   "execution_count": 24,
   "metadata": {},
   "outputs": [
    {
     "data": {
      "text/html": [
       "<div>\n",
       "<style scoped>\n",
       "    .dataframe tbody tr th:only-of-type {\n",
       "        vertical-align: middle;\n",
       "    }\n",
       "\n",
       "    .dataframe tbody tr th {\n",
       "        vertical-align: top;\n",
       "    }\n",
       "\n",
       "    .dataframe thead th {\n",
       "        text-align: right;\n",
       "    }\n",
       "</style>\n",
       "<table border=\"1\" class=\"dataframe\">\n",
       "  <thead>\n",
       "    <tr style=\"text-align: right;\">\n",
       "      <th></th>\n",
       "      <th>idpostulante</th>\n",
       "      <th>sexo</th>\n",
       "      <th>rango_edad</th>\n",
       "    </tr>\n",
       "  </thead>\n",
       "  <tbody>\n",
       "    <tr>\n",
       "      <th>412922</th>\n",
       "      <td>xkeDG3Y</td>\n",
       "      <td>MASC</td>\n",
       "      <td>2.0</td>\n",
       "    </tr>\n",
       "    <tr>\n",
       "      <th>49111</th>\n",
       "      <td>NQZZl4</td>\n",
       "      <td>FEM</td>\n",
       "      <td>2.0</td>\n",
       "    </tr>\n",
       "    <tr>\n",
       "      <th>474636</th>\n",
       "      <td>Rz9ARmR</td>\n",
       "      <td>MASC</td>\n",
       "      <td>1.0</td>\n",
       "    </tr>\n",
       "    <tr>\n",
       "      <th>18052</th>\n",
       "      <td>1kLW1N</td>\n",
       "      <td>FEM</td>\n",
       "      <td>4.0</td>\n",
       "    </tr>\n",
       "    <tr>\n",
       "      <th>309559</th>\n",
       "      <td>6BQoev</td>\n",
       "      <td>MASC</td>\n",
       "      <td>4.0</td>\n",
       "    </tr>\n",
       "  </tbody>\n",
       "</table>\n",
       "</div>"
      ],
      "text/plain": [
       "       idpostulante  sexo  rango_edad\n",
       "412922      xkeDG3Y  MASC         2.0\n",
       "49111        NQZZl4   FEM         2.0\n",
       "474636      Rz9ARmR  MASC         1.0\n",
       "18052        1kLW1N   FEM         4.0\n",
       "309559       6BQoev  MASC         4.0"
      ]
     },
     "execution_count": 24,
     "metadata": {},
     "output_type": "execute_result"
    }
   ],
   "source": [
    "postulantes_gen_nac.drop(columns={'edad'}, axis=1, inplace=True)\n",
    "postulantes_gen_nac.sample(5)"
   ]
  },
  {
   "cell_type": "markdown",
   "metadata": {},
   "source": [
    "Analizamos los valores posibles de la columna 'sexo'"
   ]
  },
  {
   "cell_type": "code",
   "execution_count": 25,
   "metadata": {},
   "outputs": [
    {
     "data": {
      "text/plain": [
       "FEM           250194\n",
       "MASC          226713\n",
       "NO_DECLARA      1094\n",
       "Name: sexo, dtype: int64"
      ]
     },
     "execution_count": 25,
     "metadata": {},
     "output_type": "execute_result"
    }
   ],
   "source": [
    "postulantes_gen_nac[\"sexo\"].value_counts()"
   ]
  },
  {
   "cell_type": "markdown",
   "metadata": {},
   "source": [
    "Pasamos a valor numérico el sexo de los postulantes.\n",
    "\n",
    "- NO_DECLARA = 0\n",
    "- FEM = 1\n",
    "- MASC = 2"
   ]
  },
  {
   "cell_type": "code",
   "execution_count": 26,
   "metadata": {},
   "outputs": [
    {
     "data": {
      "text/html": [
       "<div>\n",
       "<style scoped>\n",
       "    .dataframe tbody tr th:only-of-type {\n",
       "        vertical-align: middle;\n",
       "    }\n",
       "\n",
       "    .dataframe tbody tr th {\n",
       "        vertical-align: top;\n",
       "    }\n",
       "\n",
       "    .dataframe thead th {\n",
       "        text-align: right;\n",
       "    }\n",
       "</style>\n",
       "<table border=\"1\" class=\"dataframe\">\n",
       "  <thead>\n",
       "    <tr style=\"text-align: right;\">\n",
       "      <th></th>\n",
       "      <th>idpostulante</th>\n",
       "      <th>sexo</th>\n",
       "      <th>rango_edad</th>\n",
       "    </tr>\n",
       "  </thead>\n",
       "  <tbody>\n",
       "    <tr>\n",
       "      <th>212232</th>\n",
       "      <td>JBreRmE</td>\n",
       "      <td>1</td>\n",
       "      <td>1.0</td>\n",
       "    </tr>\n",
       "    <tr>\n",
       "      <th>191439</th>\n",
       "      <td>ek4QWDp</td>\n",
       "      <td>1</td>\n",
       "      <td>2.0</td>\n",
       "    </tr>\n",
       "    <tr>\n",
       "      <th>432868</th>\n",
       "      <td>Z9o9wZ</td>\n",
       "      <td>1</td>\n",
       "      <td>2.0</td>\n",
       "    </tr>\n",
       "    <tr>\n",
       "      <th>10659</th>\n",
       "      <td>evJJRp</td>\n",
       "      <td>2</td>\n",
       "      <td>3.0</td>\n",
       "    </tr>\n",
       "    <tr>\n",
       "      <th>314626</th>\n",
       "      <td>6wKqWL</td>\n",
       "      <td>1</td>\n",
       "      <td>3.0</td>\n",
       "    </tr>\n",
       "  </tbody>\n",
       "</table>\n",
       "</div>"
      ],
      "text/plain": [
       "       idpostulante  sexo  rango_edad\n",
       "212232      JBreRmE     1         1.0\n",
       "191439      ek4QWDp     1         2.0\n",
       "432868       Z9o9wZ     1         2.0\n",
       "10659        evJJRp     2         3.0\n",
       "314626       6wKqWL     1         3.0"
      ]
     },
     "execution_count": 26,
     "metadata": {},
     "output_type": "execute_result"
    }
   ],
   "source": [
    "postulantes_gen_nac.loc[(postulantes_gen_nac['sexo'] == 'NO_DECLARA'), 'sexo'] = 0\n",
    "postulantes_gen_nac.loc[(postulantes_gen_nac['sexo'] == 'FEM'),'sexo'] = 1\n",
    "postulantes_gen_nac.loc[(postulantes_gen_nac['sexo'] == 'MASC'),'sexo'] = 2\n",
    "\n",
    "postulantes_gen_nac.sample(5)"
   ]
  },
  {
   "cell_type": "code",
   "execution_count": 27,
   "metadata": {},
   "outputs": [
    {
     "name": "stdout",
     "output_type": "stream",
     "text": [
      "<class 'pandas.core.frame.DataFrame'>\n",
      "Int64Index: 478001 entries, 165770 to 147639\n",
      "Data columns (total 3 columns):\n",
      "idpostulante    478001 non-null object\n",
      "sexo            478001 non-null int64\n",
      "rango_edad      478001 non-null float64\n",
      "dtypes: float64(1), int64(1), object(1)\n",
      "memory usage: 14.6+ MB\n"
     ]
    }
   ],
   "source": [
    "postulantes_gen_nac.info()"
   ]
  },
  {
   "cell_type": "markdown",
   "metadata": {},
   "source": [
    " "
   ]
  },
  {
   "cell_type": "markdown",
   "metadata": {},
   "source": [
    "Liberamos memoria para mejorar la performance"
   ]
  },
  {
   "cell_type": "code",
   "execution_count": 28,
   "metadata": {},
   "outputs": [],
   "source": [
    "postulantes_educ_2 = 0\n",
    "postulantes_gen_nac_2 = 0\n",
    "fecha_nac = 0\n",
    "año_nac = 0\n",
    "edad_min = 0\n",
    "edad_max = 0\n",
    "condicion_final = 0\n",
    "rango_18_25 = 0\n",
    "rango_26_30 = 0\n",
    "rango_31_40 = 0\n",
    "rango_41_68 = 0"
   ]
  },
  {
   "cell_type": "markdown",
   "metadata": {},
   "source": [
    " "
   ]
  },
  {
   "cell_type": "markdown",
   "metadata": {},
   "source": [
    "### Merge de los DF 1 y 2"
   ]
  },
  {
   "cell_type": "markdown",
   "metadata": {},
   "source": [
    "Se realiza un merge de los dos dataframes con información correspondiente a los postulantes"
   ]
  },
  {
   "cell_type": "code",
   "execution_count": 29,
   "metadata": {},
   "outputs": [
    {
     "data": {
      "text/html": [
       "<div>\n",
       "<style scoped>\n",
       "    .dataframe tbody tr th:only-of-type {\n",
       "        vertical-align: middle;\n",
       "    }\n",
       "\n",
       "    .dataframe tbody tr th {\n",
       "        vertical-align: top;\n",
       "    }\n",
       "\n",
       "    .dataframe thead th {\n",
       "        text-align: right;\n",
       "    }\n",
       "</style>\n",
       "<table border=\"1\" class=\"dataframe\">\n",
       "  <thead>\n",
       "    <tr style=\"text-align: right;\">\n",
       "      <th></th>\n",
       "      <th>idpostulante</th>\n",
       "      <th>estudios</th>\n",
       "      <th>esta_estudiando</th>\n",
       "      <th>sexo</th>\n",
       "      <th>rango_edad</th>\n",
       "    </tr>\n",
       "  </thead>\n",
       "  <tbody>\n",
       "    <tr>\n",
       "      <th>0</th>\n",
       "      <td>a0XaWD</td>\n",
       "      <td>7.0</td>\n",
       "      <td>0.0</td>\n",
       "      <td>2</td>\n",
       "      <td>4.0</td>\n",
       "    </tr>\n",
       "    <tr>\n",
       "      <th>1</th>\n",
       "      <td>4reGo5z</td>\n",
       "      <td>7.0</td>\n",
       "      <td>0.0</td>\n",
       "      <td>1</td>\n",
       "      <td>2.0</td>\n",
       "    </tr>\n",
       "    <tr>\n",
       "      <th>2</th>\n",
       "      <td>X9lpKkb</td>\n",
       "      <td>7.0</td>\n",
       "      <td>0.0</td>\n",
       "      <td>2</td>\n",
       "      <td>4.0</td>\n",
       "    </tr>\n",
       "    <tr>\n",
       "      <th>3</th>\n",
       "      <td>RzMXJ4E</td>\n",
       "      <td>7.0</td>\n",
       "      <td>0.0</td>\n",
       "      <td>1</td>\n",
       "      <td>4.0</td>\n",
       "    </tr>\n",
       "    <tr>\n",
       "      <th>4</th>\n",
       "      <td>akOA6b9</td>\n",
       "      <td>7.0</td>\n",
       "      <td>0.0</td>\n",
       "      <td>2</td>\n",
       "      <td>4.0</td>\n",
       "    </tr>\n",
       "  </tbody>\n",
       "</table>\n",
       "</div>"
      ],
      "text/plain": [
       "  idpostulante  estudios  esta_estudiando  sexo  rango_edad\n",
       "0       a0XaWD       7.0              0.0     2         4.0\n",
       "1      4reGo5z       7.0              0.0     1         2.0\n",
       "2      X9lpKkb       7.0              0.0     2         4.0\n",
       "3      RzMXJ4E       7.0              0.0     1         4.0\n",
       "4      akOA6b9       7.0              0.0     2         4.0"
      ]
     },
     "execution_count": 29,
     "metadata": {},
     "output_type": "execute_result"
    }
   ],
   "source": [
    "postulantes = pd.merge(postulantes_educ, postulantes_gen_nac, on='idpostulante', how='inner')\n",
    "\n",
    "postulantes.head()"
   ]
  },
  {
   "cell_type": "code",
   "execution_count": 30,
   "metadata": {},
   "outputs": [
    {
     "name": "stdout",
     "output_type": "stream",
     "text": [
      "<class 'pandas.core.frame.DataFrame'>\n",
      "Int64Index: 438451 entries, 0 to 438450\n",
      "Data columns (total 5 columns):\n",
      "idpostulante       438451 non-null object\n",
      "estudios           438451 non-null float64\n",
      "esta_estudiando    438451 non-null float64\n",
      "sexo               438451 non-null int64\n",
      "rango_edad         438451 non-null float64\n",
      "dtypes: float64(3), int64(1), object(1)\n",
      "memory usage: 20.1+ MB\n"
     ]
    }
   ],
   "source": [
    "postulantes.info()"
   ]
  },
  {
   "cell_type": "markdown",
   "metadata": {},
   "source": [
    " "
   ]
  },
  {
   "cell_type": "markdown",
   "metadata": {},
   "source": [
    "### DF 3: Postulaciones a los avisos"
   ]
  },
  {
   "cell_type": "markdown",
   "metadata": {},
   "source": [
    "Realizamos un merge de los 2 dataframes de postulaciones a los anuncios que nos fueron provistos, para poder trabajar de manera unificada."
   ]
  },
  {
   "cell_type": "code",
   "execution_count": 31,
   "metadata": {},
   "outputs": [
    {
     "data": {
      "text/html": [
       "<div>\n",
       "<style scoped>\n",
       "    .dataframe tbody tr th:only-of-type {\n",
       "        vertical-align: middle;\n",
       "    }\n",
       "\n",
       "    .dataframe tbody tr th {\n",
       "        vertical-align: top;\n",
       "    }\n",
       "\n",
       "    .dataframe thead th {\n",
       "        text-align: right;\n",
       "    }\n",
       "</style>\n",
       "<table border=\"1\" class=\"dataframe\">\n",
       "  <thead>\n",
       "    <tr style=\"text-align: right;\">\n",
       "      <th></th>\n",
       "      <th>idaviso</th>\n",
       "      <th>idpostulante</th>\n",
       "      <th>fechapostulacion</th>\n",
       "    </tr>\n",
       "  </thead>\n",
       "  <tbody>\n",
       "    <tr>\n",
       "      <th>0</th>\n",
       "      <td>1112257047</td>\n",
       "      <td>NM5M</td>\n",
       "      <td>2018-01-15 16:22:34</td>\n",
       "    </tr>\n",
       "    <tr>\n",
       "      <th>1</th>\n",
       "      <td>1111920714</td>\n",
       "      <td>NM5M</td>\n",
       "      <td>2018-02-06 09:04:50</td>\n",
       "    </tr>\n",
       "    <tr>\n",
       "      <th>2</th>\n",
       "      <td>1112346945</td>\n",
       "      <td>NM5M</td>\n",
       "      <td>2018-02-22 09:04:47</td>\n",
       "    </tr>\n",
       "    <tr>\n",
       "      <th>3</th>\n",
       "      <td>1112345547</td>\n",
       "      <td>NM5M</td>\n",
       "      <td>2018-02-22 09:04:59</td>\n",
       "    </tr>\n",
       "    <tr>\n",
       "      <th>4</th>\n",
       "      <td>1112237522</td>\n",
       "      <td>5awk</td>\n",
       "      <td>2018-01-25 18:55:03</td>\n",
       "    </tr>\n",
       "  </tbody>\n",
       "</table>\n",
       "</div>"
      ],
      "text/plain": [
       "      idaviso idpostulante     fechapostulacion\n",
       "0  1112257047         NM5M  2018-01-15 16:22:34\n",
       "1  1111920714         NM5M  2018-02-06 09:04:50\n",
       "2  1112346945         NM5M  2018-02-22 09:04:47\n",
       "3  1112345547         NM5M  2018-02-22 09:04:59\n",
       "4  1112237522         5awk  2018-01-25 18:55:03"
      ]
     },
     "execution_count": 31,
     "metadata": {},
     "output_type": "execute_result"
    }
   ],
   "source": [
    "postulaciones = pd.read_csv('datos_navent_fiuba/fiuba_4_postulaciones.csv')\n",
    "postulaciones_2 = pd.read_csv('datos_navent_fiuba/h15_fiuba_4_postulaciones.csv')\n",
    "\n",
    "postulaciones = pd.merge(postulaciones, postulaciones_2, how='outer')\n",
    "\n",
    "postulaciones.head()"
   ]
  },
  {
   "cell_type": "markdown",
   "metadata": {},
   "source": [
    "Analizamos la cantidad de registros con los que cuenta el dataframe de postulaciones"
   ]
  },
  {
   "cell_type": "code",
   "execution_count": 32,
   "metadata": {},
   "outputs": [
    {
     "data": {
      "text/plain": [
       "6604534"
      ]
     },
     "execution_count": 32,
     "metadata": {},
     "output_type": "execute_result"
    }
   ],
   "source": [
    "registros_totales = len(postulaciones)\n",
    "registros_totales"
   ]
  },
  {
   "cell_type": "markdown",
   "metadata": {},
   "source": [
    "Analizamos la cantidad de postulaciones únicas (de un mismo postulante a un mismo aviso)"
   ]
  },
  {
   "cell_type": "code",
   "execution_count": 33,
   "metadata": {},
   "outputs": [
    {
     "data": {
      "text/plain": [
       "6603752"
      ]
     },
     "execution_count": 33,
     "metadata": {},
     "output_type": "execute_result"
    }
   ],
   "source": [
    "registros_unicos = len(postulaciones.drop_duplicates(['idaviso','idpostulante']))\n",
    "registros_unicos"
   ]
  },
  {
   "cell_type": "code",
   "execution_count": 34,
   "metadata": {},
   "outputs": [
    {
     "data": {
      "text/plain": [
       "782"
      ]
     },
     "execution_count": 34,
     "metadata": {},
     "output_type": "execute_result"
    }
   ],
   "source": [
    "registros_duplicados = registros_totales - registros_unicos\n",
    "registros_duplicados"
   ]
  },
  {
   "cell_type": "markdown",
   "metadata": {},
   "source": [
    "Considerando que hay una diferencia de tan sólo 782 registros (es decir, hay 782 postulaciones duplicadas de un mismo postulante a un mismo aviso), decidimos eliminar los duplicados"
   ]
  },
  {
   "cell_type": "code",
   "execution_count": 35,
   "metadata": {},
   "outputs": [
    {
     "data": {
      "text/plain": [
       "6603752"
      ]
     },
     "execution_count": 35,
     "metadata": {},
     "output_type": "execute_result"
    }
   ],
   "source": [
    "postulaciones.drop_duplicates(['idaviso','idpostulante'], inplace=True)\n",
    "\n",
    "len(postulaciones)"
   ]
  },
  {
   "cell_type": "markdown",
   "metadata": {},
   "source": [
    "Eliminamos la columna 'fechapostulacion' ya que no la consideramos relevante para los algoritmos de ML"
   ]
  },
  {
   "cell_type": "code",
   "execution_count": 36,
   "metadata": {},
   "outputs": [
    {
     "data": {
      "text/html": [
       "<div>\n",
       "<style scoped>\n",
       "    .dataframe tbody tr th:only-of-type {\n",
       "        vertical-align: middle;\n",
       "    }\n",
       "\n",
       "    .dataframe tbody tr th {\n",
       "        vertical-align: top;\n",
       "    }\n",
       "\n",
       "    .dataframe thead th {\n",
       "        text-align: right;\n",
       "    }\n",
       "</style>\n",
       "<table border=\"1\" class=\"dataframe\">\n",
       "  <thead>\n",
       "    <tr style=\"text-align: right;\">\n",
       "      <th></th>\n",
       "      <th>idaviso</th>\n",
       "      <th>idpostulante</th>\n",
       "    </tr>\n",
       "  </thead>\n",
       "  <tbody>\n",
       "    <tr>\n",
       "      <th>5097390</th>\n",
       "      <td>1112455614</td>\n",
       "      <td>mzb8pb9</td>\n",
       "    </tr>\n",
       "    <tr>\n",
       "      <th>3971093</th>\n",
       "      <td>1112444146</td>\n",
       "      <td>owzORjj</td>\n",
       "    </tr>\n",
       "    <tr>\n",
       "      <th>4709918</th>\n",
       "      <td>1112443823</td>\n",
       "      <td>vVjMxrj</td>\n",
       "    </tr>\n",
       "    <tr>\n",
       "      <th>2745795</th>\n",
       "      <td>1111960330</td>\n",
       "      <td>ow2dMP0</td>\n",
       "    </tr>\n",
       "    <tr>\n",
       "      <th>1721610</th>\n",
       "      <td>1112308156</td>\n",
       "      <td>EzpRLZ0</td>\n",
       "    </tr>\n",
       "  </tbody>\n",
       "</table>\n",
       "</div>"
      ],
      "text/plain": [
       "            idaviso idpostulante\n",
       "5097390  1112455614      mzb8pb9\n",
       "3971093  1112444146      owzORjj\n",
       "4709918  1112443823      vVjMxrj\n",
       "2745795  1111960330      ow2dMP0\n",
       "1721610  1112308156      EzpRLZ0"
      ]
     },
     "execution_count": 36,
     "metadata": {},
     "output_type": "execute_result"
    }
   ],
   "source": [
    "postulaciones.drop(columns={'fechapostulacion'}, inplace = True)\n",
    "\n",
    "postulaciones.sample(5)"
   ]
  },
  {
   "cell_type": "markdown",
   "metadata": {},
   "source": [
    "Analizamos los avisos top (aquellos que reciben mayor cantidad de postulaciones"
   ]
  },
  {
   "cell_type": "code",
   "execution_count": 37,
   "metadata": {},
   "outputs": [
    {
     "data": {
      "text/html": [
       "<div>\n",
       "<style scoped>\n",
       "    .dataframe tbody tr th:only-of-type {\n",
       "        vertical-align: middle;\n",
       "    }\n",
       "\n",
       "    .dataframe tbody tr th {\n",
       "        vertical-align: top;\n",
       "    }\n",
       "\n",
       "    .dataframe thead th {\n",
       "        text-align: right;\n",
       "    }\n",
       "</style>\n",
       "<table border=\"1\" class=\"dataframe\">\n",
       "  <thead>\n",
       "    <tr style=\"text-align: right;\">\n",
       "      <th></th>\n",
       "      <th>idaviso</th>\n",
       "      <th>cant_postulaciones</th>\n",
       "    </tr>\n",
       "  </thead>\n",
       "  <tbody>\n",
       "    <tr>\n",
       "      <th>10405</th>\n",
       "      <td>1112334791</td>\n",
       "      <td>24420</td>\n",
       "    </tr>\n",
       "    <tr>\n",
       "      <th>1084</th>\n",
       "      <td>1112094756</td>\n",
       "      <td>22424</td>\n",
       "    </tr>\n",
       "    <tr>\n",
       "      <th>931</th>\n",
       "      <td>1112033906</td>\n",
       "      <td>20570</td>\n",
       "    </tr>\n",
       "    <tr>\n",
       "      <th>10402</th>\n",
       "      <td>1112334788</td>\n",
       "      <td>16687</td>\n",
       "    </tr>\n",
       "    <tr>\n",
       "      <th>1640</th>\n",
       "      <td>1112196813</td>\n",
       "      <td>13619</td>\n",
       "    </tr>\n",
       "    <tr>\n",
       "      <th>6977</th>\n",
       "      <td>1112280937</td>\n",
       "      <td>12124</td>\n",
       "    </tr>\n",
       "    <tr>\n",
       "      <th>447</th>\n",
       "      <td>1111753681</td>\n",
       "      <td>11102</td>\n",
       "    </tr>\n",
       "    <tr>\n",
       "      <th>1837</th>\n",
       "      <td>1112204682</td>\n",
       "      <td>10098</td>\n",
       "    </tr>\n",
       "    <tr>\n",
       "      <th>11224</th>\n",
       "      <td>1112345900</td>\n",
       "      <td>9784</td>\n",
       "    </tr>\n",
       "    <tr>\n",
       "      <th>766</th>\n",
       "      <td>1111970596</td>\n",
       "      <td>9746</td>\n",
       "    </tr>\n",
       "  </tbody>\n",
       "</table>\n",
       "</div>"
      ],
      "text/plain": [
       "          idaviso  cant_postulaciones\n",
       "10405  1112334791               24420\n",
       "1084   1112094756               22424\n",
       "931    1112033906               20570\n",
       "10402  1112334788               16687\n",
       "1640   1112196813               13619\n",
       "6977   1112280937               12124\n",
       "447    1111753681               11102\n",
       "1837   1112204682               10098\n",
       "11224  1112345900                9784\n",
       "766    1111970596                9746"
      ]
     },
     "execution_count": 37,
     "metadata": {},
     "output_type": "execute_result"
    }
   ],
   "source": [
    "cant_postulantes_por_aviso = postulaciones.groupby(['idaviso',]).size().to_frame('cant_postulaciones').reset_index()\n",
    "cant_postulantes_por_aviso.sort_values('cant_postulaciones', inplace = True, ascending = False)\n",
    "\n",
    "cant_postulantes_por_aviso.head(10)"
   ]
  },
  {
   "cell_type": "markdown",
   "metadata": {},
   "source": [
    "Agregamos la columna 'sepostulo_x' con valor igual 1 para todos los registros. Esto nos será de gran utilidad a la hora de crear el set de entrenamiento para los algoritmos de ML"
   ]
  },
  {
   "cell_type": "code",
   "execution_count": 38,
   "metadata": {},
   "outputs": [
    {
     "data": {
      "text/html": [
       "<div>\n",
       "<style scoped>\n",
       "    .dataframe tbody tr th:only-of-type {\n",
       "        vertical-align: middle;\n",
       "    }\n",
       "\n",
       "    .dataframe tbody tr th {\n",
       "        vertical-align: top;\n",
       "    }\n",
       "\n",
       "    .dataframe thead th {\n",
       "        text-align: right;\n",
       "    }\n",
       "</style>\n",
       "<table border=\"1\" class=\"dataframe\">\n",
       "  <thead>\n",
       "    <tr style=\"text-align: right;\">\n",
       "      <th></th>\n",
       "      <th>idaviso</th>\n",
       "      <th>idpostulante</th>\n",
       "      <th>sepostulo_x</th>\n",
       "    </tr>\n",
       "  </thead>\n",
       "  <tbody>\n",
       "    <tr>\n",
       "      <th>6341062</th>\n",
       "      <td>1112416123</td>\n",
       "      <td>jk6Okb6</td>\n",
       "      <td>1</td>\n",
       "    </tr>\n",
       "    <tr>\n",
       "      <th>2458039</th>\n",
       "      <td>1112297566</td>\n",
       "      <td>0zkRLmr</td>\n",
       "      <td>1</td>\n",
       "    </tr>\n",
       "    <tr>\n",
       "      <th>53937</th>\n",
       "      <td>1112322815</td>\n",
       "      <td>MVOqPzv</td>\n",
       "      <td>1</td>\n",
       "    </tr>\n",
       "    <tr>\n",
       "      <th>3680282</th>\n",
       "      <td>1112448587</td>\n",
       "      <td>E9dB30</td>\n",
       "      <td>1</td>\n",
       "    </tr>\n",
       "    <tr>\n",
       "      <th>93635</th>\n",
       "      <td>1112266297</td>\n",
       "      <td>ak5xvLE</td>\n",
       "      <td>1</td>\n",
       "    </tr>\n",
       "    <tr>\n",
       "      <th>3469854</th>\n",
       "      <td>1112399604</td>\n",
       "      <td>6ANxdM</td>\n",
       "      <td>1</td>\n",
       "    </tr>\n",
       "    <tr>\n",
       "      <th>1154286</th>\n",
       "      <td>1112281847</td>\n",
       "      <td>N1pBLB</td>\n",
       "      <td>1</td>\n",
       "    </tr>\n",
       "    <tr>\n",
       "      <th>690666</th>\n",
       "      <td>1112316042</td>\n",
       "      <td>kPj5mlJ</td>\n",
       "      <td>1</td>\n",
       "    </tr>\n",
       "    <tr>\n",
       "      <th>2422318</th>\n",
       "      <td>1112283643</td>\n",
       "      <td>QNMBBG2</td>\n",
       "      <td>1</td>\n",
       "    </tr>\n",
       "    <tr>\n",
       "      <th>3666475</th>\n",
       "      <td>1112366913</td>\n",
       "      <td>KBrbaN2</td>\n",
       "      <td>1</td>\n",
       "    </tr>\n",
       "  </tbody>\n",
       "</table>\n",
       "</div>"
      ],
      "text/plain": [
       "            idaviso idpostulante  sepostulo_x\n",
       "6341062  1112416123      jk6Okb6            1\n",
       "2458039  1112297566      0zkRLmr            1\n",
       "53937    1112322815      MVOqPzv            1\n",
       "3680282  1112448587       E9dB30            1\n",
       "93635    1112266297      ak5xvLE            1\n",
       "3469854  1112399604       6ANxdM            1\n",
       "1154286  1112281847       N1pBLB            1\n",
       "690666   1112316042      kPj5mlJ            1\n",
       "2422318  1112283643      QNMBBG2            1\n",
       "3666475  1112366913      KBrbaN2            1"
      ]
     },
     "execution_count": 38,
     "metadata": {},
     "output_type": "execute_result"
    }
   ],
   "source": [
    "postulaciones['sepostulo_x'] = 1\n",
    "\n",
    "postulaciones.sample(10)"
   ]
  },
  {
   "cell_type": "markdown",
   "metadata": {},
   "source": [
    "### DF 4: Detalles de los avisos"
   ]
  },
  {
   "cell_type": "markdown",
   "metadata": {},
   "source": [
    "Se realiza un merge de los 3 dataframes de detalles de los avisos que nos fueron provistos"
   ]
  },
  {
   "cell_type": "code",
   "execution_count": 39,
   "metadata": {},
   "outputs": [
    {
     "data": {
      "text/html": [
       "<div>\n",
       "<style scoped>\n",
       "    .dataframe tbody tr th:only-of-type {\n",
       "        vertical-align: middle;\n",
       "    }\n",
       "\n",
       "    .dataframe tbody tr th {\n",
       "        vertical-align: top;\n",
       "    }\n",
       "\n",
       "    .dataframe thead th {\n",
       "        text-align: right;\n",
       "    }\n",
       "</style>\n",
       "<table border=\"1\" class=\"dataframe\">\n",
       "  <thead>\n",
       "    <tr style=\"text-align: right;\">\n",
       "      <th></th>\n",
       "      <th>idaviso</th>\n",
       "      <th>idpais</th>\n",
       "      <th>titulo</th>\n",
       "      <th>descripcion</th>\n",
       "      <th>nombre_zona</th>\n",
       "      <th>ciudad</th>\n",
       "      <th>mapacalle</th>\n",
       "      <th>tipo_de_trabajo</th>\n",
       "      <th>nivel_laboral</th>\n",
       "      <th>nombre_area</th>\n",
       "      <th>denominacion_empresa</th>\n",
       "    </tr>\n",
       "  </thead>\n",
       "  <tbody>\n",
       "    <tr>\n",
       "      <th>1650</th>\n",
       "      <td>1112216949</td>\n",
       "      <td>1</td>\n",
       "      <td>Scrum Master GBA Norte</td>\n",
       "      <td>&lt;p&gt;Estamos en búsqueda de un Scrum Master para...</td>\n",
       "      <td>Gran Buenos Aires</td>\n",
       "      <td>NaN</td>\n",
       "      <td>NaN</td>\n",
       "      <td>Full-time</td>\n",
       "      <td>Senior / Semi-Senior</td>\n",
       "      <td>Tecnologia / Sistemas</td>\n",
       "      <td>Aliantec</td>\n",
       "    </tr>\n",
       "    <tr>\n",
       "      <th>7609</th>\n",
       "      <td>1112238957</td>\n",
       "      <td>1</td>\n",
       "      <td>Analista de Facturación con SAP - PRESENTARSE</td>\n",
       "      <td>&lt;p&gt;&lt;span style=\"text-decoration: underline;\"&gt;P...</td>\n",
       "      <td>Gran Buenos Aires</td>\n",
       "      <td>NaN</td>\n",
       "      <td>NaN</td>\n",
       "      <td>Full-time</td>\n",
       "      <td>Senior / Semi-Senior</td>\n",
       "      <td>Facturación</td>\n",
       "      <td>Complement Group (holding)</td>\n",
       "    </tr>\n",
       "    <tr>\n",
       "      <th>11551</th>\n",
       "      <td>1112253623</td>\n",
       "      <td>1</td>\n",
       "      <td>Operador Senior de Mesa de Ayuda</td>\n",
       "      <td>&lt;p&gt;Para importante medio digital requerimos  p...</td>\n",
       "      <td>Gran Buenos Aires</td>\n",
       "      <td>NaN</td>\n",
       "      <td>NaN</td>\n",
       "      <td>Full-time</td>\n",
       "      <td>Senior / Semi-Senior</td>\n",
       "      <td>Tecnologías de la Información</td>\n",
       "      <td>HuCap</td>\n",
       "    </tr>\n",
       "    <tr>\n",
       "      <th>22139</th>\n",
       "      <td>1112493855</td>\n",
       "      <td>1</td>\n",
       "      <td>Rectificador Universal Cilíndrico</td>\n",
       "      <td>&lt;p&gt;  &lt;/p&gt;&lt;p&gt; &lt;/p&gt;&lt;p&gt;&lt;span style=\"\"&gt;Nos encontr...</td>\n",
       "      <td>Gran Buenos Aires</td>\n",
       "      <td>NaN</td>\n",
       "      <td>NaN</td>\n",
       "      <td>Full-time</td>\n",
       "      <td>Senior / Semi-Senior</td>\n",
       "      <td>Producción</td>\n",
       "      <td>IN HAUS</td>\n",
       "    </tr>\n",
       "    <tr>\n",
       "      <th>17949</th>\n",
       "      <td>1112341165</td>\n",
       "      <td>1</td>\n",
       "      <td>Administrador de Networking</td>\n",
       "      <td>&lt;p style=\"\"&gt;&lt;span style=\"\"&gt;IT Resources &lt;/span...</td>\n",
       "      <td>Gran Buenos Aires</td>\n",
       "      <td>NaN</td>\n",
       "      <td>NaN</td>\n",
       "      <td>Full-time</td>\n",
       "      <td>Senior / Semi-Senior</td>\n",
       "      <td>Tecnologia / Sistemas</td>\n",
       "      <td>IT Resources</td>\n",
       "    </tr>\n",
       "  </tbody>\n",
       "</table>\n",
       "</div>"
      ],
      "text/plain": [
       "          idaviso  idpais                                         titulo  \\\n",
       "1650   1112216949       1                         Scrum Master GBA Norte   \n",
       "7609   1112238957       1  Analista de Facturación con SAP - PRESENTARSE   \n",
       "11551  1112253623       1              Operador Senior de Mesa de Ayuda    \n",
       "22139  1112493855       1              Rectificador Universal Cilíndrico   \n",
       "17949  1112341165       1                    Administrador de Networking   \n",
       "\n",
       "                                             descripcion        nombre_zona  \\\n",
       "1650   <p>Estamos en búsqueda de un Scrum Master para...  Gran Buenos Aires   \n",
       "7609   <p><span style=\"text-decoration: underline;\">P...  Gran Buenos Aires   \n",
       "11551  <p>Para importante medio digital requerimos  p...  Gran Buenos Aires   \n",
       "22139  <p>  </p><p> </p><p><span style=\"\">Nos encontr...  Gran Buenos Aires   \n",
       "17949  <p style=\"\"><span style=\"\">IT Resources </span...  Gran Buenos Aires   \n",
       "\n",
       "      ciudad mapacalle tipo_de_trabajo         nivel_laboral  \\\n",
       "1650     NaN       NaN       Full-time  Senior / Semi-Senior   \n",
       "7609     NaN       NaN       Full-time  Senior / Semi-Senior   \n",
       "11551    NaN       NaN       Full-time  Senior / Semi-Senior   \n",
       "22139    NaN       NaN       Full-time  Senior / Semi-Senior   \n",
       "17949    NaN       NaN       Full-time  Senior / Semi-Senior   \n",
       "\n",
       "                         nombre_area        denominacion_empresa  \n",
       "1650           Tecnologia / Sistemas                    Aliantec  \n",
       "7609                     Facturación  Complement Group (holding)  \n",
       "11551  Tecnologías de la Información                       HuCap  \n",
       "22139                     Producción                     IN HAUS  \n",
       "17949          Tecnologia / Sistemas                IT Resources  "
      ]
     },
     "execution_count": 39,
     "metadata": {},
     "output_type": "execute_result"
    }
   ],
   "source": [
    "avisos_detalles = pd.read_csv('datos_navent_fiuba/h15_fiuba_6_avisos_detalle.csv')\n",
    "avisos_detalles_2 = pd.read_csv('datos_navent_fiuba/d15_fiuba_6_avisos_detalle.csv')\n",
    "\n",
    "avisos_detalles = pd.merge(avisos_detalles, avisos_detalles_2, how='outer')\n",
    "\n",
    "avisos_detalles_2 = pd.read_csv('datos_navent_fiuba/fiuba_6_avisos_detalle.csv')\n",
    "\n",
    "avisos_detalles = pd.merge(avisos_detalles, avisos_detalles_2, how='outer')\n",
    "\n",
    "avisos_detalles_2 = pd.read_csv('datos_navent_fiuba/fiuba_6_avisos_detalle_missing_nivel_laboral.csv')\n",
    "\n",
    "avisos_detalles = pd.merge(avisos_detalles, avisos_detalles_2, how='outer')\n",
    "\n",
    "avisos_detalles.sample(5)"
   ]
  },
  {
   "cell_type": "code",
   "execution_count": 40,
   "metadata": {},
   "outputs": [
    {
     "name": "stdout",
     "output_type": "stream",
     "text": [
      "<class 'pandas.core.frame.DataFrame'>\n",
      "Int64Index: 25901 entries, 0 to 25900\n",
      "Data columns (total 11 columns):\n",
      "idaviso                 25901 non-null int64\n",
      "idpais                  25901 non-null int64\n",
      "titulo                  25901 non-null object\n",
      "descripcion             25901 non-null object\n",
      "nombre_zona             25901 non-null object\n",
      "ciudad                  165 non-null object\n",
      "mapacalle               2125 non-null object\n",
      "tipo_de_trabajo         25901 non-null object\n",
      "nivel_laboral           25566 non-null object\n",
      "nombre_area             25901 non-null object\n",
      "denominacion_empresa    25894 non-null object\n",
      "dtypes: int64(2), object(9)\n",
      "memory usage: 2.4+ MB\n"
     ]
    }
   ],
   "source": [
    "avisos_detalles.info()"
   ]
  },
  {
   "cell_type": "markdown",
   "metadata": {},
   "source": [
    " "
   ]
  },
  {
   "cell_type": "markdown",
   "metadata": {},
   "source": [
    "Eliminamos los avisos duplicados"
   ]
  },
  {
   "cell_type": "code",
   "execution_count": 41,
   "metadata": {},
   "outputs": [],
   "source": [
    "avisos_detalles = avisos_detalles.drop_duplicates(['idaviso'])"
   ]
  },
  {
   "cell_type": "markdown",
   "metadata": {},
   "source": [
    "Eliminamos las columnas que consideramos no relevantes. Según la explicación aquí abajo, éstas seran 'idpais', 'ciudad', 'mapacalle', 'titulo' y 'denominacion_empresa'"
   ]
  },
  {
   "cell_type": "code",
   "execution_count": 42,
   "metadata": {},
   "outputs": [
    {
     "data": {
      "text/plain": [
       "1    25288\n",
       "Name: idpais, dtype: int64"
      ]
     },
     "execution_count": 42,
     "metadata": {},
     "output_type": "execute_result"
    }
   ],
   "source": [
    "# Analizamos la cantidad de 'idpais' posibles\n",
    "# Dado que hay un único idpais, eliminaremos esta columna.\n",
    "avisos_detalles['idpais'].value_counts()"
   ]
  },
  {
   "cell_type": "markdown",
   "metadata": {},
   "source": [
    " "
   ]
  },
  {
   "cell_type": "code",
   "execution_count": 43,
   "metadata": {},
   "outputs": [
    {
     "data": {
      "text/plain": [
       "True     25128\n",
       "False      160\n",
       "Name: ciudad, dtype: int64"
      ]
     },
     "execution_count": 43,
     "metadata": {},
     "output_type": "execute_result"
    }
   ],
   "source": [
    "# Analizamos la cantidad de valores nulos en 'ciudad'\n",
    "# Dado el gran porcentaje de valores nulos, eliminaremos la columna.\n",
    "avisos_detalles['ciudad'].isnull().value_counts()"
   ]
  },
  {
   "cell_type": "markdown",
   "metadata": {},
   "source": [
    " "
   ]
  },
  {
   "cell_type": "code",
   "execution_count": 44,
   "metadata": {},
   "outputs": [
    {
     "data": {
      "text/plain": [
       "True     23219\n",
       "False     2069\n",
       "Name: mapacalle, dtype: int64"
      ]
     },
     "execution_count": 44,
     "metadata": {},
     "output_type": "execute_result"
    }
   ],
   "source": [
    "# Analizamos la cantidad de valores nulos en 'mapacalle'\n",
    "# Dado el gran porcentaje de valores nulos, eliminaremos la columna.\n",
    "avisos_detalles['mapacalle'].isnull().value_counts()"
   ]
  },
  {
   "cell_type": "markdown",
   "metadata": {},
   "source": [
    " "
   ]
  },
  {
   "cell_type": "code",
   "execution_count": 45,
   "metadata": {},
   "outputs": [
    {
     "data": {
      "text/html": [
       "<div>\n",
       "<style scoped>\n",
       "    .dataframe tbody tr th:only-of-type {\n",
       "        vertical-align: middle;\n",
       "    }\n",
       "\n",
       "    .dataframe tbody tr th {\n",
       "        vertical-align: top;\n",
       "    }\n",
       "\n",
       "    .dataframe thead th {\n",
       "        text-align: right;\n",
       "    }\n",
       "</style>\n",
       "<table border=\"1\" class=\"dataframe\">\n",
       "  <thead>\n",
       "    <tr style=\"text-align: right;\">\n",
       "      <th></th>\n",
       "      <th>idaviso</th>\n",
       "      <th>descripcion</th>\n",
       "      <th>nombre_zona</th>\n",
       "      <th>tipo_de_trabajo</th>\n",
       "      <th>nivel_laboral</th>\n",
       "      <th>nombre_area</th>\n",
       "    </tr>\n",
       "  </thead>\n",
       "  <tbody>\n",
       "    <tr>\n",
       "      <th>25838</th>\n",
       "      <td>1112457694</td>\n",
       "      <td>&lt;p&gt;En &lt;strong&gt;Serh Consultores&lt;/strong&gt; buscam...</td>\n",
       "      <td>Capital Federal</td>\n",
       "      <td>Full-time</td>\n",
       "      <td>NaN</td>\n",
       "      <td>Atención al Cliente</td>\n",
       "    </tr>\n",
       "    <tr>\n",
       "      <th>25724</th>\n",
       "      <td>1112428059</td>\n",
       "      <td>&lt;p&gt;Venta de seguros&lt;/p&gt;&lt;p&gt;&lt;u&gt;Coordinador de Se...</td>\n",
       "      <td>Capital Federal</td>\n",
       "      <td>Full-time</td>\n",
       "      <td>NaN</td>\n",
       "      <td>Atención al Cliente</td>\n",
       "    </tr>\n",
       "    <tr>\n",
       "      <th>20113</th>\n",
       "      <td>1111293593</td>\n",
       "      <td>&lt;p style=\"\"&gt;Importante empresa con trayectoria...</td>\n",
       "      <td>Capital Federal</td>\n",
       "      <td>Full-time</td>\n",
       "      <td>Junior</td>\n",
       "      <td>Atención al Cliente</td>\n",
       "    </tr>\n",
       "    <tr>\n",
       "      <th>22044</th>\n",
       "      <td>1112492830</td>\n",
       "      <td>&lt;p&gt;&lt;strong&gt;Adecco Office&lt;/strong&gt; está especia...</td>\n",
       "      <td>Gran Buenos Aires</td>\n",
       "      <td>Full-time</td>\n",
       "      <td>Senior / Semi-Senior</td>\n",
       "      <td>Secretaria</td>\n",
       "    </tr>\n",
       "    <tr>\n",
       "      <th>24156</th>\n",
       "      <td>1111749806</td>\n",
       "      <td>&lt;p&gt;&lt;strong&gt;Adecco Industrial &lt;/strong&gt;está esp...</td>\n",
       "      <td>Gran Buenos Aires</td>\n",
       "      <td>Full-time</td>\n",
       "      <td>Junior</td>\n",
       "      <td>Mantenimiento</td>\n",
       "    </tr>\n",
       "  </tbody>\n",
       "</table>\n",
       "</div>"
      ],
      "text/plain": [
       "          idaviso                                        descripcion  \\\n",
       "25838  1112457694  <p>En <strong>Serh Consultores</strong> buscam...   \n",
       "25724  1112428059  <p>Venta de seguros</p><p><u>Coordinador de Se...   \n",
       "20113  1111293593  <p style=\"\">Importante empresa con trayectoria...   \n",
       "22044  1112492830  <p><strong>Adecco Office</strong> está especia...   \n",
       "24156  1111749806  <p><strong>Adecco Industrial </strong>está esp...   \n",
       "\n",
       "             nombre_zona tipo_de_trabajo         nivel_laboral  \\\n",
       "25838    Capital Federal       Full-time                   NaN   \n",
       "25724    Capital Federal       Full-time                   NaN   \n",
       "20113    Capital Federal       Full-time                Junior   \n",
       "22044  Gran Buenos Aires       Full-time  Senior / Semi-Senior   \n",
       "24156  Gran Buenos Aires       Full-time                Junior   \n",
       "\n",
       "               nombre_area  \n",
       "25838  Atención al Cliente  \n",
       "25724  Atención al Cliente  \n",
       "20113  Atención al Cliente  \n",
       "22044           Secretaria  \n",
       "24156        Mantenimiento  "
      ]
     },
     "execution_count": 45,
     "metadata": {},
     "output_type": "execute_result"
    }
   ],
   "source": [
    "# Eliminamos las columnas arriba mencionadas\n",
    "avisos_detalles.drop(columns={'idpais', 'ciudad', 'mapacalle', 'titulo', 'denominacion_empresa'}, axis=1, inplace=True)\n",
    "\n",
    "avisos_detalles.sample(5)"
   ]
  },
  {
   "cell_type": "markdown",
   "metadata": {},
   "source": [
    " "
   ]
  },
  {
   "cell_type": "markdown",
   "metadata": {},
   "source": [
    "Pasamos a valor numérico el nombre zona, según un orden jerárquico asignado por nosotros. Entendemos que Gran Buenos Aires lidera el orden jerárquico, considerando la gran cantidad de registros con los que cuenta. Luego lo siguen Capital Federal y Otros (todas las zonas restantes)"
   ]
  },
  {
   "cell_type": "code",
   "execution_count": 46,
   "metadata": {},
   "outputs": [
    {
     "data": {
      "text/plain": [
       "Gran Buenos Aires              23018\n",
       "Capital Federal                 2182\n",
       "Buenos Aires (fuera de GBA)       57\n",
       "GBA Oeste                         10\n",
       "La Plata                           4\n",
       "Mendoza                            3\n",
       "Ciudad de Mendoza                  3\n",
       "Cordoba                            2\n",
       "Rosario                            2\n",
       "Corrientes                         1\n",
       "Santa Cruz                         1\n",
       "San Juan                           1\n",
       "Santa Fe                           1\n",
       "Neuquen                            1\n",
       "Tucuman                            1\n",
       "Catamarca                          1\n",
       "Name: nombre_zona, dtype: int64"
      ]
     },
     "execution_count": 46,
     "metadata": {},
     "output_type": "execute_result"
    }
   ],
   "source": [
    "avisos_detalles['nombre_zona'].value_counts()"
   ]
  },
  {
   "cell_type": "code",
   "execution_count": 47,
   "metadata": {},
   "outputs": [],
   "source": [
    "avisos_detalles.loc[(avisos_detalles['nombre_zona'] == 'Gran Buenos Aires'),'nombre_zona'] = 3\n",
    "avisos_detalles.loc[(avisos_detalles['nombre_zona'] == 'Capital Federal'),'nombre_zona'] = 2\n",
    "avisos_detalles.loc[(avisos_detalles['nombre_zona'] == 'Buenos Aires (fuera de GBA)'),'nombre_zona'] = 1\n",
    "avisos_detalles.loc[(avisos_detalles['nombre_zona'] == 'GBA Oeste'),'nombre_zona'] = 1\n",
    "avisos_detalles.loc[(avisos_detalles['nombre_zona'] == 'La Plata'),'nombre_zona'] = 1\n",
    "avisos_detalles.loc[(avisos_detalles['nombre_zona'] == 'Ciudad de Mendoza'),'nombre_zona'] = 1\n",
    "avisos_detalles.loc[(avisos_detalles['nombre_zona'] == 'Mendoza'),'nombre_zona'] = 1\n",
    "avisos_detalles.loc[(avisos_detalles['nombre_zona'] == 'Catamarca'),'nombre_zona'] = 1\n",
    "avisos_detalles.loc[(avisos_detalles['nombre_zona'] == 'Rosario'),'nombre_zona'] = 1\n",
    "avisos_detalles.loc[(avisos_detalles['nombre_zona'] == 'Santa Cruz'),'nombre_zona'] = 1\n",
    "avisos_detalles.loc[(avisos_detalles['nombre_zona'] == 'San Juan'),'nombre_zona'] = 1\n",
    "avisos_detalles.loc[(avisos_detalles['nombre_zona'] == 'Cordoba'),'nombre_zona'] = 1\n",
    "avisos_detalles.loc[(avisos_detalles['nombre_zona'] == 'Tucuman'),'nombre_zona'] = 1\n",
    "avisos_detalles.loc[(avisos_detalles['nombre_zona'] == 'Neuquen'),'nombre_zona'] = 1\n",
    "avisos_detalles.loc[(avisos_detalles['nombre_zona'] == 'Santa Fe'),'nombre_zona'] = 1"
   ]
  },
  {
   "cell_type": "markdown",
   "metadata": {},
   "source": [
    "Pasamos a valor numérico el tipo de trabajo, según un orden jerárquico asignado por nosotros."
   ]
  },
  {
   "cell_type": "code",
   "execution_count": 48,
   "metadata": {},
   "outputs": [
    {
     "data": {
      "text/plain": [
       "Full-time          22831\n",
       "Part-time           1746\n",
       "Teletrabajo          248\n",
       "Por Horas            125\n",
       "Pasantia             119\n",
       "Temporario            96\n",
       "Por Contrato          88\n",
       "Fines de Semana       28\n",
       "Primer empleo          6\n",
       "Voluntario             1\n",
       "Name: tipo_de_trabajo, dtype: int64"
      ]
     },
     "execution_count": 48,
     "metadata": {},
     "output_type": "execute_result"
    }
   ],
   "source": [
    "avisos_detalles['tipo_de_trabajo'].value_counts()"
   ]
  },
  {
   "cell_type": "code",
   "execution_count": 49,
   "metadata": {},
   "outputs": [],
   "source": [
    "avisos_detalles.loc[(avisos_detalles['tipo_de_trabajo'] == 'Full-time'),'tipo_de_trabajo'] = 10\n",
    "avisos_detalles.loc[(avisos_detalles['tipo_de_trabajo'] == 'Part-time'),'tipo_de_trabajo'] = 9\n",
    "avisos_detalles.loc[(avisos_detalles['tipo_de_trabajo'] == 'Teletrabajo'),'tipo_de_trabajo'] = 8\n",
    "avisos_detalles.loc[(avisos_detalles['tipo_de_trabajo'] == 'Por Horas'),'tipo_de_trabajo'] = 7\n",
    "avisos_detalles.loc[(avisos_detalles['tipo_de_trabajo'] == 'Pasantia'),'tipo_de_trabajo'] = 6\n",
    "avisos_detalles.loc[(avisos_detalles['tipo_de_trabajo'] == 'Temporario'),'tipo_de_trabajo'] = 5\n",
    "avisos_detalles.loc[(avisos_detalles['tipo_de_trabajo'] == 'Por Contrato'),'tipo_de_trabajo'] = 4\n",
    "avisos_detalles.loc[(avisos_detalles['tipo_de_trabajo'] == 'Fines de Semana'),'tipo_de_trabajo'] = 3\n",
    "avisos_detalles.loc[(avisos_detalles['tipo_de_trabajo'] == 'Primer empleo'),'tipo_de_trabajo'] = 2\n",
    "avisos_detalles.loc[(avisos_detalles['tipo_de_trabajo'] == 'Voluntario'),'tipo_de_trabajo'] = 1"
   ]
  },
  {
   "cell_type": "markdown",
   "metadata": {},
   "source": [
    "Pasamos a valor numérico el nivel laboral, según un orden jerárquico asignado por nosotros."
   ]
  },
  {
   "cell_type": "code",
   "execution_count": 50,
   "metadata": {},
   "outputs": [
    {
     "data": {
      "text/plain": [
       "Senior / Semi-Senior                    16980\n",
       "Junior                                   4149\n",
       "Otro                                     1975\n",
       "Jefe / Supervisor / Responsable          1527\n",
       "Gerencia / Alta Gerencia / Dirección      322\n",
       "Name: nivel_laboral, dtype: int64"
      ]
     },
     "execution_count": 50,
     "metadata": {},
     "output_type": "execute_result"
    }
   ],
   "source": [
    "avisos_detalles['nivel_laboral'].value_counts()"
   ]
  },
  {
   "cell_type": "code",
   "execution_count": 51,
   "metadata": {},
   "outputs": [],
   "source": [
    "avisos_detalles.loc[(avisos_detalles['nivel_laboral'] == 'Gerencia / Alta Gerencia / Dirección'),'nivel_laboral'] = 5\n",
    "avisos_detalles.loc[(avisos_detalles['nivel_laboral'] == 'Jefe / Supervisor / Responsable'),'nivel_laboral'] = 4\n",
    "avisos_detalles.loc[(avisos_detalles['nivel_laboral'] == 'Senior / Semi-Senior'),'nivel_laboral'] = 3\n",
    "avisos_detalles.loc[(avisos_detalles['nivel_laboral'] == 'Junior'),'nivel_laboral'] = 2\n",
    "avisos_detalles.loc[(avisos_detalles['nivel_laboral'] == 'Otro'),'nivel_laboral'] = 1\n",
    "avisos_detalles.loc[(avisos_detalles['nivel_laboral'].isnull()),'nivel_laboral'] = 0"
   ]
  },
  {
   "cell_type": "code",
   "execution_count": 52,
   "metadata": {},
   "outputs": [
    {
     "data": {
      "text/html": [
       "<div>\n",
       "<style scoped>\n",
       "    .dataframe tbody tr th:only-of-type {\n",
       "        vertical-align: middle;\n",
       "    }\n",
       "\n",
       "    .dataframe tbody tr th {\n",
       "        vertical-align: top;\n",
       "    }\n",
       "\n",
       "    .dataframe thead th {\n",
       "        text-align: right;\n",
       "    }\n",
       "</style>\n",
       "<table border=\"1\" class=\"dataframe\">\n",
       "  <thead>\n",
       "    <tr style=\"text-align: right;\">\n",
       "      <th></th>\n",
       "      <th>idaviso</th>\n",
       "      <th>descripcion</th>\n",
       "      <th>nombre_zona</th>\n",
       "      <th>tipo_de_trabajo</th>\n",
       "      <th>nivel_laboral</th>\n",
       "      <th>nombre_area</th>\n",
       "    </tr>\n",
       "  </thead>\n",
       "  <tbody>\n",
       "    <tr>\n",
       "      <th>14061</th>\n",
       "      <td>1112458862</td>\n",
       "      <td>&lt;p&gt;Estamos en búsqueda de un &lt;strong&gt;ANALISTA ...</td>\n",
       "      <td>3</td>\n",
       "      <td>10</td>\n",
       "      <td>3</td>\n",
       "      <td>Finanzas</td>\n",
       "    </tr>\n",
       "    <tr>\n",
       "      <th>8122</th>\n",
       "      <td>1112372206</td>\n",
       "      <td>&lt;p&gt;Nos encontramos en la búsqueda de profesion...</td>\n",
       "      <td>3</td>\n",
       "      <td>10</td>\n",
       "      <td>3</td>\n",
       "      <td>Impuestos</td>\n",
       "    </tr>\n",
       "    <tr>\n",
       "      <th>5566</th>\n",
       "      <td>1112362172</td>\n",
       "      <td>&lt;p&gt;Importante empresa radicada en la ciudad de...</td>\n",
       "      <td>3</td>\n",
       "      <td>10</td>\n",
       "      <td>1</td>\n",
       "      <td>Almacén / Depósito / Expedición</td>\n",
       "    </tr>\n",
       "    <tr>\n",
       "      <th>12703</th>\n",
       "      <td>1112454341</td>\n",
       "      <td>&lt;p&gt;ADT Security Services, la empresa de seguri...</td>\n",
       "      <td>3</td>\n",
       "      <td>10</td>\n",
       "      <td>3</td>\n",
       "      <td>Comercial</td>\n",
       "    </tr>\n",
       "    <tr>\n",
       "      <th>1112</th>\n",
       "      <td>1112280752</td>\n",
       "      <td>&lt;p&gt; &lt;/p&gt;&lt;p&gt; &lt;strong&gt;Multinacional Automotriz  ...</td>\n",
       "      <td>3</td>\n",
       "      <td>9</td>\n",
       "      <td>2</td>\n",
       "      <td>Administración</td>\n",
       "    </tr>\n",
       "  </tbody>\n",
       "</table>\n",
       "</div>"
      ],
      "text/plain": [
       "          idaviso                                        descripcion  \\\n",
       "14061  1112458862  <p>Estamos en búsqueda de un <strong>ANALISTA ...   \n",
       "8122   1112372206  <p>Nos encontramos en la búsqueda de profesion...   \n",
       "5566   1112362172  <p>Importante empresa radicada en la ciudad de...   \n",
       "12703  1112454341  <p>ADT Security Services, la empresa de seguri...   \n",
       "1112   1112280752  <p> </p><p> <strong>Multinacional Automotriz  ...   \n",
       "\n",
       "      nombre_zona  tipo_de_trabajo  nivel_laboral  \\\n",
       "14061           3               10              3   \n",
       "8122            3               10              3   \n",
       "5566            3               10              1   \n",
       "12703           3               10              3   \n",
       "1112            3                9              2   \n",
       "\n",
       "                           nombre_area  \n",
       "14061                         Finanzas  \n",
       "8122                         Impuestos  \n",
       "5566   Almacén / Depósito / Expedición  \n",
       "12703                        Comercial  \n",
       "1112                    Administración  "
      ]
     },
     "execution_count": 52,
     "metadata": {},
     "output_type": "execute_result"
    }
   ],
   "source": [
    "avisos_detalles.sample(5)"
   ]
  },
  {
   "cell_type": "code",
   "execution_count": 53,
   "metadata": {},
   "outputs": [
    {
     "name": "stdout",
     "output_type": "stream",
     "text": [
      "<class 'pandas.core.frame.DataFrame'>\n",
      "Int64Index: 25288 entries, 0 to 25900\n",
      "Data columns (total 6 columns):\n",
      "idaviso            25288 non-null int64\n",
      "descripcion        25288 non-null object\n",
      "nombre_zona        25288 non-null object\n",
      "tipo_de_trabajo    25288 non-null int64\n",
      "nivel_laboral      25288 non-null int64\n",
      "nombre_area        25288 non-null object\n",
      "dtypes: int64(3), object(3)\n",
      "memory usage: 1.4+ MB\n"
     ]
    }
   ],
   "source": [
    "avisos_detalles.info()"
   ]
  },
  {
   "cell_type": "markdown",
   "metadata": {},
   "source": [
    " "
   ]
  },
  {
   "cell_type": "markdown",
   "metadata": {},
   "source": [
    "Liberamos memoria para mejorar la performance"
   ]
  },
  {
   "cell_type": "code",
   "execution_count": 54,
   "metadata": {},
   "outputs": [],
   "source": [
    "lista = 0\n",
    "fecha = 0\n",
    "postulaciones_2 = 0\n",
    "avisos_detalles_2 = 0\n",
    "postulantes_educ = 0\n",
    "postulantes_gen_nac = 0"
   ]
  },
  {
   "cell_type": "markdown",
   "metadata": {},
   "source": [
    "# Modelo Final"
   ]
  },
  {
   "cell_type": "markdown",
   "metadata": {},
   "source": [
    "A continuación, utilizaremos los dataframes que procesamos en la sección anterior para generar el modelo final que será utilizado como set de entrenamiento por los algoritmos de ML.\n",
    "\n",
    "Básicamente, utilizamos el dataframe de postulaciones para tener registros con postulaciones efectivas (sepostulo = 1). Luego, para generar postulaciones no efectivas (sepostulo = 0), tomamos todos los avisos para los cuales tenemos detalles y los intersectamos con una cantidad random prefijada de postulantes para los cuales tenemos información."
   ]
  },
  {
   "cell_type": "markdown",
   "metadata": {},
   "source": [
    " "
   ]
  },
  {
   "cell_type": "markdown",
   "metadata": {},
   "source": [
    "La siguiente función devuelve una cantidad random de ids de postulantes"
   ]
  },
  {
   "cell_type": "code",
   "execution_count": 55,
   "metadata": {},
   "outputs": [],
   "source": [
    "def devolver_n_ids(n_ids):\n",
    "    return np.array(postulantes['idpostulante'].sample(n_ids))"
   ]
  },
  {
   "cell_type": "markdown",
   "metadata": {},
   "source": [
    "Generamos una lista de tuplas (idaviso, idpostulante) con idpostulante random para todos los avisos. Luego, llevamos esto a un dataframe y agregamos la columna 'sepostulo_y', que nos será de gran utilidad al momento de mergearlo con el dataframe de postulaciones"
   ]
  },
  {
   "cell_type": "code",
   "execution_count": 56,
   "metadata": {},
   "outputs": [
    {
     "name": "stdout",
     "output_type": "stream",
     "text": [
      "Tiempo de ejecución: 303.11937618255615\n"
     ]
    }
   ],
   "source": [
    "t0 = time()\n",
    "\n",
    "ids_avisos = np.array(avisos_detalles['idaviso'])\n",
    "n_ids = 250\n",
    "\n",
    "lista_avisos_postulantes = []\n",
    "\n",
    "for idaviso in ids_avisos:\n",
    "    ids_postulantes = devolver_n_ids(n_ids)\n",
    "    for idpostulante in ids_postulantes:\n",
    "        tupla = (idaviso, idpostulante)\n",
    "        lista_avisos_postulantes.append(tupla)\n",
    "        \n",
    "tf = time() - t0\n",
    "print(\"Tiempo de ejecución:\", tf)"
   ]
  },
  {
   "cell_type": "code",
   "execution_count": 57,
   "metadata": {},
   "outputs": [
    {
     "data": {
      "text/html": [
       "<div>\n",
       "<style scoped>\n",
       "    .dataframe tbody tr th:only-of-type {\n",
       "        vertical-align: middle;\n",
       "    }\n",
       "\n",
       "    .dataframe tbody tr th {\n",
       "        vertical-align: top;\n",
       "    }\n",
       "\n",
       "    .dataframe thead th {\n",
       "        text-align: right;\n",
       "    }\n",
       "</style>\n",
       "<table border=\"1\" class=\"dataframe\">\n",
       "  <thead>\n",
       "    <tr style=\"text-align: right;\">\n",
       "      <th></th>\n",
       "      <th>idaviso</th>\n",
       "      <th>idpostulante</th>\n",
       "      <th>sepostulo_y</th>\n",
       "    </tr>\n",
       "  </thead>\n",
       "  <tbody>\n",
       "    <tr>\n",
       "      <th>0</th>\n",
       "      <td>1111556097</td>\n",
       "      <td>ZOKe31</td>\n",
       "      <td>0</td>\n",
       "    </tr>\n",
       "    <tr>\n",
       "      <th>1</th>\n",
       "      <td>1111556097</td>\n",
       "      <td>EBZZKz</td>\n",
       "      <td>0</td>\n",
       "    </tr>\n",
       "    <tr>\n",
       "      <th>2</th>\n",
       "      <td>1111556097</td>\n",
       "      <td>1QrAj3E</td>\n",
       "      <td>0</td>\n",
       "    </tr>\n",
       "    <tr>\n",
       "      <th>3</th>\n",
       "      <td>1111556097</td>\n",
       "      <td>8Ml4DRM</td>\n",
       "      <td>0</td>\n",
       "    </tr>\n",
       "    <tr>\n",
       "      <th>4</th>\n",
       "      <td>1111556097</td>\n",
       "      <td>QNaYDjW</td>\n",
       "      <td>0</td>\n",
       "    </tr>\n",
       "    <tr>\n",
       "      <th>5</th>\n",
       "      <td>1111556097</td>\n",
       "      <td>JBX2Xar</td>\n",
       "      <td>0</td>\n",
       "    </tr>\n",
       "    <tr>\n",
       "      <th>6</th>\n",
       "      <td>1111556097</td>\n",
       "      <td>1bVQ2E</td>\n",
       "      <td>0</td>\n",
       "    </tr>\n",
       "    <tr>\n",
       "      <th>7</th>\n",
       "      <td>1111556097</td>\n",
       "      <td>dY9DbLq</td>\n",
       "      <td>0</td>\n",
       "    </tr>\n",
       "    <tr>\n",
       "      <th>8</th>\n",
       "      <td>1111556097</td>\n",
       "      <td>PmGreaj</td>\n",
       "      <td>0</td>\n",
       "    </tr>\n",
       "    <tr>\n",
       "      <th>9</th>\n",
       "      <td>1111556097</td>\n",
       "      <td>ZrzRM8</td>\n",
       "      <td>0</td>\n",
       "    </tr>\n",
       "  </tbody>\n",
       "</table>\n",
       "</div>"
      ],
      "text/plain": [
       "      idaviso idpostulante  sepostulo_y\n",
       "0  1111556097       ZOKe31            0\n",
       "1  1111556097       EBZZKz            0\n",
       "2  1111556097      1QrAj3E            0\n",
       "3  1111556097      8Ml4DRM            0\n",
       "4  1111556097      QNaYDjW            0\n",
       "5  1111556097      JBX2Xar            0\n",
       "6  1111556097       1bVQ2E            0\n",
       "7  1111556097      dY9DbLq            0\n",
       "8  1111556097      PmGreaj            0\n",
       "9  1111556097       ZrzRM8            0"
      ]
     },
     "execution_count": 57,
     "metadata": {},
     "output_type": "execute_result"
    }
   ],
   "source": [
    "df_avisos_postulantes_all = pd.DataFrame(lista_avisos_postulantes, columns=['idaviso','idpostulante'])\n",
    "df_avisos_postulantes_all['sepostulo_y'] = 0\n",
    "\n",
    "df_avisos_postulantes_all.head(10)"
   ]
  },
  {
   "cell_type": "code",
   "execution_count": 58,
   "metadata": {},
   "outputs": [
    {
     "name": "stdout",
     "output_type": "stream",
     "text": [
      "<class 'pandas.core.frame.DataFrame'>\n",
      "RangeIndex: 6322000 entries, 0 to 6321999\n",
      "Data columns (total 3 columns):\n",
      "idaviso         int64\n",
      "idpostulante    object\n",
      "sepostulo_y     int64\n",
      "dtypes: int64(2), object(1)\n",
      "memory usage: 144.7+ MB\n"
     ]
    }
   ],
   "source": [
    "df_avisos_postulantes_all.info()"
   ]
  },
  {
   "cell_type": "markdown",
   "metadata": {},
   "source": [
    " "
   ]
  },
  {
   "cell_type": "markdown",
   "metadata": {},
   "source": [
    "Mergeamos el dataframe arriba obtenido con el de postulaciones. Se realiza un outer join para quedarnos con absolutamente todas las combinaciones de idaviso e idpostulante que generamos. Además, gracias a esto, tendremos valores 0 y 1 para la columna 'sepostulo'."
   ]
  },
  {
   "cell_type": "code",
   "execution_count": 59,
   "metadata": {},
   "outputs": [
    {
     "name": "stdout",
     "output_type": "stream",
     "text": [
      "Tiempo de ejecución: 9.947751998901367\n"
     ]
    },
    {
     "data": {
      "text/html": [
       "<div>\n",
       "<style scoped>\n",
       "    .dataframe tbody tr th:only-of-type {\n",
       "        vertical-align: middle;\n",
       "    }\n",
       "\n",
       "    .dataframe tbody tr th {\n",
       "        vertical-align: top;\n",
       "    }\n",
       "\n",
       "    .dataframe thead th {\n",
       "        text-align: right;\n",
       "    }\n",
       "</style>\n",
       "<table border=\"1\" class=\"dataframe\">\n",
       "  <thead>\n",
       "    <tr style=\"text-align: right;\">\n",
       "      <th></th>\n",
       "      <th>idaviso</th>\n",
       "      <th>idpostulante</th>\n",
       "      <th>sepostulo_y</th>\n",
       "      <th>sepostulo_x</th>\n",
       "    </tr>\n",
       "  </thead>\n",
       "  <tbody>\n",
       "    <tr>\n",
       "      <th>0</th>\n",
       "      <td>1111556097</td>\n",
       "      <td>ZOKe31</td>\n",
       "      <td>0.0</td>\n",
       "      <td>NaN</td>\n",
       "    </tr>\n",
       "    <tr>\n",
       "      <th>1</th>\n",
       "      <td>1111556097</td>\n",
       "      <td>EBZZKz</td>\n",
       "      <td>0.0</td>\n",
       "      <td>NaN</td>\n",
       "    </tr>\n",
       "    <tr>\n",
       "      <th>2</th>\n",
       "      <td>1111556097</td>\n",
       "      <td>1QrAj3E</td>\n",
       "      <td>0.0</td>\n",
       "      <td>NaN</td>\n",
       "    </tr>\n",
       "    <tr>\n",
       "      <th>3</th>\n",
       "      <td>1111556097</td>\n",
       "      <td>8Ml4DRM</td>\n",
       "      <td>0.0</td>\n",
       "      <td>NaN</td>\n",
       "    </tr>\n",
       "    <tr>\n",
       "      <th>4</th>\n",
       "      <td>1111556097</td>\n",
       "      <td>QNaYDjW</td>\n",
       "      <td>0.0</td>\n",
       "      <td>NaN</td>\n",
       "    </tr>\n",
       "  </tbody>\n",
       "</table>\n",
       "</div>"
      ],
      "text/plain": [
       "      idaviso idpostulante  sepostulo_y  sepostulo_x\n",
       "0  1111556097       ZOKe31          0.0          NaN\n",
       "1  1111556097       EBZZKz          0.0          NaN\n",
       "2  1111556097      1QrAj3E          0.0          NaN\n",
       "3  1111556097      8Ml4DRM          0.0          NaN\n",
       "4  1111556097      QNaYDjW          0.0          NaN"
      ]
     },
     "execution_count": 59,
     "metadata": {},
     "output_type": "execute_result"
    }
   ],
   "source": [
    "t0 = time()\n",
    "\n",
    "modelo = pd.merge(df_avisos_postulantes_all, postulaciones, on=['idaviso','idpostulante'], how='outer')\n",
    "\n",
    "tf = time() - t0\n",
    "print(\"Tiempo de ejecución:\", tf)\n",
    "\n",
    "modelo.head(5)"
   ]
  },
  {
   "cell_type": "markdown",
   "metadata": {},
   "source": [
    "Pasamos los valores nulos a cero, para poder realizar las operaciones necesarias"
   ]
  },
  {
   "cell_type": "code",
   "execution_count": 60,
   "metadata": {},
   "outputs": [
    {
     "data": {
      "text/html": [
       "<div>\n",
       "<style scoped>\n",
       "    .dataframe tbody tr th:only-of-type {\n",
       "        vertical-align: middle;\n",
       "    }\n",
       "\n",
       "    .dataframe tbody tr th {\n",
       "        vertical-align: top;\n",
       "    }\n",
       "\n",
       "    .dataframe thead th {\n",
       "        text-align: right;\n",
       "    }\n",
       "</style>\n",
       "<table border=\"1\" class=\"dataframe\">\n",
       "  <thead>\n",
       "    <tr style=\"text-align: right;\">\n",
       "      <th></th>\n",
       "      <th>idaviso</th>\n",
       "      <th>idpostulante</th>\n",
       "      <th>sepostulo_y</th>\n",
       "      <th>sepostulo_x</th>\n",
       "    </tr>\n",
       "  </thead>\n",
       "  <tbody>\n",
       "    <tr>\n",
       "      <th>0</th>\n",
       "      <td>1111556097</td>\n",
       "      <td>ZOKe31</td>\n",
       "      <td>0.0</td>\n",
       "      <td>0.0</td>\n",
       "    </tr>\n",
       "    <tr>\n",
       "      <th>1</th>\n",
       "      <td>1111556097</td>\n",
       "      <td>EBZZKz</td>\n",
       "      <td>0.0</td>\n",
       "      <td>0.0</td>\n",
       "    </tr>\n",
       "    <tr>\n",
       "      <th>2</th>\n",
       "      <td>1111556097</td>\n",
       "      <td>1QrAj3E</td>\n",
       "      <td>0.0</td>\n",
       "      <td>0.0</td>\n",
       "    </tr>\n",
       "    <tr>\n",
       "      <th>3</th>\n",
       "      <td>1111556097</td>\n",
       "      <td>8Ml4DRM</td>\n",
       "      <td>0.0</td>\n",
       "      <td>0.0</td>\n",
       "    </tr>\n",
       "    <tr>\n",
       "      <th>4</th>\n",
       "      <td>1111556097</td>\n",
       "      <td>QNaYDjW</td>\n",
       "      <td>0.0</td>\n",
       "      <td>0.0</td>\n",
       "    </tr>\n",
       "  </tbody>\n",
       "</table>\n",
       "</div>"
      ],
      "text/plain": [
       "      idaviso idpostulante  sepostulo_y  sepostulo_x\n",
       "0  1111556097       ZOKe31          0.0          0.0\n",
       "1  1111556097       EBZZKz          0.0          0.0\n",
       "2  1111556097      1QrAj3E          0.0          0.0\n",
       "3  1111556097      8Ml4DRM          0.0          0.0\n",
       "4  1111556097      QNaYDjW          0.0          0.0"
      ]
     },
     "execution_count": 60,
     "metadata": {},
     "output_type": "execute_result"
    }
   ],
   "source": [
    "modelo.loc[(modelo['sepostulo_x'].isnull()), 'sepostulo_x'] = 0\n",
    "modelo.loc[(modelo['sepostulo_y'].isnull()), 'sepostulo_y'] = 0\n",
    "\n",
    "modelo.head(5)"
   ]
  },
  {
   "cell_type": "code",
   "execution_count": 61,
   "metadata": {},
   "outputs": [
    {
     "name": "stdout",
     "output_type": "stream",
     "text": [
      "<class 'pandas.core.frame.DataFrame'>\n",
      "Int64Index: 12922474 entries, 0 to 12922473\n",
      "Data columns (total 4 columns):\n",
      "idaviso         int64\n",
      "idpostulante    object\n",
      "sepostulo_y     float64\n",
      "sepostulo_x     float64\n",
      "dtypes: float64(2), int64(1), object(1)\n",
      "memory usage: 493.0+ MB\n"
     ]
    }
   ],
   "source": [
    "modelo.info()"
   ]
  },
  {
   "cell_type": "markdown",
   "metadata": {},
   "source": [
    " "
   ]
  },
  {
   "cell_type": "markdown",
   "metadata": {},
   "source": [
    "Finalmente creamos la columna 'sepostulo'. Ésta surge de una suma lógica entre las columnas 'sepostulo_x' y 'sepostulo_y'."
   ]
  },
  {
   "cell_type": "code",
   "execution_count": 62,
   "metadata": {},
   "outputs": [
    {
     "data": {
      "text/html": [
       "<div>\n",
       "<style scoped>\n",
       "    .dataframe tbody tr th:only-of-type {\n",
       "        vertical-align: middle;\n",
       "    }\n",
       "\n",
       "    .dataframe tbody tr th {\n",
       "        vertical-align: top;\n",
       "    }\n",
       "\n",
       "    .dataframe thead th {\n",
       "        text-align: right;\n",
       "    }\n",
       "</style>\n",
       "<table border=\"1\" class=\"dataframe\">\n",
       "  <thead>\n",
       "    <tr style=\"text-align: right;\">\n",
       "      <th></th>\n",
       "      <th>idaviso</th>\n",
       "      <th>idpostulante</th>\n",
       "      <th>sepostulo</th>\n",
       "    </tr>\n",
       "  </thead>\n",
       "  <tbody>\n",
       "    <tr>\n",
       "      <th>0</th>\n",
       "      <td>1111556097</td>\n",
       "      <td>ZOKe31</td>\n",
       "      <td>0.0</td>\n",
       "    </tr>\n",
       "    <tr>\n",
       "      <th>1</th>\n",
       "      <td>1111556097</td>\n",
       "      <td>EBZZKz</td>\n",
       "      <td>0.0</td>\n",
       "    </tr>\n",
       "    <tr>\n",
       "      <th>2</th>\n",
       "      <td>1111556097</td>\n",
       "      <td>1QrAj3E</td>\n",
       "      <td>0.0</td>\n",
       "    </tr>\n",
       "    <tr>\n",
       "      <th>3</th>\n",
       "      <td>1111556097</td>\n",
       "      <td>8Ml4DRM</td>\n",
       "      <td>0.0</td>\n",
       "    </tr>\n",
       "    <tr>\n",
       "      <th>4</th>\n",
       "      <td>1111556097</td>\n",
       "      <td>QNaYDjW</td>\n",
       "      <td>0.0</td>\n",
       "    </tr>\n",
       "  </tbody>\n",
       "</table>\n",
       "</div>"
      ],
      "text/plain": [
       "      idaviso idpostulante  sepostulo\n",
       "0  1111556097       ZOKe31        0.0\n",
       "1  1111556097       EBZZKz        0.0\n",
       "2  1111556097      1QrAj3E        0.0\n",
       "3  1111556097      8Ml4DRM        0.0\n",
       "4  1111556097      QNaYDjW        0.0"
      ]
     },
     "execution_count": 62,
     "metadata": {},
     "output_type": "execute_result"
    }
   ],
   "source": [
    "modelo['sepostulo'] = modelo['sepostulo_x'] + modelo['sepostulo_y']\n",
    "modelo.drop(columns={'sepostulo_x','sepostulo_y'}, inplace=True)\n",
    "\n",
    "modelo.head(5)"
   ]
  },
  {
   "cell_type": "code",
   "execution_count": 63,
   "metadata": {},
   "outputs": [
    {
     "name": "stdout",
     "output_type": "stream",
     "text": [
      "<class 'pandas.core.frame.DataFrame'>\n",
      "Int64Index: 12922474 entries, 0 to 12922473\n",
      "Data columns (total 3 columns):\n",
      "idaviso         int64\n",
      "idpostulante    object\n",
      "sepostulo       float64\n",
      "dtypes: float64(1), int64(1), object(1)\n",
      "memory usage: 394.4+ MB\n"
     ]
    }
   ],
   "source": [
    "modelo.info()"
   ]
  },
  {
   "cell_type": "markdown",
   "metadata": {},
   "source": [
    " "
   ]
  },
  {
   "cell_type": "markdown",
   "metadata": {},
   "source": [
    "Como podemos ver, obtuvimos una cantidad muy pareja de postulaciones y no postulaciones"
   ]
  },
  {
   "cell_type": "code",
   "execution_count": 64,
   "metadata": {},
   "outputs": [
    {
     "data": {
      "text/plain": [
       "1.0    6603752\n",
       "0.0    6318722\n",
       "Name: sepostulo, dtype: int64"
      ]
     },
     "execution_count": 64,
     "metadata": {},
     "output_type": "execute_result"
    }
   ],
   "source": [
    "modelo['sepostulo'].value_counts()"
   ]
  },
  {
   "cell_type": "code",
   "execution_count": 68,
   "metadata": {
    "scrolled": true
   },
   "outputs": [
    {
     "name": "stdout",
     "output_type": "stream",
     "text": [
      "<class 'pandas.core.frame.DataFrame'>\n",
      "Int64Index: 12922474 entries, 0 to 12922473\n",
      "Data columns (total 3 columns):\n",
      "idaviso         object\n",
      "idpostulante    object\n",
      "sepostulo       float64\n",
      "dtypes: float64(1), object(2)\n",
      "memory usage: 394.4+ MB\n"
     ]
    }
   ],
   "source": [
    "avisos_detalles['idaviso'] = avisos_detalles['idaviso'].astype('object')\n",
    "modelo['idaviso'] = modelo['idaviso'].astype('object')\n",
    "modelo.info()"
   ]
  },
  {
   "cell_type": "markdown",
   "metadata": {},
   "source": [
    "### Merge del modelo final con los detalles de los avisos"
   ]
  },
  {
   "cell_type": "code",
   "execution_count": 69,
   "metadata": {},
   "outputs": [
    {
     "data": {
      "text/html": [
       "<div>\n",
       "<style scoped>\n",
       "    .dataframe tbody tr th:only-of-type {\n",
       "        vertical-align: middle;\n",
       "    }\n",
       "\n",
       "    .dataframe tbody tr th {\n",
       "        vertical-align: top;\n",
       "    }\n",
       "\n",
       "    .dataframe thead th {\n",
       "        text-align: right;\n",
       "    }\n",
       "</style>\n",
       "<table border=\"1\" class=\"dataframe\">\n",
       "  <thead>\n",
       "    <tr style=\"text-align: right;\">\n",
       "      <th></th>\n",
       "      <th>idaviso</th>\n",
       "      <th>idpostulante</th>\n",
       "      <th>sepostulo</th>\n",
       "      <th>descripcion</th>\n",
       "      <th>nombre_zona</th>\n",
       "      <th>tipo_de_trabajo</th>\n",
       "      <th>nivel_laboral</th>\n",
       "      <th>nombre_area</th>\n",
       "    </tr>\n",
       "  </thead>\n",
       "  <tbody>\n",
       "    <tr>\n",
       "      <th>0</th>\n",
       "      <td>1111556097</td>\n",
       "      <td>ZOKe31</td>\n",
       "      <td>0.0</td>\n",
       "      <td>&lt;p&gt;Buscamos un &lt;strong&gt;Responsable de Producto...</td>\n",
       "      <td>3</td>\n",
       "      <td>10</td>\n",
       "      <td>3</td>\n",
       "      <td>Desarrollo de Negocios</td>\n",
       "    </tr>\n",
       "    <tr>\n",
       "      <th>1</th>\n",
       "      <td>1111556097</td>\n",
       "      <td>EBZZKz</td>\n",
       "      <td>0.0</td>\n",
       "      <td>&lt;p&gt;Buscamos un &lt;strong&gt;Responsable de Producto...</td>\n",
       "      <td>3</td>\n",
       "      <td>10</td>\n",
       "      <td>3</td>\n",
       "      <td>Desarrollo de Negocios</td>\n",
       "    </tr>\n",
       "    <tr>\n",
       "      <th>2</th>\n",
       "      <td>1111556097</td>\n",
       "      <td>1QrAj3E</td>\n",
       "      <td>0.0</td>\n",
       "      <td>&lt;p&gt;Buscamos un &lt;strong&gt;Responsable de Producto...</td>\n",
       "      <td>3</td>\n",
       "      <td>10</td>\n",
       "      <td>3</td>\n",
       "      <td>Desarrollo de Negocios</td>\n",
       "    </tr>\n",
       "    <tr>\n",
       "      <th>3</th>\n",
       "      <td>1111556097</td>\n",
       "      <td>8Ml4DRM</td>\n",
       "      <td>0.0</td>\n",
       "      <td>&lt;p&gt;Buscamos un &lt;strong&gt;Responsable de Producto...</td>\n",
       "      <td>3</td>\n",
       "      <td>10</td>\n",
       "      <td>3</td>\n",
       "      <td>Desarrollo de Negocios</td>\n",
       "    </tr>\n",
       "  </tbody>\n",
       "</table>\n",
       "</div>"
      ],
      "text/plain": [
       "      idaviso idpostulante  sepostulo  \\\n",
       "0  1111556097       ZOKe31        0.0   \n",
       "1  1111556097       EBZZKz        0.0   \n",
       "2  1111556097      1QrAj3E        0.0   \n",
       "3  1111556097      8Ml4DRM        0.0   \n",
       "\n",
       "                                         descripcion nombre_zona  \\\n",
       "0  <p>Buscamos un <strong>Responsable de Producto...           3   \n",
       "1  <p>Buscamos un <strong>Responsable de Producto...           3   \n",
       "2  <p>Buscamos un <strong>Responsable de Producto...           3   \n",
       "3  <p>Buscamos un <strong>Responsable de Producto...           3   \n",
       "\n",
       "   tipo_de_trabajo  nivel_laboral             nombre_area  \n",
       "0               10              3  Desarrollo de Negocios  \n",
       "1               10              3  Desarrollo de Negocios  \n",
       "2               10              3  Desarrollo de Negocios  \n",
       "3               10              3  Desarrollo de Negocios  "
      ]
     },
     "execution_count": 69,
     "metadata": {},
     "output_type": "execute_result"
    }
   ],
   "source": [
    "modelo = pd.merge(modelo, avisos_detalles, on=['idaviso'], how='inner')\n",
    "modelo.head(4)"
   ]
  },
  {
   "cell_type": "code",
   "execution_count": 70,
   "metadata": {},
   "outputs": [
    {
     "name": "stdout",
     "output_type": "stream",
     "text": [
      "<class 'pandas.core.frame.DataFrame'>\n",
      "Int64Index: 12506651 entries, 0 to 12506650\n",
      "Data columns (total 8 columns):\n",
      "idaviso            object\n",
      "idpostulante       object\n",
      "sepostulo          float64\n",
      "descripcion        object\n",
      "nombre_zona        object\n",
      "tipo_de_trabajo    int64\n",
      "nivel_laboral      int64\n",
      "nombre_area        object\n",
      "dtypes: float64(1), int64(2), object(5)\n",
      "memory usage: 858.8+ MB\n"
     ]
    }
   ],
   "source": [
    "modelo.info()"
   ]
  },
  {
   "cell_type": "markdown",
   "metadata": {},
   "source": [
    " "
   ]
  },
  {
   "cell_type": "markdown",
   "metadata": {},
   "source": [
    "Verificamos que el merge fue satisfactorio y no cuenta con valores nulos"
   ]
  },
  {
   "cell_type": "code",
   "execution_count": 71,
   "metadata": {},
   "outputs": [
    {
     "data": {
      "text/plain": [
       "(True, True)"
      ]
     },
     "execution_count": 71,
     "metadata": {},
     "output_type": "execute_result"
    }
   ],
   "source": [
    "(modelo['tipo_de_trabajo'].isnull().sum() == 0 , modelo['nivel_laboral'].isnull().sum() == 0)"
   ]
  },
  {
   "cell_type": "markdown",
   "metadata": {},
   "source": [
    "### Merge del modelo final con la información de los postulantes"
   ]
  },
  {
   "cell_type": "code",
   "execution_count": 72,
   "metadata": {},
   "outputs": [
    {
     "data": {
      "text/html": [
       "<div>\n",
       "<style scoped>\n",
       "    .dataframe tbody tr th:only-of-type {\n",
       "        vertical-align: middle;\n",
       "    }\n",
       "\n",
       "    .dataframe tbody tr th {\n",
       "        vertical-align: top;\n",
       "    }\n",
       "\n",
       "    .dataframe thead th {\n",
       "        text-align: right;\n",
       "    }\n",
       "</style>\n",
       "<table border=\"1\" class=\"dataframe\">\n",
       "  <thead>\n",
       "    <tr style=\"text-align: right;\">\n",
       "      <th></th>\n",
       "      <th>idaviso</th>\n",
       "      <th>idpostulante</th>\n",
       "      <th>sepostulo</th>\n",
       "      <th>descripcion</th>\n",
       "      <th>nombre_zona</th>\n",
       "      <th>tipo_de_trabajo</th>\n",
       "      <th>nivel_laboral</th>\n",
       "      <th>nombre_area</th>\n",
       "      <th>estudios</th>\n",
       "      <th>esta_estudiando</th>\n",
       "      <th>sexo</th>\n",
       "      <th>rango_edad</th>\n",
       "    </tr>\n",
       "  </thead>\n",
       "  <tbody>\n",
       "    <tr>\n",
       "      <th>0</th>\n",
       "      <td>1111556097</td>\n",
       "      <td>ZOKe31</td>\n",
       "      <td>0.0</td>\n",
       "      <td>&lt;p&gt;Buscamos un &lt;strong&gt;Responsable de Producto...</td>\n",
       "      <td>3</td>\n",
       "      <td>10</td>\n",
       "      <td>3</td>\n",
       "      <td>Desarrollo de Negocios</td>\n",
       "      <td>3.0</td>\n",
       "      <td>1.0</td>\n",
       "      <td>1</td>\n",
       "      <td>4.0</td>\n",
       "    </tr>\n",
       "    <tr>\n",
       "      <th>1</th>\n",
       "      <td>1112017213</td>\n",
       "      <td>ZOKe31</td>\n",
       "      <td>0.0</td>\n",
       "      <td>&lt;p&gt;Cognizant se encuentra en la búsqueda de un...</td>\n",
       "      <td>3</td>\n",
       "      <td>10</td>\n",
       "      <td>3</td>\n",
       "      <td>Tecnologia / Sistemas</td>\n",
       "      <td>3.0</td>\n",
       "      <td>1.0</td>\n",
       "      <td>1</td>\n",
       "      <td>4.0</td>\n",
       "    </tr>\n",
       "    <tr>\n",
       "      <th>2</th>\n",
       "      <td>1112414508</td>\n",
       "      <td>ZOKe31</td>\n",
       "      <td>0.0</td>\n",
       "      <td>&lt;p&gt;Importante consultora se encuentra en la bú...</td>\n",
       "      <td>3</td>\n",
       "      <td>10</td>\n",
       "      <td>3</td>\n",
       "      <td>Ventas</td>\n",
       "      <td>3.0</td>\n",
       "      <td>1.0</td>\n",
       "      <td>1</td>\n",
       "      <td>4.0</td>\n",
       "    </tr>\n",
       "    <tr>\n",
       "      <th>3</th>\n",
       "      <td>1112415111</td>\n",
       "      <td>ZOKe31</td>\n",
       "      <td>1.0</td>\n",
       "      <td>&lt;p style=\"\"&gt;&lt;strong&gt;¿Tenes experiencia comerci...</td>\n",
       "      <td>3</td>\n",
       "      <td>10</td>\n",
       "      <td>3</td>\n",
       "      <td>Ventas</td>\n",
       "      <td>3.0</td>\n",
       "      <td>1.0</td>\n",
       "      <td>1</td>\n",
       "      <td>4.0</td>\n",
       "    </tr>\n",
       "  </tbody>\n",
       "</table>\n",
       "</div>"
      ],
      "text/plain": [
       "      idaviso idpostulante  sepostulo  \\\n",
       "0  1111556097       ZOKe31        0.0   \n",
       "1  1112017213       ZOKe31        0.0   \n",
       "2  1112414508       ZOKe31        0.0   \n",
       "3  1112415111       ZOKe31        1.0   \n",
       "\n",
       "                                         descripcion nombre_zona  \\\n",
       "0  <p>Buscamos un <strong>Responsable de Producto...           3   \n",
       "1  <p>Cognizant se encuentra en la búsqueda de un...           3   \n",
       "2  <p>Importante consultora se encuentra en la bú...           3   \n",
       "3  <p style=\"\"><strong>¿Tenes experiencia comerci...           3   \n",
       "\n",
       "   tipo_de_trabajo  nivel_laboral             nombre_area  estudios  \\\n",
       "0               10              3  Desarrollo de Negocios       3.0   \n",
       "1               10              3   Tecnologia / Sistemas       3.0   \n",
       "2               10              3                  Ventas       3.0   \n",
       "3               10              3                  Ventas       3.0   \n",
       "\n",
       "   esta_estudiando  sexo  rango_edad  \n",
       "0              1.0     1         4.0  \n",
       "1              1.0     1         4.0  \n",
       "2              1.0     1         4.0  \n",
       "3              1.0     1         4.0  "
      ]
     },
     "execution_count": 72,
     "metadata": {},
     "output_type": "execute_result"
    }
   ],
   "source": [
    "modelo = pd.merge(modelo, postulantes, on='idpostulante', how='inner')\n",
    "modelo.head(4)"
   ]
  },
  {
   "cell_type": "code",
   "execution_count": 73,
   "metadata": {},
   "outputs": [
    {
     "name": "stdout",
     "output_type": "stream",
     "text": [
      "<class 'pandas.core.frame.DataFrame'>\n",
      "Int64Index: 12252699 entries, 0 to 12252698\n",
      "Data columns (total 12 columns):\n",
      "idaviso            object\n",
      "idpostulante       object\n",
      "sepostulo          float64\n",
      "descripcion        object\n",
      "nombre_zona        object\n",
      "tipo_de_trabajo    int64\n",
      "nivel_laboral      int64\n",
      "nombre_area        object\n",
      "estudios           float64\n",
      "esta_estudiando    float64\n",
      "sexo               int64\n",
      "rango_edad         float64\n",
      "dtypes: float64(4), int64(3), object(5)\n",
      "memory usage: 1.2+ GB\n"
     ]
    }
   ],
   "source": [
    "modelo.info()"
   ]
  },
  {
   "cell_type": "markdown",
   "metadata": {},
   "source": [
    " "
   ]
  },
  {
   "cell_type": "markdown",
   "metadata": {},
   "source": [
    "Verificamos que el merge fue satisfactorio y no cuenta con valores nulos"
   ]
  },
  {
   "cell_type": "code",
   "execution_count": 74,
   "metadata": {
    "scrolled": true
   },
   "outputs": [
    {
     "data": {
      "text/plain": [
       "(True, True)"
      ]
     },
     "execution_count": 74,
     "metadata": {},
     "output_type": "execute_result"
    }
   ],
   "source": [
    "(modelo['estudios'].isnull().sum() == 0 , modelo['rango_edad'].isnull().sum() == 0)"
   ]
  },
  {
   "cell_type": "markdown",
   "metadata": {},
   "source": [
    "Liberamos memoria para mejorar la performance"
   ]
  },
  {
   "cell_type": "code",
   "execution_count": 75,
   "metadata": {},
   "outputs": [],
   "source": [
    "df_avisos_postulantes_all = 0\n",
    "postulantes = 0\n",
    "postulaciones = 0\n",
    "avisos_detalles = 0"
   ]
  },
  {
   "cell_type": "markdown",
   "metadata": {},
   "source": [
    "Analizamos la información del modelo final que será utilizado por los algoritmos de Machine Learning."
   ]
  },
  {
   "cell_type": "code",
   "execution_count": 76,
   "metadata": {},
   "outputs": [
    {
     "name": "stdout",
     "output_type": "stream",
     "text": [
      "<class 'pandas.core.frame.DataFrame'>\n",
      "Int64Index: 12252699 entries, 0 to 12252698\n",
      "Data columns (total 12 columns):\n",
      "idaviso            object\n",
      "idpostulante       object\n",
      "sepostulo          float64\n",
      "descripcion        object\n",
      "nombre_zona        object\n",
      "tipo_de_trabajo    int64\n",
      "nivel_laboral      int64\n",
      "nombre_area        object\n",
      "nivel_estudios     float64\n",
      "esta_estudiando    float64\n",
      "sexo               int64\n",
      "rango_edad         float64\n",
      "dtypes: float64(4), int64(3), object(5)\n",
      "memory usage: 1.2+ GB\n"
     ]
    }
   ],
   "source": [
    "modelo.rename(columns={'estudios':'nivel_estudios'},inplace=True)\n",
    "\n",
    "modelo.info()"
   ]
  },
  {
   "cell_type": "markdown",
   "metadata": {},
   "source": [
    " "
   ]
  },
  {
   "cell_type": "markdown",
   "metadata": {},
   "source": [
    "Analizamos la cantidad de postulaciones y no postulaciones con las que cuenta el modelo"
   ]
  },
  {
   "cell_type": "code",
   "execution_count": 77,
   "metadata": {},
   "outputs": [
    {
     "data": {
      "text/plain": [
       "0.0    6318722\n",
       "1.0    5933977\n",
       "Name: sepostulo, dtype: int64"
      ]
     },
     "execution_count": 77,
     "metadata": {},
     "output_type": "execute_result"
    }
   ],
   "source": [
    "modelo['sepostulo'].value_counts()"
   ]
  },
  {
   "cell_type": "markdown",
   "metadata": {},
   "source": [
    " "
   ]
  },
  {
   "cell_type": "markdown",
   "metadata": {},
   "source": [
    "Considerando la gran cantidad de registros que tiene el dataframe, decidimos tomar una porción aleatoria y equitativa de postulaciones y no postulaciones"
   ]
  },
  {
   "cell_type": "code",
   "execution_count": 78,
   "metadata": {},
   "outputs": [],
   "source": [
    "no = modelo['sepostulo'] == 0\n",
    "si = modelo['sepostulo'] == 1\n",
    "\n",
    "modelo_no = modelo[no]\n",
    "modelo_si = modelo[si]"
   ]
  },
  {
   "cell_type": "code",
   "execution_count": 79,
   "metadata": {},
   "outputs": [
    {
     "data": {
      "text/html": [
       "<div>\n",
       "<style scoped>\n",
       "    .dataframe tbody tr th:only-of-type {\n",
       "        vertical-align: middle;\n",
       "    }\n",
       "\n",
       "    .dataframe tbody tr th {\n",
       "        vertical-align: top;\n",
       "    }\n",
       "\n",
       "    .dataframe thead th {\n",
       "        text-align: right;\n",
       "    }\n",
       "</style>\n",
       "<table border=\"1\" class=\"dataframe\">\n",
       "  <thead>\n",
       "    <tr style=\"text-align: right;\">\n",
       "      <th></th>\n",
       "      <th>idaviso</th>\n",
       "      <th>idpostulante</th>\n",
       "      <th>sepostulo</th>\n",
       "      <th>descripcion</th>\n",
       "      <th>nombre_zona</th>\n",
       "      <th>tipo_de_trabajo</th>\n",
       "      <th>nivel_laboral</th>\n",
       "      <th>nombre_area</th>\n",
       "      <th>nivel_estudios</th>\n",
       "      <th>esta_estudiando</th>\n",
       "      <th>sexo</th>\n",
       "      <th>rango_edad</th>\n",
       "    </tr>\n",
       "  </thead>\n",
       "  <tbody>\n",
       "    <tr>\n",
       "      <th>5821316</th>\n",
       "      <td>1112452595</td>\n",
       "      <td>96XDVMY</td>\n",
       "      <td>1.0</td>\n",
       "      <td>&lt;p&gt;Netmart ., Somos una empresa con más de 5 a...</td>\n",
       "      <td>3</td>\n",
       "      <td>10</td>\n",
       "      <td>3</td>\n",
       "      <td>Ventas</td>\n",
       "      <td>3.0</td>\n",
       "      <td>0.0</td>\n",
       "      <td>2</td>\n",
       "      <td>3.0</td>\n",
       "    </tr>\n",
       "    <tr>\n",
       "      <th>6563093</th>\n",
       "      <td>1112437163</td>\n",
       "      <td>1QrxVOb</td>\n",
       "      <td>0.0</td>\n",
       "      <td>&lt;p&gt;Importante empresa de servicios se encuentr...</td>\n",
       "      <td>3</td>\n",
       "      <td>10</td>\n",
       "      <td>3</td>\n",
       "      <td>Administración</td>\n",
       "      <td>4.0</td>\n",
       "      <td>1.0</td>\n",
       "      <td>2</td>\n",
       "      <td>2.0</td>\n",
       "    </tr>\n",
       "    <tr>\n",
       "      <th>5892427</th>\n",
       "      <td>1112212678</td>\n",
       "      <td>mzdPLVO</td>\n",
       "      <td>1.0</td>\n",
       "      <td>&lt;p&gt;&lt;strong&gt;Adecco Office&lt;/strong&gt; está especia...</td>\n",
       "      <td>3</td>\n",
       "      <td>10</td>\n",
       "      <td>3</td>\n",
       "      <td>Abastecimiento</td>\n",
       "      <td>4.0</td>\n",
       "      <td>0.0</td>\n",
       "      <td>2</td>\n",
       "      <td>4.0</td>\n",
       "    </tr>\n",
       "    <tr>\n",
       "      <th>9611409</th>\n",
       "      <td>1111417889</td>\n",
       "      <td>NB25jz</td>\n",
       "      <td>0.0</td>\n",
       "      <td>&lt;p&gt;Importante empresa se encuentra en la búsqu...</td>\n",
       "      <td>3</td>\n",
       "      <td>10</td>\n",
       "      <td>3</td>\n",
       "      <td>Calidad</td>\n",
       "      <td>3.0</td>\n",
       "      <td>1.0</td>\n",
       "      <td>2</td>\n",
       "      <td>4.0</td>\n",
       "    </tr>\n",
       "    <tr>\n",
       "      <th>3860383</th>\n",
       "      <td>1112353973</td>\n",
       "      <td>qe26xVk</td>\n",
       "      <td>0.0</td>\n",
       "      <td>&lt;p&gt;&lt;span style=\"text-decoration: underline;\"&gt;&lt;...</td>\n",
       "      <td>3</td>\n",
       "      <td>10</td>\n",
       "      <td>2</td>\n",
       "      <td>Planeamiento</td>\n",
       "      <td>2.0</td>\n",
       "      <td>0.0</td>\n",
       "      <td>2</td>\n",
       "      <td>1.0</td>\n",
       "    </tr>\n",
       "  </tbody>\n",
       "</table>\n",
       "</div>"
      ],
      "text/plain": [
       "            idaviso idpostulante  sepostulo  \\\n",
       "5821316  1112452595      96XDVMY        1.0   \n",
       "6563093  1112437163      1QrxVOb        0.0   \n",
       "5892427  1112212678      mzdPLVO        1.0   \n",
       "9611409  1111417889       NB25jz        0.0   \n",
       "3860383  1112353973      qe26xVk        0.0   \n",
       "\n",
       "                                               descripcion nombre_zona  \\\n",
       "5821316  <p>Netmart ., Somos una empresa con más de 5 a...           3   \n",
       "6563093  <p>Importante empresa de servicios se encuentr...           3   \n",
       "5892427  <p><strong>Adecco Office</strong> está especia...           3   \n",
       "9611409  <p>Importante empresa se encuentra en la búsqu...           3   \n",
       "3860383  <p><span style=\"text-decoration: underline;\"><...           3   \n",
       "\n",
       "         tipo_de_trabajo  nivel_laboral     nombre_area  nivel_estudios  \\\n",
       "5821316               10              3          Ventas             3.0   \n",
       "6563093               10              3  Administración             4.0   \n",
       "5892427               10              3  Abastecimiento             4.0   \n",
       "9611409               10              3         Calidad             3.0   \n",
       "3860383               10              2    Planeamiento             2.0   \n",
       "\n",
       "         esta_estudiando  sexo  rango_edad  \n",
       "5821316              0.0     2         3.0  \n",
       "6563093              1.0     2         2.0  \n",
       "5892427              0.0     2         4.0  \n",
       "9611409              1.0     2         4.0  \n",
       "3860383              0.0     2         1.0  "
      ]
     },
     "execution_count": 79,
     "metadata": {},
     "output_type": "execute_result"
    }
   ],
   "source": [
    "n_samples = 500000\n",
    "\n",
    "modelo_no = modelo_no.sample(n_samples)\n",
    "modelo_si = modelo_si.sample(n_samples)\n",
    "\n",
    "modelo_final = pd.concat([modelo_no, modelo_si])\n",
    "\n",
    "modelo_final.sample(5)"
   ]
  },
  {
   "cell_type": "code",
   "execution_count": 80,
   "metadata": {},
   "outputs": [
    {
     "name": "stdout",
     "output_type": "stream",
     "text": [
      "<class 'pandas.core.frame.DataFrame'>\n",
      "Int64Index: 1000000 entries, 9830236 to 5981004\n",
      "Data columns (total 12 columns):\n",
      "idaviso            1000000 non-null object\n",
      "idpostulante       1000000 non-null object\n",
      "sepostulo          1000000 non-null float64\n",
      "descripcion        1000000 non-null object\n",
      "nombre_zona        1000000 non-null object\n",
      "tipo_de_trabajo    1000000 non-null int64\n",
      "nivel_laboral      1000000 non-null int64\n",
      "nombre_area        1000000 non-null object\n",
      "nivel_estudios     1000000 non-null float64\n",
      "esta_estudiando    1000000 non-null float64\n",
      "sexo               1000000 non-null int64\n",
      "rango_edad         1000000 non-null float64\n",
      "dtypes: float64(4), int64(3), object(5)\n",
      "memory usage: 99.2+ MB\n"
     ]
    }
   ],
   "source": [
    "modelo_final.info()"
   ]
  },
  {
   "cell_type": "markdown",
   "metadata": {},
   "source": [
    " "
   ]
  },
  {
   "cell_type": "markdown",
   "metadata": {},
   "source": [
    "Liberamos memoria para mejorar la performance"
   ]
  },
  {
   "cell_type": "code",
   "execution_count": 81,
   "metadata": {},
   "outputs": [],
   "source": [
    "modelo_no = 0\n",
    "modelo_si = 0"
   ]
  },
  {
   "cell_type": "markdown",
   "metadata": {},
   "source": [
    "Reordenamos las columnas para facilitar el manejo del dataframe cuando apliquemos los algoritmos de ML"
   ]
  },
  {
   "cell_type": "code",
   "execution_count": 83,
   "metadata": {},
   "outputs": [
    {
     "data": {
      "text/html": [
       "<div>\n",
       "<style scoped>\n",
       "    .dataframe tbody tr th:only-of-type {\n",
       "        vertical-align: middle;\n",
       "    }\n",
       "\n",
       "    .dataframe tbody tr th {\n",
       "        vertical-align: top;\n",
       "    }\n",
       "\n",
       "    .dataframe thead th {\n",
       "        text-align: right;\n",
       "    }\n",
       "</style>\n",
       "<table border=\"1\" class=\"dataframe\">\n",
       "  <thead>\n",
       "    <tr style=\"text-align: right;\">\n",
       "      <th></th>\n",
       "      <th>idaviso</th>\n",
       "      <th>idpostulante</th>\n",
       "      <th>rango_edad</th>\n",
       "      <th>sexo</th>\n",
       "      <th>nivel_estudios</th>\n",
       "      <th>esta_estudiando</th>\n",
       "      <th>descripcion</th>\n",
       "      <th>tipo_de_trabajo</th>\n",
       "      <th>nivel_laboral</th>\n",
       "      <th>nombre_zona</th>\n",
       "      <th>nombre_area</th>\n",
       "      <th>sepostulo</th>\n",
       "    </tr>\n",
       "  </thead>\n",
       "  <tbody>\n",
       "    <tr>\n",
       "      <th>7674663</th>\n",
       "      <td>1112442348</td>\n",
       "      <td>YjrpVzP</td>\n",
       "      <td>1.0</td>\n",
       "      <td>1</td>\n",
       "      <td>3.0</td>\n",
       "      <td>0.0</td>\n",
       "      <td>&lt;p style=\"\"&gt;Empresa multinacional de Servicios...</td>\n",
       "      <td>9</td>\n",
       "      <td>3</td>\n",
       "      <td>3</td>\n",
       "      <td>Atención al Cliente</td>\n",
       "      <td>1.0</td>\n",
       "    </tr>\n",
       "    <tr>\n",
       "      <th>268447</th>\n",
       "      <td>1112363604</td>\n",
       "      <td>2zP1zZa</td>\n",
       "      <td>1.0</td>\n",
       "      <td>1</td>\n",
       "      <td>2.0</td>\n",
       "      <td>1.0</td>\n",
       "      <td>&lt;p&gt;GANÁ SIN MANEJAR ! ACTIVIDAD INDEPENDIENTE&lt;...</td>\n",
       "      <td>8</td>\n",
       "      <td>3</td>\n",
       "      <td>3</td>\n",
       "      <td>Ventas</td>\n",
       "      <td>1.0</td>\n",
       "    </tr>\n",
       "    <tr>\n",
       "      <th>8029057</th>\n",
       "      <td>1112455267</td>\n",
       "      <td>VNrER0R</td>\n",
       "      <td>1.0</td>\n",
       "      <td>1</td>\n",
       "      <td>3.0</td>\n",
       "      <td>1.0</td>\n",
       "      <td>&lt;p&gt;Somos una compañía multinacional líder en s...</td>\n",
       "      <td>10</td>\n",
       "      <td>3</td>\n",
       "      <td>3</td>\n",
       "      <td>Tecnologia / Sistemas</td>\n",
       "      <td>0.0</td>\n",
       "    </tr>\n",
       "    <tr>\n",
       "      <th>9836850</th>\n",
       "      <td>1112326604</td>\n",
       "      <td>0zrR9AM</td>\n",
       "      <td>1.0</td>\n",
       "      <td>1</td>\n",
       "      <td>3.0</td>\n",
       "      <td>1.0</td>\n",
       "      <td>&lt;p&gt;Grupo empresario con cobertura nacional y o...</td>\n",
       "      <td>10</td>\n",
       "      <td>3</td>\n",
       "      <td>3</td>\n",
       "      <td>Administración</td>\n",
       "      <td>0.0</td>\n",
       "    </tr>\n",
       "    <tr>\n",
       "      <th>11177802</th>\n",
       "      <td>1112309768</td>\n",
       "      <td>ZX8QPV</td>\n",
       "      <td>3.0</td>\n",
       "      <td>1</td>\n",
       "      <td>4.0</td>\n",
       "      <td>1.0</td>\n",
       "      <td>&lt;p&gt;&lt;span style=\"\"&gt;Recepcionista - Telefonista ...</td>\n",
       "      <td>5</td>\n",
       "      <td>3</td>\n",
       "      <td>3</td>\n",
       "      <td>Recepcionista</td>\n",
       "      <td>0.0</td>\n",
       "    </tr>\n",
       "  </tbody>\n",
       "</table>\n",
       "</div>"
      ],
      "text/plain": [
       "             idaviso idpostulante  rango_edad  sexo  nivel_estudios  \\\n",
       "7674663   1112442348      YjrpVzP         1.0     1             3.0   \n",
       "268447    1112363604      2zP1zZa         1.0     1             2.0   \n",
       "8029057   1112455267      VNrER0R         1.0     1             3.0   \n",
       "9836850   1112326604      0zrR9AM         1.0     1             3.0   \n",
       "11177802  1112309768       ZX8QPV         3.0     1             4.0   \n",
       "\n",
       "          esta_estudiando                                        descripcion  \\\n",
       "7674663               0.0  <p style=\"\">Empresa multinacional de Servicios...   \n",
       "268447                1.0  <p>GANÁ SIN MANEJAR ! ACTIVIDAD INDEPENDIENTE<...   \n",
       "8029057               1.0  <p>Somos una compañía multinacional líder en s...   \n",
       "9836850               1.0  <p>Grupo empresario con cobertura nacional y o...   \n",
       "11177802              1.0  <p><span style=\"\">Recepcionista - Telefonista ...   \n",
       "\n",
       "          tipo_de_trabajo  nivel_laboral nombre_zona            nombre_area  \\\n",
       "7674663                 9              3           3    Atención al Cliente   \n",
       "268447                  8              3           3                 Ventas   \n",
       "8029057                10              3           3  Tecnologia / Sistemas   \n",
       "9836850                10              3           3         Administración   \n",
       "11177802                5              3           3          Recepcionista   \n",
       "\n",
       "          sepostulo  \n",
       "7674663         1.0  \n",
       "268447          1.0  \n",
       "8029057         0.0  \n",
       "9836850         0.0  \n",
       "11177802        0.0  "
      ]
     },
     "execution_count": 83,
     "metadata": {},
     "output_type": "execute_result"
    }
   ],
   "source": [
    "modelo_final = modelo_final[['idaviso','idpostulante','rango_edad','sexo',\\\n",
    "                             'nivel_estudios','esta_estudiando','descripcion','tipo_de_trabajo',\\\n",
    "                             'nivel_laboral','nombre_zona','nombre_area','sepostulo']]\n",
    "\n",
    "modelo_final.sample(5)"
   ]
  },
  {
   "cell_type": "markdown",
   "metadata": {},
   "source": [
    " "
   ]
  },
  {
   "cell_type": "markdown",
   "metadata": {},
   "source": [
    "Transformamos las variables categóricas del tipo entero, objeto o flotante a categóricas propiamente dichas. Esto mejora la performance notablemente."
   ]
  },
  {
   "cell_type": "code",
   "execution_count": 84,
   "metadata": {},
   "outputs": [],
   "source": [
    "modelo_final['rango_edad'] = modelo_final['rango_edad'].astype('category')\n",
    "modelo_final['sexo'] = modelo_final['sexo'].astype('category') \n",
    "modelo_final['nivel_estudios'] = modelo_final['nivel_estudios'].astype('category')\n",
    "modelo_final['esta_estudiando'] = modelo_final['esta_estudiando'].astype('category')\n",
    "modelo_final['tipo_de_trabajo'] = modelo_final['tipo_de_trabajo'].astype('category')\n",
    "modelo_final['nivel_laboral'] = modelo_final['nivel_laboral'].astype('category')\n",
    "modelo_final['nombre_zona'] = modelo_final['nombre_zona'].astype('category')\n",
    "modelo_final['sepostulo'] = modelo_final['sepostulo'].astype('category')"
   ]
  },
  {
   "cell_type": "code",
   "execution_count": 85,
   "metadata": {},
   "outputs": [
    {
     "name": "stdout",
     "output_type": "stream",
     "text": [
      "<class 'pandas.core.frame.DataFrame'>\n",
      "Int64Index: 1000000 entries, 9830236 to 5981004\n",
      "Data columns (total 12 columns):\n",
      "idaviso            1000000 non-null object\n",
      "idpostulante       1000000 non-null object\n",
      "rango_edad         1000000 non-null category\n",
      "sexo               1000000 non-null category\n",
      "nivel_estudios     1000000 non-null category\n",
      "esta_estudiando    1000000 non-null category\n",
      "descripcion        1000000 non-null object\n",
      "tipo_de_trabajo    1000000 non-null category\n",
      "nivel_laboral      1000000 non-null category\n",
      "nombre_zona        1000000 non-null category\n",
      "nombre_area        1000000 non-null object\n",
      "sepostulo          1000000 non-null category\n",
      "dtypes: category(8), object(4)\n",
      "memory usage: 45.8+ MB\n"
     ]
    }
   ],
   "source": [
    "modelo_final.info()"
   ]
  },
  {
   "cell_type": "markdown",
   "metadata": {},
   "source": [
    " "
   ]
  },
  {
   "cell_type": "markdown",
   "metadata": {},
   "source": [
    "Exportamos el modelo final a un CSV file, para desentendernos de todas las operaciones costosas de dataframes a partir de este punto, y poder tener el set de entrenamiento ya listo para los algoritmos de Machine Learning."
   ]
  },
  {
   "cell_type": "code",
   "execution_count": 86,
   "metadata": {},
   "outputs": [],
   "source": [
    "modelo_final.to_csv(\"modelo_final.csv\", encoding = \"utf-8\", index = False)"
   ]
  }
 ],
 "metadata": {
  "kernelspec": {
   "display_name": "Python 3",
   "language": "python",
   "name": "python3"
  },
  "language_info": {
   "codemirror_mode": {
    "name": "ipython",
    "version": 3
   },
   "file_extension": ".py",
   "mimetype": "text/x-python",
   "name": "python",
   "nbconvert_exporter": "python",
   "pygments_lexer": "ipython3",
   "version": "3.6.5"
  }
 },
 "nbformat": 4,
 "nbformat_minor": 2
}
