{
 "cells": [
  {
   "cell_type": "code",
   "execution_count": 1,
   "metadata": {},
   "outputs": [],
   "source": [
    "import pandas as pd\n",
    "import numpy as np\n",
    "import re\n",
    "from bs4 import BeautifulSoup\n",
    "\n",
    "\n",
    "from sklearn.feature_extraction.text import CountVectorizer\n",
    "from sklearn.feature_extraction.text import TfidfVectorizer\n",
    "from sklearn.feature_selection import SelectPercentile, f_classif\n",
    "from sklearn.model_selection import train_test_split\n",
    "\n",
    "\n",
    "from unicodedata import normalize"
   ]
  },
  {
   "cell_type": "code",
   "execution_count": 2,
   "metadata": {},
   "outputs": [
    {
     "name": "stderr",
     "output_type": "stream",
     "text": [
      "/home/mariano/ENTER/lib/python3.6/site-packages/IPython/core/interactiveshell.py:2785: DtypeWarning: Columns (9) have mixed types. Specify dtype option on import or set low_memory=False.\n",
      "  interactivity=interactivity, compiler=compiler, result=result)\n"
     ]
    },
    {
     "data": {
      "text/plain": [
       "Index(['idaviso', 'idpostulante', 'rango_edad', 'sexo', 'nivel_estudios',\n",
       "       'esta_estudiando', 'descripcion', 'tipo_de_trabajo', 'nivel_laboral',\n",
       "       'nombre_zona', 'nombre_area', 'sepostulo'],\n",
       "      dtype='object')"
      ]
     },
     "execution_count": 2,
     "metadata": {},
     "output_type": "execute_result"
    }
   ],
   "source": [
    "modelo = pd.read_csv('modelo_final.csv')\n",
    "modelo.columns"
   ]
  },
  {
   "cell_type": "code",
   "execution_count": 3,
   "metadata": {},
   "outputs": [],
   "source": [
    "avisos_detalle_txt = modelo[['idaviso','descripcion']]"
   ]
  },
  {
   "cell_type": "code",
   "execution_count": 4,
   "metadata": {},
   "outputs": [
    {
     "data": {
      "text/html": [
       "<div>\n",
       "<style scoped>\n",
       "    .dataframe tbody tr th:only-of-type {\n",
       "        vertical-align: middle;\n",
       "    }\n",
       "\n",
       "    .dataframe tbody tr th {\n",
       "        vertical-align: top;\n",
       "    }\n",
       "\n",
       "    .dataframe thead th {\n",
       "        text-align: right;\n",
       "    }\n",
       "</style>\n",
       "<table border=\"1\" class=\"dataframe\">\n",
       "  <thead>\n",
       "    <tr style=\"text-align: right;\">\n",
       "      <th></th>\n",
       "      <th>idaviso</th>\n",
       "      <th>descripcion</th>\n",
       "    </tr>\n",
       "  </thead>\n",
       "  <tbody>\n",
       "    <tr>\n",
       "      <th>761550</th>\n",
       "      <td>1112325200</td>\n",
       "      <td>&lt;p&gt;&lt;span style=\"\"&gt;Incorporamos jóvenes con exp...</td>\n",
       "    </tr>\n",
       "    <tr>\n",
       "      <th>688349</th>\n",
       "      <td>1112349943</td>\n",
       "      <td>&lt;p&gt;&lt;strong&gt;Importante empresa de la Zona de Ca...</td>\n",
       "    </tr>\n",
       "    <tr>\n",
       "      <th>362550</th>\n",
       "      <td>1112480684</td>\n",
       "      <td>&lt;p&gt;Desarrollador &lt;strong&gt;SQL / PL-SQL Ssr&lt;/str...</td>\n",
       "    </tr>\n",
       "    <tr>\n",
       "      <th>139971</th>\n",
       "      <td>1112349092</td>\n",
       "      <td>&lt;p&gt;Seleccionamos un Sr. Sys. Admin. para impor...</td>\n",
       "    </tr>\n",
       "    <tr>\n",
       "      <th>846251</th>\n",
       "      <td>1112292851</td>\n",
       "      <td>&lt;p&gt;Nos orientamos a personas con capacidad par...</td>\n",
       "    </tr>\n",
       "    <tr>\n",
       "      <th>414405</th>\n",
       "      <td>1112404144</td>\n",
       "      <td>&lt;p&gt;Nuestro cliente, compañía de indumentaria c...</td>\n",
       "    </tr>\n",
       "    <tr>\n",
       "      <th>701354</th>\n",
       "      <td>1112393056</td>\n",
       "      <td>&lt;p&gt;Nos encontramos en la búsqueda de vendedore...</td>\n",
       "    </tr>\n",
       "    <tr>\n",
       "      <th>421964</th>\n",
       "      <td>1112387021</td>\n",
       "      <td>&lt;p style=\"\"&gt;&lt;strong&gt;&lt;span style=\"\"&gt;Adecco Offi...</td>\n",
       "    </tr>\n",
       "    <tr>\n",
       "      <th>191476</th>\n",
       "      <td>1112242390</td>\n",
       "      <td>&lt;p&gt;VICTOR GULLO SRL -  EMPRESA DE MATERIALES P...</td>\n",
       "    </tr>\n",
       "    <tr>\n",
       "      <th>957293</th>\n",
       "      <td>1112326501</td>\n",
       "      <td>&lt;p&gt;&lt;strong&gt;Requisitos mínimos&lt;/strong&gt;&lt;/p&gt;&lt;p&gt;B...</td>\n",
       "    </tr>\n",
       "    <tr>\n",
       "      <th>581896</th>\n",
       "      <td>1112232456</td>\n",
       "      <td>&lt;p&gt;Actualmente nos encontramos en la búsqueda ...</td>\n",
       "    </tr>\n",
       "    <tr>\n",
       "      <th>940145</th>\n",
       "      <td>1112366909</td>\n",
       "      <td>&lt;p&gt;Nos encontramos en la búsqueda de &lt;strong&gt;R...</td>\n",
       "    </tr>\n",
       "    <tr>\n",
       "      <th>370224</th>\n",
       "      <td>1111869979</td>\n",
       "      <td>&lt;p&gt;&lt;span style=\"\"&gt;Empresa Financiera Nacional ...</td>\n",
       "    </tr>\n",
       "    <tr>\n",
       "      <th>974155</th>\n",
       "      <td>1112368419</td>\n",
       "      <td>&lt;p&gt;Importante Hipermercado ubicado en la Zona ...</td>\n",
       "    </tr>\n",
       "    <tr>\n",
       "      <th>629381</th>\n",
       "      <td>1112316988</td>\n",
       "      <td>&lt;p&gt;En Adecco Argentina nos encontramos en la b...</td>\n",
       "    </tr>\n",
       "    <tr>\n",
       "      <th>713839</th>\n",
       "      <td>1112381105</td>\n",
       "      <td>&lt;p&gt;¿Buscas un trabajo de 6 horas? ¿Queres trab...</td>\n",
       "    </tr>\n",
       "    <tr>\n",
       "      <th>335924</th>\n",
       "      <td>1112408949</td>\n",
       "      <td>&lt;p&gt;M Y P, importante empresa de telecomunicaci...</td>\n",
       "    </tr>\n",
       "    <tr>\n",
       "      <th>766567</th>\n",
       "      <td>1112419972</td>\n",
       "      <td>&lt;p style=\"\"&gt;Para importante empresa multinacio...</td>\n",
       "    </tr>\n",
       "    <tr>\n",
       "      <th>726671</th>\n",
       "      <td>1112363711</td>\n",
       "      <td>&lt;p&gt;Nos encontramos en la busqueda se cajeros  ...</td>\n",
       "    </tr>\n",
       "    <tr>\n",
       "      <th>940154</th>\n",
       "      <td>1112345591</td>\n",
       "      <td>&lt;p&gt;&lt;strong&gt;Solutix&lt;/strong&gt; selecciona&lt;strong&gt;...</td>\n",
       "    </tr>\n",
       "    <tr>\n",
       "      <th>171400</th>\n",
       "      <td>1111511317</td>\n",
       "      <td>&lt;p&gt;&lt;strong&gt;&lt;span style=\"\"&gt;La búsqueda se orien...</td>\n",
       "    </tr>\n",
       "    <tr>\n",
       "      <th>306621</th>\n",
       "      <td>1112359331</td>\n",
       "      <td>&lt;p style=\"\"&gt;Para importante local de decoració...</td>\n",
       "    </tr>\n",
       "    <tr>\n",
       "      <th>361540</th>\n",
       "      <td>1112320432</td>\n",
       "      <td>&lt;p&gt;Importante Grupo Concesionario incorporará ...</td>\n",
       "    </tr>\n",
       "    <tr>\n",
       "      <th>741709</th>\n",
       "      <td>1112302772</td>\n",
       "      <td>&lt;p&gt;Si querés sumarte a un equipo talentoso, lí...</td>\n",
       "    </tr>\n",
       "    <tr>\n",
       "      <th>630995</th>\n",
       "      <td>1112281364</td>\n",
       "      <td>&lt;p&gt;&lt;strong&gt;Adecco Office&lt;/strong&gt; está especia...</td>\n",
       "    </tr>\n",
       "    <tr>\n",
       "      <th>895574</th>\n",
       "      <td>1112325647</td>\n",
       "      <td>&lt;p style=\"\"&gt;n &lt;strong&gt;Adecco Tecnología&lt;/stron...</td>\n",
       "    </tr>\n",
       "    <tr>\n",
       "      <th>53093</th>\n",
       "      <td>1112500539</td>\n",
       "      <td>&lt;p&gt;Importante empresa de servicios, Selecciona...</td>\n",
       "    </tr>\n",
       "    <tr>\n",
       "      <th>188423</th>\n",
       "      <td>1112306044</td>\n",
       "      <td>&lt;p style=\"\"&gt;&lt;strong&gt;Adecco Office&lt;/strong&gt; est...</td>\n",
       "    </tr>\n",
       "    <tr>\n",
       "      <th>865843</th>\n",
       "      <td>1112252491</td>\n",
       "      <td>&lt;p&gt;&lt;em&gt;Importante empresa que realiza Fabricac...</td>\n",
       "    </tr>\n",
       "    <tr>\n",
       "      <th>46297</th>\n",
       "      <td>1112238836</td>\n",
       "      <td>&lt;p style=\"\"&gt;&lt;strong&gt;&lt;span style=\"\"&gt;IT Resource...</td>\n",
       "    </tr>\n",
       "    <tr>\n",
       "      <th>935230</th>\n",
       "      <td>1112200612</td>\n",
       "      <td>&lt;p&gt;Obra Social Unión Personal se encuentra en ...</td>\n",
       "    </tr>\n",
       "    <tr>\n",
       "      <th>352137</th>\n",
       "      <td>1112262029</td>\n",
       "      <td>&lt;p&gt;Somos una empresa joven con pasión. Nuestro...</td>\n",
       "    </tr>\n",
       "    <tr>\n",
       "      <th>690920</th>\n",
       "      <td>1112319451</td>\n",
       "      <td>&lt;p&gt;&lt;strong&gt;¡En FRÁVEGA tenemos nuevas OPORTUNI...</td>\n",
       "    </tr>\n",
       "    <tr>\n",
       "      <th>277580</th>\n",
       "      <td>1112409589</td>\n",
       "      <td>&lt;p&gt;&lt;span style=\"\"&gt;Buscamos incorporar en nuest...</td>\n",
       "    </tr>\n",
       "    <tr>\n",
       "      <th>219353</th>\n",
       "      <td>1112419359</td>\n",
       "      <td>Nos encontramos en la busqueda de Asesores inm...</td>\n",
       "    </tr>\n",
       "    <tr>\n",
       "      <th>288129</th>\n",
       "      <td>1112472259</td>\n",
       "      <td>&lt;p&gt;Nos encontramos en la búsqueda de un Senior...</td>\n",
       "    </tr>\n",
       "    <tr>\n",
       "      <th>626910</th>\n",
       "      <td>1112391103</td>\n",
       "      <td>&lt;p style=\"\"&gt;&lt;strong&gt;Consultores de Empresas&lt;/s...</td>\n",
       "    </tr>\n",
       "    <tr>\n",
       "      <th>706246</th>\n",
       "      <td>1112365042</td>\n",
       "      <td>&lt;p&gt; &lt;/p&gt;&lt;div&gt;&lt;p&gt;Concesionario oficial Ford N1 ...</td>\n",
       "    </tr>\n",
       "    <tr>\n",
       "      <th>273622</th>\n",
       "      <td>1111692747</td>\n",
       "      <td>&lt;p&gt;Suministra se encuentra en la búsqueda de R...</td>\n",
       "    </tr>\n",
       "    <tr>\n",
       "      <th>485518</th>\n",
       "      <td>1112321927</td>\n",
       "      <td>&lt;p&gt;Para importante industria alimenticia, nos ...</td>\n",
       "    </tr>\n",
       "    <tr>\n",
       "      <th>41513</th>\n",
       "      <td>1112363668</td>\n",
       "      <td>&lt;p&gt;Se solicita personal para el area de admini...</td>\n",
       "    </tr>\n",
       "    <tr>\n",
       "      <th>619075</th>\n",
       "      <td>1112339449</td>\n",
       "      <td>&lt;p&gt;&lt;strong&gt;Acciona IT&lt;/strong&gt; se encuentra en...</td>\n",
       "    </tr>\n",
       "    <tr>\n",
       "      <th>541882</th>\n",
       "      <td>1112305722</td>\n",
       "      <td>&lt;p&gt;En Contactel sumamos &lt;strong&gt;vendedores tel...</td>\n",
       "    </tr>\n",
       "    <tr>\n",
       "      <th>976760</th>\n",
       "      <td>1112320865</td>\n",
       "      <td>&lt;p&gt;JLL (NYSE: JLL) es una firma de servicios p...</td>\n",
       "    </tr>\n",
       "    <tr>\n",
       "      <th>236411</th>\n",
       "      <td>1112254466</td>\n",
       "      <td>&lt;p&gt;La búsqueda está orientada a un profesional...</td>\n",
       "    </tr>\n",
       "    <tr>\n",
       "      <th>181819</th>\n",
       "      <td>1112312795</td>\n",
       "      <td>&lt;p&gt;&lt;strong&gt;Solutix&lt;/strong&gt; requiere de &lt;stron...</td>\n",
       "    </tr>\n",
       "    <tr>\n",
       "      <th>197584</th>\n",
       "      <td>1112202144</td>\n",
       "      <td>&lt;p&gt;Diseñadora de indumentaria o estudiante en ...</td>\n",
       "    </tr>\n",
       "    <tr>\n",
       "      <th>714118</th>\n",
       "      <td>1112454218</td>\n",
       "      <td>&lt;p&gt;&lt;span style=\"\"&gt;&lt;span style=\"\"&gt;&lt;strong&gt;E-res...</td>\n",
       "    </tr>\n",
       "    <tr>\n",
       "      <th>39871</th>\n",
       "      <td>1112463955</td>\n",
       "      <td>&lt;p&gt;&lt;strong&gt;&lt;em&gt;&lt;u&gt;Ingeniero de producto Sr.&lt;/u...</td>\n",
       "    </tr>\n",
       "    <tr>\n",
       "      <th>66575</th>\n",
       "      <td>1112186951</td>\n",
       "      <td>&lt;p&gt;Agente Oficial de Claro- Zona Oeste&lt;/p&gt;&lt;p&gt;E...</td>\n",
       "    </tr>\n",
       "  </tbody>\n",
       "</table>\n",
       "</div>"
      ],
      "text/plain": [
       "           idaviso                                        descripcion\n",
       "761550  1112325200  <p><span style=\"\">Incorporamos jóvenes con exp...\n",
       "688349  1112349943  <p><strong>Importante empresa de la Zona de Ca...\n",
       "362550  1112480684  <p>Desarrollador <strong>SQL / PL-SQL Ssr</str...\n",
       "139971  1112349092  <p>Seleccionamos un Sr. Sys. Admin. para impor...\n",
       "846251  1112292851  <p>Nos orientamos a personas con capacidad par...\n",
       "414405  1112404144  <p>Nuestro cliente, compañía de indumentaria c...\n",
       "701354  1112393056  <p>Nos encontramos en la búsqueda de vendedore...\n",
       "421964  1112387021  <p style=\"\"><strong><span style=\"\">Adecco Offi...\n",
       "191476  1112242390  <p>VICTOR GULLO SRL -  EMPRESA DE MATERIALES P...\n",
       "957293  1112326501  <p><strong>Requisitos mínimos</strong></p><p>B...\n",
       "581896  1112232456  <p>Actualmente nos encontramos en la búsqueda ...\n",
       "940145  1112366909  <p>Nos encontramos en la búsqueda de <strong>R...\n",
       "370224  1111869979  <p><span style=\"\">Empresa Financiera Nacional ...\n",
       "974155  1112368419  <p>Importante Hipermercado ubicado en la Zona ...\n",
       "629381  1112316988  <p>En Adecco Argentina nos encontramos en la b...\n",
       "713839  1112381105  <p>¿Buscas un trabajo de 6 horas? ¿Queres trab...\n",
       "335924  1112408949  <p>M Y P, importante empresa de telecomunicaci...\n",
       "766567  1112419972  <p style=\"\">Para importante empresa multinacio...\n",
       "726671  1112363711  <p>Nos encontramos en la busqueda se cajeros  ...\n",
       "940154  1112345591  <p><strong>Solutix</strong> selecciona<strong>...\n",
       "171400  1111511317  <p><strong><span style=\"\">La búsqueda se orien...\n",
       "306621  1112359331  <p style=\"\">Para importante local de decoració...\n",
       "361540  1112320432  <p>Importante Grupo Concesionario incorporará ...\n",
       "741709  1112302772  <p>Si querés sumarte a un equipo talentoso, lí...\n",
       "630995  1112281364  <p><strong>Adecco Office</strong> está especia...\n",
       "895574  1112325647  <p style=\"\">n <strong>Adecco Tecnología</stron...\n",
       "53093   1112500539  <p>Importante empresa de servicios, Selecciona...\n",
       "188423  1112306044  <p style=\"\"><strong>Adecco Office</strong> est...\n",
       "865843  1112252491  <p><em>Importante empresa que realiza Fabricac...\n",
       "46297   1112238836  <p style=\"\"><strong><span style=\"\">IT Resource...\n",
       "935230  1112200612  <p>Obra Social Unión Personal se encuentra en ...\n",
       "352137  1112262029  <p>Somos una empresa joven con pasión. Nuestro...\n",
       "690920  1112319451  <p><strong>¡En FRÁVEGA tenemos nuevas OPORTUNI...\n",
       "277580  1112409589  <p><span style=\"\">Buscamos incorporar en nuest...\n",
       "219353  1112419359  Nos encontramos en la busqueda de Asesores inm...\n",
       "288129  1112472259  <p>Nos encontramos en la búsqueda de un Senior...\n",
       "626910  1112391103  <p style=\"\"><strong>Consultores de Empresas</s...\n",
       "706246  1112365042  <p> </p><div><p>Concesionario oficial Ford N1 ...\n",
       "273622  1111692747  <p>Suministra se encuentra en la búsqueda de R...\n",
       "485518  1112321927  <p>Para importante industria alimenticia, nos ...\n",
       "41513   1112363668  <p>Se solicita personal para el area de admini...\n",
       "619075  1112339449  <p><strong>Acciona IT</strong> se encuentra en...\n",
       "541882  1112305722  <p>En Contactel sumamos <strong>vendedores tel...\n",
       "976760  1112320865  <p>JLL (NYSE: JLL) es una firma de servicios p...\n",
       "236411  1112254466  <p>La búsqueda está orientada a un profesional...\n",
       "181819  1112312795  <p><strong>Solutix</strong> requiere de <stron...\n",
       "197584  1112202144  <p>Diseñadora de indumentaria o estudiante en ...\n",
       "714118  1112454218  <p><span style=\"\"><span style=\"\"><strong>E-res...\n",
       "39871   1112463955  <p><strong><em><u>Ingeniero de producto Sr.</u...\n",
       "66575   1112186951  <p>Agente Oficial de Claro- Zona Oeste</p><p>E..."
      ]
     },
     "execution_count": 4,
     "metadata": {},
     "output_type": "execute_result"
    }
   ],
   "source": [
    "avisos_detalle_txt.sample(50)"
   ]
  },
  {
   "cell_type": "code",
   "execution_count": 5,
   "metadata": {},
   "outputs": [
    {
     "name": "stderr",
     "output_type": "stream",
     "text": [
      "/home/mariano/ENTER/lib/python3.6/site-packages/ipykernel_launcher.py:2: SettingWithCopyWarning: \n",
      "A value is trying to be set on a copy of a slice from a DataFrame\n",
      "\n",
      "See the caveats in the documentation: http://pandas.pydata.org/pandas-docs/stable/indexing.html#indexing-view-versus-copy\n",
      "  \n"
     ]
    }
   ],
   "source": [
    "avisos_detalle_txt.sort_values('idaviso',ascending = False)\n",
    "avisos_detalle_txt.drop_duplicates('idaviso',inplace= True)"
   ]
  },
  {
   "cell_type": "code",
   "execution_count": 6,
   "metadata": {},
   "outputs": [],
   "source": [
    "def textClean(text):\n",
    "    soup = BeautifulSoup(text, 'html.parser')\n",
    "    text = soup.get_text()\n",
    "    text = re.sub(r\"([^n\\u0300-\\u036f]|n(?!\\u0303(?![\\u0300-\\u036f])))[\\u0300-\\u036f]+\", r\"\\1\", \n",
    "        normalize( \"NFD\", text), 0, re.I)\n",
    "    text = normalize( 'NFC', text)\n",
    "    text = re.sub(r\"[,!.\\/'+-=]\", \" \", text)\n",
    "    text = text.lower().split()\n",
    "    stops = {'para', 'de', 'en', 'presentarse', 'entrevista', \n",
    "             'y', 'a','trabajar','o','as','zona','te','estamos','al'\n",
    "            'buscando','del','importante','hs','horario','tu','como',\n",
    "            'al','con','por','nueva','la','e','os', 'es','su','un','una'}\n",
    "    text = [w for w in text if not w in stops]    \n",
    "    text = \" \".join(text)\n",
    "    text = text.replace(\".\",\" \").replace(\",\",\" \").replace(\"(\",\" \").replace(\")\",\" \")\n",
    "    text = text.replace(\"/\",\" \").replace(\"-\",\" \").replace(\"!\",\" \").replace(\"¡\",\" \")\n",
    "    text = text.replace(\"\\\"\",\" \").replace(\"*\",\" \").replace(\">\",\" \")\n",
    "    return(text)"
   ]
  },
  {
   "cell_type": "code",
   "execution_count": 7,
   "metadata": {},
   "outputs": [
    {
     "name": "stdout",
     "output_type": "stream",
     "text": [
      "<class 'pandas.core.frame.DataFrame'>\n",
      "Int64Index: 25288 entries, 0 to 275363\n",
      "Data columns (total 2 columns):\n",
      "idaviso        25288 non-null int64\n",
      "descripcion    25288 non-null object\n",
      "dtypes: int64(1), object(1)\n",
      "memory usage: 592.7+ KB\n"
     ]
    }
   ],
   "source": [
    "avisos_detalle_txt.info()"
   ]
  },
  {
   "cell_type": "code",
   "execution_count": 8,
   "metadata": {},
   "outputs": [
    {
     "data": {
      "text/plain": [
       "25288"
      ]
     },
     "execution_count": 8,
     "metadata": {},
     "output_type": "execute_result"
    }
   ],
   "source": [
    "descripciones = avisos_detalle_txt['descripcion']\n",
    "\n",
    "len(descripciones)"
   ]
  },
  {
   "cell_type": "code",
   "execution_count": 9,
   "metadata": {},
   "outputs": [],
   "source": [
    "trainText = []\n",
    "for it in avisos_detalle_txt['descripcion']:\n",
    "    newT = textClean(it)\n",
    "    trainText.append(newT)\n"
   ]
  },
  {
   "cell_type": "code",
   "execution_count": 10,
   "metadata": {},
   "outputs": [
    {
     "name": "stdout",
     "output_type": "stream",
     "text": [
      "<class 'pandas.core.frame.DataFrame'>\n",
      "RangeIndex: 25288 entries, 0 to 25287\n",
      "Data columns (total 1 columns):\n",
      "descripcion    25288 non-null object\n",
      "dtypes: object(1)\n",
      "memory usage: 197.6+ KB\n"
     ]
    }
   ],
   "source": [
    "text = pd.DataFrame(trainText,columns=['descripcion'])\n",
    "text.info()"
   ]
  },
  {
   "cell_type": "code",
   "execution_count": 11,
   "metadata": {},
   "outputs": [
    {
     "name": "stderr",
     "output_type": "stream",
     "text": [
      "/home/mariano/ENTER/lib/python3.6/site-packages/ipykernel_launcher.py:2: SettingWithCopyWarning: \n",
      "A value is trying to be set on a copy of a slice from a DataFrame.\n",
      "Try using .loc[row_indexer,col_indexer] = value instead\n",
      "\n",
      "See the caveats in the documentation: http://pandas.pydata.org/pandas-docs/stable/indexing.html#indexing-view-versus-copy\n",
      "  \n"
     ]
    }
   ],
   "source": [
    "avisos_detalle_txt.reset_index(inplace=True)\n",
    "avisos_detalle_txt['descripcion'] = text['descripcion']"
   ]
  },
  {
   "cell_type": "code",
   "execution_count": 12,
   "metadata": {},
   "outputs": [
    {
     "name": "stderr",
     "output_type": "stream",
     "text": [
      "/home/mariano/ENTER/lib/python3.6/site-packages/pandas/core/frame.py:3694: SettingWithCopyWarning: \n",
      "A value is trying to be set on a copy of a slice from a DataFrame\n",
      "\n",
      "See the caveats in the documentation: http://pandas.pydata.org/pandas-docs/stable/indexing.html#indexing-view-versus-copy\n",
      "  errors=errors)\n"
     ]
    }
   ],
   "source": [
    "avisos_detalle_txt.drop(columns=['index'],axis=1,inplace=True)"
   ]
  },
  {
   "cell_type": "code",
   "execution_count": 13,
   "metadata": {},
   "outputs": [
    {
     "data": {
      "text/html": [
       "<div>\n",
       "<style scoped>\n",
       "    .dataframe tbody tr th:only-of-type {\n",
       "        vertical-align: middle;\n",
       "    }\n",
       "\n",
       "    .dataframe tbody tr th {\n",
       "        vertical-align: top;\n",
       "    }\n",
       "\n",
       "    .dataframe thead th {\n",
       "        text-align: right;\n",
       "    }\n",
       "</style>\n",
       "<table border=\"1\" class=\"dataframe\">\n",
       "  <thead>\n",
       "    <tr style=\"text-align: right;\">\n",
       "      <th></th>\n",
       "      <th>idaviso</th>\n",
       "      <th>descripcion</th>\n",
       "    </tr>\n",
       "  </thead>\n",
       "  <tbody>\n",
       "    <tr>\n",
       "      <th>0</th>\n",
       "      <td>1112448580</td>\n",
       "      <td>laboratorio ubicado san cristobal busqueda tec...</td>\n",
       "    </tr>\n",
       "    <tr>\n",
       "      <th>1</th>\n",
       "      <td>1112241594</td>\n",
       "      <td>buscamos cajeros bancoseran responsables reali...</td>\n",
       "    </tr>\n",
       "    <tr>\n",
       "      <th>2</th>\n",
       "      <td>1112206367</td>\n",
       "      <td>empresa alimenticia se encuentra busqueda anal...</td>\n",
       "    </tr>\n",
       "    <tr>\n",
       "      <th>3</th>\n",
       "      <td>1112290296</td>\n",
       "      <td>compañia financiera local nos encontramos busq...</td>\n",
       "    </tr>\n",
       "    <tr>\n",
       "      <th>4</th>\n",
       "      <td>1112397487</td>\n",
       "      <td>adecco office esta especializada el reclutamie...</td>\n",
       "    </tr>\n",
       "  </tbody>\n",
       "</table>\n",
       "</div>"
      ],
      "text/plain": [
       "      idaviso                                        descripcion\n",
       "0  1112448580  laboratorio ubicado san cristobal busqueda tec...\n",
       "1  1112241594  buscamos cajeros bancoseran responsables reali...\n",
       "2  1112206367  empresa alimenticia se encuentra busqueda anal...\n",
       "3  1112290296  compañia financiera local nos encontramos busq...\n",
       "4  1112397487  adecco office esta especializada el reclutamie..."
      ]
     },
     "execution_count": 13,
     "metadata": {},
     "output_type": "execute_result"
    }
   ],
   "source": [
    "avisos_detalle_txt.head()"
   ]
  },
  {
   "cell_type": "code",
   "execution_count": 14,
   "metadata": {},
   "outputs": [],
   "source": [
    "final = pd.merge(avisos_detalle_txt,modelo, on = 'idaviso',how='outer')"
   ]
  },
  {
   "cell_type": "code",
   "execution_count": 15,
   "metadata": {
    "scrolled": true
   },
   "outputs": [
    {
     "name": "stdout",
     "output_type": "stream",
     "text": [
      "<class 'pandas.core.frame.DataFrame'>\n",
      "Int64Index: 1000000 entries, 0 to 999999\n",
      "Data columns (total 13 columns):\n",
      "idaviso            1000000 non-null int64\n",
      "descripcion_x      1000000 non-null object\n",
      "idpostulante       1000000 non-null object\n",
      "rango_edad         1000000 non-null float64\n",
      "sexo               1000000 non-null int64\n",
      "nivel_estudios     1000000 non-null float64\n",
      "esta_estudiando    1000000 non-null float64\n",
      "descripcion_y      1000000 non-null object\n",
      "tipo_de_trabajo    1000000 non-null int64\n",
      "nivel_laboral      1000000 non-null int64\n",
      "nombre_zona        1000000 non-null object\n",
      "nombre_area        1000000 non-null object\n",
      "sepostulo          1000000 non-null float64\n",
      "dtypes: float64(4), int64(4), object(5)\n",
      "memory usage: 106.8+ MB\n"
     ]
    }
   ],
   "source": [
    "final.dropna(axis=0)\n",
    "final.info()"
   ]
  },
  {
   "cell_type": "code",
   "execution_count": 16,
   "metadata": {},
   "outputs": [],
   "source": [
    "final.drop(columns=['descripcion_y'],axis=1,inplace=True)\n",
    "final.rename(columns={'descripcion_x':'descripcion'},inplace=True)\n",
    "final.to_csv(\"modelo_final_tfidf.csv\", encoding = \"utf-8\", index = False)"
   ]
  },
  {
   "cell_type": "code",
   "execution_count": null,
   "metadata": {},
   "outputs": [],
   "source": []
  }
 ],
 "metadata": {
  "kernelspec": {
   "display_name": "Python 3",
   "language": "python",
   "name": "python3"
  },
  "language_info": {
   "codemirror_mode": {
    "name": "ipython",
    "version": 3
   },
   "file_extension": ".py",
   "mimetype": "text/x-python",
   "name": "python",
   "nbconvert_exporter": "python",
   "pygments_lexer": "ipython3",
   "version": "3.6.5"
  }
 },
 "nbformat": 4,
 "nbformat_minor": 2
}
