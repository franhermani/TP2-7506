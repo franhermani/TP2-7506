{
 "cells": [
  {
   "cell_type": "code",
   "execution_count": 1,
   "metadata": {},
   "outputs": [
    {
     "name": "stderr",
     "output_type": "stream",
     "text": [
      "/usr/lib/python3/dist-packages/matplotlib/__init__.py:874: UserWarning: axes.color_cycle is deprecated and replaced with axes.prop_cycle; please use the latter.\n",
      "  warnings.warn(self.msg_depr % (key, alt_key))\n"
     ]
    }
   ],
   "source": [
    "import pandas as pd\n",
    "import numpy as np\n",
    "import matplotlib.pyplot as plt\n",
    "import seaborn as sns\n",
    "\n",
    "from time import time\n",
    "\n",
    "%matplotlib inline"
   ]
  },
  {
   "cell_type": "markdown",
   "metadata": {},
   "source": [
    "### Cargamos el modelo"
   ]
  },
  {
   "cell_type": "code",
   "execution_count": 2,
   "metadata": {},
   "outputs": [],
   "source": [
    "modelo = pd.read_csv('csv_files/modelo_final.csv')"
   ]
  },
  {
   "cell_type": "code",
   "execution_count": 3,
   "metadata": {},
   "outputs": [
    {
     "data": {
      "text/html": [
       "<div>\n",
       "<style scoped>\n",
       "    .dataframe tbody tr th:only-of-type {\n",
       "        vertical-align: middle;\n",
       "    }\n",
       "\n",
       "    .dataframe tbody tr th {\n",
       "        vertical-align: top;\n",
       "    }\n",
       "\n",
       "    .dataframe thead th {\n",
       "        text-align: right;\n",
       "    }\n",
       "</style>\n",
       "<table border=\"1\" class=\"dataframe\">\n",
       "  <thead>\n",
       "    <tr style=\"text-align: right;\">\n",
       "      <th></th>\n",
       "      <th>idaviso</th>\n",
       "      <th>idpostulante</th>\n",
       "      <th>rango_edad</th>\n",
       "      <th>sexo</th>\n",
       "      <th>nivel_estudios</th>\n",
       "      <th>esta_estudiando</th>\n",
       "      <th>titulo</th>\n",
       "      <th>tipo_de_trabajo</th>\n",
       "      <th>nivel_laboral</th>\n",
       "      <th>nombre_zona</th>\n",
       "      <th>nombre_area</th>\n",
       "      <th>sepostulo</th>\n",
       "    </tr>\n",
       "  </thead>\n",
       "  <tbody>\n",
       "    <tr>\n",
       "      <th>2143860</th>\n",
       "      <td>1112451418</td>\n",
       "      <td>bOzKYKY</td>\n",
       "      <td>2.0</td>\n",
       "      <td>2</td>\n",
       "      <td>4.0</td>\n",
       "      <td>0.0</td>\n",
       "      <td>ADMINISTRATIVO/A DE VENTAS (RUBRO AUTOMOTOR)</td>\n",
       "      <td>10</td>\n",
       "      <td>3</td>\n",
       "      <td>3</td>\n",
       "      <td>Administración</td>\n",
       "      <td>1.0</td>\n",
       "    </tr>\n",
       "    <tr>\n",
       "      <th>171595</th>\n",
       "      <td>1112336364</td>\n",
       "      <td>kPjLJOQ</td>\n",
       "      <td>2.0</td>\n",
       "      <td>1</td>\n",
       "      <td>4.0</td>\n",
       "      <td>1.0</td>\n",
       "      <td>Feb 18 - Marketing Manager ($100K/yr) - Online...</td>\n",
       "      <td>8</td>\n",
       "      <td>4</td>\n",
       "      <td>3</td>\n",
       "      <td>Marketing</td>\n",
       "      <td>0.0</td>\n",
       "    </tr>\n",
       "    <tr>\n",
       "      <th>1600856</th>\n",
       "      <td>1112302327</td>\n",
       "      <td>PmadDWR</td>\n",
       "      <td>1.0</td>\n",
       "      <td>1</td>\n",
       "      <td>2.0</td>\n",
       "      <td>0.0</td>\n",
       "      <td>Recepcionista Administrativa (zona Once)</td>\n",
       "      <td>10</td>\n",
       "      <td>3</td>\n",
       "      <td>3</td>\n",
       "      <td>Recepcionista</td>\n",
       "      <td>1.0</td>\n",
       "    </tr>\n",
       "    <tr>\n",
       "      <th>914522</th>\n",
       "      <td>1112268555</td>\n",
       "      <td>69k1oM</td>\n",
       "      <td>3.0</td>\n",
       "      <td>1</td>\n",
       "      <td>4.0</td>\n",
       "      <td>1.0</td>\n",
       "      <td>Analista Mercado de Capitales</td>\n",
       "      <td>10</td>\n",
       "      <td>3</td>\n",
       "      <td>3</td>\n",
       "      <td>Corporate Finance / Banca Inversión</td>\n",
       "      <td>0.0</td>\n",
       "    </tr>\n",
       "    <tr>\n",
       "      <th>861329</th>\n",
       "      <td>1112353877</td>\n",
       "      <td>0zklk6q</td>\n",
       "      <td>1.0</td>\n",
       "      <td>1</td>\n",
       "      <td>4.0</td>\n",
       "      <td>1.0</td>\n",
       "      <td>TELECOBRADORES. IMPORTANTE BANCO PRIVADO</td>\n",
       "      <td>9</td>\n",
       "      <td>2</td>\n",
       "      <td>3</td>\n",
       "      <td>Call Center</td>\n",
       "      <td>0.0</td>\n",
       "    </tr>\n",
       "  </tbody>\n",
       "</table>\n",
       "</div>"
      ],
      "text/plain": [
       "            idaviso idpostulante  rango_edad  sexo  nivel_estudios  \\\n",
       "2143860  1112451418      bOzKYKY         2.0     2             4.0   \n",
       "171595   1112336364      kPjLJOQ         2.0     1             4.0   \n",
       "1600856  1112302327      PmadDWR         1.0     1             2.0   \n",
       "914522   1112268555       69k1oM         3.0     1             4.0   \n",
       "861329   1112353877      0zklk6q         1.0     1             4.0   \n",
       "\n",
       "         esta_estudiando                                             titulo  \\\n",
       "2143860              0.0       ADMINISTRATIVO/A DE VENTAS (RUBRO AUTOMOTOR)   \n",
       "171595               1.0  Feb 18 - Marketing Manager ($100K/yr) - Online...   \n",
       "1600856              0.0           Recepcionista Administrativa (zona Once)   \n",
       "914522               1.0                      Analista Mercado de Capitales   \n",
       "861329               1.0           TELECOBRADORES. IMPORTANTE BANCO PRIVADO   \n",
       "\n",
       "         tipo_de_trabajo  nivel_laboral  nombre_zona  \\\n",
       "2143860               10              3            3   \n",
       "171595                 8              4            3   \n",
       "1600856               10              3            3   \n",
       "914522                10              3            3   \n",
       "861329                 9              2            3   \n",
       "\n",
       "                                 nombre_area  sepostulo  \n",
       "2143860                       Administración        1.0  \n",
       "171595                             Marketing        0.0  \n",
       "1600856                        Recepcionista        1.0  \n",
       "914522   Corporate Finance / Banca Inversión        0.0  \n",
       "861329                           Call Center        0.0  "
      ]
     },
     "execution_count": 3,
     "metadata": {},
     "output_type": "execute_result"
    }
   ],
   "source": [
    "modelo.sample(5)"
   ]
  },
  {
   "cell_type": "code",
   "execution_count": 4,
   "metadata": {},
   "outputs": [
    {
     "name": "stdout",
     "output_type": "stream",
     "text": [
      "<class 'pandas.core.frame.DataFrame'>\n",
      "RangeIndex: 3000000 entries, 0 to 2999999\n",
      "Data columns (total 12 columns):\n",
      "idaviso            int64\n",
      "idpostulante       object\n",
      "rango_edad         float64\n",
      "sexo               int64\n",
      "nivel_estudios     float64\n",
      "esta_estudiando    float64\n",
      "titulo             object\n",
      "tipo_de_trabajo    int64\n",
      "nivel_laboral      int64\n",
      "nombre_zona        int64\n",
      "nombre_area        object\n",
      "sepostulo          float64\n",
      "dtypes: float64(4), int64(5), object(3)\n",
      "memory usage: 274.7+ MB\n"
     ]
    }
   ],
   "source": [
    "modelo.info()"
   ]
  },
  {
   "cell_type": "markdown",
   "metadata": {},
   "source": [
    " "
   ]
  },
  {
   "cell_type": "markdown",
   "metadata": {},
   "source": [
    "Nos guardamos en un dataframe alternativo todos los registros con postulaciones efectivas del postulante al aviso en cuestión. Esto será utilizado en los features que aquí abajo construiremos."
   ]
  },
  {
   "cell_type": "code",
   "execution_count": 5,
   "metadata": {},
   "outputs": [
    {
     "data": {
      "text/plain": [
       "1.0    1500000\n",
       "Name: sepostulo, dtype: int64"
      ]
     },
     "execution_count": 5,
     "metadata": {},
     "output_type": "execute_result"
    }
   ],
   "source": [
    "si = modelo['sepostulo'] == 1\n",
    "modelo_si = modelo[si]\n",
    "\n",
    "modelo_si['sepostulo'].value_counts()"
   ]
  },
  {
   "cell_type": "markdown",
   "metadata": {},
   "source": [
    " "
   ]
  },
  {
   "cell_type": "markdown",
   "metadata": {},
   "source": [
    "### Nivel de estudios vs Nivel laboral"
   ]
  },
  {
   "cell_type": "markdown",
   "metadata": {},
   "source": [
    "Nivel de estudios:\n",
    "- 1 = Otro\n",
    "- 2 = Secundario\n",
    "- 3 = Terciario/Técnico\n",
    "- 4 = Universitario\n",
    "- 5 = Posgrado\n",
    "- 6 = Master\n",
    "- 7 = Doctorado"
   ]
  },
  {
   "cell_type": "markdown",
   "metadata": {},
   "source": [
    "Nivel laboral:\n",
    "- 1 = Otro\n",
    "- 2 = Junior\n",
    "- 3 = Senior / Semi-Senior\n",
    "- 4 = Jefe / Supervisor / Responsable\n",
    "- 5 = Gerencia / Alta Gerencia / Dirección"
   ]
  },
  {
   "cell_type": "code",
   "execution_count": 6,
   "metadata": {},
   "outputs": [
    {
     "data": {
      "text/plain": [
       "4.0    760986\n",
       "2.0    444447\n",
       "3.0    209914\n",
       "5.0     47513\n",
       "6.0     28091\n",
       "1.0      7154\n",
       "7.0      1895\n",
       "Name: nivel_estudios, dtype: int64"
      ]
     },
     "execution_count": 6,
     "metadata": {},
     "output_type": "execute_result"
    }
   ],
   "source": [
    "modelo_si['nivel_estudios'].value_counts()"
   ]
  },
  {
   "cell_type": "code",
   "execution_count": 7,
   "metadata": {},
   "outputs": [
    {
     "data": {
      "text/plain": [
       "3    978336\n",
       "2    339887\n",
       "1    123994\n",
       "4     46387\n",
       "5     11396\n",
       "Name: nivel_laboral, dtype: int64"
      ]
     },
     "execution_count": 7,
     "metadata": {},
     "output_type": "execute_result"
    }
   ],
   "source": [
    "modelo_si['nivel_laboral'].value_counts()"
   ]
  },
  {
   "cell_type": "markdown",
   "metadata": {},
   "source": [
    " "
   ]
  },
  {
   "cell_type": "markdown",
   "metadata": {},
   "source": [
    "Creamos un dataframe con porcentajes por columnas. De esta forma, el heatmap nos mostrará mejor la incidencia de cada nivel de estudios para cada nivel laboral."
   ]
  },
  {
   "cell_type": "code",
   "execution_count": 8,
   "metadata": {},
   "outputs": [
    {
     "name": "stderr",
     "output_type": "stream",
     "text": [
      "/home/towers/.local/lib/python3.5/site-packages/pandas/core/computation/check.py:17: UserWarning: The installed version of numexpr 2.4.3 is not supported in pandas and will be not be used\n",
      "The minimum supported version is 2.4.6\n",
      "\n",
      "  ver=ver, min_ver=_MIN_NUMEXPR_VERSION), UserWarning)\n"
     ]
    },
    {
     "data": {
      "text/html": [
       "<div>\n",
       "<style scoped>\n",
       "    .dataframe tbody tr th:only-of-type {\n",
       "        vertical-align: middle;\n",
       "    }\n",
       "\n",
       "    .dataframe tbody tr th {\n",
       "        vertical-align: top;\n",
       "    }\n",
       "\n",
       "    .dataframe thead th {\n",
       "        text-align: right;\n",
       "    }\n",
       "</style>\n",
       "<table border=\"1\" class=\"dataframe\">\n",
       "  <thead>\n",
       "    <tr style=\"text-align: right;\">\n",
       "      <th>nivel_estudios</th>\n",
       "      <th>1.0</th>\n",
       "      <th>2.0</th>\n",
       "      <th>3.0</th>\n",
       "      <th>4.0</th>\n",
       "      <th>5.0</th>\n",
       "      <th>6.0</th>\n",
       "      <th>7.0</th>\n",
       "    </tr>\n",
       "    <tr>\n",
       "      <th>nivel_laboral</th>\n",
       "      <th></th>\n",
       "      <th></th>\n",
       "      <th></th>\n",
       "      <th></th>\n",
       "      <th></th>\n",
       "      <th></th>\n",
       "      <th></th>\n",
       "    </tr>\n",
       "  </thead>\n",
       "  <tbody>\n",
       "    <tr>\n",
       "      <th>1</th>\n",
       "      <td>0.123427</td>\n",
       "      <td>0.109185</td>\n",
       "      <td>0.089737</td>\n",
       "      <td>0.068507</td>\n",
       "      <td>0.049208</td>\n",
       "      <td>0.041116</td>\n",
       "      <td>0.063852</td>\n",
       "    </tr>\n",
       "    <tr>\n",
       "      <th>2</th>\n",
       "      <td>0.182975</td>\n",
       "      <td>0.205458</td>\n",
       "      <td>0.222439</td>\n",
       "      <td>0.246602</td>\n",
       "      <td>0.171721</td>\n",
       "      <td>0.156883</td>\n",
       "      <td>0.181003</td>\n",
       "    </tr>\n",
       "    <tr>\n",
       "      <th>3</th>\n",
       "      <td>0.675706</td>\n",
       "      <td>0.665861</td>\n",
       "      <td>0.659570</td>\n",
       "      <td>0.640946</td>\n",
       "      <td>0.666470</td>\n",
       "      <td>0.656865</td>\n",
       "      <td>0.654354</td>\n",
       "    </tr>\n",
       "    <tr>\n",
       "      <th>4</th>\n",
       "      <td>0.014957</td>\n",
       "      <td>0.016949</td>\n",
       "      <td>0.023714</td>\n",
       "      <td>0.035489</td>\n",
       "      <td>0.082251</td>\n",
       "      <td>0.096472</td>\n",
       "      <td>0.075989</td>\n",
       "    </tr>\n",
       "    <tr>\n",
       "      <th>5</th>\n",
       "      <td>0.002935</td>\n",
       "      <td>0.002547</td>\n",
       "      <td>0.004540</td>\n",
       "      <td>0.008455</td>\n",
       "      <td>0.030350</td>\n",
       "      <td>0.048663</td>\n",
       "      <td>0.024802</td>\n",
       "    </tr>\n",
       "  </tbody>\n",
       "</table>\n",
       "</div>"
      ],
      "text/plain": [
       "nivel_estudios       1.0       2.0       3.0       4.0       5.0       6.0  \\\n",
       "nivel_laboral                                                                \n",
       "1               0.123427  0.109185  0.089737  0.068507  0.049208  0.041116   \n",
       "2               0.182975  0.205458  0.222439  0.246602  0.171721  0.156883   \n",
       "3               0.675706  0.665861  0.659570  0.640946  0.666470  0.656865   \n",
       "4               0.014957  0.016949  0.023714  0.035489  0.082251  0.096472   \n",
       "5               0.002935  0.002547  0.004540  0.008455  0.030350  0.048663   \n",
       "\n",
       "nivel_estudios       7.0  \n",
       "nivel_laboral             \n",
       "1               0.063852  \n",
       "2               0.181003  \n",
       "3               0.654354  \n",
       "4               0.075989  \n",
       "5               0.024802  "
      ]
     },
     "execution_count": 8,
     "metadata": {},
     "output_type": "execute_result"
    }
   ],
   "source": [
    "estudios_vs_laboral_t = pd.crosstab(modelo_si['nivel_laboral'], modelo_si['nivel_estudios'], normalize='columns')\n",
    "estudios_vs_laboral_t"
   ]
  },
  {
   "cell_type": "code",
   "execution_count": null,
   "metadata": {},
   "outputs": [],
   "source": []
  },
  {
   "cell_type": "code",
   "execution_count": 9,
   "metadata": {},
   "outputs": [
    {
     "data": {
      "text/plain": [
       "<matplotlib.text.Text at 0x7fca5094c2e8>"
      ]
     },
     "execution_count": 9,
     "metadata": {},
     "output_type": "execute_result"
    },
    {
     "data": {
      "image/png": "[encoded data removed]",
      "text/plain": [
       "<matplotlib.figure.Figure at 0x7fca50990f28>"
      ]
     },
     "metadata": {},
     "output_type": "display_data"
    }
   ],
   "source": [
    "fig, ax = plt.subplots(figsize=(14,4))\n",
    "heatmap = sns.heatmap(estudios_vs_laboral_t, cmap='Oranges', robust=False, annot=False,\\\n",
    "                      linewidths=.5, linecolor='grey', ax=ax)\n",
    "\n",
    "heatmap.set_title('Nivel de estudios vs Nivel laboral', fontsize=18)\n",
    "heatmap.set_xlabel('Nivel de estudios', fontsize=14)\n",
    "heatmap.set_ylabel('Nivel laboral', fontsize=14)"
   ]
  },
  {
   "cell_type": "markdown",
   "metadata": {},
   "source": [
    "Creamos una columna en el dataframe contenedora del peso correspondiente a la combinación de las dos variables categóricas."
   ]
  },
  {
   "cell_type": "code",
   "execution_count": 10,
   "metadata": {},
   "outputs": [],
   "source": [
    "n_estudios = 7\n",
    "for index, row in estudios_vs_laboral_t.iterrows():\n",
    "    for i in range(1,n_estudios+1):\n",
    "        peso = row[i]\n",
    "        nivel_estudios = i\n",
    "        nivel_laboral = index\n",
    "        relacion = (modelo['nivel_estudios'] == nivel_estudios) & (modelo['nivel_laboral'] == nivel_laboral)\n",
    "        modelo.loc[(relacion), 'estudios_vs_laboral'] = peso"
   ]
  },
  {
   "cell_type": "code",
   "execution_count": 11,
   "metadata": {},
   "outputs": [
    {
     "data": {
      "text/html": [
       "<div>\n",
       "<style scoped>\n",
       "    .dataframe tbody tr th:only-of-type {\n",
       "        vertical-align: middle;\n",
       "    }\n",
       "\n",
       "    .dataframe tbody tr th {\n",
       "        vertical-align: top;\n",
       "    }\n",
       "\n",
       "    .dataframe thead th {\n",
       "        text-align: right;\n",
       "    }\n",
       "</style>\n",
       "<table border=\"1\" class=\"dataframe\">\n",
       "  <thead>\n",
       "    <tr style=\"text-align: right;\">\n",
       "      <th></th>\n",
       "      <th>idaviso</th>\n",
       "      <th>idpostulante</th>\n",
       "      <th>rango_edad</th>\n",
       "      <th>sexo</th>\n",
       "      <th>nivel_estudios</th>\n",
       "      <th>esta_estudiando</th>\n",
       "      <th>titulo</th>\n",
       "      <th>tipo_de_trabajo</th>\n",
       "      <th>nivel_laboral</th>\n",
       "      <th>nombre_zona</th>\n",
       "      <th>nombre_area</th>\n",
       "      <th>sepostulo</th>\n",
       "      <th>estudios_vs_laboral</th>\n",
       "    </tr>\n",
       "  </thead>\n",
       "  <tbody>\n",
       "    <tr>\n",
       "      <th>1798185</th>\n",
       "      <td>1112411822</td>\n",
       "      <td>8vOD0z</td>\n",
       "      <td>3.0</td>\n",
       "      <td>2</td>\n",
       "      <td>4.0</td>\n",
       "      <td>0.0</td>\n",
       "      <td>Diseñador Gráfico Textil</td>\n",
       "      <td>10</td>\n",
       "      <td>3</td>\n",
       "      <td>3</td>\n",
       "      <td>Diseño Gráfico</td>\n",
       "      <td>1.0</td>\n",
       "      <td>0.640946</td>\n",
       "    </tr>\n",
       "    <tr>\n",
       "      <th>74879</th>\n",
       "      <td>1112336773</td>\n",
       "      <td>zvalARk</td>\n",
       "      <td>3.0</td>\n",
       "      <td>1</td>\n",
       "      <td>2.0</td>\n",
       "      <td>0.0</td>\n",
       "      <td>Supervisor de produccion para SALTO, pcia de B...</td>\n",
       "      <td>10</td>\n",
       "      <td>3</td>\n",
       "      <td>3</td>\n",
       "      <td>Producción</td>\n",
       "      <td>0.0</td>\n",
       "      <td>0.665861</td>\n",
       "    </tr>\n",
       "    <tr>\n",
       "      <th>2308722</th>\n",
       "      <td>1112347195</td>\n",
       "      <td>bO4qNQB</td>\n",
       "      <td>1.0</td>\n",
       "      <td>1</td>\n",
       "      <td>4.0</td>\n",
       "      <td>1.0</td>\n",
       "      <td>J/ CAJEROS Y REPOSITORES - ZONA CABA</td>\n",
       "      <td>10</td>\n",
       "      <td>3</td>\n",
       "      <td>3</td>\n",
       "      <td>Atención al Cliente</td>\n",
       "      <td>1.0</td>\n",
       "      <td>0.640946</td>\n",
       "    </tr>\n",
       "    <tr>\n",
       "      <th>1960713</th>\n",
       "      <td>1112324289</td>\n",
       "      <td>5O512v</td>\n",
       "      <td>3.0</td>\n",
       "      <td>2</td>\n",
       "      <td>4.0</td>\n",
       "      <td>0.0</td>\n",
       "      <td>Consultor Sr. de Impuestos Corporativos</td>\n",
       "      <td>10</td>\n",
       "      <td>3</td>\n",
       "      <td>3</td>\n",
       "      <td>Impuestos</td>\n",
       "      <td>1.0</td>\n",
       "      <td>0.640946</td>\n",
       "    </tr>\n",
       "    <tr>\n",
       "      <th>1027840</th>\n",
       "      <td>1112347020</td>\n",
       "      <td>0zPj091</td>\n",
       "      <td>3.0</td>\n",
       "      <td>2</td>\n",
       "      <td>2.0</td>\n",
       "      <td>0.0</td>\n",
       "      <td>Ejecutivo de ventas para bodega</td>\n",
       "      <td>10</td>\n",
       "      <td>3</td>\n",
       "      <td>3</td>\n",
       "      <td>Comercial</td>\n",
       "      <td>0.0</td>\n",
       "      <td>0.665861</td>\n",
       "    </tr>\n",
       "  </tbody>\n",
       "</table>\n",
       "</div>"
      ],
      "text/plain": [
       "            idaviso idpostulante  rango_edad  sexo  nivel_estudios  \\\n",
       "1798185  1112411822       8vOD0z         3.0     2             4.0   \n",
       "74879    1112336773      zvalARk         3.0     1             2.0   \n",
       "2308722  1112347195      bO4qNQB         1.0     1             4.0   \n",
       "1960713  1112324289       5O512v         3.0     2             4.0   \n",
       "1027840  1112347020      0zPj091         3.0     2             2.0   \n",
       "\n",
       "         esta_estudiando                                             titulo  \\\n",
       "1798185              0.0                           Diseñador Gráfico Textil   \n",
       "74879                0.0  Supervisor de produccion para SALTO, pcia de B...   \n",
       "2308722              1.0               J/ CAJEROS Y REPOSITORES - ZONA CABA   \n",
       "1960713              0.0            Consultor Sr. de Impuestos Corporativos   \n",
       "1027840              0.0                    Ejecutivo de ventas para bodega   \n",
       "\n",
       "         tipo_de_trabajo  nivel_laboral  nombre_zona          nombre_area  \\\n",
       "1798185               10              3            3       Diseño Gráfico   \n",
       "74879                 10              3            3           Producción   \n",
       "2308722               10              3            3  Atención al Cliente   \n",
       "1960713               10              3            3            Impuestos   \n",
       "1027840               10              3            3            Comercial   \n",
       "\n",
       "         sepostulo  estudios_vs_laboral  \n",
       "1798185        1.0             0.640946  \n",
       "74879          0.0             0.665861  \n",
       "2308722        1.0             0.640946  \n",
       "1960713        1.0             0.640946  \n",
       "1027840        0.0             0.665861  "
      ]
     },
     "execution_count": 11,
     "metadata": {},
     "output_type": "execute_result"
    }
   ],
   "source": [
    "modelo.sample(5)"
   ]
  },
  {
   "cell_type": "markdown",
   "metadata": {},
   "source": [
    " "
   ]
  },
  {
   "cell_type": "markdown",
   "metadata": {},
   "source": [
    "### Esta estudiando vs Tipo de trabajo"
   ]
  },
  {
   "cell_type": "markdown",
   "metadata": {},
   "source": [
    "Esta estudiando:\n",
    "- 0 = Está graduado o abandonó\n",
    "- 1 = Tiene un título en curso"
   ]
  },
  {
   "cell_type": "markdown",
   "metadata": {},
   "source": [
    "Tipo de trabajo:\n",
    "- 1 = Voluntario\n",
    "- 2 = Primer Empleo\n",
    "- 3 = Fines de Semana\n",
    "- 4 = Por Contrato\n",
    "- 5 = Temporario\n",
    "- 6 = Pasantia\n",
    "- 7 = Por Horas\n",
    "- 8 = Teletrabajo\n",
    "- 9 = Part-time\n",
    "- 10 = Full-time"
   ]
  },
  {
   "cell_type": "code",
   "execution_count": 12,
   "metadata": {},
   "outputs": [
    {
     "data": {
      "text/plain": [
       "0.0    952095\n",
       "1.0    547905\n",
       "Name: esta_estudiando, dtype: int64"
      ]
     },
     "execution_count": 12,
     "metadata": {},
     "output_type": "execute_result"
    }
   ],
   "source": [
    "modelo_si['esta_estudiando'].value_counts()"
   ]
  },
  {
   "cell_type": "code",
   "execution_count": 13,
   "metadata": {},
   "outputs": [
    {
     "data": {
      "text/plain": [
       "10    1270526\n",
       "9      206275\n",
       "6        7566\n",
       "7        5035\n",
       "5        3976\n",
       "3        2212\n",
       "4        2191\n",
       "8        1595\n",
       "2         557\n",
       "1          67\n",
       "Name: tipo_de_trabajo, dtype: int64"
      ]
     },
     "execution_count": 13,
     "metadata": {},
     "output_type": "execute_result"
    }
   ],
   "source": [
    "modelo_si['tipo_de_trabajo'].value_counts()"
   ]
  },
  {
   "cell_type": "code",
   "execution_count": 14,
   "metadata": {},
   "outputs": [
    {
     "data": {
      "text/html": [
       "<div>\n",
       "<style scoped>\n",
       "    .dataframe tbody tr th:only-of-type {\n",
       "        vertical-align: middle;\n",
       "    }\n",
       "\n",
       "    .dataframe tbody tr th {\n",
       "        vertical-align: top;\n",
       "    }\n",
       "\n",
       "    .dataframe thead th {\n",
       "        text-align: right;\n",
       "    }\n",
       "</style>\n",
       "<table border=\"1\" class=\"dataframe\">\n",
       "  <thead>\n",
       "    <tr style=\"text-align: right;\">\n",
       "      <th>tipo_de_trabajo</th>\n",
       "      <th>1</th>\n",
       "      <th>2</th>\n",
       "      <th>3</th>\n",
       "      <th>4</th>\n",
       "      <th>5</th>\n",
       "      <th>6</th>\n",
       "      <th>7</th>\n",
       "      <th>8</th>\n",
       "      <th>9</th>\n",
       "      <th>10</th>\n",
       "    </tr>\n",
       "    <tr>\n",
       "      <th>esta_estudiando</th>\n",
       "      <th></th>\n",
       "      <th></th>\n",
       "      <th></th>\n",
       "      <th></th>\n",
       "      <th></th>\n",
       "      <th></th>\n",
       "      <th></th>\n",
       "      <th></th>\n",
       "      <th></th>\n",
       "      <th></th>\n",
       "    </tr>\n",
       "  </thead>\n",
       "  <tbody>\n",
       "    <tr>\n",
       "      <th>0.0</th>\n",
       "      <td>0.716418</td>\n",
       "      <td>0.524237</td>\n",
       "      <td>0.663201</td>\n",
       "      <td>0.638065</td>\n",
       "      <td>0.692404</td>\n",
       "      <td>0.269759</td>\n",
       "      <td>0.709831</td>\n",
       "      <td>0.615047</td>\n",
       "      <td>0.533763</td>\n",
       "      <td>0.652831</td>\n",
       "    </tr>\n",
       "    <tr>\n",
       "      <th>1.0</th>\n",
       "      <td>0.283582</td>\n",
       "      <td>0.475763</td>\n",
       "      <td>0.336799</td>\n",
       "      <td>0.361935</td>\n",
       "      <td>0.307596</td>\n",
       "      <td>0.730241</td>\n",
       "      <td>0.290169</td>\n",
       "      <td>0.384953</td>\n",
       "      <td>0.466237</td>\n",
       "      <td>0.347169</td>\n",
       "    </tr>\n",
       "  </tbody>\n",
       "</table>\n",
       "</div>"
      ],
      "text/plain": [
       "tipo_de_trabajo        1         2         3         4         5         6   \\\n",
       "esta_estudiando                                                               \n",
       "0.0              0.716418  0.524237  0.663201  0.638065  0.692404  0.269759   \n",
       "1.0              0.283582  0.475763  0.336799  0.361935  0.307596  0.730241   \n",
       "\n",
       "tipo_de_trabajo        7         8         9         10  \n",
       "esta_estudiando                                          \n",
       "0.0              0.709831  0.615047  0.533763  0.652831  \n",
       "1.0              0.290169  0.384953  0.466237  0.347169  "
      ]
     },
     "execution_count": 14,
     "metadata": {},
     "output_type": "execute_result"
    }
   ],
   "source": [
    "estudiando_vs_tipo_trabajo_t = pd.crosstab(modelo_si['esta_estudiando'], modelo_si['tipo_de_trabajo'], normalize='columns')\n",
    "estudiando_vs_tipo_trabajo_t"
   ]
  },
  {
   "cell_type": "code",
   "execution_count": 15,
   "metadata": {},
   "outputs": [
    {
     "data": {
      "text/plain": [
       "<matplotlib.text.Text at 0x7fca50831908>"
      ]
     },
     "execution_count": 15,
     "metadata": {},
     "output_type": "execute_result"
    },
    {
     "data": {
      "image/png": "[encoded data removed]",
      "text/plain": [
       "<matplotlib.figure.Figure at 0x7fca50947860>"
      ]
     },
     "metadata": {},
     "output_type": "display_data"
    }
   ],
   "source": [
    "fig, ax = plt.subplots(figsize=(14,4))\n",
    "heatmap = sns.heatmap(estudiando_vs_tipo_trabajo_t, cmap='YlGnBu', robust=False, annot=False,\\\n",
    "                      linewidths=.5, linecolor='grey', ax=ax)\n",
    "\n",
    "heatmap.set_title('Esta estudiando vs Tipo de trabajo', fontsize=18)\n",
    "heatmap.set_xlabel('Tipo de trabajo', fontsize=14)\n",
    "heatmap.set_ylabel('Esta estudiando', fontsize=14)"
   ]
  },
  {
   "cell_type": "markdown",
   "metadata": {},
   "source": [
    "Creamos una columna en el dataframe contenedora del peso correspondiente a la combinación de las dos variables categóricas."
   ]
  },
  {
   "cell_type": "code",
   "execution_count": 16,
   "metadata": {},
   "outputs": [],
   "source": [
    "n_trabajos = 10\n",
    "for index, row in estudiando_vs_tipo_trabajo_t.iterrows():\n",
    "    for i in range(1,n_trabajos+1):\n",
    "        peso = row[i]\n",
    "        tipo_trabajo = i\n",
    "        esta_estudiando = index\n",
    "        relacion = (modelo['tipo_de_trabajo'] == tipo_trabajo) & (modelo['esta_estudiando'] == esta_estudiando)\n",
    "        modelo.loc[(relacion), 'estudia_vs_tipo_trabajo'] = peso"
   ]
  },
  {
   "cell_type": "code",
   "execution_count": 17,
   "metadata": {},
   "outputs": [
    {
     "data": {
      "text/html": [
       "<div>\n",
       "<style scoped>\n",
       "    .dataframe tbody tr th:only-of-type {\n",
       "        vertical-align: middle;\n",
       "    }\n",
       "\n",
       "    .dataframe tbody tr th {\n",
       "        vertical-align: top;\n",
       "    }\n",
       "\n",
       "    .dataframe thead th {\n",
       "        text-align: right;\n",
       "    }\n",
       "</style>\n",
       "<table border=\"1\" class=\"dataframe\">\n",
       "  <thead>\n",
       "    <tr style=\"text-align: right;\">\n",
       "      <th></th>\n",
       "      <th>idaviso</th>\n",
       "      <th>idpostulante</th>\n",
       "      <th>rango_edad</th>\n",
       "      <th>sexo</th>\n",
       "      <th>nivel_estudios</th>\n",
       "      <th>esta_estudiando</th>\n",
       "      <th>titulo</th>\n",
       "      <th>tipo_de_trabajo</th>\n",
       "      <th>nivel_laboral</th>\n",
       "      <th>nombre_zona</th>\n",
       "      <th>nombre_area</th>\n",
       "      <th>sepostulo</th>\n",
       "      <th>estudios_vs_laboral</th>\n",
       "      <th>estudia_vs_tipo_trabajo</th>\n",
       "    </tr>\n",
       "  </thead>\n",
       "  <tbody>\n",
       "    <tr>\n",
       "      <th>388572</th>\n",
       "      <td>1112269905</td>\n",
       "      <td>Yj5b66P</td>\n",
       "      <td>3.0</td>\n",
       "      <td>2</td>\n",
       "      <td>2.0</td>\n",
       "      <td>0.0</td>\n",
       "      <td>Social Media con experiencia en ventas en Merc...</td>\n",
       "      <td>10</td>\n",
       "      <td>3</td>\n",
       "      <td>3</td>\n",
       "      <td>Ventas</td>\n",
       "      <td>0.0</td>\n",
       "      <td>0.665861</td>\n",
       "      <td>0.652831</td>\n",
       "    </tr>\n",
       "    <tr>\n",
       "      <th>2947973</th>\n",
       "      <td>1112423441</td>\n",
       "      <td>NV9M64</td>\n",
       "      <td>3.0</td>\n",
       "      <td>1</td>\n",
       "      <td>2.0</td>\n",
       "      <td>0.0</td>\n",
       "      <td>Recepcionista Para Estudio Juridico</td>\n",
       "      <td>10</td>\n",
       "      <td>2</td>\n",
       "      <td>2</td>\n",
       "      <td>Recepcionista</td>\n",
       "      <td>1.0</td>\n",
       "      <td>0.205458</td>\n",
       "      <td>0.652831</td>\n",
       "    </tr>\n",
       "    <tr>\n",
       "      <th>748861</th>\n",
       "      <td>1112257059</td>\n",
       "      <td>Dr6A4L5</td>\n",
       "      <td>4.0</td>\n",
       "      <td>2</td>\n",
       "      <td>2.0</td>\n",
       "      <td>0.0</td>\n",
       "      <td>IT - Software</td>\n",
       "      <td>10</td>\n",
       "      <td>3</td>\n",
       "      <td>3</td>\n",
       "      <td>Tecnologia / Sistemas</td>\n",
       "      <td>0.0</td>\n",
       "      <td>0.665861</td>\n",
       "      <td>0.652831</td>\n",
       "    </tr>\n",
       "    <tr>\n",
       "      <th>1004052</th>\n",
       "      <td>1112212715</td>\n",
       "      <td>Nx45l5</td>\n",
       "      <td>2.0</td>\n",
       "      <td>1</td>\n",
       "      <td>4.0</td>\n",
       "      <td>0.0</td>\n",
       "      <td>Responsable Comercial Avellaneda</td>\n",
       "      <td>10</td>\n",
       "      <td>3</td>\n",
       "      <td>3</td>\n",
       "      <td>Comercial</td>\n",
       "      <td>0.0</td>\n",
       "      <td>0.640946</td>\n",
       "      <td>0.652831</td>\n",
       "    </tr>\n",
       "    <tr>\n",
       "      <th>2062006</th>\n",
       "      <td>1112305722</td>\n",
       "      <td>ekv0JXj</td>\n",
       "      <td>1.0</td>\n",
       "      <td>1</td>\n",
       "      <td>4.0</td>\n",
       "      <td>1.0</td>\n",
       "      <td>Telemarketer - Venta Telefónica - Call Center</td>\n",
       "      <td>9</td>\n",
       "      <td>2</td>\n",
       "      <td>3</td>\n",
       "      <td>Telemarketing</td>\n",
       "      <td>1.0</td>\n",
       "      <td>0.246602</td>\n",
       "      <td>0.466237</td>\n",
       "    </tr>\n",
       "  </tbody>\n",
       "</table>\n",
       "</div>"
      ],
      "text/plain": [
       "            idaviso idpostulante  rango_edad  sexo  nivel_estudios  \\\n",
       "388572   1112269905      Yj5b66P         3.0     2             2.0   \n",
       "2947973  1112423441       NV9M64         3.0     1             2.0   \n",
       "748861   1112257059      Dr6A4L5         4.0     2             2.0   \n",
       "1004052  1112212715       Nx45l5         2.0     1             4.0   \n",
       "2062006  1112305722      ekv0JXj         1.0     1             4.0   \n",
       "\n",
       "         esta_estudiando                                             titulo  \\\n",
       "388572               0.0  Social Media con experiencia en ventas en Merc...   \n",
       "2947973              0.0                Recepcionista Para Estudio Juridico   \n",
       "748861               0.0                                      IT - Software   \n",
       "1004052              0.0                   Responsable Comercial Avellaneda   \n",
       "2062006              1.0      Telemarketer - Venta Telefónica - Call Center   \n",
       "\n",
       "         tipo_de_trabajo  nivel_laboral  nombre_zona            nombre_area  \\\n",
       "388572                10              3            3                 Ventas   \n",
       "2947973               10              2            2          Recepcionista   \n",
       "748861                10              3            3  Tecnologia / Sistemas   \n",
       "1004052               10              3            3              Comercial   \n",
       "2062006                9              2            3          Telemarketing   \n",
       "\n",
       "         sepostulo  estudios_vs_laboral  estudia_vs_tipo_trabajo  \n",
       "388572         0.0             0.665861                 0.652831  \n",
       "2947973        1.0             0.205458                 0.652831  \n",
       "748861         0.0             0.665861                 0.652831  \n",
       "1004052        0.0             0.640946                 0.652831  \n",
       "2062006        1.0             0.246602                 0.466237  "
      ]
     },
     "execution_count": 17,
     "metadata": {},
     "output_type": "execute_result"
    }
   ],
   "source": [
    "modelo.sample(5)"
   ]
  },
  {
   "cell_type": "markdown",
   "metadata": {},
   "source": [
    " "
   ]
  },
  {
   "cell_type": "markdown",
   "metadata": {},
   "source": [
    "### Rango de edad vs Tipo de trabajo"
   ]
  },
  {
   "cell_type": "markdown",
   "metadata": {},
   "source": [
    "Rango de edad:\n",
    "- 1 = 18-25 \n",
    "- 2 = 26-30\n",
    "- 3 = 31-40\n",
    "- 4 = 41-68"
   ]
  },
  {
   "cell_type": "markdown",
   "metadata": {},
   "source": [
    "Tipo de trabajo:\n",
    "- 1 = Voluntario\n",
    "- 2 = Primer Empleo\n",
    "- 3 = Fines de Semana\n",
    "- 4 = Por Contrato\n",
    "- 5 = Temporario\n",
    "- 6 = Pasantia\n",
    "- 7 = Por Horas\n",
    "- 8 = Teletrabajo\n",
    "- 9 = Part-time\n",
    "- 10 = Full-time"
   ]
  },
  {
   "cell_type": "code",
   "execution_count": 18,
   "metadata": {},
   "outputs": [
    {
     "data": {
      "text/plain": [
       "1.0    515062\n",
       "2.0    445065\n",
       "3.0    397950\n",
       "4.0    141923\n",
       "Name: rango_edad, dtype: int64"
      ]
     },
     "execution_count": 18,
     "metadata": {},
     "output_type": "execute_result"
    }
   ],
   "source": [
    "modelo_si['rango_edad'].value_counts()"
   ]
  },
  {
   "cell_type": "code",
   "execution_count": 19,
   "metadata": {},
   "outputs": [
    {
     "data": {
      "text/plain": [
       "10    1270526\n",
       "9      206275\n",
       "6        7566\n",
       "7        5035\n",
       "5        3976\n",
       "3        2212\n",
       "4        2191\n",
       "8        1595\n",
       "2         557\n",
       "1          67\n",
       "Name: tipo_de_trabajo, dtype: int64"
      ]
     },
     "execution_count": 19,
     "metadata": {},
     "output_type": "execute_result"
    }
   ],
   "source": [
    "modelo_si['tipo_de_trabajo'].value_counts()"
   ]
  },
  {
   "cell_type": "code",
   "execution_count": 20,
   "metadata": {},
   "outputs": [
    {
     "data": {
      "text/html": [
       "<div>\n",
       "<style scoped>\n",
       "    .dataframe tbody tr th:only-of-type {\n",
       "        vertical-align: middle;\n",
       "    }\n",
       "\n",
       "    .dataframe tbody tr th {\n",
       "        vertical-align: top;\n",
       "    }\n",
       "\n",
       "    .dataframe thead th {\n",
       "        text-align: right;\n",
       "    }\n",
       "</style>\n",
       "<table border=\"1\" class=\"dataframe\">\n",
       "  <thead>\n",
       "    <tr style=\"text-align: right;\">\n",
       "      <th>tipo_de_trabajo</th>\n",
       "      <th>1</th>\n",
       "      <th>2</th>\n",
       "      <th>3</th>\n",
       "      <th>4</th>\n",
       "      <th>5</th>\n",
       "      <th>6</th>\n",
       "      <th>7</th>\n",
       "      <th>8</th>\n",
       "      <th>9</th>\n",
       "      <th>10</th>\n",
       "    </tr>\n",
       "    <tr>\n",
       "      <th>rango_edad</th>\n",
       "      <th></th>\n",
       "      <th></th>\n",
       "      <th></th>\n",
       "      <th></th>\n",
       "      <th></th>\n",
       "      <th></th>\n",
       "      <th></th>\n",
       "      <th></th>\n",
       "      <th></th>\n",
       "      <th></th>\n",
       "    </tr>\n",
       "  </thead>\n",
       "  <tbody>\n",
       "    <tr>\n",
       "      <th>1.0</th>\n",
       "      <td>0.507463</td>\n",
       "      <td>0.707361</td>\n",
       "      <td>0.464738</td>\n",
       "      <td>0.243268</td>\n",
       "      <td>0.317907</td>\n",
       "      <td>0.623976</td>\n",
       "      <td>0.361668</td>\n",
       "      <td>0.376803</td>\n",
       "      <td>0.502475</td>\n",
       "      <td>0.315631</td>\n",
       "    </tr>\n",
       "    <tr>\n",
       "      <th>2.0</th>\n",
       "      <td>0.298507</td>\n",
       "      <td>0.179533</td>\n",
       "      <td>0.284358</td>\n",
       "      <td>0.321771</td>\n",
       "      <td>0.311368</td>\n",
       "      <td>0.255617</td>\n",
       "      <td>0.295531</td>\n",
       "      <td>0.263950</td>\n",
       "      <td>0.258020</td>\n",
       "      <td>0.303266</td>\n",
       "    </tr>\n",
       "    <tr>\n",
       "      <th>3.0</th>\n",
       "      <td>0.179104</td>\n",
       "      <td>0.095153</td>\n",
       "      <td>0.199819</td>\n",
       "      <td>0.322227</td>\n",
       "      <td>0.280936</td>\n",
       "      <td>0.104282</td>\n",
       "      <td>0.257001</td>\n",
       "      <td>0.270846</td>\n",
       "      <td>0.185413</td>\n",
       "      <td>0.279301</td>\n",
       "    </tr>\n",
       "    <tr>\n",
       "      <th>4.0</th>\n",
       "      <td>0.014925</td>\n",
       "      <td>0.017953</td>\n",
       "      <td>0.051085</td>\n",
       "      <td>0.112734</td>\n",
       "      <td>0.089789</td>\n",
       "      <td>0.016125</td>\n",
       "      <td>0.085799</td>\n",
       "      <td>0.088401</td>\n",
       "      <td>0.054093</td>\n",
       "      <td>0.101802</td>\n",
       "    </tr>\n",
       "  </tbody>\n",
       "</table>\n",
       "</div>"
      ],
      "text/plain": [
       "tipo_de_trabajo        1         2         3         4         5         6   \\\n",
       "rango_edad                                                                    \n",
       "1.0              0.507463  0.707361  0.464738  0.243268  0.317907  0.623976   \n",
       "2.0              0.298507  0.179533  0.284358  0.321771  0.311368  0.255617   \n",
       "3.0              0.179104  0.095153  0.199819  0.322227  0.280936  0.104282   \n",
       "4.0              0.014925  0.017953  0.051085  0.112734  0.089789  0.016125   \n",
       "\n",
       "tipo_de_trabajo        7         8         9         10  \n",
       "rango_edad                                               \n",
       "1.0              0.361668  0.376803  0.502475  0.315631  \n",
       "2.0              0.295531  0.263950  0.258020  0.303266  \n",
       "3.0              0.257001  0.270846  0.185413  0.279301  \n",
       "4.0              0.085799  0.088401  0.054093  0.101802  "
      ]
     },
     "execution_count": 20,
     "metadata": {},
     "output_type": "execute_result"
    }
   ],
   "source": [
    "edad_vs_tipo_trabajo_t = pd.crosstab(modelo_si['rango_edad'], modelo_si['tipo_de_trabajo'], normalize='columns')\n",
    "edad_vs_tipo_trabajo_t"
   ]
  },
  {
   "cell_type": "code",
   "execution_count": 21,
   "metadata": {},
   "outputs": [
    {
     "data": {
      "text/plain": [
       "<matplotlib.text.Text at 0x7fca5078a908>"
      ]
     },
     "execution_count": 21,
     "metadata": {},
     "output_type": "execute_result"
    },
    {
     "data": {
      "image/png": "[encoded data removed]",
      "text/plain": [
       "<matplotlib.figure.Figure at 0x7fca509207f0>"
      ]
     },
     "metadata": {},
     "output_type": "display_data"
    }
   ],
   "source": [
    "fig, ax = plt.subplots(figsize=(14,4))\n",
    "heatmap = sns.heatmap(edad_vs_tipo_trabajo_t, cmap='Greens', robust=False, annot=False,\\\n",
    "                      linewidths=.5, linecolor='grey', ax=ax)\n",
    "\n",
    "heatmap.set_title('Rango edad vs Tipo de trabajo', fontsize=18)\n",
    "heatmap.set_xlabel('Tipo de trabajo', fontsize=14)\n",
    "heatmap.set_ylabel('Rango edad', fontsize=14)"
   ]
  },
  {
   "cell_type": "markdown",
   "metadata": {},
   "source": [
    "Creamos una columna en el dataframe contenedora del peso correspondiente a la combinación de las dos variables categóricas."
   ]
  },
  {
   "cell_type": "code",
   "execution_count": 22,
   "metadata": {},
   "outputs": [],
   "source": [
    "n_trabajos = 10\n",
    "for index, row in edad_vs_tipo_trabajo_t.iterrows():\n",
    "    for i in range(1,n_trabajos+1):\n",
    "        peso = row[i]\n",
    "        tipo_trabajo = i\n",
    "        rango_edad = index\n",
    "        relacion = (modelo['tipo_de_trabajo'] == tipo_trabajo) & (modelo['rango_edad'] == rango_edad)\n",
    "        modelo.loc[(relacion), 'edad_vs_tipo_trabajo'] = peso"
   ]
  },
  {
   "cell_type": "code",
   "execution_count": 23,
   "metadata": {},
   "outputs": [
    {
     "data": {
      "text/html": [
       "<div>\n",
       "<style scoped>\n",
       "    .dataframe tbody tr th:only-of-type {\n",
       "        vertical-align: middle;\n",
       "    }\n",
       "\n",
       "    .dataframe tbody tr th {\n",
       "        vertical-align: top;\n",
       "    }\n",
       "\n",
       "    .dataframe thead th {\n",
       "        text-align: right;\n",
       "    }\n",
       "</style>\n",
       "<table border=\"1\" class=\"dataframe\">\n",
       "  <thead>\n",
       "    <tr style=\"text-align: right;\">\n",
       "      <th></th>\n",
       "      <th>idaviso</th>\n",
       "      <th>idpostulante</th>\n",
       "      <th>rango_edad</th>\n",
       "      <th>sexo</th>\n",
       "      <th>nivel_estudios</th>\n",
       "      <th>esta_estudiando</th>\n",
       "      <th>titulo</th>\n",
       "      <th>tipo_de_trabajo</th>\n",
       "      <th>nivel_laboral</th>\n",
       "      <th>nombre_zona</th>\n",
       "      <th>nombre_area</th>\n",
       "      <th>sepostulo</th>\n",
       "      <th>estudios_vs_laboral</th>\n",
       "      <th>estudia_vs_tipo_trabajo</th>\n",
       "      <th>edad_vs_tipo_trabajo</th>\n",
       "    </tr>\n",
       "  </thead>\n",
       "  <tbody>\n",
       "    <tr>\n",
       "      <th>1418052</th>\n",
       "      <td>1112098511</td>\n",
       "      <td>Ez0LwWb</td>\n",
       "      <td>2.0</td>\n",
       "      <td>1</td>\n",
       "      <td>6.0</td>\n",
       "      <td>1.0</td>\n",
       "      <td>Analista Sr. De Tesorería</td>\n",
       "      <td>10</td>\n",
       "      <td>3</td>\n",
       "      <td>3</td>\n",
       "      <td>Tesorería</td>\n",
       "      <td>0.0</td>\n",
       "      <td>0.656865</td>\n",
       "      <td>0.347169</td>\n",
       "      <td>0.303266</td>\n",
       "    </tr>\n",
       "    <tr>\n",
       "      <th>2826618</th>\n",
       "      <td>1112305373</td>\n",
       "      <td>DrXRdW5</td>\n",
       "      <td>1.0</td>\n",
       "      <td>2</td>\n",
       "      <td>2.0</td>\n",
       "      <td>1.0</td>\n",
       "      <td>Operarios de Expedición - Puesto Efectivo - Li...</td>\n",
       "      <td>10</td>\n",
       "      <td>3</td>\n",
       "      <td>3</td>\n",
       "      <td>Producción</td>\n",
       "      <td>1.0</td>\n",
       "      <td>0.665861</td>\n",
       "      <td>0.347169</td>\n",
       "      <td>0.315631</td>\n",
       "    </tr>\n",
       "    <tr>\n",
       "      <th>2466987</th>\n",
       "      <td>1112374115</td>\n",
       "      <td>JBrNX43</td>\n",
       "      <td>1.0</td>\n",
       "      <td>1</td>\n",
       "      <td>3.0</td>\n",
       "      <td>0.0</td>\n",
       "      <td>Operador telefónico: Área de Retención</td>\n",
       "      <td>9</td>\n",
       "      <td>2</td>\n",
       "      <td>3</td>\n",
       "      <td>Call Center</td>\n",
       "      <td>1.0</td>\n",
       "      <td>0.222439</td>\n",
       "      <td>0.533763</td>\n",
       "      <td>0.502475</td>\n",
       "    </tr>\n",
       "    <tr>\n",
       "      <th>2795553</th>\n",
       "      <td>1112249335</td>\n",
       "      <td>Ezl5wKN</td>\n",
       "      <td>4.0</td>\n",
       "      <td>2</td>\n",
       "      <td>3.0</td>\n",
       "      <td>0.0</td>\n",
       "      <td>Representante de Ventas Telefónicas</td>\n",
       "      <td>9</td>\n",
       "      <td>3</td>\n",
       "      <td>3</td>\n",
       "      <td>Ventas</td>\n",
       "      <td>1.0</td>\n",
       "      <td>0.659570</td>\n",
       "      <td>0.533763</td>\n",
       "      <td>0.054093</td>\n",
       "    </tr>\n",
       "    <tr>\n",
       "      <th>1032218</th>\n",
       "      <td>1112455129</td>\n",
       "      <td>DrXkOWd</td>\n",
       "      <td>3.0</td>\n",
       "      <td>1</td>\n",
       "      <td>3.0</td>\n",
       "      <td>1.0</td>\n",
       "      <td>RESPONSABLE DE CADENA DE SUMINISTRO</td>\n",
       "      <td>10</td>\n",
       "      <td>3</td>\n",
       "      <td>3</td>\n",
       "      <td>Logística</td>\n",
       "      <td>0.0</td>\n",
       "      <td>0.659570</td>\n",
       "      <td>0.347169</td>\n",
       "      <td>0.279301</td>\n",
       "    </tr>\n",
       "  </tbody>\n",
       "</table>\n",
       "</div>"
      ],
      "text/plain": [
       "            idaviso idpostulante  rango_edad  sexo  nivel_estudios  \\\n",
       "1418052  1112098511      Ez0LwWb         2.0     1             6.0   \n",
       "2826618  1112305373      DrXRdW5         1.0     2             2.0   \n",
       "2466987  1112374115      JBrNX43         1.0     1             3.0   \n",
       "2795553  1112249335      Ezl5wKN         4.0     2             3.0   \n",
       "1032218  1112455129      DrXkOWd         3.0     1             3.0   \n",
       "\n",
       "         esta_estudiando                                             titulo  \\\n",
       "1418052              1.0                          Analista Sr. De Tesorería   \n",
       "2826618              1.0  Operarios de Expedición - Puesto Efectivo - Li...   \n",
       "2466987              0.0             Operador telefónico: Área de Retención   \n",
       "2795553              0.0                Representante de Ventas Telefónicas   \n",
       "1032218              1.0                RESPONSABLE DE CADENA DE SUMINISTRO   \n",
       "\n",
       "         tipo_de_trabajo  nivel_laboral  nombre_zona  nombre_area  sepostulo  \\\n",
       "1418052               10              3            3    Tesorería        0.0   \n",
       "2826618               10              3            3   Producción        1.0   \n",
       "2466987                9              2            3  Call Center        1.0   \n",
       "2795553                9              3            3       Ventas        1.0   \n",
       "1032218               10              3            3    Logística        0.0   \n",
       "\n",
       "         estudios_vs_laboral  estudia_vs_tipo_trabajo  edad_vs_tipo_trabajo  \n",
       "1418052             0.656865                 0.347169              0.303266  \n",
       "2826618             0.665861                 0.347169              0.315631  \n",
       "2466987             0.222439                 0.533763              0.502475  \n",
       "2795553             0.659570                 0.533763              0.054093  \n",
       "1032218             0.659570                 0.347169              0.279301  "
      ]
     },
     "execution_count": 23,
     "metadata": {},
     "output_type": "execute_result"
    }
   ],
   "source": [
    "modelo.sample(5)"
   ]
  },
  {
   "cell_type": "markdown",
   "metadata": {},
   "source": [
    " "
   ]
  },
  {
   "cell_type": "markdown",
   "metadata": {},
   "source": [
    "### Rango de edad vs Nombre zona"
   ]
  },
  {
   "cell_type": "markdown",
   "metadata": {},
   "source": [
    "Rango de edad:\n",
    "- 1 = 18-25 \n",
    "- 2 = 26-30\n",
    "- 3 = 31-40\n",
    "- 4 = 41-68"
   ]
  },
  {
   "cell_type": "markdown",
   "metadata": {},
   "source": [
    "Nombre zona:\n",
    "- 1 = Otros\n",
    "- 2 = Capital Federal\n",
    "- 3 = Gran Buenos Aires"
   ]
  },
  {
   "cell_type": "code",
   "execution_count": 24,
   "metadata": {},
   "outputs": [
    {
     "data": {
      "text/plain": [
       "1.0    970076\n",
       "3.0    834560\n",
       "2.0    831195\n",
       "4.0    364169\n",
       "Name: rango_edad, dtype: int64"
      ]
     },
     "execution_count": 24,
     "metadata": {},
     "output_type": "execute_result"
    }
   ],
   "source": [
    "modelo['rango_edad'].value_counts()"
   ]
  },
  {
   "cell_type": "code",
   "execution_count": 25,
   "metadata": {},
   "outputs": [
    {
     "data": {
      "text/plain": [
       "3    2778580\n",
       "2     220523\n",
       "1        897\n",
       "Name: nombre_zona, dtype: int64"
      ]
     },
     "execution_count": 25,
     "metadata": {},
     "output_type": "execute_result"
    }
   ],
   "source": [
    "modelo['nombre_zona'].value_counts()"
   ]
  },
  {
   "cell_type": "code",
   "execution_count": 26,
   "metadata": {},
   "outputs": [
    {
     "data": {
      "text/html": [
       "<div>\n",
       "<style scoped>\n",
       "    .dataframe tbody tr th:only-of-type {\n",
       "        vertical-align: middle;\n",
       "    }\n",
       "\n",
       "    .dataframe tbody tr th {\n",
       "        vertical-align: top;\n",
       "    }\n",
       "\n",
       "    .dataframe thead th {\n",
       "        text-align: right;\n",
       "    }\n",
       "</style>\n",
       "<table border=\"1\" class=\"dataframe\">\n",
       "  <thead>\n",
       "    <tr style=\"text-align: right;\">\n",
       "      <th>nombre_zona</th>\n",
       "      <th>2</th>\n",
       "      <th>3</th>\n",
       "    </tr>\n",
       "    <tr>\n",
       "      <th>rango_edad</th>\n",
       "      <th></th>\n",
       "      <th></th>\n",
       "    </tr>\n",
       "  </thead>\n",
       "  <tbody>\n",
       "    <tr>\n",
       "      <th>1.0</th>\n",
       "      <td>0.358279</td>\n",
       "      <td>0.342268</td>\n",
       "    </tr>\n",
       "    <tr>\n",
       "      <th>2.0</th>\n",
       "      <td>0.296940</td>\n",
       "      <td>0.296693</td>\n",
       "    </tr>\n",
       "    <tr>\n",
       "      <th>3.0</th>\n",
       "      <td>0.255237</td>\n",
       "      <td>0.266047</td>\n",
       "    </tr>\n",
       "    <tr>\n",
       "      <th>4.0</th>\n",
       "      <td>0.089543</td>\n",
       "      <td>0.094992</td>\n",
       "    </tr>\n",
       "  </tbody>\n",
       "</table>\n",
       "</div>"
      ],
      "text/plain": [
       "nombre_zona         2         3\n",
       "rango_edad                     \n",
       "1.0          0.358279  0.342268\n",
       "2.0          0.296940  0.296693\n",
       "3.0          0.255237  0.266047\n",
       "4.0          0.089543  0.094992"
      ]
     },
     "execution_count": 26,
     "metadata": {},
     "output_type": "execute_result"
    }
   ],
   "source": [
    "edad_vs_zona_t = pd.crosstab(modelo_si['rango_edad'], modelo_si['nombre_zona'], normalize='columns')\n",
    "edad_vs_zona_t"
   ]
  },
  {
   "cell_type": "code",
   "execution_count": 27,
   "metadata": {},
   "outputs": [
    {
     "data": {
      "text/plain": [
       "<matplotlib.text.Text at 0x7fca506c18d0>"
      ]
     },
     "execution_count": 27,
     "metadata": {},
     "output_type": "execute_result"
    },
    {
     "data": {
      "image/png": "[encoded data removed]",
      "text/plain": [
       "<matplotlib.figure.Figure at 0x7fca506bb160>"
      ]
     },
     "metadata": {},
     "output_type": "display_data"
    }
   ],
   "source": [
    "fig, ax = plt.subplots(figsize=(14,4))\n",
    "heatmap = sns.heatmap(edad_vs_zona_t, cmap='Purples', robust=False, annot=False,\\\n",
    "                      linewidths=.5, linecolor='grey', ax=ax)\n",
    "\n",
    "heatmap.set_title('Rango edad vs Nombre zona', fontsize=18)\n",
    "heatmap.set_xlabel('Nombre zona', fontsize=14)\n",
    "heatmap.set_ylabel('Rango edad', fontsize=14)"
   ]
  },
  {
   "cell_type": "markdown",
   "metadata": {},
   "source": [
    "Creamos una columna en el dataframe contenedora del peso correspondiente a la combinación de las dos variables categóricas."
   ]
  },
  {
   "cell_type": "code",
   "execution_count": 28,
   "metadata": {},
   "outputs": [],
   "source": [
    "n_zonas = 3\n",
    "for index, row in edad_vs_zona_t.iterrows():\n",
    "    for i in range(2,n_zonas+1):\n",
    "        peso = row[i]\n",
    "        nombre_zona = i\n",
    "        rango_edad = index\n",
    "        relacion = (modelo['nombre_zona'] == nombre_zona) & (modelo['rango_edad'] == rango_edad)\n",
    "        modelo.loc[(relacion), 'edad_vs_zona'] = peso"
   ]
  },
  {
   "cell_type": "code",
   "execution_count": 29,
   "metadata": {},
   "outputs": [
    {
     "data": {
      "text/html": [
       "<div>\n",
       "<style scoped>\n",
       "    .dataframe tbody tr th:only-of-type {\n",
       "        vertical-align: middle;\n",
       "    }\n",
       "\n",
       "    .dataframe tbody tr th {\n",
       "        vertical-align: top;\n",
       "    }\n",
       "\n",
       "    .dataframe thead th {\n",
       "        text-align: right;\n",
       "    }\n",
       "</style>\n",
       "<table border=\"1\" class=\"dataframe\">\n",
       "  <thead>\n",
       "    <tr style=\"text-align: right;\">\n",
       "      <th></th>\n",
       "      <th>idaviso</th>\n",
       "      <th>idpostulante</th>\n",
       "      <th>rango_edad</th>\n",
       "      <th>sexo</th>\n",
       "      <th>nivel_estudios</th>\n",
       "      <th>esta_estudiando</th>\n",
       "      <th>titulo</th>\n",
       "      <th>tipo_de_trabajo</th>\n",
       "      <th>nivel_laboral</th>\n",
       "      <th>nombre_zona</th>\n",
       "      <th>nombre_area</th>\n",
       "      <th>sepostulo</th>\n",
       "      <th>estudios_vs_laboral</th>\n",
       "      <th>estudia_vs_tipo_trabajo</th>\n",
       "      <th>edad_vs_tipo_trabajo</th>\n",
       "      <th>edad_vs_zona</th>\n",
       "    </tr>\n",
       "  </thead>\n",
       "  <tbody>\n",
       "    <tr>\n",
       "      <th>943182</th>\n",
       "      <td>1112440538</td>\n",
       "      <td>5MP6pv</td>\n",
       "      <td>4.0</td>\n",
       "      <td>2</td>\n",
       "      <td>6.0</td>\n",
       "      <td>1.0</td>\n",
       "      <td>Desarrolladores Sr, Ssr y Jr</td>\n",
       "      <td>10</td>\n",
       "      <td>3</td>\n",
       "      <td>3</td>\n",
       "      <td>Programación</td>\n",
       "      <td>0.0</td>\n",
       "      <td>0.656865</td>\n",
       "      <td>0.347169</td>\n",
       "      <td>0.101802</td>\n",
       "      <td>0.094992</td>\n",
       "    </tr>\n",
       "    <tr>\n",
       "      <th>2117918</th>\n",
       "      <td>1112235610</td>\n",
       "      <td>GNOXK1v</td>\n",
       "      <td>1.0</td>\n",
       "      <td>1</td>\n",
       "      <td>2.0</td>\n",
       "      <td>0.0</td>\n",
       "      <td>Secretaria Administrativa</td>\n",
       "      <td>10</td>\n",
       "      <td>3</td>\n",
       "      <td>3</td>\n",
       "      <td>Secretaria</td>\n",
       "      <td>1.0</td>\n",
       "      <td>0.665861</td>\n",
       "      <td>0.652831</td>\n",
       "      <td>0.315631</td>\n",
       "      <td>0.342268</td>\n",
       "    </tr>\n",
       "    <tr>\n",
       "      <th>2158799</th>\n",
       "      <td>1112306744</td>\n",
       "      <td>BmD628a</td>\n",
       "      <td>4.0</td>\n",
       "      <td>2</td>\n",
       "      <td>2.0</td>\n",
       "      <td>1.0</td>\n",
       "      <td>Empleado de limpieza/ Villa Soldati</td>\n",
       "      <td>9</td>\n",
       "      <td>2</td>\n",
       "      <td>3</td>\n",
       "      <td>Mantenimiento y Limpieza</td>\n",
       "      <td>1.0</td>\n",
       "      <td>0.205458</td>\n",
       "      <td>0.466237</td>\n",
       "      <td>0.054093</td>\n",
       "      <td>0.094992</td>\n",
       "    </tr>\n",
       "    <tr>\n",
       "      <th>352248</th>\n",
       "      <td>1112338869</td>\n",
       "      <td>1QPN5lb</td>\n",
       "      <td>1.0</td>\n",
       "      <td>1</td>\n",
       "      <td>3.0</td>\n",
       "      <td>1.0</td>\n",
       "      <td>Operario con libreta sanitaria vigente</td>\n",
       "      <td>10</td>\n",
       "      <td>3</td>\n",
       "      <td>3</td>\n",
       "      <td>Producción</td>\n",
       "      <td>0.0</td>\n",
       "      <td>0.659570</td>\n",
       "      <td>0.347169</td>\n",
       "      <td>0.315631</td>\n",
       "      <td>0.342268</td>\n",
       "    </tr>\n",
       "    <tr>\n",
       "      <th>2040211</th>\n",
       "      <td>1112303663</td>\n",
       "      <td>1ldQZb</td>\n",
       "      <td>4.0</td>\n",
       "      <td>1</td>\n",
       "      <td>4.0</td>\n",
       "      <td>0.0</td>\n",
       "      <td>Secretaria Administrativa - Villa Urquiza</td>\n",
       "      <td>10</td>\n",
       "      <td>2</td>\n",
       "      <td>3</td>\n",
       "      <td>Secretaria</td>\n",
       "      <td>1.0</td>\n",
       "      <td>0.246602</td>\n",
       "      <td>0.652831</td>\n",
       "      <td>0.101802</td>\n",
       "      <td>0.094992</td>\n",
       "    </tr>\n",
       "  </tbody>\n",
       "</table>\n",
       "</div>"
      ],
      "text/plain": [
       "            idaviso idpostulante  rango_edad  sexo  nivel_estudios  \\\n",
       "943182   1112440538       5MP6pv         4.0     2             6.0   \n",
       "2117918  1112235610      GNOXK1v         1.0     1             2.0   \n",
       "2158799  1112306744      BmD628a         4.0     2             2.0   \n",
       "352248   1112338869      1QPN5lb         1.0     1             3.0   \n",
       "2040211  1112303663       1ldQZb         4.0     1             4.0   \n",
       "\n",
       "         esta_estudiando                                     titulo  \\\n",
       "943182               1.0               Desarrolladores Sr, Ssr y Jr   \n",
       "2117918              0.0                  Secretaria Administrativa   \n",
       "2158799              1.0       Empleado de limpieza/ Villa Soldati    \n",
       "352248               1.0     Operario con libreta sanitaria vigente   \n",
       "2040211              0.0  Secretaria Administrativa - Villa Urquiza   \n",
       "\n",
       "         tipo_de_trabajo  nivel_laboral  nombre_zona  \\\n",
       "943182                10              3            3   \n",
       "2117918               10              3            3   \n",
       "2158799                9              2            3   \n",
       "352248                10              3            3   \n",
       "2040211               10              2            3   \n",
       "\n",
       "                      nombre_area  sepostulo  estudios_vs_laboral  \\\n",
       "943182               Programación        0.0             0.656865   \n",
       "2117918                Secretaria        1.0             0.665861   \n",
       "2158799  Mantenimiento y Limpieza        1.0             0.205458   \n",
       "352248                 Producción        0.0             0.659570   \n",
       "2040211                Secretaria        1.0             0.246602   \n",
       "\n",
       "         estudia_vs_tipo_trabajo  edad_vs_tipo_trabajo  edad_vs_zona  \n",
       "943182                  0.347169              0.101802      0.094992  \n",
       "2117918                 0.652831              0.315631      0.342268  \n",
       "2158799                 0.466237              0.054093      0.094992  \n",
       "352248                  0.347169              0.315631      0.342268  \n",
       "2040211                 0.652831              0.101802      0.094992  "
      ]
     },
     "execution_count": 29,
     "metadata": {},
     "output_type": "execute_result"
    }
   ],
   "source": [
    "modelo.sample(5)"
   ]
  },
  {
   "cell_type": "code",
   "execution_count": 30,
   "metadata": {},
   "outputs": [
    {
     "name": "stdout",
     "output_type": "stream",
     "text": [
      "<class 'pandas.core.frame.DataFrame'>\n",
      "RangeIndex: 3000000 entries, 0 to 2999999\n",
      "Data columns (total 16 columns):\n",
      "idaviso                    int64\n",
      "idpostulante               object\n",
      "rango_edad                 float64\n",
      "sexo                       int64\n",
      "nivel_estudios             float64\n",
      "esta_estudiando            float64\n",
      "titulo                     object\n",
      "tipo_de_trabajo            int64\n",
      "nivel_laboral              int64\n",
      "nombre_zona                int64\n",
      "nombre_area                object\n",
      "sepostulo                  float64\n",
      "estudios_vs_laboral        float64\n",
      "estudia_vs_tipo_trabajo    float64\n",
      "edad_vs_tipo_trabajo       float64\n",
      "edad_vs_zona               float64\n",
      "dtypes: float64(8), int64(5), object(3)\n",
      "memory usage: 366.2+ MB\n"
     ]
    }
   ],
   "source": [
    "modelo.info()"
   ]
  },
  {
   "cell_type": "markdown",
   "metadata": {},
   "source": [
    " "
   ]
  },
  {
   "cell_type": "markdown",
   "metadata": {},
   "source": [
    "### Relación entre las distintas áreas"
   ]
  },
  {
   "cell_type": "markdown",
   "metadata": {},
   "source": [
    "La idea es encontrar relaciones fuertes entre las distintas áreas de los avisos laborales. Para esto, comenzamos por analizar las áreas a las que se postuló cada postulante.\n",
    "\n",
    "Cabe destacar que únicamente nos interesa si el postulante se postuló o no a una cierta área: no influye la cantidad de veces que lo hizo."
   ]
  },
  {
   "cell_type": "code",
   "execution_count": 31,
   "metadata": {},
   "outputs": [],
   "source": [
    "# Eliminamos las postulaciones duplicadas de un mismo postulante a una misma área\n",
    "modelo_areas = modelo_si.drop_duplicates(['idpostulante','nombre_area'])\n",
    "\n",
    "# Creamos un diccionario del estilo {idpostulante:[areas_a_las_que_se_postulo]}\n",
    "dic_id_area = {}\n",
    "for index, row in modelo_si.iterrows():\n",
    "    area = row['nombre_area']\n",
    "    idpostulante = row['idpostulante']\n",
    "    if (idpostulante not in dic_id_area):\n",
    "        dic_id_area[idpostulante] = [area]\n",
    "    else:\n",
    "        if (area not in dic_id_area[idpostulante]):\n",
    "            dic_id_area[idpostulante].append(area)"
   ]
  },
  {
   "cell_type": "markdown",
   "metadata": {},
   "source": [
    "Creamos una lista de listas. Cada sublista contiene las areas a las que se postuló cada postulante. Ya no nos interesa el idpostulante, sino las areas en común.\n",
    "\n",
    "NOTA: tomamos listas de mas de un elemento y menos de 8, ya que luego calcularemos todas las duplas\n",
    "posibles para cada lista. Considerar que 7C2 = 21 duplas como máximo por lista."
   ]
  },
  {
   "cell_type": "code",
   "execution_count": 32,
   "metadata": {},
   "outputs": [],
   "source": [
    "lista_areas = []\n",
    "for id in dic_id_area:\n",
    "    areas = dic_id_area[id]\n",
    "    if (len(areas) > 1 and len(areas) < 8):\n",
    "        lista_areas.append(areas)"
   ]
  },
  {
   "cell_type": "code",
   "execution_count": 33,
   "metadata": {},
   "outputs": [
    {
     "data": {
      "text/html": [
       "<div>\n",
       "<style scoped>\n",
       "    .dataframe tbody tr th:only-of-type {\n",
       "        vertical-align: middle;\n",
       "    }\n",
       "\n",
       "    .dataframe tbody tr th {\n",
       "        vertical-align: top;\n",
       "    }\n",
       "\n",
       "    .dataframe thead th {\n",
       "        text-align: right;\n",
       "    }\n",
       "</style>\n",
       "<table border=\"1\" class=\"dataframe\">\n",
       "  <thead>\n",
       "    <tr style=\"text-align: right;\">\n",
       "      <th></th>\n",
       "      <th>areas</th>\n",
       "    </tr>\n",
       "  </thead>\n",
       "  <tbody>\n",
       "    <tr>\n",
       "      <th>0</th>\n",
       "      <td>[Ventas, Comercial, Administración, Gastronomi...</td>\n",
       "    </tr>\n",
       "    <tr>\n",
       "      <th>1</th>\n",
       "      <td>[Atención al Cliente, Ventas, Recursos Humanos...</td>\n",
       "    </tr>\n",
       "    <tr>\n",
       "      <th>2</th>\n",
       "      <td>[Planeamiento comercial, Administración, Finan...</td>\n",
       "    </tr>\n",
       "    <tr>\n",
       "      <th>3</th>\n",
       "      <td>[Camareros, Gastronomia]</td>\n",
       "    </tr>\n",
       "    <tr>\n",
       "      <th>4</th>\n",
       "      <td>[Ventas, Comercial, Gerencia / Dirección General]</td>\n",
       "    </tr>\n",
       "  </tbody>\n",
       "</table>\n",
       "</div>"
      ],
      "text/plain": [
       "                                               areas\n",
       "0  [Ventas, Comercial, Administración, Gastronomi...\n",
       "1  [Atención al Cliente, Ventas, Recursos Humanos...\n",
       "2  [Planeamiento comercial, Administración, Finan...\n",
       "3                           [Camareros, Gastronomia]\n",
       "4  [Ventas, Comercial, Gerencia / Dirección General]"
      ]
     },
     "execution_count": 33,
     "metadata": {},
     "output_type": "execute_result"
    }
   ],
   "source": [
    "df_areas = pd.DataFrame({'areas':lista_areas})\n",
    "df_areas.head(5)"
   ]
  },
  {
   "cell_type": "code",
   "execution_count": 34,
   "metadata": {},
   "outputs": [
    {
     "name": "stdout",
     "output_type": "stream",
     "text": [
      "<class 'pandas.core.frame.DataFrame'>\n",
      "RangeIndex: 136111 entries, 0 to 136110\n",
      "Data columns (total 1 columns):\n",
      "areas    136111 non-null object\n",
      "dtypes: object(1)\n",
      "memory usage: 1.0+ MB\n"
     ]
    }
   ],
   "source": [
    "df_areas.info()"
   ]
  },
  {
   "cell_type": "markdown",
   "metadata": {},
   "source": [
    " "
   ]
  },
  {
   "cell_type": "markdown",
   "metadata": {},
   "source": [
    "A continuación, calcularemos todas las duplas posibles para cada lista de áreas y las ordenaremos de mayor a menor por cantidad de apariciones. De esta forma, podremos saber cuáles son las combinaciones de áreas más comunes."
   ]
  },
  {
   "cell_type": "code",
   "execution_count": 35,
   "metadata": {},
   "outputs": [],
   "source": [
    "dic_tuplas = {}\n",
    "contador = 0\n",
    "for index, row in df_areas.iterrows():\n",
    "    areas = sorted(row['areas'])\n",
    "    for area_x in areas:\n",
    "        indice = areas.index(area_x)\n",
    "        for area_y in areas[indice+1:]:\n",
    "            tupla = (area_x, area_y)\n",
    "            if (tupla not in dic_tuplas):\n",
    "                dic_tuplas[tupla] = 1\n",
    "            else:\n",
    "                dic_tuplas[tupla] += 1"
   ]
  },
  {
   "cell_type": "code",
   "execution_count": 36,
   "metadata": {},
   "outputs": [],
   "source": [
    "df_tuplas = pd.DataFrame(list(dic_tuplas.items()), columns=['dupla_areas','cantidad'])\n",
    "df_tuplas = df_tuplas.sort_values(by=['cantidad'], ascending=False).reset_index()\n",
    "df_tuplas = df_tuplas[['dupla_areas', 'cantidad']]"
   ]
  },
  {
   "cell_type": "code",
   "execution_count": 37,
   "metadata": {},
   "outputs": [
    {
     "data": {
      "text/html": [
       "<div>\n",
       "<style scoped>\n",
       "    .dataframe tbody tr th:only-of-type {\n",
       "        vertical-align: middle;\n",
       "    }\n",
       "\n",
       "    .dataframe tbody tr th {\n",
       "        vertical-align: top;\n",
       "    }\n",
       "\n",
       "    .dataframe thead th {\n",
       "        text-align: right;\n",
       "    }\n",
       "</style>\n",
       "<table border=\"1\" class=\"dataframe\">\n",
       "  <thead>\n",
       "    <tr style=\"text-align: right;\">\n",
       "      <th></th>\n",
       "      <th>dupla_areas</th>\n",
       "      <th>cantidad</th>\n",
       "    </tr>\n",
       "  </thead>\n",
       "  <tbody>\n",
       "    <tr>\n",
       "      <th>0</th>\n",
       "      <td>(Comercial, Ventas)</td>\n",
       "      <td>20070</td>\n",
       "    </tr>\n",
       "    <tr>\n",
       "      <th>1</th>\n",
       "      <td>(Atención al Cliente, Ventas)</td>\n",
       "      <td>17055</td>\n",
       "    </tr>\n",
       "    <tr>\n",
       "      <th>2</th>\n",
       "      <td>(Call Center, Ventas)</td>\n",
       "      <td>11339</td>\n",
       "    </tr>\n",
       "    <tr>\n",
       "      <th>3</th>\n",
       "      <td>(Administración, Ventas)</td>\n",
       "      <td>11261</td>\n",
       "    </tr>\n",
       "    <tr>\n",
       "      <th>4</th>\n",
       "      <td>(Atención al Cliente, Comercial)</td>\n",
       "      <td>10376</td>\n",
       "    </tr>\n",
       "    <tr>\n",
       "      <th>5</th>\n",
       "      <td>(Atención al Cliente, Call Center)</td>\n",
       "      <td>9956</td>\n",
       "    </tr>\n",
       "    <tr>\n",
       "      <th>6</th>\n",
       "      <td>(Administración, Comercial)</td>\n",
       "      <td>8740</td>\n",
       "    </tr>\n",
       "    <tr>\n",
       "      <th>7</th>\n",
       "      <td>(Recepcionista, Ventas)</td>\n",
       "      <td>8378</td>\n",
       "    </tr>\n",
       "    <tr>\n",
       "      <th>8</th>\n",
       "      <td>(Administración, Atención al Cliente)</td>\n",
       "      <td>8011</td>\n",
       "    </tr>\n",
       "    <tr>\n",
       "      <th>9</th>\n",
       "      <td>(Telemarketing, Ventas)</td>\n",
       "      <td>7994</td>\n",
       "    </tr>\n",
       "    <tr>\n",
       "      <th>10</th>\n",
       "      <td>(Tesorería, Ventas)</td>\n",
       "      <td>7571</td>\n",
       "    </tr>\n",
       "    <tr>\n",
       "      <th>11</th>\n",
       "      <td>(Administración, Recepcionista)</td>\n",
       "      <td>7538</td>\n",
       "    </tr>\n",
       "    <tr>\n",
       "      <th>12</th>\n",
       "      <td>(Atención al Cliente, Recepcionista)</td>\n",
       "      <td>6895</td>\n",
       "    </tr>\n",
       "    <tr>\n",
       "      <th>13</th>\n",
       "      <td>(Producción, Ventas)</td>\n",
       "      <td>6479</td>\n",
       "    </tr>\n",
       "    <tr>\n",
       "      <th>14</th>\n",
       "      <td>(Call Center, Telemarketing)</td>\n",
       "      <td>6474</td>\n",
       "    </tr>\n",
       "    <tr>\n",
       "      <th>15</th>\n",
       "      <td>(Call Center, Comercial)</td>\n",
       "      <td>6425</td>\n",
       "    </tr>\n",
       "    <tr>\n",
       "      <th>16</th>\n",
       "      <td>(Comercial, Tesorería)</td>\n",
       "      <td>6109</td>\n",
       "    </tr>\n",
       "    <tr>\n",
       "      <th>17</th>\n",
       "      <td>(Atención al Cliente, Telemarketing)</td>\n",
       "      <td>6101</td>\n",
       "    </tr>\n",
       "    <tr>\n",
       "      <th>18</th>\n",
       "      <td>(Atención al Cliente, Tesorería)</td>\n",
       "      <td>5351</td>\n",
       "    </tr>\n",
       "    <tr>\n",
       "      <th>19</th>\n",
       "      <td>(Almacén / Depósito / Expedición, Producción)</td>\n",
       "      <td>5270</td>\n",
       "    </tr>\n",
       "    <tr>\n",
       "      <th>20</th>\n",
       "      <td>(Comercial, Recepcionista)</td>\n",
       "      <td>5008</td>\n",
       "    </tr>\n",
       "    <tr>\n",
       "      <th>21</th>\n",
       "      <td>(Administración, Call Center)</td>\n",
       "      <td>4988</td>\n",
       "    </tr>\n",
       "    <tr>\n",
       "      <th>22</th>\n",
       "      <td>(Administración, Tesorería)</td>\n",
       "      <td>4913</td>\n",
       "    </tr>\n",
       "    <tr>\n",
       "      <th>23</th>\n",
       "      <td>(Call Center, Recepcionista)</td>\n",
       "      <td>4738</td>\n",
       "    </tr>\n",
       "    <tr>\n",
       "      <th>24</th>\n",
       "      <td>(Recepcionista, Secretaria)</td>\n",
       "      <td>4578</td>\n",
       "    </tr>\n",
       "    <tr>\n",
       "      <th>25</th>\n",
       "      <td>(Administración, Contabilidad)</td>\n",
       "      <td>4524</td>\n",
       "    </tr>\n",
       "    <tr>\n",
       "      <th>26</th>\n",
       "      <td>(Comercial, Telemarketing)</td>\n",
       "      <td>4102</td>\n",
       "    </tr>\n",
       "    <tr>\n",
       "      <th>27</th>\n",
       "      <td>(Mantenimiento y Limpieza, Producción)</td>\n",
       "      <td>3919</td>\n",
       "    </tr>\n",
       "    <tr>\n",
       "      <th>28</th>\n",
       "      <td>(Almacén / Depósito / Expedición, Ventas)</td>\n",
       "      <td>3776</td>\n",
       "    </tr>\n",
       "    <tr>\n",
       "      <th>29</th>\n",
       "      <td>(Atención al Cliente, Producción)</td>\n",
       "      <td>3285</td>\n",
       "    </tr>\n",
       "    <tr>\n",
       "      <th>...</th>\n",
       "      <td>...</td>\n",
       "      <td>...</td>\n",
       "    </tr>\n",
       "    <tr>\n",
       "      <th>170</th>\n",
       "      <td>(Camareros, Recepcionista)</td>\n",
       "      <td>749</td>\n",
       "    </tr>\n",
       "    <tr>\n",
       "      <th>171</th>\n",
       "      <td>(Atención al Cliente, Logística)</td>\n",
       "      <td>748</td>\n",
       "    </tr>\n",
       "    <tr>\n",
       "      <th>172</th>\n",
       "      <td>(Almacén / Depósito / Expedición, Distribución)</td>\n",
       "      <td>744</td>\n",
       "    </tr>\n",
       "    <tr>\n",
       "      <th>173</th>\n",
       "      <td>(Distribución, Ventas)</td>\n",
       "      <td>742</td>\n",
       "    </tr>\n",
       "    <tr>\n",
       "      <th>174</th>\n",
       "      <td>(Abastecimiento, Producción)</td>\n",
       "      <td>742</td>\n",
       "    </tr>\n",
       "    <tr>\n",
       "      <th>175</th>\n",
       "      <td>(Comercial, Salud)</td>\n",
       "      <td>732</td>\n",
       "    </tr>\n",
       "    <tr>\n",
       "      <th>176</th>\n",
       "      <td>(Abastecimiento, Almacén / Depósito / Expedición)</td>\n",
       "      <td>732</td>\n",
       "    </tr>\n",
       "    <tr>\n",
       "      <th>177</th>\n",
       "      <td>(Producción, Servicios)</td>\n",
       "      <td>730</td>\n",
       "    </tr>\n",
       "    <tr>\n",
       "      <th>178</th>\n",
       "      <td>(Caja, Comercial)</td>\n",
       "      <td>730</td>\n",
       "    </tr>\n",
       "    <tr>\n",
       "      <th>179</th>\n",
       "      <td>(Compras, Ventas)</td>\n",
       "      <td>724</td>\n",
       "    </tr>\n",
       "    <tr>\n",
       "      <th>180</th>\n",
       "      <td>(Atención al Cliente, Contabilidad)</td>\n",
       "      <td>712</td>\n",
       "    </tr>\n",
       "    <tr>\n",
       "      <th>181</th>\n",
       "      <td>(Secretaria, Telemarketing)</td>\n",
       "      <td>711</td>\n",
       "    </tr>\n",
       "    <tr>\n",
       "      <th>182</th>\n",
       "      <td>(Gastronomia, Telemarketing)</td>\n",
       "      <td>702</td>\n",
       "    </tr>\n",
       "    <tr>\n",
       "      <th>183</th>\n",
       "      <td>(Marketing, Producto)</td>\n",
       "      <td>702</td>\n",
       "    </tr>\n",
       "    <tr>\n",
       "      <th>184</th>\n",
       "      <td>(Administración, Mantenimiento y Limpieza)</td>\n",
       "      <td>694</td>\n",
       "    </tr>\n",
       "    <tr>\n",
       "      <th>185</th>\n",
       "      <td>(Call Center, Camareros)</td>\n",
       "      <td>689</td>\n",
       "    </tr>\n",
       "    <tr>\n",
       "      <th>186</th>\n",
       "      <td>(Arquitectura, Construcción)</td>\n",
       "      <td>689</td>\n",
       "    </tr>\n",
       "    <tr>\n",
       "      <th>187</th>\n",
       "      <td>(Asistente, Comercial)</td>\n",
       "      <td>686</td>\n",
       "    </tr>\n",
       "    <tr>\n",
       "      <th>188</th>\n",
       "      <td>(Camareros, Mantenimiento y Limpieza)</td>\n",
       "      <td>686</td>\n",
       "    </tr>\n",
       "    <tr>\n",
       "      <th>189</th>\n",
       "      <td>(Créditos y Cobranzas, Recepcionista)</td>\n",
       "      <td>685</td>\n",
       "    </tr>\n",
       "    <tr>\n",
       "      <th>190</th>\n",
       "      <td>(Cadetería, Comercial)</td>\n",
       "      <td>682</td>\n",
       "    </tr>\n",
       "    <tr>\n",
       "      <th>191</th>\n",
       "      <td>(Secretaria, Tesorería)</td>\n",
       "      <td>681</td>\n",
       "    </tr>\n",
       "    <tr>\n",
       "      <th>192</th>\n",
       "      <td>(Ingeniería  Industrial, Producción)</td>\n",
       "      <td>679</td>\n",
       "    </tr>\n",
       "    <tr>\n",
       "      <th>193</th>\n",
       "      <td>(Mantenimiento y Limpieza, Telemarketing)</td>\n",
       "      <td>679</td>\n",
       "    </tr>\n",
       "    <tr>\n",
       "      <th>194</th>\n",
       "      <td>(Mantenimiento y Limpieza, Otros)</td>\n",
       "      <td>677</td>\n",
       "    </tr>\n",
       "    <tr>\n",
       "      <th>195</th>\n",
       "      <td>(Administración, Otros)</td>\n",
       "      <td>675</td>\n",
       "    </tr>\n",
       "    <tr>\n",
       "      <th>196</th>\n",
       "      <td>(Comercial, Seguridad)</td>\n",
       "      <td>675</td>\n",
       "    </tr>\n",
       "    <tr>\n",
       "      <th>197</th>\n",
       "      <td>(Call Center, Oficios y Profesiones)</td>\n",
       "      <td>673</td>\n",
       "    </tr>\n",
       "    <tr>\n",
       "      <th>198</th>\n",
       "      <td>(Planeamiento comercial, Ventas)</td>\n",
       "      <td>661</td>\n",
       "    </tr>\n",
       "    <tr>\n",
       "      <th>199</th>\n",
       "      <td>(Camareros, Hotelería)</td>\n",
       "      <td>660</td>\n",
       "    </tr>\n",
       "  </tbody>\n",
       "</table>\n",
       "<p>200 rows × 2 columns</p>\n",
       "</div>"
      ],
      "text/plain": [
       "                                           dupla_areas  cantidad\n",
       "0                                  (Comercial, Ventas)     20070\n",
       "1                        (Atención al Cliente, Ventas)     17055\n",
       "2                                (Call Center, Ventas)     11339\n",
       "3                             (Administración, Ventas)     11261\n",
       "4                     (Atención al Cliente, Comercial)     10376\n",
       "5                   (Atención al Cliente, Call Center)      9956\n",
       "6                          (Administración, Comercial)      8740\n",
       "7                              (Recepcionista, Ventas)      8378\n",
       "8                (Administración, Atención al Cliente)      8011\n",
       "9                              (Telemarketing, Ventas)      7994\n",
       "10                                 (Tesorería, Ventas)      7571\n",
       "11                     (Administración, Recepcionista)      7538\n",
       "12                (Atención al Cliente, Recepcionista)      6895\n",
       "13                                (Producción, Ventas)      6479\n",
       "14                        (Call Center, Telemarketing)      6474\n",
       "15                            (Call Center, Comercial)      6425\n",
       "16                              (Comercial, Tesorería)      6109\n",
       "17                (Atención al Cliente, Telemarketing)      6101\n",
       "18                    (Atención al Cliente, Tesorería)      5351\n",
       "19       (Almacén / Depósito / Expedición, Producción)      5270\n",
       "20                          (Comercial, Recepcionista)      5008\n",
       "21                       (Administración, Call Center)      4988\n",
       "22                         (Administración, Tesorería)      4913\n",
       "23                        (Call Center, Recepcionista)      4738\n",
       "24                         (Recepcionista, Secretaria)      4578\n",
       "25                      (Administración, Contabilidad)      4524\n",
       "26                          (Comercial, Telemarketing)      4102\n",
       "27              (Mantenimiento y Limpieza, Producción)      3919\n",
       "28           (Almacén / Depósito / Expedición, Ventas)      3776\n",
       "29                   (Atención al Cliente, Producción)      3285\n",
       "..                                                 ...       ...\n",
       "170                         (Camareros, Recepcionista)       749\n",
       "171                   (Atención al Cliente, Logística)       748\n",
       "172    (Almacén / Depósito / Expedición, Distribución)       744\n",
       "173                             (Distribución, Ventas)       742\n",
       "174                       (Abastecimiento, Producción)       742\n",
       "175                                 (Comercial, Salud)       732\n",
       "176  (Abastecimiento, Almacén / Depósito / Expedición)       732\n",
       "177                            (Producción, Servicios)       730\n",
       "178                                  (Caja, Comercial)       730\n",
       "179                                  (Compras, Ventas)       724\n",
       "180                (Atención al Cliente, Contabilidad)       712\n",
       "181                        (Secretaria, Telemarketing)       711\n",
       "182                       (Gastronomia, Telemarketing)       702\n",
       "183                              (Marketing, Producto)       702\n",
       "184         (Administración, Mantenimiento y Limpieza)       694\n",
       "185                           (Call Center, Camareros)       689\n",
       "186                       (Arquitectura, Construcción)       689\n",
       "187                             (Asistente, Comercial)       686\n",
       "188              (Camareros, Mantenimiento y Limpieza)       686\n",
       "189              (Créditos y Cobranzas, Recepcionista)       685\n",
       "190                             (Cadetería, Comercial)       682\n",
       "191                            (Secretaria, Tesorería)       681\n",
       "192               (Ingeniería  Industrial, Producción)       679\n",
       "193          (Mantenimiento y Limpieza, Telemarketing)       679\n",
       "194                  (Mantenimiento y Limpieza, Otros)       677\n",
       "195                            (Administración, Otros)       675\n",
       "196                             (Comercial, Seguridad)       675\n",
       "197               (Call Center, Oficios y Profesiones)       673\n",
       "198                   (Planeamiento comercial, Ventas)       661\n",
       "199                             (Camareros, Hotelería)       660\n",
       "\n",
       "[200 rows x 2 columns]"
      ]
     },
     "execution_count": 37,
     "metadata": {},
     "output_type": "execute_result"
    }
   ],
   "source": [
    "df_tuplas.head(200)"
   ]
  },
  {
   "cell_type": "code",
   "execution_count": 38,
   "metadata": {},
   "outputs": [
    {
     "name": "stdout",
     "output_type": "stream",
     "text": [
      "<class 'pandas.core.frame.DataFrame'>\n",
      "RangeIndex: 8845 entries, 0 to 8844\n",
      "Data columns (total 2 columns):\n",
      "dupla_areas    8845 non-null object\n",
      "cantidad       8845 non-null int64\n",
      "dtypes: int64(1), object(1)\n",
      "memory usage: 138.3+ KB\n"
     ]
    }
   ],
   "source": [
    "df_tuplas.info()"
   ]
  },
  {
   "cell_type": "code",
   "execution_count": 39,
   "metadata": {},
   "outputs": [
    {
     "data": {
      "text/plain": [
       "19"
      ]
     },
     "execution_count": 39,
     "metadata": {},
     "output_type": "execute_result"
    }
   ],
   "source": [
    "#vemos cuales son las areas mas populares.\n",
    "\n",
    "top_areas = ['Administración','Ventas','Producción','Call Center','Recepcionista',\\\n",
    "             'Contabilidad','Programación','Recursos Humanos','Gastronomia','Mantenimiento',\\\n",
    "             'Logística','Seguridad','Transporte','Legal','Marketing','Atención al Cliente',\\\n",
    "             'Tecnologia / Sistemas','Medicina','Salud']\n",
    "\n",
    "lista_top_areas = [['Administración'],['Ventas'],['Producción'],['Call Center'],['Recepcionista'],\\\n",
    "             ['Contabilidad'],['Programación'],['Recursos Humanos'],['Gastronomia'],['Mantenimiento'],\\\n",
    "             ['Logística'],['Seguridad'],['Transporte'],['Legal'],['Marketing'],['Atención al Cliente'],\\\n",
    "             ['Tecnologia / Sistemas'],['Medicina'],['Salud']]\n",
    "\n",
    "len(top_areas)\n",
    "#vamos a tener 19 main areas."
   ]
  },
  {
   "cell_type": "code",
   "execution_count": 40,
   "metadata": {},
   "outputs": [],
   "source": [
    "df_top_areas = modelo.groupby(['nombre_area']).size().to_frame('cantidad')\n",
    "df_top_areas = pd.DataFrame(df_top_areas, columns=['cantidad'])\n",
    "df_top_areas = df_top_areas.sort_values('cantidad', ascending=False)"
   ]
  },
  {
   "cell_type": "code",
   "execution_count": 41,
   "metadata": {},
   "outputs": [
    {
     "data": {
      "text/plain": [
       "'\\n\\ndic_areas_agrup = {}\\nfor area in top_areas:\\n     dic_areas_agrup[area] = []\\n#me genero un dicc de areas\\n        \\ndic_areas_agrup[\\'Otros\\'] = []\\n#areas que no se asocian a las \"top\"\\n\\n\\n#voy a agregar las areas a las que le asigno una area mayor.\\ndic_asignados = {}\\n\\nfor index, row in df_tuplas.iterrows():\\n    \\n    dupla_areas = row[\\'dupla_areas\\']\\n\\n    area1 = dupla_areas[0]\\n    area2 = dupla_areas[1]\\n    \\n    if area1 not in top_areas:\\n        if area2 not in top_areas:\\n            if area1 in dic_asignados:\\n                if area2 in dic_asignados:\\n                    \\n                    for index_b, row_b in df_top_areas.iterrows():\\n                        if (dic_asignados[area1] == index_b):\\n                            top = dic_asignados[area1]\\n                            dic_areas_agrup[top].append(area1)\\n                            dic_asignados[area2]=top\\n                            break\\n                            \\n                        if (dic_asignados[area2] == index_b):\\n                            top = dic_asignados[area2]\\n                            dic_areas_agrup[top].append(area2)\\n                            dic_asignados[area1]=top\\n                            break            \\n\\n                else:\\n                    top = dic_asignados[area1]\\n                    dic_areas_agrup[top].append(area1)\\n                    dic_asignados[area2]=top\\n            else:\\n                if area2 in dic_asignados:\\n                    top = dic_asignados[area2]\\n                    dic_areas_agrup[top].append(area2)\\n                    dic_asignados[area1]=top\\n                \\n                else:\\n                    dic_areas_agrup[\\'Otros\\'].append(area1)\\n                    dic_areas_agrup[\\'Otros\\'].append(area2)\\n            \\n            \\n        else:\\n            dic_areas_agrup[area2].append(area1)\\n            dic_asignados[area1]=area2\\n        \\n    else:\\n        if area2 not in top_areas:\\n            dic_areas_agrup[area1].append(area2)\\n            dic_asignados[area2]=area1\\n        else:\\n            dic_areas_agrup[\\'Otros\\'].append(area1)\\n            dic_areas_agrup[\\'Otros\\'].append(area2)\\n    \\n'"
      ]
     },
     "execution_count": 41,
     "metadata": {},
     "output_type": "execute_result"
    }
   ],
   "source": [
    "#VER EL PROBAR ABAJO\n",
    "\"\"\"\n",
    "\n",
    "dic_areas_agrup = {}\n",
    "for area in top_areas:\n",
    "     dic_areas_agrup[area] = []\n",
    "#me genero un dicc de areas\n",
    "        \n",
    "dic_areas_agrup['Otros'] = []\n",
    "#areas que no se asocian a las \"top\"\n",
    "\n",
    "\n",
    "#voy a agregar las areas a las que le asigno una area mayor.\n",
    "dic_asignados = {}\n",
    "\n",
    "for index, row in df_tuplas.iterrows():\n",
    "    \n",
    "    dupla_areas = row['dupla_areas']\n",
    "\n",
    "    area1 = dupla_areas[0]\n",
    "    area2 = dupla_areas[1]\n",
    "    \n",
    "    if area1 not in top_areas:\n",
    "        if area2 not in top_areas:\n",
    "            if area1 in dic_asignados:\n",
    "                if area2 in dic_asignados:\n",
    "                    \n",
    "                    for index_b, row_b in df_top_areas.iterrows():\n",
    "                        if (dic_asignados[area1] == index_b):\n",
    "                            top = dic_asignados[area1]\n",
    "                            dic_areas_agrup[top].append(area1)\n",
    "                            dic_asignados[area2]=top\n",
    "                            break\n",
    "                            \n",
    "                        if (dic_asignados[area2] == index_b):\n",
    "                            top = dic_asignados[area2]\n",
    "                            dic_areas_agrup[top].append(area2)\n",
    "                            dic_asignados[area1]=top\n",
    "                            break            \n",
    "\n",
    "                else:\n",
    "                    top = dic_asignados[area1]\n",
    "                    dic_areas_agrup[top].append(area1)\n",
    "                    dic_asignados[area2]=top\n",
    "            else:\n",
    "                if area2 in dic_asignados:\n",
    "                    top = dic_asignados[area2]\n",
    "                    dic_areas_agrup[top].append(area2)\n",
    "                    dic_asignados[area1]=top\n",
    "                \n",
    "                else:\n",
    "                    dic_areas_agrup['Otros'].append(area1)\n",
    "                    dic_areas_agrup['Otros'].append(area2)\n",
    "            \n",
    "            \n",
    "        else:\n",
    "            dic_areas_agrup[area2].append(area1)\n",
    "            dic_asignados[area1]=area2\n",
    "        \n",
    "    else:\n",
    "        if area2 not in top_areas:\n",
    "            dic_areas_agrup[area1].append(area2)\n",
    "            dic_asignados[area2]=area1\n",
    "        else:\n",
    "            dic_areas_agrup['Otros'].append(area1)\n",
    "            dic_areas_agrup['Otros'].append(area2)\n",
    "    \n",
    "\"\"\""
   ]
  },
  {
   "cell_type": "code",
   "execution_count": 42,
   "metadata": {},
   "outputs": [],
   "source": [
    "#dic_areas_agrup"
   ]
  },
  {
   "cell_type": "code",
   "execution_count": 43,
   "metadata": {},
   "outputs": [],
   "source": [
    "#veo mas o menos como quedaron las agrupaciones por area\n",
    "#for area in top_areas:\n",
    "#    print (len(dic_areas_agrup[area]))"
   ]
  },
  {
   "cell_type": "code",
   "execution_count": 44,
   "metadata": {},
   "outputs": [
    {
     "data": {
      "text/plain": [
       "['Administración',\n",
       " 'Ventas',\n",
       " 'Producción',\n",
       " 'Call Center',\n",
       " 'Recepcionista',\n",
       " 'Contabilidad',\n",
       " 'Programación',\n",
       " 'Recursos Humanos',\n",
       " 'Gastronomia',\n",
       " 'Mantenimiento',\n",
       " 'Logística',\n",
       " 'Seguridad',\n",
       " 'Transporte',\n",
       " 'Legal',\n",
       " 'Marketing',\n",
       " 'Atención al Cliente',\n",
       " 'Tecnologia / Sistemas',\n",
       " 'Medicina',\n",
       " 'Salud']"
      ]
     },
     "execution_count": 44,
     "metadata": {},
     "output_type": "execute_result"
    }
   ],
   "source": [
    "top_areas"
   ]
  },
  {
   "cell_type": "code",
   "execution_count": 67,
   "metadata": {},
   "outputs": [],
   "source": [
    "#probar\n",
    "\n",
    "#DONDE DICE TOP SIGNIFICA QUE ES UN AREA QUE ESTA EN TOP_AREAS\n",
    "\n",
    "#voy a agregar las areas a las que le asigno una area mayor.\n",
    "dic_asignados = {}\n",
    "\n",
    "for index, row in df_tuplas.iterrows():\n",
    "    \n",
    "    dupla_areas = row['dupla_areas']\n",
    "\n",
    "    area1 = dupla_areas[0]\n",
    "    area2 = dupla_areas[1]\n",
    "    \n",
    "    if area1 not in top_areas:\n",
    "        if area2 not in top_areas:\n",
    "            \n",
    "            if area1 in dic_asignados:\n",
    "                if area2 in dic_asignados:\n",
    "                    \n",
    "                    #itero el df que esta ordenado, ver df_top_areas.\n",
    "                    for index_b, row_b in df_top_areas.iterrows():\n",
    "                        if (dic_asignados[area1] == index_b):\n",
    "                            top = dic_asignados[area1]\n",
    "                            dic_asignados[area2]=top\n",
    "                            break\n",
    "                            \n",
    "                        if (dic_asignados[area2] == index_b):\n",
    "                            top = dic_asignados[area2]\n",
    "                            dic_asignados[area1]=top\n",
    "                            break            \n",
    "\n",
    "                #if area2 not in dic_asignados:\n",
    "                else:\n",
    "                    top = dic_asignados[area1]\n",
    "                    dic_asignados[area2]=top\n",
    "                    \n",
    "            #if area1 not in dic_asignados:        \n",
    "            else:\n",
    "                if area2 in dic_asignados:\n",
    "                    top = dic_asignados[area2]\n",
    "                    dic_asignados[area1]=top\n",
    "                \n",
    "                #if area2 not in dic_asignados:\n",
    "                else:\n",
    "                    dic_asignados[area1] = 'Otros'\n",
    "                    dic_asignados[area2] = 'Otros'\n",
    "        \n",
    "        #if area2 in top_areas:\n",
    "        else:\n",
    "            dic_asignados[area1]=area2\n",
    "       \n",
    "    #if area1 in top_areas:\n",
    "    else:\n",
    "        if area2 not in top_areas:\n",
    "            dic_asignados[area2]=area1\n",
    "            \n",
    "        #if area2 in top_areas:\n",
    "        else:\n",
    "            dic_asignados[area1] = 'Otros'\n",
    "            dic_asignados[area2] = 'Otros'\n",
    "            \n",
    "\n"
   ]
  },
  {
   "cell_type": "code",
   "execution_count": null,
   "metadata": {},
   "outputs": [],
   "source": [
    "\n",
    "i=1\n",
    "for area_x in top_areas:\n",
    "    \n",
    "    if ((modelo['nombre_area']) not in dic_asignados):\n",
    "        modelo.loc[str(modelo['nombre_area']) == area_x] = i\n",
    "    \n",
    "    else:\n",
    "        modelo.loc[modelo['nombre_area']== dic_asignados[area_x]] = i\n",
    "    \n",
    "    i+=1\n",
    "\n",
    "    \n",
    "modelo.loc[(modelo['nombre_area'] == 'Otros'), 'nombre_area'] = 0\n",
    "\n",
    "modelo.sample(4)"
   ]
  },
  {
   "cell_type": "code",
   "execution_count": null,
   "metadata": {},
   "outputs": [],
   "source": []
  },
  {
   "cell_type": "code",
   "execution_count": 68,
   "metadata": {},
   "outputs": [
    {
     "data": {
      "text/plain": [
       "181"
      ]
     },
     "execution_count": 68,
     "metadata": {},
     "output_type": "execute_result"
    }
   ],
   "source": [
    "#deberia dar 188-19 = 169 (#total areas - #top areas)\n",
    "len(dic_asignados)"
   ]
  },
  {
   "cell_type": "code",
   "execution_count": 69,
   "metadata": {},
   "outputs": [
    {
     "name": "stdout",
     "output_type": "stream",
     "text": [
      "True\n",
      "True\n",
      "True\n",
      "True\n",
      "True\n",
      "True\n",
      "True\n",
      "True\n",
      "True\n",
      "True\n",
      "True\n",
      "True\n",
      "True\n",
      "True\n",
      "True\n",
      "True\n",
      "True\n",
      "True\n",
      "True\n"
     ]
    }
   ],
   "source": [
    "#deberia dar todo false\n",
    "for area_top in top_areas:\n",
    "    print(area_top in dic_asignados)\n"
   ]
  },
  {
   "cell_type": "code",
   "execution_count": null,
   "metadata": {},
   "outputs": [],
   "source": []
  },
  {
   "cell_type": "code",
   "execution_count": null,
   "metadata": {},
   "outputs": [],
   "source": [
    "\"\"\"\n",
    "\n",
    "i=1\n",
    "for area_x in top_areas:\n",
    "    area_actual_x = (modelo['nombre_area'] == area_x)\n",
    "    modelo.loc[(area_actual_x), 'nombre_area'] = i\n",
    "    for area_y in dic_areas_agrup[area_x]:\n",
    "        area_actual_y = (modelo['nombre_area'] == area_y)\n",
    "        modelo.loc[(area_actual_y), 'nombre_area'] = i\n",
    "\n",
    "    i+=1\n",
    "    \n",
    "modelo.loc[(modelo['nombre_area'] == 'Otros'), 'nombre_area'] = 0\n",
    "\n",
    "modelo.sample(4)\n",
    "\n",
    "\"\"\""
   ]
  },
  {
   "cell_type": "code",
   "execution_count": null,
   "metadata": {},
   "outputs": [],
   "source": []
  },
  {
   "cell_type": "code",
   "execution_count": null,
   "metadata": {},
   "outputs": [],
   "source": [
    "#reviso si quedaron areas sin asignar numero, asi arreglo la funcion de arriba(muchos ifs)"
   ]
  },
  {
   "cell_type": "code",
   "execution_count": null,
   "metadata": {},
   "outputs": [],
   "source": [
    "modelo['nombre_area'].value_counts()"
   ]
  },
  {
   "cell_type": "code",
   "execution_count": null,
   "metadata": {},
   "outputs": [],
   "source": []
  },
  {
   "cell_type": "code",
   "execution_count": null,
   "metadata": {},
   "outputs": [],
   "source": [
    "modelo.info()"
   ]
  },
  {
   "cell_type": "markdown",
   "metadata": {},
   "source": [
    "# HASTA ACA PROBAR"
   ]
  },
  {
   "cell_type": "markdown",
   "metadata": {},
   "source": [
    "### Exportamos el modelo final con los nuevos features"
   ]
  },
  {
   "cell_type": "code",
   "execution_count": null,
   "metadata": {},
   "outputs": [],
   "source": [
    "modelo.sample(5)"
   ]
  },
  {
   "cell_type": "code",
   "execution_count": null,
   "metadata": {},
   "outputs": [],
   "source": [
    "modelo.info()"
   ]
  },
  {
   "cell_type": "markdown",
   "metadata": {},
   "source": [
    " "
   ]
  },
  {
   "cell_type": "code",
   "execution_count": null,
   "metadata": {},
   "outputs": [],
   "source": [
    "modelo.to_csv('csv_files/modelo_final_featured.csv', encoding='utf-8', index=False)"
   ]
  },
  {
   "cell_type": "markdown",
   "metadata": {},
   "source": [
    "### Exportamos los dataframes con los pesos obtenidos para los nuevos features"
   ]
  },
  {
   "cell_type": "code",
   "execution_count": null,
   "metadata": {},
   "outputs": [],
   "source": [
    "estudios_vs_laboral_t.to_csv('csv_files/estudios_vs_laboral_t.csv', encoding='utf-8', index=True, header=True)\n",
    "\n",
    "estudiando_vs_tipo_trabajo_t.to_csv('csv_files/estudiando_vs_tipo_trabajo_t.csv', encoding='utf-8', index=True, header=True)\n",
    "\n",
    "edad_vs_tipo_trabajo_t.to_csv('csv_files/edad_vs_tipo_trabajo_t.csv', encoding='utf-8', index=True, header=True)\n",
    "\n",
    "edad_vs_zona_t.to_csv('csv_files/edad_vs_zona_t.csv', encoding='utf-8', index=True, header=True)"
   ]
  }
 ],
 "metadata": {
  "kernelspec": {
   "display_name": "Python 3",
   "language": "python",
   "name": "python3"
  },
  "language_info": {
   "codemirror_mode": {
    "name": "ipython",
    "version": 3
   },
   "file_extension": ".py",
   "mimetype": "text/x-python",
   "name": "python",
   "nbconvert_exporter": "python",
   "pygments_lexer": "ipython3",
   "version": "3.5.2"
  }
 },
 "nbformat": 4,
 "nbformat_minor": 2
}
