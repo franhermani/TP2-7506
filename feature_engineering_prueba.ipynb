{
 "cells": [
  {
   "cell_type": "code",
   "execution_count": 1,
   "metadata": {},
   "outputs": [
    {
     "name": "stderr",
     "output_type": "stream",
     "text": [
      "/usr/lib/python3/dist-packages/matplotlib/__init__.py:874: UserWarning: axes.color_cycle is deprecated and replaced with axes.prop_cycle; please use the latter.\n",
      "  warnings.warn(self.msg_depr % (key, alt_key))\n"
     ]
    }
   ],
   "source": [
    "import pandas as pd\n",
    "import numpy as np\n",
    "import matplotlib.pyplot as plt\n",
    "import seaborn as sns\n",
    "\n",
    "from time import time\n",
    "\n",
    "%matplotlib inline"
   ]
  },
  {
   "cell_type": "markdown",
   "metadata": {},
   "source": [
    "### Cargamos el modelo"
   ]
  },
  {
   "cell_type": "code",
   "execution_count": 2,
   "metadata": {},
   "outputs": [],
   "source": [
    "modelo = pd.read_csv('csv_files/modelo_final.csv')"
   ]
  },
  {
   "cell_type": "code",
   "execution_count": 3,
   "metadata": {},
   "outputs": [
    {
     "data": {
      "text/html": [
       "<div>\n",
       "<style scoped>\n",
       "    .dataframe tbody tr th:only-of-type {\n",
       "        vertical-align: middle;\n",
       "    }\n",
       "\n",
       "    .dataframe tbody tr th {\n",
       "        vertical-align: top;\n",
       "    }\n",
       "\n",
       "    .dataframe thead th {\n",
       "        text-align: right;\n",
       "    }\n",
       "</style>\n",
       "<table border=\"1\" class=\"dataframe\">\n",
       "  <thead>\n",
       "    <tr style=\"text-align: right;\">\n",
       "      <th></th>\n",
       "      <th>idaviso</th>\n",
       "      <th>idpostulante</th>\n",
       "      <th>rango_edad</th>\n",
       "      <th>sexo</th>\n",
       "      <th>nivel_estudios</th>\n",
       "      <th>esta_estudiando</th>\n",
       "      <th>titulo</th>\n",
       "      <th>tipo_de_trabajo</th>\n",
       "      <th>nivel_laboral</th>\n",
       "      <th>nombre_zona</th>\n",
       "      <th>nombre_area</th>\n",
       "      <th>sepostulo</th>\n",
       "    </tr>\n",
       "  </thead>\n",
       "  <tbody>\n",
       "    <tr>\n",
       "      <th>1592472</th>\n",
       "      <td>1112393664</td>\n",
       "      <td>RzN1ZME</td>\n",
       "      <td>1.0</td>\n",
       "      <td>1</td>\n",
       "      <td>4.0</td>\n",
       "      <td>1.0</td>\n",
       "      <td>Oficial Sr de Negocios Banca Privada</td>\n",
       "      <td>10</td>\n",
       "      <td>3</td>\n",
       "      <td>3</td>\n",
       "      <td>Inversiones / Proyectos de Inversión</td>\n",
       "      <td>1.0</td>\n",
       "    </tr>\n",
       "    <tr>\n",
       "      <th>2783624</th>\n",
       "      <td>1112408607</td>\n",
       "      <td>X9kL3kd</td>\n",
       "      <td>4.0</td>\n",
       "      <td>2</td>\n",
       "      <td>4.0</td>\n",
       "      <td>0.0</td>\n",
       "      <td>Ejecutivo de Cuentas para Supermercados y Mayo...</td>\n",
       "      <td>10</td>\n",
       "      <td>3</td>\n",
       "      <td>3</td>\n",
       "      <td>Ventas</td>\n",
       "      <td>1.0</td>\n",
       "    </tr>\n",
       "    <tr>\n",
       "      <th>788198</th>\n",
       "      <td>1112481198</td>\n",
       "      <td>EzeMkp9</td>\n",
       "      <td>1.0</td>\n",
       "      <td>1</td>\n",
       "      <td>4.0</td>\n",
       "      <td>0.0</td>\n",
       "      <td>Te damos la oportunidad de Capacitarte gratis ...</td>\n",
       "      <td>10</td>\n",
       "      <td>2</td>\n",
       "      <td>3</td>\n",
       "      <td>Otros</td>\n",
       "      <td>0.0</td>\n",
       "    </tr>\n",
       "    <tr>\n",
       "      <th>1454199</th>\n",
       "      <td>1111574824</td>\n",
       "      <td>8lLmOL</td>\n",
       "      <td>4.0</td>\n",
       "      <td>2</td>\n",
       "      <td>5.0</td>\n",
       "      <td>0.0</td>\n",
       "      <td>Operador de Planta Acondicionadora y Motocompr...</td>\n",
       "      <td>10</td>\n",
       "      <td>3</td>\n",
       "      <td>3</td>\n",
       "      <td>Mineria/Petroleo/Gas</td>\n",
       "      <td>0.0</td>\n",
       "    </tr>\n",
       "    <tr>\n",
       "      <th>1285938</th>\n",
       "      <td>1112358194</td>\n",
       "      <td>YjQaO9q</td>\n",
       "      <td>3.0</td>\n",
       "      <td>1</td>\n",
       "      <td>2.0</td>\n",
       "      <td>0.0</td>\n",
       "      <td>03 Mar - Group Controller ($200k/year) - Onlin...</td>\n",
       "      <td>8</td>\n",
       "      <td>4</td>\n",
       "      <td>3</td>\n",
       "      <td>Organización y Métodos</td>\n",
       "      <td>0.0</td>\n",
       "    </tr>\n",
       "  </tbody>\n",
       "</table>\n",
       "</div>"
      ],
      "text/plain": [
       "            idaviso idpostulante  rango_edad  sexo  nivel_estudios  \\\n",
       "1592472  1112393664      RzN1ZME         1.0     1             4.0   \n",
       "2783624  1112408607      X9kL3kd         4.0     2             4.0   \n",
       "788198   1112481198      EzeMkp9         1.0     1             4.0   \n",
       "1454199  1111574824       8lLmOL         4.0     2             5.0   \n",
       "1285938  1112358194      YjQaO9q         3.0     1             2.0   \n",
       "\n",
       "         esta_estudiando                                             titulo  \\\n",
       "1592472              1.0               Oficial Sr de Negocios Banca Privada   \n",
       "2783624              0.0  Ejecutivo de Cuentas para Supermercados y Mayo...   \n",
       "788198               0.0  Te damos la oportunidad de Capacitarte gratis ...   \n",
       "1454199              0.0  Operador de Planta Acondicionadora y Motocompr...   \n",
       "1285938              0.0  03 Mar - Group Controller ($200k/year) - Onlin...   \n",
       "\n",
       "         tipo_de_trabajo  nivel_laboral  nombre_zona  \\\n",
       "1592472               10              3            3   \n",
       "2783624               10              3            3   \n",
       "788198                10              2            3   \n",
       "1454199               10              3            3   \n",
       "1285938                8              4            3   \n",
       "\n",
       "                                  nombre_area  sepostulo  \n",
       "1592472  Inversiones / Proyectos de Inversión        1.0  \n",
       "2783624                                Ventas        1.0  \n",
       "788198                                  Otros        0.0  \n",
       "1454199                  Mineria/Petroleo/Gas        0.0  \n",
       "1285938                Organización y Métodos        0.0  "
      ]
     },
     "execution_count": 3,
     "metadata": {},
     "output_type": "execute_result"
    }
   ],
   "source": [
    "modelo.sample(5)"
   ]
  },
  {
   "cell_type": "code",
   "execution_count": 4,
   "metadata": {},
   "outputs": [
    {
     "name": "stdout",
     "output_type": "stream",
     "text": [
      "<class 'pandas.core.frame.DataFrame'>\n",
      "RangeIndex: 3000000 entries, 0 to 2999999\n",
      "Data columns (total 12 columns):\n",
      "idaviso            int64\n",
      "idpostulante       object\n",
      "rango_edad         float64\n",
      "sexo               int64\n",
      "nivel_estudios     float64\n",
      "esta_estudiando    float64\n",
      "titulo             object\n",
      "tipo_de_trabajo    int64\n",
      "nivel_laboral      int64\n",
      "nombre_zona        int64\n",
      "nombre_area        object\n",
      "sepostulo          float64\n",
      "dtypes: float64(4), int64(5), object(3)\n",
      "memory usage: 274.7+ MB\n"
     ]
    }
   ],
   "source": [
    "modelo.info()"
   ]
  },
  {
   "cell_type": "markdown",
   "metadata": {},
   "source": [
    " "
   ]
  },
  {
   "cell_type": "markdown",
   "metadata": {},
   "source": [
    "Nos guardamos en un dataframe alternativo todos los registros con postulaciones efectivas del postulante al aviso en cuestión. Esto será utilizado en los features que aquí abajo construiremos."
   ]
  },
  {
   "cell_type": "code",
   "execution_count": 5,
   "metadata": {},
   "outputs": [
    {
     "data": {
      "text/plain": [
       "1.0    1500000\n",
       "Name: sepostulo, dtype: int64"
      ]
     },
     "execution_count": 5,
     "metadata": {},
     "output_type": "execute_result"
    }
   ],
   "source": [
    "si = modelo['sepostulo'] == 1\n",
    "modelo_si = modelo[si]\n",
    "\n",
    "modelo_si['sepostulo'].value_counts()"
   ]
  },
  {
   "cell_type": "markdown",
   "metadata": {},
   "source": [
    " "
   ]
  },
  {
   "cell_type": "markdown",
   "metadata": {},
   "source": [
    "### Nivel de estudios vs Nivel laboral"
   ]
  },
  {
   "cell_type": "markdown",
   "metadata": {},
   "source": [
    "Nivel de estudios:\n",
    "- 1 = Otro\n",
    "- 2 = Secundario\n",
    "- 3 = Terciario/Técnico\n",
    "- 4 = Universitario\n",
    "- 5 = Posgrado\n",
    "- 6 = Master\n",
    "- 7 = Doctorado"
   ]
  },
  {
   "cell_type": "markdown",
   "metadata": {},
   "source": [
    "Nivel laboral:\n",
    "- 1 = Otro\n",
    "- 2 = Junior\n",
    "- 3 = Senior / Semi-Senior\n",
    "- 4 = Jefe / Supervisor / Responsable\n",
    "- 5 = Gerencia / Alta Gerencia / Dirección"
   ]
  },
  {
   "cell_type": "code",
   "execution_count": 6,
   "metadata": {},
   "outputs": [
    {
     "data": {
      "text/plain": [
       "4.0    760986\n",
       "2.0    444447\n",
       "3.0    209914\n",
       "5.0     47513\n",
       "6.0     28091\n",
       "1.0      7154\n",
       "7.0      1895\n",
       "Name: nivel_estudios, dtype: int64"
      ]
     },
     "execution_count": 6,
     "metadata": {},
     "output_type": "execute_result"
    }
   ],
   "source": [
    "modelo_si['nivel_estudios'].value_counts()"
   ]
  },
  {
   "cell_type": "code",
   "execution_count": 7,
   "metadata": {},
   "outputs": [
    {
     "data": {
      "text/plain": [
       "3    978336\n",
       "2    339887\n",
       "1    123994\n",
       "4     46387\n",
       "5     11396\n",
       "Name: nivel_laboral, dtype: int64"
      ]
     },
     "execution_count": 7,
     "metadata": {},
     "output_type": "execute_result"
    }
   ],
   "source": [
    "modelo_si['nivel_laboral'].value_counts()"
   ]
  },
  {
   "cell_type": "markdown",
   "metadata": {},
   "source": [
    " "
   ]
  },
  {
   "cell_type": "markdown",
   "metadata": {},
   "source": [
    "Creamos un dataframe con porcentajes por columnas. De esta forma, el heatmap nos mostrará mejor la incidencia de cada nivel de estudios para cada nivel laboral."
   ]
  },
  {
   "cell_type": "code",
   "execution_count": 8,
   "metadata": {},
   "outputs": [
    {
     "name": "stderr",
     "output_type": "stream",
     "text": [
      "/home/towers/.local/lib/python3.5/site-packages/pandas/core/computation/check.py:17: UserWarning: The installed version of numexpr 2.4.3 is not supported in pandas and will be not be used\n",
      "The minimum supported version is 2.4.6\n",
      "\n",
      "  ver=ver, min_ver=_MIN_NUMEXPR_VERSION), UserWarning)\n"
     ]
    },
    {
     "data": {
      "text/html": [
       "<div>\n",
       "<style scoped>\n",
       "    .dataframe tbody tr th:only-of-type {\n",
       "        vertical-align: middle;\n",
       "    }\n",
       "\n",
       "    .dataframe tbody tr th {\n",
       "        vertical-align: top;\n",
       "    }\n",
       "\n",
       "    .dataframe thead th {\n",
       "        text-align: right;\n",
       "    }\n",
       "</style>\n",
       "<table border=\"1\" class=\"dataframe\">\n",
       "  <thead>\n",
       "    <tr style=\"text-align: right;\">\n",
       "      <th>nivel_estudios</th>\n",
       "      <th>1.0</th>\n",
       "      <th>2.0</th>\n",
       "      <th>3.0</th>\n",
       "      <th>4.0</th>\n",
       "      <th>5.0</th>\n",
       "      <th>6.0</th>\n",
       "      <th>7.0</th>\n",
       "    </tr>\n",
       "    <tr>\n",
       "      <th>nivel_laboral</th>\n",
       "      <th></th>\n",
       "      <th></th>\n",
       "      <th></th>\n",
       "      <th></th>\n",
       "      <th></th>\n",
       "      <th></th>\n",
       "      <th></th>\n",
       "    </tr>\n",
       "  </thead>\n",
       "  <tbody>\n",
       "    <tr>\n",
       "      <th>1</th>\n",
       "      <td>0.123427</td>\n",
       "      <td>0.109185</td>\n",
       "      <td>0.089737</td>\n",
       "      <td>0.068507</td>\n",
       "      <td>0.049208</td>\n",
       "      <td>0.041116</td>\n",
       "      <td>0.063852</td>\n",
       "    </tr>\n",
       "    <tr>\n",
       "      <th>2</th>\n",
       "      <td>0.182975</td>\n",
       "      <td>0.205458</td>\n",
       "      <td>0.222439</td>\n",
       "      <td>0.246602</td>\n",
       "      <td>0.171721</td>\n",
       "      <td>0.156883</td>\n",
       "      <td>0.181003</td>\n",
       "    </tr>\n",
       "    <tr>\n",
       "      <th>3</th>\n",
       "      <td>0.675706</td>\n",
       "      <td>0.665861</td>\n",
       "      <td>0.659570</td>\n",
       "      <td>0.640946</td>\n",
       "      <td>0.666470</td>\n",
       "      <td>0.656865</td>\n",
       "      <td>0.654354</td>\n",
       "    </tr>\n",
       "    <tr>\n",
       "      <th>4</th>\n",
       "      <td>0.014957</td>\n",
       "      <td>0.016949</td>\n",
       "      <td>0.023714</td>\n",
       "      <td>0.035489</td>\n",
       "      <td>0.082251</td>\n",
       "      <td>0.096472</td>\n",
       "      <td>0.075989</td>\n",
       "    </tr>\n",
       "    <tr>\n",
       "      <th>5</th>\n",
       "      <td>0.002935</td>\n",
       "      <td>0.002547</td>\n",
       "      <td>0.004540</td>\n",
       "      <td>0.008455</td>\n",
       "      <td>0.030350</td>\n",
       "      <td>0.048663</td>\n",
       "      <td>0.024802</td>\n",
       "    </tr>\n",
       "  </tbody>\n",
       "</table>\n",
       "</div>"
      ],
      "text/plain": [
       "nivel_estudios       1.0       2.0       3.0       4.0       5.0       6.0  \\\n",
       "nivel_laboral                                                                \n",
       "1               0.123427  0.109185  0.089737  0.068507  0.049208  0.041116   \n",
       "2               0.182975  0.205458  0.222439  0.246602  0.171721  0.156883   \n",
       "3               0.675706  0.665861  0.659570  0.640946  0.666470  0.656865   \n",
       "4               0.014957  0.016949  0.023714  0.035489  0.082251  0.096472   \n",
       "5               0.002935  0.002547  0.004540  0.008455  0.030350  0.048663   \n",
       "\n",
       "nivel_estudios       7.0  \n",
       "nivel_laboral             \n",
       "1               0.063852  \n",
       "2               0.181003  \n",
       "3               0.654354  \n",
       "4               0.075989  \n",
       "5               0.024802  "
      ]
     },
     "execution_count": 8,
     "metadata": {},
     "output_type": "execute_result"
    }
   ],
   "source": [
    "estudios_vs_laboral_t = pd.crosstab(modelo_si['nivel_laboral'], modelo_si['nivel_estudios'], normalize='columns')\n",
    "estudios_vs_laboral_t"
   ]
  },
  {
   "cell_type": "code",
   "execution_count": null,
   "metadata": {},
   "outputs": [],
   "source": []
  },
  {
   "cell_type": "code",
   "execution_count": 9,
   "metadata": {},
   "outputs": [
    {
     "data": {
      "text/plain": [
       "<matplotlib.text.Text at 0x7fdbb3ba1240>"
      ]
     },
     "execution_count": 9,
     "metadata": {},
     "output_type": "execute_result"
    },
    {
     "data": {
      "image/png": "[encoded data removed]",
      "text/plain": [
       "<matplotlib.figure.Figure at 0x7fdbb3be7f28>"
      ]
     },
     "metadata": {},
     "output_type": "display_data"
    }
   ],
   "source": [
    "fig, ax = plt.subplots(figsize=(14,4))\n",
    "heatmap = sns.heatmap(estudios_vs_laboral_t, cmap='Oranges', robust=False, annot=False,\\\n",
    "                      linewidths=.5, linecolor='grey', ax=ax)\n",
    "\n",
    "heatmap.set_title('Nivel de estudios vs Nivel laboral', fontsize=18)\n",
    "heatmap.set_xlabel('Nivel de estudios', fontsize=14)\n",
    "heatmap.set_ylabel('Nivel laboral', fontsize=14)"
   ]
  },
  {
   "cell_type": "markdown",
   "metadata": {},
   "source": [
    "Creamos una columna en el dataframe contenedora del peso correspondiente a la combinación de las dos variables categóricas."
   ]
  },
  {
   "cell_type": "code",
   "execution_count": 10,
   "metadata": {},
   "outputs": [],
   "source": [
    "n_estudios = 7\n",
    "for index, row in estudios_vs_laboral_t.iterrows():\n",
    "    for i in range(1,n_estudios+1):\n",
    "        peso = row[i]\n",
    "        nivel_estudios = i\n",
    "        nivel_laboral = index\n",
    "        relacion = (modelo['nivel_estudios'] == nivel_estudios) & (modelo['nivel_laboral'] == nivel_laboral)\n",
    "        modelo.loc[(relacion), 'estudios_vs_laboral'] = peso"
   ]
  },
  {
   "cell_type": "code",
   "execution_count": 11,
   "metadata": {},
   "outputs": [
    {
     "data": {
      "text/html": [
       "<div>\n",
       "<style scoped>\n",
       "    .dataframe tbody tr th:only-of-type {\n",
       "        vertical-align: middle;\n",
       "    }\n",
       "\n",
       "    .dataframe tbody tr th {\n",
       "        vertical-align: top;\n",
       "    }\n",
       "\n",
       "    .dataframe thead th {\n",
       "        text-align: right;\n",
       "    }\n",
       "</style>\n",
       "<table border=\"1\" class=\"dataframe\">\n",
       "  <thead>\n",
       "    <tr style=\"text-align: right;\">\n",
       "      <th></th>\n",
       "      <th>idaviso</th>\n",
       "      <th>idpostulante</th>\n",
       "      <th>rango_edad</th>\n",
       "      <th>sexo</th>\n",
       "      <th>nivel_estudios</th>\n",
       "      <th>esta_estudiando</th>\n",
       "      <th>titulo</th>\n",
       "      <th>tipo_de_trabajo</th>\n",
       "      <th>nivel_laboral</th>\n",
       "      <th>nombre_zona</th>\n",
       "      <th>nombre_area</th>\n",
       "      <th>sepostulo</th>\n",
       "      <th>estudios_vs_laboral</th>\n",
       "    </tr>\n",
       "  </thead>\n",
       "  <tbody>\n",
       "    <tr>\n",
       "      <th>1231810</th>\n",
       "      <td>1111727546</td>\n",
       "      <td>6APXDj</td>\n",
       "      <td>3.0</td>\n",
       "      <td>1</td>\n",
       "      <td>4.0</td>\n",
       "      <td>0.0</td>\n",
       "      <td>Operario sector Pañol - San Justo</td>\n",
       "      <td>10</td>\n",
       "      <td>3</td>\n",
       "      <td>3</td>\n",
       "      <td>Producción</td>\n",
       "      <td>0.0</td>\n",
       "      <td>0.640946</td>\n",
       "    </tr>\n",
       "    <tr>\n",
       "      <th>2540171</th>\n",
       "      <td>1112410901</td>\n",
       "      <td>BmDMmGR</td>\n",
       "      <td>1.0</td>\n",
       "      <td>2</td>\n",
       "      <td>4.0</td>\n",
       "      <td>1.0</td>\n",
       "      <td>Data Entry Administrativo</td>\n",
       "      <td>10</td>\n",
       "      <td>2</td>\n",
       "      <td>3</td>\n",
       "      <td>Administración</td>\n",
       "      <td>1.0</td>\n",
       "      <td>0.246602</td>\n",
       "    </tr>\n",
       "    <tr>\n",
       "      <th>2411998</th>\n",
       "      <td>1112400775</td>\n",
       "      <td>owaVVZW</td>\n",
       "      <td>2.0</td>\n",
       "      <td>1</td>\n",
       "      <td>4.0</td>\n",
       "      <td>0.0</td>\n",
       "      <td>Vendedor de Salón (CABA y GBA)</td>\n",
       "      <td>10</td>\n",
       "      <td>3</td>\n",
       "      <td>3</td>\n",
       "      <td>Ventas</td>\n",
       "      <td>1.0</td>\n",
       "      <td>0.640946</td>\n",
       "    </tr>\n",
       "    <tr>\n",
       "      <th>2020081</th>\n",
       "      <td>1111043912</td>\n",
       "      <td>KBa2jop</td>\n",
       "      <td>3.0</td>\n",
       "      <td>1</td>\n",
       "      <td>4.0</td>\n",
       "      <td>0.0</td>\n",
       "      <td>Asistente Ejecutiva Bilingüe de Dirección</td>\n",
       "      <td>10</td>\n",
       "      <td>3</td>\n",
       "      <td>3</td>\n",
       "      <td>Secretaria</td>\n",
       "      <td>1.0</td>\n",
       "      <td>0.640946</td>\n",
       "    </tr>\n",
       "    <tr>\n",
       "      <th>1274764</th>\n",
       "      <td>1111724719</td>\n",
       "      <td>owzjWMj</td>\n",
       "      <td>2.0</td>\n",
       "      <td>1</td>\n",
       "      <td>4.0</td>\n",
       "      <td>0.0</td>\n",
       "      <td>Diseñador Grafico Junior</td>\n",
       "      <td>10</td>\n",
       "      <td>3</td>\n",
       "      <td>3</td>\n",
       "      <td>Diseño Gráfico</td>\n",
       "      <td>0.0</td>\n",
       "      <td>0.640946</td>\n",
       "    </tr>\n",
       "  </tbody>\n",
       "</table>\n",
       "</div>"
      ],
      "text/plain": [
       "            idaviso idpostulante  rango_edad  sexo  nivel_estudios  \\\n",
       "1231810  1111727546       6APXDj         3.0     1             4.0   \n",
       "2540171  1112410901      BmDMmGR         1.0     2             4.0   \n",
       "2411998  1112400775      owaVVZW         2.0     1             4.0   \n",
       "2020081  1111043912      KBa2jop         3.0     1             4.0   \n",
       "1274764  1111724719      owzjWMj         2.0     1             4.0   \n",
       "\n",
       "         esta_estudiando                                     titulo  \\\n",
       "1231810              0.0          Operario sector Pañol - San Justo   \n",
       "2540171              1.0                  Data Entry Administrativo   \n",
       "2411998              0.0             Vendedor de Salón (CABA y GBA)   \n",
       "2020081              0.0  Asistente Ejecutiva Bilingüe de Dirección   \n",
       "1274764              0.0                   Diseñador Grafico Junior   \n",
       "\n",
       "         tipo_de_trabajo  nivel_laboral  nombre_zona     nombre_area  \\\n",
       "1231810               10              3            3      Producción   \n",
       "2540171               10              2            3  Administración   \n",
       "2411998               10              3            3          Ventas   \n",
       "2020081               10              3            3      Secretaria   \n",
       "1274764               10              3            3  Diseño Gráfico   \n",
       "\n",
       "         sepostulo  estudios_vs_laboral  \n",
       "1231810        0.0             0.640946  \n",
       "2540171        1.0             0.246602  \n",
       "2411998        1.0             0.640946  \n",
       "2020081        1.0             0.640946  \n",
       "1274764        0.0             0.640946  "
      ]
     },
     "execution_count": 11,
     "metadata": {},
     "output_type": "execute_result"
    }
   ],
   "source": [
    "modelo.sample(5)"
   ]
  },
  {
   "cell_type": "markdown",
   "metadata": {},
   "source": [
    " "
   ]
  },
  {
   "cell_type": "markdown",
   "metadata": {},
   "source": [
    "### Esta estudiando vs Tipo de trabajo"
   ]
  },
  {
   "cell_type": "markdown",
   "metadata": {},
   "source": [
    "Esta estudiando:\n",
    "- 0 = Está graduado o abandonó\n",
    "- 1 = Tiene un título en curso"
   ]
  },
  {
   "cell_type": "markdown",
   "metadata": {},
   "source": [
    "Tipo de trabajo:\n",
    "- 1 = Voluntario\n",
    "- 2 = Primer Empleo\n",
    "- 3 = Fines de Semana\n",
    "- 4 = Por Contrato\n",
    "- 5 = Temporario\n",
    "- 6 = Pasantia\n",
    "- 7 = Por Horas\n",
    "- 8 = Teletrabajo\n",
    "- 9 = Part-time\n",
    "- 10 = Full-time"
   ]
  },
  {
   "cell_type": "code",
   "execution_count": 12,
   "metadata": {},
   "outputs": [
    {
     "data": {
      "text/plain": [
       "0.0    952095\n",
       "1.0    547905\n",
       "Name: esta_estudiando, dtype: int64"
      ]
     },
     "execution_count": 12,
     "metadata": {},
     "output_type": "execute_result"
    }
   ],
   "source": [
    "modelo_si['esta_estudiando'].value_counts()"
   ]
  },
  {
   "cell_type": "code",
   "execution_count": 13,
   "metadata": {},
   "outputs": [
    {
     "data": {
      "text/plain": [
       "10    1270526\n",
       "9      206275\n",
       "6        7566\n",
       "7        5035\n",
       "5        3976\n",
       "3        2212\n",
       "4        2191\n",
       "8        1595\n",
       "2         557\n",
       "1          67\n",
       "Name: tipo_de_trabajo, dtype: int64"
      ]
     },
     "execution_count": 13,
     "metadata": {},
     "output_type": "execute_result"
    }
   ],
   "source": [
    "modelo_si['tipo_de_trabajo'].value_counts()"
   ]
  },
  {
   "cell_type": "code",
   "execution_count": 14,
   "metadata": {},
   "outputs": [
    {
     "data": {
      "text/html": [
       "<div>\n",
       "<style scoped>\n",
       "    .dataframe tbody tr th:only-of-type {\n",
       "        vertical-align: middle;\n",
       "    }\n",
       "\n",
       "    .dataframe tbody tr th {\n",
       "        vertical-align: top;\n",
       "    }\n",
       "\n",
       "    .dataframe thead th {\n",
       "        text-align: right;\n",
       "    }\n",
       "</style>\n",
       "<table border=\"1\" class=\"dataframe\">\n",
       "  <thead>\n",
       "    <tr style=\"text-align: right;\">\n",
       "      <th>tipo_de_trabajo</th>\n",
       "      <th>1</th>\n",
       "      <th>2</th>\n",
       "      <th>3</th>\n",
       "      <th>4</th>\n",
       "      <th>5</th>\n",
       "      <th>6</th>\n",
       "      <th>7</th>\n",
       "      <th>8</th>\n",
       "      <th>9</th>\n",
       "      <th>10</th>\n",
       "    </tr>\n",
       "    <tr>\n",
       "      <th>esta_estudiando</th>\n",
       "      <th></th>\n",
       "      <th></th>\n",
       "      <th></th>\n",
       "      <th></th>\n",
       "      <th></th>\n",
       "      <th></th>\n",
       "      <th></th>\n",
       "      <th></th>\n",
       "      <th></th>\n",
       "      <th></th>\n",
       "    </tr>\n",
       "  </thead>\n",
       "  <tbody>\n",
       "    <tr>\n",
       "      <th>0.0</th>\n",
       "      <td>0.716418</td>\n",
       "      <td>0.524237</td>\n",
       "      <td>0.663201</td>\n",
       "      <td>0.638065</td>\n",
       "      <td>0.692404</td>\n",
       "      <td>0.269759</td>\n",
       "      <td>0.709831</td>\n",
       "      <td>0.615047</td>\n",
       "      <td>0.533763</td>\n",
       "      <td>0.652831</td>\n",
       "    </tr>\n",
       "    <tr>\n",
       "      <th>1.0</th>\n",
       "      <td>0.283582</td>\n",
       "      <td>0.475763</td>\n",
       "      <td>0.336799</td>\n",
       "      <td>0.361935</td>\n",
       "      <td>0.307596</td>\n",
       "      <td>0.730241</td>\n",
       "      <td>0.290169</td>\n",
       "      <td>0.384953</td>\n",
       "      <td>0.466237</td>\n",
       "      <td>0.347169</td>\n",
       "    </tr>\n",
       "  </tbody>\n",
       "</table>\n",
       "</div>"
      ],
      "text/plain": [
       "tipo_de_trabajo        1         2         3         4         5         6   \\\n",
       "esta_estudiando                                                               \n",
       "0.0              0.716418  0.524237  0.663201  0.638065  0.692404  0.269759   \n",
       "1.0              0.283582  0.475763  0.336799  0.361935  0.307596  0.730241   \n",
       "\n",
       "tipo_de_trabajo        7         8         9         10  \n",
       "esta_estudiando                                          \n",
       "0.0              0.709831  0.615047  0.533763  0.652831  \n",
       "1.0              0.290169  0.384953  0.466237  0.347169  "
      ]
     },
     "execution_count": 14,
     "metadata": {},
     "output_type": "execute_result"
    }
   ],
   "source": [
    "estudiando_vs_tipo_trabajo_t = pd.crosstab(modelo_si['esta_estudiando'], modelo_si['tipo_de_trabajo'], normalize='columns')\n",
    "estudiando_vs_tipo_trabajo_t"
   ]
  },
  {
   "cell_type": "code",
   "execution_count": 15,
   "metadata": {},
   "outputs": [
    {
     "data": {
      "text/plain": [
       "<matplotlib.text.Text at 0x7fdbb3afb240>"
      ]
     },
     "execution_count": 15,
     "metadata": {},
     "output_type": "execute_result"
    },
    {
     "data": {
      "image/png": "[encoded data removed]",
      "text/plain": [
       "<matplotlib.figure.Figure at 0x7fdbb3a87748>"
      ]
     },
     "metadata": {},
     "output_type": "display_data"
    }
   ],
   "source": [
    "fig, ax = plt.subplots(figsize=(14,4))\n",
    "heatmap = sns.heatmap(estudiando_vs_tipo_trabajo_t, cmap='YlGnBu', robust=False, annot=False,\\\n",
    "                      linewidths=.5, linecolor='grey', ax=ax)\n",
    "\n",
    "heatmap.set_title('Esta estudiando vs Tipo de trabajo', fontsize=18)\n",
    "heatmap.set_xlabel('Tipo de trabajo', fontsize=14)\n",
    "heatmap.set_ylabel('Esta estudiando', fontsize=14)"
   ]
  },
  {
   "cell_type": "markdown",
   "metadata": {},
   "source": [
    "Creamos una columna en el dataframe contenedora del peso correspondiente a la combinación de las dos variables categóricas."
   ]
  },
  {
   "cell_type": "code",
   "execution_count": 16,
   "metadata": {},
   "outputs": [],
   "source": [
    "n_trabajos = 10\n",
    "for index, row in estudiando_vs_tipo_trabajo_t.iterrows():\n",
    "    for i in range(1,n_trabajos+1):\n",
    "        peso = row[i]\n",
    "        tipo_trabajo = i\n",
    "        esta_estudiando = index\n",
    "        relacion = (modelo['tipo_de_trabajo'] == tipo_trabajo) & (modelo['esta_estudiando'] == esta_estudiando)\n",
    "        modelo.loc[(relacion), 'estudia_vs_tipo_trabajo'] = peso"
   ]
  },
  {
   "cell_type": "code",
   "execution_count": 17,
   "metadata": {},
   "outputs": [
    {
     "data": {
      "text/html": [
       "<div>\n",
       "<style scoped>\n",
       "    .dataframe tbody tr th:only-of-type {\n",
       "        vertical-align: middle;\n",
       "    }\n",
       "\n",
       "    .dataframe tbody tr th {\n",
       "        vertical-align: top;\n",
       "    }\n",
       "\n",
       "    .dataframe thead th {\n",
       "        text-align: right;\n",
       "    }\n",
       "</style>\n",
       "<table border=\"1\" class=\"dataframe\">\n",
       "  <thead>\n",
       "    <tr style=\"text-align: right;\">\n",
       "      <th></th>\n",
       "      <th>idaviso</th>\n",
       "      <th>idpostulante</th>\n",
       "      <th>rango_edad</th>\n",
       "      <th>sexo</th>\n",
       "      <th>nivel_estudios</th>\n",
       "      <th>esta_estudiando</th>\n",
       "      <th>titulo</th>\n",
       "      <th>tipo_de_trabajo</th>\n",
       "      <th>nivel_laboral</th>\n",
       "      <th>nombre_zona</th>\n",
       "      <th>nombre_area</th>\n",
       "      <th>sepostulo</th>\n",
       "      <th>estudios_vs_laboral</th>\n",
       "      <th>estudia_vs_tipo_trabajo</th>\n",
       "    </tr>\n",
       "  </thead>\n",
       "  <tbody>\n",
       "    <tr>\n",
       "      <th>655785</th>\n",
       "      <td>1112250519</td>\n",
       "      <td>JBm098W</td>\n",
       "      <td>4.0</td>\n",
       "      <td>1</td>\n",
       "      <td>4.0</td>\n",
       "      <td>0.0</td>\n",
       "      <td>Jefe de Taller Mecánico - Don Torcuato.</td>\n",
       "      <td>10</td>\n",
       "      <td>3</td>\n",
       "      <td>3</td>\n",
       "      <td>Ingeniería  Mecánica</td>\n",
       "      <td>0.0</td>\n",
       "      <td>0.640946</td>\n",
       "      <td>0.652831</td>\n",
       "    </tr>\n",
       "    <tr>\n",
       "      <th>2238554</th>\n",
       "      <td>1112364836</td>\n",
       "      <td>wVYWW9B</td>\n",
       "      <td>1.0</td>\n",
       "      <td>1</td>\n",
       "      <td>4.0</td>\n",
       "      <td>1.0</td>\n",
       "      <td>Técnico Químico - Analista de Calidad</td>\n",
       "      <td>10</td>\n",
       "      <td>3</td>\n",
       "      <td>3</td>\n",
       "      <td>Calidad</td>\n",
       "      <td>1.0</td>\n",
       "      <td>0.640946</td>\n",
       "      <td>0.347169</td>\n",
       "    </tr>\n",
       "    <tr>\n",
       "      <th>142293</th>\n",
       "      <td>1112350302</td>\n",
       "      <td>JBr9MQO</td>\n",
       "      <td>2.0</td>\n",
       "      <td>1</td>\n",
       "      <td>1.0</td>\n",
       "      <td>1.0</td>\n",
       "      <td>Vendedor de salón - Chacarita</td>\n",
       "      <td>10</td>\n",
       "      <td>3</td>\n",
       "      <td>3</td>\n",
       "      <td>Ventas</td>\n",
       "      <td>0.0</td>\n",
       "      <td>0.675706</td>\n",
       "      <td>0.347169</td>\n",
       "    </tr>\n",
       "    <tr>\n",
       "      <th>2504778</th>\n",
       "      <td>1112269433</td>\n",
       "      <td>ZDPPqrY</td>\n",
       "      <td>2.0</td>\n",
       "      <td>1</td>\n",
       "      <td>2.0</td>\n",
       "      <td>0.0</td>\n",
       "      <td>Auxiliar de Administración</td>\n",
       "      <td>10</td>\n",
       "      <td>2</td>\n",
       "      <td>3</td>\n",
       "      <td>Contabilidad</td>\n",
       "      <td>1.0</td>\n",
       "      <td>0.205458</td>\n",
       "      <td>0.652831</td>\n",
       "    </tr>\n",
       "    <tr>\n",
       "      <th>116422</th>\n",
       "      <td>1112243170</td>\n",
       "      <td>xkdE0lx</td>\n",
       "      <td>1.0</td>\n",
       "      <td>1</td>\n",
       "      <td>2.0</td>\n",
       "      <td>0.0</td>\n",
       "      <td>Operario de deposito con manejo de Clark -Zona...</td>\n",
       "      <td>10</td>\n",
       "      <td>3</td>\n",
       "      <td>3</td>\n",
       "      <td>Producción</td>\n",
       "      <td>0.0</td>\n",
       "      <td>0.665861</td>\n",
       "      <td>0.652831</td>\n",
       "    </tr>\n",
       "  </tbody>\n",
       "</table>\n",
       "</div>"
      ],
      "text/plain": [
       "            idaviso idpostulante  rango_edad  sexo  nivel_estudios  \\\n",
       "655785   1112250519      JBm098W         4.0     1             4.0   \n",
       "2238554  1112364836      wVYWW9B         1.0     1             4.0   \n",
       "142293   1112350302      JBr9MQO         2.0     1             1.0   \n",
       "2504778  1112269433      ZDPPqrY         2.0     1             2.0   \n",
       "116422   1112243170      xkdE0lx         1.0     1             2.0   \n",
       "\n",
       "         esta_estudiando                                             titulo  \\\n",
       "655785               0.0            Jefe de Taller Mecánico - Don Torcuato.   \n",
       "2238554              1.0              Técnico Químico - Analista de Calidad   \n",
       "142293               1.0                      Vendedor de salón - Chacarita   \n",
       "2504778              0.0                         Auxiliar de Administración   \n",
       "116422               0.0  Operario de deposito con manejo de Clark -Zona...   \n",
       "\n",
       "         tipo_de_trabajo  nivel_laboral  nombre_zona           nombre_area  \\\n",
       "655785                10              3            3  Ingeniería  Mecánica   \n",
       "2238554               10              3            3               Calidad   \n",
       "142293                10              3            3                Ventas   \n",
       "2504778               10              2            3          Contabilidad   \n",
       "116422                10              3            3            Producción   \n",
       "\n",
       "         sepostulo  estudios_vs_laboral  estudia_vs_tipo_trabajo  \n",
       "655785         0.0             0.640946                 0.652831  \n",
       "2238554        1.0             0.640946                 0.347169  \n",
       "142293         0.0             0.675706                 0.347169  \n",
       "2504778        1.0             0.205458                 0.652831  \n",
       "116422         0.0             0.665861                 0.652831  "
      ]
     },
     "execution_count": 17,
     "metadata": {},
     "output_type": "execute_result"
    }
   ],
   "source": [
    "modelo.sample(5)"
   ]
  },
  {
   "cell_type": "markdown",
   "metadata": {},
   "source": [
    " "
   ]
  },
  {
   "cell_type": "markdown",
   "metadata": {},
   "source": [
    "### Rango de edad vs Tipo de trabajo"
   ]
  },
  {
   "cell_type": "markdown",
   "metadata": {},
   "source": [
    "Rango de edad:\n",
    "- 1 = 18-25 \n",
    "- 2 = 26-30\n",
    "- 3 = 31-40\n",
    "- 4 = 41-68"
   ]
  },
  {
   "cell_type": "markdown",
   "metadata": {},
   "source": [
    "Tipo de trabajo:\n",
    "- 1 = Voluntario\n",
    "- 2 = Primer Empleo\n",
    "- 3 = Fines de Semana\n",
    "- 4 = Por Contrato\n",
    "- 5 = Temporario\n",
    "- 6 = Pasantia\n",
    "- 7 = Por Horas\n",
    "- 8 = Teletrabajo\n",
    "- 9 = Part-time\n",
    "- 10 = Full-time"
   ]
  },
  {
   "cell_type": "code",
   "execution_count": 18,
   "metadata": {},
   "outputs": [
    {
     "data": {
      "text/plain": [
       "1.0    515062\n",
       "2.0    445065\n",
       "3.0    397950\n",
       "4.0    141923\n",
       "Name: rango_edad, dtype: int64"
      ]
     },
     "execution_count": 18,
     "metadata": {},
     "output_type": "execute_result"
    }
   ],
   "source": [
    "modelo_si['rango_edad'].value_counts()"
   ]
  },
  {
   "cell_type": "code",
   "execution_count": 19,
   "metadata": {},
   "outputs": [
    {
     "data": {
      "text/plain": [
       "10    1270526\n",
       "9      206275\n",
       "6        7566\n",
       "7        5035\n",
       "5        3976\n",
       "3        2212\n",
       "4        2191\n",
       "8        1595\n",
       "2         557\n",
       "1          67\n",
       "Name: tipo_de_trabajo, dtype: int64"
      ]
     },
     "execution_count": 19,
     "metadata": {},
     "output_type": "execute_result"
    }
   ],
   "source": [
    "modelo_si['tipo_de_trabajo'].value_counts()"
   ]
  },
  {
   "cell_type": "code",
   "execution_count": 20,
   "metadata": {},
   "outputs": [
    {
     "data": {
      "text/html": [
       "<div>\n",
       "<style scoped>\n",
       "    .dataframe tbody tr th:only-of-type {\n",
       "        vertical-align: middle;\n",
       "    }\n",
       "\n",
       "    .dataframe tbody tr th {\n",
       "        vertical-align: top;\n",
       "    }\n",
       "\n",
       "    .dataframe thead th {\n",
       "        text-align: right;\n",
       "    }\n",
       "</style>\n",
       "<table border=\"1\" class=\"dataframe\">\n",
       "  <thead>\n",
       "    <tr style=\"text-align: right;\">\n",
       "      <th>tipo_de_trabajo</th>\n",
       "      <th>1</th>\n",
       "      <th>2</th>\n",
       "      <th>3</th>\n",
       "      <th>4</th>\n",
       "      <th>5</th>\n",
       "      <th>6</th>\n",
       "      <th>7</th>\n",
       "      <th>8</th>\n",
       "      <th>9</th>\n",
       "      <th>10</th>\n",
       "    </tr>\n",
       "    <tr>\n",
       "      <th>rango_edad</th>\n",
       "      <th></th>\n",
       "      <th></th>\n",
       "      <th></th>\n",
       "      <th></th>\n",
       "      <th></th>\n",
       "      <th></th>\n",
       "      <th></th>\n",
       "      <th></th>\n",
       "      <th></th>\n",
       "      <th></th>\n",
       "    </tr>\n",
       "  </thead>\n",
       "  <tbody>\n",
       "    <tr>\n",
       "      <th>1.0</th>\n",
       "      <td>0.507463</td>\n",
       "      <td>0.707361</td>\n",
       "      <td>0.464738</td>\n",
       "      <td>0.243268</td>\n",
       "      <td>0.317907</td>\n",
       "      <td>0.623976</td>\n",
       "      <td>0.361668</td>\n",
       "      <td>0.376803</td>\n",
       "      <td>0.502475</td>\n",
       "      <td>0.315631</td>\n",
       "    </tr>\n",
       "    <tr>\n",
       "      <th>2.0</th>\n",
       "      <td>0.298507</td>\n",
       "      <td>0.179533</td>\n",
       "      <td>0.284358</td>\n",
       "      <td>0.321771</td>\n",
       "      <td>0.311368</td>\n",
       "      <td>0.255617</td>\n",
       "      <td>0.295531</td>\n",
       "      <td>0.263950</td>\n",
       "      <td>0.258020</td>\n",
       "      <td>0.303266</td>\n",
       "    </tr>\n",
       "    <tr>\n",
       "      <th>3.0</th>\n",
       "      <td>0.179104</td>\n",
       "      <td>0.095153</td>\n",
       "      <td>0.199819</td>\n",
       "      <td>0.322227</td>\n",
       "      <td>0.280936</td>\n",
       "      <td>0.104282</td>\n",
       "      <td>0.257001</td>\n",
       "      <td>0.270846</td>\n",
       "      <td>0.185413</td>\n",
       "      <td>0.279301</td>\n",
       "    </tr>\n",
       "    <tr>\n",
       "      <th>4.0</th>\n",
       "      <td>0.014925</td>\n",
       "      <td>0.017953</td>\n",
       "      <td>0.051085</td>\n",
       "      <td>0.112734</td>\n",
       "      <td>0.089789</td>\n",
       "      <td>0.016125</td>\n",
       "      <td>0.085799</td>\n",
       "      <td>0.088401</td>\n",
       "      <td>0.054093</td>\n",
       "      <td>0.101802</td>\n",
       "    </tr>\n",
       "  </tbody>\n",
       "</table>\n",
       "</div>"
      ],
      "text/plain": [
       "tipo_de_trabajo        1         2         3         4         5         6   \\\n",
       "rango_edad                                                                    \n",
       "1.0              0.507463  0.707361  0.464738  0.243268  0.317907  0.623976   \n",
       "2.0              0.298507  0.179533  0.284358  0.321771  0.311368  0.255617   \n",
       "3.0              0.179104  0.095153  0.199819  0.322227  0.280936  0.104282   \n",
       "4.0              0.014925  0.017953  0.051085  0.112734  0.089789  0.016125   \n",
       "\n",
       "tipo_de_trabajo        7         8         9         10  \n",
       "rango_edad                                               \n",
       "1.0              0.361668  0.376803  0.502475  0.315631  \n",
       "2.0              0.295531  0.263950  0.258020  0.303266  \n",
       "3.0              0.257001  0.270846  0.185413  0.279301  \n",
       "4.0              0.085799  0.088401  0.054093  0.101802  "
      ]
     },
     "execution_count": 20,
     "metadata": {},
     "output_type": "execute_result"
    }
   ],
   "source": [
    "edad_vs_tipo_trabajo_t = pd.crosstab(modelo_si['rango_edad'], modelo_si['tipo_de_trabajo'], normalize='columns')\n",
    "edad_vs_tipo_trabajo_t"
   ]
  },
  {
   "cell_type": "code",
   "execution_count": 21,
   "metadata": {},
   "outputs": [
    {
     "data": {
      "text/plain": [
       "<matplotlib.text.Text at 0x7fdbb39e2a90>"
      ]
     },
     "execution_count": 21,
     "metadata": {},
     "output_type": "execute_result"
    },
    {
     "data": {
      "image/png": "[encoded data removed]",
      "text/plain": [
       "<matplotlib.figure.Figure at 0x7fdbb3a11160>"
      ]
     },
     "metadata": {},
     "output_type": "display_data"
    }
   ],
   "source": [
    "fig, ax = plt.subplots(figsize=(14,4))\n",
    "heatmap = sns.heatmap(edad_vs_tipo_trabajo_t, cmap='Greens', robust=False, annot=False,\\\n",
    "                      linewidths=.5, linecolor='grey', ax=ax)\n",
    "\n",
    "heatmap.set_title('Rango edad vs Tipo de trabajo', fontsize=18)\n",
    "heatmap.set_xlabel('Tipo de trabajo', fontsize=14)\n",
    "heatmap.set_ylabel('Rango edad', fontsize=14)"
   ]
  },
  {
   "cell_type": "markdown",
   "metadata": {},
   "source": [
    "Creamos una columna en el dataframe contenedora del peso correspondiente a la combinación de las dos variables categóricas."
   ]
  },
  {
   "cell_type": "code",
   "execution_count": 22,
   "metadata": {},
   "outputs": [],
   "source": [
    "n_trabajos = 10\n",
    "for index, row in edad_vs_tipo_trabajo_t.iterrows():\n",
    "    for i in range(1,n_trabajos+1):\n",
    "        peso = row[i]\n",
    "        tipo_trabajo = i\n",
    "        rango_edad = index\n",
    "        relacion = (modelo['tipo_de_trabajo'] == tipo_trabajo) & (modelo['rango_edad'] == rango_edad)\n",
    "        modelo.loc[(relacion), 'edad_vs_tipo_trabajo'] = peso"
   ]
  },
  {
   "cell_type": "code",
   "execution_count": 23,
   "metadata": {},
   "outputs": [
    {
     "data": {
      "text/html": [
       "<div>\n",
       "<style scoped>\n",
       "    .dataframe tbody tr th:only-of-type {\n",
       "        vertical-align: middle;\n",
       "    }\n",
       "\n",
       "    .dataframe tbody tr th {\n",
       "        vertical-align: top;\n",
       "    }\n",
       "\n",
       "    .dataframe thead th {\n",
       "        text-align: right;\n",
       "    }\n",
       "</style>\n",
       "<table border=\"1\" class=\"dataframe\">\n",
       "  <thead>\n",
       "    <tr style=\"text-align: right;\">\n",
       "      <th></th>\n",
       "      <th>idaviso</th>\n",
       "      <th>idpostulante</th>\n",
       "      <th>rango_edad</th>\n",
       "      <th>sexo</th>\n",
       "      <th>nivel_estudios</th>\n",
       "      <th>esta_estudiando</th>\n",
       "      <th>titulo</th>\n",
       "      <th>tipo_de_trabajo</th>\n",
       "      <th>nivel_laboral</th>\n",
       "      <th>nombre_zona</th>\n",
       "      <th>nombre_area</th>\n",
       "      <th>sepostulo</th>\n",
       "      <th>estudios_vs_laboral</th>\n",
       "      <th>estudia_vs_tipo_trabajo</th>\n",
       "      <th>edad_vs_tipo_trabajo</th>\n",
       "    </tr>\n",
       "  </thead>\n",
       "  <tbody>\n",
       "    <tr>\n",
       "      <th>363421</th>\n",
       "      <td>1111975974</td>\n",
       "      <td>3NPWvd6</td>\n",
       "      <td>1.0</td>\n",
       "      <td>1</td>\n",
       "      <td>4.0</td>\n",
       "      <td>1.0</td>\n",
       "      <td>Soporte Técnico  Área Sistemas</td>\n",
       "      <td>10</td>\n",
       "      <td>3</td>\n",
       "      <td>3</td>\n",
       "      <td>Soporte Técnico</td>\n",
       "      <td>0.0</td>\n",
       "      <td>0.640946</td>\n",
       "      <td>0.347169</td>\n",
       "      <td>0.315631</td>\n",
       "    </tr>\n",
       "    <tr>\n",
       "      <th>639262</th>\n",
       "      <td>1112424295</td>\n",
       "      <td>0zNGbeE</td>\n",
       "      <td>2.0</td>\n",
       "      <td>2</td>\n",
       "      <td>2.0</td>\n",
       "      <td>0.0</td>\n",
       "      <td>Vendedora de ropa de Mujer</td>\n",
       "      <td>10</td>\n",
       "      <td>3</td>\n",
       "      <td>3</td>\n",
       "      <td>Ventas</td>\n",
       "      <td>0.0</td>\n",
       "      <td>0.665861</td>\n",
       "      <td>0.652831</td>\n",
       "      <td>0.303266</td>\n",
       "    </tr>\n",
       "    <tr>\n",
       "      <th>2961763</th>\n",
       "      <td>1002490524</td>\n",
       "      <td>mzdDqEZ</td>\n",
       "      <td>1.0</td>\n",
       "      <td>1</td>\n",
       "      <td>4.0</td>\n",
       "      <td>0.0</td>\n",
       "      <td>Administrativa para Mayorista de Alimentos y B...</td>\n",
       "      <td>10</td>\n",
       "      <td>3</td>\n",
       "      <td>2</td>\n",
       "      <td>Administración</td>\n",
       "      <td>1.0</td>\n",
       "      <td>0.640946</td>\n",
       "      <td>0.652831</td>\n",
       "      <td>0.315631</td>\n",
       "    </tr>\n",
       "    <tr>\n",
       "      <th>2921816</th>\n",
       "      <td>1112460611</td>\n",
       "      <td>96XvZLw</td>\n",
       "      <td>1.0</td>\n",
       "      <td>1</td>\n",
       "      <td>3.0</td>\n",
       "      <td>1.0</td>\n",
       "      <td>Recepcionista-Argentina</td>\n",
       "      <td>10</td>\n",
       "      <td>3</td>\n",
       "      <td>3</td>\n",
       "      <td>Recepcionista</td>\n",
       "      <td>1.0</td>\n",
       "      <td>0.659570</td>\n",
       "      <td>0.347169</td>\n",
       "      <td>0.315631</td>\n",
       "    </tr>\n",
       "    <tr>\n",
       "      <th>1719422</th>\n",
       "      <td>1112303807</td>\n",
       "      <td>akjEdlW</td>\n",
       "      <td>4.0</td>\n",
       "      <td>2</td>\n",
       "      <td>2.0</td>\n",
       "      <td>1.0</td>\n",
       "      <td>Operario de limpieza para Cubrir Vacaciones en...</td>\n",
       "      <td>10</td>\n",
       "      <td>2</td>\n",
       "      <td>3</td>\n",
       "      <td>Otros</td>\n",
       "      <td>1.0</td>\n",
       "      <td>0.205458</td>\n",
       "      <td>0.347169</td>\n",
       "      <td>0.101802</td>\n",
       "    </tr>\n",
       "  </tbody>\n",
       "</table>\n",
       "</div>"
      ],
      "text/plain": [
       "            idaviso idpostulante  rango_edad  sexo  nivel_estudios  \\\n",
       "363421   1111975974      3NPWvd6         1.0     1             4.0   \n",
       "639262   1112424295      0zNGbeE         2.0     2             2.0   \n",
       "2961763  1002490524      mzdDqEZ         1.0     1             4.0   \n",
       "2921816  1112460611      96XvZLw         1.0     1             3.0   \n",
       "1719422  1112303807      akjEdlW         4.0     2             2.0   \n",
       "\n",
       "         esta_estudiando                                             titulo  \\\n",
       "363421               1.0                    Soporte Técnico  Área Sistemas   \n",
       "639262               0.0                        Vendedora de ropa de Mujer    \n",
       "2961763              0.0  Administrativa para Mayorista de Alimentos y B...   \n",
       "2921816              1.0                            Recepcionista-Argentina   \n",
       "1719422              1.0  Operario de limpieza para Cubrir Vacaciones en...   \n",
       "\n",
       "         tipo_de_trabajo  nivel_laboral  nombre_zona      nombre_area  \\\n",
       "363421                10              3            3  Soporte Técnico   \n",
       "639262                10              3            3           Ventas   \n",
       "2961763               10              3            2   Administración   \n",
       "2921816               10              3            3    Recepcionista   \n",
       "1719422               10              2            3            Otros   \n",
       "\n",
       "         sepostulo  estudios_vs_laboral  estudia_vs_tipo_trabajo  \\\n",
       "363421         0.0             0.640946                 0.347169   \n",
       "639262         0.0             0.665861                 0.652831   \n",
       "2961763        1.0             0.640946                 0.652831   \n",
       "2921816        1.0             0.659570                 0.347169   \n",
       "1719422        1.0             0.205458                 0.347169   \n",
       "\n",
       "         edad_vs_tipo_trabajo  \n",
       "363421               0.315631  \n",
       "639262               0.303266  \n",
       "2961763              0.315631  \n",
       "2921816              0.315631  \n",
       "1719422              0.101802  "
      ]
     },
     "execution_count": 23,
     "metadata": {},
     "output_type": "execute_result"
    }
   ],
   "source": [
    "modelo.sample(5)"
   ]
  },
  {
   "cell_type": "markdown",
   "metadata": {},
   "source": [
    " "
   ]
  },
  {
   "cell_type": "markdown",
   "metadata": {},
   "source": [
    "### Rango de edad vs Nombre zona"
   ]
  },
  {
   "cell_type": "markdown",
   "metadata": {},
   "source": [
    "Rango de edad:\n",
    "- 1 = 18-25 \n",
    "- 2 = 26-30\n",
    "- 3 = 31-40\n",
    "- 4 = 41-68"
   ]
  },
  {
   "cell_type": "markdown",
   "metadata": {},
   "source": [
    "Nombre zona:\n",
    "- 1 = Otros\n",
    "- 2 = Capital Federal\n",
    "- 3 = Gran Buenos Aires"
   ]
  },
  {
   "cell_type": "code",
   "execution_count": 24,
   "metadata": {},
   "outputs": [
    {
     "data": {
      "text/plain": [
       "1.0    970076\n",
       "3.0    834560\n",
       "2.0    831195\n",
       "4.0    364169\n",
       "Name: rango_edad, dtype: int64"
      ]
     },
     "execution_count": 24,
     "metadata": {},
     "output_type": "execute_result"
    }
   ],
   "source": [
    "modelo['rango_edad'].value_counts()"
   ]
  },
  {
   "cell_type": "code",
   "execution_count": 25,
   "metadata": {},
   "outputs": [
    {
     "data": {
      "text/plain": [
       "3    2778580\n",
       "2     220523\n",
       "1        897\n",
       "Name: nombre_zona, dtype: int64"
      ]
     },
     "execution_count": 25,
     "metadata": {},
     "output_type": "execute_result"
    }
   ],
   "source": [
    "modelo['nombre_zona'].value_counts()"
   ]
  },
  {
   "cell_type": "code",
   "execution_count": 26,
   "metadata": {},
   "outputs": [
    {
     "data": {
      "text/html": [
       "<div>\n",
       "<style scoped>\n",
       "    .dataframe tbody tr th:only-of-type {\n",
       "        vertical-align: middle;\n",
       "    }\n",
       "\n",
       "    .dataframe tbody tr th {\n",
       "        vertical-align: top;\n",
       "    }\n",
       "\n",
       "    .dataframe thead th {\n",
       "        text-align: right;\n",
       "    }\n",
       "</style>\n",
       "<table border=\"1\" class=\"dataframe\">\n",
       "  <thead>\n",
       "    <tr style=\"text-align: right;\">\n",
       "      <th>nombre_zona</th>\n",
       "      <th>2</th>\n",
       "      <th>3</th>\n",
       "    </tr>\n",
       "    <tr>\n",
       "      <th>rango_edad</th>\n",
       "      <th></th>\n",
       "      <th></th>\n",
       "    </tr>\n",
       "  </thead>\n",
       "  <tbody>\n",
       "    <tr>\n",
       "      <th>1.0</th>\n",
       "      <td>0.358279</td>\n",
       "      <td>0.342268</td>\n",
       "    </tr>\n",
       "    <tr>\n",
       "      <th>2.0</th>\n",
       "      <td>0.296940</td>\n",
       "      <td>0.296693</td>\n",
       "    </tr>\n",
       "    <tr>\n",
       "      <th>3.0</th>\n",
       "      <td>0.255237</td>\n",
       "      <td>0.266047</td>\n",
       "    </tr>\n",
       "    <tr>\n",
       "      <th>4.0</th>\n",
       "      <td>0.089543</td>\n",
       "      <td>0.094992</td>\n",
       "    </tr>\n",
       "  </tbody>\n",
       "</table>\n",
       "</div>"
      ],
      "text/plain": [
       "nombre_zona         2         3\n",
       "rango_edad                     \n",
       "1.0          0.358279  0.342268\n",
       "2.0          0.296940  0.296693\n",
       "3.0          0.255237  0.266047\n",
       "4.0          0.089543  0.094992"
      ]
     },
     "execution_count": 26,
     "metadata": {},
     "output_type": "execute_result"
    }
   ],
   "source": [
    "edad_vs_zona_t = pd.crosstab(modelo_si['rango_edad'], modelo_si['nombre_zona'], normalize='columns')\n",
    "edad_vs_zona_t"
   ]
  },
  {
   "cell_type": "code",
   "execution_count": 27,
   "metadata": {},
   "outputs": [
    {
     "data": {
      "text/plain": [
       "<matplotlib.text.Text at 0x7fdbb391aac8>"
      ]
     },
     "execution_count": 27,
     "metadata": {},
     "output_type": "execute_result"
    },
    {
     "data": {
      "image/png": "[encoded data removed]",
      "text/plain": [
       "<matplotlib.figure.Figure at 0x7fdbb3908320>"
      ]
     },
     "metadata": {},
     "output_type": "display_data"
    }
   ],
   "source": [
    "fig, ax = plt.subplots(figsize=(14,4))\n",
    "heatmap = sns.heatmap(edad_vs_zona_t, cmap='Purples', robust=False, annot=False,\\\n",
    "                      linewidths=.5, linecolor='grey', ax=ax)\n",
    "\n",
    "heatmap.set_title('Rango edad vs Nombre zona', fontsize=18)\n",
    "heatmap.set_xlabel('Nombre zona', fontsize=14)\n",
    "heatmap.set_ylabel('Rango edad', fontsize=14)"
   ]
  },
  {
   "cell_type": "markdown",
   "metadata": {},
   "source": [
    "Creamos una columna en el dataframe contenedora del peso correspondiente a la combinación de las dos variables categóricas."
   ]
  },
  {
   "cell_type": "code",
   "execution_count": 28,
   "metadata": {},
   "outputs": [],
   "source": [
    "n_zonas = 3\n",
    "for index, row in edad_vs_zona_t.iterrows():\n",
    "    for i in range(2,n_zonas+1):\n",
    "        peso = row[i]\n",
    "        nombre_zona = i\n",
    "        rango_edad = index\n",
    "        relacion = (modelo['nombre_zona'] == nombre_zona) & (modelo['rango_edad'] == rango_edad)\n",
    "        modelo.loc[(relacion), 'edad_vs_zona'] = peso"
   ]
  },
  {
   "cell_type": "code",
   "execution_count": 29,
   "metadata": {},
   "outputs": [
    {
     "data": {
      "text/html": [
       "<div>\n",
       "<style scoped>\n",
       "    .dataframe tbody tr th:only-of-type {\n",
       "        vertical-align: middle;\n",
       "    }\n",
       "\n",
       "    .dataframe tbody tr th {\n",
       "        vertical-align: top;\n",
       "    }\n",
       "\n",
       "    .dataframe thead th {\n",
       "        text-align: right;\n",
       "    }\n",
       "</style>\n",
       "<table border=\"1\" class=\"dataframe\">\n",
       "  <thead>\n",
       "    <tr style=\"text-align: right;\">\n",
       "      <th></th>\n",
       "      <th>idaviso</th>\n",
       "      <th>idpostulante</th>\n",
       "      <th>rango_edad</th>\n",
       "      <th>sexo</th>\n",
       "      <th>nivel_estudios</th>\n",
       "      <th>esta_estudiando</th>\n",
       "      <th>titulo</th>\n",
       "      <th>tipo_de_trabajo</th>\n",
       "      <th>nivel_laboral</th>\n",
       "      <th>nombre_zona</th>\n",
       "      <th>nombre_area</th>\n",
       "      <th>sepostulo</th>\n",
       "      <th>estudios_vs_laboral</th>\n",
       "      <th>estudia_vs_tipo_trabajo</th>\n",
       "      <th>edad_vs_tipo_trabajo</th>\n",
       "      <th>edad_vs_zona</th>\n",
       "    </tr>\n",
       "  </thead>\n",
       "  <tbody>\n",
       "    <tr>\n",
       "      <th>285610</th>\n",
       "      <td>1112468046</td>\n",
       "      <td>LNKQz3p</td>\n",
       "      <td>4.0</td>\n",
       "      <td>1</td>\n",
       "      <td>4.0</td>\n",
       "      <td>0.0</td>\n",
       "      <td>MÉDICO CLÍNICO/ HEMATÓLOGO/ OFTALMÓLOGO/ PSIQU...</td>\n",
       "      <td>10</td>\n",
       "      <td>3</td>\n",
       "      <td>3</td>\n",
       "      <td>Medicina</td>\n",
       "      <td>0.0</td>\n",
       "      <td>0.640946</td>\n",
       "      <td>0.652831</td>\n",
       "      <td>0.101802</td>\n",
       "      <td>0.094992</td>\n",
       "    </tr>\n",
       "    <tr>\n",
       "      <th>2714015</th>\n",
       "      <td>1112271873</td>\n",
       "      <td>4rPoXpq</td>\n",
       "      <td>2.0</td>\n",
       "      <td>2</td>\n",
       "      <td>2.0</td>\n",
       "      <td>0.0</td>\n",
       "      <td>DT- Cajeros y Repositores  - Zona Norte y CABA</td>\n",
       "      <td>10</td>\n",
       "      <td>3</td>\n",
       "      <td>3</td>\n",
       "      <td>Atención al Cliente</td>\n",
       "      <td>1.0</td>\n",
       "      <td>0.665861</td>\n",
       "      <td>0.652831</td>\n",
       "      <td>0.303266</td>\n",
       "      <td>0.296693</td>\n",
       "    </tr>\n",
       "    <tr>\n",
       "      <th>2809560</th>\n",
       "      <td>1112378612</td>\n",
       "      <td>mz5pJQ3</td>\n",
       "      <td>1.0</td>\n",
       "      <td>1</td>\n",
       "      <td>4.0</td>\n",
       "      <td>1.0</td>\n",
       "      <td>Recepcionista / Administrativa</td>\n",
       "      <td>10</td>\n",
       "      <td>1</td>\n",
       "      <td>2</td>\n",
       "      <td>Recepcionista</td>\n",
       "      <td>1.0</td>\n",
       "      <td>0.068507</td>\n",
       "      <td>0.347169</td>\n",
       "      <td>0.315631</td>\n",
       "      <td>0.358279</td>\n",
       "    </tr>\n",
       "    <tr>\n",
       "      <th>2340366</th>\n",
       "      <td>1112303105</td>\n",
       "      <td>akxllD0</td>\n",
       "      <td>1.0</td>\n",
       "      <td>2</td>\n",
       "      <td>3.0</td>\n",
       "      <td>1.0</td>\n",
       "      <td>Recepcionista Administrativa</td>\n",
       "      <td>10</td>\n",
       "      <td>2</td>\n",
       "      <td>3</td>\n",
       "      <td>Recepcionista</td>\n",
       "      <td>1.0</td>\n",
       "      <td>0.222439</td>\n",
       "      <td>0.347169</td>\n",
       "      <td>0.315631</td>\n",
       "      <td>0.342268</td>\n",
       "    </tr>\n",
       "    <tr>\n",
       "      <th>1031963</th>\n",
       "      <td>1112369127</td>\n",
       "      <td>aM3wKZ</td>\n",
       "      <td>3.0</td>\n",
       "      <td>2</td>\n",
       "      <td>3.0</td>\n",
       "      <td>0.0</td>\n",
       "      <td>Asistente de Marketing - Compañía Multinaciona...</td>\n",
       "      <td>10</td>\n",
       "      <td>2</td>\n",
       "      <td>3</td>\n",
       "      <td>Marketing</td>\n",
       "      <td>0.0</td>\n",
       "      <td>0.222439</td>\n",
       "      <td>0.652831</td>\n",
       "      <td>0.279301</td>\n",
       "      <td>0.266047</td>\n",
       "    </tr>\n",
       "  </tbody>\n",
       "</table>\n",
       "</div>"
      ],
      "text/plain": [
       "            idaviso idpostulante  rango_edad  sexo  nivel_estudios  \\\n",
       "285610   1112468046      LNKQz3p         4.0     1             4.0   \n",
       "2714015  1112271873      4rPoXpq         2.0     2             2.0   \n",
       "2809560  1112378612      mz5pJQ3         1.0     1             4.0   \n",
       "2340366  1112303105      akxllD0         1.0     2             3.0   \n",
       "1031963  1112369127       aM3wKZ         3.0     2             3.0   \n",
       "\n",
       "         esta_estudiando                                             titulo  \\\n",
       "285610               0.0  MÉDICO CLÍNICO/ HEMATÓLOGO/ OFTALMÓLOGO/ PSIQU...   \n",
       "2714015              0.0     DT- Cajeros y Repositores  - Zona Norte y CABA   \n",
       "2809560              1.0                     Recepcionista / Administrativa   \n",
       "2340366              1.0                       Recepcionista Administrativa   \n",
       "1031963              0.0  Asistente de Marketing - Compañía Multinaciona...   \n",
       "\n",
       "         tipo_de_trabajo  nivel_laboral  nombre_zona          nombre_area  \\\n",
       "285610                10              3            3             Medicina   \n",
       "2714015               10              3            3  Atención al Cliente   \n",
       "2809560               10              1            2        Recepcionista   \n",
       "2340366               10              2            3        Recepcionista   \n",
       "1031963               10              2            3            Marketing   \n",
       "\n",
       "         sepostulo  estudios_vs_laboral  estudia_vs_tipo_trabajo  \\\n",
       "285610         0.0             0.640946                 0.652831   \n",
       "2714015        1.0             0.665861                 0.652831   \n",
       "2809560        1.0             0.068507                 0.347169   \n",
       "2340366        1.0             0.222439                 0.347169   \n",
       "1031963        0.0             0.222439                 0.652831   \n",
       "\n",
       "         edad_vs_tipo_trabajo  edad_vs_zona  \n",
       "285610               0.101802      0.094992  \n",
       "2714015              0.303266      0.296693  \n",
       "2809560              0.315631      0.358279  \n",
       "2340366              0.315631      0.342268  \n",
       "1031963              0.279301      0.266047  "
      ]
     },
     "execution_count": 29,
     "metadata": {},
     "output_type": "execute_result"
    }
   ],
   "source": [
    "modelo.sample(5)"
   ]
  },
  {
   "cell_type": "code",
   "execution_count": 30,
   "metadata": {},
   "outputs": [
    {
     "name": "stdout",
     "output_type": "stream",
     "text": [
      "<class 'pandas.core.frame.DataFrame'>\n",
      "RangeIndex: 3000000 entries, 0 to 2999999\n",
      "Data columns (total 16 columns):\n",
      "idaviso                    int64\n",
      "idpostulante               object\n",
      "rango_edad                 float64\n",
      "sexo                       int64\n",
      "nivel_estudios             float64\n",
      "esta_estudiando            float64\n",
      "titulo                     object\n",
      "tipo_de_trabajo            int64\n",
      "nivel_laboral              int64\n",
      "nombre_zona                int64\n",
      "nombre_area                object\n",
      "sepostulo                  float64\n",
      "estudios_vs_laboral        float64\n",
      "estudia_vs_tipo_trabajo    float64\n",
      "edad_vs_tipo_trabajo       float64\n",
      "edad_vs_zona               float64\n",
      "dtypes: float64(8), int64(5), object(3)\n",
      "memory usage: 366.2+ MB\n"
     ]
    }
   ],
   "source": [
    "modelo.info()"
   ]
  },
  {
   "cell_type": "markdown",
   "metadata": {},
   "source": [
    " "
   ]
  },
  {
   "cell_type": "markdown",
   "metadata": {},
   "source": [
    "### Relación entre las distintas áreas"
   ]
  },
  {
   "cell_type": "markdown",
   "metadata": {},
   "source": [
    "La idea es encontrar relaciones fuertes entre las distintas áreas de los avisos laborales. Para esto, comenzamos por analizar las áreas a las que se postuló cada postulante.\n",
    "\n",
    "Cabe destacar que únicamente nos interesa si el postulante se postuló o no a una cierta área: no influye la cantidad de veces que lo hizo."
   ]
  },
  {
   "cell_type": "code",
   "execution_count": 31,
   "metadata": {},
   "outputs": [],
   "source": [
    "# Eliminamos las postulaciones duplicadas de un mismo postulante a una misma área\n",
    "modelo_areas = modelo_si.drop_duplicates(['idpostulante','nombre_area'])\n",
    "\n",
    "# Creamos un diccionario del estilo {idpostulante:[areas_a_las_que_se_postulo]}\n",
    "dic_id_area = {}\n",
    "for index, row in modelo_si.iterrows():\n",
    "    area = row['nombre_area']\n",
    "    idpostulante = row['idpostulante']\n",
    "    if (idpostulante not in dic_id_area):\n",
    "        dic_id_area[idpostulante] = [area]\n",
    "    else:\n",
    "        if (area not in dic_id_area[idpostulante]):\n",
    "            dic_id_area[idpostulante].append(area)"
   ]
  },
  {
   "cell_type": "markdown",
   "metadata": {},
   "source": [
    "Creamos una lista de listas. Cada sublista contiene las areas a las que se postuló cada postulante. Ya no nos interesa el idpostulante, sino las areas en común.\n",
    "\n",
    "NOTA: tomamos listas de mas de un elemento y menos de 8, ya que luego calcularemos todas las duplas\n",
    "posibles para cada lista. Considerar que 7C2 = 21 duplas como máximo por lista."
   ]
  },
  {
   "cell_type": "code",
   "execution_count": 32,
   "metadata": {},
   "outputs": [],
   "source": [
    "lista_areas = []\n",
    "for id in dic_id_area:\n",
    "    areas = dic_id_area[id]\n",
    "    if (len(areas) > 1 and len(areas) < 8):\n",
    "        lista_areas.append(areas)"
   ]
  },
  {
   "cell_type": "code",
   "execution_count": 33,
   "metadata": {},
   "outputs": [
    {
     "data": {
      "text/html": [
       "<div>\n",
       "<style scoped>\n",
       "    .dataframe tbody tr th:only-of-type {\n",
       "        vertical-align: middle;\n",
       "    }\n",
       "\n",
       "    .dataframe tbody tr th {\n",
       "        vertical-align: top;\n",
       "    }\n",
       "\n",
       "    .dataframe thead th {\n",
       "        text-align: right;\n",
       "    }\n",
       "</style>\n",
       "<table border=\"1\" class=\"dataframe\">\n",
       "  <thead>\n",
       "    <tr style=\"text-align: right;\">\n",
       "      <th></th>\n",
       "      <th>areas</th>\n",
       "    </tr>\n",
       "  </thead>\n",
       "  <tbody>\n",
       "    <tr>\n",
       "      <th>0</th>\n",
       "      <td>[Desarrollo de Negocios, Ventas, Call Center, ...</td>\n",
       "    </tr>\n",
       "    <tr>\n",
       "      <th>1</th>\n",
       "      <td>[Ingeniería  Mecánica, Almacén / Depósito / Ex...</td>\n",
       "    </tr>\n",
       "    <tr>\n",
       "      <th>2</th>\n",
       "      <td>[Ventas, Atención al Cliente]</td>\n",
       "    </tr>\n",
       "    <tr>\n",
       "      <th>3</th>\n",
       "      <td>[Ventas, Gastronomia, Atención al Cliente, Adm...</td>\n",
       "    </tr>\n",
       "    <tr>\n",
       "      <th>4</th>\n",
       "      <td>[Quimica, Calidad, Farmacéutica, Laboratorio]</td>\n",
       "    </tr>\n",
       "  </tbody>\n",
       "</table>\n",
       "</div>"
      ],
      "text/plain": [
       "                                               areas\n",
       "0  [Desarrollo de Negocios, Ventas, Call Center, ...\n",
       "1  [Ingeniería  Mecánica, Almacén / Depósito / Ex...\n",
       "2                      [Ventas, Atención al Cliente]\n",
       "3  [Ventas, Gastronomia, Atención al Cliente, Adm...\n",
       "4      [Quimica, Calidad, Farmacéutica, Laboratorio]"
      ]
     },
     "execution_count": 33,
     "metadata": {},
     "output_type": "execute_result"
    }
   ],
   "source": [
    "df_areas = pd.DataFrame({'areas':lista_areas})\n",
    "df_areas.head(5)"
   ]
  },
  {
   "cell_type": "code",
   "execution_count": 34,
   "metadata": {},
   "outputs": [
    {
     "name": "stdout",
     "output_type": "stream",
     "text": [
      "<class 'pandas.core.frame.DataFrame'>\n",
      "RangeIndex: 136111 entries, 0 to 136110\n",
      "Data columns (total 1 columns):\n",
      "areas    136111 non-null object\n",
      "dtypes: object(1)\n",
      "memory usage: 1.0+ MB\n"
     ]
    }
   ],
   "source": [
    "df_areas.info()"
   ]
  },
  {
   "cell_type": "markdown",
   "metadata": {},
   "source": [
    " "
   ]
  },
  {
   "cell_type": "markdown",
   "metadata": {},
   "source": [
    "A continuación, calcularemos todas las duplas posibles para cada lista de áreas y las ordenaremos de mayor a menor por cantidad de apariciones. De esta forma, podremos saber cuáles son las combinaciones de áreas más comunes."
   ]
  },
  {
   "cell_type": "code",
   "execution_count": 35,
   "metadata": {},
   "outputs": [],
   "source": [
    "dic_tuplas = {}\n",
    "contador = 0\n",
    "for index, row in df_areas.iterrows():\n",
    "    areas = sorted(row['areas'])\n",
    "    for area_x in areas:\n",
    "        indice = areas.index(area_x)\n",
    "        for area_y in areas[indice+1:]:\n",
    "            tupla = (area_x, area_y)\n",
    "            if (tupla not in dic_tuplas):\n",
    "                dic_tuplas[tupla] = 1\n",
    "            else:\n",
    "                dic_tuplas[tupla] += 1"
   ]
  },
  {
   "cell_type": "code",
   "execution_count": 36,
   "metadata": {},
   "outputs": [],
   "source": [
    "df_tuplas = pd.DataFrame(list(dic_tuplas.items()), columns=['dupla_areas','cantidad'])\n",
    "df_tuplas = df_tuplas.sort_values(by=['cantidad'], ascending=False).reset_index()\n",
    "df_tuplas = df_tuplas[['dupla_areas', 'cantidad']]"
   ]
  },
  {
   "cell_type": "code",
   "execution_count": 37,
   "metadata": {},
   "outputs": [
    {
     "data": {
      "text/html": [
       "<div>\n",
       "<style scoped>\n",
       "    .dataframe tbody tr th:only-of-type {\n",
       "        vertical-align: middle;\n",
       "    }\n",
       "\n",
       "    .dataframe tbody tr th {\n",
       "        vertical-align: top;\n",
       "    }\n",
       "\n",
       "    .dataframe thead th {\n",
       "        text-align: right;\n",
       "    }\n",
       "</style>\n",
       "<table border=\"1\" class=\"dataframe\">\n",
       "  <thead>\n",
       "    <tr style=\"text-align: right;\">\n",
       "      <th></th>\n",
       "      <th>dupla_areas</th>\n",
       "      <th>cantidad</th>\n",
       "    </tr>\n",
       "  </thead>\n",
       "  <tbody>\n",
       "    <tr>\n",
       "      <th>0</th>\n",
       "      <td>(Comercial, Ventas)</td>\n",
       "      <td>20070</td>\n",
       "    </tr>\n",
       "    <tr>\n",
       "      <th>1</th>\n",
       "      <td>(Atención al Cliente, Ventas)</td>\n",
       "      <td>17055</td>\n",
       "    </tr>\n",
       "    <tr>\n",
       "      <th>2</th>\n",
       "      <td>(Call Center, Ventas)</td>\n",
       "      <td>11339</td>\n",
       "    </tr>\n",
       "    <tr>\n",
       "      <th>3</th>\n",
       "      <td>(Administración, Ventas)</td>\n",
       "      <td>11261</td>\n",
       "    </tr>\n",
       "    <tr>\n",
       "      <th>4</th>\n",
       "      <td>(Atención al Cliente, Comercial)</td>\n",
       "      <td>10376</td>\n",
       "    </tr>\n",
       "    <tr>\n",
       "      <th>5</th>\n",
       "      <td>(Atención al Cliente, Call Center)</td>\n",
       "      <td>9956</td>\n",
       "    </tr>\n",
       "    <tr>\n",
       "      <th>6</th>\n",
       "      <td>(Administración, Comercial)</td>\n",
       "      <td>8740</td>\n",
       "    </tr>\n",
       "    <tr>\n",
       "      <th>7</th>\n",
       "      <td>(Recepcionista, Ventas)</td>\n",
       "      <td>8378</td>\n",
       "    </tr>\n",
       "    <tr>\n",
       "      <th>8</th>\n",
       "      <td>(Administración, Atención al Cliente)</td>\n",
       "      <td>8011</td>\n",
       "    </tr>\n",
       "    <tr>\n",
       "      <th>9</th>\n",
       "      <td>(Telemarketing, Ventas)</td>\n",
       "      <td>7994</td>\n",
       "    </tr>\n",
       "    <tr>\n",
       "      <th>10</th>\n",
       "      <td>(Tesorería, Ventas)</td>\n",
       "      <td>7571</td>\n",
       "    </tr>\n",
       "    <tr>\n",
       "      <th>11</th>\n",
       "      <td>(Administración, Recepcionista)</td>\n",
       "      <td>7538</td>\n",
       "    </tr>\n",
       "    <tr>\n",
       "      <th>12</th>\n",
       "      <td>(Atención al Cliente, Recepcionista)</td>\n",
       "      <td>6895</td>\n",
       "    </tr>\n",
       "    <tr>\n",
       "      <th>13</th>\n",
       "      <td>(Producción, Ventas)</td>\n",
       "      <td>6479</td>\n",
       "    </tr>\n",
       "    <tr>\n",
       "      <th>14</th>\n",
       "      <td>(Call Center, Telemarketing)</td>\n",
       "      <td>6474</td>\n",
       "    </tr>\n",
       "    <tr>\n",
       "      <th>15</th>\n",
       "      <td>(Call Center, Comercial)</td>\n",
       "      <td>6425</td>\n",
       "    </tr>\n",
       "    <tr>\n",
       "      <th>16</th>\n",
       "      <td>(Comercial, Tesorería)</td>\n",
       "      <td>6109</td>\n",
       "    </tr>\n",
       "    <tr>\n",
       "      <th>17</th>\n",
       "      <td>(Atención al Cliente, Telemarketing)</td>\n",
       "      <td>6101</td>\n",
       "    </tr>\n",
       "    <tr>\n",
       "      <th>18</th>\n",
       "      <td>(Atención al Cliente, Tesorería)</td>\n",
       "      <td>5351</td>\n",
       "    </tr>\n",
       "    <tr>\n",
       "      <th>19</th>\n",
       "      <td>(Almacén / Depósito / Expedición, Producción)</td>\n",
       "      <td>5270</td>\n",
       "    </tr>\n",
       "    <tr>\n",
       "      <th>20</th>\n",
       "      <td>(Comercial, Recepcionista)</td>\n",
       "      <td>5008</td>\n",
       "    </tr>\n",
       "    <tr>\n",
       "      <th>21</th>\n",
       "      <td>(Administración, Call Center)</td>\n",
       "      <td>4988</td>\n",
       "    </tr>\n",
       "    <tr>\n",
       "      <th>22</th>\n",
       "      <td>(Administración, Tesorería)</td>\n",
       "      <td>4913</td>\n",
       "    </tr>\n",
       "    <tr>\n",
       "      <th>23</th>\n",
       "      <td>(Call Center, Recepcionista)</td>\n",
       "      <td>4738</td>\n",
       "    </tr>\n",
       "    <tr>\n",
       "      <th>24</th>\n",
       "      <td>(Recepcionista, Secretaria)</td>\n",
       "      <td>4578</td>\n",
       "    </tr>\n",
       "    <tr>\n",
       "      <th>25</th>\n",
       "      <td>(Administración, Contabilidad)</td>\n",
       "      <td>4524</td>\n",
       "    </tr>\n",
       "    <tr>\n",
       "      <th>26</th>\n",
       "      <td>(Comercial, Telemarketing)</td>\n",
       "      <td>4102</td>\n",
       "    </tr>\n",
       "    <tr>\n",
       "      <th>27</th>\n",
       "      <td>(Mantenimiento y Limpieza, Producción)</td>\n",
       "      <td>3919</td>\n",
       "    </tr>\n",
       "    <tr>\n",
       "      <th>28</th>\n",
       "      <td>(Almacén / Depósito / Expedición, Ventas)</td>\n",
       "      <td>3776</td>\n",
       "    </tr>\n",
       "    <tr>\n",
       "      <th>29</th>\n",
       "      <td>(Atención al Cliente, Producción)</td>\n",
       "      <td>3285</td>\n",
       "    </tr>\n",
       "    <tr>\n",
       "      <th>...</th>\n",
       "      <td>...</td>\n",
       "      <td>...</td>\n",
       "    </tr>\n",
       "    <tr>\n",
       "      <th>170</th>\n",
       "      <td>(Camareros, Recepcionista)</td>\n",
       "      <td>749</td>\n",
       "    </tr>\n",
       "    <tr>\n",
       "      <th>171</th>\n",
       "      <td>(Atención al Cliente, Logística)</td>\n",
       "      <td>748</td>\n",
       "    </tr>\n",
       "    <tr>\n",
       "      <th>172</th>\n",
       "      <td>(Almacén / Depósito / Expedición, Distribución)</td>\n",
       "      <td>744</td>\n",
       "    </tr>\n",
       "    <tr>\n",
       "      <th>173</th>\n",
       "      <td>(Distribución, Ventas)</td>\n",
       "      <td>742</td>\n",
       "    </tr>\n",
       "    <tr>\n",
       "      <th>174</th>\n",
       "      <td>(Abastecimiento, Producción)</td>\n",
       "      <td>742</td>\n",
       "    </tr>\n",
       "    <tr>\n",
       "      <th>175</th>\n",
       "      <td>(Comercial, Salud)</td>\n",
       "      <td>732</td>\n",
       "    </tr>\n",
       "    <tr>\n",
       "      <th>176</th>\n",
       "      <td>(Abastecimiento, Almacén / Depósito / Expedición)</td>\n",
       "      <td>732</td>\n",
       "    </tr>\n",
       "    <tr>\n",
       "      <th>177</th>\n",
       "      <td>(Caja, Comercial)</td>\n",
       "      <td>730</td>\n",
       "    </tr>\n",
       "    <tr>\n",
       "      <th>178</th>\n",
       "      <td>(Producción, Servicios)</td>\n",
       "      <td>730</td>\n",
       "    </tr>\n",
       "    <tr>\n",
       "      <th>179</th>\n",
       "      <td>(Compras, Ventas)</td>\n",
       "      <td>724</td>\n",
       "    </tr>\n",
       "    <tr>\n",
       "      <th>180</th>\n",
       "      <td>(Atención al Cliente, Contabilidad)</td>\n",
       "      <td>712</td>\n",
       "    </tr>\n",
       "    <tr>\n",
       "      <th>181</th>\n",
       "      <td>(Secretaria, Telemarketing)</td>\n",
       "      <td>711</td>\n",
       "    </tr>\n",
       "    <tr>\n",
       "      <th>182</th>\n",
       "      <td>(Marketing, Producto)</td>\n",
       "      <td>702</td>\n",
       "    </tr>\n",
       "    <tr>\n",
       "      <th>183</th>\n",
       "      <td>(Gastronomia, Telemarketing)</td>\n",
       "      <td>702</td>\n",
       "    </tr>\n",
       "    <tr>\n",
       "      <th>184</th>\n",
       "      <td>(Administración, Mantenimiento y Limpieza)</td>\n",
       "      <td>694</td>\n",
       "    </tr>\n",
       "    <tr>\n",
       "      <th>185</th>\n",
       "      <td>(Call Center, Camareros)</td>\n",
       "      <td>689</td>\n",
       "    </tr>\n",
       "    <tr>\n",
       "      <th>186</th>\n",
       "      <td>(Arquitectura, Construcción)</td>\n",
       "      <td>689</td>\n",
       "    </tr>\n",
       "    <tr>\n",
       "      <th>187</th>\n",
       "      <td>(Camareros, Mantenimiento y Limpieza)</td>\n",
       "      <td>686</td>\n",
       "    </tr>\n",
       "    <tr>\n",
       "      <th>188</th>\n",
       "      <td>(Asistente, Comercial)</td>\n",
       "      <td>686</td>\n",
       "    </tr>\n",
       "    <tr>\n",
       "      <th>189</th>\n",
       "      <td>(Créditos y Cobranzas, Recepcionista)</td>\n",
       "      <td>685</td>\n",
       "    </tr>\n",
       "    <tr>\n",
       "      <th>190</th>\n",
       "      <td>(Cadetería, Comercial)</td>\n",
       "      <td>682</td>\n",
       "    </tr>\n",
       "    <tr>\n",
       "      <th>191</th>\n",
       "      <td>(Secretaria, Tesorería)</td>\n",
       "      <td>681</td>\n",
       "    </tr>\n",
       "    <tr>\n",
       "      <th>192</th>\n",
       "      <td>(Mantenimiento y Limpieza, Telemarketing)</td>\n",
       "      <td>679</td>\n",
       "    </tr>\n",
       "    <tr>\n",
       "      <th>193</th>\n",
       "      <td>(Ingeniería  Industrial, Producción)</td>\n",
       "      <td>679</td>\n",
       "    </tr>\n",
       "    <tr>\n",
       "      <th>194</th>\n",
       "      <td>(Mantenimiento y Limpieza, Otros)</td>\n",
       "      <td>677</td>\n",
       "    </tr>\n",
       "    <tr>\n",
       "      <th>195</th>\n",
       "      <td>(Administración, Otros)</td>\n",
       "      <td>675</td>\n",
       "    </tr>\n",
       "    <tr>\n",
       "      <th>196</th>\n",
       "      <td>(Comercial, Seguridad)</td>\n",
       "      <td>675</td>\n",
       "    </tr>\n",
       "    <tr>\n",
       "      <th>197</th>\n",
       "      <td>(Call Center, Oficios y Profesiones)</td>\n",
       "      <td>673</td>\n",
       "    </tr>\n",
       "    <tr>\n",
       "      <th>198</th>\n",
       "      <td>(Planeamiento comercial, Ventas)</td>\n",
       "      <td>661</td>\n",
       "    </tr>\n",
       "    <tr>\n",
       "      <th>199</th>\n",
       "      <td>(Camareros, Hotelería)</td>\n",
       "      <td>660</td>\n",
       "    </tr>\n",
       "  </tbody>\n",
       "</table>\n",
       "<p>200 rows × 2 columns</p>\n",
       "</div>"
      ],
      "text/plain": [
       "                                           dupla_areas  cantidad\n",
       "0                                  (Comercial, Ventas)     20070\n",
       "1                        (Atención al Cliente, Ventas)     17055\n",
       "2                                (Call Center, Ventas)     11339\n",
       "3                             (Administración, Ventas)     11261\n",
       "4                     (Atención al Cliente, Comercial)     10376\n",
       "5                   (Atención al Cliente, Call Center)      9956\n",
       "6                          (Administración, Comercial)      8740\n",
       "7                              (Recepcionista, Ventas)      8378\n",
       "8                (Administración, Atención al Cliente)      8011\n",
       "9                              (Telemarketing, Ventas)      7994\n",
       "10                                 (Tesorería, Ventas)      7571\n",
       "11                     (Administración, Recepcionista)      7538\n",
       "12                (Atención al Cliente, Recepcionista)      6895\n",
       "13                                (Producción, Ventas)      6479\n",
       "14                        (Call Center, Telemarketing)      6474\n",
       "15                            (Call Center, Comercial)      6425\n",
       "16                              (Comercial, Tesorería)      6109\n",
       "17                (Atención al Cliente, Telemarketing)      6101\n",
       "18                    (Atención al Cliente, Tesorería)      5351\n",
       "19       (Almacén / Depósito / Expedición, Producción)      5270\n",
       "20                          (Comercial, Recepcionista)      5008\n",
       "21                       (Administración, Call Center)      4988\n",
       "22                         (Administración, Tesorería)      4913\n",
       "23                        (Call Center, Recepcionista)      4738\n",
       "24                         (Recepcionista, Secretaria)      4578\n",
       "25                      (Administración, Contabilidad)      4524\n",
       "26                          (Comercial, Telemarketing)      4102\n",
       "27              (Mantenimiento y Limpieza, Producción)      3919\n",
       "28           (Almacén / Depósito / Expedición, Ventas)      3776\n",
       "29                   (Atención al Cliente, Producción)      3285\n",
       "..                                                 ...       ...\n",
       "170                         (Camareros, Recepcionista)       749\n",
       "171                   (Atención al Cliente, Logística)       748\n",
       "172    (Almacén / Depósito / Expedición, Distribución)       744\n",
       "173                             (Distribución, Ventas)       742\n",
       "174                       (Abastecimiento, Producción)       742\n",
       "175                                 (Comercial, Salud)       732\n",
       "176  (Abastecimiento, Almacén / Depósito / Expedición)       732\n",
       "177                                  (Caja, Comercial)       730\n",
       "178                            (Producción, Servicios)       730\n",
       "179                                  (Compras, Ventas)       724\n",
       "180                (Atención al Cliente, Contabilidad)       712\n",
       "181                        (Secretaria, Telemarketing)       711\n",
       "182                              (Marketing, Producto)       702\n",
       "183                       (Gastronomia, Telemarketing)       702\n",
       "184         (Administración, Mantenimiento y Limpieza)       694\n",
       "185                           (Call Center, Camareros)       689\n",
       "186                       (Arquitectura, Construcción)       689\n",
       "187              (Camareros, Mantenimiento y Limpieza)       686\n",
       "188                             (Asistente, Comercial)       686\n",
       "189              (Créditos y Cobranzas, Recepcionista)       685\n",
       "190                             (Cadetería, Comercial)       682\n",
       "191                            (Secretaria, Tesorería)       681\n",
       "192          (Mantenimiento y Limpieza, Telemarketing)       679\n",
       "193               (Ingeniería  Industrial, Producción)       679\n",
       "194                  (Mantenimiento y Limpieza, Otros)       677\n",
       "195                            (Administración, Otros)       675\n",
       "196                             (Comercial, Seguridad)       675\n",
       "197               (Call Center, Oficios y Profesiones)       673\n",
       "198                   (Planeamiento comercial, Ventas)       661\n",
       "199                             (Camareros, Hotelería)       660\n",
       "\n",
       "[200 rows x 2 columns]"
      ]
     },
     "execution_count": 37,
     "metadata": {},
     "output_type": "execute_result"
    }
   ],
   "source": [
    "df_tuplas.head(200)"
   ]
  },
  {
   "cell_type": "code",
   "execution_count": 38,
   "metadata": {},
   "outputs": [
    {
     "name": "stdout",
     "output_type": "stream",
     "text": [
      "<class 'pandas.core.frame.DataFrame'>\n",
      "RangeIndex: 8845 entries, 0 to 8844\n",
      "Data columns (total 2 columns):\n",
      "dupla_areas    8845 non-null object\n",
      "cantidad       8845 non-null int64\n",
      "dtypes: int64(1), object(1)\n",
      "memory usage: 138.3+ KB\n"
     ]
    }
   ],
   "source": [
    "df_tuplas.info()"
   ]
  },
  {
   "cell_type": "code",
   "execution_count": 39,
   "metadata": {},
   "outputs": [
    {
     "data": {
      "text/plain": [
       "19"
      ]
     },
     "execution_count": 39,
     "metadata": {},
     "output_type": "execute_result"
    }
   ],
   "source": [
    "#vemos cuales son las areas mas populares.\n",
    "\n",
    "top_areas = ['Administración','Ventas','Producción','Call Center','Recepcionista',\\\n",
    "             'Contabilidad','Programación','Recursos Humanos','Gastronomia','Mantenimiento',\\\n",
    "             'Logística','Seguridad','Transporte','Legal','Marketing','Atención al Cliente',\\\n",
    "             'Tecnologia / Sistemas','Medicina','Salud']\n",
    "\n",
    "len(top_areas)\n",
    "#vamos a tener 19 main areas."
   ]
  },
  {
   "cell_type": "code",
   "execution_count": 40,
   "metadata": {},
   "outputs": [],
   "source": [
    "df_top_areas = modelo.groupby(['nombre_area']).size().to_frame('cantidad')\n",
    "df_top_areas = pd.DataFrame(df_top_areas, columns=['cantidad'])\n",
    "df_top_areas = df_top_areas.sort_values('cantidad', ascending=False)"
   ]
  },
  {
   "cell_type": "code",
   "execution_count": 44,
   "metadata": {},
   "outputs": [
    {
     "data": {
      "text/plain": [
       "['Administración',\n",
       " 'Ventas',\n",
       " 'Producción',\n",
       " 'Call Center',\n",
       " 'Recepcionista',\n",
       " 'Contabilidad',\n",
       " 'Programación',\n",
       " 'Recursos Humanos',\n",
       " 'Gastronomia',\n",
       " 'Mantenimiento',\n",
       " 'Logística',\n",
       " 'Seguridad',\n",
       " 'Transporte',\n",
       " 'Legal',\n",
       " 'Marketing',\n",
       " 'Atención al Cliente',\n",
       " 'Tecnologia / Sistemas',\n",
       " 'Medicina',\n",
       " 'Salud']"
      ]
     },
     "execution_count": 44,
     "metadata": {},
     "output_type": "execute_result"
    }
   ],
   "source": [
    "top_areas"
   ]
  },
  {
   "cell_type": "code",
   "execution_count": 70,
   "metadata": {},
   "outputs": [],
   "source": [
    "#probar\n",
    "\n",
    "#DONDE DICE TOP SIGNIFICA QUE ES UN AREA QUE ESTA EN TOP_AREAS\n",
    "\n",
    "#voy a agregar las areas a las que le asigno una area mayor.\n",
    "dic_asignados = {}\n",
    "\n",
    "for index, row in df_tuplas.iterrows():\n",
    "    \n",
    "    dupla_areas = row['dupla_areas']\n",
    "\n",
    "    area1 = dupla_areas[0]\n",
    "    area2 = dupla_areas[1]\n",
    "    \n",
    "    #caso1 ambas areas estan en top_areas\n",
    "    #if (area1 in top_areas) and (area2 in top_areas):\n",
    "        #no hago nada ya que estan ambas areas \"asignadas\n",
    "    \n",
    "    #caso2 un area esta en top_areas y el otro area no.\n",
    "    if (area1 in top_areas) and (area2 not in top_areas):\n",
    "        #asigno al area2 el top\n",
    "        dic_asignados[area2] = area1\n",
    "        \n",
    "    if (area1 not in top_areas) and (area2 in top_areas):\n",
    "        #asigno al area1 el top\n",
    "        dic_asignados[area1] = area2\n",
    "        \n",
    "    #caso3 ningun area esta en top_areas\n",
    "    if (area1 not in top_areas) and (area2 not in top_areas):\n",
    "        #caso3.A  area1 y area2 no fueron asignadas previamente\n",
    "        if (area1 not in dic_asignados) and (area2 not in dic_asignados):\n",
    "            #asigno ambos a una categoria \"Otros\"\n",
    "            dic_asignados[area1] = \"Otros\"\n",
    "            dic_asignados[area2] = \"Otros\"\n",
    "    \n",
    "        #caso3.B un area fue asignada previamente y la otra no\n",
    "        if (area1 in dic_asignados) and (area2 not in dic_asignados):\n",
    "            #me fijo a cual fue asignado el area1 y asigno el area2\n",
    "            top = dic_asignados[area1]\n",
    "            dic_asignados[area2] = top\n",
    "        \n",
    "        if (area1 not in dic_asignados) and (area2 in dic_asignados):\n",
    "            #me fijo a cual fue asignado el area2 y asigno el area2\n",
    "            top = dic_asignados[area2]\n",
    "            dic_asignados[area1] = top\n"
   ]
  },
  {
   "cell_type": "code",
   "execution_count": 74,
   "metadata": {},
   "outputs": [
    {
     "data": {
      "text/plain": [
       "{'Administración': 1,\n",
       " 'Atención al Cliente': 16,\n",
       " 'Call Center': 4,\n",
       " 'Contabilidad': 6,\n",
       " 'Gastronomia': 9,\n",
       " 'Legal': 14,\n",
       " 'Logística': 11,\n",
       " 'Mantenimiento': 10,\n",
       " 'Marketing': 15,\n",
       " 'Medicina': 18,\n",
       " 'Producción': 3,\n",
       " 'Programación': 7,\n",
       " 'Recepcionista': 5,\n",
       " 'Recursos Humanos': 8,\n",
       " 'Salud': 19,\n",
       " 'Seguridad': 12,\n",
       " 'Tecnologia / Sistemas': 17,\n",
       " 'Transporte': 13,\n",
       " 'Ventas': 2}"
      ]
     },
     "execution_count": 74,
     "metadata": {},
     "output_type": "execute_result"
    }
   ],
   "source": [
    "#me genero un diccionario de top_areas con una variable numerica asignada\n",
    "i=1\n",
    "dic_top_areas = {}\n",
    "\n",
    "for area in top_areas:\n",
    "    dic_top_areas[area] = i\n",
    "    i+=1\n",
    "dic_top_areas"
   ]
  },
  {
   "cell_type": "code",
   "execution_count": 83,
   "metadata": {},
   "outputs": [
    {
     "ename": "KeyError",
     "evalue": "18",
     "output_type": "error",
     "traceback": [
      "\u001b[0;31m---------------------------------------------------------------------------\u001b[0m",
      "\u001b[0;31mKeyError\u001b[0m                                  Traceback (most recent call last)",
      "\u001b[0;32m<ipython-input-83-2163d1ae3436>\u001b[0m in \u001b[0;36m<module>\u001b[0;34m()\u001b[0m\n\u001b[1;32m      8\u001b[0m \u001b[0;34m\u001b[0m\u001b[0m\n\u001b[1;32m      9\u001b[0m     \u001b[0;32melif\u001b[0m \u001b[0;34m(\u001b[0m\u001b[0marea\u001b[0m \u001b[0;34m!=\u001b[0m \u001b[0;34m'Otros'\u001b[0m\u001b[0;34m)\u001b[0m\u001b[0;34m:\u001b[0m\u001b[0;34m\u001b[0m\u001b[0m\n\u001b[0;32m---> 10\u001b[0;31m         \u001b[0marea_top\u001b[0m \u001b[0;34m=\u001b[0m \u001b[0mdic_asignados\u001b[0m\u001b[0;34m[\u001b[0m\u001b[0marea\u001b[0m\u001b[0;34m]\u001b[0m\u001b[0;34m\u001b[0m\u001b[0m\n\u001b[0m\u001b[1;32m     11\u001b[0m         \u001b[0mmodelo\u001b[0m\u001b[0;34m.\u001b[0m\u001b[0mloc\u001b[0m\u001b[0;34m[\u001b[0m\u001b[0;32mTrue\u001b[0m\u001b[0;34m,\u001b[0m \u001b[0;34m'nombre_area'\u001b[0m\u001b[0;34m]\u001b[0m \u001b[0;34m=\u001b[0m \u001b[0mdic_top_areas\u001b[0m\u001b[0;34m[\u001b[0m\u001b[0marea_top\u001b[0m\u001b[0;34m]\u001b[0m\u001b[0;34m\u001b[0m\u001b[0m\n\u001b[1;32m     12\u001b[0m \u001b[0;34m\u001b[0m\u001b[0m\n",
      "\u001b[0;31mKeyError\u001b[0m: 18"
     ]
    }
   ],
   "source": [
    "t0 = time()\n",
    "\n",
    "for index, row in modelo.iterrows():\n",
    "    area = row['nombre_area']\n",
    "    \n",
    "    if area in top_areas:\n",
    "        modelo.loc[True, 'nombre_area'] = dic_top_areas[area]\n",
    "    \n",
    "    elif (area != 'Otros'):\n",
    "        area_top = dic_asignados[area]\n",
    "        modelo.loc[True, 'nombre_area'] = dic_top_areas[area_top]\n",
    "\n",
    "modelo.loc[(modelo['nombre_area'] == 'Otros'), 'nombre_area'] = 0\n",
    "    \n",
    "t0 - time()"
   ]
  },
  {
   "cell_type": "code",
   "execution_count": null,
   "metadata": {},
   "outputs": [],
   "source": []
  },
  {
   "cell_type": "code",
   "execution_count": 71,
   "metadata": {},
   "outputs": [
    {
     "data": {
      "text/plain": [
       "162"
      ]
     },
     "execution_count": 71,
     "metadata": {},
     "output_type": "execute_result"
    }
   ],
   "source": [
    "#deberia dar 188-19 = 169 (#total areas - #top areas)\n",
    "len(dic_asignados)"
   ]
  },
  {
   "cell_type": "code",
   "execution_count": 72,
   "metadata": {},
   "outputs": [
    {
     "name": "stdout",
     "output_type": "stream",
     "text": [
      "False\n",
      "False\n",
      "False\n",
      "False\n",
      "False\n",
      "False\n",
      "False\n",
      "False\n",
      "False\n",
      "False\n",
      "False\n",
      "False\n",
      "False\n",
      "False\n",
      "False\n",
      "False\n",
      "False\n",
      "False\n",
      "False\n"
     ]
    }
   ],
   "source": [
    "#deberia dar todo false\n",
    "for area_top in top_areas:\n",
    "    print(area_top in dic_asignados)\n"
   ]
  },
  {
   "cell_type": "code",
   "execution_count": null,
   "metadata": {},
   "outputs": [],
   "source": [
    "#reviso si quedaron areas sin asignar numero, asi arreglo la funcion de arriba(muchos ifs)"
   ]
  },
  {
   "cell_type": "code",
   "execution_count": null,
   "metadata": {
    "scrolled": true
   },
   "outputs": [],
   "source": [
    "modelo['nombre_area'].value_counts()"
   ]
  },
  {
   "cell_type": "code",
   "execution_count": null,
   "metadata": {},
   "outputs": [],
   "source": [
    "modelo.info()"
   ]
  },
  {
   "cell_type": "markdown",
   "metadata": {},
   "source": [
    "# HASTA ACA PROBAR"
   ]
  },
  {
   "cell_type": "markdown",
   "metadata": {},
   "source": [
    "### Exportamos el modelo final con los nuevos features"
   ]
  },
  {
   "cell_type": "code",
   "execution_count": null,
   "metadata": {},
   "outputs": [],
   "source": [
    "modelo.sample(5)"
   ]
  },
  {
   "cell_type": "code",
   "execution_count": null,
   "metadata": {},
   "outputs": [],
   "source": [
    "modelo.info()"
   ]
  },
  {
   "cell_type": "markdown",
   "metadata": {},
   "source": [
    " "
   ]
  },
  {
   "cell_type": "code",
   "execution_count": null,
   "metadata": {},
   "outputs": [],
   "source": [
    "modelo.to_csv('csv_files/modelo_final_featured.csv', encoding='utf-8', index=False)"
   ]
  },
  {
   "cell_type": "markdown",
   "metadata": {},
   "source": [
    "### Exportamos los dataframes con los pesos obtenidos para los nuevos features"
   ]
  },
  {
   "cell_type": "code",
   "execution_count": null,
   "metadata": {},
   "outputs": [],
   "source": [
    "estudios_vs_laboral_t.to_csv('csv_files/estudios_vs_laboral_t.csv', encoding='utf-8', index=True, header=True)\n",
    "\n",
    "estudiando_vs_tipo_trabajo_t.to_csv('csv_files/estudiando_vs_tipo_trabajo_t.csv', encoding='utf-8', index=True, header=True)\n",
    "\n",
    "edad_vs_tipo_trabajo_t.to_csv('csv_files/edad_vs_tipo_trabajo_t.csv', encoding='utf-8', index=True, header=True)\n",
    "\n",
    "edad_vs_zona_t.to_csv('csv_files/edad_vs_zona_t.csv', encoding='utf-8', index=True, header=True)"
   ]
  }
 ],
 "metadata": {
  "kernelspec": {
   "display_name": "Python 3",
   "language": "python",
   "name": "python3"
  },
  "language_info": {
   "codemirror_mode": {
    "name": "ipython",
    "version": 3
   },
   "file_extension": ".py",
   "mimetype": "text/x-python",
   "name": "python",
   "nbconvert_exporter": "python",
   "pygments_lexer": "ipython3",
   "version": "3.5.2"
  }
 },
 "nbformat": 4,
 "nbformat_minor": 2
}
