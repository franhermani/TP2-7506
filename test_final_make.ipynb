{
 "cells": [
  {
   "cell_type": "code",
   "execution_count": 1,
   "metadata": {},
   "outputs": [],
   "source": [
    "import pandas as pd\n",
    "import numpy as np"
   ]
  },
  {
   "cell_type": "code",
   "execution_count": 2,
   "metadata": {},
   "outputs": [],
   "source": [
    "test = pd.read_csv('test_final_100k.csv')"
   ]
  },
  {
   "cell_type": "markdown",
   "metadata": {},
   "source": [
    "A continuación vamos a realizar las mismas operaciones con los dataframes de postulantes y avisos que realizamos en el notebook principal, a fin de tener un dataframe test con los features correspondientes para que los algoritmos de Machine Learning puedan predecir los resultados.\n",
    "\n",
    "No realizamos comentarios respecto a las operaciones ya que estos se encuentran en el notebook principal."
   ]
  },
  {
   "cell_type": "markdown",
   "metadata": {},
   "source": [
    "## Información de los postulantes"
   ]
  },
  {
   "cell_type": "markdown",
   "metadata": {},
   "source": [
    "### DF 1: Educación de los postulantes"
   ]
  },
  {
   "cell_type": "code",
   "execution_count": 3,
   "metadata": {},
   "outputs": [
    {
     "name": "stdout",
     "output_type": "stream",
     "text": [
      "<class 'pandas.core.frame.DataFrame'>\n",
      "Int64Index: 444275 entries, 344204 to 97377\n",
      "Data columns (total 2 columns):\n",
      "idpostulante     444275 non-null object\n",
      "orden_estudio    444275 non-null float64\n",
      "dtypes: float64(1), object(1)\n",
      "memory usage: 10.2+ MB\n"
     ]
    }
   ],
   "source": [
    "postulantes_educ = pd.read_csv('datos_navent_fiuba/h15_fiuba_1_postulantes_educacion.csv')\n",
    "postulantes_educ_2 = pd.read_csv('datos_navent_fiuba/d15_fiuba_1_postulantes_educacion.csv')\n",
    "\n",
    "postulantes_educ = pd.merge(postulantes_educ, postulantes_educ_2, on=['idpostulante', 'nombre', 'estado']\\\n",
    "                       , how='outer')\n",
    "\n",
    "postulantes_educ_2 = pd.read_csv('datos_navent_fiuba/fiuba_1_postulantes_educacion.csv')\n",
    "\n",
    "postulantes_educ = pd.merge(postulantes_educ, postulantes_educ_2, on=['idpostulante', 'nombre', 'estado']\\\n",
    "                       , how='outer')\n",
    "\n",
    "postulantes_educ.rename(columns={'nombre':'titulo_univ'}, inplace=True)\n",
    "\n",
    "postulantes_educ.loc[(postulantes_educ[\"titulo_univ\"] == \"Otro\")] = 1\n",
    " \n",
    "postulantes_educ.loc[(postulantes_educ['titulo_univ'] == 'Secundario')&\\\n",
    "                     (postulantes_educ['estado'] == 'Abandonado'),'orden_estudio'] = 2\n",
    "\n",
    "postulantes_educ.loc[(postulantes_educ['titulo_univ'] == 'Secundario')&\\\n",
    "                     (postulantes_educ['estado'] == 'En Curso'),'orden_estudio'] = 3\n",
    "\n",
    "postulantes_educ.loc[(postulantes_educ['titulo_univ'] == 'Secundario')&\\\n",
    "                     (postulantes_educ['estado'] == 'Graduado'),'orden_estudio'] = 4\n",
    "\n",
    "postulantes_educ.loc[(postulantes_educ['titulo_univ'] == 'Terciario/Técnico')&\\\n",
    "                     (postulantes_educ['estado'] == 'Abandonado'),'orden_estudio'] = 4\n",
    "\n",
    "postulantes_educ.loc[(postulantes_educ['titulo_univ'] == 'Terciario/Técnico')&\\\n",
    "                     (postulantes_educ['estado'] == 'En Curso'),'orden_estudio'] = 6\n",
    "\n",
    "postulantes_educ.loc[(postulantes_educ['titulo_univ'] == 'Terciario/Técnico')&\\\n",
    "                     (postulantes_educ['estado'] == 'Graduado'),'orden_estudio'] = 7\n",
    "\n",
    "postulantes_educ.loc[(postulantes_educ['titulo_univ'] == 'Universitario')&\\\n",
    "                     (postulantes_educ['estado'] == 'Abandonado'),'orden_estudio'] = 8\n",
    "\n",
    "postulantes_educ.loc[(postulantes_educ['titulo_univ'] == 'Universitario')&\\\n",
    "                     (postulantes_educ['estado'] == 'En Curso'),'orden_estudio'] = 9\n",
    "\n",
    "postulantes_educ.loc[(postulantes_educ['titulo_univ'] == 'Universitario')&\\\n",
    "                     (postulantes_educ['estado'] == 'Graduado'),'orden_estudio'] = 10\n",
    "\n",
    "postulantes_educ.loc[(postulantes_educ['titulo_univ'] == 'Posgrado')&\\\n",
    "                     (postulantes_educ['estado'] == 'Abandonado'),'orden_estudio'] = 11\n",
    "\n",
    "postulantes_educ.loc[(postulantes_educ['titulo_univ'] == 'Posgrado')&\\\n",
    "                     (postulantes_educ['estado'] == 'En Curso'),'orden_estudio'] = 12\n",
    "\n",
    "postulantes_educ.loc[(postulantes_educ['titulo_univ'] == 'Posgrado')&\\\n",
    "                     (postulantes_educ['estado'] == 'Graduado'),'orden_estudio'] = 13\n",
    "\n",
    "postulantes_educ.loc[(postulantes_educ['titulo_univ'] == 'Master')&\\\n",
    "                     (postulantes_educ['estado'] == 'Abandonado'),'orden_estudio'] = 14\n",
    "\n",
    "postulantes_educ.loc[(postulantes_educ['titulo_univ'] == 'Master')&\\\n",
    "                     (postulantes_educ['estado'] == 'En Curso'),'orden_estudio'] = 15\n",
    "\n",
    "postulantes_educ.loc[(postulantes_educ['titulo_univ'] == 'Master')&\\\n",
    "                     (postulantes_educ['estado'] == 'Graduado'),'orden_estudio'] = 16\n",
    "\n",
    "postulantes_educ.loc[(postulantes_educ['titulo_univ'] == 'Doctorado')&\\\n",
    "                     (postulantes_educ['estado'] == 'Abandonado'),'orden_estudio'] = 17\n",
    "\n",
    "postulantes_educ.loc[(postulantes_educ['titulo_univ'] == 'Doctorado')&\\\n",
    "                     (postulantes_educ['estado'] == 'En Curso'),'orden_estudio'] = 18\n",
    "\n",
    "postulantes_educ.loc[(postulantes_educ['titulo_univ'] == 'Doctorado')&\\\n",
    "                     (postulantes_educ['estado'] == 'Graduado'),'orden_estudio'] = 19\n",
    "\n",
    "postulantes_educ = postulantes_educ.dropna()\n",
    "\n",
    "postulantes_educ = postulantes_educ.sort_values('orden_estudio', ascending=False)\n",
    "\n",
    "postulantes_educ = postulantes_educ.drop_duplicates('idpostulante')\n",
    "\n",
    "postulantes_educ.drop(columns={'titulo_univ', 'estado'}, axis=1, inplace=True)\n",
    "\n",
    "postulantes_educ.info()"
   ]
  },
  {
   "cell_type": "markdown",
   "metadata": {},
   "source": [
    "### DF 2: Género y Edad de los postulantes"
   ]
  },
  {
   "cell_type": "code",
   "execution_count": 4,
   "metadata": {},
   "outputs": [
    {
     "name": "stdout",
     "output_type": "stream",
     "text": [
      "<class 'pandas.core.frame.DataFrame'>\n",
      "Int64Index: 478235 entries, 165770 to 147639\n",
      "Data columns (total 3 columns):\n",
      "idpostulante    478235 non-null object\n",
      "edad            478235 non-null int64\n",
      "sexo            478235 non-null object\n",
      "dtypes: int64(1), object(2)\n",
      "memory usage: 14.6+ MB\n"
     ]
    }
   ],
   "source": [
    "postulantes = pd.read_csv('datos_navent_fiuba/h15_fiuba_2_postulantes_genero_y_edad.csv')\n",
    "postulantes_gen_nac_2 = pd.read_csv('datos_navent_fiuba/d15_fiuba_2_postulantes_genero_y_edad.csv')\n",
    "\n",
    "postulantes = pd.merge(postulantes, postulantes_gen_nac_2, on=['idpostulante', 'fechanacimiento', 'sexo']\\\n",
    "                       , how='outer')\n",
    "\n",
    "postulantes_gen_nac_2 = pd.read_csv('datos_navent_fiuba/fiuba_2_postulantes_genero_y_edad.csv')\n",
    "\n",
    "postulantes = pd.merge(postulantes, postulantes_gen_nac_2, on=['idpostulante', 'fechanacimiento', 'sexo']\\\n",
    "                       , how='outer')\n",
    "\n",
    "postulantes = postulantes[postulantes['sexo'] != '0.0']\n",
    "\n",
    "postulantes = postulantes.sort_values('sexo', ascending=True)\n",
    "\n",
    "postulantes = postulantes.drop_duplicates('idpostulante')\n",
    "\n",
    "postulantes = postulantes.rename(columns={'fechanacimiento': 'edad'})\n",
    "\n",
    "fecha_nac = postulantes['edad'].str.split('-')\n",
    "año_nac = fecha_nac.str[0]\n",
    "postulantes['edad'] = año_nac\n",
    "postulantes['edad'] = pd.to_numeric(postulantes['edad'], errors='coerce').fillna(0).astype(np.int64)\n",
    "\n",
    "edad_min = postulantes['edad'] > 2000\n",
    "edad_max = postulantes['edad'] < 1940\n",
    "condicion_final = ((edad_min | edad_max))\n",
    "postulantes = postulantes[np.logical_not(condicion_final)]\n",
    "\n",
    "postulantes['edad'] = postulantes['edad'].apply(lambda x: 2018-x)\n",
    "\n",
    "postulantes.info()"
   ]
  },
  {
   "cell_type": "markdown",
   "metadata": {},
   "source": [
    "### Merge de los DF 1 y 2"
   ]
  },
  {
   "cell_type": "code",
   "execution_count": 5,
   "metadata": {},
   "outputs": [
    {
     "name": "stdout",
     "output_type": "stream",
     "text": [
      "<class 'pandas.core.frame.DataFrame'>\n",
      "Int64Index: 487381 entries, 0 to 487380\n",
      "Data columns (total 4 columns):\n",
      "idpostulante     487381 non-null object\n",
      "orden_estudio    444275 non-null float64\n",
      "edad             478235 non-null float64\n",
      "sexo             478235 non-null object\n",
      "dtypes: float64(2), object(2)\n",
      "memory usage: 18.6+ MB\n"
     ]
    }
   ],
   "source": [
    "postulantes = pd.merge(postulantes_educ, postulantes, on='idpostulante'\\\n",
    "                       , how='outer')\n",
    "\n",
    "postulantes.info()"
   ]
  },
  {
   "cell_type": "code",
   "execution_count": 6,
   "metadata": {},
   "outputs": [
    {
     "data": {
      "text/html": [
       "<div>\n",
       "<style scoped>\n",
       "    .dataframe tbody tr th:only-of-type {\n",
       "        vertical-align: middle;\n",
       "    }\n",
       "\n",
       "    .dataframe tbody tr th {\n",
       "        vertical-align: top;\n",
       "    }\n",
       "\n",
       "    .dataframe thead th {\n",
       "        text-align: right;\n",
       "    }\n",
       "</style>\n",
       "<table border=\"1\" class=\"dataframe\">\n",
       "  <thead>\n",
       "    <tr style=\"text-align: right;\">\n",
       "      <th></th>\n",
       "      <th>idpostulante</th>\n",
       "      <th>orden_estudio</th>\n",
       "      <th>edad</th>\n",
       "      <th>sexo</th>\n",
       "    </tr>\n",
       "  </thead>\n",
       "  <tbody>\n",
       "    <tr>\n",
       "      <th>0</th>\n",
       "      <td>16weJ3</td>\n",
       "      <td>19.0</td>\n",
       "      <td>57.0</td>\n",
       "      <td>2</td>\n",
       "    </tr>\n",
       "    <tr>\n",
       "      <th>1</th>\n",
       "      <td>Nzr4aX4</td>\n",
       "      <td>19.0</td>\n",
       "      <td>18.0</td>\n",
       "      <td>2</td>\n",
       "    </tr>\n",
       "    <tr>\n",
       "      <th>2</th>\n",
       "      <td>rmdarVb</td>\n",
       "      <td>19.0</td>\n",
       "      <td>36.0</td>\n",
       "      <td>2</td>\n",
       "    </tr>\n",
       "    <tr>\n",
       "      <th>3</th>\n",
       "      <td>PmVe3RZ</td>\n",
       "      <td>19.0</td>\n",
       "      <td>56.0</td>\n",
       "      <td>2</td>\n",
       "    </tr>\n",
       "    <tr>\n",
       "      <th>4</th>\n",
       "      <td>PmGvDM0</td>\n",
       "      <td>19.0</td>\n",
       "      <td>27.0</td>\n",
       "      <td>2</td>\n",
       "    </tr>\n",
       "  </tbody>\n",
       "</table>\n",
       "</div>"
      ],
      "text/plain": [
       "  idpostulante  orden_estudio  edad  sexo\n",
       "0       16weJ3           19.0  57.0     2\n",
       "1      Nzr4aX4           19.0  18.0     2\n",
       "2      rmdarVb           19.0  36.0     2\n",
       "3      PmVe3RZ           19.0  56.0     2\n",
       "4      PmGvDM0           19.0  27.0     2"
      ]
     },
     "execution_count": 6,
     "metadata": {},
     "output_type": "execute_result"
    }
   ],
   "source": [
    "postulantes.loc[(postulantes['sexo'] == 'FEM'),'sexo'] = 1\n",
    "\n",
    "postulantes.loc[(postulantes['sexo'] == 'MASC'),'sexo'] = 2\n",
    "\n",
    "postulantes.loc[(postulantes['orden_estudio'].isnull()), 'orden_estudio'] = 0\n",
    "postulantes.loc[(postulantes['edad'].isnull()), 'edad'] = 0\n",
    "postulantes.loc[(postulantes['sexo']=='NO_DECLARA'), 'sexo'] = 0\n",
    "postulantes.loc[(postulantes['sexo'].isnull()), 'sexo'] = 0\n",
    "\n",
    "postulantes.head()"
   ]
  },
  {
   "cell_type": "code",
   "execution_count": 7,
   "metadata": {},
   "outputs": [
    {
     "name": "stdout",
     "output_type": "stream",
     "text": [
      "<class 'pandas.core.frame.DataFrame'>\n",
      "Int64Index: 487381 entries, 0 to 487380\n",
      "Data columns (total 4 columns):\n",
      "idpostulante     487381 non-null object\n",
      "orden_estudio    487381 non-null float64\n",
      "edad             487381 non-null float64\n",
      "sexo             487381 non-null int64\n",
      "dtypes: float64(2), int64(1), object(1)\n",
      "memory usage: 18.6+ MB\n"
     ]
    }
   ],
   "source": [
    "postulantes.info()"
   ]
  },
  {
   "cell_type": "markdown",
   "metadata": {},
   "source": [
    "## Detalles de los avisos"
   ]
  },
  {
   "cell_type": "code",
   "execution_count": 8,
   "metadata": {},
   "outputs": [
    {
     "data": {
      "text/html": [
       "<div>\n",
       "<style scoped>\n",
       "    .dataframe tbody tr th:only-of-type {\n",
       "        vertical-align: middle;\n",
       "    }\n",
       "\n",
       "    .dataframe tbody tr th {\n",
       "        vertical-align: top;\n",
       "    }\n",
       "\n",
       "    .dataframe thead th {\n",
       "        text-align: right;\n",
       "    }\n",
       "</style>\n",
       "<table border=\"1\" class=\"dataframe\">\n",
       "  <thead>\n",
       "    <tr style=\"text-align: right;\">\n",
       "      <th></th>\n",
       "      <th>idaviso</th>\n",
       "      <th>titulo</th>\n",
       "      <th>descripcion</th>\n",
       "      <th>nombre_zona</th>\n",
       "      <th>tipo_de_trabajo</th>\n",
       "      <th>nivel_laboral</th>\n",
       "      <th>nombre_area</th>\n",
       "      <th>nombre_empresa</th>\n",
       "    </tr>\n",
       "  </thead>\n",
       "  <tbody>\n",
       "    <tr>\n",
       "      <th>0</th>\n",
       "      <td>1111556097</td>\n",
       "      <td>Responsable de Marketing-Producto Div. Constru...</td>\n",
       "      <td>&lt;p&gt;Buscamos un &lt;strong&gt;Responsable de Producto...</td>\n",
       "      <td>Gran Buenos Aires</td>\n",
       "      <td>10</td>\n",
       "      <td>3</td>\n",
       "      <td>Desarrollo de Negocios</td>\n",
       "      <td>Sinteplast S.A.</td>\n",
       "    </tr>\n",
       "    <tr>\n",
       "      <th>1</th>\n",
       "      <td>1111949392</td>\n",
       "      <td>Asesor de Servicios - Postventa Chevrolet</td>\n",
       "      <td>&lt;p&gt;&lt;span style=\"\"&gt;Para nuestro cliente, conces...</td>\n",
       "      <td>Gran Buenos Aires</td>\n",
       "      <td>10</td>\n",
       "      <td>3</td>\n",
       "      <td>Ingeniería  Eléctrica y Electrónica</td>\n",
       "      <td>Roycan</td>\n",
       "    </tr>\n",
       "    <tr>\n",
       "      <th>2</th>\n",
       "      <td>1112145935</td>\n",
       "      <td>Analistas de Impuestos Sr Ssr y Jr</td>\n",
       "      <td>&lt;p&gt;Importante Estudio de Auditoria y Consultor...</td>\n",
       "      <td>Gran Buenos Aires</td>\n",
       "      <td>10</td>\n",
       "      <td>3</td>\n",
       "      <td>Impuestos</td>\n",
       "      <td>Lighthouse Smart</td>\n",
       "    </tr>\n",
       "    <tr>\n",
       "      <th>3</th>\n",
       "      <td>1112146010</td>\n",
       "      <td>Software Engineer</td>\n",
       "      <td>&lt;p&gt; &lt;/p&gt;&lt;p&gt;Chevron is a multinational company ...</td>\n",
       "      <td>Gran Buenos Aires</td>\n",
       "      <td>10</td>\n",
       "      <td>3</td>\n",
       "      <td>Programación</td>\n",
       "      <td>Chevron Buenos Aires Shared Services Center</td>\n",
       "    </tr>\n",
       "    <tr>\n",
       "      <th>4</th>\n",
       "      <td>1112211475</td>\n",
       "      <td>Business Developer Manager</td>\n",
       "      <td>&lt;p&gt;Importante empresa de energías renovables, ...</td>\n",
       "      <td>Gran Buenos Aires</td>\n",
       "      <td>10</td>\n",
       "      <td>3</td>\n",
       "      <td>Comercial</td>\n",
       "      <td>RANDSTAD</td>\n",
       "    </tr>\n",
       "  </tbody>\n",
       "</table>\n",
       "</div>"
      ],
      "text/plain": [
       "      idaviso                                             titulo  \\\n",
       "0  1111556097  Responsable de Marketing-Producto Div. Constru...   \n",
       "1  1111949392          Asesor de Servicios - Postventa Chevrolet   \n",
       "2  1112145935                 Analistas de Impuestos Sr Ssr y Jr   \n",
       "3  1112146010                                  Software Engineer   \n",
       "4  1112211475                         Business Developer Manager   \n",
       "\n",
       "                                         descripcion        nombre_zona  \\\n",
       "0  <p>Buscamos un <strong>Responsable de Producto...  Gran Buenos Aires   \n",
       "1  <p><span style=\"\">Para nuestro cliente, conces...  Gran Buenos Aires   \n",
       "2  <p>Importante Estudio de Auditoria y Consultor...  Gran Buenos Aires   \n",
       "3  <p> </p><p>Chevron is a multinational company ...  Gran Buenos Aires   \n",
       "4  <p>Importante empresa de energías renovables, ...  Gran Buenos Aires   \n",
       "\n",
       "   tipo_de_trabajo  nivel_laboral                          nombre_area  \\\n",
       "0               10              3               Desarrollo de Negocios   \n",
       "1               10              3  Ingeniería  Eléctrica y Electrónica   \n",
       "2               10              3                            Impuestos   \n",
       "3               10              3                         Programación   \n",
       "4               10              3                            Comercial   \n",
       "\n",
       "                                nombre_empresa  \n",
       "0                              Sinteplast S.A.  \n",
       "1                                       Roycan  \n",
       "2                             Lighthouse Smart  \n",
       "3  Chevron Buenos Aires Shared Services Center  \n",
       "4                                     RANDSTAD  "
      ]
     },
     "execution_count": 8,
     "metadata": {},
     "output_type": "execute_result"
    }
   ],
   "source": [
    "avisos_detalles = pd.read_csv('datos_navent_fiuba/h15_fiuba_6_avisos_detalle.csv')\n",
    "avisos_detalles_2 = pd.read_csv('datos_navent_fiuba/d15_fiuba_6_avisos_detalle.csv')\n",
    "\n",
    "avisos_detalles = pd.concat([avisos_detalles, avisos_detalles_2])\n",
    "\n",
    "avisos_detalles_2 = pd.read_csv('datos_navent_fiuba/fiuba_6_avisos_detalle.csv')\n",
    "\n",
    "avisos_detalles = pd.concat([avisos_detalles, avisos_detalles_2])\n",
    "\n",
    "avisos_detalles = avisos_detalles.drop_duplicates(['idaviso'])\n",
    "\n",
    "avisos_detalles.rename(columns={'denominacion_empresa':'nombre_empresa'}, inplace=True)\n",
    "\n",
    "avisos_detalles.drop(columns={'idpais', 'ciudad', 'mapacalle'}, axis=1, inplace=True)\n",
    "\n",
    "avisos_detalles.loc[(avisos_detalles['tipo_de_trabajo'] == 'Full-time'),'tipo_de_trabajo'] = 10\n",
    "avisos_detalles.loc[(avisos_detalles['tipo_de_trabajo'] == 'Part-time'),'tipo_de_trabajo'] = 9\n",
    "avisos_detalles.loc[(avisos_detalles['tipo_de_trabajo'] == 'Teletrabajo'),'tipo_de_trabajo'] = 8\n",
    "avisos_detalles.loc[(avisos_detalles['tipo_de_trabajo'] == 'Por Horas'),'tipo_de_trabajo'] = 7\n",
    "avisos_detalles.loc[(avisos_detalles['tipo_de_trabajo'] == 'Pasantia'),'tipo_de_trabajo'] = 6\n",
    "avisos_detalles.loc[(avisos_detalles['tipo_de_trabajo'] == 'Temporario'),'tipo_de_trabajo'] = 5\n",
    "avisos_detalles.loc[(avisos_detalles['tipo_de_trabajo'] == 'Por Contrato'),'tipo_de_trabajo'] = 4\n",
    "avisos_detalles.loc[(avisos_detalles['tipo_de_trabajo'] == 'Fines de Semana'),'tipo_de_trabajo'] = 3\n",
    "avisos_detalles.loc[(avisos_detalles['tipo_de_trabajo'] == 'Primer empleo'),'tipo_de_trabajo'] = 2\n",
    "avisos_detalles.loc[(avisos_detalles['tipo_de_trabajo'] == 'Voluntario'),'tipo_de_trabajo'] = 1\n",
    "\n",
    "avisos_detalles.loc[(avisos_detalles['nivel_laboral'] == 'Gerencia / Alta Gerencia / Dirección'),'nivel_laboral'] = 5\n",
    "avisos_detalles.loc[(avisos_detalles['nivel_laboral'] == 'Jefe / Supervisor / Responsable'),'nivel_laboral'] = 4\n",
    "avisos_detalles.loc[(avisos_detalles['nivel_laboral'] == 'Senior / Semi-Senior'),'nivel_laboral'] = 3\n",
    "avisos_detalles.loc[(avisos_detalles['nivel_laboral'] == 'Junior'),'nivel_laboral'] = 2\n",
    "avisos_detalles.loc[(avisos_detalles['nivel_laboral'] == 'Otro'),'nivel_laboral'] = 1\n",
    "\n",
    "avisos_detalles.head()"
   ]
  },
  {
   "cell_type": "code",
   "execution_count": 9,
   "metadata": {},
   "outputs": [
    {
     "name": "stdout",
     "output_type": "stream",
     "text": [
      "<class 'pandas.core.frame.DataFrame'>\n",
      "Int64Index: 24950 entries, 0 to 12661\n",
      "Data columns (total 8 columns):\n",
      "idaviso            24950 non-null int64\n",
      "titulo             24950 non-null object\n",
      "descripcion        24950 non-null object\n",
      "nombre_zona        24950 non-null object\n",
      "tipo_de_trabajo    24950 non-null int64\n",
      "nivel_laboral      24950 non-null int64\n",
      "nombre_area        24950 non-null object\n",
      "nombre_empresa     24943 non-null object\n",
      "dtypes: int64(3), object(5)\n",
      "memory usage: 1.7+ MB\n"
     ]
    }
   ],
   "source": [
    "avisos_detalles.info()"
   ]
  },
  {
   "cell_type": "markdown",
   "metadata": {},
   "source": [
    "## Merge del Test File con la información de los postulantes"
   ]
  },
  {
   "cell_type": "code",
   "execution_count": 10,
   "metadata": {},
   "outputs": [
    {
     "data": {
      "text/html": [
       "<div>\n",
       "<style scoped>\n",
       "    .dataframe tbody tr th:only-of-type {\n",
       "        vertical-align: middle;\n",
       "    }\n",
       "\n",
       "    .dataframe tbody tr th {\n",
       "        vertical-align: top;\n",
       "    }\n",
       "\n",
       "    .dataframe thead th {\n",
       "        text-align: right;\n",
       "    }\n",
       "</style>\n",
       "<table border=\"1\" class=\"dataframe\">\n",
       "  <thead>\n",
       "    <tr style=\"text-align: right;\">\n",
       "      <th></th>\n",
       "      <th>id</th>\n",
       "      <th>idaviso</th>\n",
       "      <th>idpostulante</th>\n",
       "      <th>orden_estudio</th>\n",
       "      <th>edad</th>\n",
       "      <th>sexo</th>\n",
       "    </tr>\n",
       "  </thead>\n",
       "  <tbody>\n",
       "    <tr>\n",
       "      <th>0</th>\n",
       "      <td>0</td>\n",
       "      <td>739260</td>\n",
       "      <td>6M9ZQR</td>\n",
       "      <td>19.0</td>\n",
       "      <td>42.0</td>\n",
       "      <td>1.0</td>\n",
       "    </tr>\n",
       "    <tr>\n",
       "      <th>1</th>\n",
       "      <td>1</td>\n",
       "      <td>739260</td>\n",
       "      <td>6v1xdL</td>\n",
       "      <td>7.0</td>\n",
       "      <td>31.0</td>\n",
       "      <td>2.0</td>\n",
       "    </tr>\n",
       "    <tr>\n",
       "      <th>2</th>\n",
       "      <td>2</td>\n",
       "      <td>739260</td>\n",
       "      <td>ezRKm9</td>\n",
       "      <td>10.0</td>\n",
       "      <td>36.0</td>\n",
       "      <td>1.0</td>\n",
       "    </tr>\n",
       "    <tr>\n",
       "      <th>3</th>\n",
       "      <td>3</td>\n",
       "      <td>758580</td>\n",
       "      <td>1Q35ej</td>\n",
       "      <td>13.0</td>\n",
       "      <td>69.0</td>\n",
       "      <td>2.0</td>\n",
       "    </tr>\n",
       "    <tr>\n",
       "      <th>4</th>\n",
       "      <td>4</td>\n",
       "      <td>758580</td>\n",
       "      <td>EAN4J6</td>\n",
       "      <td>9.0</td>\n",
       "      <td>32.0</td>\n",
       "      <td>1.0</td>\n",
       "    </tr>\n",
       "  </tbody>\n",
       "</table>\n",
       "</div>"
      ],
      "text/plain": [
       "   id  idaviso idpostulante  orden_estudio  edad  sexo\n",
       "0   0   739260       6M9ZQR           19.0  42.0   1.0\n",
       "1   1   739260       6v1xdL            7.0  31.0   2.0\n",
       "2   2   739260       ezRKm9           10.0  36.0   1.0\n",
       "3   3   758580       1Q35ej           13.0  69.0   2.0\n",
       "4   4   758580       EAN4J6            9.0  32.0   1.0"
      ]
     },
     "execution_count": 10,
     "metadata": {},
     "output_type": "execute_result"
    }
   ],
   "source": [
    "test_final = pd.merge(test, postulantes, on='idpostulante', how='left')\n",
    "test_final.head()"
   ]
  },
  {
   "cell_type": "code",
   "execution_count": 11,
   "metadata": {},
   "outputs": [
    {
     "name": "stdout",
     "output_type": "stream",
     "text": [
      "<class 'pandas.core.frame.DataFrame'>\n",
      "Int64Index: 100000 entries, 0 to 99999\n",
      "Data columns (total 6 columns):\n",
      "id               100000 non-null int64\n",
      "idaviso          100000 non-null int64\n",
      "idpostulante     100000 non-null object\n",
      "orden_estudio    98164 non-null float64\n",
      "edad             98164 non-null float64\n",
      "sexo             98164 non-null float64\n",
      "dtypes: float64(3), int64(2), object(1)\n",
      "memory usage: 5.3+ MB\n"
     ]
    }
   ],
   "source": [
    "test_final.info()"
   ]
  },
  {
   "cell_type": "code",
   "execution_count": 12,
   "metadata": {},
   "outputs": [
    {
     "name": "stdout",
     "output_type": "stream",
     "text": [
      "<class 'pandas.core.frame.DataFrame'>\n",
      "Int64Index: 100000 entries, 0 to 99999\n",
      "Data columns (total 6 columns):\n",
      "id               100000 non-null int64\n",
      "idaviso          100000 non-null int64\n",
      "idpostulante     100000 non-null object\n",
      "orden_estudio    100000 non-null float64\n",
      "edad             100000 non-null float64\n",
      "sexo             100000 non-null float64\n",
      "dtypes: float64(3), int64(2), object(1)\n",
      "memory usage: 5.3+ MB\n"
     ]
    }
   ],
   "source": [
    "test_final.loc[(test_final['orden_estudio'].isnull()), 'orden_estudio'] = 0\n",
    "test_final.loc[(test_final['edad'].isnull()), 'edad'] = 0\n",
    "test_final.loc[(test_final['sexo'].isnull()), 'sexo'] = 0\n",
    "\n",
    "test_final.info()"
   ]
  },
  {
   "cell_type": "markdown",
   "metadata": {},
   "source": [
    "## Merge del Test Final con los detalles de los avisos"
   ]
  },
  {
   "cell_type": "code",
   "execution_count": 13,
   "metadata": {},
   "outputs": [
    {
     "data": {
      "text/html": [
       "<div>\n",
       "<style scoped>\n",
       "    .dataframe tbody tr th:only-of-type {\n",
       "        vertical-align: middle;\n",
       "    }\n",
       "\n",
       "    .dataframe tbody tr th {\n",
       "        vertical-align: top;\n",
       "    }\n",
       "\n",
       "    .dataframe thead th {\n",
       "        text-align: right;\n",
       "    }\n",
       "</style>\n",
       "<table border=\"1\" class=\"dataframe\">\n",
       "  <thead>\n",
       "    <tr style=\"text-align: right;\">\n",
       "      <th></th>\n",
       "      <th>id</th>\n",
       "      <th>idaviso</th>\n",
       "      <th>idpostulante</th>\n",
       "      <th>orden_estudio</th>\n",
       "      <th>edad</th>\n",
       "      <th>sexo</th>\n",
       "      <th>titulo</th>\n",
       "      <th>descripcion</th>\n",
       "      <th>nombre_zona</th>\n",
       "      <th>tipo_de_trabajo</th>\n",
       "      <th>nivel_laboral</th>\n",
       "      <th>nombre_area</th>\n",
       "      <th>nombre_empresa</th>\n",
       "    </tr>\n",
       "  </thead>\n",
       "  <tbody>\n",
       "    <tr>\n",
       "      <th>0</th>\n",
       "      <td>0</td>\n",
       "      <td>739260</td>\n",
       "      <td>6M9ZQR</td>\n",
       "      <td>19.0</td>\n",
       "      <td>42.0</td>\n",
       "      <td>1.0</td>\n",
       "      <td>Asistente Comercial</td>\n",
       "      <td>Nuestro cliente es una empresa nac. ubicada en...</td>\n",
       "      <td>Capital Federal</td>\n",
       "      <td>10.0</td>\n",
       "      <td>4.0</td>\n",
       "      <td>Comercial</td>\n",
       "      <td>BUMERAN.COM ARGENTINA</td>\n",
       "    </tr>\n",
       "    <tr>\n",
       "      <th>1</th>\n",
       "      <td>1</td>\n",
       "      <td>739260</td>\n",
       "      <td>6v1xdL</td>\n",
       "      <td>7.0</td>\n",
       "      <td>31.0</td>\n",
       "      <td>2.0</td>\n",
       "      <td>Asistente Comercial</td>\n",
       "      <td>Nuestro cliente es una empresa nac. ubicada en...</td>\n",
       "      <td>Capital Federal</td>\n",
       "      <td>10.0</td>\n",
       "      <td>4.0</td>\n",
       "      <td>Comercial</td>\n",
       "      <td>BUMERAN.COM ARGENTINA</td>\n",
       "    </tr>\n",
       "    <tr>\n",
       "      <th>2</th>\n",
       "      <td>2</td>\n",
       "      <td>739260</td>\n",
       "      <td>ezRKm9</td>\n",
       "      <td>10.0</td>\n",
       "      <td>36.0</td>\n",
       "      <td>1.0</td>\n",
       "      <td>Asistente Comercial</td>\n",
       "      <td>Nuestro cliente es una empresa nac. ubicada en...</td>\n",
       "      <td>Capital Federal</td>\n",
       "      <td>10.0</td>\n",
       "      <td>4.0</td>\n",
       "      <td>Comercial</td>\n",
       "      <td>BUMERAN.COM ARGENTINA</td>\n",
       "    </tr>\n",
       "    <tr>\n",
       "      <th>3</th>\n",
       "      <td>3</td>\n",
       "      <td>758580</td>\n",
       "      <td>1Q35ej</td>\n",
       "      <td>13.0</td>\n",
       "      <td>69.0</td>\n",
       "      <td>2.0</td>\n",
       "      <td>Oracle Financials Sr. Application Developer</td>\n",
       "      <td>\\r\\nTeleTech, the worlwide leader in outsource...</td>\n",
       "      <td>Capital Federal</td>\n",
       "      <td>10.0</td>\n",
       "      <td>1.0</td>\n",
       "      <td>Tecnologia / Sistemas</td>\n",
       "      <td>TeleTech</td>\n",
       "    </tr>\n",
       "    <tr>\n",
       "      <th>4</th>\n",
       "      <td>4</td>\n",
       "      <td>758580</td>\n",
       "      <td>EAN4J6</td>\n",
       "      <td>9.0</td>\n",
       "      <td>32.0</td>\n",
       "      <td>1.0</td>\n",
       "      <td>Oracle Financials Sr. Application Developer</td>\n",
       "      <td>\\r\\nTeleTech, the worlwide leader in outsource...</td>\n",
       "      <td>Capital Federal</td>\n",
       "      <td>10.0</td>\n",
       "      <td>1.0</td>\n",
       "      <td>Tecnologia / Sistemas</td>\n",
       "      <td>TeleTech</td>\n",
       "    </tr>\n",
       "  </tbody>\n",
       "</table>\n",
       "</div>"
      ],
      "text/plain": [
       "   id  idaviso idpostulante  orden_estudio  edad  sexo  \\\n",
       "0   0   739260       6M9ZQR           19.0  42.0   1.0   \n",
       "1   1   739260       6v1xdL            7.0  31.0   2.0   \n",
       "2   2   739260       ezRKm9           10.0  36.0   1.0   \n",
       "3   3   758580       1Q35ej           13.0  69.0   2.0   \n",
       "4   4   758580       EAN4J6            9.0  32.0   1.0   \n",
       "\n",
       "                                        titulo  \\\n",
       "0                          Asistente Comercial   \n",
       "1                          Asistente Comercial   \n",
       "2                          Asistente Comercial   \n",
       "3  Oracle Financials Sr. Application Developer   \n",
       "4  Oracle Financials Sr. Application Developer   \n",
       "\n",
       "                                         descripcion      nombre_zona  \\\n",
       "0  Nuestro cliente es una empresa nac. ubicada en...  Capital Federal   \n",
       "1  Nuestro cliente es una empresa nac. ubicada en...  Capital Federal   \n",
       "2  Nuestro cliente es una empresa nac. ubicada en...  Capital Federal   \n",
       "3  \\r\\nTeleTech, the worlwide leader in outsource...  Capital Federal   \n",
       "4  \\r\\nTeleTech, the worlwide leader in outsource...  Capital Federal   \n",
       "\n",
       "   tipo_de_trabajo  nivel_laboral            nombre_area  \\\n",
       "0             10.0            4.0              Comercial   \n",
       "1             10.0            4.0              Comercial   \n",
       "2             10.0            4.0              Comercial   \n",
       "3             10.0            1.0  Tecnologia / Sistemas   \n",
       "4             10.0            1.0  Tecnologia / Sistemas   \n",
       "\n",
       "          nombre_empresa  \n",
       "0  BUMERAN.COM ARGENTINA  \n",
       "1  BUMERAN.COM ARGENTINA  \n",
       "2  BUMERAN.COM ARGENTINA  \n",
       "3               TeleTech  \n",
       "4               TeleTech  "
      ]
     },
     "execution_count": 13,
     "metadata": {},
     "output_type": "execute_result"
    }
   ],
   "source": [
    "test_final = pd.merge(test_final, avisos_detalles, on='idaviso', how='left')\n",
    "test_final.head()"
   ]
  },
  {
   "cell_type": "code",
   "execution_count": 14,
   "metadata": {},
   "outputs": [
    {
     "name": "stdout",
     "output_type": "stream",
     "text": [
      "<class 'pandas.core.frame.DataFrame'>\n",
      "Int64Index: 100000 entries, 0 to 99999\n",
      "Data columns (total 13 columns):\n",
      "id                 100000 non-null int64\n",
      "idaviso            100000 non-null int64\n",
      "idpostulante       100000 non-null object\n",
      "orden_estudio      100000 non-null float64\n",
      "edad               100000 non-null float64\n",
      "sexo               100000 non-null float64\n",
      "titulo             95552 non-null object\n",
      "descripcion        95552 non-null object\n",
      "nombre_zona        95552 non-null object\n",
      "tipo_de_trabajo    95552 non-null float64\n",
      "nivel_laboral      95552 non-null float64\n",
      "nombre_area        95552 non-null object\n",
      "nombre_empresa     95540 non-null object\n",
      "dtypes: float64(5), int64(2), object(6)\n",
      "memory usage: 10.7+ MB\n"
     ]
    }
   ],
   "source": [
    "test_final.info()"
   ]
  },
  {
   "cell_type": "code",
   "execution_count": 15,
   "metadata": {},
   "outputs": [
    {
     "name": "stdout",
     "output_type": "stream",
     "text": [
      "<class 'pandas.core.frame.DataFrame'>\n",
      "Int64Index: 100000 entries, 0 to 99999\n",
      "Data columns (total 13 columns):\n",
      "id                 100000 non-null int64\n",
      "idaviso            100000 non-null int64\n",
      "idpostulante       100000 non-null object\n",
      "orden_estudio      100000 non-null float64\n",
      "edad               100000 non-null float64\n",
      "sexo               100000 non-null float64\n",
      "titulo             95552 non-null object\n",
      "descripcion        95552 non-null object\n",
      "nombre_zona        95552 non-null object\n",
      "tipo_de_trabajo    100000 non-null float64\n",
      "nivel_laboral      100000 non-null float64\n",
      "nombre_area        95552 non-null object\n",
      "nombre_empresa     95540 non-null object\n",
      "dtypes: float64(5), int64(2), object(6)\n",
      "memory usage: 10.7+ MB\n"
     ]
    }
   ],
   "source": [
    "test_final.loc[(test_final['tipo_de_trabajo'].isnull()), 'tipo_de_trabajo'] = 0\n",
    "test_final.loc[(test_final['nivel_laboral'].isnull()), 'nivel_laboral'] = 0\n",
    "\n",
    "test_final.info()"
   ]
  },
  {
   "cell_type": "code",
   "execution_count": 16,
   "metadata": {},
   "outputs": [],
   "source": [
    "test_final.loc[(test_final['nombre_zona'] == 'Gran Buenos Aires'),'nombre_zona'] = 15\n",
    "test_final.loc[(test_final['nombre_zona'] == 'Capital Federal'),'nombre_zona'] = 14\n",
    "test_final.loc[(test_final['nombre_zona'] == 'Buenos Aires (fuera de GBA)'),'nombre_zona'] = 13\n",
    "test_final.loc[(test_final['nombre_zona'] == 'GBA Oeste'),'nombre_zona'] = 12\n",
    "test_final.loc[(test_final['nombre_zona'] == 'La Plata'),'nombre_zona'] = 11\n",
    "test_final.loc[(test_final['nombre_zona'] == 'Ciudad de Mendoza'),'nombre_zona'] = 10\n",
    "test_final.loc[(test_final['nombre_zona'] == 'Mendoza'),'nombre_zona'] = 9\n",
    "test_final.loc[(test_final['nombre_zona'] == 'Catamarca'),'nombre_zona'] = 8\n",
    "test_final.loc[(test_final['nombre_zona'] == 'Rosario'),'nombre_zona'] = 7\n",
    "test_final.loc[(test_final['nombre_zona'] == 'Santa Cruz'),'nombre_zona'] = 6\n",
    "test_final.loc[(test_final['nombre_zona'] == 'San Juan'),'nombre_zona'] = 5\n",
    "test_final.loc[(test_final['nombre_zona'] == 'Cordoba'),'nombre_zona'] = 4\n",
    "test_final.loc[(test_final['nombre_zona'] == 'Tucuman'),'nombre_zona'] = 3\n",
    "test_final.loc[(test_final['nombre_zona'] == 'Neuquen'),'nombre_zona'] = 2\n",
    "test_final.loc[(test_final['nombre_zona'] == 'Santa Fe'),'nombre_zona'] = 1"
   ]
  },
  {
   "cell_type": "code",
   "execution_count": 18,
   "metadata": {},
   "outputs": [
    {
     "name": "stdout",
     "output_type": "stream",
     "text": [
      "<class 'pandas.core.frame.DataFrame'>\n",
      "Int64Index: 100000 entries, 0 to 99999\n",
      "Data columns (total 13 columns):\n",
      "id                 100000 non-null int64\n",
      "idaviso            100000 non-null int64\n",
      "idpostulante       100000 non-null object\n",
      "orden_estudio      100000 non-null float64\n",
      "edad               100000 non-null float64\n",
      "sexo               100000 non-null float64\n",
      "titulo             95552 non-null object\n",
      "descripcion        95552 non-null object\n",
      "nombre_zona        100000 non-null int64\n",
      "tipo_de_trabajo    100000 non-null float64\n",
      "nivel_laboral      100000 non-null float64\n",
      "nombre_area        95552 non-null object\n",
      "nombre_empresa     95540 non-null object\n",
      "dtypes: float64(5), int64(3), object(5)\n",
      "memory usage: 10.7+ MB\n"
     ]
    }
   ],
   "source": [
    "test_final.loc[(test_final['nombre_zona'].isnull()),'nombre_zona'] = 0\n",
    "test_final.info()"
   ]
  },
  {
   "cell_type": "markdown",
   "metadata": {},
   "source": [
    "## Exportamos a un CSV File el test final"
   ]
  },
  {
   "cell_type": "code",
   "execution_count": 19,
   "metadata": {},
   "outputs": [],
   "source": [
    "test_final.to_csv('test_final.csv', encoding='utf-8', index=False)"
   ]
  }
 ],
 "metadata": {
  "kernelspec": {
   "display_name": "Python 3",
   "language": "python",
   "name": "python3"
  },
  "language_info": {
   "codemirror_mode": {
    "name": "ipython",
    "version": 3
   },
   "file_extension": ".py",
   "mimetype": "text/x-python",
   "name": "python",
   "nbconvert_exporter": "python",
   "pygments_lexer": "ipython3",
   "version": "3.6.4"
  }
 },
 "nbformat": 4,
 "nbformat_minor": 2
}
