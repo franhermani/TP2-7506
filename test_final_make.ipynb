{
 "cells": [
  {
   "cell_type": "code",
   "execution_count": 1,
   "metadata": {},
   "outputs": [],
   "source": [
    "import pandas as pd\n",
    "import numpy as np"
   ]
  },
  {
   "cell_type": "code",
   "execution_count": 2,
   "metadata": {},
   "outputs": [],
   "source": [
    "test = pd.read_csv('test_final_100k.csv')"
   ]
  },
  {
   "cell_type": "markdown",
   "metadata": {},
   "source": [
    "A continuación vamos a realizar las mismas operaciones con los dataframes de postulantes y avisos que realizamos en el notebook principal, a fin de tener un dataframe test con los features correspondientes para que los algoritmos de Machine Learning puedan predecir los resultados.\n",
    "\n",
    "No realizamos comentarios respecto a las operaciones ya que estos se encuentran en el notebook principal."
   ]
  },
  {
   "cell_type": "markdown",
   "metadata": {},
   "source": [
    "## Información de los postulantes"
   ]
  },
  {
   "cell_type": "markdown",
   "metadata": {},
   "source": [
    "### DF 1: Educación de los postulantes"
   ]
  },
  {
   "cell_type": "code",
   "execution_count": 3,
   "metadata": {},
   "outputs": [
    {
     "name": "stdout",
     "output_type": "stream",
     "text": [
      "<class 'pandas.core.frame.DataFrame'>\n",
      "Int64Index: 447909 entries, 393408 to 530578\n",
      "Data columns (total 3 columns):\n",
      "idpostulante       447909 non-null object\n",
      "estudios           447909 non-null float64\n",
      "esta_estudiando    447909 non-null float64\n",
      "dtypes: float64(2), object(1)\n",
      "memory usage: 13.7+ MB\n"
     ]
    }
   ],
   "source": [
    "postulantes_educ = pd.read_csv('datos_navent_fiuba/h15_fiuba_1_postulantes_educacion.csv')\n",
    "postulantes_educ_2 = pd.read_csv('datos_navent_fiuba/d15_fiuba_1_postulantes_educacion.csv')\n",
    "\n",
    "postulantes_educ = pd.merge(postulantes_educ, postulantes_educ_2, on=['idpostulante', 'nombre', 'estado']\\\n",
    "                       , how='outer')\n",
    "\n",
    "postulantes_educ_2 = pd.read_csv('datos_navent_fiuba/fiuba_1_postulantes_educacion.csv')\n",
    "\n",
    "postulantes_educ = pd.merge(postulantes_educ, postulantes_educ_2, on=['idpostulante', 'nombre', 'estado']\\\n",
    "                       , how='outer')\n",
    "\n",
    "postulantes_educ.rename(columns={'nombre':'titulo_univ'}, inplace=True)\n",
    "\n",
    "postulantes_educ.loc[(postulantes_educ[\"titulo_univ\"] == \"Otro\"), 'estudios'] = 1\n",
    "postulantes_educ.loc[(postulantes_educ['titulo_univ'] == 'Secundario'), 'estudios'] = 2\n",
    "postulantes_educ.loc[(postulantes_educ['titulo_univ'] == 'Terciario/Técnico'), 'estudios'] = 3\n",
    "postulantes_educ.loc[(postulantes_educ['titulo_univ'] == 'Universitario'), 'estudios'] = 4\n",
    "postulantes_educ.loc[(postulantes_educ['titulo_univ'] == 'Posgrado'), 'estudios'] = 5\n",
    "postulantes_educ.loc[(postulantes_educ['titulo_univ'] == 'Master'), 'estudios'] = 6\n",
    "postulantes_educ.loc[(postulantes_educ['titulo_univ'] == 'Doctorado'), 'estudios'] = 7\n",
    "\n",
    "postulantes_educ = postulantes_educ.sort_values('estudios', ascending=False)\n",
    "\n",
    "postulantes_educ = postulantes_educ.drop_duplicates('idpostulante')\n",
    "\n",
    "postulantes_educ.loc[(postulantes_educ['estado'] == 'Graduado'), 'esta_estudiando'] = 0\n",
    "postulantes_educ.loc[(postulantes_educ['estado'] == 'Abandonado'), 'esta_estudiando'] = 0\n",
    "postulantes_educ.loc[(postulantes_educ['estado'] == 'En Curso'), 'esta_estudiando'] = 1\n",
    "\n",
    "postulantes_educ.drop(columns={'titulo_univ', 'estado'}, axis=1, inplace=True)\n",
    "\n",
    "postulantes_educ.info()"
   ]
  },
  {
   "cell_type": "markdown",
   "metadata": {},
   "source": [
    "### DF 2: Género y Edad de los postulantes"
   ]
  },
  {
   "cell_type": "code",
   "execution_count": 4,
   "metadata": {},
   "outputs": [
    {
     "name": "stdout",
     "output_type": "stream",
     "text": [
      "<class 'pandas.core.frame.DataFrame'>\n",
      "Int64Index: 478001 entries, 165770 to 147639\n",
      "Data columns (total 3 columns):\n",
      "idpostulante    478001 non-null object\n",
      "sexo            478001 non-null object\n",
      "rango_edad      478001 non-null float64\n",
      "dtypes: float64(1), object(2)\n",
      "memory usage: 14.6+ MB\n"
     ]
    }
   ],
   "source": [
    "postulantes_gen_nac = pd.read_csv('datos_navent_fiuba/h15_fiuba_2_postulantes_genero_y_edad.csv')\n",
    "postulantes_gen_nac_2 = pd.read_csv('datos_navent_fiuba/d15_fiuba_2_postulantes_genero_y_edad.csv')\n",
    "\n",
    "postulantes_gen_nac = pd.merge(postulantes_gen_nac, postulantes_gen_nac_2, on=['idpostulante', 'fechanacimiento', 'sexo']\\\n",
    "                       , how='outer')\n",
    "\n",
    "postulantes_gen_nac_2 = pd.read_csv('datos_navent_fiuba/fiuba_2_postulantes_genero_y_edad.csv')\n",
    "\n",
    "postulantes_gen_nac = pd.merge(postulantes_gen_nac, postulantes_gen_nac_2, on=['idpostulante', 'fechanacimiento', 'sexo']\\\n",
    "                       , how='outer')\n",
    "\n",
    "postulantes_gen_nac = postulantes_gen_nac[postulantes_gen_nac['sexo'] != '0.0']\n",
    "\n",
    "postulantes_gen_nac = postulantes_gen_nac.sort_values('sexo', ascending=True)\n",
    "\n",
    "postulantes_gen_nac = postulantes_gen_nac.drop_duplicates('idpostulante')\n",
    "\n",
    "postulantes_gen_nac = postulantes_gen_nac.rename(columns={'fechanacimiento': 'edad'})\n",
    "\n",
    "fecha_nac = postulantes_gen_nac['edad'].str.split('-')\n",
    "año_nac = fecha_nac.str[0]\n",
    "postulantes_gen_nac['edad'] = año_nac\n",
    "postulantes_gen_nac['edad'] = pd.to_numeric(postulantes_gen_nac['edad'], errors='coerce').fillna(0).astype(np.int64)\n",
    "edad_min = postulantes_gen_nac['edad'] > 2000\n",
    "edad_max = postulantes_gen_nac['edad'] < 1950\n",
    "condicion_final = ((edad_min | edad_max))\n",
    "postulantes_gen_nac = postulantes_gen_nac[np.logical_not(condicion_final)]\n",
    "postulantes_gen_nac['edad'] = postulantes_gen_nac['edad'].apply(lambda x: 2018-x)\n",
    "\n",
    "rango_18_25 = (postulantes_gen_nac['edad'] >= 18) & (postulantes_gen_nac['edad'] <= 25)\n",
    "rango_26_30 = (postulantes_gen_nac['edad'] >= 26) & (postulantes_gen_nac['edad'] <= 30)\n",
    "rango_31_40 = (postulantes_gen_nac['edad'] >= 31) & (postulantes_gen_nac['edad'] <= 40)\n",
    "rango_41_68 = (postulantes_gen_nac['edad'] >= 41) & (postulantes_gen_nac['edad'] <= 68)\n",
    "postulantes_gen_nac.loc[(rango_18_25), 'rango_edad'] = 1\n",
    "postulantes_gen_nac.loc[(rango_26_30), 'rango_edad'] = 2\n",
    "postulantes_gen_nac.loc[(rango_31_40), 'rango_edad'] = 3\n",
    "postulantes_gen_nac.loc[(rango_41_68), 'rango_edad'] = 4\n",
    "\n",
    "postulantes_gen_nac.drop(columns={'edad'}, axis=1, inplace=True)\n",
    "\n",
    "postulantes_gen_nac.info()"
   ]
  },
  {
   "cell_type": "markdown",
   "metadata": {},
   "source": [
    "### Merge de los DF 1 y 2"
   ]
  },
  {
   "cell_type": "code",
   "execution_count": 5,
   "metadata": {},
   "outputs": [
    {
     "name": "stdout",
     "output_type": "stream",
     "text": [
      "<class 'pandas.core.frame.DataFrame'>\n",
      "Int64Index: 487459 entries, 0 to 487458\n",
      "Data columns (total 5 columns):\n",
      "idpostulante       487459 non-null object\n",
      "estudios           447909 non-null float64\n",
      "esta_estudiando    447909 non-null float64\n",
      "sexo               478001 non-null object\n",
      "rango_edad         478001 non-null float64\n",
      "dtypes: float64(3), object(2)\n",
      "memory usage: 22.3+ MB\n"
     ]
    }
   ],
   "source": [
    "postulantes = pd.merge(postulantes_educ, postulantes_gen_nac, on='idpostulante', how='outer')\n",
    "\n",
    "postulantes.info()"
   ]
  },
  {
   "cell_type": "code",
   "execution_count": 6,
   "metadata": {},
   "outputs": [
    {
     "data": {
      "text/html": [
       "<div>\n",
       "<style scoped>\n",
       "    .dataframe tbody tr th:only-of-type {\n",
       "        vertical-align: middle;\n",
       "    }\n",
       "\n",
       "    .dataframe tbody tr th {\n",
       "        vertical-align: top;\n",
       "    }\n",
       "\n",
       "    .dataframe thead th {\n",
       "        text-align: right;\n",
       "    }\n",
       "</style>\n",
       "<table border=\"1\" class=\"dataframe\">\n",
       "  <thead>\n",
       "    <tr style=\"text-align: right;\">\n",
       "      <th></th>\n",
       "      <th>idpostulante</th>\n",
       "      <th>estudios</th>\n",
       "      <th>esta_estudiando</th>\n",
       "      <th>sexo</th>\n",
       "      <th>rango_edad</th>\n",
       "    </tr>\n",
       "  </thead>\n",
       "  <tbody>\n",
       "    <tr>\n",
       "      <th>0</th>\n",
       "      <td>1lKjvO</td>\n",
       "      <td>7.0</td>\n",
       "      <td>1.0</td>\n",
       "      <td>NaN</td>\n",
       "      <td>NaN</td>\n",
       "    </tr>\n",
       "    <tr>\n",
       "      <th>1</th>\n",
       "      <td>a0XaWD</td>\n",
       "      <td>7.0</td>\n",
       "      <td>0.0</td>\n",
       "      <td>2</td>\n",
       "      <td>4.0</td>\n",
       "    </tr>\n",
       "    <tr>\n",
       "      <th>2</th>\n",
       "      <td>4reGo5z</td>\n",
       "      <td>7.0</td>\n",
       "      <td>0.0</td>\n",
       "      <td>1</td>\n",
       "      <td>2.0</td>\n",
       "    </tr>\n",
       "    <tr>\n",
       "      <th>3</th>\n",
       "      <td>X9lpKkb</td>\n",
       "      <td>7.0</td>\n",
       "      <td>0.0</td>\n",
       "      <td>2</td>\n",
       "      <td>4.0</td>\n",
       "    </tr>\n",
       "    <tr>\n",
       "      <th>4</th>\n",
       "      <td>RzMXJ4E</td>\n",
       "      <td>7.0</td>\n",
       "      <td>0.0</td>\n",
       "      <td>1</td>\n",
       "      <td>4.0</td>\n",
       "    </tr>\n",
       "  </tbody>\n",
       "</table>\n",
       "</div>"
      ],
      "text/plain": [
       "  idpostulante  estudios  esta_estudiando sexo  rango_edad\n",
       "0       1lKjvO       7.0              1.0  NaN         NaN\n",
       "1       a0XaWD       7.0              0.0    2         4.0\n",
       "2      4reGo5z       7.0              0.0    1         2.0\n",
       "3      X9lpKkb       7.0              0.0    2         4.0\n",
       "4      RzMXJ4E       7.0              0.0    1         4.0"
      ]
     },
     "execution_count": 6,
     "metadata": {},
     "output_type": "execute_result"
    }
   ],
   "source": [
    "postulantes.loc[(postulantes['sexo'] == 'NO_DECLARA'), 'sexo'] = 0\n",
    "postulantes.loc[(postulantes['sexo'] == 'FEM'),'sexo'] = 1\n",
    "postulantes.loc[(postulantes['sexo'] == 'MASC'),'sexo'] = 2\n",
    "\n",
    "postulantes.head()"
   ]
  },
  {
   "cell_type": "code",
   "execution_count": 7,
   "metadata": {},
   "outputs": [
    {
     "name": "stdout",
     "output_type": "stream",
     "text": [
      "<class 'pandas.core.frame.DataFrame'>\n",
      "Int64Index: 487459 entries, 0 to 487458\n",
      "Data columns (total 5 columns):\n",
      "idpostulante       487459 non-null object\n",
      "estudios           447909 non-null float64\n",
      "esta_estudiando    447909 non-null float64\n",
      "sexo               478001 non-null object\n",
      "rango_edad         478001 non-null float64\n",
      "dtypes: float64(3), object(2)\n",
      "memory usage: 22.3+ MB\n"
     ]
    }
   ],
   "source": [
    "postulantes.info()"
   ]
  },
  {
   "cell_type": "markdown",
   "metadata": {},
   "source": [
    "## Detalles de los avisos"
   ]
  },
  {
   "cell_type": "code",
   "execution_count": 8,
   "metadata": {},
   "outputs": [
    {
     "name": "stdout",
     "output_type": "stream",
     "text": [
      "<class 'pandas.core.frame.DataFrame'>\n",
      "Int64Index: 24950 entries, 0 to 25549\n",
      "Data columns (total 8 columns):\n",
      "idaviso            24950 non-null int64\n",
      "titulo             24950 non-null object\n",
      "descripcion        24950 non-null object\n",
      "nombre_zona        24950 non-null int64\n",
      "tipo_de_trabajo    24950 non-null int64\n",
      "nivel_laboral      24950 non-null int64\n",
      "nombre_area        24950 non-null object\n",
      "nombre_empresa     24943 non-null object\n",
      "dtypes: int64(4), object(4)\n",
      "memory usage: 1.7+ MB\n"
     ]
    }
   ],
   "source": [
    "avisos_detalles = pd.read_csv('datos_navent_fiuba/h15_fiuba_6_avisos_detalle.csv')\n",
    "avisos_detalles_2 = pd.read_csv('datos_navent_fiuba/d15_fiuba_6_avisos_detalle.csv')\n",
    "\n",
    "avisos_detalles = pd.merge(avisos_detalles, avisos_detalles_2, how='outer')\n",
    "\n",
    "avisos_detalles_2 = pd.read_csv('datos_navent_fiuba/fiuba_6_avisos_detalle.csv')\n",
    "\n",
    "avisos_detalles = pd.merge(avisos_detalles, avisos_detalles_2, how='outer')\n",
    "\n",
    "avisos_detalles = avisos_detalles.drop_duplicates(['idaviso'])\n",
    "\n",
    "avisos_detalles.rename(columns={'denominacion_empresa':'nombre_empresa'}, inplace=True)\n",
    "\n",
    "avisos_detalles.drop(columns={'idpais', 'ciudad', 'mapacalle'}, axis=1, inplace=True)\n",
    "\n",
    "avisos_detalles.loc[(avisos_detalles['nombre_zona'] == 'Gran Buenos Aires'),'nombre_zona'] = 3\n",
    "avisos_detalles.loc[(avisos_detalles['nombre_zona'] == 'Capital Federal'),'nombre_zona'] = 2\n",
    "avisos_detalles.loc[(avisos_detalles['nombre_zona'] == 'Buenos Aires (fuera de GBA)'),'nombre_zona'] = 1\n",
    "avisos_detalles.loc[(avisos_detalles['nombre_zona'] == 'GBA Oeste'),'nombre_zona'] = 1\n",
    "avisos_detalles.loc[(avisos_detalles['nombre_zona'] == 'La Plata'),'nombre_zona'] = 1\n",
    "avisos_detalles.loc[(avisos_detalles['nombre_zona'] == 'Ciudad de Mendoza'),'nombre_zona'] = 1\n",
    "avisos_detalles.loc[(avisos_detalles['nombre_zona'] == 'Mendoza'),'nombre_zona'] = 1\n",
    "avisos_detalles.loc[(avisos_detalles['nombre_zona'] == 'Catamarca'),'nombre_zona'] = 1\n",
    "avisos_detalles.loc[(avisos_detalles['nombre_zona'] == 'Rosario'),'nombre_zona'] = 1\n",
    "avisos_detalles.loc[(avisos_detalles['nombre_zona'] == 'Santa Cruz'),'nombre_zona'] = 1\n",
    "avisos_detalles.loc[(avisos_detalles['nombre_zona'] == 'San Juan'),'nombre_zona'] = 1\n",
    "avisos_detalles.loc[(avisos_detalles['nombre_zona'] == 'Cordoba'),'nombre_zona'] = 1\n",
    "avisos_detalles.loc[(avisos_detalles['nombre_zona'] == 'Tucuman'),'nombre_zona'] = 1\n",
    "avisos_detalles.loc[(avisos_detalles['nombre_zona'] == 'Neuquen'),'nombre_zona'] = 1\n",
    "avisos_detalles.loc[(avisos_detalles['nombre_zona'] == 'Santa Fe'),'nombre_zona'] = 1\n",
    "\n",
    "avisos_detalles.loc[(avisos_detalles['tipo_de_trabajo'] == 'Full-time'),'tipo_de_trabajo'] = 10\n",
    "avisos_detalles.loc[(avisos_detalles['tipo_de_trabajo'] == 'Part-time'),'tipo_de_trabajo'] = 9\n",
    "avisos_detalles.loc[(avisos_detalles['tipo_de_trabajo'] == 'Teletrabajo'),'tipo_de_trabajo'] = 8\n",
    "avisos_detalles.loc[(avisos_detalles['tipo_de_trabajo'] == 'Por Horas'),'tipo_de_trabajo'] = 7\n",
    "avisos_detalles.loc[(avisos_detalles['tipo_de_trabajo'] == 'Pasantia'),'tipo_de_trabajo'] = 6\n",
    "avisos_detalles.loc[(avisos_detalles['tipo_de_trabajo'] == 'Temporario'),'tipo_de_trabajo'] = 5\n",
    "avisos_detalles.loc[(avisos_detalles['tipo_de_trabajo'] == 'Por Contrato'),'tipo_de_trabajo'] = 4\n",
    "avisos_detalles.loc[(avisos_detalles['tipo_de_trabajo'] == 'Fines de Semana'),'tipo_de_trabajo'] = 3\n",
    "avisos_detalles.loc[(avisos_detalles['tipo_de_trabajo'] == 'Primer empleo'),'tipo_de_trabajo'] = 2\n",
    "avisos_detalles.loc[(avisos_detalles['tipo_de_trabajo'] == 'Voluntario'),'tipo_de_trabajo'] = 1\n",
    "\n",
    "avisos_detalles.loc[(avisos_detalles['nivel_laboral'] == 'Gerencia / Alta Gerencia / Dirección'),'nivel_laboral'] = 5\n",
    "avisos_detalles.loc[(avisos_detalles['nivel_laboral'] == 'Jefe / Supervisor / Responsable'),'nivel_laboral'] = 4\n",
    "avisos_detalles.loc[(avisos_detalles['nivel_laboral'] == 'Senior / Semi-Senior'),'nivel_laboral'] = 3\n",
    "avisos_detalles.loc[(avisos_detalles['nivel_laboral'] == 'Junior'),'nivel_laboral'] = 2\n",
    "avisos_detalles.loc[(avisos_detalles['nivel_laboral'] == 'Otro'),'nivel_laboral'] = 1\n",
    "\n",
    "avisos_detalles.info()"
   ]
  },
  {
   "cell_type": "markdown",
   "metadata": {},
   "source": [
    "## Merge del Test File con la información de los postulantes"
   ]
  },
  {
   "cell_type": "code",
   "execution_count": 9,
   "metadata": {},
   "outputs": [
    {
     "data": {
      "text/html": [
       "<div>\n",
       "<style scoped>\n",
       "    .dataframe tbody tr th:only-of-type {\n",
       "        vertical-align: middle;\n",
       "    }\n",
       "\n",
       "    .dataframe tbody tr th {\n",
       "        vertical-align: top;\n",
       "    }\n",
       "\n",
       "    .dataframe thead th {\n",
       "        text-align: right;\n",
       "    }\n",
       "</style>\n",
       "<table border=\"1\" class=\"dataframe\">\n",
       "  <thead>\n",
       "    <tr style=\"text-align: right;\">\n",
       "      <th></th>\n",
       "      <th>id</th>\n",
       "      <th>idaviso</th>\n",
       "      <th>idpostulante</th>\n",
       "      <th>estudios</th>\n",
       "      <th>esta_estudiando</th>\n",
       "      <th>sexo</th>\n",
       "      <th>rango_edad</th>\n",
       "    </tr>\n",
       "  </thead>\n",
       "  <tbody>\n",
       "    <tr>\n",
       "      <th>19519</th>\n",
       "      <td>19519</td>\n",
       "      <td>1112228604</td>\n",
       "      <td>EW5QK2</td>\n",
       "      <td>4.0</td>\n",
       "      <td>1.0</td>\n",
       "      <td>2</td>\n",
       "      <td>3.0</td>\n",
       "    </tr>\n",
       "    <tr>\n",
       "      <th>47051</th>\n",
       "      <td>47051</td>\n",
       "      <td>1112431002</td>\n",
       "      <td>jkV56Vb</td>\n",
       "      <td>2.0</td>\n",
       "      <td>0.0</td>\n",
       "      <td>2</td>\n",
       "      <td>3.0</td>\n",
       "    </tr>\n",
       "    <tr>\n",
       "      <th>4951</th>\n",
       "      <td>4951</td>\n",
       "      <td>1111507445</td>\n",
       "      <td>aGBMGN</td>\n",
       "      <td>3.0</td>\n",
       "      <td>0.0</td>\n",
       "      <td>1</td>\n",
       "      <td>3.0</td>\n",
       "    </tr>\n",
       "    <tr>\n",
       "      <th>51827</th>\n",
       "      <td>51827</td>\n",
       "      <td>1112442102</td>\n",
       "      <td>GNObeb9</td>\n",
       "      <td>4.0</td>\n",
       "      <td>0.0</td>\n",
       "      <td>2</td>\n",
       "      <td>2.0</td>\n",
       "    </tr>\n",
       "    <tr>\n",
       "      <th>6529</th>\n",
       "      <td>6529</td>\n",
       "      <td>1111651622</td>\n",
       "      <td>aPeDAE</td>\n",
       "      <td>2.0</td>\n",
       "      <td>0.0</td>\n",
       "      <td>2</td>\n",
       "      <td>3.0</td>\n",
       "    </tr>\n",
       "  </tbody>\n",
       "</table>\n",
       "</div>"
      ],
      "text/plain": [
       "          id     idaviso idpostulante  estudios  esta_estudiando sexo  \\\n",
       "19519  19519  1112228604       EW5QK2       4.0              1.0    2   \n",
       "47051  47051  1112431002      jkV56Vb       2.0              0.0    2   \n",
       "4951    4951  1111507445       aGBMGN       3.0              0.0    1   \n",
       "51827  51827  1112442102      GNObeb9       4.0              0.0    2   \n",
       "6529    6529  1111651622       aPeDAE       2.0              0.0    2   \n",
       "\n",
       "       rango_edad  \n",
       "19519         3.0  \n",
       "47051         3.0  \n",
       "4951          3.0  \n",
       "51827         2.0  \n",
       "6529          3.0  "
      ]
     },
     "execution_count": 9,
     "metadata": {},
     "output_type": "execute_result"
    }
   ],
   "source": [
    "test_final = pd.merge(test, postulantes, on='idpostulante', how='left')\n",
    "test_final.sample(5)"
   ]
  },
  {
   "cell_type": "code",
   "execution_count": 10,
   "metadata": {},
   "outputs": [
    {
     "name": "stdout",
     "output_type": "stream",
     "text": [
      "<class 'pandas.core.frame.DataFrame'>\n",
      "Int64Index: 100000 entries, 0 to 99999\n",
      "Data columns (total 7 columns):\n",
      "id                 100000 non-null int64\n",
      "idaviso            100000 non-null int64\n",
      "idpostulante       100000 non-null object\n",
      "estudios           94388 non-null float64\n",
      "esta_estudiando    94388 non-null float64\n",
      "sexo               97019 non-null object\n",
      "rango_edad         97019 non-null float64\n",
      "dtypes: float64(3), int64(2), object(2)\n",
      "memory usage: 6.1+ MB\n"
     ]
    }
   ],
   "source": [
    "test_final.info()"
   ]
  },
  {
   "cell_type": "code",
   "execution_count": 11,
   "metadata": {},
   "outputs": [
    {
     "name": "stdout",
     "output_type": "stream",
     "text": [
      "<class 'pandas.core.frame.DataFrame'>\n",
      "Int64Index: 100000 entries, 0 to 99999\n",
      "Data columns (total 7 columns):\n",
      "id                 100000 non-null int64\n",
      "idaviso            100000 non-null int64\n",
      "idpostulante       100000 non-null object\n",
      "estudios           100000 non-null float64\n",
      "esta_estudiando    100000 non-null float64\n",
      "sexo               100000 non-null int64\n",
      "rango_edad         100000 non-null float64\n",
      "dtypes: float64(3), int64(3), object(1)\n",
      "memory usage: 6.1+ MB\n"
     ]
    }
   ],
   "source": [
    "test_final.loc[(test_final['estudios'].isnull()), 'estudios'] = 0\n",
    "test_final.loc[(test_final['esta_estudiando'].isnull()), 'esta_estudiando'] = 0\n",
    "test_final.loc[(test_final['sexo'].isnull()), 'sexo'] = 0\n",
    "test_final.loc[(test_final['rango_edad'].isnull()), 'rango_edad'] = 0\n",
    "\n",
    "test_final.info()"
   ]
  },
  {
   "cell_type": "markdown",
   "metadata": {},
   "source": [
    "## Merge del Test Final con los detalles de los avisos"
   ]
  },
  {
   "cell_type": "code",
   "execution_count": 12,
   "metadata": {},
   "outputs": [
    {
     "data": {
      "text/html": [
       "<div>\n",
       "<style scoped>\n",
       "    .dataframe tbody tr th:only-of-type {\n",
       "        vertical-align: middle;\n",
       "    }\n",
       "\n",
       "    .dataframe tbody tr th {\n",
       "        vertical-align: top;\n",
       "    }\n",
       "\n",
       "    .dataframe thead th {\n",
       "        text-align: right;\n",
       "    }\n",
       "</style>\n",
       "<table border=\"1\" class=\"dataframe\">\n",
       "  <thead>\n",
       "    <tr style=\"text-align: right;\">\n",
       "      <th></th>\n",
       "      <th>id</th>\n",
       "      <th>idaviso</th>\n",
       "      <th>idpostulante</th>\n",
       "      <th>estudios</th>\n",
       "      <th>esta_estudiando</th>\n",
       "      <th>sexo</th>\n",
       "      <th>rango_edad</th>\n",
       "      <th>titulo</th>\n",
       "      <th>descripcion</th>\n",
       "      <th>nombre_zona</th>\n",
       "      <th>tipo_de_trabajo</th>\n",
       "      <th>nivel_laboral</th>\n",
       "      <th>nombre_area</th>\n",
       "      <th>nombre_empresa</th>\n",
       "    </tr>\n",
       "  </thead>\n",
       "  <tbody>\n",
       "    <tr>\n",
       "      <th>35914</th>\n",
       "      <td>35914</td>\n",
       "      <td>1112410823</td>\n",
       "      <td>EV0bo</td>\n",
       "      <td>0.0</td>\n",
       "      <td>0.0</td>\n",
       "      <td>0</td>\n",
       "      <td>0.0</td>\n",
       "      <td>Estudiante de Ingeniería</td>\n",
       "      <td>&lt;p&gt;&lt;span style=\"\"&gt;Se busca un estudiante de In...</td>\n",
       "      <td>3.0</td>\n",
       "      <td>10.0</td>\n",
       "      <td>2.0</td>\n",
       "      <td>Ventas</td>\n",
       "      <td>Infinity Rotomolding</td>\n",
       "    </tr>\n",
       "    <tr>\n",
       "      <th>30413</th>\n",
       "      <td>30413</td>\n",
       "      <td>1112377689</td>\n",
       "      <td>KBrM66d</td>\n",
       "      <td>2.0</td>\n",
       "      <td>0.0</td>\n",
       "      <td>1</td>\n",
       "      <td>2.0</td>\n",
       "      <td>Vendedores/as</td>\n",
       "      <td>&lt;p&gt;Nos encontramos en búsqueda de candidatos c...</td>\n",
       "      <td>3.0</td>\n",
       "      <td>10.0</td>\n",
       "      <td>3.0</td>\n",
       "      <td>Ventas</td>\n",
       "      <td>Megatlon</td>\n",
       "    </tr>\n",
       "    <tr>\n",
       "      <th>92088</th>\n",
       "      <td>92088</td>\n",
       "      <td>1112473722</td>\n",
       "      <td>E8De24</td>\n",
       "      <td>3.0</td>\n",
       "      <td>0.0</td>\n",
       "      <td>1</td>\n",
       "      <td>3.0</td>\n",
       "      <td>Technical Leader - CABA</td>\n",
       "      <td>&lt;p&gt;&lt;strong&gt;Stefanini IT Solutions&lt;/strong&gt; som...</td>\n",
       "      <td>3.0</td>\n",
       "      <td>10.0</td>\n",
       "      <td>3.0</td>\n",
       "      <td>Tecnologia / Sistemas</td>\n",
       "      <td>Stefanini Argentina SRL</td>\n",
       "    </tr>\n",
       "    <tr>\n",
       "      <th>32455</th>\n",
       "      <td>32455</td>\n",
       "      <td>1112393989</td>\n",
       "      <td>eL8pmB</td>\n",
       "      <td>4.0</td>\n",
       "      <td>0.0</td>\n",
       "      <td>1</td>\n",
       "      <td>3.0</td>\n",
       "      <td>OPERADORES TELEFÓNICOS  TELEMARKETERS SIN EXP...</td>\n",
       "      <td>&lt;p&gt;¿Estás en búsqueda trabajo pero no tenes ex...</td>\n",
       "      <td>3.0</td>\n",
       "      <td>2.0</td>\n",
       "      <td>1.0</td>\n",
       "      <td>Ventas</td>\n",
       "      <td>APPLICA - Humanos con Recursos</td>\n",
       "    </tr>\n",
       "    <tr>\n",
       "      <th>70496</th>\n",
       "      <td>70496</td>\n",
       "      <td>1112461820</td>\n",
       "      <td>awpRXN</td>\n",
       "      <td>4.0</td>\n",
       "      <td>0.0</td>\n",
       "      <td>2</td>\n",
       "      <td>3.0</td>\n",
       "      <td>Auditor de procesos- Terminal Automotriz Japonesa</td>\n",
       "      <td>&lt;p&gt;Para Terminal Automotriz Japonesa seleccion...</td>\n",
       "      <td>3.0</td>\n",
       "      <td>10.0</td>\n",
       "      <td>3.0</td>\n",
       "      <td>Auditoría</td>\n",
       "      <td>F &amp; C Consultores y Asociados</td>\n",
       "    </tr>\n",
       "  </tbody>\n",
       "</table>\n",
       "</div>"
      ],
      "text/plain": [
       "          id     idaviso idpostulante  estudios  esta_estudiando  sexo  \\\n",
       "35914  35914  1112410823        EV0bo       0.0              0.0     0   \n",
       "30413  30413  1112377689      KBrM66d       2.0              0.0     1   \n",
       "92088  92088  1112473722       E8De24       3.0              0.0     1   \n",
       "32455  32455  1112393989       eL8pmB       4.0              0.0     1   \n",
       "70496  70496  1112461820       awpRXN       4.0              0.0     2   \n",
       "\n",
       "       rango_edad                                             titulo  \\\n",
       "35914         0.0                           Estudiante de Ingeniería   \n",
       "30413         2.0                                      Vendedores/as   \n",
       "92088         3.0                            Technical Leader - CABA   \n",
       "32455         3.0  OPERADORES TELEFÓNICOS  TELEMARKETERS SIN EXP...   \n",
       "70496         3.0  Auditor de procesos- Terminal Automotriz Japonesa   \n",
       "\n",
       "                                             descripcion  nombre_zona  \\\n",
       "35914  <p><span style=\"\">Se busca un estudiante de In...          3.0   \n",
       "30413  <p>Nos encontramos en búsqueda de candidatos c...          3.0   \n",
       "92088  <p><strong>Stefanini IT Solutions</strong> som...          3.0   \n",
       "32455  <p>¿Estás en búsqueda trabajo pero no tenes ex...          3.0   \n",
       "70496  <p>Para Terminal Automotriz Japonesa seleccion...          3.0   \n",
       "\n",
       "       tipo_de_trabajo  nivel_laboral            nombre_area  \\\n",
       "35914             10.0            2.0                 Ventas   \n",
       "30413             10.0            3.0                 Ventas   \n",
       "92088             10.0            3.0  Tecnologia / Sistemas   \n",
       "32455              2.0            1.0                 Ventas   \n",
       "70496             10.0            3.0              Auditoría   \n",
       "\n",
       "                       nombre_empresa  \n",
       "35914            Infinity Rotomolding  \n",
       "30413                        Megatlon  \n",
       "92088         Stefanini Argentina SRL  \n",
       "32455  APPLICA - Humanos con Recursos  \n",
       "70496   F & C Consultores y Asociados  "
      ]
     },
     "execution_count": 12,
     "metadata": {},
     "output_type": "execute_result"
    }
   ],
   "source": [
    "test_final = pd.merge(test_final, avisos_detalles, on='idaviso', how='left')\n",
    "test_final.sample(5)"
   ]
  },
  {
   "cell_type": "code",
   "execution_count": 13,
   "metadata": {},
   "outputs": [
    {
     "name": "stdout",
     "output_type": "stream",
     "text": [
      "<class 'pandas.core.frame.DataFrame'>\n",
      "Int64Index: 100000 entries, 0 to 99999\n",
      "Data columns (total 14 columns):\n",
      "id                 100000 non-null int64\n",
      "idaviso            100000 non-null int64\n",
      "idpostulante       100000 non-null object\n",
      "estudios           100000 non-null float64\n",
      "esta_estudiando    100000 non-null float64\n",
      "sexo               100000 non-null int64\n",
      "rango_edad         100000 non-null float64\n",
      "titulo             95552 non-null object\n",
      "descripcion        95552 non-null object\n",
      "nombre_zona        95552 non-null float64\n",
      "tipo_de_trabajo    95552 non-null float64\n",
      "nivel_laboral      95552 non-null float64\n",
      "nombre_area        95552 non-null object\n",
      "nombre_empresa     95540 non-null object\n",
      "dtypes: float64(6), int64(3), object(5)\n",
      "memory usage: 11.4+ MB\n"
     ]
    }
   ],
   "source": [
    "test_final.info()"
   ]
  },
  {
   "cell_type": "code",
   "execution_count": 14,
   "metadata": {},
   "outputs": [
    {
     "name": "stdout",
     "output_type": "stream",
     "text": [
      "<class 'pandas.core.frame.DataFrame'>\n",
      "Int64Index: 100000 entries, 0 to 99999\n",
      "Data columns (total 14 columns):\n",
      "id                 100000 non-null int64\n",
      "idaviso            100000 non-null int64\n",
      "idpostulante       100000 non-null object\n",
      "nivel_estudios     100000 non-null float64\n",
      "esta_estudiando    100000 non-null float64\n",
      "sexo               100000 non-null int64\n",
      "rango_edad         100000 non-null float64\n",
      "titulo             95552 non-null object\n",
      "descripcion        95552 non-null object\n",
      "nombre_zona        100000 non-null float64\n",
      "tipo_de_trabajo    100000 non-null float64\n",
      "nivel_laboral      100000 non-null float64\n",
      "nombre_area        95552 non-null object\n",
      "nombre_empresa     95540 non-null object\n",
      "dtypes: float64(6), int64(3), object(5)\n",
      "memory usage: 11.4+ MB\n"
     ]
    }
   ],
   "source": [
    "test_final.loc[(test_final['nombre_zona'].isnull()), 'nombre_zona'] = 0\n",
    "test_final.loc[(test_final['tipo_de_trabajo'].isnull()), 'tipo_de_trabajo'] = 0\n",
    "test_final.loc[(test_final['nivel_laboral'].isnull()), 'nivel_laboral'] = 0\n",
    "\n",
    "test_final.rename(columns={'estudios':'nivel_estudios'}, inplace=True)\n",
    "\n",
    "test_final.info()"
   ]
  },
  {
   "cell_type": "code",
   "execution_count": 15,
   "metadata": {},
   "outputs": [
    {
     "name": "stdout",
     "output_type": "stream",
     "text": [
      "<class 'pandas.core.frame.DataFrame'>\n",
      "Int64Index: 100000 entries, 0 to 99999\n",
      "Data columns (total 14 columns):\n",
      "id                 100000 non-null int64\n",
      "idaviso            100000 non-null int64\n",
      "idpostulante       100000 non-null object\n",
      "nivel_estudios     100000 non-null category\n",
      "esta_estudiando    100000 non-null category\n",
      "sexo               100000 non-null category\n",
      "rango_edad         100000 non-null category\n",
      "titulo             95552 non-null object\n",
      "descripcion        95552 non-null object\n",
      "nombre_zona        100000 non-null category\n",
      "tipo_de_trabajo    100000 non-null category\n",
      "nivel_laboral      100000 non-null category\n",
      "nombre_area        95552 non-null object\n",
      "nombre_empresa     95540 non-null object\n",
      "dtypes: category(7), int64(2), object(5)\n",
      "memory usage: 6.8+ MB\n"
     ]
    }
   ],
   "source": [
    "test_final['rango_edad'] = test_final['rango_edad'].astype('category')\n",
    "test_final['sexo'] = test_final['sexo'].astype('category') \n",
    "test_final['nivel_estudios'] = test_final['nivel_estudios'].astype('category')\n",
    "test_final['esta_estudiando'] = test_final['esta_estudiando'].astype('category')\n",
    "test_final['tipo_de_trabajo'] = test_final['tipo_de_trabajo'].astype('category')\n",
    "test_final['nivel_laboral'] = test_final['nivel_laboral'].astype('category')\n",
    "test_final['nombre_zona'] = test_final['nombre_zona'].astype('category')\n",
    "\n",
    "test_final.info()"
   ]
  },
  {
   "cell_type": "markdown",
   "metadata": {},
   "source": [
    "## Exportamos a un CSV File el test final"
   ]
  },
  {
   "cell_type": "code",
   "execution_count": 16,
   "metadata": {},
   "outputs": [],
   "source": [
    "test_final.to_csv('test_final.csv', encoding='utf-8', index=False)"
   ]
  }
 ],
 "metadata": {
  "kernelspec": {
   "display_name": "Python 3",
   "language": "python",
   "name": "python3"
  },
  "language_info": {
   "codemirror_mode": {
    "name": "ipython",
    "version": 3
   },
   "file_extension": ".py",
   "mimetype": "text/x-python",
   "name": "python",
   "nbconvert_exporter": "python",
   "pygments_lexer": "ipython3",
   "version": "3.6.4"
  }
 },
 "nbformat": 4,
 "nbformat_minor": 2
}
