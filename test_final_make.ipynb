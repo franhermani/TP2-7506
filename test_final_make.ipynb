{
 "cells": [
  {
   "cell_type": "code",
   "execution_count": 1,
   "metadata": {},
   "outputs": [],
   "source": [
    "import pandas as pd\n",
    "import numpy as np"
   ]
  },
  {
   "cell_type": "code",
   "execution_count": 3,
   "metadata": {},
   "outputs": [],
   "source": [
    "test = pd.read_csv('csv_files/test_final_100k.csv')"
   ]
  },
  {
   "cell_type": "markdown",
   "metadata": {},
   "source": [
    "A continuación vamos a realizar las mismas operaciones con los dataframes de postulantes y avisos que realizamos en el notebook principal, a fin de tener un dataframe test con los features correspondientes para que los algoritmos de Machine Learning puedan predecir los resultados.\n",
    "\n",
    "No realizamos comentarios respecto a las operaciones ya que estos se encuentran en el notebook principal."
   ]
  },
  {
   "cell_type": "markdown",
   "metadata": {},
   "source": [
    "## Información de los postulantes"
   ]
  },
  {
   "cell_type": "markdown",
   "metadata": {},
   "source": [
    "### DF 1: Educación de los postulantes"
   ]
  },
  {
   "cell_type": "code",
   "execution_count": 5,
   "metadata": {},
   "outputs": [
    {
     "name": "stdout",
     "output_type": "stream",
     "text": [
      "<class 'pandas.core.frame.DataFrame'>\n",
      "Int64Index: 447909 entries, 393408 to 530578\n",
      "Data columns (total 3 columns):\n",
      "idpostulante       447909 non-null object\n",
      "estudios           447909 non-null float64\n",
      "esta_estudiando    447909 non-null float64\n",
      "dtypes: float64(2), object(1)\n",
      "memory usage: 13.7+ MB\n"
     ]
    }
   ],
   "source": [
    "postulantes_educ = pd.read_csv('datos_navent_fiuba/h15_fiuba_1_postulantes_educacion.csv')\n",
    "postulantes_educ_2 = pd.read_csv('datos_navent_fiuba/d15_fiuba_1_postulantes_educacion.csv')\n",
    "\n",
    "postulantes_educ = pd.merge(postulantes_educ, postulantes_educ_2, how='outer')\n",
    "\n",
    "postulantes_educ_2 = pd.read_csv('datos_navent_fiuba/fiuba_1_postulantes_educacion.csv')\n",
    "\n",
    "postulantes_educ = pd.merge(postulantes_educ, postulantes_educ_2, how='outer')\n",
    "\n",
    "postulantes_educ.rename(columns={'nombre':'titulo_univ'}, inplace=True)\n",
    "\n",
    "postulantes_educ.loc[(postulantes_educ[\"titulo_univ\"] == \"Otro\"), 'estudios'] = 1\n",
    "postulantes_educ.loc[(postulantes_educ['titulo_univ'] == 'Secundario'), 'estudios'] = 2\n",
    "postulantes_educ.loc[(postulantes_educ['titulo_univ'] == 'Terciario/Técnico'), 'estudios'] = 3\n",
    "postulantes_educ.loc[(postulantes_educ['titulo_univ'] == 'Universitario'), 'estudios'] = 4\n",
    "postulantes_educ.loc[(postulantes_educ['titulo_univ'] == 'Posgrado'), 'estudios'] = 5\n",
    "postulantes_educ.loc[(postulantes_educ['titulo_univ'] == 'Master'), 'estudios'] = 6\n",
    "postulantes_educ.loc[(postulantes_educ['titulo_univ'] == 'Doctorado'), 'estudios'] = 7\n",
    "\n",
    "postulantes_educ = postulantes_educ.sort_values('estudios', ascending=False)\n",
    "\n",
    "postulantes_educ = postulantes_educ.drop_duplicates('idpostulante')\n",
    "\n",
    "postulantes_educ.loc[(postulantes_educ['estado'] == 'Graduado'), 'esta_estudiando'] = 0\n",
    "postulantes_educ.loc[(postulantes_educ['estado'] == 'Abandonado'), 'esta_estudiando'] = 0\n",
    "postulantes_educ.loc[(postulantes_educ['estado'] == 'En Curso'), 'esta_estudiando'] = 1\n",
    "\n",
    "postulantes_educ.drop(columns={'titulo_univ', 'estado'}, axis=1, inplace=True)\n",
    "\n",
    "postulantes_educ.info()"
   ]
  },
  {
   "cell_type": "markdown",
   "metadata": {},
   "source": [
    "### DF 2: Género y Edad de los postulantes"
   ]
  },
  {
   "cell_type": "code",
   "execution_count": 8,
   "metadata": {},
   "outputs": [
    {
     "name": "stdout",
     "output_type": "stream",
     "text": [
      "<class 'pandas.core.frame.DataFrame'>\n",
      "Int64Index: 478001 entries, 165770 to 147639\n",
      "Data columns (total 3 columns):\n",
      "idpostulante    478001 non-null object\n",
      "sexo            478001 non-null int64\n",
      "rango_edad      478001 non-null float64\n",
      "dtypes: float64(1), int64(1), object(1)\n",
      "memory usage: 14.6+ MB\n"
     ]
    }
   ],
   "source": [
    "postulantes_gen_nac = pd.read_csv('datos_navent_fiuba/h15_fiuba_2_postulantes_genero_y_edad.csv')\n",
    "postulantes_gen_nac_2 = pd.read_csv('datos_navent_fiuba/d15_fiuba_2_postulantes_genero_y_edad.csv')\n",
    "\n",
    "postulantes_gen_nac = pd.merge(postulantes_gen_nac, postulantes_gen_nac_2, how='outer')\n",
    "\n",
    "postulantes_gen_nac_2 = pd.read_csv('datos_navent_fiuba/fiuba_2_postulantes_genero_y_edad.csv')\n",
    "\n",
    "postulantes_gen_nac = pd.merge(postulantes_gen_nac, postulantes_gen_nac_2, how='outer')\n",
    "\n",
    "postulantes_gen_nac = postulantes_gen_nac[postulantes_gen_nac['sexo'] != '0.0']\n",
    "\n",
    "postulantes_gen_nac = postulantes_gen_nac.sort_values('sexo', ascending=True)\n",
    "\n",
    "postulantes_gen_nac = postulantes_gen_nac.drop_duplicates('idpostulante')\n",
    "\n",
    "postulantes_gen_nac = postulantes_gen_nac.rename(columns={'fechanacimiento': 'edad'})\n",
    "\n",
    "fecha_nac = postulantes_gen_nac['edad'].str.split('-')\n",
    "año_nac = fecha_nac.str[0]\n",
    "postulantes_gen_nac['edad'] = año_nac\n",
    "postulantes_gen_nac['edad'] = pd.to_numeric(postulantes_gen_nac['edad'], errors='coerce').fillna(0).astype(np.int64)\n",
    "edad_min = postulantes_gen_nac['edad'] > 2000\n",
    "edad_max = postulantes_gen_nac['edad'] < 1950\n",
    "condicion_final = ((edad_min | edad_max))\n",
    "postulantes_gen_nac = postulantes_gen_nac[np.logical_not(condicion_final)]\n",
    "postulantes_gen_nac['edad'] = postulantes_gen_nac['edad'].apply(lambda x: 2018-x)\n",
    "\n",
    "rango_18_25 = (postulantes_gen_nac['edad'] >= 18) & (postulantes_gen_nac['edad'] <= 25)\n",
    "rango_26_30 = (postulantes_gen_nac['edad'] >= 26) & (postulantes_gen_nac['edad'] <= 30)\n",
    "rango_31_40 = (postulantes_gen_nac['edad'] >= 31) & (postulantes_gen_nac['edad'] <= 40)\n",
    "rango_41_68 = (postulantes_gen_nac['edad'] >= 41) & (postulantes_gen_nac['edad'] <= 68)\n",
    "postulantes_gen_nac.loc[(rango_18_25), 'rango_edad'] = 1\n",
    "postulantes_gen_nac.loc[(rango_26_30), 'rango_edad'] = 2\n",
    "postulantes_gen_nac.loc[(rango_31_40), 'rango_edad'] = 3\n",
    "postulantes_gen_nac.loc[(rango_41_68), 'rango_edad'] = 4\n",
    "\n",
    "postulantes_gen_nac.drop(columns={'edad'}, axis=1, inplace=True)\n",
    "\n",
    "postulantes_gen_nac.loc[(postulantes_gen_nac['sexo'] == 'NO_DECLARA'), 'sexo'] = 0\n",
    "postulantes_gen_nac.loc[(postulantes_gen_nac['sexo'] == 'FEM'),'sexo'] = 1\n",
    "postulantes_gen_nac.loc[(postulantes_gen_nac['sexo'] == 'MASC'),'sexo'] = 2\n",
    "\n",
    "postulantes_gen_nac.info()"
   ]
  },
  {
   "cell_type": "markdown",
   "metadata": {},
   "source": [
    "### Merge de los DF 1 y 2"
   ]
  },
  {
   "cell_type": "code",
   "execution_count": 14,
   "metadata": {},
   "outputs": [
    {
     "name": "stdout",
     "output_type": "stream",
     "text": [
      "<class 'pandas.core.frame.DataFrame'>\n",
      "Int64Index: 487459 entries, 0 to 487458\n",
      "Data columns (total 5 columns):\n",
      "idpostulante       487459 non-null object\n",
      "estudios           447909 non-null float64\n",
      "esta_estudiando    447909 non-null float64\n",
      "sexo               478001 non-null float64\n",
      "rango_edad         478001 non-null float64\n",
      "dtypes: float64(4), object(1)\n",
      "memory usage: 22.3+ MB\n"
     ]
    }
   ],
   "source": [
    "postulantes = pd.merge(postulantes_educ, postulantes_gen_nac, on='idpostulante', how='outer')\n",
    "\n",
    "postulantes.info()"
   ]
  },
  {
   "cell_type": "markdown",
   "metadata": {},
   "source": [
    "## Detalles de los avisos"
   ]
  },
  {
   "cell_type": "code",
   "execution_count": 11,
   "metadata": {},
   "outputs": [
    {
     "name": "stdout",
     "output_type": "stream",
     "text": [
      "<class 'pandas.core.frame.DataFrame'>\n",
      "Int64Index: 24950 entries, 0 to 25549\n",
      "Data columns (total 6 columns):\n",
      "idaviso            24950 non-null int64\n",
      "titulo             24950 non-null object\n",
      "nombre_zona        24950 non-null int64\n",
      "tipo_de_trabajo    24950 non-null int64\n",
      "nivel_laboral      24950 non-null int64\n",
      "nombre_area        24950 non-null object\n",
      "dtypes: int64(4), object(2)\n",
      "memory usage: 1.3+ MB\n"
     ]
    }
   ],
   "source": [
    "avisos_detalles = pd.read_csv('datos_navent_fiuba/h15_fiuba_6_avisos_detalle.csv')\n",
    "avisos_detalles_2 = pd.read_csv('datos_navent_fiuba/d15_fiuba_6_avisos_detalle.csv')\n",
    "\n",
    "avisos_detalles = pd.merge(avisos_detalles, avisos_detalles_2, how='outer')\n",
    "\n",
    "avisos_detalles_2 = pd.read_csv('datos_navent_fiuba/fiuba_6_avisos_detalle.csv')\n",
    "\n",
    "avisos_detalles = pd.merge(avisos_detalles, avisos_detalles_2, how='outer')\n",
    "\n",
    "avisos_detalles = avisos_detalles.drop_duplicates('idaviso')\n",
    "\n",
    "avisos_detalles.drop(columns={'idpais', 'ciudad', 'mapacalle', 'descripcion', 'denominacion_empresa'}, axis=1, inplace=True)\n",
    "\n",
    "avisos_detalles.loc[(avisos_detalles['nombre_zona'] == 'Gran Buenos Aires'),'nombre_zona'] = 3\n",
    "avisos_detalles.loc[(avisos_detalles['nombre_zona'] == 'Capital Federal'),'nombre_zona'] = 2\n",
    "avisos_detalles.loc[(avisos_detalles['nombre_zona'] == 'Buenos Aires (fuera de GBA)'),'nombre_zona'] = 1\n",
    "avisos_detalles.loc[(avisos_detalles['nombre_zona'] == 'GBA Oeste'),'nombre_zona'] = 1\n",
    "avisos_detalles.loc[(avisos_detalles['nombre_zona'] == 'La Plata'),'nombre_zona'] = 1\n",
    "avisos_detalles.loc[(avisos_detalles['nombre_zona'] == 'Ciudad de Mendoza'),'nombre_zona'] = 1\n",
    "avisos_detalles.loc[(avisos_detalles['nombre_zona'] == 'Mendoza'),'nombre_zona'] = 1\n",
    "avisos_detalles.loc[(avisos_detalles['nombre_zona'] == 'Catamarca'),'nombre_zona'] = 1\n",
    "avisos_detalles.loc[(avisos_detalles['nombre_zona'] == 'Rosario'),'nombre_zona'] = 1\n",
    "avisos_detalles.loc[(avisos_detalles['nombre_zona'] == 'Santa Cruz'),'nombre_zona'] = 1\n",
    "avisos_detalles.loc[(avisos_detalles['nombre_zona'] == 'San Juan'),'nombre_zona'] = 1\n",
    "avisos_detalles.loc[(avisos_detalles['nombre_zona'] == 'Cordoba'),'nombre_zona'] = 1\n",
    "avisos_detalles.loc[(avisos_detalles['nombre_zona'] == 'Tucuman'),'nombre_zona'] = 1\n",
    "avisos_detalles.loc[(avisos_detalles['nombre_zona'] == 'Neuquen'),'nombre_zona'] = 1\n",
    "avisos_detalles.loc[(avisos_detalles['nombre_zona'] == 'Santa Fe'),'nombre_zona'] = 1\n",
    "\n",
    "avisos_detalles.loc[(avisos_detalles['tipo_de_trabajo'] == 'Full-time'),'tipo_de_trabajo'] = 10\n",
    "avisos_detalles.loc[(avisos_detalles['tipo_de_trabajo'] == 'Part-time'),'tipo_de_trabajo'] = 9\n",
    "avisos_detalles.loc[(avisos_detalles['tipo_de_trabajo'] == 'Teletrabajo'),'tipo_de_trabajo'] = 8\n",
    "avisos_detalles.loc[(avisos_detalles['tipo_de_trabajo'] == 'Por Horas'),'tipo_de_trabajo'] = 7\n",
    "avisos_detalles.loc[(avisos_detalles['tipo_de_trabajo'] == 'Pasantia'),'tipo_de_trabajo'] = 6\n",
    "avisos_detalles.loc[(avisos_detalles['tipo_de_trabajo'] == 'Temporario'),'tipo_de_trabajo'] = 5\n",
    "avisos_detalles.loc[(avisos_detalles['tipo_de_trabajo'] == 'Por Contrato'),'tipo_de_trabajo'] = 4\n",
    "avisos_detalles.loc[(avisos_detalles['tipo_de_trabajo'] == 'Fines de Semana'),'tipo_de_trabajo'] = 3\n",
    "avisos_detalles.loc[(avisos_detalles['tipo_de_trabajo'] == 'Primer empleo'),'tipo_de_trabajo'] = 2\n",
    "avisos_detalles.loc[(avisos_detalles['tipo_de_trabajo'] == 'Voluntario'),'tipo_de_trabajo'] = 1\n",
    "\n",
    "avisos_detalles.loc[(avisos_detalles['nivel_laboral'] == 'Gerencia / Alta Gerencia / Dirección'),'nivel_laboral'] = 5\n",
    "avisos_detalles.loc[(avisos_detalles['nivel_laboral'] == 'Jefe / Supervisor / Responsable'),'nivel_laboral'] = 4\n",
    "avisos_detalles.loc[(avisos_detalles['nivel_laboral'] == 'Senior / Semi-Senior'),'nivel_laboral'] = 3\n",
    "avisos_detalles.loc[(avisos_detalles['nivel_laboral'] == 'Junior'),'nivel_laboral'] = 2\n",
    "avisos_detalles.loc[(avisos_detalles['nivel_laboral'] == 'Otro'),'nivel_laboral'] = 1\n",
    "\n",
    "avisos_detalles.info()"
   ]
  },
  {
   "cell_type": "markdown",
   "metadata": {},
   "source": [
    "## Merge del Test Final con la información de los postulantes"
   ]
  },
  {
   "cell_type": "code",
   "execution_count": 15,
   "metadata": {},
   "outputs": [
    {
     "data": {
      "text/html": [
       "<div>\n",
       "<style scoped>\n",
       "    .dataframe tbody tr th:only-of-type {\n",
       "        vertical-align: middle;\n",
       "    }\n",
       "\n",
       "    .dataframe tbody tr th {\n",
       "        vertical-align: top;\n",
       "    }\n",
       "\n",
       "    .dataframe thead th {\n",
       "        text-align: right;\n",
       "    }\n",
       "</style>\n",
       "<table border=\"1\" class=\"dataframe\">\n",
       "  <thead>\n",
       "    <tr style=\"text-align: right;\">\n",
       "      <th></th>\n",
       "      <th>id</th>\n",
       "      <th>idaviso</th>\n",
       "      <th>idpostulante</th>\n",
       "      <th>estudios</th>\n",
       "      <th>esta_estudiando</th>\n",
       "      <th>sexo</th>\n",
       "      <th>rango_edad</th>\n",
       "    </tr>\n",
       "  </thead>\n",
       "  <tbody>\n",
       "    <tr>\n",
       "      <th>20294</th>\n",
       "      <td>20294</td>\n",
       "      <td>1112253226</td>\n",
       "      <td>81Bljx</td>\n",
       "      <td>2.0</td>\n",
       "      <td>0.0</td>\n",
       "      <td>2.0</td>\n",
       "      <td>3.0</td>\n",
       "    </tr>\n",
       "    <tr>\n",
       "      <th>94682</th>\n",
       "      <td>94682</td>\n",
       "      <td>1112485262</td>\n",
       "      <td>Y90Neq</td>\n",
       "      <td>6.0</td>\n",
       "      <td>0.0</td>\n",
       "      <td>2.0</td>\n",
       "      <td>3.0</td>\n",
       "    </tr>\n",
       "    <tr>\n",
       "      <th>60110</th>\n",
       "      <td>60110</td>\n",
       "      <td>1112454794</td>\n",
       "      <td>DrzdJJd</td>\n",
       "      <td>4.0</td>\n",
       "      <td>1.0</td>\n",
       "      <td>1.0</td>\n",
       "      <td>3.0</td>\n",
       "    </tr>\n",
       "    <tr>\n",
       "      <th>18025</th>\n",
       "      <td>18025</td>\n",
       "      <td>1112208702</td>\n",
       "      <td>EeOVMJ</td>\n",
       "      <td>3.0</td>\n",
       "      <td>0.0</td>\n",
       "      <td>1.0</td>\n",
       "      <td>4.0</td>\n",
       "    </tr>\n",
       "    <tr>\n",
       "      <th>49603</th>\n",
       "      <td>49603</td>\n",
       "      <td>1112438273</td>\n",
       "      <td>Z9rG9z</td>\n",
       "      <td>4.0</td>\n",
       "      <td>0.0</td>\n",
       "      <td>2.0</td>\n",
       "      <td>4.0</td>\n",
       "    </tr>\n",
       "  </tbody>\n",
       "</table>\n",
       "</div>"
      ],
      "text/plain": [
       "          id     idaviso idpostulante  estudios  esta_estudiando  sexo  \\\n",
       "20294  20294  1112253226       81Bljx       2.0              0.0   2.0   \n",
       "94682  94682  1112485262       Y90Neq       6.0              0.0   2.0   \n",
       "60110  60110  1112454794      DrzdJJd       4.0              1.0   1.0   \n",
       "18025  18025  1112208702       EeOVMJ       3.0              0.0   1.0   \n",
       "49603  49603  1112438273       Z9rG9z       4.0              0.0   2.0   \n",
       "\n",
       "       rango_edad  \n",
       "20294         3.0  \n",
       "94682         3.0  \n",
       "60110         3.0  \n",
       "18025         4.0  \n",
       "49603         4.0  "
      ]
     },
     "execution_count": 15,
     "metadata": {},
     "output_type": "execute_result"
    }
   ],
   "source": [
    "test_final = pd.merge(test, postulantes, on='idpostulante', how='left')\n",
    "test_final.sample(5)"
   ]
  },
  {
   "cell_type": "code",
   "execution_count": 16,
   "metadata": {},
   "outputs": [
    {
     "name": "stdout",
     "output_type": "stream",
     "text": [
      "<class 'pandas.core.frame.DataFrame'>\n",
      "Int64Index: 100000 entries, 0 to 99999\n",
      "Data columns (total 7 columns):\n",
      "id                 100000 non-null int64\n",
      "idaviso            100000 non-null int64\n",
      "idpostulante       100000 non-null object\n",
      "estudios           94388 non-null float64\n",
      "esta_estudiando    94388 non-null float64\n",
      "sexo               97019 non-null float64\n",
      "rango_edad         97019 non-null float64\n",
      "dtypes: float64(4), int64(2), object(1)\n",
      "memory usage: 6.1+ MB\n"
     ]
    }
   ],
   "source": [
    "test_final.info()"
   ]
  },
  {
   "cell_type": "code",
   "execution_count": 17,
   "metadata": {},
   "outputs": [
    {
     "name": "stdout",
     "output_type": "stream",
     "text": [
      "<class 'pandas.core.frame.DataFrame'>\n",
      "Int64Index: 100000 entries, 0 to 99999\n",
      "Data columns (total 7 columns):\n",
      "id                 100000 non-null int64\n",
      "idaviso            100000 non-null int64\n",
      "idpostulante       100000 non-null object\n",
      "estudios           100000 non-null float64\n",
      "esta_estudiando    100000 non-null float64\n",
      "sexo               100000 non-null float64\n",
      "rango_edad         100000 non-null float64\n",
      "dtypes: float64(4), int64(2), object(1)\n",
      "memory usage: 6.1+ MB\n"
     ]
    }
   ],
   "source": [
    "test_final.loc[(test_final['estudios'].isnull()), 'estudios'] = 0\n",
    "test_final.loc[(test_final['esta_estudiando'].isnull()), 'esta_estudiando'] = 0\n",
    "test_final.loc[(test_final['sexo'].isnull()), 'sexo'] = 0\n",
    "test_final.loc[(test_final['rango_edad'].isnull()), 'rango_edad'] = 0\n",
    "\n",
    "test_final.info()"
   ]
  },
  {
   "cell_type": "markdown",
   "metadata": {},
   "source": [
    "## Merge del Test Final con los detalles de los avisos"
   ]
  },
  {
   "cell_type": "code",
   "execution_count": 18,
   "metadata": {},
   "outputs": [
    {
     "data": {
      "text/html": [
       "<div>\n",
       "<style scoped>\n",
       "    .dataframe tbody tr th:only-of-type {\n",
       "        vertical-align: middle;\n",
       "    }\n",
       "\n",
       "    .dataframe tbody tr th {\n",
       "        vertical-align: top;\n",
       "    }\n",
       "\n",
       "    .dataframe thead th {\n",
       "        text-align: right;\n",
       "    }\n",
       "</style>\n",
       "<table border=\"1\" class=\"dataframe\">\n",
       "  <thead>\n",
       "    <tr style=\"text-align: right;\">\n",
       "      <th></th>\n",
       "      <th>id</th>\n",
       "      <th>idaviso</th>\n",
       "      <th>idpostulante</th>\n",
       "      <th>estudios</th>\n",
       "      <th>esta_estudiando</th>\n",
       "      <th>sexo</th>\n",
       "      <th>rango_edad</th>\n",
       "      <th>titulo</th>\n",
       "      <th>nombre_zona</th>\n",
       "      <th>tipo_de_trabajo</th>\n",
       "      <th>nivel_laboral</th>\n",
       "      <th>nombre_area</th>\n",
       "    </tr>\n",
       "  </thead>\n",
       "  <tbody>\n",
       "    <tr>\n",
       "      <th>97873</th>\n",
       "      <td>97873</td>\n",
       "      <td>1112503097</td>\n",
       "      <td>19GdGL</td>\n",
       "      <td>3.0</td>\n",
       "      <td>0.0</td>\n",
       "      <td>1.0</td>\n",
       "      <td>4.0</td>\n",
       "      <td>Auxiliares de instalaciones Pilar y Moreno</td>\n",
       "      <td>3.0</td>\n",
       "      <td>9.0</td>\n",
       "      <td>2.0</td>\n",
       "      <td>Telecomunicaciones</td>\n",
       "    </tr>\n",
       "    <tr>\n",
       "      <th>5058</th>\n",
       "      <td>5058</td>\n",
       "      <td>1111513745</td>\n",
       "      <td>1jxR8Q</td>\n",
       "      <td>0.0</td>\n",
       "      <td>0.0</td>\n",
       "      <td>2.0</td>\n",
       "      <td>3.0</td>\n",
       "      <td>Secretaria Administrativa / Recepcionista  Ro...</td>\n",
       "      <td>3.0</td>\n",
       "      <td>10.0</td>\n",
       "      <td>3.0</td>\n",
       "      <td>Recepcionista</td>\n",
       "    </tr>\n",
       "    <tr>\n",
       "      <th>47462</th>\n",
       "      <td>47462</td>\n",
       "      <td>1112431336</td>\n",
       "      <td>NPx4wJ</td>\n",
       "      <td>3.0</td>\n",
       "      <td>0.0</td>\n",
       "      <td>1.0</td>\n",
       "      <td>3.0</td>\n",
       "      <td>Analista Comercio Exterior / Internacional</td>\n",
       "      <td>3.0</td>\n",
       "      <td>10.0</td>\n",
       "      <td>3.0</td>\n",
       "      <td>Compras Internacionales/Importación</td>\n",
       "    </tr>\n",
       "    <tr>\n",
       "      <th>63107</th>\n",
       "      <td>63107</td>\n",
       "      <td>1112457238</td>\n",
       "      <td>N5EvOV</td>\n",
       "      <td>3.0</td>\n",
       "      <td>1.0</td>\n",
       "      <td>1.0</td>\n",
       "      <td>3.0</td>\n",
       "      <td>NaN</td>\n",
       "      <td>NaN</td>\n",
       "      <td>NaN</td>\n",
       "      <td>NaN</td>\n",
       "      <td>NaN</td>\n",
       "    </tr>\n",
       "    <tr>\n",
       "      <th>79351</th>\n",
       "      <td>79351</td>\n",
       "      <td>1112464687</td>\n",
       "      <td>RzMKKwq</td>\n",
       "      <td>4.0</td>\n",
       "      <td>1.0</td>\n",
       "      <td>2.0</td>\n",
       "      <td>2.0</td>\n",
       "      <td>Ejecutivo Comercial</td>\n",
       "      <td>3.0</td>\n",
       "      <td>10.0</td>\n",
       "      <td>2.0</td>\n",
       "      <td>Comercial</td>\n",
       "    </tr>\n",
       "  </tbody>\n",
       "</table>\n",
       "</div>"
      ],
      "text/plain": [
       "          id     idaviso idpostulante  estudios  esta_estudiando  sexo  \\\n",
       "97873  97873  1112503097       19GdGL       3.0              0.0   1.0   \n",
       "5058    5058  1111513745       1jxR8Q       0.0              0.0   2.0   \n",
       "47462  47462  1112431336       NPx4wJ       3.0              0.0   1.0   \n",
       "63107  63107  1112457238       N5EvOV       3.0              1.0   1.0   \n",
       "79351  79351  1112464687      RzMKKwq       4.0              1.0   2.0   \n",
       "\n",
       "       rango_edad                                             titulo  \\\n",
       "97873         4.0         Auxiliares de instalaciones Pilar y Moreno   \n",
       "5058          3.0  Secretaria Administrativa / Recepcionista  Ro...   \n",
       "47462         3.0         Analista Comercio Exterior / Internacional   \n",
       "63107         3.0                                                NaN   \n",
       "79351         2.0                                Ejecutivo Comercial   \n",
       "\n",
       "       nombre_zona  tipo_de_trabajo  nivel_laboral  \\\n",
       "97873          3.0              9.0            2.0   \n",
       "5058           3.0             10.0            3.0   \n",
       "47462          3.0             10.0            3.0   \n",
       "63107          NaN              NaN            NaN   \n",
       "79351          3.0             10.0            2.0   \n",
       "\n",
       "                               nombre_area  \n",
       "97873                   Telecomunicaciones  \n",
       "5058                         Recepcionista  \n",
       "47462  Compras Internacionales/Importación  \n",
       "63107                                  NaN  \n",
       "79351                            Comercial  "
      ]
     },
     "execution_count": 18,
     "metadata": {},
     "output_type": "execute_result"
    }
   ],
   "source": [
    "test_final = pd.merge(test_final, avisos_detalles, on='idaviso', how='left')\n",
    "test_final.sample(5)"
   ]
  },
  {
   "cell_type": "code",
   "execution_count": 19,
   "metadata": {},
   "outputs": [
    {
     "name": "stdout",
     "output_type": "stream",
     "text": [
      "<class 'pandas.core.frame.DataFrame'>\n",
      "Int64Index: 100000 entries, 0 to 99999\n",
      "Data columns (total 12 columns):\n",
      "id                 100000 non-null int64\n",
      "idaviso            100000 non-null int64\n",
      "idpostulante       100000 non-null object\n",
      "estudios           100000 non-null float64\n",
      "esta_estudiando    100000 non-null float64\n",
      "sexo               100000 non-null float64\n",
      "rango_edad         100000 non-null float64\n",
      "titulo             95552 non-null object\n",
      "nombre_zona        95552 non-null float64\n",
      "tipo_de_trabajo    95552 non-null float64\n",
      "nivel_laboral      95552 non-null float64\n",
      "nombre_area        95552 non-null object\n",
      "dtypes: float64(7), int64(2), object(3)\n",
      "memory usage: 9.9+ MB\n"
     ]
    }
   ],
   "source": [
    "test_final.info()"
   ]
  },
  {
   "cell_type": "code",
   "execution_count": 20,
   "metadata": {},
   "outputs": [
    {
     "name": "stdout",
     "output_type": "stream",
     "text": [
      "<class 'pandas.core.frame.DataFrame'>\n",
      "Int64Index: 100000 entries, 0 to 99999\n",
      "Data columns (total 12 columns):\n",
      "id                 100000 non-null int64\n",
      "idaviso            100000 non-null int64\n",
      "idpostulante       100000 non-null object\n",
      "nivel_estudios     100000 non-null float64\n",
      "esta_estudiando    100000 non-null float64\n",
      "sexo               100000 non-null float64\n",
      "rango_edad         100000 non-null float64\n",
      "titulo             95552 non-null object\n",
      "nombre_zona        100000 non-null float64\n",
      "tipo_de_trabajo    100000 non-null float64\n",
      "nivel_laboral      100000 non-null float64\n",
      "nombre_area        95552 non-null object\n",
      "dtypes: float64(7), int64(2), object(3)\n",
      "memory usage: 9.9+ MB\n"
     ]
    }
   ],
   "source": [
    "test_final.loc[(test_final['nombre_zona'].isnull()), 'nombre_zona'] = 0\n",
    "test_final.loc[(test_final['tipo_de_trabajo'].isnull()), 'tipo_de_trabajo'] = 0\n",
    "test_final.loc[(test_final['nivel_laboral'].isnull()), 'nivel_laboral'] = 0\n",
    "\n",
    "test_final.rename(columns={'estudios':'nivel_estudios'}, inplace=True)\n",
    "\n",
    "test_final.info()"
   ]
  },
  {
   "cell_type": "code",
   "execution_count": 21,
   "metadata": {},
   "outputs": [
    {
     "name": "stdout",
     "output_type": "stream",
     "text": [
      "<class 'pandas.core.frame.DataFrame'>\n",
      "Int64Index: 100000 entries, 0 to 99999\n",
      "Data columns (total 12 columns):\n",
      "id                 100000 non-null int64\n",
      "idaviso            100000 non-null int64\n",
      "idpostulante       100000 non-null object\n",
      "nivel_estudios     100000 non-null category\n",
      "esta_estudiando    100000 non-null category\n",
      "sexo               100000 non-null category\n",
      "rango_edad         100000 non-null category\n",
      "titulo             95552 non-null object\n",
      "nombre_zona        100000 non-null category\n",
      "tipo_de_trabajo    100000 non-null category\n",
      "nivel_laboral      100000 non-null category\n",
      "nombre_area        95552 non-null object\n",
      "dtypes: category(7), int64(2), object(3)\n",
      "memory usage: 5.2+ MB\n"
     ]
    }
   ],
   "source": [
    "test_final['rango_edad'] = test_final['rango_edad'].astype('category')\n",
    "test_final['sexo'] = test_final['sexo'].astype('category') \n",
    "test_final['nivel_estudios'] = test_final['nivel_estudios'].astype('category')\n",
    "test_final['esta_estudiando'] = test_final['esta_estudiando'].astype('category')\n",
    "test_final['tipo_de_trabajo'] = test_final['tipo_de_trabajo'].astype('category')\n",
    "test_final['nivel_laboral'] = test_final['nivel_laboral'].astype('category')\n",
    "test_final['nombre_zona'] = test_final['nombre_zona'].astype('category')\n",
    "\n",
    "test_final.info()"
   ]
  },
  {
   "cell_type": "code",
   "execution_count": 22,
   "metadata": {},
   "outputs": [],
   "source": [
    "test_final = test_final[['id','idaviso','idpostulante','rango_edad','sexo',\\\n",
    "                         'nivel_estudios','esta_estudiando','titulo','tipo_de_trabajo',\\\n",
    "                         'nivel_laboral','nombre_zona','nombre_area']]"
   ]
  },
  {
   "cell_type": "markdown",
   "metadata": {},
   "source": [
    "## Exportamos a un CSV File el test final"
   ]
  },
  {
   "cell_type": "code",
   "execution_count": 23,
   "metadata": {},
   "outputs": [],
   "source": [
    "test_final.to_csv('csv_files/test_final.csv', encoding='utf-8', index=False)"
   ]
  },
  {
   "cell_type": "markdown",
   "metadata": {},
   "source": [
    "## Aplicamos Feature Engineering"
   ]
  },
  {
   "cell_type": "markdown",
   "metadata": {},
   "source": [
    "A continuación, añadiremos los features que desarrollamos en el notebook 'feature_engineering' al archivo test final. No emitiremos comentarios sobre las operaciones realizadas, ya que éstos se encuentran en el notebook mencionado."
   ]
  },
  {
   "cell_type": "code",
   "execution_count": 37,
   "metadata": {},
   "outputs": [],
   "source": [
    "test_final = pd.read_csv('csv_files/test_final.csv')"
   ]
  },
  {
   "cell_type": "code",
   "execution_count": 39,
   "metadata": {},
   "outputs": [],
   "source": [
    "estudios_vs_laboral_t = pd.read_csv('csv_files/estudios_vs_laboral_t.csv')\n",
    "\n",
    "estudiando_vs_tipo_trabajo_t = pd.read_csv('csv_files/estudiando_vs_tipo_trabajo_t.csv')\n",
    "\n",
    "edad_vs_tipo_trabajo_t = pd.read_csv('csv_files/edad_vs_tipo_trabajo_t.csv')\n",
    "\n",
    "#edad_vs_zona_t = pd.read_csv('csv_files/edad_vs_zona_t.csv')"
   ]
  },
  {
   "cell_type": "code",
   "execution_count": 40,
   "metadata": {},
   "outputs": [],
   "source": [
    "n_estudios = 7\n",
    "for index, row in estudios_vs_laboral_t.iterrows():\n",
    "    for i in range(1,n_estudios+1):\n",
    "        peso = row[i]\n",
    "        nivel_estudios = i\n",
    "        nivel_laboral = index+1\n",
    "        relacion = (test_final['nivel_estudios'] == nivel_estudios) & (test_final['nivel_laboral'] == nivel_laboral)\n",
    "        test_final.loc[(relacion), 'estudios_vs_laboral'] = peso"
   ]
  },
  {
   "cell_type": "code",
   "execution_count": 41,
   "metadata": {},
   "outputs": [],
   "source": [
    "n_trabajos = 10\n",
    "for index, row in estudiando_vs_tipo_trabajo_t.iterrows():\n",
    "    for i in range(1,n_trabajos+1):\n",
    "        peso = row[i]\n",
    "        tipo_trabajo = i\n",
    "        esta_estudiando = index\n",
    "        relacion = (test_final['tipo_de_trabajo'] == tipo_trabajo) & (test_final['esta_estudiando'] == esta_estudiando)\n",
    "        test_final.loc[(relacion), 'estudia_vs_tipo_trabajo'] = peso"
   ]
  },
  {
   "cell_type": "code",
   "execution_count": 42,
   "metadata": {},
   "outputs": [],
   "source": [
    "n_trabajos = 10\n",
    "for index, row in edad_vs_tipo_trabajo_t.iterrows():\n",
    "    for i in range(1,n_trabajos+1):\n",
    "        peso = row[i]\n",
    "        tipo_trabajo = i\n",
    "        rango_edad = index+1\n",
    "        relacion = (test_final['tipo_de_trabajo'] == tipo_trabajo) & (test_final['rango_edad'] == rango_edad)\n",
    "        test_final.loc[(relacion), 'edad_vs_tipo_trabajo'] = peso"
   ]
  },
  {
   "cell_type": "code",
   "execution_count": 43,
   "metadata": {},
   "outputs": [],
   "source": [
    "#n_zonas = 3\n",
    "#for index, row in edad_vs_zona_t.iterrows():\n",
    "#    for i in range(2,n_zonas+1):\n",
    "#        peso = row[i]\n",
    "#        nombre_zona = i\n",
    "#        rango_edad = index+1\n",
    "#        relacion = (test_final['nombre_zona'] == nombre_zona) & (test_final['rango_edad'] == rango_edad)\n",
    "#        test_final.loc[(relacion), 'edad_vs_zona'] = peso"
   ]
  },
  {
   "cell_type": "code",
   "execution_count": 44,
   "metadata": {},
   "outputs": [],
   "source": [
    "test_final.loc[(test_final['estudios_vs_laboral'].isnull()), 'estudios_vs_laboral'] = 0\n",
    "test_final.loc[(test_final['estudia_vs_tipo_trabajo'].isnull()), 'estudia_vs_tipo_trabajo'] = 0\n",
    "test_final.loc[(test_final['edad_vs_tipo_trabajo'].isnull()), 'edad_vs_tipo_trabajo'] = 0\n",
    "#test_final.loc[(test_final['edad_vs_zona'].isnull()), 'edad_vs_zona'] = 0"
   ]
  },
  {
   "cell_type": "code",
   "execution_count": 45,
   "metadata": {},
   "outputs": [
    {
     "data": {
      "text/html": [
       "<div>\n",
       "<style scoped>\n",
       "    .dataframe tbody tr th:only-of-type {\n",
       "        vertical-align: middle;\n",
       "    }\n",
       "\n",
       "    .dataframe tbody tr th {\n",
       "        vertical-align: top;\n",
       "    }\n",
       "\n",
       "    .dataframe thead th {\n",
       "        text-align: right;\n",
       "    }\n",
       "</style>\n",
       "<table border=\"1\" class=\"dataframe\">\n",
       "  <thead>\n",
       "    <tr style=\"text-align: right;\">\n",
       "      <th></th>\n",
       "      <th>id</th>\n",
       "      <th>idaviso</th>\n",
       "      <th>idpostulante</th>\n",
       "      <th>rango_edad</th>\n",
       "      <th>sexo</th>\n",
       "      <th>nivel_estudios</th>\n",
       "      <th>esta_estudiando</th>\n",
       "      <th>titulo</th>\n",
       "      <th>tipo_de_trabajo</th>\n",
       "      <th>nivel_laboral</th>\n",
       "      <th>nombre_zona</th>\n",
       "      <th>nombre_area</th>\n",
       "      <th>estudios_vs_laboral</th>\n",
       "      <th>estudia_vs_tipo_trabajo</th>\n",
       "      <th>edad_vs_tipo_trabajo</th>\n",
       "    </tr>\n",
       "  </thead>\n",
       "  <tbody>\n",
       "    <tr>\n",
       "      <th>64097</th>\n",
       "      <td>64097</td>\n",
       "      <td>1112457811</td>\n",
       "      <td>VNPkxQM</td>\n",
       "      <td>1.0</td>\n",
       "      <td>1.0</td>\n",
       "      <td>4.0</td>\n",
       "      <td>1.0</td>\n",
       "      <td>GESTORES DE COBRANZA TELEFONICOS</td>\n",
       "      <td>9.0</td>\n",
       "      <td>1.0</td>\n",
       "      <td>3.0</td>\n",
       "      <td>Call Center</td>\n",
       "      <td>0.068507</td>\n",
       "      <td>0.466237</td>\n",
       "      <td>0.502475</td>\n",
       "    </tr>\n",
       "    <tr>\n",
       "      <th>71003</th>\n",
       "      <td>71003</td>\n",
       "      <td>1112461994</td>\n",
       "      <td>vVYom3e</td>\n",
       "      <td>2.0</td>\n",
       "      <td>2.0</td>\n",
       "      <td>4.0</td>\n",
       "      <td>1.0</td>\n",
       "      <td>OPERADORES TELEFÓNICOS FULLFILMENT</td>\n",
       "      <td>9.0</td>\n",
       "      <td>3.0</td>\n",
       "      <td>3.0</td>\n",
       "      <td>Atención al Cliente</td>\n",
       "      <td>0.640946</td>\n",
       "      <td>0.466237</td>\n",
       "      <td>0.258020</td>\n",
       "    </tr>\n",
       "    <tr>\n",
       "      <th>43882</th>\n",
       "      <td>43882</td>\n",
       "      <td>1112425633</td>\n",
       "      <td>VNPR04j</td>\n",
       "      <td>3.0</td>\n",
       "      <td>1.0</td>\n",
       "      <td>6.0</td>\n",
       "      <td>0.0</td>\n",
       "      <td>NaN</td>\n",
       "      <td>0.0</td>\n",
       "      <td>0.0</td>\n",
       "      <td>0.0</td>\n",
       "      <td>NaN</td>\n",
       "      <td>0.000000</td>\n",
       "      <td>0.000000</td>\n",
       "      <td>0.000000</td>\n",
       "    </tr>\n",
       "    <tr>\n",
       "      <th>63189</th>\n",
       "      <td>63189</td>\n",
       "      <td>1112457348</td>\n",
       "      <td>vVjGVeo</td>\n",
       "      <td>1.0</td>\n",
       "      <td>2.0</td>\n",
       "      <td>4.0</td>\n",
       "      <td>1.0</td>\n",
       "      <td>Personal de carga y descarga.</td>\n",
       "      <td>10.0</td>\n",
       "      <td>3.0</td>\n",
       "      <td>3.0</td>\n",
       "      <td>Mantenimiento y Limpieza</td>\n",
       "      <td>0.640946</td>\n",
       "      <td>0.347169</td>\n",
       "      <td>0.315631</td>\n",
       "    </tr>\n",
       "    <tr>\n",
       "      <th>16118</th>\n",
       "      <td>16118</td>\n",
       "      <td>1112159641</td>\n",
       "      <td>1e1a2N</td>\n",
       "      <td>4.0</td>\n",
       "      <td>1.0</td>\n",
       "      <td>3.0</td>\n",
       "      <td>0.0</td>\n",
       "      <td>1129 Operario de Producción para Textil de Tigre.</td>\n",
       "      <td>10.0</td>\n",
       "      <td>3.0</td>\n",
       "      <td>3.0</td>\n",
       "      <td>Producción</td>\n",
       "      <td>0.659570</td>\n",
       "      <td>0.652831</td>\n",
       "      <td>0.101802</td>\n",
       "    </tr>\n",
       "  </tbody>\n",
       "</table>\n",
       "</div>"
      ],
      "text/plain": [
       "          id     idaviso idpostulante  rango_edad  sexo  nivel_estudios  \\\n",
       "64097  64097  1112457811      VNPkxQM         1.0   1.0             4.0   \n",
       "71003  71003  1112461994      vVYom3e         2.0   2.0             4.0   \n",
       "43882  43882  1112425633      VNPR04j         3.0   1.0             6.0   \n",
       "63189  63189  1112457348      vVjGVeo         1.0   2.0             4.0   \n",
       "16118  16118  1112159641       1e1a2N         4.0   1.0             3.0   \n",
       "\n",
       "       esta_estudiando                                             titulo  \\\n",
       "64097              1.0                   GESTORES DE COBRANZA TELEFONICOS   \n",
       "71003              1.0                 OPERADORES TELEFÓNICOS FULLFILMENT   \n",
       "43882              0.0                                                NaN   \n",
       "63189              1.0                      Personal de carga y descarga.   \n",
       "16118              0.0  1129 Operario de Producción para Textil de Tigre.   \n",
       "\n",
       "       tipo_de_trabajo  nivel_laboral  nombre_zona               nombre_area  \\\n",
       "64097              9.0            1.0          3.0               Call Center   \n",
       "71003              9.0            3.0          3.0       Atención al Cliente   \n",
       "43882              0.0            0.0          0.0                       NaN   \n",
       "63189             10.0            3.0          3.0  Mantenimiento y Limpieza   \n",
       "16118             10.0            3.0          3.0                Producción   \n",
       "\n",
       "       estudios_vs_laboral  estudia_vs_tipo_trabajo  edad_vs_tipo_trabajo  \n",
       "64097             0.068507                 0.466237              0.502475  \n",
       "71003             0.640946                 0.466237              0.258020  \n",
       "43882             0.000000                 0.000000              0.000000  \n",
       "63189             0.640946                 0.347169              0.315631  \n",
       "16118             0.659570                 0.652831              0.101802  "
      ]
     },
     "execution_count": 45,
     "metadata": {},
     "output_type": "execute_result"
    }
   ],
   "source": [
    "test_final.sample(5)"
   ]
  },
  {
   "cell_type": "code",
   "execution_count": 46,
   "metadata": {},
   "outputs": [
    {
     "name": "stdout",
     "output_type": "stream",
     "text": [
      "<class 'pandas.core.frame.DataFrame'>\n",
      "RangeIndex: 100000 entries, 0 to 99999\n",
      "Data columns (total 15 columns):\n",
      "id                         100000 non-null int64\n",
      "idaviso                    100000 non-null int64\n",
      "idpostulante               100000 non-null object\n",
      "rango_edad                 100000 non-null float64\n",
      "sexo                       100000 non-null float64\n",
      "nivel_estudios             100000 non-null float64\n",
      "esta_estudiando            100000 non-null float64\n",
      "titulo                     95552 non-null object\n",
      "tipo_de_trabajo            100000 non-null float64\n",
      "nivel_laboral              100000 non-null float64\n",
      "nombre_zona                100000 non-null float64\n",
      "nombre_area                95552 non-null object\n",
      "estudios_vs_laboral        100000 non-null float64\n",
      "estudia_vs_tipo_trabajo    100000 non-null float64\n",
      "edad_vs_tipo_trabajo       100000 non-null float64\n",
      "dtypes: float64(10), int64(2), object(3)\n",
      "memory usage: 11.4+ MB\n"
     ]
    }
   ],
   "source": [
    "test_final.info()"
   ]
  },
  {
   "cell_type": "markdown",
   "metadata": {},
   "source": [
    "## Exportamos a un CSV File el test final con los nuevos features"
   ]
  },
  {
   "cell_type": "code",
   "execution_count": 47,
   "metadata": {},
   "outputs": [],
   "source": [
    "test_final.to_csv('csv_files/test_final_featured.csv', encoding='utf-8', index=False)"
   ]
  }
 ],
 "metadata": {
  "kernelspec": {
   "display_name": "Python 3",
   "language": "python",
   "name": "python3"
  },
  "language_info": {
   "codemirror_mode": {
    "name": "ipython",
    "version": 3
   },
   "file_extension": ".py",
   "mimetype": "text/x-python",
   "name": "python",
   "nbconvert_exporter": "python",
   "pygments_lexer": "ipython3",
   "version": "3.6.4"
  }
 },
 "nbformat": 4,
 "nbformat_minor": 2
}
