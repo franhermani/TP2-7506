{
 "cells": [
  {
   "cell_type": "code",
   "execution_count": 25,
   "metadata": {},
   "outputs": [],
   "source": [
    "import pandas as pd\n",
    "import numpy as np\n",
    "import matplotlib.pyplot as plt\n",
    "import seaborn as sns\n",
    "\n",
    "from time import time\n",
    "\n",
    "%matplotlib inline"
   ]
  },
  {
   "cell_type": "markdown",
   "metadata": {},
   "source": [
    "### Cargamos el modelo"
   ]
  },
  {
   "cell_type": "code",
   "execution_count": 27,
   "metadata": {},
   "outputs": [],
   "source": [
    "modelo = pd.read_csv('csv_files\\modelo_final.csv')"
   ]
  },
  {
   "cell_type": "code",
   "execution_count": 29,
   "metadata": {},
   "outputs": [
    {
     "data": {
      "text/html": [
       "<div>\n",
       "<style scoped>\n",
       "    .dataframe tbody tr th:only-of-type {\n",
       "        vertical-align: middle;\n",
       "    }\n",
       "\n",
       "    .dataframe tbody tr th {\n",
       "        vertical-align: top;\n",
       "    }\n",
       "\n",
       "    .dataframe thead th {\n",
       "        text-align: right;\n",
       "    }\n",
       "</style>\n",
       "<table border=\"1\" class=\"dataframe\">\n",
       "  <thead>\n",
       "    <tr style=\"text-align: right;\">\n",
       "      <th></th>\n",
       "      <th>idaviso</th>\n",
       "      <th>idpostulante</th>\n",
       "      <th>cant_vistas</th>\n",
       "      <th>rango_edad</th>\n",
       "      <th>sexo</th>\n",
       "      <th>nivel_estudios</th>\n",
       "      <th>esta_estudiando</th>\n",
       "      <th>titulo</th>\n",
       "      <th>descripcion</th>\n",
       "      <th>tipo_de_trabajo</th>\n",
       "      <th>nivel_laboral</th>\n",
       "      <th>nombre_zona</th>\n",
       "      <th>nombre_area</th>\n",
       "      <th>nombre_empresa</th>\n",
       "      <th>sepostulo</th>\n",
       "    </tr>\n",
       "  </thead>\n",
       "  <tbody>\n",
       "    <tr>\n",
       "      <th>192041</th>\n",
       "      <td>1112473961</td>\n",
       "      <td>GNZ0RAK</td>\n",
       "      <td>1.0</td>\n",
       "      <td>1.0</td>\n",
       "      <td>1</td>\n",
       "      <td>2.0</td>\n",
       "      <td>0.0</td>\n",
       "      <td>Vendedores /as</td>\n",
       "      <td>&lt;p&gt;&lt;span style=\"\"&gt;Importante Concesionario PEU...</td>\n",
       "      <td>10</td>\n",
       "      <td>3</td>\n",
       "      <td>3</td>\n",
       "      <td>Ventas</td>\n",
       "      <td>Robayna Peugeot</td>\n",
       "      <td>0</td>\n",
       "    </tr>\n",
       "    <tr>\n",
       "      <th>869947</th>\n",
       "      <td>1112340866</td>\n",
       "      <td>LNwMa4w</td>\n",
       "      <td>1.0</td>\n",
       "      <td>2.0</td>\n",
       "      <td>1</td>\n",
       "      <td>2.0</td>\n",
       "      <td>0.0</td>\n",
       "      <td>Vendedor de local de indumentaria infantil (Pa...</td>\n",
       "      <td>&lt;p&gt;Nos encontramos en la búsqueda de vendedore...</td>\n",
       "      <td>10</td>\n",
       "      <td>3</td>\n",
       "      <td>3</td>\n",
       "      <td>Ventas</td>\n",
       "      <td>Mimo &amp; Co.</td>\n",
       "      <td>1</td>\n",
       "    </tr>\n",
       "    <tr>\n",
       "      <th>857356</th>\n",
       "      <td>1112298100</td>\n",
       "      <td>ZD8kWKR</td>\n",
       "      <td>1.0</td>\n",
       "      <td>1.0</td>\n",
       "      <td>1</td>\n",
       "      <td>4.0</td>\n",
       "      <td>1.0</td>\n",
       "      <td>Ejecutivo de Cuentas en Puerto Madero</td>\n",
       "      <td>&lt;p&gt;&lt;span lang=\"ES\"&gt;Esta es tu oportunidad para...</td>\n",
       "      <td>10</td>\n",
       "      <td>3</td>\n",
       "      <td>3</td>\n",
       "      <td>Comercial</td>\n",
       "      <td>Atento</td>\n",
       "      <td>1</td>\n",
       "    </tr>\n",
       "    <tr>\n",
       "      <th>429663</th>\n",
       "      <td>1112451167</td>\n",
       "      <td>VNxE6jR</td>\n",
       "      <td>1.0</td>\n",
       "      <td>2.0</td>\n",
       "      <td>2</td>\n",
       "      <td>2.0</td>\n",
       "      <td>0.0</td>\n",
       "      <td>SJ - Operario especializado metalúrgico</td>\n",
       "      <td>&lt;p&gt; &lt;/p&gt;Importante empresa metalúrgica ubicada...</td>\n",
       "      <td>10</td>\n",
       "      <td>3</td>\n",
       "      <td>3</td>\n",
       "      <td>Producción</td>\n",
       "      <td>Grupo Gestión</td>\n",
       "      <td>0</td>\n",
       "    </tr>\n",
       "    <tr>\n",
       "      <th>207625</th>\n",
       "      <td>1112402603</td>\n",
       "      <td>RzMj8Yq</td>\n",
       "      <td>1.0</td>\n",
       "      <td>3.0</td>\n",
       "      <td>1</td>\n",
       "      <td>4.0</td>\n",
       "      <td>0.0</td>\n",
       "      <td>Auditor Interno empresa comercial La Plata</td>\n",
       "      <td>&lt;p&gt;Para prestigiosa empresa comercial con sede...</td>\n",
       "      <td>10</td>\n",
       "      <td>3</td>\n",
       "      <td>3</td>\n",
       "      <td>Auditoría</td>\n",
       "      <td>Mook´s Recursos Humanos</td>\n",
       "      <td>0</td>\n",
       "    </tr>\n",
       "  </tbody>\n",
       "</table>\n",
       "</div>"
      ],
      "text/plain": [
       "           idaviso idpostulante  cant_vistas  rango_edad  sexo  \\\n",
       "192041  1112473961      GNZ0RAK          1.0         1.0     1   \n",
       "869947  1112340866      LNwMa4w          1.0         2.0     1   \n",
       "857356  1112298100      ZD8kWKR          1.0         1.0     1   \n",
       "429663  1112451167      VNxE6jR          1.0         2.0     2   \n",
       "207625  1112402603      RzMj8Yq          1.0         3.0     1   \n",
       "\n",
       "        nivel_estudios  esta_estudiando  \\\n",
       "192041             2.0              0.0   \n",
       "869947             2.0              0.0   \n",
       "857356             4.0              1.0   \n",
       "429663             2.0              0.0   \n",
       "207625             4.0              0.0   \n",
       "\n",
       "                                                   titulo  \\\n",
       "192041                                     Vendedores /as   \n",
       "869947  Vendedor de local de indumentaria infantil (Pa...   \n",
       "857356              Ejecutivo de Cuentas en Puerto Madero   \n",
       "429663            SJ - Operario especializado metalúrgico   \n",
       "207625         Auditor Interno empresa comercial La Plata   \n",
       "\n",
       "                                              descripcion  tipo_de_trabajo  \\\n",
       "192041  <p><span style=\"\">Importante Concesionario PEU...               10   \n",
       "869947  <p>Nos encontramos en la búsqueda de vendedore...               10   \n",
       "857356  <p><span lang=\"ES\">Esta es tu oportunidad para...               10   \n",
       "429663  <p> </p>Importante empresa metalúrgica ubicada...               10   \n",
       "207625  <p>Para prestigiosa empresa comercial con sede...               10   \n",
       "\n",
       "        nivel_laboral  nombre_zona nombre_area           nombre_empresa  \\\n",
       "192041              3            3      Ventas          Robayna Peugeot   \n",
       "869947              3            3      Ventas               Mimo & Co.   \n",
       "857356              3            3   Comercial                   Atento   \n",
       "429663              3            3  Producción            Grupo Gestión   \n",
       "207625              3            3   Auditoría  Mook´s Recursos Humanos   \n",
       "\n",
       "        sepostulo  \n",
       "192041          0  \n",
       "869947          1  \n",
       "857356          1  \n",
       "429663          0  \n",
       "207625          0  "
      ]
     },
     "execution_count": 29,
     "metadata": {},
     "output_type": "execute_result"
    }
   ],
   "source": [
    "modelo.sample(5)"
   ]
  },
  {
   "cell_type": "code",
   "execution_count": 31,
   "metadata": {},
   "outputs": [
    {
     "name": "stdout",
     "output_type": "stream",
     "text": [
      "<class 'pandas.core.frame.DataFrame'>\n",
      "RangeIndex: 1000000 entries, 0 to 999999\n",
      "Data columns (total 15 columns):\n",
      "idaviso            1000000 non-null int64\n",
      "idpostulante       1000000 non-null object\n",
      "cant_vistas        1000000 non-null float64\n",
      "rango_edad         1000000 non-null float64\n",
      "sexo               1000000 non-null int64\n",
      "nivel_estudios     1000000 non-null float64\n",
      "esta_estudiando    1000000 non-null float64\n",
      "titulo             1000000 non-null object\n",
      "descripcion        1000000 non-null object\n",
      "tipo_de_trabajo    1000000 non-null int64\n",
      "nivel_laboral      1000000 non-null int64\n",
      "nombre_zona        1000000 non-null int64\n",
      "nombre_area        1000000 non-null object\n",
      "nombre_empresa     999939 non-null object\n",
      "sepostulo          1000000 non-null int64\n",
      "dtypes: float64(4), int64(6), object(5)\n",
      "memory usage: 114.4+ MB\n"
     ]
    }
   ],
   "source": [
    "modelo.info()"
   ]
  },
  {
   "cell_type": "markdown",
   "metadata": {},
   "source": [
    " "
   ]
  },
  {
   "cell_type": "markdown",
   "metadata": {},
   "source": [
    "Nos guardamos en un dataframe alternativo todos los registros con postulaciones efectivas del postulante al aviso en cuestión. Esto será utilizado en los features que aquí abajo construiremos."
   ]
  },
  {
   "cell_type": "code",
   "execution_count": 33,
   "metadata": {},
   "outputs": [
    {
     "data": {
      "text/plain": [
       "1    500000\n",
       "Name: sepostulo, dtype: int64"
      ]
     },
     "execution_count": 33,
     "metadata": {},
     "output_type": "execute_result"
    }
   ],
   "source": [
    "si = modelo['sepostulo'] == 1\n",
    "modelo_si = modelo[si]\n",
    "\n",
    "modelo_si['sepostulo'].value_counts()"
   ]
  },
  {
   "cell_type": "markdown",
   "metadata": {},
   "source": [
    " "
   ]
  },
  {
   "cell_type": "markdown",
   "metadata": {},
   "source": [
    "### Nivel de estudios vs Nivel laboral"
   ]
  },
  {
   "cell_type": "markdown",
   "metadata": {},
   "source": [
    "Nivel de estudios:\n",
    "- 1 = Otro\n",
    "- 2 = Secundario\n",
    "- 3 = Terciario/Técnico\n",
    "- 4 = Universitario\n",
    "- 5 = Posgrado\n",
    "- 6 = Master\n",
    "- 7 = Doctorado"
   ]
  },
  {
   "cell_type": "markdown",
   "metadata": {},
   "source": [
    "Nivel laboral:\n",
    "- 1 = Otro\n",
    "- 2 = Junior\n",
    "- 3 = Senior / Semi-Senior\n",
    "- 4 = Jefe / Supervisor / Responsable\n",
    "- 5 = Gerencia / Alta Gerencia / Dirección"
   ]
  },
  {
   "cell_type": "code",
   "execution_count": 35,
   "metadata": {},
   "outputs": [
    {
     "data": {
      "text/plain": [
       "4.0    254314\n",
       "2.0    147727\n",
       "3.0     69892\n",
       "5.0     15792\n",
       "6.0      9241\n",
       "1.0      2365\n",
       "7.0       669\n",
       "Name: nivel_estudios, dtype: int64"
      ]
     },
     "execution_count": 35,
     "metadata": {},
     "output_type": "execute_result"
    }
   ],
   "source": [
    "modelo_si['nivel_estudios'].value_counts()"
   ]
  },
  {
   "cell_type": "code",
   "execution_count": 37,
   "metadata": {},
   "outputs": [
    {
     "data": {
      "text/plain": [
       "3    326239\n",
       "2    113282\n",
       "1     41199\n",
       "4     15599\n",
       "5      3681\n",
       "Name: nivel_laboral, dtype: int64"
      ]
     },
     "execution_count": 37,
     "metadata": {},
     "output_type": "execute_result"
    }
   ],
   "source": [
    "modelo_si['nivel_laboral'].value_counts()"
   ]
  },
  {
   "cell_type": "markdown",
   "metadata": {},
   "source": [
    " "
   ]
  },
  {
   "cell_type": "markdown",
   "metadata": {},
   "source": [
    "Creamos un dataframe con porcentajes por columnas. De esta forma, el heatmap nos mostrará mejor la incidencia de cada nivel de estudios para cada nivel laboral."
   ]
  },
  {
   "cell_type": "code",
   "execution_count": 39,
   "metadata": {},
   "outputs": [
    {
     "data": {
      "text/html": [
       "<div>\n",
       "<style scoped>\n",
       "    .dataframe tbody tr th:only-of-type {\n",
       "        vertical-align: middle;\n",
       "    }\n",
       "\n",
       "    .dataframe tbody tr th {\n",
       "        vertical-align: top;\n",
       "    }\n",
       "\n",
       "    .dataframe thead th {\n",
       "        text-align: right;\n",
       "    }\n",
       "</style>\n",
       "<table border=\"1\" class=\"dataframe\">\n",
       "  <thead>\n",
       "    <tr style=\"text-align: right;\">\n",
       "      <th>nivel_estudios</th>\n",
       "      <th>1.0</th>\n",
       "      <th>2.0</th>\n",
       "      <th>3.0</th>\n",
       "      <th>4.0</th>\n",
       "      <th>5.0</th>\n",
       "      <th>6.0</th>\n",
       "      <th>7.0</th>\n",
       "    </tr>\n",
       "    <tr>\n",
       "      <th>nivel_laboral</th>\n",
       "      <th></th>\n",
       "      <th></th>\n",
       "      <th></th>\n",
       "      <th></th>\n",
       "      <th></th>\n",
       "      <th></th>\n",
       "      <th></th>\n",
       "    </tr>\n",
       "  </thead>\n",
       "  <tbody>\n",
       "    <tr>\n",
       "      <th>1</th>\n",
       "      <td>0.115433</td>\n",
       "      <td>0.108782</td>\n",
       "      <td>0.088394</td>\n",
       "      <td>0.068738</td>\n",
       "      <td>0.050469</td>\n",
       "      <td>0.038849</td>\n",
       "      <td>0.061286</td>\n",
       "    </tr>\n",
       "    <tr>\n",
       "      <th>2</th>\n",
       "      <td>0.183510</td>\n",
       "      <td>0.206178</td>\n",
       "      <td>0.221256</td>\n",
       "      <td>0.246337</td>\n",
       "      <td>0.172302</td>\n",
       "      <td>0.156801</td>\n",
       "      <td>0.162930</td>\n",
       "    </tr>\n",
       "    <tr>\n",
       "      <th>3</th>\n",
       "      <td>0.682452</td>\n",
       "      <td>0.665132</td>\n",
       "      <td>0.662107</td>\n",
       "      <td>0.640948</td>\n",
       "      <td>0.663817</td>\n",
       "      <td>0.667027</td>\n",
       "      <td>0.660688</td>\n",
       "    </tr>\n",
       "    <tr>\n",
       "      <th>4</th>\n",
       "      <td>0.016490</td>\n",
       "      <td>0.017539</td>\n",
       "      <td>0.023908</td>\n",
       "      <td>0.035629</td>\n",
       "      <td>0.083333</td>\n",
       "      <td>0.093496</td>\n",
       "      <td>0.085202</td>\n",
       "    </tr>\n",
       "    <tr>\n",
       "      <th>5</th>\n",
       "      <td>0.002114</td>\n",
       "      <td>0.002369</td>\n",
       "      <td>0.004335</td>\n",
       "      <td>0.008348</td>\n",
       "      <td>0.030079</td>\n",
       "      <td>0.043826</td>\n",
       "      <td>0.029895</td>\n",
       "    </tr>\n",
       "  </tbody>\n",
       "</table>\n",
       "</div>"
      ],
      "text/plain": [
       "nivel_estudios       1.0       2.0       3.0       4.0       5.0       6.0  \\\n",
       "nivel_laboral                                                                \n",
       "1               0.115433  0.108782  0.088394  0.068738  0.050469  0.038849   \n",
       "2               0.183510  0.206178  0.221256  0.246337  0.172302  0.156801   \n",
       "3               0.682452  0.665132  0.662107  0.640948  0.663817  0.667027   \n",
       "4               0.016490  0.017539  0.023908  0.035629  0.083333  0.093496   \n",
       "5               0.002114  0.002369  0.004335  0.008348  0.030079  0.043826   \n",
       "\n",
       "nivel_estudios       7.0  \n",
       "nivel_laboral             \n",
       "1               0.061286  \n",
       "2               0.162930  \n",
       "3               0.660688  \n",
       "4               0.085202  \n",
       "5               0.029895  "
      ]
     },
     "execution_count": 39,
     "metadata": {},
     "output_type": "execute_result"
    }
   ],
   "source": [
    "estudios_vs_laboral_t = pd.crosstab(modelo_si['nivel_laboral'], modelo_si['nivel_estudios'], normalize='columns')\n",
    "estudios_vs_laboral_t"
   ]
  },
  {
   "cell_type": "code",
   "execution_count": 41,
   "metadata": {},
   "outputs": [
    {
     "data": {
      "text/plain": [
       "Text(105,0.5,'Nivel laboral')"
      ]
     },
     "execution_count": 41,
     "metadata": {},
     "output_type": "execute_result"
    },
    {
     "data": {
      "image/png": "[encoded data removed]",
      "text/plain": [
       "<matplotlib.figure.Figure at 0x2c155b59908>"
      ]
     },
     "metadata": {},
     "output_type": "display_data"
    }
   ],
   "source": [
    "fig, ax = plt.subplots(figsize=(14,4))\n",
    "heatmap = sns.heatmap(estudios_vs_laboral_t, cmap='Oranges', robust=False, annot=False,\\\n",
    "                      linewidths=.5, linecolor='grey', ax=ax)\n",
    "\n",
    "heatmap.set_title('Nivel de estudios vs Nivel laboral', fontsize=18)\n",
    "heatmap.set_xlabel('Nivel de estudios', fontsize=14)\n",
    "heatmap.set_ylabel('Nivel laboral', fontsize=14)"
   ]
  },
  {
   "cell_type": "markdown",
   "metadata": {},
   "source": [
    "Creamos una columna en el dataframe contenedora del peso correspondiente a la combinación de las dos variables categóricas."
   ]
  },
  {
   "cell_type": "code",
   "execution_count": 43,
   "metadata": {},
   "outputs": [],
   "source": [
    "n_estudios = 7\n",
    "for index, row in estudios_vs_laboral_t.iterrows():\n",
    "    for i in range(1,n_estudios+1):\n",
    "        peso = row[i]\n",
    "        nivel_estudios = i\n",
    "        nivel_laboral = index\n",
    "        relacion = (modelo['nivel_estudios'] == nivel_estudios) & (modelo['nivel_laboral'] == nivel_laboral)\n",
    "        modelo.loc[(relacion), 'estudios_vs_laboral'] = peso"
   ]
  },
  {
   "cell_type": "code",
   "execution_count": 45,
   "metadata": {},
   "outputs": [
    {
     "data": {
      "text/html": [
       "<div>\n",
       "<style scoped>\n",
       "    .dataframe tbody tr th:only-of-type {\n",
       "        vertical-align: middle;\n",
       "    }\n",
       "\n",
       "    .dataframe tbody tr th {\n",
       "        vertical-align: top;\n",
       "    }\n",
       "\n",
       "    .dataframe thead th {\n",
       "        text-align: right;\n",
       "    }\n",
       "</style>\n",
       "<table border=\"1\" class=\"dataframe\">\n",
       "  <thead>\n",
       "    <tr style=\"text-align: right;\">\n",
       "      <th></th>\n",
       "      <th>idaviso</th>\n",
       "      <th>idpostulante</th>\n",
       "      <th>cant_vistas</th>\n",
       "      <th>rango_edad</th>\n",
       "      <th>sexo</th>\n",
       "      <th>nivel_estudios</th>\n",
       "      <th>esta_estudiando</th>\n",
       "      <th>titulo</th>\n",
       "      <th>descripcion</th>\n",
       "      <th>tipo_de_trabajo</th>\n",
       "      <th>nivel_laboral</th>\n",
       "      <th>nombre_zona</th>\n",
       "      <th>nombre_area</th>\n",
       "      <th>nombre_empresa</th>\n",
       "      <th>sepostulo</th>\n",
       "      <th>edad_vs_zona</th>\n",
       "      <th>estudios_vs_laboral</th>\n",
       "    </tr>\n",
       "  </thead>\n",
       "  <tbody>\n",
       "    <tr>\n",
       "      <th>811884</th>\n",
       "      <td>1111753928</td>\n",
       "      <td>LNPMQDP</td>\n",
       "      <td>1.0</td>\n",
       "      <td>3.0</td>\n",
       "      <td>2</td>\n",
       "      <td>2.0</td>\n",
       "      <td>0.0</td>\n",
       "      <td>CAJEROS (Caba) - Eventual</td>\n",
       "      <td>&lt;p&gt;&lt;strong&gt;Bayton seleccionará&lt;/strong&gt;&lt;/p&gt;&lt;p&gt;...</td>\n",
       "      <td>10</td>\n",
       "      <td>2</td>\n",
       "      <td>3</td>\n",
       "      <td>Tesorería</td>\n",
       "      <td>BAYTON</td>\n",
       "      <td>1</td>\n",
       "      <td>0.267721</td>\n",
       "      <td>0.206178</td>\n",
       "    </tr>\n",
       "    <tr>\n",
       "      <th>942086</th>\n",
       "      <td>1112461720</td>\n",
       "      <td>Y81WvD</td>\n",
       "      <td>1.0</td>\n",
       "      <td>3.0</td>\n",
       "      <td>1</td>\n",
       "      <td>4.0</td>\n",
       "      <td>0.0</td>\n",
       "      <td>EJECUTIVOS FUERZA DE VENTAS PYME PARA IMPORTAN...</td>\n",
       "      <td>&lt;p&gt;Para importante Banco seleccionaremos Ejecu...</td>\n",
       "      <td>10</td>\n",
       "      <td>3</td>\n",
       "      <td>3</td>\n",
       "      <td>Comercial</td>\n",
       "      <td>RANDSTAD</td>\n",
       "      <td>1</td>\n",
       "      <td>0.267721</td>\n",
       "      <td>0.640948</td>\n",
       "    </tr>\n",
       "    <tr>\n",
       "      <th>253314</th>\n",
       "      <td>1112196813</td>\n",
       "      <td>A3DKpkL</td>\n",
       "      <td>1.0</td>\n",
       "      <td>1.0</td>\n",
       "      <td>1</td>\n",
       "      <td>4.0</td>\n",
       "      <td>1.0</td>\n",
       "      <td>CAJERO/A - CABA</td>\n",
       "      <td>&lt;p&gt;Orientamos nuestra búsqueda a estudiantes  ...</td>\n",
       "      <td>10</td>\n",
       "      <td>2</td>\n",
       "      <td>3</td>\n",
       "      <td>Tesorería</td>\n",
       "      <td>BBVA Francés</td>\n",
       "      <td>0</td>\n",
       "      <td>0.341469</td>\n",
       "      <td>0.246337</td>\n",
       "    </tr>\n",
       "    <tr>\n",
       "      <th>413816</th>\n",
       "      <td>1112450714</td>\n",
       "      <td>ow2RoAL</td>\n",
       "      <td>1.0</td>\n",
       "      <td>1.0</td>\n",
       "      <td>1</td>\n",
       "      <td>2.0</td>\n",
       "      <td>0.0</td>\n",
       "      <td>ENCARGADA DE TIENDA PARA GALERÍAS PACIFICO</td>\n",
       "      <td>&lt;p&gt;&lt;span style=\"\"&gt;Empresa textil de Moda selec...</td>\n",
       "      <td>10</td>\n",
       "      <td>4</td>\n",
       "      <td>2</td>\n",
       "      <td>Ventas</td>\n",
       "      <td>CHED</td>\n",
       "      <td>0</td>\n",
       "      <td>0.354065</td>\n",
       "      <td>0.017539</td>\n",
       "    </tr>\n",
       "    <tr>\n",
       "      <th>729828</th>\n",
       "      <td>1112280005</td>\n",
       "      <td>xkPJNA6</td>\n",
       "      <td>1.0</td>\n",
       "      <td>2.0</td>\n",
       "      <td>1</td>\n",
       "      <td>4.0</td>\n",
       "      <td>0.0</td>\n",
       "      <td>Telemarketer con Experiencia en Ventas en Call...</td>\n",
       "      <td>&lt;p&gt;Esta es tu oportunidad, para que puedas inc...</td>\n",
       "      <td>9</td>\n",
       "      <td>1</td>\n",
       "      <td>3</td>\n",
       "      <td>Call Center</td>\n",
       "      <td>APPLICA - Humanos con Recursos</td>\n",
       "      <td>1</td>\n",
       "      <td>0.296451</td>\n",
       "      <td>0.068738</td>\n",
       "    </tr>\n",
       "  </tbody>\n",
       "</table>\n",
       "</div>"
      ],
      "text/plain": [
       "           idaviso idpostulante  cant_vistas  rango_edad  sexo  \\\n",
       "811884  1111753928      LNPMQDP          1.0         3.0     2   \n",
       "942086  1112461720       Y81WvD          1.0         3.0     1   \n",
       "253314  1112196813      A3DKpkL          1.0         1.0     1   \n",
       "413816  1112450714      ow2RoAL          1.0         1.0     1   \n",
       "729828  1112280005      xkPJNA6          1.0         2.0     1   \n",
       "\n",
       "        nivel_estudios  esta_estudiando  \\\n",
       "811884             2.0              0.0   \n",
       "942086             4.0              0.0   \n",
       "253314             4.0              1.0   \n",
       "413816             2.0              0.0   \n",
       "729828             4.0              0.0   \n",
       "\n",
       "                                                   titulo  \\\n",
       "811884                          CAJEROS (Caba) - Eventual   \n",
       "942086  EJECUTIVOS FUERZA DE VENTAS PYME PARA IMPORTAN...   \n",
       "253314                                    CAJERO/A - CABA   \n",
       "413816         ENCARGADA DE TIENDA PARA GALERÍAS PACIFICO   \n",
       "729828  Telemarketer con Experiencia en Ventas en Call...   \n",
       "\n",
       "                                              descripcion  tipo_de_trabajo  \\\n",
       "811884  <p><strong>Bayton seleccionará</strong></p><p>...               10   \n",
       "942086  <p>Para importante Banco seleccionaremos Ejecu...               10   \n",
       "253314  <p>Orientamos nuestra búsqueda a estudiantes  ...               10   \n",
       "413816  <p><span style=\"\">Empresa textil de Moda selec...               10   \n",
       "729828  <p>Esta es tu oportunidad, para que puedas inc...                9   \n",
       "\n",
       "        nivel_laboral  nombre_zona  nombre_area  \\\n",
       "811884              2            3    Tesorería   \n",
       "942086              3            3    Comercial   \n",
       "253314              2            3    Tesorería   \n",
       "413816              4            2       Ventas   \n",
       "729828              1            3  Call Center   \n",
       "\n",
       "                        nombre_empresa  sepostulo  edad_vs_zona  \\\n",
       "811884                          BAYTON          1      0.267721   \n",
       "942086                        RANDSTAD          1      0.267721   \n",
       "253314                    BBVA Francés          0      0.341469   \n",
       "413816                            CHED          0      0.354065   \n",
       "729828  APPLICA - Humanos con Recursos          1      0.296451   \n",
       "\n",
       "        estudios_vs_laboral  \n",
       "811884             0.206178  \n",
       "942086             0.640948  \n",
       "253314             0.246337  \n",
       "413816             0.017539  \n",
       "729828             0.068738  "
      ]
     },
     "execution_count": 45,
     "metadata": {},
     "output_type": "execute_result"
    }
   ],
   "source": [
    "modelo.sample(5)"
   ]
  },
  {
   "cell_type": "markdown",
   "metadata": {},
   "source": [
    " "
   ]
  },
  {
   "cell_type": "markdown",
   "metadata": {},
   "source": [
    "### Esta estudiando vs Tipo de trabajo"
   ]
  },
  {
   "cell_type": "markdown",
   "metadata": {},
   "source": [
    "Esta estudiando:\n",
    "- 0 = Está graduado o abandonó\n",
    "- 1 = Tiene un título en curso"
   ]
  },
  {
   "cell_type": "markdown",
   "metadata": {},
   "source": [
    "Tipo de trabajo:\n",
    "- 1 = Voluntario\n",
    "- 2 = Primer Empleo\n",
    "- 3 = Fines de Semana\n",
    "- 4 = Por Contrato\n",
    "- 5 = Temporario\n",
    "- 6 = Pasantia\n",
    "- 7 = Por Horas\n",
    "- 8 = Teletrabajo\n",
    "- 9 = Part-time\n",
    "- 10 = Full-time"
   ]
  },
  {
   "cell_type": "code",
   "execution_count": 47,
   "metadata": {},
   "outputs": [
    {
     "data": {
      "text/plain": [
       "0.0    317385\n",
       "1.0    182615\n",
       "Name: esta_estudiando, dtype: int64"
      ]
     },
     "execution_count": 47,
     "metadata": {},
     "output_type": "execute_result"
    }
   ],
   "source": [
    "modelo_si['esta_estudiando'].value_counts()"
   ]
  },
  {
   "cell_type": "code",
   "execution_count": 49,
   "metadata": {},
   "outputs": [
    {
     "data": {
      "text/plain": [
       "10    423357\n",
       "9      68897\n",
       "6       2491\n",
       "7       1715\n",
       "5       1348\n",
       "3        743\n",
       "4        727\n",
       "8        522\n",
       "2        181\n",
       "1         19\n",
       "Name: tipo_de_trabajo, dtype: int64"
      ]
     },
     "execution_count": 49,
     "metadata": {},
     "output_type": "execute_result"
    }
   ],
   "source": [
    "modelo_si['tipo_de_trabajo'].value_counts()"
   ]
  },
  {
   "cell_type": "code",
   "execution_count": 51,
   "metadata": {},
   "outputs": [
    {
     "data": {
      "text/html": [
       "<div>\n",
       "<style scoped>\n",
       "    .dataframe tbody tr th:only-of-type {\n",
       "        vertical-align: middle;\n",
       "    }\n",
       "\n",
       "    .dataframe tbody tr th {\n",
       "        vertical-align: top;\n",
       "    }\n",
       "\n",
       "    .dataframe thead th {\n",
       "        text-align: right;\n",
       "    }\n",
       "</style>\n",
       "<table border=\"1\" class=\"dataframe\">\n",
       "  <thead>\n",
       "    <tr style=\"text-align: right;\">\n",
       "      <th>tipo_de_trabajo</th>\n",
       "      <th>1</th>\n",
       "      <th>2</th>\n",
       "      <th>3</th>\n",
       "      <th>4</th>\n",
       "      <th>5</th>\n",
       "      <th>6</th>\n",
       "      <th>7</th>\n",
       "      <th>8</th>\n",
       "      <th>9</th>\n",
       "      <th>10</th>\n",
       "    </tr>\n",
       "    <tr>\n",
       "      <th>esta_estudiando</th>\n",
       "      <th></th>\n",
       "      <th></th>\n",
       "      <th></th>\n",
       "      <th></th>\n",
       "      <th></th>\n",
       "      <th></th>\n",
       "      <th></th>\n",
       "      <th></th>\n",
       "      <th></th>\n",
       "      <th></th>\n",
       "    </tr>\n",
       "  </thead>\n",
       "  <tbody>\n",
       "    <tr>\n",
       "      <th>0.0</th>\n",
       "      <td>0.894737</td>\n",
       "      <td>0.491713</td>\n",
       "      <td>0.667564</td>\n",
       "      <td>0.620358</td>\n",
       "      <td>0.678783</td>\n",
       "      <td>0.280209</td>\n",
       "      <td>0.707872</td>\n",
       "      <td>0.609195</td>\n",
       "      <td>0.531997</td>\n",
       "      <td>0.653193</td>\n",
       "    </tr>\n",
       "    <tr>\n",
       "      <th>1.0</th>\n",
       "      <td>0.105263</td>\n",
       "      <td>0.508287</td>\n",
       "      <td>0.332436</td>\n",
       "      <td>0.379642</td>\n",
       "      <td>0.321217</td>\n",
       "      <td>0.719791</td>\n",
       "      <td>0.292128</td>\n",
       "      <td>0.390805</td>\n",
       "      <td>0.468003</td>\n",
       "      <td>0.346807</td>\n",
       "    </tr>\n",
       "  </tbody>\n",
       "</table>\n",
       "</div>"
      ],
      "text/plain": [
       "tipo_de_trabajo        1         2         3         4         5         6   \\\n",
       "esta_estudiando                                                               \n",
       "0.0              0.894737  0.491713  0.667564  0.620358  0.678783  0.280209   \n",
       "1.0              0.105263  0.508287  0.332436  0.379642  0.321217  0.719791   \n",
       "\n",
       "tipo_de_trabajo        7         8         9         10  \n",
       "esta_estudiando                                          \n",
       "0.0              0.707872  0.609195  0.531997  0.653193  \n",
       "1.0              0.292128  0.390805  0.468003  0.346807  "
      ]
     },
     "execution_count": 51,
     "metadata": {},
     "output_type": "execute_result"
    }
   ],
   "source": [
    "estudiando_vs_tipo_trabajo_t = pd.crosstab(modelo_si['esta_estudiando'], modelo_si['tipo_de_trabajo'], normalize='columns')\n",
    "estudiando_vs_tipo_trabajo_t"
   ]
  },
  {
   "cell_type": "code",
   "execution_count": 53,
   "metadata": {},
   "outputs": [
    {
     "data": {
      "text/plain": [
       "Text(105,0.5,'Esta estudiando')"
      ]
     },
     "execution_count": 53,
     "metadata": {},
     "output_type": "execute_result"
    },
    {
     "data": {
      "image/png": "[encoded data removed]",
      "text/plain": [
       "<matplotlib.figure.Figure at 0x2c113365a58>"
      ]
     },
     "metadata": {},
     "output_type": "display_data"
    }
   ],
   "source": [
    "fig, ax = plt.subplots(figsize=(14,4))\n",
    "heatmap = sns.heatmap(estudiando_vs_tipo_trabajo_t, cmap='YlGnBu', robust=False, annot=False,\\\n",
    "                      linewidths=.5, linecolor='grey', ax=ax)\n",
    "\n",
    "heatmap.set_title('Esta estudiando vs Tipo de trabajo', fontsize=18)\n",
    "heatmap.set_xlabel('Tipo de trabajo', fontsize=14)\n",
    "heatmap.set_ylabel('Esta estudiando', fontsize=14)"
   ]
  },
  {
   "cell_type": "markdown",
   "metadata": {},
   "source": [
    "Creamos una columna en el dataframe contenedora del peso correspondiente a la combinación de las dos variables categóricas."
   ]
  },
  {
   "cell_type": "code",
   "execution_count": 55,
   "metadata": {},
   "outputs": [],
   "source": [
    "n_trabajos = 10\n",
    "for index, row in estudiando_vs_tipo_trabajo_t.iterrows():\n",
    "    for i in range(1,n_trabajos+1):\n",
    "        peso = row[i]\n",
    "        tipo_trabajo = i\n",
    "        esta_estudiando = index\n",
    "        relacion = (modelo['tipo_de_trabajo'] == tipo_trabajo) & (modelo['esta_estudiando'] == esta_estudiando)\n",
    "        modelo.loc[(relacion), 'estudia_vs_tipo_trabajo'] = peso"
   ]
  },
  {
   "cell_type": "code",
   "execution_count": 57,
   "metadata": {},
   "outputs": [
    {
     "data": {
      "text/html": [
       "<div>\n",
       "<style scoped>\n",
       "    .dataframe tbody tr th:only-of-type {\n",
       "        vertical-align: middle;\n",
       "    }\n",
       "\n",
       "    .dataframe tbody tr th {\n",
       "        vertical-align: top;\n",
       "    }\n",
       "\n",
       "    .dataframe thead th {\n",
       "        text-align: right;\n",
       "    }\n",
       "</style>\n",
       "<table border=\"1\" class=\"dataframe\">\n",
       "  <thead>\n",
       "    <tr style=\"text-align: right;\">\n",
       "      <th></th>\n",
       "      <th>idaviso</th>\n",
       "      <th>idpostulante</th>\n",
       "      <th>cant_vistas</th>\n",
       "      <th>rango_edad</th>\n",
       "      <th>sexo</th>\n",
       "      <th>nivel_estudios</th>\n",
       "      <th>esta_estudiando</th>\n",
       "      <th>titulo</th>\n",
       "      <th>descripcion</th>\n",
       "      <th>tipo_de_trabajo</th>\n",
       "      <th>nivel_laboral</th>\n",
       "      <th>nombre_zona</th>\n",
       "      <th>nombre_area</th>\n",
       "      <th>nombre_empresa</th>\n",
       "      <th>sepostulo</th>\n",
       "      <th>edad_vs_zona</th>\n",
       "      <th>estudios_vs_laboral</th>\n",
       "      <th>estudia_vs_tipo_trabajo</th>\n",
       "    </tr>\n",
       "  </thead>\n",
       "  <tbody>\n",
       "    <tr>\n",
       "      <th>133149</th>\n",
       "      <td>1112482074</td>\n",
       "      <td>akbb2bq</td>\n",
       "      <td>1.0</td>\n",
       "      <td>2.0</td>\n",
       "      <td>1</td>\n",
       "      <td>4.0</td>\n",
       "      <td>1.0</td>\n",
       "      <td>Recepcionista - Para consultorio odontológico</td>\n",
       "      <td>&lt;p&gt;¿Tenés experiencia laboral como recepcionis...</td>\n",
       "      <td>10</td>\n",
       "      <td>1</td>\n",
       "      <td>3</td>\n",
       "      <td>Recepcionista</td>\n",
       "      <td>MAFA</td>\n",
       "      <td>0</td>\n",
       "      <td>0.296451</td>\n",
       "      <td>0.068738</td>\n",
       "      <td>0.346807</td>\n",
       "    </tr>\n",
       "    <tr>\n",
       "      <th>992661</th>\n",
       "      <td>1112263465</td>\n",
       "      <td>pzM6LNm</td>\n",
       "      <td>1.0</td>\n",
       "      <td>3.0</td>\n",
       "      <td>2</td>\n",
       "      <td>5.0</td>\n",
       "      <td>1.0</td>\n",
       "      <td>Representante de Ventas Telefónicas</td>\n",
       "      <td>&lt;p&gt;&lt;span style=\"\"&gt;Teleperformance, empresa mul...</td>\n",
       "      <td>9</td>\n",
       "      <td>3</td>\n",
       "      <td>3</td>\n",
       "      <td>Ventas</td>\n",
       "      <td>Grupo Teleperformance</td>\n",
       "      <td>1</td>\n",
       "      <td>0.267721</td>\n",
       "      <td>0.663817</td>\n",
       "      <td>0.468003</td>\n",
       "    </tr>\n",
       "    <tr>\n",
       "      <th>462456</th>\n",
       "      <td>1112363005</td>\n",
       "      <td>5mqD3Eq</td>\n",
       "      <td>1.0</td>\n",
       "      <td>3.0</td>\n",
       "      <td>2</td>\n",
       "      <td>2.0</td>\n",
       "      <td>0.0</td>\n",
       "      <td>Entrevista CAJERO REPOSITOR presentarse MARTES...</td>\n",
       "      <td>&lt;p&gt;&lt;strong&gt;Suministra&lt;/strong&gt; seleccionará &lt;s...</td>\n",
       "      <td>10</td>\n",
       "      <td>2</td>\n",
       "      <td>3</td>\n",
       "      <td>Comercial</td>\n",
       "      <td>Suministra</td>\n",
       "      <td>0</td>\n",
       "      <td>0.267721</td>\n",
       "      <td>0.206178</td>\n",
       "      <td>0.653193</td>\n",
       "    </tr>\n",
       "    <tr>\n",
       "      <th>674733</th>\n",
       "      <td>1112370708</td>\n",
       "      <td>RzMeGXO</td>\n",
       "      <td>1.0</td>\n",
       "      <td>2.0</td>\n",
       "      <td>2</td>\n",
       "      <td>3.0</td>\n",
       "      <td>1.0</td>\n",
       "      <td>Técnico/Ingeniero electromecánico Viajante - z...</td>\n",
       "      <td>&lt;p&gt;&lt;strong&gt;Adecco Office&lt;/strong&gt; está especia...</td>\n",
       "      <td>10</td>\n",
       "      <td>3</td>\n",
       "      <td>3</td>\n",
       "      <td>Ingeniería  Mecánica</td>\n",
       "      <td>Adecco - Región NORTE &amp; OESTE GBA</td>\n",
       "      <td>1</td>\n",
       "      <td>0.296451</td>\n",
       "      <td>0.662107</td>\n",
       "      <td>0.346807</td>\n",
       "    </tr>\n",
       "    <tr>\n",
       "      <th>742369</th>\n",
       "      <td>1112206678</td>\n",
       "      <td>xk9jO4x</td>\n",
       "      <td>1.0</td>\n",
       "      <td>1.0</td>\n",
       "      <td>1</td>\n",
       "      <td>4.0</td>\n",
       "      <td>1.0</td>\n",
       "      <td>Programa Jóvenes Emprendedores 2018</td>\n",
       "      <td>&lt;p&gt;Formá parte de la empresa de alimentos núme...</td>\n",
       "      <td>10</td>\n",
       "      <td>3</td>\n",
       "      <td>3</td>\n",
       "      <td>Producción</td>\n",
       "      <td>Grupo Arcor</td>\n",
       "      <td>1</td>\n",
       "      <td>0.341469</td>\n",
       "      <td>0.640948</td>\n",
       "      <td>0.346807</td>\n",
       "    </tr>\n",
       "  </tbody>\n",
       "</table>\n",
       "</div>"
      ],
      "text/plain": [
       "           idaviso idpostulante  cant_vistas  rango_edad  sexo  \\\n",
       "133149  1112482074      akbb2bq          1.0         2.0     1   \n",
       "992661  1112263465      pzM6LNm          1.0         3.0     2   \n",
       "462456  1112363005      5mqD3Eq          1.0         3.0     2   \n",
       "674733  1112370708      RzMeGXO          1.0         2.0     2   \n",
       "742369  1112206678      xk9jO4x          1.0         1.0     1   \n",
       "\n",
       "        nivel_estudios  esta_estudiando  \\\n",
       "133149             4.0              1.0   \n",
       "992661             5.0              1.0   \n",
       "462456             2.0              0.0   \n",
       "674733             3.0              1.0   \n",
       "742369             4.0              1.0   \n",
       "\n",
       "                                                   titulo  \\\n",
       "133149      Recepcionista - Para consultorio odontológico   \n",
       "992661               Representante de Ventas Telefónicas    \n",
       "462456  Entrevista CAJERO REPOSITOR presentarse MARTES...   \n",
       "674733  Técnico/Ingeniero electromecánico Viajante - z...   \n",
       "742369                Programa Jóvenes Emprendedores 2018   \n",
       "\n",
       "                                              descripcion  tipo_de_trabajo  \\\n",
       "133149  <p>¿Tenés experiencia laboral como recepcionis...               10   \n",
       "992661  <p><span style=\"\">Teleperformance, empresa mul...                9   \n",
       "462456  <p><strong>Suministra</strong> seleccionará <s...               10   \n",
       "674733  <p><strong>Adecco Office</strong> está especia...               10   \n",
       "742369  <p>Formá parte de la empresa de alimentos núme...               10   \n",
       "\n",
       "        nivel_laboral  nombre_zona           nombre_area  \\\n",
       "133149              1            3         Recepcionista   \n",
       "992661              3            3                Ventas   \n",
       "462456              2            3             Comercial   \n",
       "674733              3            3  Ingeniería  Mecánica   \n",
       "742369              3            3            Producción   \n",
       "\n",
       "                           nombre_empresa  sepostulo  edad_vs_zona  \\\n",
       "133149                               MAFA          0      0.296451   \n",
       "992661              Grupo Teleperformance          1      0.267721   \n",
       "462456                         Suministra          0      0.267721   \n",
       "674733  Adecco - Región NORTE & OESTE GBA          1      0.296451   \n",
       "742369                        Grupo Arcor          1      0.341469   \n",
       "\n",
       "        estudios_vs_laboral  estudia_vs_tipo_trabajo  \n",
       "133149             0.068738                 0.346807  \n",
       "992661             0.663817                 0.468003  \n",
       "462456             0.206178                 0.653193  \n",
       "674733             0.662107                 0.346807  \n",
       "742369             0.640948                 0.346807  "
      ]
     },
     "execution_count": 57,
     "metadata": {},
     "output_type": "execute_result"
    }
   ],
   "source": [
    "modelo.sample(5)"
   ]
  },
  {
   "cell_type": "markdown",
   "metadata": {},
   "source": [
    " "
   ]
  },
  {
   "cell_type": "markdown",
   "metadata": {},
   "source": [
    "### Rango de edad vs Tipo de trabajo"
   ]
  },
  {
   "cell_type": "markdown",
   "metadata": {},
   "source": [
    "Rango de edad:\n",
    "- 1 = 18-25 \n",
    "- 2 = 26-30\n",
    "- 3 = 31-40\n",
    "- 4 = 41-68"
   ]
  },
  {
   "cell_type": "markdown",
   "metadata": {},
   "source": [
    "Tipo de trabajo:\n",
    "- 1 = Voluntario\n",
    "- 2 = Primer Empleo\n",
    "- 3 = Fines de Semana\n",
    "- 4 = Por Contrato\n",
    "- 5 = Temporario\n",
    "- 6 = Pasantia\n",
    "- 7 = Por Horas\n",
    "- 8 = Teletrabajo\n",
    "- 9 = Part-time\n",
    "- 10 = Full-time"
   ]
  },
  {
   "cell_type": "code",
   "execution_count": 58,
   "metadata": {},
   "outputs": [
    {
     "data": {
      "text/plain": [
       "1.0    171142\n",
       "2.0    148239\n",
       "3.0    133517\n",
       "4.0     47102\n",
       "Name: rango_edad, dtype: int64"
      ]
     },
     "execution_count": 58,
     "metadata": {},
     "output_type": "execute_result"
    }
   ],
   "source": [
    "modelo_si['rango_edad'].value_counts()"
   ]
  },
  {
   "cell_type": "code",
   "execution_count": 59,
   "metadata": {},
   "outputs": [
    {
     "data": {
      "text/plain": [
       "10    423357\n",
       "9      68897\n",
       "6       2491\n",
       "7       1715\n",
       "5       1348\n",
       "3        743\n",
       "4        727\n",
       "8        522\n",
       "2        181\n",
       "1         19\n",
       "Name: tipo_de_trabajo, dtype: int64"
      ]
     },
     "execution_count": 59,
     "metadata": {},
     "output_type": "execute_result"
    }
   ],
   "source": [
    "modelo_si['tipo_de_trabajo'].value_counts()"
   ]
  },
  {
   "cell_type": "code",
   "execution_count": 60,
   "metadata": {},
   "outputs": [
    {
     "data": {
      "text/html": [
       "<div>\n",
       "<style scoped>\n",
       "    .dataframe tbody tr th:only-of-type {\n",
       "        vertical-align: middle;\n",
       "    }\n",
       "\n",
       "    .dataframe tbody tr th {\n",
       "        vertical-align: top;\n",
       "    }\n",
       "\n",
       "    .dataframe thead th {\n",
       "        text-align: right;\n",
       "    }\n",
       "</style>\n",
       "<table border=\"1\" class=\"dataframe\">\n",
       "  <thead>\n",
       "    <tr style=\"text-align: right;\">\n",
       "      <th>tipo_de_trabajo</th>\n",
       "      <th>1</th>\n",
       "      <th>2</th>\n",
       "      <th>3</th>\n",
       "      <th>4</th>\n",
       "      <th>5</th>\n",
       "      <th>6</th>\n",
       "      <th>7</th>\n",
       "      <th>8</th>\n",
       "      <th>9</th>\n",
       "      <th>10</th>\n",
       "    </tr>\n",
       "    <tr>\n",
       "      <th>rango_edad</th>\n",
       "      <th></th>\n",
       "      <th></th>\n",
       "      <th></th>\n",
       "      <th></th>\n",
       "      <th></th>\n",
       "      <th></th>\n",
       "      <th></th>\n",
       "      <th></th>\n",
       "      <th></th>\n",
       "      <th></th>\n",
       "    </tr>\n",
       "  </thead>\n",
       "  <tbody>\n",
       "    <tr>\n",
       "      <th>1.0</th>\n",
       "      <td>0.473684</td>\n",
       "      <td>0.756906</td>\n",
       "      <td>0.430686</td>\n",
       "      <td>0.259972</td>\n",
       "      <td>0.308605</td>\n",
       "      <td>0.640305</td>\n",
       "      <td>0.354519</td>\n",
       "      <td>0.392720</td>\n",
       "      <td>0.504347</td>\n",
       "      <td>0.313955</td>\n",
       "    </tr>\n",
       "    <tr>\n",
       "      <th>2.0</th>\n",
       "      <td>0.210526</td>\n",
       "      <td>0.121547</td>\n",
       "      <td>0.296097</td>\n",
       "      <td>0.320495</td>\n",
       "      <td>0.315282</td>\n",
       "      <td>0.230831</td>\n",
       "      <td>0.293294</td>\n",
       "      <td>0.247126</td>\n",
       "      <td>0.256600</td>\n",
       "      <td>0.303406</td>\n",
       "    </tr>\n",
       "    <tr>\n",
       "      <th>3.0</th>\n",
       "      <td>0.263158</td>\n",
       "      <td>0.110497</td>\n",
       "      <td>0.232840</td>\n",
       "      <td>0.305365</td>\n",
       "      <td>0.278190</td>\n",
       "      <td>0.111200</td>\n",
       "      <td>0.282216</td>\n",
       "      <td>0.273946</td>\n",
       "      <td>0.184986</td>\n",
       "      <td>0.281259</td>\n",
       "    </tr>\n",
       "    <tr>\n",
       "      <th>4.0</th>\n",
       "      <td>0.052632</td>\n",
       "      <td>0.011050</td>\n",
       "      <td>0.040377</td>\n",
       "      <td>0.114168</td>\n",
       "      <td>0.097923</td>\n",
       "      <td>0.017664</td>\n",
       "      <td>0.069971</td>\n",
       "      <td>0.086207</td>\n",
       "      <td>0.054066</td>\n",
       "      <td>0.101380</td>\n",
       "    </tr>\n",
       "  </tbody>\n",
       "</table>\n",
       "</div>"
      ],
      "text/plain": [
       "tipo_de_trabajo        1         2         3         4         5         6   \\\n",
       "rango_edad                                                                    \n",
       "1.0              0.473684  0.756906  0.430686  0.259972  0.308605  0.640305   \n",
       "2.0              0.210526  0.121547  0.296097  0.320495  0.315282  0.230831   \n",
       "3.0              0.263158  0.110497  0.232840  0.305365  0.278190  0.111200   \n",
       "4.0              0.052632  0.011050  0.040377  0.114168  0.097923  0.017664   \n",
       "\n",
       "tipo_de_trabajo        7         8         9         10  \n",
       "rango_edad                                               \n",
       "1.0              0.354519  0.392720  0.504347  0.313955  \n",
       "2.0              0.293294  0.247126  0.256600  0.303406  \n",
       "3.0              0.282216  0.273946  0.184986  0.281259  \n",
       "4.0              0.069971  0.086207  0.054066  0.101380  "
      ]
     },
     "execution_count": 60,
     "metadata": {},
     "output_type": "execute_result"
    }
   ],
   "source": [
    "edad_vs_tipo_trabajo_t = pd.crosstab(modelo_si['rango_edad'], modelo_si['tipo_de_trabajo'], normalize='columns')\n",
    "edad_vs_tipo_trabajo_t"
   ]
  },
  {
   "cell_type": "code",
   "execution_count": 61,
   "metadata": {},
   "outputs": [
    {
     "data": {
      "text/plain": [
       "Text(105,0.5,'Rango edad')"
      ]
     },
     "execution_count": 61,
     "metadata": {},
     "output_type": "execute_result"
    },
    {
     "data": {
      "image/png": "[encoded data removed]",
      "text/plain": [
       "<matplotlib.figure.Figure at 0x2c112aeac50>"
      ]
     },
     "metadata": {},
     "output_type": "display_data"
    }
   ],
   "source": [
    "fig, ax = plt.subplots(figsize=(14,4))\n",
    "heatmap = sns.heatmap(edad_vs_tipo_trabajo_t, cmap='Greens', robust=False, annot=False,\\\n",
    "                      linewidths=.5, linecolor='grey', ax=ax)\n",
    "\n",
    "heatmap.set_title('Rango edad vs Tipo de trabajo', fontsize=18)\n",
    "heatmap.set_xlabel('Tipo de trabajo', fontsize=14)\n",
    "heatmap.set_ylabel('Rango edad', fontsize=14)"
   ]
  },
  {
   "cell_type": "markdown",
   "metadata": {},
   "source": [
    "Creamos una columna en el dataframe contenedora del peso correspondiente a la combinación de las dos variables categóricas."
   ]
  },
  {
   "cell_type": "code",
   "execution_count": 62,
   "metadata": {},
   "outputs": [],
   "source": [
    "n_trabajos = 10\n",
    "for index, row in edad_vs_tipo_trabajo_t.iterrows():\n",
    "    for i in range(1,n_trabajos+1):\n",
    "        peso = row[i]\n",
    "        tipo_trabajo = i\n",
    "        rango_edad = index\n",
    "        relacion = (modelo['tipo_de_trabajo'] == tipo_trabajo) & (modelo['rango_edad'] == rango_edad)\n",
    "        modelo.loc[(relacion), 'edad_vs_tipo_trabajo'] = peso"
   ]
  },
  {
   "cell_type": "code",
   "execution_count": 63,
   "metadata": {},
   "outputs": [
    {
     "data": {
      "text/html": [
       "<div>\n",
       "<style scoped>\n",
       "    .dataframe tbody tr th:only-of-type {\n",
       "        vertical-align: middle;\n",
       "    }\n",
       "\n",
       "    .dataframe tbody tr th {\n",
       "        vertical-align: top;\n",
       "    }\n",
       "\n",
       "    .dataframe thead th {\n",
       "        text-align: right;\n",
       "    }\n",
       "</style>\n",
       "<table border=\"1\" class=\"dataframe\">\n",
       "  <thead>\n",
       "    <tr style=\"text-align: right;\">\n",
       "      <th></th>\n",
       "      <th>idaviso</th>\n",
       "      <th>idpostulante</th>\n",
       "      <th>cant_vistas</th>\n",
       "      <th>rango_edad</th>\n",
       "      <th>sexo</th>\n",
       "      <th>nivel_estudios</th>\n",
       "      <th>esta_estudiando</th>\n",
       "      <th>titulo</th>\n",
       "      <th>descripcion</th>\n",
       "      <th>tipo_de_trabajo</th>\n",
       "      <th>nivel_laboral</th>\n",
       "      <th>nombre_zona</th>\n",
       "      <th>nombre_area</th>\n",
       "      <th>nombre_empresa</th>\n",
       "      <th>sepostulo</th>\n",
       "      <th>edad_vs_zona</th>\n",
       "      <th>estudios_vs_laboral</th>\n",
       "      <th>estudia_vs_tipo_trabajo</th>\n",
       "      <th>edad_vs_tipo_trabajo</th>\n",
       "    </tr>\n",
       "  </thead>\n",
       "  <tbody>\n",
       "    <tr>\n",
       "      <th>671990</th>\n",
       "      <td>1112242436</td>\n",
       "      <td>xkv6vJx</td>\n",
       "      <td>1.0</td>\n",
       "      <td>1.0</td>\n",
       "      <td>1</td>\n",
       "      <td>2.0</td>\n",
       "      <td>0.0</td>\n",
       "      <td>Auxiliar administrativo</td>\n",
       "      <td>&lt;p&gt;&lt;strong&gt;Adecco Industrial &lt;/strong&gt;está esp...</td>\n",
       "      <td>9</td>\n",
       "      <td>2</td>\n",
       "      <td>3</td>\n",
       "      <td>Administración</td>\n",
       "      <td>Adecco  -Región Litoral</td>\n",
       "      <td>1</td>\n",
       "      <td>0.341469</td>\n",
       "      <td>0.206178</td>\n",
       "      <td>0.531997</td>\n",
       "      <td>0.504347</td>\n",
       "    </tr>\n",
       "    <tr>\n",
       "      <th>365922</th>\n",
       "      <td>1112445506</td>\n",
       "      <td>3NkerAP</td>\n",
       "      <td>1.0</td>\n",
       "      <td>2.0</td>\n",
       "      <td>1</td>\n",
       "      <td>2.0</td>\n",
       "      <td>0.0</td>\n",
       "      <td>Operarios textiles y Tec. de mantenimiento p/ ...</td>\n",
       "      <td>&lt;p&gt;Importante Empresa Textil se encuentra en l...</td>\n",
       "      <td>10</td>\n",
       "      <td>2</td>\n",
       "      <td>3</td>\n",
       "      <td>Producción</td>\n",
       "      <td>Suministra</td>\n",
       "      <td>0</td>\n",
       "      <td>0.296451</td>\n",
       "      <td>0.206178</td>\n",
       "      <td>0.653193</td>\n",
       "      <td>0.303406</td>\n",
       "    </tr>\n",
       "    <tr>\n",
       "      <th>756019</th>\n",
       "      <td>1112334791</td>\n",
       "      <td>LNMav5w</td>\n",
       "      <td>1.0</td>\n",
       "      <td>2.0</td>\n",
       "      <td>2</td>\n",
       "      <td>4.0</td>\n",
       "      <td>0.0</td>\n",
       "      <td>Cajero/a - Part Time</td>\n",
       "      <td>&lt;p&gt;Te estamos buscando para formar parte de un...</td>\n",
       "      <td>10</td>\n",
       "      <td>3</td>\n",
       "      <td>3</td>\n",
       "      <td>Comercial</td>\n",
       "      <td>Farmacity</td>\n",
       "      <td>1</td>\n",
       "      <td>0.296451</td>\n",
       "      <td>0.640948</td>\n",
       "      <td>0.653193</td>\n",
       "      <td>0.303406</td>\n",
       "    </tr>\n",
       "    <tr>\n",
       "      <th>321766</th>\n",
       "      <td>1112475260</td>\n",
       "      <td>bO42Gb4</td>\n",
       "      <td>1.0</td>\n",
       "      <td>2.0</td>\n",
       "      <td>1</td>\n",
       "      <td>4.0</td>\n",
       "      <td>0.0</td>\n",
       "      <td>Teleoperador para venta de Seguros - CABA</td>\n",
       "      <td>&lt;p&gt;Para importante entidad aseguradora, nos en...</td>\n",
       "      <td>9</td>\n",
       "      <td>3</td>\n",
       "      <td>3</td>\n",
       "      <td>Telemarketing</td>\n",
       "      <td>Manpower</td>\n",
       "      <td>0</td>\n",
       "      <td>0.296451</td>\n",
       "      <td>0.640948</td>\n",
       "      <td>0.531997</td>\n",
       "      <td>0.256600</td>\n",
       "    </tr>\n",
       "    <tr>\n",
       "      <th>26284</th>\n",
       "      <td>1112437023</td>\n",
       "      <td>DrXW4YL</td>\n",
       "      <td>1.0</td>\n",
       "      <td>1.0</td>\n",
       "      <td>2</td>\n",
       "      <td>4.0</td>\n",
       "      <td>1.0</td>\n",
       "      <td>Vendedor</td>\n",
       "      <td>Vendedor , salon y domiciliario de cortinas Ro...</td>\n",
       "      <td>10</td>\n",
       "      <td>3</td>\n",
       "      <td>3</td>\n",
       "      <td>Ventas</td>\n",
       "      <td>Cortinas factory</td>\n",
       "      <td>0</td>\n",
       "      <td>0.341469</td>\n",
       "      <td>0.640948</td>\n",
       "      <td>0.346807</td>\n",
       "      <td>0.313955</td>\n",
       "    </tr>\n",
       "  </tbody>\n",
       "</table>\n",
       "</div>"
      ],
      "text/plain": [
       "           idaviso idpostulante  cant_vistas  rango_edad  sexo  \\\n",
       "671990  1112242436      xkv6vJx          1.0         1.0     1   \n",
       "365922  1112445506      3NkerAP          1.0         2.0     1   \n",
       "756019  1112334791      LNMav5w          1.0         2.0     2   \n",
       "321766  1112475260      bO42Gb4          1.0         2.0     1   \n",
       "26284   1112437023      DrXW4YL          1.0         1.0     2   \n",
       "\n",
       "        nivel_estudios  esta_estudiando  \\\n",
       "671990             2.0              0.0   \n",
       "365922             2.0              0.0   \n",
       "756019             4.0              0.0   \n",
       "321766             4.0              0.0   \n",
       "26284              4.0              1.0   \n",
       "\n",
       "                                                   titulo  \\\n",
       "671990                            Auxiliar administrativo   \n",
       "365922  Operarios textiles y Tec. de mantenimiento p/ ...   \n",
       "756019                              Cajero/a - Part Time    \n",
       "321766          Teleoperador para venta de Seguros - CABA   \n",
       "26284                                            Vendedor   \n",
       "\n",
       "                                              descripcion  tipo_de_trabajo  \\\n",
       "671990  <p><strong>Adecco Industrial </strong>está esp...                9   \n",
       "365922  <p>Importante Empresa Textil se encuentra en l...               10   \n",
       "756019  <p>Te estamos buscando para formar parte de un...               10   \n",
       "321766  <p>Para importante entidad aseguradora, nos en...                9   \n",
       "26284   Vendedor , salon y domiciliario de cortinas Ro...               10   \n",
       "\n",
       "        nivel_laboral  nombre_zona     nombre_area           nombre_empresa  \\\n",
       "671990              2            3  Administración  Adecco  -Región Litoral   \n",
       "365922              2            3      Producción               Suministra   \n",
       "756019              3            3       Comercial                Farmacity   \n",
       "321766              3            3   Telemarketing                 Manpower   \n",
       "26284               3            3          Ventas         Cortinas factory   \n",
       "\n",
       "        sepostulo  edad_vs_zona  estudios_vs_laboral  estudia_vs_tipo_trabajo  \\\n",
       "671990          1      0.341469             0.206178                 0.531997   \n",
       "365922          0      0.296451             0.206178                 0.653193   \n",
       "756019          1      0.296451             0.640948                 0.653193   \n",
       "321766          0      0.296451             0.640948                 0.531997   \n",
       "26284           0      0.341469             0.640948                 0.346807   \n",
       "\n",
       "        edad_vs_tipo_trabajo  \n",
       "671990              0.504347  \n",
       "365922              0.303406  \n",
       "756019              0.303406  \n",
       "321766              0.256600  \n",
       "26284               0.313955  "
      ]
     },
     "execution_count": 63,
     "metadata": {},
     "output_type": "execute_result"
    }
   ],
   "source": [
    "modelo.sample(5)"
   ]
  },
  {
   "cell_type": "markdown",
   "metadata": {},
   "source": [
    " "
   ]
  },
  {
   "cell_type": "markdown",
   "metadata": {},
   "source": [
    "### Rango de edad vs Nombre zona"
   ]
  },
  {
   "cell_type": "markdown",
   "metadata": {},
   "source": [
    "Rango de edad:\n",
    "- 1 = 18-25 \n",
    "- 2 = 26-30\n",
    "- 3 = 31-40\n",
    "- 4 = 41-68"
   ]
  },
  {
   "cell_type": "markdown",
   "metadata": {},
   "source": [
    "Nombre zona:\n",
    "- 1 = Otros\n",
    "- 2 = Capital Federal\n",
    "- 3 = Gran Buenos Aires"
   ]
  },
  {
   "cell_type": "code",
   "execution_count": 64,
   "metadata": {},
   "outputs": [
    {
     "data": {
      "text/plain": [
       "1.0    344163\n",
       "2.0    286789\n",
       "3.0    267280\n",
       "4.0    101768\n",
       "Name: rango_edad, dtype: int64"
      ]
     },
     "execution_count": 64,
     "metadata": {},
     "output_type": "execute_result"
    }
   ],
   "source": [
    "modelo['rango_edad'].value_counts()"
   ]
  },
  {
   "cell_type": "code",
   "execution_count": 65,
   "metadata": {},
   "outputs": [
    {
     "data": {
      "text/plain": [
       "3    926610\n",
       "2     73164\n",
       "1       226\n",
       "Name: nombre_zona, dtype: int64"
      ]
     },
     "execution_count": 65,
     "metadata": {},
     "output_type": "execute_result"
    }
   ],
   "source": [
    "modelo['nombre_zona'].value_counts()"
   ]
  },
  {
   "cell_type": "code",
   "execution_count": 66,
   "metadata": {},
   "outputs": [
    {
     "data": {
      "text/html": [
       "<div>\n",
       "<style scoped>\n",
       "    .dataframe tbody tr th:only-of-type {\n",
       "        vertical-align: middle;\n",
       "    }\n",
       "\n",
       "    .dataframe tbody tr th {\n",
       "        vertical-align: top;\n",
       "    }\n",
       "\n",
       "    .dataframe thead th {\n",
       "        text-align: right;\n",
       "    }\n",
       "</style>\n",
       "<table border=\"1\" class=\"dataframe\">\n",
       "  <thead>\n",
       "    <tr style=\"text-align: right;\">\n",
       "      <th>nombre_zona</th>\n",
       "      <th>1</th>\n",
       "      <th>2</th>\n",
       "      <th>3</th>\n",
       "    </tr>\n",
       "    <tr>\n",
       "      <th>rango_edad</th>\n",
       "      <th></th>\n",
       "      <th></th>\n",
       "      <th></th>\n",
       "    </tr>\n",
       "  </thead>\n",
       "  <tbody>\n",
       "    <tr>\n",
       "      <th>1.0</th>\n",
       "      <td>0.116667</td>\n",
       "      <td>0.354065</td>\n",
       "      <td>0.341469</td>\n",
       "    </tr>\n",
       "    <tr>\n",
       "      <th>2.0</th>\n",
       "      <td>0.308333</td>\n",
       "      <td>0.296799</td>\n",
       "      <td>0.296451</td>\n",
       "    </tr>\n",
       "    <tr>\n",
       "      <th>3.0</th>\n",
       "      <td>0.416667</td>\n",
       "      <td>0.257249</td>\n",
       "      <td>0.267721</td>\n",
       "    </tr>\n",
       "    <tr>\n",
       "      <th>4.0</th>\n",
       "      <td>0.158333</td>\n",
       "      <td>0.091887</td>\n",
       "      <td>0.094359</td>\n",
       "    </tr>\n",
       "  </tbody>\n",
       "</table>\n",
       "</div>"
      ],
      "text/plain": [
       "nombre_zona         1         2         3\n",
       "rango_edad                               \n",
       "1.0          0.116667  0.354065  0.341469\n",
       "2.0          0.308333  0.296799  0.296451\n",
       "3.0          0.416667  0.257249  0.267721\n",
       "4.0          0.158333  0.091887  0.094359"
      ]
     },
     "execution_count": 66,
     "metadata": {},
     "output_type": "execute_result"
    }
   ],
   "source": [
    "edad_vs_zona_t = pd.crosstab(modelo_si['rango_edad'], modelo_si['nombre_zona'], normalize='columns')\n",
    "edad_vs_zona_t"
   ]
  },
  {
   "cell_type": "code",
   "execution_count": 67,
   "metadata": {},
   "outputs": [
    {
     "data": {
      "text/plain": [
       "Text(105,0.5,'Rango edad')"
      ]
     },
     "execution_count": 67,
     "metadata": {},
     "output_type": "execute_result"
    },
    {
     "data": {
      "image/png": "[encoded data removed]",
      "text/plain": [
       "<matplotlib.figure.Figure at 0x2c14bed4b38>"
      ]
     },
     "metadata": {},
     "output_type": "display_data"
    }
   ],
   "source": [
    "fig, ax = plt.subplots(figsize=(14,4))\n",
    "heatmap = sns.heatmap(edad_vs_zona_t, cmap='Purples', robust=False, annot=False,\\\n",
    "                      linewidths=.5, linecolor='grey', ax=ax)\n",
    "\n",
    "heatmap.set_title('Rango edad vs Nombre zona', fontsize=18)\n",
    "heatmap.set_xlabel('Nombre zona', fontsize=14)\n",
    "heatmap.set_ylabel('Rango edad', fontsize=14)"
   ]
  },
  {
   "cell_type": "markdown",
   "metadata": {},
   "source": [
    "Creamos una columna en el dataframe contenedora del peso correspondiente a la combinación de las dos variables categóricas."
   ]
  },
  {
   "cell_type": "code",
   "execution_count": 68,
   "metadata": {},
   "outputs": [],
   "source": [
    "n_zonas = 3\n",
    "for index, row in edad_vs_zona_t.iterrows():\n",
    "    for i in range(1,n_zonas+1):\n",
    "        peso = row[i]\n",
    "        nombre_zona = i\n",
    "        rango_edad = index\n",
    "        relacion = (modelo['nombre_zona'] == nombre_zona) & (modelo['rango_edad'] == rango_edad)\n",
    "        modelo.loc[(relacion), 'edad_vs_zona'] = peso"
   ]
  },
  {
   "cell_type": "code",
   "execution_count": 69,
   "metadata": {},
   "outputs": [
    {
     "data": {
      "text/html": [
       "<div>\n",
       "<style scoped>\n",
       "    .dataframe tbody tr th:only-of-type {\n",
       "        vertical-align: middle;\n",
       "    }\n",
       "\n",
       "    .dataframe tbody tr th {\n",
       "        vertical-align: top;\n",
       "    }\n",
       "\n",
       "    .dataframe thead th {\n",
       "        text-align: right;\n",
       "    }\n",
       "</style>\n",
       "<table border=\"1\" class=\"dataframe\">\n",
       "  <thead>\n",
       "    <tr style=\"text-align: right;\">\n",
       "      <th></th>\n",
       "      <th>idaviso</th>\n",
       "      <th>idpostulante</th>\n",
       "      <th>cant_vistas</th>\n",
       "      <th>rango_edad</th>\n",
       "      <th>sexo</th>\n",
       "      <th>nivel_estudios</th>\n",
       "      <th>esta_estudiando</th>\n",
       "      <th>titulo</th>\n",
       "      <th>descripcion</th>\n",
       "      <th>tipo_de_trabajo</th>\n",
       "      <th>nivel_laboral</th>\n",
       "      <th>nombre_zona</th>\n",
       "      <th>nombre_area</th>\n",
       "      <th>nombre_empresa</th>\n",
       "      <th>sepostulo</th>\n",
       "      <th>edad_vs_zona</th>\n",
       "      <th>estudios_vs_laboral</th>\n",
       "      <th>estudia_vs_tipo_trabajo</th>\n",
       "      <th>edad_vs_tipo_trabajo</th>\n",
       "    </tr>\n",
       "  </thead>\n",
       "  <tbody>\n",
       "    <tr>\n",
       "      <th>99440</th>\n",
       "      <td>1112428125</td>\n",
       "      <td>0zPvaOM</td>\n",
       "      <td>1.0</td>\n",
       "      <td>1.0</td>\n",
       "      <td>1</td>\n",
       "      <td>2.0</td>\n",
       "      <td>0.0</td>\n",
       "      <td>Cajeros - Repositores para importante retail Z...</td>\n",
       "      <td>&lt;p style=\"\"&gt;&lt;span style=\"\"&gt;Nos encontramos en ...</td>\n",
       "      <td>10</td>\n",
       "      <td>3</td>\n",
       "      <td>3</td>\n",
       "      <td>Ventas</td>\n",
       "      <td>Assistem</td>\n",
       "      <td>0</td>\n",
       "      <td>0.341469</td>\n",
       "      <td>0.665132</td>\n",
       "      <td>0.653193</td>\n",
       "      <td>0.313955</td>\n",
       "    </tr>\n",
       "    <tr>\n",
       "      <th>738790</th>\n",
       "      <td>1112172032</td>\n",
       "      <td>NQA2ax</td>\n",
       "      <td>1.0</td>\n",
       "      <td>2.0</td>\n",
       "      <td>1</td>\n",
       "      <td>4.0</td>\n",
       "      <td>1.0</td>\n",
       "      <td>Analista contable - Eventual por licencia</td>\n",
       "      <td>&lt;p&gt;&lt;strong&gt;Adecco Office&lt;/strong&gt; está especia...</td>\n",
       "      <td>10</td>\n",
       "      <td>2</td>\n",
       "      <td>3</td>\n",
       "      <td>Contabilidad</td>\n",
       "      <td>Adecco -Región Office</td>\n",
       "      <td>1</td>\n",
       "      <td>0.296451</td>\n",
       "      <td>0.246337</td>\n",
       "      <td>0.346807</td>\n",
       "      <td>0.303406</td>\n",
       "    </tr>\n",
       "    <tr>\n",
       "      <th>550111</th>\n",
       "      <td>1112393185</td>\n",
       "      <td>EzpObY9</td>\n",
       "      <td>1.0</td>\n",
       "      <td>2.0</td>\n",
       "      <td>2</td>\n",
       "      <td>4.0</td>\n",
       "      <td>1.0</td>\n",
       "      <td>ADMINISTRATIVO DE FACTURACIÓN</td>\n",
       "      <td>?Estamos buscando UN/A ADMINISTRATIVO DE FACTU...</td>\n",
       "      <td>10</td>\n",
       "      <td>2</td>\n",
       "      <td>3</td>\n",
       "      <td>Comercial</td>\n",
       "      <td>VIDITEC S.A.</td>\n",
       "      <td>1</td>\n",
       "      <td>0.296451</td>\n",
       "      <td>0.246337</td>\n",
       "      <td>0.346807</td>\n",
       "      <td>0.303406</td>\n",
       "    </tr>\n",
       "    <tr>\n",
       "      <th>556398</th>\n",
       "      <td>1112443991</td>\n",
       "      <td>4rPKEWP</td>\n",
       "      <td>1.0</td>\n",
       "      <td>1.0</td>\n",
       "      <td>1</td>\n",
       "      <td>4.0</td>\n",
       "      <td>1.0</td>\n",
       "      <td>Operadores Call Center para captar fondos para...</td>\n",
       "      <td>&lt;p style=\"\"&gt;Buscamos candidatos extrovertidos,...</td>\n",
       "      <td>9</td>\n",
       "      <td>1</td>\n",
       "      <td>2</td>\n",
       "      <td>Telemarketing</td>\n",
       "      <td>Qendar</td>\n",
       "      <td>1</td>\n",
       "      <td>0.354065</td>\n",
       "      <td>0.068738</td>\n",
       "      <td>0.468003</td>\n",
       "      <td>0.504347</td>\n",
       "    </tr>\n",
       "    <tr>\n",
       "      <th>420525</th>\n",
       "      <td>1112445506</td>\n",
       "      <td>Yj5M6RJ</td>\n",
       "      <td>1.0</td>\n",
       "      <td>3.0</td>\n",
       "      <td>2</td>\n",
       "      <td>2.0</td>\n",
       "      <td>0.0</td>\n",
       "      <td>Operarios textiles y Tec. de mantenimiento p/ ...</td>\n",
       "      <td>&lt;p&gt;Importante Empresa Textil se encuentra en l...</td>\n",
       "      <td>10</td>\n",
       "      <td>2</td>\n",
       "      <td>3</td>\n",
       "      <td>Producción</td>\n",
       "      <td>Suministra</td>\n",
       "      <td>0</td>\n",
       "      <td>0.267721</td>\n",
       "      <td>0.206178</td>\n",
       "      <td>0.653193</td>\n",
       "      <td>0.281259</td>\n",
       "    </tr>\n",
       "  </tbody>\n",
       "</table>\n",
       "</div>"
      ],
      "text/plain": [
       "           idaviso idpostulante  cant_vistas  rango_edad  sexo  \\\n",
       "99440   1112428125      0zPvaOM          1.0         1.0     1   \n",
       "738790  1112172032       NQA2ax          1.0         2.0     1   \n",
       "550111  1112393185      EzpObY9          1.0         2.0     2   \n",
       "556398  1112443991      4rPKEWP          1.0         1.0     1   \n",
       "420525  1112445506      Yj5M6RJ          1.0         3.0     2   \n",
       "\n",
       "        nivel_estudios  esta_estudiando  \\\n",
       "99440              2.0              0.0   \n",
       "738790             4.0              1.0   \n",
       "550111             4.0              1.0   \n",
       "556398             4.0              1.0   \n",
       "420525             2.0              0.0   \n",
       "\n",
       "                                                   titulo  \\\n",
       "99440   Cajeros - Repositores para importante retail Z...   \n",
       "738790          Analista contable - Eventual por licencia   \n",
       "550111                      ADMINISTRATIVO DE FACTURACIÓN   \n",
       "556398  Operadores Call Center para captar fondos para...   \n",
       "420525  Operarios textiles y Tec. de mantenimiento p/ ...   \n",
       "\n",
       "                                              descripcion  tipo_de_trabajo  \\\n",
       "99440   <p style=\"\"><span style=\"\">Nos encontramos en ...               10   \n",
       "738790  <p><strong>Adecco Office</strong> está especia...               10   \n",
       "550111  ?Estamos buscando UN/A ADMINISTRATIVO DE FACTU...               10   \n",
       "556398  <p style=\"\">Buscamos candidatos extrovertidos,...                9   \n",
       "420525  <p>Importante Empresa Textil se encuentra en l...               10   \n",
       "\n",
       "        nivel_laboral  nombre_zona    nombre_area         nombre_empresa  \\\n",
       "99440               3            3         Ventas               Assistem   \n",
       "738790              2            3   Contabilidad  Adecco -Región Office   \n",
       "550111              2            3      Comercial           VIDITEC S.A.   \n",
       "556398              1            2  Telemarketing                 Qendar   \n",
       "420525              2            3     Producción             Suministra   \n",
       "\n",
       "        sepostulo  edad_vs_zona  estudios_vs_laboral  estudia_vs_tipo_trabajo  \\\n",
       "99440           0      0.341469             0.665132                 0.653193   \n",
       "738790          1      0.296451             0.246337                 0.346807   \n",
       "550111          1      0.296451             0.246337                 0.346807   \n",
       "556398          1      0.354065             0.068738                 0.468003   \n",
       "420525          0      0.267721             0.206178                 0.653193   \n",
       "\n",
       "        edad_vs_tipo_trabajo  \n",
       "99440               0.313955  \n",
       "738790              0.303406  \n",
       "550111              0.303406  \n",
       "556398              0.504347  \n",
       "420525              0.281259  "
      ]
     },
     "execution_count": 69,
     "metadata": {},
     "output_type": "execute_result"
    }
   ],
   "source": [
    "modelo.sample(5)"
   ]
  },
  {
   "cell_type": "code",
   "execution_count": 70,
   "metadata": {},
   "outputs": [
    {
     "name": "stdout",
     "output_type": "stream",
     "text": [
      "<class 'pandas.core.frame.DataFrame'>\n",
      "RangeIndex: 1000000 entries, 0 to 999999\n",
      "Data columns (total 19 columns):\n",
      "idaviso                    1000000 non-null int64\n",
      "idpostulante               1000000 non-null object\n",
      "cant_vistas                1000000 non-null float64\n",
      "rango_edad                 1000000 non-null float64\n",
      "sexo                       1000000 non-null int64\n",
      "nivel_estudios             1000000 non-null float64\n",
      "esta_estudiando            1000000 non-null float64\n",
      "titulo                     1000000 non-null object\n",
      "descripcion                1000000 non-null object\n",
      "tipo_de_trabajo            1000000 non-null int64\n",
      "nivel_laboral              1000000 non-null int64\n",
      "nombre_zona                1000000 non-null int64\n",
      "nombre_area                1000000 non-null object\n",
      "nombre_empresa             999939 non-null object\n",
      "sepostulo                  1000000 non-null int64\n",
      "edad_vs_zona               1000000 non-null float64\n",
      "estudios_vs_laboral        1000000 non-null float64\n",
      "estudia_vs_tipo_trabajo    1000000 non-null float64\n",
      "edad_vs_tipo_trabajo       1000000 non-null float64\n",
      "dtypes: float64(8), int64(6), object(5)\n",
      "memory usage: 145.0+ MB\n"
     ]
    }
   ],
   "source": [
    "modelo.info()"
   ]
  },
  {
   "cell_type": "markdown",
   "metadata": {},
   "source": [
    " "
   ]
  },
  {
   "cell_type": "markdown",
   "metadata": {},
   "source": [
    "### Relación entre las distintas áreas"
   ]
  },
  {
   "cell_type": "markdown",
   "metadata": {},
   "source": [
    "La idea es encontrar relaciones fuertes entre las distintas áreas de los avisos laborales. Para esto, comenzamos por analizar las áreas a las que se postuló cada postulante.\n",
    "\n",
    "Cabe destacar que únicamente nos interesa si el postulante se postuló o no a una cierta área: no influye la cantidad de veces que lo hizo."
   ]
  },
  {
   "cell_type": "code",
   "execution_count": 71,
   "metadata": {},
   "outputs": [],
   "source": [
    "# Eliminamos las postulaciones duplicadas de un mismo postulante a una misma área\n",
    "modelo_areas = modelo_si.drop_duplicates(['idpostulante','nombre_area'])\n",
    "\n",
    "# Creamos un diccionario del estilo {idpostulante:[areas_a_las_que_se_postulo]}\n",
    "dic_id_area = {}\n",
    "for index, row in modelo_si.iterrows():\n",
    "    area = row['nombre_area']\n",
    "    idpostulante = row['idpostulante']\n",
    "    if (idpostulante not in dic_id_area):\n",
    "        dic_id_area[idpostulante] = [area]\n",
    "    else:\n",
    "        if (area not in dic_id_area[idpostulante]):\n",
    "            dic_id_area[idpostulante].append(area)"
   ]
  },
  {
   "cell_type": "markdown",
   "metadata": {},
   "source": [
    "Creamos una lista de listas. Cada sublista contiene las areas a las que se postuló cada postulante. Ya no nos interesa el idpostulante, sino las areas en común.\n",
    "\n",
    "NOTA: tomamos listas de mas de un elemento y menos de 8, ya que luego calcularemos todas las duplas\n",
    "posibles para cada lista. Considerar que 7C2 = 21 duplas como máximo por lista."
   ]
  },
  {
   "cell_type": "code",
   "execution_count": 72,
   "metadata": {},
   "outputs": [],
   "source": [
    "lista_areas = []\n",
    "for id in dic_id_area:\n",
    "    areas = dic_id_area[id]\n",
    "    if (len(areas) > 1 and len(areas) < 8):\n",
    "        lista_areas.append(areas)"
   ]
  },
  {
   "cell_type": "code",
   "execution_count": 73,
   "metadata": {},
   "outputs": [
    {
     "data": {
      "text/html": [
       "<div>\n",
       "<style scoped>\n",
       "    .dataframe tbody tr th:only-of-type {\n",
       "        vertical-align: middle;\n",
       "    }\n",
       "\n",
       "    .dataframe tbody tr th {\n",
       "        vertical-align: top;\n",
       "    }\n",
       "\n",
       "    .dataframe thead th {\n",
       "        text-align: right;\n",
       "    }\n",
       "</style>\n",
       "<table border=\"1\" class=\"dataframe\">\n",
       "  <thead>\n",
       "    <tr style=\"text-align: right;\">\n",
       "      <th></th>\n",
       "      <th>areas</th>\n",
       "    </tr>\n",
       "  </thead>\n",
       "  <tbody>\n",
       "    <tr>\n",
       "      <th>0</th>\n",
       "      <td>[Administración, Recepcionista, Comercial]</td>\n",
       "    </tr>\n",
       "    <tr>\n",
       "      <th>1</th>\n",
       "      <td>[Abastecimiento, Producción]</td>\n",
       "    </tr>\n",
       "    <tr>\n",
       "      <th>2</th>\n",
       "      <td>[Hotelería, Mantenimiento y Limpieza]</td>\n",
       "    </tr>\n",
       "    <tr>\n",
       "      <th>3</th>\n",
       "      <td>[Ventas, Producción, Atención al Cliente]</td>\n",
       "    </tr>\n",
       "    <tr>\n",
       "      <th>4</th>\n",
       "      <td>[Marketing, Comunicacion, Administración]</td>\n",
       "    </tr>\n",
       "  </tbody>\n",
       "</table>\n",
       "</div>"
      ],
      "text/plain": [
       "                                        areas\n",
       "0  [Administración, Recepcionista, Comercial]\n",
       "1                [Abastecimiento, Producción]\n",
       "2       [Hotelería, Mantenimiento y Limpieza]\n",
       "3   [Ventas, Producción, Atención al Cliente]\n",
       "4   [Marketing, Comunicacion, Administración]"
      ]
     },
     "execution_count": 73,
     "metadata": {},
     "output_type": "execute_result"
    }
   ],
   "source": [
    "df_areas = pd.DataFrame({'areas':lista_areas})\n",
    "df_areas.head(5)"
   ]
  },
  {
   "cell_type": "code",
   "execution_count": 74,
   "metadata": {},
   "outputs": [
    {
     "name": "stdout",
     "output_type": "stream",
     "text": [
      "<class 'pandas.core.frame.DataFrame'>\n",
      "RangeIndex: 75050 entries, 0 to 75049\n",
      "Data columns (total 1 columns):\n",
      "areas    75050 non-null object\n",
      "dtypes: object(1)\n",
      "memory usage: 586.4+ KB\n"
     ]
    }
   ],
   "source": [
    "df_areas.info()"
   ]
  },
  {
   "cell_type": "markdown",
   "metadata": {},
   "source": [
    " "
   ]
  },
  {
   "cell_type": "markdown",
   "metadata": {},
   "source": [
    "A continuación, calcularemos todas las duplas posibles para cada lista de áreas y las ordenaremos de mayor a menor por cantidad de apariciones. De esta forma, podremos saber cuáles son las combinaciones de áreas más comunes."
   ]
  },
  {
   "cell_type": "code",
   "execution_count": 75,
   "metadata": {},
   "outputs": [],
   "source": [
    "dic_tuplas = {}\n",
    "contador = 0\n",
    "for index, row in df_areas.iterrows():\n",
    "    areas = sorted(row['areas'])\n",
    "    for area_x in areas:\n",
    "        indice = areas.index(area_x)\n",
    "        for area_y in areas[indice+1:]:\n",
    "            tupla = (area_x, area_y)\n",
    "            if (tupla not in dic_tuplas):\n",
    "                dic_tuplas[tupla] = 1\n",
    "            else:\n",
    "                dic_tuplas[tupla] += 1"
   ]
  },
  {
   "cell_type": "code",
   "execution_count": 76,
   "metadata": {},
   "outputs": [
    {
     "data": {
      "text/html": [
       "<div>\n",
       "<style scoped>\n",
       "    .dataframe tbody tr th:only-of-type {\n",
       "        vertical-align: middle;\n",
       "    }\n",
       "\n",
       "    .dataframe tbody tr th {\n",
       "        vertical-align: top;\n",
       "    }\n",
       "\n",
       "    .dataframe thead th {\n",
       "        text-align: right;\n",
       "    }\n",
       "</style>\n",
       "<table border=\"1\" class=\"dataframe\">\n",
       "  <thead>\n",
       "    <tr style=\"text-align: right;\">\n",
       "      <th></th>\n",
       "      <th>dupla_areas</th>\n",
       "      <th>cantidad</th>\n",
       "    </tr>\n",
       "  </thead>\n",
       "  <tbody>\n",
       "    <tr>\n",
       "      <th>0</th>\n",
       "      <td>(Comercial, Ventas)</td>\n",
       "      <td>7995</td>\n",
       "    </tr>\n",
       "    <tr>\n",
       "      <th>1</th>\n",
       "      <td>(Atención al Cliente, Ventas)</td>\n",
       "      <td>7145</td>\n",
       "    </tr>\n",
       "    <tr>\n",
       "      <th>2</th>\n",
       "      <td>(Administración, Ventas)</td>\n",
       "      <td>5279</td>\n",
       "    </tr>\n",
       "    <tr>\n",
       "      <th>3</th>\n",
       "      <td>(Call Center, Ventas)</td>\n",
       "      <td>4812</td>\n",
       "    </tr>\n",
       "    <tr>\n",
       "      <th>4</th>\n",
       "      <td>(Atención al Cliente, Call Center)</td>\n",
       "      <td>4057</td>\n",
       "    </tr>\n",
       "    <tr>\n",
       "      <th>5</th>\n",
       "      <td>(Atención al Cliente, Comercial)</td>\n",
       "      <td>3965</td>\n",
       "    </tr>\n",
       "    <tr>\n",
       "      <th>6</th>\n",
       "      <td>(Recepcionista, Ventas)</td>\n",
       "      <td>3948</td>\n",
       "    </tr>\n",
       "    <tr>\n",
       "      <th>7</th>\n",
       "      <td>(Administración, Comercial)</td>\n",
       "      <td>3911</td>\n",
       "    </tr>\n",
       "    <tr>\n",
       "      <th>8</th>\n",
       "      <td>(Administración, Recepcionista)</td>\n",
       "      <td>3807</td>\n",
       "    </tr>\n",
       "    <tr>\n",
       "      <th>9</th>\n",
       "      <td>(Administración, Atención al Cliente)</td>\n",
       "      <td>3638</td>\n",
       "    </tr>\n",
       "  </tbody>\n",
       "</table>\n",
       "</div>"
      ],
      "text/plain": [
       "                             dupla_areas  cantidad\n",
       "0                    (Comercial, Ventas)      7995\n",
       "1          (Atención al Cliente, Ventas)      7145\n",
       "2               (Administración, Ventas)      5279\n",
       "3                  (Call Center, Ventas)      4812\n",
       "4     (Atención al Cliente, Call Center)      4057\n",
       "5       (Atención al Cliente, Comercial)      3965\n",
       "6                (Recepcionista, Ventas)      3948\n",
       "7            (Administración, Comercial)      3911\n",
       "8        (Administración, Recepcionista)      3807\n",
       "9  (Administración, Atención al Cliente)      3638"
      ]
     },
     "execution_count": 76,
     "metadata": {},
     "output_type": "execute_result"
    }
   ],
   "source": [
    "df_tuplas = pd.DataFrame(list(dic_tuplas.items()), columns=['dupla_areas','cantidad'])\n",
    "df_tuplas = df_tuplas.sort_values(by=['cantidad'], ascending=False).reset_index()\n",
    "df_tuplas = df_tuplas[['dupla_areas', 'cantidad']]\n",
    "\n",
    "df_tuplas.head(10)"
   ]
  },
  {
   "cell_type": "code",
   "execution_count": 77,
   "metadata": {},
   "outputs": [
    {
     "name": "stdout",
     "output_type": "stream",
     "text": [
      "<class 'pandas.core.frame.DataFrame'>\n",
      "RangeIndex: 7304 entries, 0 to 7303\n",
      "Data columns (total 2 columns):\n",
      "dupla_areas    7304 non-null object\n",
      "cantidad       7304 non-null int64\n",
      "dtypes: int64(1), object(1)\n",
      "memory usage: 114.2+ KB\n"
     ]
    }
   ],
   "source": [
    "df_tuplas.info()"
   ]
  },
  {
   "cell_type": "markdown",
   "metadata": {},
   "source": [
    " "
   ]
  },
  {
   "cell_type": "markdown",
   "metadata": {},
   "source": [
    "### Exportamos el modelo final con los nuevos features"
   ]
  },
  {
   "cell_type": "code",
   "execution_count": 78,
   "metadata": {},
   "outputs": [
    {
     "data": {
      "text/html": [
       "<div>\n",
       "<style scoped>\n",
       "    .dataframe tbody tr th:only-of-type {\n",
       "        vertical-align: middle;\n",
       "    }\n",
       "\n",
       "    .dataframe tbody tr th {\n",
       "        vertical-align: top;\n",
       "    }\n",
       "\n",
       "    .dataframe thead th {\n",
       "        text-align: right;\n",
       "    }\n",
       "</style>\n",
       "<table border=\"1\" class=\"dataframe\">\n",
       "  <thead>\n",
       "    <tr style=\"text-align: right;\">\n",
       "      <th></th>\n",
       "      <th>idaviso</th>\n",
       "      <th>idpostulante</th>\n",
       "      <th>cant_vistas</th>\n",
       "      <th>rango_edad</th>\n",
       "      <th>sexo</th>\n",
       "      <th>nivel_estudios</th>\n",
       "      <th>esta_estudiando</th>\n",
       "      <th>titulo</th>\n",
       "      <th>descripcion</th>\n",
       "      <th>tipo_de_trabajo</th>\n",
       "      <th>nivel_laboral</th>\n",
       "      <th>nombre_zona</th>\n",
       "      <th>nombre_area</th>\n",
       "      <th>nombre_empresa</th>\n",
       "      <th>sepostulo</th>\n",
       "      <th>edad_vs_zona</th>\n",
       "      <th>estudios_vs_laboral</th>\n",
       "      <th>estudia_vs_tipo_trabajo</th>\n",
       "      <th>edad_vs_tipo_trabajo</th>\n",
       "    </tr>\n",
       "  </thead>\n",
       "  <tbody>\n",
       "    <tr>\n",
       "      <th>320680</th>\n",
       "      <td>1112440817</td>\n",
       "      <td>5mrPvOz</td>\n",
       "      <td>1.0</td>\n",
       "      <td>4.0</td>\n",
       "      <td>2</td>\n",
       "      <td>3.0</td>\n",
       "      <td>0.0</td>\n",
       "      <td>Agente de Propaganda Médica</td>\n",
       "      <td>&lt;p&gt;Beiersdorf, compañía alemana líder en el cu...</td>\n",
       "      <td>10</td>\n",
       "      <td>3</td>\n",
       "      <td>3</td>\n",
       "      <td>Producto</td>\n",
       "      <td>BEIERSDORF</td>\n",
       "      <td>0</td>\n",
       "      <td>0.094359</td>\n",
       "      <td>0.662107</td>\n",
       "      <td>0.653193</td>\n",
       "      <td>0.101380</td>\n",
       "    </tr>\n",
       "    <tr>\n",
       "      <th>686148</th>\n",
       "      <td>1112348847</td>\n",
       "      <td>pzNZjmW</td>\n",
       "      <td>1.0</td>\n",
       "      <td>2.0</td>\n",
       "      <td>1</td>\n",
       "      <td>3.0</td>\n",
       "      <td>0.0</td>\n",
       "      <td>Administrativo/a pagos</td>\n",
       "      <td>&lt;p&gt;Para importante empresa ubicada en la ciuda...</td>\n",
       "      <td>10</td>\n",
       "      <td>3</td>\n",
       "      <td>3</td>\n",
       "      <td>Administración</td>\n",
       "      <td>RANDSTAD</td>\n",
       "      <td>1</td>\n",
       "      <td>0.296451</td>\n",
       "      <td>0.662107</td>\n",
       "      <td>0.653193</td>\n",
       "      <td>0.303406</td>\n",
       "    </tr>\n",
       "    <tr>\n",
       "      <th>7069</th>\n",
       "      <td>1111937898</td>\n",
       "      <td>1Q49mRz</td>\n",
       "      <td>1.0</td>\n",
       "      <td>2.0</td>\n",
       "      <td>1</td>\n",
       "      <td>4.0</td>\n",
       "      <td>0.0</td>\n",
       "      <td>Recepcionista Part time</td>\n",
       "      <td>&lt;p&gt;Nos encontramos en la busqueda de una recep...</td>\n",
       "      <td>9</td>\n",
       "      <td>3</td>\n",
       "      <td>3</td>\n",
       "      <td>Recepcionista</td>\n",
       "      <td>GI GROUP Argentina</td>\n",
       "      <td>0</td>\n",
       "      <td>0.296451</td>\n",
       "      <td>0.640948</td>\n",
       "      <td>0.531997</td>\n",
       "      <td>0.256600</td>\n",
       "    </tr>\n",
       "    <tr>\n",
       "      <th>90133</th>\n",
       "      <td>1112401622</td>\n",
       "      <td>3Nk86kr</td>\n",
       "      <td>1.0</td>\n",
       "      <td>1.0</td>\n",
       "      <td>1</td>\n",
       "      <td>2.0</td>\n",
       "      <td>0.0</td>\n",
       "      <td>Vendedores de Electrodomésticos y Sommiers- Ca...</td>\n",
       "      <td>&lt;p&gt;Cadena de venta de productos para el hogar,...</td>\n",
       "      <td>10</td>\n",
       "      <td>3</td>\n",
       "      <td>2</td>\n",
       "      <td>Ventas</td>\n",
       "      <td>LF Consultoras</td>\n",
       "      <td>0</td>\n",
       "      <td>0.354065</td>\n",
       "      <td>0.665132</td>\n",
       "      <td>0.653193</td>\n",
       "      <td>0.313955</td>\n",
       "    </tr>\n",
       "    <tr>\n",
       "      <th>128988</th>\n",
       "      <td>1112398356</td>\n",
       "      <td>OqrlQav</td>\n",
       "      <td>2.0</td>\n",
       "      <td>3.0</td>\n",
       "      <td>1</td>\n",
       "      <td>4.0</td>\n",
       "      <td>0.0</td>\n",
       "      <td>Recepcionista (Part time)</td>\n",
       "      <td>&lt;p&gt;&lt;strong&gt;Adecco Office&lt;/strong&gt; está especia...</td>\n",
       "      <td>9</td>\n",
       "      <td>3</td>\n",
       "      <td>3</td>\n",
       "      <td>Recepcionista</td>\n",
       "      <td>Adecco -Región Office</td>\n",
       "      <td>0</td>\n",
       "      <td>0.267721</td>\n",
       "      <td>0.640948</td>\n",
       "      <td>0.531997</td>\n",
       "      <td>0.184986</td>\n",
       "    </tr>\n",
       "  </tbody>\n",
       "</table>\n",
       "</div>"
      ],
      "text/plain": [
       "           idaviso idpostulante  cant_vistas  rango_edad  sexo  \\\n",
       "320680  1112440817      5mrPvOz          1.0         4.0     2   \n",
       "686148  1112348847      pzNZjmW          1.0         2.0     1   \n",
       "7069    1111937898      1Q49mRz          1.0         2.0     1   \n",
       "90133   1112401622      3Nk86kr          1.0         1.0     1   \n",
       "128988  1112398356      OqrlQav          2.0         3.0     1   \n",
       "\n",
       "        nivel_estudios  esta_estudiando  \\\n",
       "320680             3.0              0.0   \n",
       "686148             3.0              0.0   \n",
       "7069               4.0              0.0   \n",
       "90133              2.0              0.0   \n",
       "128988             4.0              0.0   \n",
       "\n",
       "                                                   titulo  \\\n",
       "320680                        Agente de Propaganda Médica   \n",
       "686148                             Administrativo/a pagos   \n",
       "7069                              Recepcionista Part time   \n",
       "90133   Vendedores de Electrodomésticos y Sommiers- Ca...   \n",
       "128988                          Recepcionista (Part time)   \n",
       "\n",
       "                                              descripcion  tipo_de_trabajo  \\\n",
       "320680  <p>Beiersdorf, compañía alemana líder en el cu...               10   \n",
       "686148  <p>Para importante empresa ubicada en la ciuda...               10   \n",
       "7069    <p>Nos encontramos en la busqueda de una recep...                9   \n",
       "90133   <p>Cadena de venta de productos para el hogar,...               10   \n",
       "128988  <p><strong>Adecco Office</strong> está especia...                9   \n",
       "\n",
       "        nivel_laboral  nombre_zona     nombre_area         nombre_empresa  \\\n",
       "320680              3            3        Producto             BEIERSDORF   \n",
       "686148              3            3  Administración               RANDSTAD   \n",
       "7069                3            3   Recepcionista     GI GROUP Argentina   \n",
       "90133               3            2          Ventas         LF Consultoras   \n",
       "128988              3            3   Recepcionista  Adecco -Región Office   \n",
       "\n",
       "        sepostulo  edad_vs_zona  estudios_vs_laboral  estudia_vs_tipo_trabajo  \\\n",
       "320680          0      0.094359             0.662107                 0.653193   \n",
       "686148          1      0.296451             0.662107                 0.653193   \n",
       "7069            0      0.296451             0.640948                 0.531997   \n",
       "90133           0      0.354065             0.665132                 0.653193   \n",
       "128988          0      0.267721             0.640948                 0.531997   \n",
       "\n",
       "        edad_vs_tipo_trabajo  \n",
       "320680              0.101380  \n",
       "686148              0.303406  \n",
       "7069                0.256600  \n",
       "90133               0.313955  \n",
       "128988              0.184986  "
      ]
     },
     "execution_count": 78,
     "metadata": {},
     "output_type": "execute_result"
    }
   ],
   "source": [
    "modelo.sample(5)"
   ]
  },
  {
   "cell_type": "code",
   "execution_count": 79,
   "metadata": {},
   "outputs": [
    {
     "name": "stdout",
     "output_type": "stream",
     "text": [
      "<class 'pandas.core.frame.DataFrame'>\n",
      "RangeIndex: 1000000 entries, 0 to 999999\n",
      "Data columns (total 19 columns):\n",
      "idaviso                    1000000 non-null int64\n",
      "idpostulante               1000000 non-null object\n",
      "cant_vistas                1000000 non-null float64\n",
      "rango_edad                 1000000 non-null float64\n",
      "sexo                       1000000 non-null int64\n",
      "nivel_estudios             1000000 non-null float64\n",
      "esta_estudiando            1000000 non-null float64\n",
      "titulo                     1000000 non-null object\n",
      "descripcion                1000000 non-null object\n",
      "tipo_de_trabajo            1000000 non-null int64\n",
      "nivel_laboral              1000000 non-null int64\n",
      "nombre_zona                1000000 non-null int64\n",
      "nombre_area                1000000 non-null object\n",
      "nombre_empresa             999939 non-null object\n",
      "sepostulo                  1000000 non-null int64\n",
      "edad_vs_zona               1000000 non-null float64\n",
      "estudios_vs_laboral        1000000 non-null float64\n",
      "estudia_vs_tipo_trabajo    1000000 non-null float64\n",
      "edad_vs_tipo_trabajo       1000000 non-null float64\n",
      "dtypes: float64(8), int64(6), object(5)\n",
      "memory usage: 145.0+ MB\n"
     ]
    }
   ],
   "source": [
    "modelo.info()"
   ]
  },
  {
   "cell_type": "markdown",
   "metadata": {},
   "source": [
    " "
   ]
  },
  {
   "cell_type": "code",
   "execution_count": 80,
   "metadata": {},
   "outputs": [],
   "source": [
    "modelo.to_csv('csv_files\\modelo_final_featured.csv', encoding='utf-8', index=False)"
   ]
  },
  {
   "cell_type": "markdown",
   "metadata": {},
   "source": [
    "### Exportamos los dataframes con los pesos obtenidos para los nuevos features"
   ]
  },
  {
   "cell_type": "code",
   "execution_count": 88,
   "metadata": {},
   "outputs": [],
   "source": [
    "estudios_vs_laboral_t.to_csv('csv_files\\estudios_vs_laboral_t.csv', encoding='utf-8', index=True, header=True)\n",
    "\n",
    "estudiando_vs_tipo_trabajo_t.to_csv('csv_files\\estudiando_vs_tipo_trabajo_t.csv', encoding='utf-8', index=True, header=True)\n",
    "\n",
    "edad_vs_tipo_trabajo_t.to_csv('csv_files\\edad_vs_tipo_trabajo_t.csv', encoding='utf-8', index=True, header=True)\n",
    "\n",
    "edad_vs_zona_t.to_csv('csv_files\\edad_vs_zona_t.csv', encoding='utf-8', index=True, header=True)"
   ]
  }
 ],
 "metadata": {
  "kernelspec": {
   "display_name": "Python 3",
   "language": "python",
   "name": "python3"
  },
  "language_info": {
   "codemirror_mode": {
    "name": "ipython",
    "version": 3
   },
   "file_extension": ".py",
   "mimetype": "text/x-python",
   "name": "python",
   "nbconvert_exporter": "python",
   "pygments_lexer": "ipython3",
   "version": "3.6.4"
  }
 },
 "nbformat": 4,
 "nbformat_minor": 2
}
