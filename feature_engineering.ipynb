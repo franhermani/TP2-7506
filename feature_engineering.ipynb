{
 "cells": [
  {
   "cell_type": "code",
   "execution_count": 29,
   "metadata": {},
   "outputs": [],
   "source": [
    "import pandas as pd\n",
    "import numpy as np\n",
    "import matplotlib.pyplot as plt\n",
    "import seaborn as sns\n",
    "\n",
    "%matplotlib inline"
   ]
  },
  {
   "cell_type": "code",
   "execution_count": 4,
   "metadata": {},
   "outputs": [],
   "source": [
    "modelo = pd.read_csv('modelo_2m_samples.csv')"
   ]
  },
  {
   "cell_type": "code",
   "execution_count": 5,
   "metadata": {},
   "outputs": [
    {
     "name": "stdout",
     "output_type": "stream",
     "text": [
      "<class 'pandas.core.frame.DataFrame'>\n",
      "RangeIndex: 2000000 entries, 0 to 1999999\n",
      "Data columns (total 15 columns):\n",
      "Unnamed: 0         int64\n",
      "idaviso            int64\n",
      "idpostulante       object\n",
      "cant_vistas        float64\n",
      "edad               float64\n",
      "sexo               int64\n",
      "orden_estudio      float64\n",
      "titulo             object\n",
      "descripcion        object\n",
      "tipo_de_trabajo    float64\n",
      "nivel_laboral      float64\n",
      "nombre_zona        float64\n",
      "nombre_area        object\n",
      "nombre_empresa     object\n",
      "se_postulo         int64\n",
      "dtypes: float64(6), int64(4), object(5)\n",
      "memory usage: 228.9+ MB\n"
     ]
    }
   ],
   "source": [
    "modelo.info()"
   ]
  },
  {
   "cell_type": "markdown",
   "metadata": {},
   "source": [
    " "
   ]
  },
  {
   "cell_type": "markdown",
   "metadata": {},
   "source": [
    "### Nivel de estudios vs Nivel laboral"
   ]
  },
  {
   "cell_type": "markdown",
   "metadata": {},
   "source": [
    "Nivel de estudios:\n",
    "- 1 = Otro\n",
    "- 2 = Secundario\n",
    "- 3 = Terciario/Técnico\n",
    "- 4 = Universitario\n",
    "- 5 = Posgrado\n",
    "- 6 = Master\n",
    "- 7 = Doctorado"
   ]
  },
  {
   "cell_type": "markdown",
   "metadata": {},
   "source": [
    "Nivel laboral:\n",
    "- 1 = Otro\n",
    "- 2 = Junior\n",
    "- 3 = Senior / Semi-Senior\n",
    "- 4 = Jefe / Supervisor / Responsable\n",
    "- 5 = Gerencia / Alta Gerencia / Dirección"
   ]
  },
  {
   "cell_type": "code",
   "execution_count": 14,
   "metadata": {},
   "outputs": [
    {
     "data": {
      "text/plain": [
       "9.0     449808\n",
       "4.0     444147\n",
       "0.0     422991\n",
       "10.0    278643\n",
       "7.0     115453\n",
       "8.0      88569\n",
       "6.0      83999\n",
       "13.0     32726\n",
       "3.0      20387\n",
       "16.0     15365\n",
       "12.0     15171\n",
       "2.0      14422\n",
       "15.0     12947\n",
       "11.0      1979\n",
       "14.0      1368\n",
       "19.0       940\n",
       "18.0       932\n",
       "17.0       153\n",
       "Name: orden_estudio, dtype: int64"
      ]
     },
     "execution_count": 14,
     "metadata": {},
     "output_type": "execute_result"
    }
   ],
   "source": [
    "modelo['orden_estudio'].value_counts()\n",
    "#modelo['nivel_estudios'].value_counts()"
   ]
  },
  {
   "cell_type": "code",
   "execution_count": 13,
   "metadata": {},
   "outputs": [
    {
     "data": {
      "text/plain": [
       "3.0    938721\n",
       "0.0    544353\n",
       "2.0    328782\n",
       "1.0    124704\n",
       "4.0     51726\n",
       "5.0     11714\n",
       "Name: nivel_laboral, dtype: int64"
      ]
     },
     "execution_count": 13,
     "metadata": {},
     "output_type": "execute_result"
    }
   ],
   "source": [
    "modelo['nivel_laboral'].value_counts()"
   ]
  },
  {
   "cell_type": "code",
   "execution_count": 35,
   "metadata": {},
   "outputs": [
    {
     "data": {
      "text/html": [
       "<div>\n",
       "<style scoped>\n",
       "    .dataframe tbody tr th:only-of-type {\n",
       "        vertical-align: middle;\n",
       "    }\n",
       "\n",
       "    .dataframe tbody tr th {\n",
       "        vertical-align: top;\n",
       "    }\n",
       "\n",
       "    .dataframe thead th {\n",
       "        text-align: right;\n",
       "    }\n",
       "</style>\n",
       "<table border=\"1\" class=\"dataframe\">\n",
       "  <thead>\n",
       "    <tr style=\"text-align: right;\">\n",
       "      <th>orden_estudio</th>\n",
       "      <th>0.0</th>\n",
       "      <th>2.0</th>\n",
       "      <th>3.0</th>\n",
       "      <th>4.0</th>\n",
       "      <th>6.0</th>\n",
       "      <th>7.0</th>\n",
       "      <th>8.0</th>\n",
       "      <th>9.0</th>\n",
       "      <th>10.0</th>\n",
       "      <th>11.0</th>\n",
       "      <th>12.0</th>\n",
       "      <th>13.0</th>\n",
       "      <th>14.0</th>\n",
       "      <th>15.0</th>\n",
       "      <th>16.0</th>\n",
       "      <th>17.0</th>\n",
       "      <th>18.0</th>\n",
       "      <th>19.0</th>\n",
       "    </tr>\n",
       "    <tr>\n",
       "      <th>nivel_laboral</th>\n",
       "      <th></th>\n",
       "      <th></th>\n",
       "      <th></th>\n",
       "      <th></th>\n",
       "      <th></th>\n",
       "      <th></th>\n",
       "      <th></th>\n",
       "      <th></th>\n",
       "      <th></th>\n",
       "      <th></th>\n",
       "      <th></th>\n",
       "      <th></th>\n",
       "      <th></th>\n",
       "      <th></th>\n",
       "      <th></th>\n",
       "      <th></th>\n",
       "      <th></th>\n",
       "      <th></th>\n",
       "    </tr>\n",
       "  </thead>\n",
       "  <tbody>\n",
       "    <tr>\n",
       "      <th>0.0</th>\n",
       "      <td>341868</td>\n",
       "      <td>1930</td>\n",
       "      <td>2588</td>\n",
       "      <td>55196</td>\n",
       "      <td>10594</td>\n",
       "      <td>14869</td>\n",
       "      <td>11472</td>\n",
       "      <td>56031</td>\n",
       "      <td>37886</td>\n",
       "      <td>262</td>\n",
       "      <td>2115</td>\n",
       "      <td>4631</td>\n",
       "      <td>172</td>\n",
       "      <td>2004</td>\n",
       "      <td>2485</td>\n",
       "      <td>12</td>\n",
       "      <td>120</td>\n",
       "      <td>118</td>\n",
       "    </tr>\n",
       "    <tr>\n",
       "      <th>1.0</th>\n",
       "      <td>11015</td>\n",
       "      <td>1581</td>\n",
       "      <td>2093</td>\n",
       "      <td>41474</td>\n",
       "      <td>6925</td>\n",
       "      <td>8686</td>\n",
       "      <td>6234</td>\n",
       "      <td>30548</td>\n",
       "      <td>12795</td>\n",
       "      <td>105</td>\n",
       "      <td>702</td>\n",
       "      <td>1383</td>\n",
       "      <td>50</td>\n",
       "      <td>439</td>\n",
       "      <td>576</td>\n",
       "      <td>3</td>\n",
       "      <td>54</td>\n",
       "      <td>41</td>\n",
       "    </tr>\n",
       "    <tr>\n",
       "      <th>2.0</th>\n",
       "      <td>15855</td>\n",
       "      <td>2241</td>\n",
       "      <td>3749</td>\n",
       "      <td>81945</td>\n",
       "      <td>17972</td>\n",
       "      <td>21239</td>\n",
       "      <td>16740</td>\n",
       "      <td>108286</td>\n",
       "      <td>49266</td>\n",
       "      <td>290</td>\n",
       "      <td>2503</td>\n",
       "      <td>4386</td>\n",
       "      <td>173</td>\n",
       "      <td>2011</td>\n",
       "      <td>1806</td>\n",
       "      <td>20</td>\n",
       "      <td>161</td>\n",
       "      <td>139</td>\n",
       "    </tr>\n",
       "    <tr>\n",
       "      <th>3.0</th>\n",
       "      <td>51669</td>\n",
       "      <td>8415</td>\n",
       "      <td>11581</td>\n",
       "      <td>255354</td>\n",
       "      <td>46648</td>\n",
       "      <td>66752</td>\n",
       "      <td>50386</td>\n",
       "      <td>243184</td>\n",
       "      <td>158830</td>\n",
       "      <td>1136</td>\n",
       "      <td>8675</td>\n",
       "      <td>18716</td>\n",
       "      <td>794</td>\n",
       "      <td>7118</td>\n",
       "      <td>8279</td>\n",
       "      <td>104</td>\n",
       "      <td>524</td>\n",
       "      <td>556</td>\n",
       "    </tr>\n",
       "    <tr>\n",
       "      <th>4.0</th>\n",
       "      <td>2231</td>\n",
       "      <td>233</td>\n",
       "      <td>328</td>\n",
       "      <td>8908</td>\n",
       "      <td>1606</td>\n",
       "      <td>3251</td>\n",
       "      <td>3021</td>\n",
       "      <td>9898</td>\n",
       "      <td>15962</td>\n",
       "      <td>144</td>\n",
       "      <td>917</td>\n",
       "      <td>2563</td>\n",
       "      <td>125</td>\n",
       "      <td>1018</td>\n",
       "      <td>1396</td>\n",
       "      <td>9</td>\n",
       "      <td>51</td>\n",
       "      <td>65</td>\n",
       "    </tr>\n",
       "    <tr>\n",
       "      <th>5.0</th>\n",
       "      <td>353</td>\n",
       "      <td>22</td>\n",
       "      <td>48</td>\n",
       "      <td>1270</td>\n",
       "      <td>254</td>\n",
       "      <td>656</td>\n",
       "      <td>716</td>\n",
       "      <td>1861</td>\n",
       "      <td>3904</td>\n",
       "      <td>42</td>\n",
       "      <td>259</td>\n",
       "      <td>1047</td>\n",
       "      <td>54</td>\n",
       "      <td>357</td>\n",
       "      <td>823</td>\n",
       "      <td>5</td>\n",
       "      <td>22</td>\n",
       "      <td>21</td>\n",
       "    </tr>\n",
       "  </tbody>\n",
       "</table>\n",
       "</div>"
      ],
      "text/plain": [
       "orden_estudio    0.0   2.0    3.0     4.0    6.0    7.0    8.0     9.0   \\\n",
       "nivel_laboral                                                             \n",
       "0.0            341868  1930   2588   55196  10594  14869  11472   56031   \n",
       "1.0             11015  1581   2093   41474   6925   8686   6234   30548   \n",
       "2.0             15855  2241   3749   81945  17972  21239  16740  108286   \n",
       "3.0             51669  8415  11581  255354  46648  66752  50386  243184   \n",
       "4.0              2231   233    328    8908   1606   3251   3021    9898   \n",
       "5.0               353    22     48    1270    254    656    716    1861   \n",
       "\n",
       "orden_estudio    10.0  11.0  12.0   13.0  14.0  15.0  16.0  17.0  18.0  19.0  \n",
       "nivel_laboral                                                                 \n",
       "0.0             37886   262  2115   4631   172  2004  2485    12   120   118  \n",
       "1.0             12795   105   702   1383    50   439   576     3    54    41  \n",
       "2.0             49266   290  2503   4386   173  2011  1806    20   161   139  \n",
       "3.0            158830  1136  8675  18716   794  7118  8279   104   524   556  \n",
       "4.0             15962   144   917   2563   125  1018  1396     9    51    65  \n",
       "5.0              3904    42   259   1047    54   357   823     5    22    21  "
      ]
     },
     "execution_count": 35,
     "metadata": {},
     "output_type": "execute_result"
    }
   ],
   "source": [
    "estudios_vs_laboral = pd.crosstab(modelo['nivel_laboral'], modelo['orden_estudio'])\n",
    "estudios_vs_laboral"
   ]
  },
  {
   "cell_type": "code",
   "execution_count": 66,
   "metadata": {},
   "outputs": [
    {
     "data": {
      "text/plain": [
       "Text(105,0.5,'Nivel laboral')"
      ]
     },
     "execution_count": 66,
     "metadata": {},
     "output_type": "execute_result"
    },
    {
     "data": {
      "image/png": "[encoded data removed]",
      "text/plain": [
       "<matplotlib.figure.Figure at 0x1beaf556b00>"
      ]
     },
     "metadata": {},
     "output_type": "display_data"
    }
   ],
   "source": [
    "fig, ax = plt.subplots(figsize=(14,4))\n",
    "heatmap = sns.heatmap(estudios_vs_laboral, cmap='Oranges', robust=False, annot=False,\\\n",
    "                      linewidths=.5, ax=ax)\n",
    "\n",
    "heatmap.set_title('Nivel de estudios vs Nivel laboral', fontsize=18)\n",
    "heatmap.set_xlabel('Nivel de estudios', fontsize=14)\n",
    "heatmap.set_ylabel('Nivel laboral', fontsize=14)"
   ]
  },
  {
   "cell_type": "markdown",
   "metadata": {},
   "source": [
    " "
   ]
  },
  {
   "cell_type": "markdown",
   "metadata": {},
   "source": [
    "### Esta estudiando vs Tipo de trabajo"
   ]
  },
  {
   "cell_type": "markdown",
   "metadata": {},
   "source": [
    "Esta estudiando:\n",
    "- 0 = Está graduado o abandonó\n",
    "- 1 = Tiene un título en curso"
   ]
  },
  {
   "cell_type": "markdown",
   "metadata": {},
   "source": [
    "Tipo de trabajo:\n",
    "- 1 = Voluntario\n",
    "- 2 = Primer Empleo\n",
    "- 3 = Fines de Semana\n",
    "- 4 = Por Contrato\n",
    "- 5 = Temporario\n",
    "- 6 = Pasantia\n",
    "- 7 = Por Horas\n",
    "- 8 = Teletrabajo\n",
    "- 9 = Part-time\n",
    "- 10 = Full-time"
   ]
  },
  {
   "cell_type": "code",
   "execution_count": 41,
   "metadata": {},
   "outputs": [],
   "source": [
    "#modelo['esta_estudiando'].value_counts()"
   ]
  },
  {
   "cell_type": "code",
   "execution_count": 42,
   "metadata": {},
   "outputs": [
    {
     "data": {
      "text/plain": [
       "10.0    1235955\n",
       "0.0      544353\n",
       "9.0      194913\n",
       "6.0        7435\n",
       "7.0        5170\n",
       "5.0        4370\n",
       "8.0        2682\n",
       "3.0        2405\n",
       "4.0        2277\n",
       "2.0         402\n",
       "1.0          38\n",
       "Name: tipo_de_trabajo, dtype: int64"
      ]
     },
     "execution_count": 42,
     "metadata": {},
     "output_type": "execute_result"
    }
   ],
   "source": [
    "modelo['tipo_de_trabajo'].value_counts()"
   ]
  },
  {
   "cell_type": "code",
   "execution_count": 43,
   "metadata": {},
   "outputs": [],
   "source": [
    "#estudiando_vs_tipo_trabajo = pd.crosstab(modelo['esta_estudiando'], modelo['tipo_de_trabajo'])\n",
    "#estudiando_vs_tipo_trabajo"
   ]
  },
  {
   "cell_type": "code",
   "execution_count": 45,
   "metadata": {},
   "outputs": [],
   "source": [
    "#bar_plot = estudiando_vs_tipo_trabajo.plot(kind='bar', color=['green','red'], legend=None,\\\n",
    "#                                           grid=False, figsize=(14,10), fontsize=14)\n",
    "\n",
    "#bar_plot.set_title('Esta estudiando vs Tipo de trabajo', fontsize=18)\n",
    "#bar_plot.set_xlabel('Esta estudiando', fontsize=14)\n",
    "#bar_plot.set_ylabel('Tipo de trabajo', fontsize=14)\n",
    "#bar_plot.legend(labels=['Esta estudiando','No esta estudiando'])"
   ]
  },
  {
   "cell_type": "markdown",
   "metadata": {},
   "source": [
    " "
   ]
  },
  {
   "cell_type": "markdown",
   "metadata": {},
   "source": [
    "### Rango de edad vs Tipo de trabajo"
   ]
  },
  {
   "cell_type": "markdown",
   "metadata": {},
   "source": [
    "Rango de edad:\n",
    "- 1 = 18-25 \n",
    "- 2 = 26-30\n",
    "- 3 = 31-40\n",
    "- 4 = 41-68"
   ]
  },
  {
   "cell_type": "markdown",
   "metadata": {},
   "source": [
    "Tipo de trabajo:\n",
    "- 1 = Voluntario\n",
    "- 2 = Primer Empleo\n",
    "- 3 = Fines de Semana\n",
    "- 4 = Por Contrato\n",
    "- 5 = Temporario\n",
    "- 6 = Pasantia\n",
    "- 7 = Por Horas\n",
    "- 8 = Teletrabajo\n",
    "- 9 = Part-time\n",
    "- 10 = Full-time"
   ]
  },
  {
   "cell_type": "code",
   "execution_count": 47,
   "metadata": {},
   "outputs": [],
   "source": [
    "#edad_vs_tipo_trabajo = pd.crosstab(modelo['rango_edad'], modelo['tipo_de_trabajo'])\n",
    "#edad_vs_tipo_trabajo"
   ]
  },
  {
   "cell_type": "code",
   "execution_count": 50,
   "metadata": {},
   "outputs": [],
   "source": [
    "#fig, ax = plt.subplots(figsize=(14,4))\n",
    "#heatmap = sns.heatmap(edad_vs_tipo_trabajo, cmap='YlGnBu', annot=False, linewidths=.5, ax=ax)\n",
    "#heatmap"
   ]
  },
  {
   "cell_type": "markdown",
   "metadata": {},
   "source": [
    " "
   ]
  },
  {
   "cell_type": "markdown",
   "metadata": {},
   "source": [
    "### Rango de edad vs Nombre zona"
   ]
  },
  {
   "cell_type": "markdown",
   "metadata": {},
   "source": [
    "Rango de edad:\n",
    "- 1 = 18-25 \n",
    "- 2 = 26-30\n",
    "- 3 = 31-40\n",
    "- 4 = 41-68"
   ]
  },
  {
   "cell_type": "markdown",
   "metadata": {},
   "source": [
    "Nombre zona:\n",
    "- 1 = Otros\n",
    "- 2 = Capital Federal\n",
    "- 3 = Gran Buenos Aires"
   ]
  },
  {
   "cell_type": "code",
   "execution_count": 64,
   "metadata": {},
   "outputs": [],
   "source": [
    "#edad_vs_zona = pd.crosstab(modelo['rango_edad'], modelo['nombre_zona'])\n",
    "#edad_vs_zona"
   ]
  },
  {
   "cell_type": "code",
   "execution_count": 67,
   "metadata": {},
   "outputs": [],
   "source": [
    "#fig, ax = plt.subplots(figsize=(14,4))\n",
    "#heatmap = sns.heatmap(edad_vs_zona, cmap='gist_gray', annot=False, linewidths=.5, ax=ax)\n",
    "#heatmap"
   ]
  },
  {
   "cell_type": "markdown",
   "metadata": {},
   "source": [
    " "
   ]
  },
  {
   "cell_type": "code",
   "execution_count": null,
   "metadata": {},
   "outputs": [],
   "source": []
  }
 ],
 "metadata": {
  "kernelspec": {
   "display_name": "Python 3",
   "language": "python",
   "name": "python3"
  },
  "language_info": {
   "codemirror_mode": {
    "name": "ipython",
    "version": 3
   },
   "file_extension": ".py",
   "mimetype": "text/x-python",
   "name": "python",
   "nbconvert_exporter": "python",
   "pygments_lexer": "ipython3",
   "version": "3.6.4"
  }
 },
 "nbformat": 4,
 "nbformat_minor": 2
}
