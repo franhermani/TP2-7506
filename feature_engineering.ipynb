{
 "cells": [
  {
   "cell_type": "code",
   "execution_count": 100,
   "metadata": {},
   "outputs": [],
   "source": [
    "import pandas as pd\n",
    "import numpy as np\n",
    "import matplotlib.pyplot as plt\n",
    "import seaborn as sns\n",
    "\n",
    "from time import time\n",
    "\n",
    "%matplotlib inline"
   ]
  },
  {
   "cell_type": "markdown",
   "metadata": {},
   "source": [
    "# Cargamos el modelo y el test final"
   ]
  },
  {
   "cell_type": "code",
   "execution_count": 101,
   "metadata": {},
   "outputs": [
    {
     "name": "stderr",
     "output_type": "stream",
     "text": [
      "C:\\Users\\Francisco\\Anaconda3\\lib\\site-packages\\IPython\\core\\interactiveshell.py:2728: DtypeWarning: Columns (9) have mixed types. Specify dtype option on import or set low_memory=False.\n",
      "  interactivity=interactivity, compiler=compiler, result=result)\n"
     ]
    }
   ],
   "source": [
    "modelo = pd.read_csv('csv_files/modelo_final.csv')\n",
    "test_final = pd.read_csv('csv_files/test_final.csv')"
   ]
  },
  {
   "cell_type": "code",
   "execution_count": 102,
   "metadata": {},
   "outputs": [
    {
     "data": {
      "text/html": [
       "<div>\n",
       "<style scoped>\n",
       "    .dataframe tbody tr th:only-of-type {\n",
       "        vertical-align: middle;\n",
       "    }\n",
       "\n",
       "    .dataframe tbody tr th {\n",
       "        vertical-align: top;\n",
       "    }\n",
       "\n",
       "    .dataframe thead th {\n",
       "        text-align: right;\n",
       "    }\n",
       "</style>\n",
       "<table border=\"1\" class=\"dataframe\">\n",
       "  <thead>\n",
       "    <tr style=\"text-align: right;\">\n",
       "      <th></th>\n",
       "      <th>idaviso</th>\n",
       "      <th>idpostulante</th>\n",
       "      <th>rango_edad</th>\n",
       "      <th>sexo</th>\n",
       "      <th>nivel_estudios</th>\n",
       "      <th>esta_estudiando</th>\n",
       "      <th>titulo</th>\n",
       "      <th>tipo_de_trabajo</th>\n",
       "      <th>nivel_laboral</th>\n",
       "      <th>nombre_zona</th>\n",
       "      <th>nombre_area</th>\n",
       "      <th>sepostulo</th>\n",
       "    </tr>\n",
       "  </thead>\n",
       "  <tbody>\n",
       "    <tr>\n",
       "      <th>765719</th>\n",
       "      <td>1112441194</td>\n",
       "      <td>52KRAX</td>\n",
       "      <td>3.0</td>\n",
       "      <td>2</td>\n",
       "      <td>4.0</td>\n",
       "      <td>0.0</td>\n",
       "      <td>KEY ACCOUNT MANAGER</td>\n",
       "      <td>10</td>\n",
       "      <td>3</td>\n",
       "      <td>3</td>\n",
       "      <td>Comercial</td>\n",
       "      <td>0.0</td>\n",
       "    </tr>\n",
       "    <tr>\n",
       "      <th>2813782</th>\n",
       "      <td>1111218850</td>\n",
       "      <td>Rzr8b6x</td>\n",
       "      <td>1.0</td>\n",
       "      <td>1</td>\n",
       "      <td>4.0</td>\n",
       "      <td>1.0</td>\n",
       "      <td>Mucama eventual para importante Hotel 5 estrellas</td>\n",
       "      <td>10</td>\n",
       "      <td>3</td>\n",
       "      <td>3</td>\n",
       "      <td>Hotelería</td>\n",
       "      <td>1.0</td>\n",
       "    </tr>\n",
       "    <tr>\n",
       "      <th>964077</th>\n",
       "      <td>1112208757</td>\n",
       "      <td>Pm4xDG0</td>\n",
       "      <td>2.0</td>\n",
       "      <td>2</td>\n",
       "      <td>4.0</td>\n",
       "      <td>1.0</td>\n",
       "      <td>Repositor externo Zona Norte</td>\n",
       "      <td>10</td>\n",
       "      <td>3</td>\n",
       "      <td>3</td>\n",
       "      <td>Almacén / Depósito / Expedición</td>\n",
       "      <td>0.0</td>\n",
       "    </tr>\n",
       "    <tr>\n",
       "      <th>394587</th>\n",
       "      <td>1111532043</td>\n",
       "      <td>5md1aAN</td>\n",
       "      <td>2.0</td>\n",
       "      <td>1</td>\n",
       "      <td>4.0</td>\n",
       "      <td>0.0</td>\n",
       "      <td>Vigiladores para Locales Comerciales</td>\n",
       "      <td>10</td>\n",
       "      <td>3</td>\n",
       "      <td>3</td>\n",
       "      <td>Seguridad</td>\n",
       "      <td>0.0</td>\n",
       "    </tr>\n",
       "    <tr>\n",
       "      <th>264292</th>\n",
       "      <td>1112450387</td>\n",
       "      <td>owzxY3a</td>\n",
       "      <td>1.0</td>\n",
       "      <td>1</td>\n",
       "      <td>2.0</td>\n",
       "      <td>0.0</td>\n",
       "      <td>Ingeniero de Procesos Logísticos.  Zarate.</td>\n",
       "      <td>10</td>\n",
       "      <td>2</td>\n",
       "      <td>3</td>\n",
       "      <td>Ingeniería  Industrial</td>\n",
       "      <td>0.0</td>\n",
       "    </tr>\n",
       "  </tbody>\n",
       "</table>\n",
       "</div>"
      ],
      "text/plain": [
       "            idaviso idpostulante  rango_edad  sexo  nivel_estudios  \\\n",
       "765719   1112441194       52KRAX         3.0     2             4.0   \n",
       "2813782  1111218850      Rzr8b6x         1.0     1             4.0   \n",
       "964077   1112208757      Pm4xDG0         2.0     2             4.0   \n",
       "394587   1111532043      5md1aAN         2.0     1             4.0   \n",
       "264292   1112450387      owzxY3a         1.0     1             2.0   \n",
       "\n",
       "         esta_estudiando                                             titulo  \\\n",
       "765719               0.0                                KEY ACCOUNT MANAGER   \n",
       "2813782              1.0  Mucama eventual para importante Hotel 5 estrellas   \n",
       "964077               1.0                       Repositor externo Zona Norte   \n",
       "394587               0.0               Vigiladores para Locales Comerciales   \n",
       "264292               0.0         Ingeniero de Procesos Logísticos.  Zarate.   \n",
       "\n",
       "         tipo_de_trabajo  nivel_laboral  nombre_zona  \\\n",
       "765719                10              3            3   \n",
       "2813782               10              3            3   \n",
       "964077                10              3            3   \n",
       "394587                10              3            3   \n",
       "264292                10              2            3   \n",
       "\n",
       "                             nombre_area  sepostulo  \n",
       "765719                         Comercial        0.0  \n",
       "2813782                        Hotelería        1.0  \n",
       "964077   Almacén / Depósito / Expedición        0.0  \n",
       "394587                         Seguridad        0.0  \n",
       "264292            Ingeniería  Industrial        0.0  "
      ]
     },
     "execution_count": 102,
     "metadata": {},
     "output_type": "execute_result"
    }
   ],
   "source": [
    "modelo.sample(5)"
   ]
  },
  {
   "cell_type": "code",
   "execution_count": 103,
   "metadata": {},
   "outputs": [
    {
     "name": "stdout",
     "output_type": "stream",
     "text": [
      "<class 'pandas.core.frame.DataFrame'>\n",
      "RangeIndex: 3000000 entries, 0 to 2999999\n",
      "Data columns (total 12 columns):\n",
      "idaviso            int64\n",
      "idpostulante       object\n",
      "rango_edad         float64\n",
      "sexo               int64\n",
      "nivel_estudios     float64\n",
      "esta_estudiando    float64\n",
      "titulo             object\n",
      "tipo_de_trabajo    int64\n",
      "nivel_laboral      int64\n",
      "nombre_zona        int64\n",
      "nombre_area        object\n",
      "sepostulo          float64\n",
      "dtypes: float64(4), int64(5), object(3)\n",
      "memory usage: 274.7+ MB\n"
     ]
    }
   ],
   "source": [
    "modelo.info()"
   ]
  },
  {
   "cell_type": "code",
   "execution_count": 104,
   "metadata": {},
   "outputs": [
    {
     "data": {
      "text/html": [
       "<div>\n",
       "<style scoped>\n",
       "    .dataframe tbody tr th:only-of-type {\n",
       "        vertical-align: middle;\n",
       "    }\n",
       "\n",
       "    .dataframe tbody tr th {\n",
       "        vertical-align: top;\n",
       "    }\n",
       "\n",
       "    .dataframe thead th {\n",
       "        text-align: right;\n",
       "    }\n",
       "</style>\n",
       "<table border=\"1\" class=\"dataframe\">\n",
       "  <thead>\n",
       "    <tr style=\"text-align: right;\">\n",
       "      <th></th>\n",
       "      <th>id</th>\n",
       "      <th>idaviso</th>\n",
       "      <th>idpostulante</th>\n",
       "      <th>rango_edad</th>\n",
       "      <th>sexo</th>\n",
       "      <th>nivel_estudios</th>\n",
       "      <th>esta_estudiando</th>\n",
       "      <th>tipo_de_trabajo</th>\n",
       "      <th>nivel_laboral</th>\n",
       "      <th>nombre_zona</th>\n",
       "      <th>nombre_area</th>\n",
       "    </tr>\n",
       "  </thead>\n",
       "  <tbody>\n",
       "    <tr>\n",
       "      <th>98283</th>\n",
       "      <td>98283</td>\n",
       "      <td>1112505477</td>\n",
       "      <td>EON980</td>\n",
       "      <td>4.0</td>\n",
       "      <td>1.0</td>\n",
       "      <td>3.0</td>\n",
       "      <td>0.0</td>\n",
       "      <td>10</td>\n",
       "      <td>3</td>\n",
       "      <td>3</td>\n",
       "      <td>Call Center</td>\n",
       "    </tr>\n",
       "    <tr>\n",
       "      <th>63424</th>\n",
       "      <td>63424</td>\n",
       "      <td>1112457467</td>\n",
       "      <td>qevz3MR</td>\n",
       "      <td>2.0</td>\n",
       "      <td>2.0</td>\n",
       "      <td>2.0</td>\n",
       "      <td>0.0</td>\n",
       "      <td>10</td>\n",
       "      <td>3</td>\n",
       "      <td>3</td>\n",
       "      <td>Gastronomia</td>\n",
       "    </tr>\n",
       "    <tr>\n",
       "      <th>52852</th>\n",
       "      <td>52852</td>\n",
       "      <td>1112444023</td>\n",
       "      <td>owjXrJL</td>\n",
       "      <td>4.0</td>\n",
       "      <td>1.0</td>\n",
       "      <td>2.0</td>\n",
       "      <td>0.0</td>\n",
       "      <td>10</td>\n",
       "      <td>3</td>\n",
       "      <td>2</td>\n",
       "      <td>Producción</td>\n",
       "    </tr>\n",
       "    <tr>\n",
       "      <th>7432</th>\n",
       "      <td>7432</td>\n",
       "      <td>1111709950</td>\n",
       "      <td>akbRmaZ</td>\n",
       "      <td>1.0</td>\n",
       "      <td>1.0</td>\n",
       "      <td>4.0</td>\n",
       "      <td>1.0</td>\n",
       "      <td>9</td>\n",
       "      <td>3</td>\n",
       "      <td>2</td>\n",
       "      <td>Call Center</td>\n",
       "    </tr>\n",
       "    <tr>\n",
       "      <th>32337</th>\n",
       "      <td>32337</td>\n",
       "      <td>1112393314</td>\n",
       "      <td>811XJO</td>\n",
       "      <td>3.0</td>\n",
       "      <td>2.0</td>\n",
       "      <td>4.0</td>\n",
       "      <td>1.0</td>\n",
       "      <td>10</td>\n",
       "      <td>2</td>\n",
       "      <td>3</td>\n",
       "      <td>Impuestos</td>\n",
       "    </tr>\n",
       "  </tbody>\n",
       "</table>\n",
       "</div>"
      ],
      "text/plain": [
       "          id     idaviso idpostulante  rango_edad  sexo  nivel_estudios  \\\n",
       "98283  98283  1112505477       EON980         4.0   1.0             3.0   \n",
       "63424  63424  1112457467      qevz3MR         2.0   2.0             2.0   \n",
       "52852  52852  1112444023      owjXrJL         4.0   1.0             2.0   \n",
       "7432    7432  1111709950      akbRmaZ         1.0   1.0             4.0   \n",
       "32337  32337  1112393314       811XJO         3.0   2.0             4.0   \n",
       "\n",
       "       esta_estudiando  tipo_de_trabajo  nivel_laboral nombre_zona  \\\n",
       "98283              0.0               10              3           3   \n",
       "63424              0.0               10              3           3   \n",
       "52852              0.0               10              3           2   \n",
       "7432               1.0                9              3           2   \n",
       "32337              1.0               10              2           3   \n",
       "\n",
       "       nombre_area  \n",
       "98283  Call Center  \n",
       "63424  Gastronomia  \n",
       "52852   Producción  \n",
       "7432   Call Center  \n",
       "32337    Impuestos  "
      ]
     },
     "execution_count": 104,
     "metadata": {},
     "output_type": "execute_result"
    }
   ],
   "source": [
    "test_final.sample(5)"
   ]
  },
  {
   "cell_type": "code",
   "execution_count": 105,
   "metadata": {},
   "outputs": [
    {
     "name": "stdout",
     "output_type": "stream",
     "text": [
      "<class 'pandas.core.frame.DataFrame'>\n",
      "RangeIndex: 100000 entries, 0 to 99999\n",
      "Data columns (total 11 columns):\n",
      "id                 100000 non-null int64\n",
      "idaviso            100000 non-null int64\n",
      "idpostulante       100000 non-null object\n",
      "rango_edad         100000 non-null float64\n",
      "sexo               100000 non-null float64\n",
      "nivel_estudios     100000 non-null float64\n",
      "esta_estudiando    100000 non-null float64\n",
      "tipo_de_trabajo    100000 non-null int64\n",
      "nivel_laboral      100000 non-null int64\n",
      "nombre_zona        100000 non-null object\n",
      "nombre_area        100000 non-null object\n",
      "dtypes: float64(4), int64(4), object(3)\n",
      "memory usage: 8.4+ MB\n"
     ]
    }
   ],
   "source": [
    "test_final.info()"
   ]
  },
  {
   "cell_type": "markdown",
   "metadata": {},
   "source": [
    " "
   ]
  },
  {
   "cell_type": "markdown",
   "metadata": {},
   "source": [
    "Nos guardamos en un dataframe alternativo todos los registros con postulaciones efectivas del postulante al aviso en cuestión."
   ]
  },
  {
   "cell_type": "code",
   "execution_count": 106,
   "metadata": {},
   "outputs": [],
   "source": [
    "si = modelo['sepostulo'] == 1\n",
    "no = modelo['sepostulo'] == 0\n",
    "modelo_si = modelo[si]\n",
    "modelo_no = modelo[no]"
   ]
  },
  {
   "cell_type": "markdown",
   "metadata": {},
   "source": [
    "# Correlación de Pearson entre los features"
   ]
  },
  {
   "cell_type": "code",
   "execution_count": 55,
   "metadata": {},
   "outputs": [
    {
     "data": {
      "text/plain": [
       "Text(0.5,1,'Correlación de Pearson entre los features')"
      ]
     },
     "execution_count": 55,
     "metadata": {},
     "output_type": "execute_result"
    },
    {
     "data": {
      "image/png": "[encoded data removed]",
      "text/plain": [
       "<matplotlib.figure.Figure at 0x1dd08976cc0>"
      ]
     },
     "metadata": {},
     "output_type": "display_data"
    }
   ],
   "source": [
    "modelo_features = modelo[['rango_edad', 'sexo', 'nivel_estudios', 'esta_estudiando',\\\n",
    "                          'tipo_de_trabajo', 'nivel_laboral', 'nombre_zona', 'sepostulo']]\n",
    "\n",
    "fig, ax = plt.subplots(figsize=(14,4))\n",
    "heatmap = sns.heatmap(modelo_features.astype(float).corr(), cmap=plt.cm.RdBu, robust=False, annot=True,\\\n",
    "                      linewidths=.5, linecolor='white', ax=ax)\n",
    "\n",
    "heatmap.set_title('Correlación de Pearson entre los features', fontsize=18)"
   ]
  },
  {
   "cell_type": "markdown",
   "metadata": {},
   "source": [
    "# Features de avisos vs Features de postulantes"
   ]
  },
  {
   "cell_type": "markdown",
   "metadata": {},
   "source": [
    "En esta sección, realizamos \"enfrentamientos\" entre distintos features de los avisos con distintos features de los postulantes.\n",
    "\n",
    "En un principio, la idea fue lograr una tabla que mostrara en porcentajes la cantidad de registros en los que se cumplía cada combinación de valores entre los dos features. De esta forma, creamos un nuevo feature que contenía el peso (porcentaje) de la combinación que se daba en el registro en cuestión. Cuando llevamos esto a los algoritmos de ML, los resultados empeoraron, por lo cual decidimos dejarlo de lado.\n",
    "\n",
    "Luego, en vez de analizar todas las combinaciones de valores para cada par de features, le dimos importancia a aquellas relaciones que más peso tenían. Es decir, que a priori parecían influir en la decisión de un postulante de postularse o no a un cierto aviso. Por más fino que fue el análisis, los resultados tampoco mejoraron y, nuevamente, lo dejamos de lado.\n",
    "\n",
    "Sin embargo, a continuación, mostramos los procedimientos realizados, ya que los consideramos importantes en el desarrollo del TP."
   ]
  },
  {
   "cell_type": "markdown",
   "metadata": {},
   "source": [
    " "
   ]
  },
  {
   "cell_type": "markdown",
   "metadata": {},
   "source": [
    "## Nivel de estudios vs Nivel laboral"
   ]
  },
  {
   "cell_type": "markdown",
   "metadata": {},
   "source": [
    "Nivel de estudios:\n",
    "- 1 = Otro\n",
    "- 2 = Secundario\n",
    "- 3 = Terciario/Técnico\n",
    "- 4 = Universitario\n",
    "- 5 = Posgrado\n",
    "- 6 = Master\n",
    "- 7 = Doctorado"
   ]
  },
  {
   "cell_type": "markdown",
   "metadata": {},
   "source": [
    "Nivel laboral:\n",
    "- 1 = Otro\n",
    "- 2 = Junior\n",
    "- 3 = Senior / Semi-Senior\n",
    "- 4 = Jefe / Supervisor / Responsable\n",
    "- 5 = Gerencia / Alta Gerencia / Dirección"
   ]
  },
  {
   "cell_type": "markdown",
   "metadata": {},
   "source": [
    " "
   ]
  },
  {
   "cell_type": "markdown",
   "metadata": {},
   "source": [
    "#### Analizamos las postulaciones"
   ]
  },
  {
   "cell_type": "markdown",
   "metadata": {},
   "source": [
    "Creamos un dataframe con porcentajes por columnas. De esta forma, el heatmap nos mostrará mejor la incidencia de cada nivel de estudios para cada nivel laboral."
   ]
  },
  {
   "cell_type": "code",
   "execution_count": 31,
   "metadata": {},
   "outputs": [
    {
     "data": {
      "text/html": [
       "<div>\n",
       "<style scoped>\n",
       "    .dataframe tbody tr th:only-of-type {\n",
       "        vertical-align: middle;\n",
       "    }\n",
       "\n",
       "    .dataframe tbody tr th {\n",
       "        vertical-align: top;\n",
       "    }\n",
       "\n",
       "    .dataframe thead th {\n",
       "        text-align: right;\n",
       "    }\n",
       "</style>\n",
       "<table border=\"1\" class=\"dataframe\">\n",
       "  <thead>\n",
       "    <tr style=\"text-align: right;\">\n",
       "      <th>nivel_estudios</th>\n",
       "      <th>1.0</th>\n",
       "      <th>2.0</th>\n",
       "      <th>3.0</th>\n",
       "      <th>4.0</th>\n",
       "      <th>5.0</th>\n",
       "      <th>6.0</th>\n",
       "      <th>7.0</th>\n",
       "    </tr>\n",
       "    <tr>\n",
       "      <th>nivel_laboral</th>\n",
       "      <th></th>\n",
       "      <th></th>\n",
       "      <th></th>\n",
       "      <th></th>\n",
       "      <th></th>\n",
       "      <th></th>\n",
       "      <th></th>\n",
       "    </tr>\n",
       "  </thead>\n",
       "  <tbody>\n",
       "    <tr>\n",
       "      <th>1</th>\n",
       "      <td>0.123427</td>\n",
       "      <td>0.109185</td>\n",
       "      <td>0.089737</td>\n",
       "      <td>0.068507</td>\n",
       "      <td>0.049208</td>\n",
       "      <td>0.041116</td>\n",
       "      <td>0.063852</td>\n",
       "    </tr>\n",
       "    <tr>\n",
       "      <th>2</th>\n",
       "      <td>0.182975</td>\n",
       "      <td>0.205458</td>\n",
       "      <td>0.222439</td>\n",
       "      <td>0.246602</td>\n",
       "      <td>0.171721</td>\n",
       "      <td>0.156883</td>\n",
       "      <td>0.181003</td>\n",
       "    </tr>\n",
       "    <tr>\n",
       "      <th>3</th>\n",
       "      <td>0.675706</td>\n",
       "      <td>0.665861</td>\n",
       "      <td>0.659570</td>\n",
       "      <td>0.640946</td>\n",
       "      <td>0.666470</td>\n",
       "      <td>0.656865</td>\n",
       "      <td>0.654354</td>\n",
       "    </tr>\n",
       "    <tr>\n",
       "      <th>4</th>\n",
       "      <td>0.014957</td>\n",
       "      <td>0.016949</td>\n",
       "      <td>0.023714</td>\n",
       "      <td>0.035489</td>\n",
       "      <td>0.082251</td>\n",
       "      <td>0.096472</td>\n",
       "      <td>0.075989</td>\n",
       "    </tr>\n",
       "    <tr>\n",
       "      <th>5</th>\n",
       "      <td>0.002935</td>\n",
       "      <td>0.002547</td>\n",
       "      <td>0.004540</td>\n",
       "      <td>0.008455</td>\n",
       "      <td>0.030350</td>\n",
       "      <td>0.048663</td>\n",
       "      <td>0.024802</td>\n",
       "    </tr>\n",
       "  </tbody>\n",
       "</table>\n",
       "</div>"
      ],
      "text/plain": [
       "nivel_estudios       1.0       2.0       3.0       4.0       5.0       6.0  \\\n",
       "nivel_laboral                                                                \n",
       "1               0.123427  0.109185  0.089737  0.068507  0.049208  0.041116   \n",
       "2               0.182975  0.205458  0.222439  0.246602  0.171721  0.156883   \n",
       "3               0.675706  0.665861  0.659570  0.640946  0.666470  0.656865   \n",
       "4               0.014957  0.016949  0.023714  0.035489  0.082251  0.096472   \n",
       "5               0.002935  0.002547  0.004540  0.008455  0.030350  0.048663   \n",
       "\n",
       "nivel_estudios       7.0  \n",
       "nivel_laboral             \n",
       "1               0.063852  \n",
       "2               0.181003  \n",
       "3               0.654354  \n",
       "4               0.075989  \n",
       "5               0.024802  "
      ]
     },
     "execution_count": 31,
     "metadata": {},
     "output_type": "execute_result"
    }
   ],
   "source": [
    "estudios_vs_laboral_si = pd.crosstab(modelo_si['nivel_laboral'], modelo_si['nivel_estudios'], normalize='columns')\n",
    "estudios_vs_laboral_si"
   ]
  },
  {
   "cell_type": "code",
   "execution_count": 69,
   "metadata": {},
   "outputs": [
    {
     "data": {
      "text/plain": [
       "Text(105,0.5,'Nivel laboral')"
      ]
     },
     "execution_count": 69,
     "metadata": {},
     "output_type": "execute_result"
    },
    {
     "data": {
      "image/png": "[encoded data removed]",
      "text/plain": [
       "<matplotlib.figure.Figure at 0x1dd7bf0e160>"
      ]
     },
     "metadata": {},
     "output_type": "display_data"
    }
   ],
   "source": [
    "fig, ax = plt.subplots(figsize=(14,4))\n",
    "heatmap = sns.heatmap(estudios_vs_laboral_si, cmap='Oranges', robust=False, annot=True,\\\n",
    "                      linewidths=.5, linecolor='grey', ax=ax)\n",
    "\n",
    "heatmap.set_title('Nivel de estudios vs Nivel laboral', fontsize=18)\n",
    "heatmap.set_xlabel('Nivel de estudios', fontsize=14)\n",
    "heatmap.set_ylabel('Nivel laboral', fontsize=14)"
   ]
  },
  {
   "cell_type": "markdown",
   "metadata": {},
   "source": [
    "#### Analizamos las no postulaciones"
   ]
  },
  {
   "cell_type": "code",
   "execution_count": 33,
   "metadata": {},
   "outputs": [
    {
     "data": {
      "text/html": [
       "<div>\n",
       "<style scoped>\n",
       "    .dataframe tbody tr th:only-of-type {\n",
       "        vertical-align: middle;\n",
       "    }\n",
       "\n",
       "    .dataframe tbody tr th {\n",
       "        vertical-align: top;\n",
       "    }\n",
       "\n",
       "    .dataframe thead th {\n",
       "        text-align: right;\n",
       "    }\n",
       "</style>\n",
       "<table border=\"1\" class=\"dataframe\">\n",
       "  <thead>\n",
       "    <tr style=\"text-align: right;\">\n",
       "      <th>nivel_estudios</th>\n",
       "      <th>1.0</th>\n",
       "      <th>2.0</th>\n",
       "      <th>3.0</th>\n",
       "      <th>4.0</th>\n",
       "      <th>5.0</th>\n",
       "      <th>6.0</th>\n",
       "      <th>7.0</th>\n",
       "    </tr>\n",
       "    <tr>\n",
       "      <th>nivel_laboral</th>\n",
       "      <th></th>\n",
       "      <th></th>\n",
       "      <th></th>\n",
       "      <th></th>\n",
       "      <th></th>\n",
       "      <th></th>\n",
       "      <th></th>\n",
       "    </tr>\n",
       "  </thead>\n",
       "  <tbody>\n",
       "    <tr>\n",
       "      <th>1</th>\n",
       "      <td>0.077521</td>\n",
       "      <td>0.079189</td>\n",
       "      <td>0.079429</td>\n",
       "      <td>0.079118</td>\n",
       "      <td>0.078255</td>\n",
       "      <td>0.078328</td>\n",
       "      <td>0.077519</td>\n",
       "    </tr>\n",
       "    <tr>\n",
       "      <th>2</th>\n",
       "      <td>0.163150</td>\n",
       "      <td>0.165018</td>\n",
       "      <td>0.166005</td>\n",
       "      <td>0.166250</td>\n",
       "      <td>0.167308</td>\n",
       "      <td>0.163400</td>\n",
       "      <td>0.169089</td>\n",
       "    </tr>\n",
       "    <tr>\n",
       "      <th>3</th>\n",
       "      <td>0.684289</td>\n",
       "      <td>0.681375</td>\n",
       "      <td>0.680000</td>\n",
       "      <td>0.680711</td>\n",
       "      <td>0.679745</td>\n",
       "      <td>0.680491</td>\n",
       "      <td>0.674903</td>\n",
       "    </tr>\n",
       "    <tr>\n",
       "      <th>4</th>\n",
       "      <td>0.060975</td>\n",
       "      <td>0.061434</td>\n",
       "      <td>0.061538</td>\n",
       "      <td>0.061131</td>\n",
       "      <td>0.062184</td>\n",
       "      <td>0.064990</td>\n",
       "      <td>0.065891</td>\n",
       "    </tr>\n",
       "    <tr>\n",
       "      <th>5</th>\n",
       "      <td>0.014065</td>\n",
       "      <td>0.012983</td>\n",
       "      <td>0.013028</td>\n",
       "      <td>0.012791</td>\n",
       "      <td>0.012508</td>\n",
       "      <td>0.012791</td>\n",
       "      <td>0.012597</td>\n",
       "    </tr>\n",
       "  </tbody>\n",
       "</table>\n",
       "</div>"
      ],
      "text/plain": [
       "nivel_estudios       1.0       2.0       3.0       4.0       5.0       6.0  \\\n",
       "nivel_laboral                                                                \n",
       "1               0.077521  0.079189  0.079429  0.079118  0.078255  0.078328   \n",
       "2               0.163150  0.165018  0.166005  0.166250  0.167308  0.163400   \n",
       "3               0.684289  0.681375  0.680000  0.680711  0.679745  0.680491   \n",
       "4               0.060975  0.061434  0.061538  0.061131  0.062184  0.064990   \n",
       "5               0.014065  0.012983  0.013028  0.012791  0.012508  0.012791   \n",
       "\n",
       "nivel_estudios       7.0  \n",
       "nivel_laboral             \n",
       "1               0.077519  \n",
       "2               0.169089  \n",
       "3               0.674903  \n",
       "4               0.065891  \n",
       "5               0.012597  "
      ]
     },
     "execution_count": 33,
     "metadata": {},
     "output_type": "execute_result"
    }
   ],
   "source": [
    "estudios_vs_laboral_no = pd.crosstab(modelo_no['nivel_laboral'], modelo_no['nivel_estudios'], normalize='columns')\n",
    "estudios_vs_laboral_no"
   ]
  },
  {
   "cell_type": "code",
   "execution_count": 70,
   "metadata": {},
   "outputs": [
    {
     "data": {
      "text/plain": [
       "Text(105,0.5,'Nivel laboral')"
      ]
     },
     "execution_count": 70,
     "metadata": {},
     "output_type": "execute_result"
    },
    {
     "data": {
      "image/png": "[encoded data removed]",
      "text/plain": [
       "<matplotlib.figure.Figure at 0x1dd7fb87d30>"
      ]
     },
     "metadata": {},
     "output_type": "display_data"
    }
   ],
   "source": [
    "fig, ax = plt.subplots(figsize=(14,4))\n",
    "heatmap = sns.heatmap(estudios_vs_laboral_no, cmap='Oranges', robust=False, annot=True,\\\n",
    "                      linewidths=.5, linecolor='grey', ax=ax)\n",
    "\n",
    "heatmap.set_title('Nivel de estudios vs Nivel laboral', fontsize=18)\n",
    "heatmap.set_xlabel('Nivel de estudios', fontsize=14)\n",
    "heatmap.set_ylabel('Nivel laboral', fontsize=14)"
   ]
  },
  {
   "cell_type": "markdown",
   "metadata": {},
   "source": [
    "#### Conclusión"
   ]
  },
  {
   "cell_type": "markdown",
   "metadata": {},
   "source": [
    "Ambos heatmaps son muy similares. No encontramos relaciones inversas entre uno y otro. Esto quiere decir que la combinación entre el nivel de estudios del postulante y el nivel laboral del aviso no influyen en la decisión de postularse o no."
   ]
  },
  {
   "cell_type": "markdown",
   "metadata": {},
   "source": [
    " "
   ]
  },
  {
   "cell_type": "markdown",
   "metadata": {},
   "source": [
    "## Esta estudiando vs Tipo de trabajo"
   ]
  },
  {
   "cell_type": "markdown",
   "metadata": {},
   "source": [
    "Esta estudiando:\n",
    "- 0 = Está graduado o abandonó\n",
    "- 1 = Tiene un título en curso"
   ]
  },
  {
   "cell_type": "markdown",
   "metadata": {},
   "source": [
    "Tipo de trabajo:\n",
    "- 1 = Voluntario\n",
    "- 2 = Primer Empleo\n",
    "- 3 = Fines de Semana\n",
    "- 4 = Por Contrato\n",
    "- 5 = Temporario\n",
    "- 6 = Pasantia\n",
    "- 7 = Por Horas\n",
    "- 8 = Teletrabajo\n",
    "- 9 = Part-time\n",
    "- 10 = Full-time"
   ]
  },
  {
   "cell_type": "markdown",
   "metadata": {},
   "source": [
    "#### Analizamos las postulaciones"
   ]
  },
  {
   "cell_type": "code",
   "execution_count": 35,
   "metadata": {},
   "outputs": [
    {
     "data": {
      "text/html": [
       "<div>\n",
       "<style scoped>\n",
       "    .dataframe tbody tr th:only-of-type {\n",
       "        vertical-align: middle;\n",
       "    }\n",
       "\n",
       "    .dataframe tbody tr th {\n",
       "        vertical-align: top;\n",
       "    }\n",
       "\n",
       "    .dataframe thead th {\n",
       "        text-align: right;\n",
       "    }\n",
       "</style>\n",
       "<table border=\"1\" class=\"dataframe\">\n",
       "  <thead>\n",
       "    <tr style=\"text-align: right;\">\n",
       "      <th>tipo_de_trabajo</th>\n",
       "      <th>1</th>\n",
       "      <th>2</th>\n",
       "      <th>3</th>\n",
       "      <th>4</th>\n",
       "      <th>5</th>\n",
       "      <th>6</th>\n",
       "      <th>7</th>\n",
       "      <th>8</th>\n",
       "      <th>9</th>\n",
       "      <th>10</th>\n",
       "    </tr>\n",
       "    <tr>\n",
       "      <th>esta_estudiando</th>\n",
       "      <th></th>\n",
       "      <th></th>\n",
       "      <th></th>\n",
       "      <th></th>\n",
       "      <th></th>\n",
       "      <th></th>\n",
       "      <th></th>\n",
       "      <th></th>\n",
       "      <th></th>\n",
       "      <th></th>\n",
       "    </tr>\n",
       "  </thead>\n",
       "  <tbody>\n",
       "    <tr>\n",
       "      <th>0.0</th>\n",
       "      <td>0.716418</td>\n",
       "      <td>0.524237</td>\n",
       "      <td>0.663201</td>\n",
       "      <td>0.638065</td>\n",
       "      <td>0.692404</td>\n",
       "      <td>0.269759</td>\n",
       "      <td>0.709831</td>\n",
       "      <td>0.615047</td>\n",
       "      <td>0.533763</td>\n",
       "      <td>0.652831</td>\n",
       "    </tr>\n",
       "    <tr>\n",
       "      <th>1.0</th>\n",
       "      <td>0.283582</td>\n",
       "      <td>0.475763</td>\n",
       "      <td>0.336799</td>\n",
       "      <td>0.361935</td>\n",
       "      <td>0.307596</td>\n",
       "      <td>0.730241</td>\n",
       "      <td>0.290169</td>\n",
       "      <td>0.384953</td>\n",
       "      <td>0.466237</td>\n",
       "      <td>0.347169</td>\n",
       "    </tr>\n",
       "  </tbody>\n",
       "</table>\n",
       "</div>"
      ],
      "text/plain": [
       "tipo_de_trabajo        1         2         3         4         5         6   \\\n",
       "esta_estudiando                                                               \n",
       "0.0              0.716418  0.524237  0.663201  0.638065  0.692404  0.269759   \n",
       "1.0              0.283582  0.475763  0.336799  0.361935  0.307596  0.730241   \n",
       "\n",
       "tipo_de_trabajo        7         8         9         10  \n",
       "esta_estudiando                                          \n",
       "0.0              0.709831  0.615047  0.533763  0.652831  \n",
       "1.0              0.290169  0.384953  0.466237  0.347169  "
      ]
     },
     "execution_count": 35,
     "metadata": {},
     "output_type": "execute_result"
    }
   ],
   "source": [
    "estudiando_vs_tipo_trabajo_si = pd.crosstab(modelo_si['esta_estudiando'], modelo_si['tipo_de_trabajo'], normalize='columns')\n",
    "estudiando_vs_tipo_trabajo_si"
   ]
  },
  {
   "cell_type": "code",
   "execution_count": 71,
   "metadata": {},
   "outputs": [
    {
     "data": {
      "text/plain": [
       "Text(105,0.5,'Esta estudiando')"
      ]
     },
     "execution_count": 71,
     "metadata": {},
     "output_type": "execute_result"
    },
    {
     "data": {
      "image/png": "[encoded data removed]",
      "text/plain": [
       "<matplotlib.figure.Figure at 0x1dd03d55898>"
      ]
     },
     "metadata": {},
     "output_type": "display_data"
    }
   ],
   "source": [
    "fig, ax = plt.subplots(figsize=(14,4))\n",
    "heatmap = sns.heatmap(estudiando_vs_tipo_trabajo_si, cmap='YlGnBu', robust=False, annot=True,\\\n",
    "                      linewidths=.5, linecolor='grey', ax=ax)\n",
    "\n",
    "heatmap.set_title('Esta estudiando vs Tipo de trabajo', fontsize=18)\n",
    "heatmap.set_xlabel('Tipo de trabajo', fontsize=14)\n",
    "heatmap.set_ylabel('Esta estudiando', fontsize=14)"
   ]
  },
  {
   "cell_type": "markdown",
   "metadata": {},
   "source": [
    "#### Analizamos las no postulaciones"
   ]
  },
  {
   "cell_type": "code",
   "execution_count": 37,
   "metadata": {},
   "outputs": [
    {
     "data": {
      "text/html": [
       "<div>\n",
       "<style scoped>\n",
       "    .dataframe tbody tr th:only-of-type {\n",
       "        vertical-align: middle;\n",
       "    }\n",
       "\n",
       "    .dataframe tbody tr th {\n",
       "        vertical-align: top;\n",
       "    }\n",
       "\n",
       "    .dataframe thead th {\n",
       "        text-align: right;\n",
       "    }\n",
       "</style>\n",
       "<table border=\"1\" class=\"dataframe\">\n",
       "  <thead>\n",
       "    <tr style=\"text-align: right;\">\n",
       "      <th>tipo_de_trabajo</th>\n",
       "      <th>1</th>\n",
       "      <th>2</th>\n",
       "      <th>3</th>\n",
       "      <th>4</th>\n",
       "      <th>5</th>\n",
       "      <th>6</th>\n",
       "      <th>7</th>\n",
       "      <th>8</th>\n",
       "      <th>9</th>\n",
       "      <th>10</th>\n",
       "    </tr>\n",
       "    <tr>\n",
       "      <th>esta_estudiando</th>\n",
       "      <th></th>\n",
       "      <th></th>\n",
       "      <th></th>\n",
       "      <th></th>\n",
       "      <th></th>\n",
       "      <th></th>\n",
       "      <th></th>\n",
       "      <th></th>\n",
       "      <th></th>\n",
       "      <th></th>\n",
       "    </tr>\n",
       "  </thead>\n",
       "  <tbody>\n",
       "    <tr>\n",
       "      <th>0.0</th>\n",
       "      <td>0.625</td>\n",
       "      <td>0.677871</td>\n",
       "      <td>0.642512</td>\n",
       "      <td>0.667228</td>\n",
       "      <td>0.663396</td>\n",
       "      <td>0.676862</td>\n",
       "      <td>0.675901</td>\n",
       "      <td>0.666111</td>\n",
       "      <td>0.666135</td>\n",
       "      <td>0.66869</td>\n",
       "    </tr>\n",
       "    <tr>\n",
       "      <th>1.0</th>\n",
       "      <td>0.375</td>\n",
       "      <td>0.322129</td>\n",
       "      <td>0.357488</td>\n",
       "      <td>0.332772</td>\n",
       "      <td>0.336604</td>\n",
       "      <td>0.323138</td>\n",
       "      <td>0.324099</td>\n",
       "      <td>0.333889</td>\n",
       "      <td>0.333865</td>\n",
       "      <td>0.33131</td>\n",
       "    </tr>\n",
       "  </tbody>\n",
       "</table>\n",
       "</div>"
      ],
      "text/plain": [
       "tipo_de_trabajo     1         2         3         4         5         6   \\\n",
       "esta_estudiando                                                            \n",
       "0.0              0.625  0.677871  0.642512  0.667228  0.663396  0.676862   \n",
       "1.0              0.375  0.322129  0.357488  0.332772  0.336604  0.323138   \n",
       "\n",
       "tipo_de_trabajo        7         8         9        10  \n",
       "esta_estudiando                                         \n",
       "0.0              0.675901  0.666111  0.666135  0.66869  \n",
       "1.0              0.324099  0.333889  0.333865  0.33131  "
      ]
     },
     "execution_count": 37,
     "metadata": {},
     "output_type": "execute_result"
    }
   ],
   "source": [
    "estudiando_vs_tipo_trabajo_no = pd.crosstab(modelo_no['esta_estudiando'], modelo_no['tipo_de_trabajo'], normalize='columns')\n",
    "estudiando_vs_tipo_trabajo_no"
   ]
  },
  {
   "cell_type": "code",
   "execution_count": 72,
   "metadata": {},
   "outputs": [
    {
     "data": {
      "text/plain": [
       "Text(105,0.5,'Esta estudiando')"
      ]
     },
     "execution_count": 72,
     "metadata": {},
     "output_type": "execute_result"
    },
    {
     "data": {
      "image/png": "[encoded data removed]",
      "text/plain": [
       "<matplotlib.figure.Figure at 0x1dd72c104e0>"
      ]
     },
     "metadata": {},
     "output_type": "display_data"
    }
   ],
   "source": [
    "fig, ax = plt.subplots(figsize=(14,4))\n",
    "heatmap = sns.heatmap(estudiando_vs_tipo_trabajo_no, cmap='YlGnBu', robust=False, annot=True,\\\n",
    "                      linewidths=.5, linecolor='grey', ax=ax)\n",
    "\n",
    "heatmap.set_title('Esta estudiando vs Tipo de trabajo', fontsize=18)\n",
    "heatmap.set_xlabel('Tipo de trabajo', fontsize=14)\n",
    "heatmap.set_ylabel('Esta estudiando', fontsize=14)"
   ]
  },
  {
   "cell_type": "markdown",
   "metadata": {},
   "source": [
    "#### Conclusión"
   ]
  },
  {
   "cell_type": "markdown",
   "metadata": {},
   "source": [
    "Luego de analizar ambos heatmaps, notamos una única relación inversa entre ambos:\n",
    "- Si un postulante no está estudiando, es poco probable que se postule a una pasantía (tipo_de_trabajo = 6)\n",
    "- Si un postulante está estudiando, es muy probable que se postule a una pasantía (tipo_de_trabajo = 6)\n",
    "\n",
    "Creamos entonces el feature que indica esta relación."
   ]
  },
  {
   "cell_type": "code",
   "execution_count": 39,
   "metadata": {},
   "outputs": [
    {
     "data": {
      "text/html": [
       "<div>\n",
       "<style scoped>\n",
       "    .dataframe tbody tr th:only-of-type {\n",
       "        vertical-align: middle;\n",
       "    }\n",
       "\n",
       "    .dataframe tbody tr th {\n",
       "        vertical-align: top;\n",
       "    }\n",
       "\n",
       "    .dataframe thead th {\n",
       "        text-align: right;\n",
       "    }\n",
       "</style>\n",
       "<table border=\"1\" class=\"dataframe\">\n",
       "  <thead>\n",
       "    <tr style=\"text-align: right;\">\n",
       "      <th></th>\n",
       "      <th>idaviso</th>\n",
       "      <th>idpostulante</th>\n",
       "      <th>rango_edad</th>\n",
       "      <th>sexo</th>\n",
       "      <th>nivel_estudios</th>\n",
       "      <th>esta_estudiando</th>\n",
       "      <th>titulo</th>\n",
       "      <th>tipo_de_trabajo</th>\n",
       "      <th>nivel_laboral</th>\n",
       "      <th>nombre_zona</th>\n",
       "      <th>nombre_area</th>\n",
       "      <th>sepostulo</th>\n",
       "      <th>estudia_vs_tipo_de_trabajo</th>\n",
       "    </tr>\n",
       "  </thead>\n",
       "  <tbody>\n",
       "    <tr>\n",
       "      <th>196910</th>\n",
       "      <td>1111746048</td>\n",
       "      <td>wVYaRmm</td>\n",
       "      <td>3.0</td>\n",
       "      <td>1</td>\n",
       "      <td>2.0</td>\n",
       "      <td>0.0</td>\n",
       "      <td>OPERARIOS DE PRODUCCION ZONA NORTE (TALAR DE P...</td>\n",
       "      <td>10</td>\n",
       "      <td>1</td>\n",
       "      <td>3</td>\n",
       "      <td>Producción</td>\n",
       "      <td>0.0</td>\n",
       "      <td>0.0</td>\n",
       "    </tr>\n",
       "    <tr>\n",
       "      <th>2192880</th>\n",
       "      <td>1112445738</td>\n",
       "      <td>ekO6xGW</td>\n",
       "      <td>1.0</td>\n",
       "      <td>1</td>\n",
       "      <td>2.0</td>\n",
       "      <td>0.0</td>\n",
       "      <td>Operario de Limpieza</td>\n",
       "      <td>10</td>\n",
       "      <td>1</td>\n",
       "      <td>3</td>\n",
       "      <td>Mantenimiento y Limpieza</td>\n",
       "      <td>1.0</td>\n",
       "      <td>0.0</td>\n",
       "    </tr>\n",
       "    <tr>\n",
       "      <th>777908</th>\n",
       "      <td>1112455332</td>\n",
       "      <td>ZjlOWP</td>\n",
       "      <td>3.0</td>\n",
       "      <td>2</td>\n",
       "      <td>4.0</td>\n",
       "      <td>1.0</td>\n",
       "      <td>OPERADORES TELEFÓNICOS ATENCIÓN AL CLIENTE</td>\n",
       "      <td>9</td>\n",
       "      <td>3</td>\n",
       "      <td>3</td>\n",
       "      <td>Atención al Cliente</td>\n",
       "      <td>0.0</td>\n",
       "      <td>0.0</td>\n",
       "    </tr>\n",
       "    <tr>\n",
       "      <th>713408</th>\n",
       "      <td>1111983737</td>\n",
       "      <td>akbMaNN</td>\n",
       "      <td>3.0</td>\n",
       "      <td>2</td>\n",
       "      <td>4.0</td>\n",
       "      <td>1.0</td>\n",
       "      <td>Ingeniero Acceso FTTH</td>\n",
       "      <td>10</td>\n",
       "      <td>3</td>\n",
       "      <td>3</td>\n",
       "      <td>Telecomunicaciones</td>\n",
       "      <td>0.0</td>\n",
       "      <td>0.0</td>\n",
       "    </tr>\n",
       "    <tr>\n",
       "      <th>1772984</th>\n",
       "      <td>1112396257</td>\n",
       "      <td>5JmOON</td>\n",
       "      <td>3.0</td>\n",
       "      <td>1</td>\n",
       "      <td>3.0</td>\n",
       "      <td>0.0</td>\n",
       "      <td>Ejecutiva de cuenta plan de ahorro - TOYOTA</td>\n",
       "      <td>10</td>\n",
       "      <td>3</td>\n",
       "      <td>3</td>\n",
       "      <td>Comercial</td>\n",
       "      <td>1.0</td>\n",
       "      <td>0.0</td>\n",
       "    </tr>\n",
       "  </tbody>\n",
       "</table>\n",
       "</div>"
      ],
      "text/plain": [
       "            idaviso idpostulante  rango_edad  sexo  nivel_estudios  \\\n",
       "196910   1111746048      wVYaRmm         3.0     1             2.0   \n",
       "2192880  1112445738      ekO6xGW         1.0     1             2.0   \n",
       "777908   1112455332       ZjlOWP         3.0     2             4.0   \n",
       "713408   1111983737      akbMaNN         3.0     2             4.0   \n",
       "1772984  1112396257       5JmOON         3.0     1             3.0   \n",
       "\n",
       "         esta_estudiando                                             titulo  \\\n",
       "196910               0.0  OPERARIOS DE PRODUCCION ZONA NORTE (TALAR DE P...   \n",
       "2192880              0.0                               Operario de Limpieza   \n",
       "777908               1.0        OPERADORES TELEFÓNICOS ATENCIÓN AL CLIENTE    \n",
       "713408               1.0                              Ingeniero Acceso FTTH   \n",
       "1772984              0.0        Ejecutiva de cuenta plan de ahorro - TOYOTA   \n",
       "\n",
       "         tipo_de_trabajo  nivel_laboral  nombre_zona  \\\n",
       "196910                10              1            3   \n",
       "2192880               10              1            3   \n",
       "777908                 9              3            3   \n",
       "713408                10              3            3   \n",
       "1772984               10              3            3   \n",
       "\n",
       "                      nombre_area  sepostulo  estudia_vs_tipo_de_trabajo  \n",
       "196910                 Producción        0.0                         0.0  \n",
       "2192880  Mantenimiento y Limpieza        1.0                         0.0  \n",
       "777908        Atención al Cliente        0.0                         0.0  \n",
       "713408         Telecomunicaciones        0.0                         0.0  \n",
       "1772984                 Comercial        1.0                         0.0  "
      ]
     },
     "execution_count": 39,
     "metadata": {},
     "output_type": "execute_result"
    }
   ],
   "source": [
    "relacion = (modelo['esta_estudiando'] == 1) & (modelo['tipo_de_trabajo'] == 6)\n",
    "\n",
    "#modelo.loc[(relacion), 'estudia_vs_tipo_de_trabajo'] = 1\n",
    "#modelo.loc[(~relacion), 'estudia_vs_tipo_de_trabajo'] = 0\n",
    "\n",
    "modelo.sample(5)"
   ]
  },
  {
   "cell_type": "markdown",
   "metadata": {},
   "source": [
    " "
   ]
  },
  {
   "cell_type": "markdown",
   "metadata": {},
   "source": [
    "## Rango de edad vs Tipo de trabajo"
   ]
  },
  {
   "cell_type": "markdown",
   "metadata": {},
   "source": [
    "Rango de edad:\n",
    "- 1 = 18-25 \n",
    "- 2 = 26-30\n",
    "- 3 = 31-40\n",
    "- 4 = 41-68"
   ]
  },
  {
   "cell_type": "markdown",
   "metadata": {},
   "source": [
    "Tipo de trabajo:\n",
    "- 1 = Voluntario\n",
    "- 2 = Primer Empleo\n",
    "- 3 = Fines de Semana\n",
    "- 4 = Por Contrato\n",
    "- 5 = Temporario\n",
    "- 6 = Pasantia\n",
    "- 7 = Por Horas\n",
    "- 8 = Teletrabajo\n",
    "- 9 = Part-time\n",
    "- 10 = Full-time"
   ]
  },
  {
   "cell_type": "markdown",
   "metadata": {},
   "source": [
    "#### Analizamos las postulaciones"
   ]
  },
  {
   "cell_type": "code",
   "execution_count": 40,
   "metadata": {},
   "outputs": [
    {
     "data": {
      "text/html": [
       "<div>\n",
       "<style scoped>\n",
       "    .dataframe tbody tr th:only-of-type {\n",
       "        vertical-align: middle;\n",
       "    }\n",
       "\n",
       "    .dataframe tbody tr th {\n",
       "        vertical-align: top;\n",
       "    }\n",
       "\n",
       "    .dataframe thead th {\n",
       "        text-align: right;\n",
       "    }\n",
       "</style>\n",
       "<table border=\"1\" class=\"dataframe\">\n",
       "  <thead>\n",
       "    <tr style=\"text-align: right;\">\n",
       "      <th>tipo_de_trabajo</th>\n",
       "      <th>1</th>\n",
       "      <th>2</th>\n",
       "      <th>3</th>\n",
       "      <th>4</th>\n",
       "      <th>5</th>\n",
       "      <th>6</th>\n",
       "      <th>7</th>\n",
       "      <th>8</th>\n",
       "      <th>9</th>\n",
       "      <th>10</th>\n",
       "    </tr>\n",
       "    <tr>\n",
       "      <th>rango_edad</th>\n",
       "      <th></th>\n",
       "      <th></th>\n",
       "      <th></th>\n",
       "      <th></th>\n",
       "      <th></th>\n",
       "      <th></th>\n",
       "      <th></th>\n",
       "      <th></th>\n",
       "      <th></th>\n",
       "      <th></th>\n",
       "    </tr>\n",
       "  </thead>\n",
       "  <tbody>\n",
       "    <tr>\n",
       "      <th>1.0</th>\n",
       "      <td>0.507463</td>\n",
       "      <td>0.707361</td>\n",
       "      <td>0.464738</td>\n",
       "      <td>0.243268</td>\n",
       "      <td>0.317907</td>\n",
       "      <td>0.623976</td>\n",
       "      <td>0.361668</td>\n",
       "      <td>0.376803</td>\n",
       "      <td>0.502475</td>\n",
       "      <td>0.315631</td>\n",
       "    </tr>\n",
       "    <tr>\n",
       "      <th>2.0</th>\n",
       "      <td>0.298507</td>\n",
       "      <td>0.179533</td>\n",
       "      <td>0.284358</td>\n",
       "      <td>0.321771</td>\n",
       "      <td>0.311368</td>\n",
       "      <td>0.255617</td>\n",
       "      <td>0.295531</td>\n",
       "      <td>0.263950</td>\n",
       "      <td>0.258020</td>\n",
       "      <td>0.303266</td>\n",
       "    </tr>\n",
       "    <tr>\n",
       "      <th>3.0</th>\n",
       "      <td>0.179104</td>\n",
       "      <td>0.095153</td>\n",
       "      <td>0.199819</td>\n",
       "      <td>0.322227</td>\n",
       "      <td>0.280936</td>\n",
       "      <td>0.104282</td>\n",
       "      <td>0.257001</td>\n",
       "      <td>0.270846</td>\n",
       "      <td>0.185413</td>\n",
       "      <td>0.279301</td>\n",
       "    </tr>\n",
       "    <tr>\n",
       "      <th>4.0</th>\n",
       "      <td>0.014925</td>\n",
       "      <td>0.017953</td>\n",
       "      <td>0.051085</td>\n",
       "      <td>0.112734</td>\n",
       "      <td>0.089789</td>\n",
       "      <td>0.016125</td>\n",
       "      <td>0.085799</td>\n",
       "      <td>0.088401</td>\n",
       "      <td>0.054093</td>\n",
       "      <td>0.101802</td>\n",
       "    </tr>\n",
       "  </tbody>\n",
       "</table>\n",
       "</div>"
      ],
      "text/plain": [
       "tipo_de_trabajo        1         2         3         4         5         6   \\\n",
       "rango_edad                                                                    \n",
       "1.0              0.507463  0.707361  0.464738  0.243268  0.317907  0.623976   \n",
       "2.0              0.298507  0.179533  0.284358  0.321771  0.311368  0.255617   \n",
       "3.0              0.179104  0.095153  0.199819  0.322227  0.280936  0.104282   \n",
       "4.0              0.014925  0.017953  0.051085  0.112734  0.089789  0.016125   \n",
       "\n",
       "tipo_de_trabajo        7         8         9         10  \n",
       "rango_edad                                               \n",
       "1.0              0.361668  0.376803  0.502475  0.315631  \n",
       "2.0              0.295531  0.263950  0.258020  0.303266  \n",
       "3.0              0.257001  0.270846  0.185413  0.279301  \n",
       "4.0              0.085799  0.088401  0.054093  0.101802  "
      ]
     },
     "execution_count": 40,
     "metadata": {},
     "output_type": "execute_result"
    }
   ],
   "source": [
    "edad_vs_tipo_trabajo_si = pd.crosstab(modelo_si['rango_edad'], modelo_si['tipo_de_trabajo'], normalize='columns')\n",
    "edad_vs_tipo_trabajo_si"
   ]
  },
  {
   "cell_type": "code",
   "execution_count": 73,
   "metadata": {},
   "outputs": [
    {
     "data": {
      "text/plain": [
       "Text(105,0.5,'Rango edad')"
      ]
     },
     "execution_count": 73,
     "metadata": {},
     "output_type": "execute_result"
    },
    {
     "data": {
      "image/png": "[encoded data removed]",
      "text/plain": [
       "<matplotlib.figure.Figure at 0x1dd05431748>"
      ]
     },
     "metadata": {},
     "output_type": "display_data"
    }
   ],
   "source": [
    "fig, ax = plt.subplots(figsize=(14,4))\n",
    "heatmap = sns.heatmap(edad_vs_tipo_trabajo_si, cmap='Greens', robust=False, annot=True,\\\n",
    "                      linewidths=.5, linecolor='grey', ax=ax)\n",
    "\n",
    "heatmap.set_title('Rango edad vs Tipo de trabajo', fontsize=18)\n",
    "heatmap.set_xlabel('Tipo de trabajo', fontsize=14)\n",
    "heatmap.set_ylabel('Rango edad', fontsize=14)"
   ]
  },
  {
   "cell_type": "markdown",
   "metadata": {},
   "source": [
    "#### Analizamos las no postulaciones"
   ]
  },
  {
   "cell_type": "code",
   "execution_count": 42,
   "metadata": {},
   "outputs": [
    {
     "data": {
      "text/html": [
       "<div>\n",
       "<style scoped>\n",
       "    .dataframe tbody tr th:only-of-type {\n",
       "        vertical-align: middle;\n",
       "    }\n",
       "\n",
       "    .dataframe tbody tr th {\n",
       "        vertical-align: top;\n",
       "    }\n",
       "\n",
       "    .dataframe thead th {\n",
       "        text-align: right;\n",
       "    }\n",
       "</style>\n",
       "<table border=\"1\" class=\"dataframe\">\n",
       "  <thead>\n",
       "    <tr style=\"text-align: right;\">\n",
       "      <th>tipo_de_trabajo</th>\n",
       "      <th>1</th>\n",
       "      <th>2</th>\n",
       "      <th>3</th>\n",
       "      <th>4</th>\n",
       "      <th>5</th>\n",
       "      <th>6</th>\n",
       "      <th>7</th>\n",
       "      <th>8</th>\n",
       "      <th>9</th>\n",
       "      <th>10</th>\n",
       "    </tr>\n",
       "    <tr>\n",
       "      <th>rango_edad</th>\n",
       "      <th></th>\n",
       "      <th></th>\n",
       "      <th></th>\n",
       "      <th></th>\n",
       "      <th></th>\n",
       "      <th></th>\n",
       "      <th></th>\n",
       "      <th></th>\n",
       "      <th></th>\n",
       "      <th></th>\n",
       "    </tr>\n",
       "  </thead>\n",
       "  <tbody>\n",
       "    <tr>\n",
       "      <th>1.0</th>\n",
       "      <td>0.410714</td>\n",
       "      <td>0.308123</td>\n",
       "      <td>0.312198</td>\n",
       "      <td>0.301685</td>\n",
       "      <td>0.305472</td>\n",
       "      <td>0.296941</td>\n",
       "      <td>0.300296</td>\n",
       "      <td>0.301261</td>\n",
       "      <td>0.303623</td>\n",
       "      <td>0.303376</td>\n",
       "    </tr>\n",
       "    <tr>\n",
       "      <th>2.0</th>\n",
       "      <td>0.214286</td>\n",
       "      <td>0.274510</td>\n",
       "      <td>0.253623</td>\n",
       "      <td>0.254869</td>\n",
       "      <td>0.256415</td>\n",
       "      <td>0.268621</td>\n",
       "      <td>0.263448</td>\n",
       "      <td>0.257156</td>\n",
       "      <td>0.258447</td>\n",
       "      <td>0.257268</td>\n",
       "    </tr>\n",
       "    <tr>\n",
       "      <th>3.0</th>\n",
       "      <td>0.303571</td>\n",
       "      <td>0.282913</td>\n",
       "      <td>0.292271</td>\n",
       "      <td>0.284270</td>\n",
       "      <td>0.287170</td>\n",
       "      <td>0.290144</td>\n",
       "      <td>0.288058</td>\n",
       "      <td>0.292253</td>\n",
       "      <td>0.290765</td>\n",
       "      <td>0.291148</td>\n",
       "    </tr>\n",
       "    <tr>\n",
       "      <th>4.0</th>\n",
       "      <td>0.071429</td>\n",
       "      <td>0.134454</td>\n",
       "      <td>0.141908</td>\n",
       "      <td>0.159176</td>\n",
       "      <td>0.150943</td>\n",
       "      <td>0.144293</td>\n",
       "      <td>0.148198</td>\n",
       "      <td>0.149329</td>\n",
       "      <td>0.147165</td>\n",
       "      <td>0.148208</td>\n",
       "    </tr>\n",
       "  </tbody>\n",
       "</table>\n",
       "</div>"
      ],
      "text/plain": [
       "tipo_de_trabajo        1         2         3         4         5         6   \\\n",
       "rango_edad                                                                    \n",
       "1.0              0.410714  0.308123  0.312198  0.301685  0.305472  0.296941   \n",
       "2.0              0.214286  0.274510  0.253623  0.254869  0.256415  0.268621   \n",
       "3.0              0.303571  0.282913  0.292271  0.284270  0.287170  0.290144   \n",
       "4.0              0.071429  0.134454  0.141908  0.159176  0.150943  0.144293   \n",
       "\n",
       "tipo_de_trabajo        7         8         9         10  \n",
       "rango_edad                                               \n",
       "1.0              0.300296  0.301261  0.303623  0.303376  \n",
       "2.0              0.263448  0.257156  0.258447  0.257268  \n",
       "3.0              0.288058  0.292253  0.290765  0.291148  \n",
       "4.0              0.148198  0.149329  0.147165  0.148208  "
      ]
     },
     "execution_count": 42,
     "metadata": {},
     "output_type": "execute_result"
    }
   ],
   "source": [
    "edad_vs_tipo_trabajo_no = pd.crosstab(modelo_no['rango_edad'], modelo_no['tipo_de_trabajo'], normalize='columns')\n",
    "edad_vs_tipo_trabajo_no"
   ]
  },
  {
   "cell_type": "code",
   "execution_count": 74,
   "metadata": {},
   "outputs": [
    {
     "data": {
      "text/plain": [
       "Text(105,0.5,'Rango edad')"
      ]
     },
     "execution_count": 74,
     "metadata": {},
     "output_type": "execute_result"
    },
    {
     "data": {
      "image/png": "[encoded data removed]",
      "text/plain": [
       "<matplotlib.figure.Figure at 0x1dd74b267b8>"
      ]
     },
     "metadata": {},
     "output_type": "display_data"
    }
   ],
   "source": [
    "fig, ax = plt.subplots(figsize=(14,4))\n",
    "heatmap = sns.heatmap(edad_vs_tipo_trabajo_no, cmap='Greens', robust=False, annot=True,\\\n",
    "                      linewidths=.5, linecolor='grey', ax=ax)\n",
    "\n",
    "heatmap.set_title('Rango edad vs Tipo de trabajo', fontsize=18)\n",
    "heatmap.set_xlabel('Tipo de trabajo', fontsize=14)\n",
    "heatmap.set_ylabel('Rango edad', fontsize=14)"
   ]
  },
  {
   "cell_type": "markdown",
   "metadata": {},
   "source": [
    "#### Conclusión"
   ]
  },
  {
   "cell_type": "markdown",
   "metadata": {},
   "source": [
    "Luego de analizar ambos heatmaps, notamos las siguientes relaciones inversas:\n",
    "- Si un postulante tiene entre 18 y 25 años (rango_edad = 1), es muy probable que se postule a un primer empleo (tipo_de_trabajo = 2)\n",
    "- Si un postulante no tiene entre 18 y 25 años (rango_edad =1), es poco probable que se postule a un primer emepleo (tipo_de_trabajo = 2) \n",
    "\n",
    "- Si un postulante tiene entre 18 y 25 años (rango_edad = 1), es bastante probable que se postule a una pasantía (tipo_de_trabajo = 6)\n",
    "- Si un postulante no tiene entre 18 y 25 años (rango_edad =1), es menos probable que se postule a una pasantía (tipo_de_trabajo = 6)\n",
    "\n",
    "Creamos entonces el feature que indica estas relaciones."
   ]
  },
  {
   "cell_type": "code",
   "execution_count": 76,
   "metadata": {},
   "outputs": [
    {
     "data": {
      "text/html": [
       "<div>\n",
       "<style scoped>\n",
       "    .dataframe tbody tr th:only-of-type {\n",
       "        vertical-align: middle;\n",
       "    }\n",
       "\n",
       "    .dataframe tbody tr th {\n",
       "        vertical-align: top;\n",
       "    }\n",
       "\n",
       "    .dataframe thead th {\n",
       "        text-align: right;\n",
       "    }\n",
       "</style>\n",
       "<table border=\"1\" class=\"dataframe\">\n",
       "  <thead>\n",
       "    <tr style=\"text-align: right;\">\n",
       "      <th></th>\n",
       "      <th>idaviso</th>\n",
       "      <th>idpostulante</th>\n",
       "      <th>rango_edad</th>\n",
       "      <th>sexo</th>\n",
       "      <th>nivel_estudios</th>\n",
       "      <th>esta_estudiando</th>\n",
       "      <th>titulo</th>\n",
       "      <th>tipo_de_trabajo</th>\n",
       "      <th>nivel_laboral</th>\n",
       "      <th>nombre_zona</th>\n",
       "      <th>nombre_area</th>\n",
       "      <th>sepostulo</th>\n",
       "      <th>estudia_vs_tipo_de_trabajo</th>\n",
       "      <th>edad_vs_tipo_de_trabajo</th>\n",
       "    </tr>\n",
       "  </thead>\n",
       "  <tbody>\n",
       "    <tr>\n",
       "      <th>1348855</th>\n",
       "      <td>1112246510</td>\n",
       "      <td>dYjZKGD</td>\n",
       "      <td>1.0</td>\n",
       "      <td>2</td>\n",
       "      <td>2.0</td>\n",
       "      <td>0.0</td>\n",
       "      <td>Jefe de Payroll</td>\n",
       "      <td>10</td>\n",
       "      <td>3</td>\n",
       "      <td>3</td>\n",
       "      <td>Administración de Personal</td>\n",
       "      <td>0.0</td>\n",
       "      <td>0.0</td>\n",
       "      <td>0.0</td>\n",
       "    </tr>\n",
       "    <tr>\n",
       "      <th>2962136</th>\n",
       "      <td>1112266076</td>\n",
       "      <td>RzM6NkY</td>\n",
       "      <td>4.0</td>\n",
       "      <td>1</td>\n",
       "      <td>4.0</td>\n",
       "      <td>0.0</td>\n",
       "      <td>Responsable de Cuenta Sr. - Gerencia de Desarr...</td>\n",
       "      <td>10</td>\n",
       "      <td>3</td>\n",
       "      <td>3</td>\n",
       "      <td>Desarrollo de Negocios</td>\n",
       "      <td>1.0</td>\n",
       "      <td>0.0</td>\n",
       "      <td>0.0</td>\n",
       "    </tr>\n",
       "    <tr>\n",
       "      <th>2592397</th>\n",
       "      <td>1112349451</td>\n",
       "      <td>DrJLlr5</td>\n",
       "      <td>1.0</td>\n",
       "      <td>1</td>\n",
       "      <td>3.0</td>\n",
       "      <td>0.0</td>\n",
       "      <td>Cajera/o (Córdoba Norte)</td>\n",
       "      <td>10</td>\n",
       "      <td>2</td>\n",
       "      <td>3</td>\n",
       "      <td>Créditos y Cobranzas</td>\n",
       "      <td>1.0</td>\n",
       "      <td>0.0</td>\n",
       "      <td>0.0</td>\n",
       "    </tr>\n",
       "    <tr>\n",
       "      <th>1171352</th>\n",
       "      <td>1112485025</td>\n",
       "      <td>0zN2Mm1</td>\n",
       "      <td>2.0</td>\n",
       "      <td>2</td>\n",
       "      <td>2.0</td>\n",
       "      <td>0.0</td>\n",
       "      <td>28/04: Online Hiring Tournament - L1 Customer ...</td>\n",
       "      <td>8</td>\n",
       "      <td>2</td>\n",
       "      <td>3</td>\n",
       "      <td>Soporte Técnico</td>\n",
       "      <td>0.0</td>\n",
       "      <td>0.0</td>\n",
       "      <td>0.0</td>\n",
       "    </tr>\n",
       "    <tr>\n",
       "      <th>1139136</th>\n",
       "      <td>1112305607</td>\n",
       "      <td>6rZxk3x</td>\n",
       "      <td>1.0</td>\n",
       "      <td>2</td>\n",
       "      <td>2.0</td>\n",
       "      <td>0.0</td>\n",
       "      <td>Jefe logístico de Planta -  Zona Magdalena</td>\n",
       "      <td>10</td>\n",
       "      <td>3</td>\n",
       "      <td>3</td>\n",
       "      <td>Logística</td>\n",
       "      <td>0.0</td>\n",
       "      <td>0.0</td>\n",
       "      <td>0.0</td>\n",
       "    </tr>\n",
       "  </tbody>\n",
       "</table>\n",
       "</div>"
      ],
      "text/plain": [
       "            idaviso idpostulante  rango_edad  sexo  nivel_estudios  \\\n",
       "1348855  1112246510      dYjZKGD         1.0     2             2.0   \n",
       "2962136  1112266076      RzM6NkY         4.0     1             4.0   \n",
       "2592397  1112349451      DrJLlr5         1.0     1             3.0   \n",
       "1171352  1112485025      0zN2Mm1         2.0     2             2.0   \n",
       "1139136  1112305607      6rZxk3x         1.0     2             2.0   \n",
       "\n",
       "         esta_estudiando                                             titulo  \\\n",
       "1348855              0.0                                    Jefe de Payroll   \n",
       "2962136              0.0  Responsable de Cuenta Sr. - Gerencia de Desarr...   \n",
       "2592397              0.0                           Cajera/o (Córdoba Norte)   \n",
       "1171352              0.0  28/04: Online Hiring Tournament - L1 Customer ...   \n",
       "1139136              0.0         Jefe logístico de Planta -  Zona Magdalena   \n",
       "\n",
       "         tipo_de_trabajo  nivel_laboral  nombre_zona  \\\n",
       "1348855               10              3            3   \n",
       "2962136               10              3            3   \n",
       "2592397               10              2            3   \n",
       "1171352                8              2            3   \n",
       "1139136               10              3            3   \n",
       "\n",
       "                        nombre_area  sepostulo  estudia_vs_tipo_de_trabajo  \\\n",
       "1348855  Administración de Personal        0.0                         0.0   \n",
       "2962136      Desarrollo de Negocios        1.0                         0.0   \n",
       "2592397        Créditos y Cobranzas        1.0                         0.0   \n",
       "1171352             Soporte Técnico        0.0                         0.0   \n",
       "1139136                   Logística        0.0                         0.0   \n",
       "\n",
       "         edad_vs_tipo_de_trabajo  \n",
       "1348855                      0.0  \n",
       "2962136                      0.0  \n",
       "2592397                      0.0  \n",
       "1171352                      0.0  \n",
       "1139136                      0.0  "
      ]
     },
     "execution_count": 76,
     "metadata": {},
     "output_type": "execute_result"
    }
   ],
   "source": [
    "relacion = ((modelo['rango_edad'] == 1) & (modelo['tipo_de_trabajo'] == 2)) |\\\n",
    "           ((modelo['rango_edad'] == 1) & (modelo['tipo_de_trabajo'] == 6))\n",
    "\n",
    "#modelo.loc[(relacion), 'edad_vs_tipo_de_trabajo'] = 1\n",
    "#modelo.loc[(~relacion), 'edad_vs_tipo_de_trabajo'] = 0\n",
    "\n",
    "modelo.sample(5)"
   ]
  },
  {
   "cell_type": "markdown",
   "metadata": {},
   "source": [
    " "
   ]
  },
  {
   "cell_type": "markdown",
   "metadata": {},
   "source": [
    "## Rango de edad vs Nombre zona"
   ]
  },
  {
   "cell_type": "markdown",
   "metadata": {},
   "source": [
    "Rango de edad:\n",
    "- 1 = 18-25 \n",
    "- 2 = 26-30\n",
    "- 3 = 31-40\n",
    "- 4 = 41-68"
   ]
  },
  {
   "cell_type": "markdown",
   "metadata": {},
   "source": [
    "Nombre zona:\n",
    "- 1 = Otros\n",
    "- 2 = Capital Federal\n",
    "- 3 = Gran Buenos Aires"
   ]
  },
  {
   "cell_type": "markdown",
   "metadata": {},
   "source": [
    "#### Analizamos las postulaciones"
   ]
  },
  {
   "cell_type": "code",
   "execution_count": 44,
   "metadata": {},
   "outputs": [
    {
     "data": {
      "text/html": [
       "<div>\n",
       "<style scoped>\n",
       "    .dataframe tbody tr th:only-of-type {\n",
       "        vertical-align: middle;\n",
       "    }\n",
       "\n",
       "    .dataframe tbody tr th {\n",
       "        vertical-align: top;\n",
       "    }\n",
       "\n",
       "    .dataframe thead th {\n",
       "        text-align: right;\n",
       "    }\n",
       "</style>\n",
       "<table border=\"1\" class=\"dataframe\">\n",
       "  <thead>\n",
       "    <tr style=\"text-align: right;\">\n",
       "      <th>nombre_zona</th>\n",
       "      <th>2</th>\n",
       "      <th>3</th>\n",
       "    </tr>\n",
       "    <tr>\n",
       "      <th>rango_edad</th>\n",
       "      <th></th>\n",
       "      <th></th>\n",
       "    </tr>\n",
       "  </thead>\n",
       "  <tbody>\n",
       "    <tr>\n",
       "      <th>1.0</th>\n",
       "      <td>0.358279</td>\n",
       "      <td>0.342268</td>\n",
       "    </tr>\n",
       "    <tr>\n",
       "      <th>2.0</th>\n",
       "      <td>0.296940</td>\n",
       "      <td>0.296693</td>\n",
       "    </tr>\n",
       "    <tr>\n",
       "      <th>3.0</th>\n",
       "      <td>0.255237</td>\n",
       "      <td>0.266047</td>\n",
       "    </tr>\n",
       "    <tr>\n",
       "      <th>4.0</th>\n",
       "      <td>0.089543</td>\n",
       "      <td>0.094992</td>\n",
       "    </tr>\n",
       "  </tbody>\n",
       "</table>\n",
       "</div>"
      ],
      "text/plain": [
       "nombre_zona         2         3\n",
       "rango_edad                     \n",
       "1.0          0.358279  0.342268\n",
       "2.0          0.296940  0.296693\n",
       "3.0          0.255237  0.266047\n",
       "4.0          0.089543  0.094992"
      ]
     },
     "execution_count": 44,
     "metadata": {},
     "output_type": "execute_result"
    }
   ],
   "source": [
    "edad_vs_zona_si = pd.crosstab(modelo_si['rango_edad'], modelo_si['nombre_zona'], normalize='columns')\n",
    "edad_vs_zona_si"
   ]
  },
  {
   "cell_type": "code",
   "execution_count": 77,
   "metadata": {},
   "outputs": [
    {
     "data": {
      "text/plain": [
       "Text(105,0.5,'Rango edad')"
      ]
     },
     "execution_count": 77,
     "metadata": {},
     "output_type": "execute_result"
    },
    {
     "data": {
      "image/png": "[encoded data removed]",
      "text/plain": [
       "<matplotlib.figure.Figure at 0x1dd7f808358>"
      ]
     },
     "metadata": {},
     "output_type": "display_data"
    }
   ],
   "source": [
    "fig, ax = plt.subplots(figsize=(14,4))\n",
    "heatmap = sns.heatmap(edad_vs_zona_si, cmap='Purples', robust=False, annot=True,\\\n",
    "                      linewidths=.5, linecolor='grey', ax=ax)\n",
    "\n",
    "heatmap.set_title('Rango edad vs Nombre zona', fontsize=18)\n",
    "heatmap.set_xlabel('Nombre zona', fontsize=14)\n",
    "heatmap.set_ylabel('Rango edad', fontsize=14)"
   ]
  },
  {
   "cell_type": "markdown",
   "metadata": {},
   "source": [
    "#### Analizamos las no postulaciones"
   ]
  },
  {
   "cell_type": "code",
   "execution_count": 46,
   "metadata": {},
   "outputs": [
    {
     "data": {
      "text/html": [
       "<div>\n",
       "<style scoped>\n",
       "    .dataframe tbody tr th:only-of-type {\n",
       "        vertical-align: middle;\n",
       "    }\n",
       "\n",
       "    .dataframe tbody tr th {\n",
       "        vertical-align: top;\n",
       "    }\n",
       "\n",
       "    .dataframe thead th {\n",
       "        text-align: right;\n",
       "    }\n",
       "</style>\n",
       "<table border=\"1\" class=\"dataframe\">\n",
       "  <thead>\n",
       "    <tr style=\"text-align: right;\">\n",
       "      <th>nombre_zona</th>\n",
       "      <th>1</th>\n",
       "      <th>2</th>\n",
       "      <th>3</th>\n",
       "    </tr>\n",
       "    <tr>\n",
       "      <th>rango_edad</th>\n",
       "      <th></th>\n",
       "      <th></th>\n",
       "      <th></th>\n",
       "    </tr>\n",
       "  </thead>\n",
       "  <tbody>\n",
       "    <tr>\n",
       "      <th>1.0</th>\n",
       "      <td>0.315496</td>\n",
       "      <td>0.303783</td>\n",
       "      <td>0.303298</td>\n",
       "    </tr>\n",
       "    <tr>\n",
       "      <th>2.0</th>\n",
       "      <td>0.246377</td>\n",
       "      <td>0.256866</td>\n",
       "      <td>0.257474</td>\n",
       "    </tr>\n",
       "    <tr>\n",
       "      <th>3.0</th>\n",
       "      <td>0.275362</td>\n",
       "      <td>0.290283</td>\n",
       "      <td>0.291150</td>\n",
       "    </tr>\n",
       "    <tr>\n",
       "      <th>4.0</th>\n",
       "      <td>0.162765</td>\n",
       "      <td>0.149068</td>\n",
       "      <td>0.148078</td>\n",
       "    </tr>\n",
       "  </tbody>\n",
       "</table>\n",
       "</div>"
      ],
      "text/plain": [
       "nombre_zona         1         2         3\n",
       "rango_edad                               \n",
       "1.0          0.315496  0.303783  0.303298\n",
       "2.0          0.246377  0.256866  0.257474\n",
       "3.0          0.275362  0.290283  0.291150\n",
       "4.0          0.162765  0.149068  0.148078"
      ]
     },
     "execution_count": 46,
     "metadata": {},
     "output_type": "execute_result"
    }
   ],
   "source": [
    "edad_vs_zona_no = pd.crosstab(modelo_no['rango_edad'], modelo_no['nombre_zona'], normalize='columns')\n",
    "edad_vs_zona_no"
   ]
  },
  {
   "cell_type": "code",
   "execution_count": 78,
   "metadata": {},
   "outputs": [
    {
     "data": {
      "text/plain": [
       "Text(105,0.5,'Rango edad')"
      ]
     },
     "execution_count": 78,
     "metadata": {},
     "output_type": "execute_result"
    },
    {
     "data": {
      "image/png": "[encoded data removed]",
      "text/plain": [
       "<matplotlib.figure.Figure at 0x1dd7dd9e588>"
      ]
     },
     "metadata": {},
     "output_type": "display_data"
    }
   ],
   "source": [
    "fig, ax = plt.subplots(figsize=(14,4))\n",
    "heatmap = sns.heatmap(edad_vs_zona_no, cmap='Purples', robust=False, annot=True,\\\n",
    "                      linewidths=.5, linecolor='grey', ax=ax)\n",
    "\n",
    "heatmap.set_title('Rango edad vs Nombre zona', fontsize=18)\n",
    "heatmap.set_xlabel('Nombre zona', fontsize=14)\n",
    "heatmap.set_ylabel('Rango edad', fontsize=14)"
   ]
  },
  {
   "cell_type": "markdown",
   "metadata": {},
   "source": [
    "#### Conclusión"
   ]
  },
  {
   "cell_type": "markdown",
   "metadata": {},
   "source": [
    "No encontramos grandes diferencias entre ambos heatmaps. No podemos traducir esto a una relación binaria."
   ]
  },
  {
   "cell_type": "markdown",
   "metadata": {},
   "source": [
    " "
   ]
  },
  {
   "cell_type": "markdown",
   "metadata": {},
   "source": [
    "## Rango de edad vs Nivel laboral"
   ]
  },
  {
   "cell_type": "markdown",
   "metadata": {},
   "source": [
    "Rango de edad:\n",
    "- 1 = 18-25 \n",
    "- 2 = 26-30\n",
    "- 3 = 31-40\n",
    "- 4 = 41-68"
   ]
  },
  {
   "cell_type": "markdown",
   "metadata": {},
   "source": [
    "Nivel laboral:\n",
    "- 1 = Otro\n",
    "- 2 = Junior\n",
    "- 3 = Senior / Semi-Senior\n",
    "- 4 = Jefe / Supervisor / Responsable\n",
    "- 5 = Gerencia / Alta Gerencia / Dirección"
   ]
  },
  {
   "cell_type": "markdown",
   "metadata": {},
   "source": [
    "#### Analizamos las postulaciones"
   ]
  },
  {
   "cell_type": "code",
   "execution_count": 79,
   "metadata": {},
   "outputs": [
    {
     "data": {
      "text/html": [
       "<div>\n",
       "<style scoped>\n",
       "    .dataframe tbody tr th:only-of-type {\n",
       "        vertical-align: middle;\n",
       "    }\n",
       "\n",
       "    .dataframe tbody tr th {\n",
       "        vertical-align: top;\n",
       "    }\n",
       "\n",
       "    .dataframe thead th {\n",
       "        text-align: right;\n",
       "    }\n",
       "</style>\n",
       "<table border=\"1\" class=\"dataframe\">\n",
       "  <thead>\n",
       "    <tr style=\"text-align: right;\">\n",
       "      <th>nivel_laboral</th>\n",
       "      <th>1</th>\n",
       "      <th>2</th>\n",
       "      <th>3</th>\n",
       "      <th>4</th>\n",
       "      <th>5</th>\n",
       "    </tr>\n",
       "    <tr>\n",
       "      <th>rango_edad</th>\n",
       "      <th></th>\n",
       "      <th></th>\n",
       "      <th></th>\n",
       "      <th></th>\n",
       "      <th></th>\n",
       "    </tr>\n",
       "  </thead>\n",
       "  <tbody>\n",
       "    <tr>\n",
       "      <th>1.0</th>\n",
       "      <td>0.388228</td>\n",
       "      <td>0.399948</td>\n",
       "      <td>0.330349</td>\n",
       "      <td>0.142389</td>\n",
       "      <td>0.104423</td>\n",
       "    </tr>\n",
       "    <tr>\n",
       "      <th>2.0</th>\n",
       "      <td>0.291724</td>\n",
       "      <td>0.310082</td>\n",
       "      <td>0.297136</td>\n",
       "      <td>0.235842</td>\n",
       "      <td>0.163303</td>\n",
       "    </tr>\n",
       "    <tr>\n",
       "      <th>3.0</th>\n",
       "      <td>0.242923</td>\n",
       "      <td>0.230538</td>\n",
       "      <td>0.274268</td>\n",
       "      <td>0.371527</td>\n",
       "      <td>0.343278</td>\n",
       "    </tr>\n",
       "    <tr>\n",
       "      <th>4.0</th>\n",
       "      <td>0.077125</td>\n",
       "      <td>0.059432</td>\n",
       "      <td>0.098247</td>\n",
       "      <td>0.250243</td>\n",
       "      <td>0.388996</td>\n",
       "    </tr>\n",
       "  </tbody>\n",
       "</table>\n",
       "</div>"
      ],
      "text/plain": [
       "nivel_laboral         1         2         3         4         5\n",
       "rango_edad                                                     \n",
       "1.0            0.388228  0.399948  0.330349  0.142389  0.104423\n",
       "2.0            0.291724  0.310082  0.297136  0.235842  0.163303\n",
       "3.0            0.242923  0.230538  0.274268  0.371527  0.343278\n",
       "4.0            0.077125  0.059432  0.098247  0.250243  0.388996"
      ]
     },
     "execution_count": 79,
     "metadata": {},
     "output_type": "execute_result"
    }
   ],
   "source": [
    "edad_vs_nivel_laboral_si = pd.crosstab(modelo_si['rango_edad'], modelo_si['nivel_laboral'], normalize='columns')\n",
    "edad_vs_nivel_laboral_si"
   ]
  },
  {
   "cell_type": "code",
   "execution_count": 88,
   "metadata": {},
   "outputs": [
    {
     "data": {
      "text/plain": [
       "Text(105,0.5,'Edad')"
      ]
     },
     "execution_count": 88,
     "metadata": {},
     "output_type": "execute_result"
    },
    {
     "data": {
      "image/png": "[encoded data removed]",
      "text/plain": [
       "<matplotlib.figure.Figure at 0x1dd01156fd0>"
      ]
     },
     "metadata": {},
     "output_type": "display_data"
    }
   ],
   "source": [
    "fig, ax = plt.subplots(figsize=(14,4))\n",
    "heatmap = sns.heatmap(edad_vs_nivel_laboral_si, cmap='winter', robust=False, annot=True,\\\n",
    "                      linewidths=.5, linecolor='grey', ax=ax)\n",
    "\n",
    "heatmap.set_title('Edad vs Nivel laboral', fontsize=18)\n",
    "heatmap.set_xlabel('Nivel laboral', fontsize=14)\n",
    "heatmap.set_ylabel('Edad', fontsize=14)"
   ]
  },
  {
   "cell_type": "markdown",
   "metadata": {},
   "source": [
    "#### Analizamos las no postulaciones"
   ]
  },
  {
   "cell_type": "code",
   "execution_count": 89,
   "metadata": {},
   "outputs": [
    {
     "data": {
      "text/html": [
       "<div>\n",
       "<style scoped>\n",
       "    .dataframe tbody tr th:only-of-type {\n",
       "        vertical-align: middle;\n",
       "    }\n",
       "\n",
       "    .dataframe tbody tr th {\n",
       "        vertical-align: top;\n",
       "    }\n",
       "\n",
       "    .dataframe thead th {\n",
       "        text-align: right;\n",
       "    }\n",
       "</style>\n",
       "<table border=\"1\" class=\"dataframe\">\n",
       "  <thead>\n",
       "    <tr style=\"text-align: right;\">\n",
       "      <th>nivel_laboral</th>\n",
       "      <th>1</th>\n",
       "      <th>2</th>\n",
       "      <th>3</th>\n",
       "      <th>4</th>\n",
       "      <th>5</th>\n",
       "    </tr>\n",
       "    <tr>\n",
       "      <th>rango_edad</th>\n",
       "      <th></th>\n",
       "      <th></th>\n",
       "      <th></th>\n",
       "      <th></th>\n",
       "      <th></th>\n",
       "    </tr>\n",
       "  </thead>\n",
       "  <tbody>\n",
       "    <tr>\n",
       "      <th>1.0</th>\n",
       "      <td>0.305368</td>\n",
       "      <td>0.303558</td>\n",
       "      <td>0.303108</td>\n",
       "      <td>0.303284</td>\n",
       "      <td>0.300843</td>\n",
       "    </tr>\n",
       "    <tr>\n",
       "      <th>2.0</th>\n",
       "      <td>0.258251</td>\n",
       "      <td>0.256773</td>\n",
       "      <td>0.257710</td>\n",
       "      <td>0.255186</td>\n",
       "      <td>0.255988</td>\n",
       "    </tr>\n",
       "    <tr>\n",
       "      <th>3.0</th>\n",
       "      <td>0.290067</td>\n",
       "      <td>0.291457</td>\n",
       "      <td>0.290775</td>\n",
       "      <td>0.293731</td>\n",
       "      <td>0.295411</td>\n",
       "    </tr>\n",
       "    <tr>\n",
       "      <th>4.0</th>\n",
       "      <td>0.146314</td>\n",
       "      <td>0.148212</td>\n",
       "      <td>0.148408</td>\n",
       "      <td>0.147799</td>\n",
       "      <td>0.147757</td>\n",
       "    </tr>\n",
       "  </tbody>\n",
       "</table>\n",
       "</div>"
      ],
      "text/plain": [
       "nivel_laboral         1         2         3         4         5\n",
       "rango_edad                                                     \n",
       "1.0            0.305368  0.303558  0.303108  0.303284  0.300843\n",
       "2.0            0.258251  0.256773  0.257710  0.255186  0.255988\n",
       "3.0            0.290067  0.291457  0.290775  0.293731  0.295411\n",
       "4.0            0.146314  0.148212  0.148408  0.147799  0.147757"
      ]
     },
     "execution_count": 89,
     "metadata": {},
     "output_type": "execute_result"
    }
   ],
   "source": [
    "edad_vs_nivel_laboral_no = pd.crosstab(modelo_no['rango_edad'], modelo_no['nivel_laboral'], normalize='columns')\n",
    "edad_vs_nivel_laboral_no"
   ]
  },
  {
   "cell_type": "code",
   "execution_count": 90,
   "metadata": {},
   "outputs": [
    {
     "data": {
      "text/plain": [
       "Text(105,0.5,'Edad')"
      ]
     },
     "execution_count": 90,
     "metadata": {},
     "output_type": "execute_result"
    },
    {
     "data": {
      "image/png": "[encoded data removed]",
      "text/plain": [
       "<matplotlib.figure.Figure at 0x1dd01162c18>"
      ]
     },
     "metadata": {},
     "output_type": "display_data"
    }
   ],
   "source": [
    "fig, ax = plt.subplots(figsize=(14,4))\n",
    "heatmap = sns.heatmap(edad_vs_nivel_laboral_no, cmap='winter', robust=False, annot=True,\\\n",
    "                      linewidths=.5, linecolor='grey', ax=ax)\n",
    "\n",
    "heatmap.set_title('Edad vs Nivel laboral', fontsize=18)\n",
    "heatmap.set_xlabel('Nivel laboral', fontsize=14)\n",
    "heatmap.set_ylabel('Edad', fontsize=14)"
   ]
  },
  {
   "cell_type": "markdown",
   "metadata": {},
   "source": [
    "#### Conclusión"
   ]
  },
  {
   "cell_type": "markdown",
   "metadata": {},
   "source": [
    "Luego de analizar ambos heatmaps, notamos la siguiente relación inversa bastante marcada:\n",
    "- Si un postulante tiene entre 41 y 68 años (rango_edad = 4), es bastante probable que se postule a un aviso de gerencia (nivel_laboral = 5)\n",
    "- Si un postulante no tiene entre 41 y 68 años (rango_edad = 4), es menos probable que se postule a un aviso de gerencia (nivel_laboral = 5)\n",
    "\n",
    "Creamos entonces el feature que indica esta relación."
   ]
  },
  {
   "cell_type": "code",
   "execution_count": 91,
   "metadata": {},
   "outputs": [
    {
     "data": {
      "text/html": [
       "<div>\n",
       "<style scoped>\n",
       "    .dataframe tbody tr th:only-of-type {\n",
       "        vertical-align: middle;\n",
       "    }\n",
       "\n",
       "    .dataframe tbody tr th {\n",
       "        vertical-align: top;\n",
       "    }\n",
       "\n",
       "    .dataframe thead th {\n",
       "        text-align: right;\n",
       "    }\n",
       "</style>\n",
       "<table border=\"1\" class=\"dataframe\">\n",
       "  <thead>\n",
       "    <tr style=\"text-align: right;\">\n",
       "      <th></th>\n",
       "      <th>idaviso</th>\n",
       "      <th>idpostulante</th>\n",
       "      <th>rango_edad</th>\n",
       "      <th>sexo</th>\n",
       "      <th>nivel_estudios</th>\n",
       "      <th>esta_estudiando</th>\n",
       "      <th>titulo</th>\n",
       "      <th>tipo_de_trabajo</th>\n",
       "      <th>nivel_laboral</th>\n",
       "      <th>nombre_zona</th>\n",
       "      <th>nombre_area</th>\n",
       "      <th>sepostulo</th>\n",
       "      <th>estudia_vs_tipo_de_trabajo</th>\n",
       "      <th>edad_vs_tipo_de_trabajo</th>\n",
       "      <th>edad_vs_nivel_laboral</th>\n",
       "    </tr>\n",
       "  </thead>\n",
       "  <tbody>\n",
       "    <tr>\n",
       "      <th>682450</th>\n",
       "      <td>1112313470</td>\n",
       "      <td>GNoJqWe</td>\n",
       "      <td>4.0</td>\n",
       "      <td>1</td>\n",
       "      <td>2.0</td>\n",
       "      <td>0.0</td>\n",
       "      <td>Chofer de camines con CNRT</td>\n",
       "      <td>10</td>\n",
       "      <td>3</td>\n",
       "      <td>3</td>\n",
       "      <td>Transporte</td>\n",
       "      <td>0.0</td>\n",
       "      <td>0.0</td>\n",
       "      <td>0.0</td>\n",
       "      <td>0.0</td>\n",
       "    </tr>\n",
       "    <tr>\n",
       "      <th>1335745</th>\n",
       "      <td>1111699098</td>\n",
       "      <td>ZDrJZPR</td>\n",
       "      <td>1.0</td>\n",
       "      <td>1</td>\n",
       "      <td>1.0</td>\n",
       "      <td>0.0</td>\n",
       "      <td>Técnico de microinformática - GBA Zona Norte</td>\n",
       "      <td>10</td>\n",
       "      <td>2</td>\n",
       "      <td>2</td>\n",
       "      <td>Soporte Técnico</td>\n",
       "      <td>0.0</td>\n",
       "      <td>0.0</td>\n",
       "      <td>0.0</td>\n",
       "      <td>0.0</td>\n",
       "    </tr>\n",
       "    <tr>\n",
       "      <th>2743757</th>\n",
       "      <td>1112309787</td>\n",
       "      <td>X95WGPK</td>\n",
       "      <td>1.0</td>\n",
       "      <td>2</td>\n",
       "      <td>4.0</td>\n",
       "      <td>1.0</td>\n",
       "      <td>Administrativo/a de  facturación  y cobranzas</td>\n",
       "      <td>10</td>\n",
       "      <td>3</td>\n",
       "      <td>3</td>\n",
       "      <td>Administración</td>\n",
       "      <td>1.0</td>\n",
       "      <td>0.0</td>\n",
       "      <td>0.0</td>\n",
       "      <td>0.0</td>\n",
       "    </tr>\n",
       "    <tr>\n",
       "      <th>1274804</th>\n",
       "      <td>1112212678</td>\n",
       "      <td>ekmL8ar</td>\n",
       "      <td>2.0</td>\n",
       "      <td>1</td>\n",
       "      <td>5.0</td>\n",
       "      <td>1.0</td>\n",
       "      <td>Analista de planificación y abastecimiento</td>\n",
       "      <td>10</td>\n",
       "      <td>3</td>\n",
       "      <td>3</td>\n",
       "      <td>Abastecimiento</td>\n",
       "      <td>0.0</td>\n",
       "      <td>0.0</td>\n",
       "      <td>0.0</td>\n",
       "      <td>0.0</td>\n",
       "    </tr>\n",
       "    <tr>\n",
       "      <th>1024985</th>\n",
       "      <td>1112433534</td>\n",
       "      <td>ZDP5vKP</td>\n",
       "      <td>3.0</td>\n",
       "      <td>1</td>\n",
       "      <td>4.0</td>\n",
       "      <td>0.0</td>\n",
       "      <td>Administrativo Contable</td>\n",
       "      <td>10</td>\n",
       "      <td>2</td>\n",
       "      <td>3</td>\n",
       "      <td>Administración</td>\n",
       "      <td>0.0</td>\n",
       "      <td>0.0</td>\n",
       "      <td>0.0</td>\n",
       "      <td>0.0</td>\n",
       "    </tr>\n",
       "  </tbody>\n",
       "</table>\n",
       "</div>"
      ],
      "text/plain": [
       "            idaviso idpostulante  rango_edad  sexo  nivel_estudios  \\\n",
       "682450   1112313470      GNoJqWe         4.0     1             2.0   \n",
       "1335745  1111699098      ZDrJZPR         1.0     1             1.0   \n",
       "2743757  1112309787      X95WGPK         1.0     2             4.0   \n",
       "1274804  1112212678      ekmL8ar         2.0     1             5.0   \n",
       "1024985  1112433534      ZDP5vKP         3.0     1             4.0   \n",
       "\n",
       "         esta_estudiando                                          titulo  \\\n",
       "682450               0.0                      Chofer de camines con CNRT   \n",
       "1335745              0.0    Técnico de microinformática - GBA Zona Norte   \n",
       "2743757              1.0  Administrativo/a de  facturación  y cobranzas    \n",
       "1274804              1.0      Analista de planificación y abastecimiento   \n",
       "1024985              0.0                         Administrativo Contable   \n",
       "\n",
       "         tipo_de_trabajo  nivel_laboral  nombre_zona      nombre_area  \\\n",
       "682450                10              3            3       Transporte   \n",
       "1335745               10              2            2  Soporte Técnico   \n",
       "2743757               10              3            3   Administración   \n",
       "1274804               10              3            3   Abastecimiento   \n",
       "1024985               10              2            3   Administración   \n",
       "\n",
       "         sepostulo  estudia_vs_tipo_de_trabajo  edad_vs_tipo_de_trabajo  \\\n",
       "682450         0.0                         0.0                      0.0   \n",
       "1335745        0.0                         0.0                      0.0   \n",
       "2743757        1.0                         0.0                      0.0   \n",
       "1274804        0.0                         0.0                      0.0   \n",
       "1024985        0.0                         0.0                      0.0   \n",
       "\n",
       "         edad_vs_nivel_laboral  \n",
       "682450                     0.0  \n",
       "1335745                    0.0  \n",
       "2743757                    0.0  \n",
       "1274804                    0.0  \n",
       "1024985                    0.0  "
      ]
     },
     "execution_count": 91,
     "metadata": {},
     "output_type": "execute_result"
    }
   ],
   "source": [
    "relacion = ((modelo['rango_edad'] == 4) & (modelo['nivel_laboral'] == 5))\n",
    "\n",
    "#modelo.loc[(relacion), 'edad_vs_nivel_laboral'] = 1\n",
    "#modelo.loc[(~relacion), 'edad_vs_nivel_laboral'] = 0\n",
    "\n",
    "modelo.sample(5)"
   ]
  },
  {
   "cell_type": "markdown",
   "metadata": {},
   "source": [
    " "
   ]
  },
  {
   "cell_type": "markdown",
   "metadata": {},
   "source": [
    "## Sexo vs Nivel laboral"
   ]
  },
  {
   "cell_type": "markdown",
   "metadata": {},
   "source": [
    "Sexo:\n",
    "- 0 = 'NO_DECLARA'\n",
    "- 1 = 'FEM'\n",
    "- 2 = 'MASC'"
   ]
  },
  {
   "cell_type": "markdown",
   "metadata": {},
   "source": [
    "Nivel laboral:\n",
    "- 1 = Otro\n",
    "- 2 = Junior\n",
    "- 3 = Senior / Semi-Senior\n",
    "- 4 = Jefe / Supervisor / Responsable\n",
    "- 5 = Gerencia / Alta Gerencia / Dirección"
   ]
  },
  {
   "cell_type": "markdown",
   "metadata": {},
   "source": [
    "#### Analizamos las postulaciones"
   ]
  },
  {
   "cell_type": "code",
   "execution_count": 56,
   "metadata": {},
   "outputs": [
    {
     "data": {
      "text/html": [
       "<div>\n",
       "<style scoped>\n",
       "    .dataframe tbody tr th:only-of-type {\n",
       "        vertical-align: middle;\n",
       "    }\n",
       "\n",
       "    .dataframe tbody tr th {\n",
       "        vertical-align: top;\n",
       "    }\n",
       "\n",
       "    .dataframe thead th {\n",
       "        text-align: right;\n",
       "    }\n",
       "</style>\n",
       "<table border=\"1\" class=\"dataframe\">\n",
       "  <thead>\n",
       "    <tr style=\"text-align: right;\">\n",
       "      <th>nivel_laboral</th>\n",
       "      <th>1</th>\n",
       "      <th>2</th>\n",
       "      <th>3</th>\n",
       "      <th>4</th>\n",
       "      <th>5</th>\n",
       "    </tr>\n",
       "    <tr>\n",
       "      <th>sexo</th>\n",
       "      <th></th>\n",
       "      <th></th>\n",
       "      <th></th>\n",
       "      <th></th>\n",
       "      <th></th>\n",
       "    </tr>\n",
       "  </thead>\n",
       "  <tbody>\n",
       "    <tr>\n",
       "      <th>0</th>\n",
       "      <td>0.001798</td>\n",
       "      <td>0.001801</td>\n",
       "      <td>0.001611</td>\n",
       "      <td>0.002328</td>\n",
       "      <td>0.003159</td>\n",
       "    </tr>\n",
       "    <tr>\n",
       "      <th>1</th>\n",
       "      <td>0.535792</td>\n",
       "      <td>0.550198</td>\n",
       "      <td>0.516993</td>\n",
       "      <td>0.320391</td>\n",
       "      <td>0.293700</td>\n",
       "    </tr>\n",
       "    <tr>\n",
       "      <th>2</th>\n",
       "      <td>0.462409</td>\n",
       "      <td>0.448002</td>\n",
       "      <td>0.481396</td>\n",
       "      <td>0.677280</td>\n",
       "      <td>0.703141</td>\n",
       "    </tr>\n",
       "  </tbody>\n",
       "</table>\n",
       "</div>"
      ],
      "text/plain": [
       "nivel_laboral         1         2         3         4         5\n",
       "sexo                                                           \n",
       "0              0.001798  0.001801  0.001611  0.002328  0.003159\n",
       "1              0.535792  0.550198  0.516993  0.320391  0.293700\n",
       "2              0.462409  0.448002  0.481396  0.677280  0.703141"
      ]
     },
     "execution_count": 56,
     "metadata": {},
     "output_type": "execute_result"
    }
   ],
   "source": [
    "sexo_vs_nivel_laboral_si = pd.crosstab(modelo_si['sexo'], modelo_si['nivel_laboral'], normalize='columns')\n",
    "sexo_vs_nivel_laboral_si"
   ]
  },
  {
   "cell_type": "code",
   "execution_count": 67,
   "metadata": {},
   "outputs": [
    {
     "data": {
      "text/plain": [
       "Text(105,0.5,'Sexo')"
      ]
     },
     "execution_count": 67,
     "metadata": {},
     "output_type": "execute_result"
    },
    {
     "data": {
      "image/png": "[encoded data removed]",
      "text/plain": [
       "<matplotlib.figure.Figure at 0x1dd03cfa2b0>"
      ]
     },
     "metadata": {},
     "output_type": "display_data"
    }
   ],
   "source": [
    "fig, ax = plt.subplots(figsize=(14,4))\n",
    "heatmap = sns.heatmap(sexo_vs_nivel_laboral_si, cmap='Greys', robust=False, annot=True,\\\n",
    "                      linewidths=.5, linecolor='grey', ax=ax)\n",
    "\n",
    "heatmap.set_title('Sexo vs Nivel laboral', fontsize=18)\n",
    "heatmap.set_xlabel('Nivel laboral', fontsize=14)\n",
    "heatmap.set_ylabel('Sexo', fontsize=14)"
   ]
  },
  {
   "cell_type": "markdown",
   "metadata": {},
   "source": [
    "#### Analizamos las no postulaciones"
   ]
  },
  {
   "cell_type": "code",
   "execution_count": 57,
   "metadata": {},
   "outputs": [
    {
     "data": {
      "text/html": [
       "<div>\n",
       "<style scoped>\n",
       "    .dataframe tbody tr th:only-of-type {\n",
       "        vertical-align: middle;\n",
       "    }\n",
       "\n",
       "    .dataframe tbody tr th {\n",
       "        vertical-align: top;\n",
       "    }\n",
       "\n",
       "    .dataframe thead th {\n",
       "        text-align: right;\n",
       "    }\n",
       "</style>\n",
       "<table border=\"1\" class=\"dataframe\">\n",
       "  <thead>\n",
       "    <tr style=\"text-align: right;\">\n",
       "      <th>nivel_laboral</th>\n",
       "      <th>1</th>\n",
       "      <th>2</th>\n",
       "      <th>3</th>\n",
       "      <th>4</th>\n",
       "      <th>5</th>\n",
       "    </tr>\n",
       "    <tr>\n",
       "      <th>sexo</th>\n",
       "      <th></th>\n",
       "      <th></th>\n",
       "      <th></th>\n",
       "      <th></th>\n",
       "      <th></th>\n",
       "    </tr>\n",
       "  </thead>\n",
       "  <tbody>\n",
       "    <tr>\n",
       "      <th>0</th>\n",
       "      <td>0.002233</td>\n",
       "      <td>0.002280</td>\n",
       "      <td>0.002269</td>\n",
       "      <td>0.002138</td>\n",
       "      <td>0.002173</td>\n",
       "    </tr>\n",
       "    <tr>\n",
       "      <th>1</th>\n",
       "      <td>0.525374</td>\n",
       "      <td>0.525936</td>\n",
       "      <td>0.525422</td>\n",
       "      <td>0.525319</td>\n",
       "      <td>0.527498</td>\n",
       "    </tr>\n",
       "    <tr>\n",
       "      <th>2</th>\n",
       "      <td>0.472393</td>\n",
       "      <td>0.471784</td>\n",
       "      <td>0.472309</td>\n",
       "      <td>0.472543</td>\n",
       "      <td>0.470330</td>\n",
       "    </tr>\n",
       "  </tbody>\n",
       "</table>\n",
       "</div>"
      ],
      "text/plain": [
       "nivel_laboral         1         2         3         4         5\n",
       "sexo                                                           \n",
       "0              0.002233  0.002280  0.002269  0.002138  0.002173\n",
       "1              0.525374  0.525936  0.525422  0.525319  0.527498\n",
       "2              0.472393  0.471784  0.472309  0.472543  0.470330"
      ]
     },
     "execution_count": 57,
     "metadata": {},
     "output_type": "execute_result"
    }
   ],
   "source": [
    "sexo_vs_nivel_laboral_no = pd.crosstab(modelo_no['sexo'], modelo_no['nivel_laboral'], normalize='columns')\n",
    "sexo_vs_nivel_laboral_no"
   ]
  },
  {
   "cell_type": "code",
   "execution_count": 68,
   "metadata": {},
   "outputs": [
    {
     "data": {
      "text/plain": [
       "Text(105,0.5,'Sexo')"
      ]
     },
     "execution_count": 68,
     "metadata": {},
     "output_type": "execute_result"
    },
    {
     "data": {
      "image/png": "[encoded data removed]",
      "text/plain": [
       "<matplotlib.figure.Figure at 0x1dd02611080>"
      ]
     },
     "metadata": {},
     "output_type": "display_data"
    }
   ],
   "source": [
    "fig, ax = plt.subplots(figsize=(14,4))\n",
    "heatmap = sns.heatmap(sexo_vs_nivel_laboral_no, cmap='Greys', robust=False, annot=True,\\\n",
    "                      linewidths=.5, linecolor='grey', ax=ax)\n",
    "\n",
    "heatmap.set_title('Sexo vs Nivel laboral', fontsize=18)\n",
    "heatmap.set_xlabel('Nivel laboral', fontsize=14)\n",
    "heatmap.set_ylabel('Sexo', fontsize=14)"
   ]
  },
  {
   "cell_type": "markdown",
   "metadata": {},
   "source": [
    "#### Conclusión"
   ]
  },
  {
   "cell_type": "markdown",
   "metadata": {},
   "source": [
    "No encontramos grandes diferencias entre ambos heatmaps. No podemos traducir esto a una relación binaria."
   ]
  },
  {
   "cell_type": "markdown",
   "metadata": {},
   "source": [
    " "
   ]
  },
  {
   "cell_type": "markdown",
   "metadata": {},
   "source": [
    " "
   ]
  },
  {
   "cell_type": "markdown",
   "metadata": {},
   "source": [
    "# Relación entre las distintas áreas"
   ]
  },
  {
   "cell_type": "markdown",
   "metadata": {},
   "source": [
    "La idea es encontrar relaciones fuertes entre las distintas áreas de los avisos laborales. Para esto, comenzamos por analizar las áreas a las que se postuló cada postulante.\n",
    "\n",
    "Cabe destacar que únicamente nos interesa si el postulante se postuló o no a una cierta área: no influye la cantidad de veces que lo hizo."
   ]
  },
  {
   "cell_type": "code",
   "execution_count": 107,
   "metadata": {},
   "outputs": [],
   "source": [
    "# Eliminamos las postulaciones duplicadas de un mismo postulante a una misma área\n",
    "modelo_areas = modelo_si.drop_duplicates(['idpostulante','nombre_area'])\n",
    "\n",
    "# Creamos un diccionario del estilo {idpostulante:[areas_a_las_que_se_postulo]}\n",
    "dic_id_area = {}\n",
    "for index, row in modelo_areas.iterrows():\n",
    "    area = row['nombre_area']\n",
    "    idpostulante = row['idpostulante']\n",
    "    if (idpostulante not in dic_id_area):\n",
    "        dic_id_area[idpostulante] = [area]\n",
    "    else:\n",
    "        if (area not in dic_id_area[idpostulante]):\n",
    "            dic_id_area[idpostulante].append(area)"
   ]
  },
  {
   "cell_type": "markdown",
   "metadata": {},
   "source": [
    "Creamos una lista de listas. Cada sublista contiene las areas a las que se postuló cada postulante. Ya no nos interesa el idpostulante, sino las areas en común.\n",
    "\n",
    "NOTA: tomamos listas de mas de un elemento y menos de 8, ya que luego calcularemos todas las duplas\n",
    "posibles para cada lista. Considerar que 7C2 = 21 duplas como máximo por lista."
   ]
  },
  {
   "cell_type": "code",
   "execution_count": 108,
   "metadata": {},
   "outputs": [],
   "source": [
    "lista_areas = []\n",
    "for id in dic_id_area:\n",
    "    areas = dic_id_area[id]\n",
    "    if (len(areas) > 1 and len(areas) < 8):\n",
    "        lista_areas.append(areas)"
   ]
  },
  {
   "cell_type": "code",
   "execution_count": 109,
   "metadata": {},
   "outputs": [
    {
     "data": {
      "text/html": [
       "<div>\n",
       "<style scoped>\n",
       "    .dataframe tbody tr th:only-of-type {\n",
       "        vertical-align: middle;\n",
       "    }\n",
       "\n",
       "    .dataframe tbody tr th {\n",
       "        vertical-align: top;\n",
       "    }\n",
       "\n",
       "    .dataframe thead th {\n",
       "        text-align: right;\n",
       "    }\n",
       "</style>\n",
       "<table border=\"1\" class=\"dataframe\">\n",
       "  <thead>\n",
       "    <tr style=\"text-align: right;\">\n",
       "      <th></th>\n",
       "      <th>areas</th>\n",
       "    </tr>\n",
       "  </thead>\n",
       "  <tbody>\n",
       "    <tr>\n",
       "      <th>0</th>\n",
       "      <td>[Atención al Cliente, Administración, Contabil...</td>\n",
       "    </tr>\n",
       "    <tr>\n",
       "      <th>1</th>\n",
       "      <td>[Tesorería, Administración, Cadetería]</td>\n",
       "    </tr>\n",
       "    <tr>\n",
       "      <th>2</th>\n",
       "      <td>[Administración, Recepcionista]</td>\n",
       "    </tr>\n",
       "    <tr>\n",
       "      <th>3</th>\n",
       "      <td>[Dirección de Obra, Ingeniería Civil]</td>\n",
       "    </tr>\n",
       "    <tr>\n",
       "      <th>4</th>\n",
       "      <td>[Ventas, Call Center, Atención al Cliente]</td>\n",
       "    </tr>\n",
       "  </tbody>\n",
       "</table>\n",
       "</div>"
      ],
      "text/plain": [
       "                                               areas\n",
       "0  [Atención al Cliente, Administración, Contabil...\n",
       "1             [Tesorería, Administración, Cadetería]\n",
       "2                    [Administración, Recepcionista]\n",
       "3              [Dirección de Obra, Ingeniería Civil]\n",
       "4         [Ventas, Call Center, Atención al Cliente]"
      ]
     },
     "execution_count": 109,
     "metadata": {},
     "output_type": "execute_result"
    }
   ],
   "source": [
    "df_areas = pd.DataFrame({'areas':lista_areas})\n",
    "df_areas.head(5)"
   ]
  },
  {
   "cell_type": "code",
   "execution_count": 110,
   "metadata": {},
   "outputs": [
    {
     "name": "stdout",
     "output_type": "stream",
     "text": [
      "<class 'pandas.core.frame.DataFrame'>\n",
      "RangeIndex: 136111 entries, 0 to 136110\n",
      "Data columns (total 1 columns):\n",
      "areas    136111 non-null object\n",
      "dtypes: object(1)\n",
      "memory usage: 1.0+ MB\n"
     ]
    }
   ],
   "source": [
    "df_areas.info()"
   ]
  },
  {
   "cell_type": "markdown",
   "metadata": {},
   "source": [
    " "
   ]
  },
  {
   "cell_type": "markdown",
   "metadata": {},
   "source": [
    "A continuación, calcularemos todas las duplas posibles para cada lista de áreas y las ordenaremos de mayor a menor por cantidad de apariciones. De esta forma, podremos saber cuáles son las combinaciones de áreas más comunes."
   ]
  },
  {
   "cell_type": "code",
   "execution_count": 111,
   "metadata": {},
   "outputs": [],
   "source": [
    "dic_tuplas = {}\n",
    "contador = 0\n",
    "for index, row in df_areas.iterrows():\n",
    "    areas = sorted(row['areas'])\n",
    "    for area_x in areas:\n",
    "        indice = areas.index(area_x)\n",
    "        for area_y in areas[indice+1:]:\n",
    "            tupla = (area_x, area_y)\n",
    "            if (tupla not in dic_tuplas):\n",
    "                dic_tuplas[tupla] = 1\n",
    "            else:\n",
    "                dic_tuplas[tupla] += 1"
   ]
  },
  {
   "cell_type": "code",
   "execution_count": 112,
   "metadata": {},
   "outputs": [],
   "source": [
    "df_tuplas = pd.DataFrame(list(dic_tuplas.items()), columns=['dupla_areas','cantidad'])\n",
    "df_tuplas = df_tuplas.sort_values(by=['cantidad'], ascending=False).reset_index()\n",
    "df_tuplas = df_tuplas[['dupla_areas', 'cantidad']]"
   ]
  },
  {
   "cell_type": "code",
   "execution_count": 113,
   "metadata": {},
   "outputs": [
    {
     "data": {
      "text/html": [
       "<div>\n",
       "<style scoped>\n",
       "    .dataframe tbody tr th:only-of-type {\n",
       "        vertical-align: middle;\n",
       "    }\n",
       "\n",
       "    .dataframe tbody tr th {\n",
       "        vertical-align: top;\n",
       "    }\n",
       "\n",
       "    .dataframe thead th {\n",
       "        text-align: right;\n",
       "    }\n",
       "</style>\n",
       "<table border=\"1\" class=\"dataframe\">\n",
       "  <thead>\n",
       "    <tr style=\"text-align: right;\">\n",
       "      <th></th>\n",
       "      <th>dupla_areas</th>\n",
       "      <th>cantidad</th>\n",
       "    </tr>\n",
       "  </thead>\n",
       "  <tbody>\n",
       "    <tr>\n",
       "      <th>0</th>\n",
       "      <td>(Comercial, Ventas)</td>\n",
       "      <td>20070</td>\n",
       "    </tr>\n",
       "    <tr>\n",
       "      <th>1</th>\n",
       "      <td>(Atención al Cliente, Ventas)</td>\n",
       "      <td>17055</td>\n",
       "    </tr>\n",
       "    <tr>\n",
       "      <th>2</th>\n",
       "      <td>(Call Center, Ventas)</td>\n",
       "      <td>11339</td>\n",
       "    </tr>\n",
       "    <tr>\n",
       "      <th>3</th>\n",
       "      <td>(Administración, Ventas)</td>\n",
       "      <td>11261</td>\n",
       "    </tr>\n",
       "    <tr>\n",
       "      <th>4</th>\n",
       "      <td>(Atención al Cliente, Comercial)</td>\n",
       "      <td>10376</td>\n",
       "    </tr>\n",
       "    <tr>\n",
       "      <th>5</th>\n",
       "      <td>(Atención al Cliente, Call Center)</td>\n",
       "      <td>9956</td>\n",
       "    </tr>\n",
       "    <tr>\n",
       "      <th>6</th>\n",
       "      <td>(Administración, Comercial)</td>\n",
       "      <td>8740</td>\n",
       "    </tr>\n",
       "    <tr>\n",
       "      <th>7</th>\n",
       "      <td>(Recepcionista, Ventas)</td>\n",
       "      <td>8378</td>\n",
       "    </tr>\n",
       "    <tr>\n",
       "      <th>8</th>\n",
       "      <td>(Administración, Atención al Cliente)</td>\n",
       "      <td>8011</td>\n",
       "    </tr>\n",
       "    <tr>\n",
       "      <th>9</th>\n",
       "      <td>(Telemarketing, Ventas)</td>\n",
       "      <td>7994</td>\n",
       "    </tr>\n",
       "  </tbody>\n",
       "</table>\n",
       "</div>"
      ],
      "text/plain": [
       "                             dupla_areas  cantidad\n",
       "0                    (Comercial, Ventas)     20070\n",
       "1          (Atención al Cliente, Ventas)     17055\n",
       "2                  (Call Center, Ventas)     11339\n",
       "3               (Administración, Ventas)     11261\n",
       "4       (Atención al Cliente, Comercial)     10376\n",
       "5     (Atención al Cliente, Call Center)      9956\n",
       "6            (Administración, Comercial)      8740\n",
       "7                (Recepcionista, Ventas)      8378\n",
       "8  (Administración, Atención al Cliente)      8011\n",
       "9                (Telemarketing, Ventas)      7994"
      ]
     },
     "execution_count": 113,
     "metadata": {},
     "output_type": "execute_result"
    }
   ],
   "source": [
    "df_tuplas.head(10)"
   ]
  },
  {
   "cell_type": "code",
   "execution_count": 114,
   "metadata": {},
   "outputs": [
    {
     "name": "stdout",
     "output_type": "stream",
     "text": [
      "<class 'pandas.core.frame.DataFrame'>\n",
      "RangeIndex: 8845 entries, 0 to 8844\n",
      "Data columns (total 2 columns):\n",
      "dupla_areas    8845 non-null object\n",
      "cantidad       8845 non-null int64\n",
      "dtypes: int64(1), object(1)\n",
      "memory usage: 138.3+ KB\n"
     ]
    }
   ],
   "source": [
    "df_tuplas.info()"
   ]
  },
  {
   "cell_type": "markdown",
   "metadata": {},
   "source": [
    " "
   ]
  },
  {
   "cell_type": "markdown",
   "metadata": {},
   "source": [
    "Definimos las áreas más importantes en base a las duplas obtenidas y a información obtenida en la página web de Navent."
   ]
  },
  {
   "cell_type": "code",
   "execution_count": 115,
   "metadata": {},
   "outputs": [],
   "source": [
    "top_areas = ['Administración','Ventas','Producción','Call Center','Recepcionista',\\\n",
    "             'Contabilidad','Programación','Recursos Humanos','Gastronomia','Mantenimiento',\\\n",
    "             'Logística','Seguridad','Transporte','Legal','Marketing','Atención al Cliente',\\\n",
    "             'Tecnologia / Sistemas','Medicina','Salud']"
   ]
  },
  {
   "cell_type": "code",
   "execution_count": 116,
   "metadata": {},
   "outputs": [
    {
     "data": {
      "text/plain": [
       "19"
      ]
     },
     "execution_count": 116,
     "metadata": {},
     "output_type": "execute_result"
    }
   ],
   "source": [
    "len_top_areas = len(top_areas)\n",
    "len_top_areas"
   ]
  },
  {
   "cell_type": "markdown",
   "metadata": {},
   "source": [
    "Nos guardamos en una lista las áreas restantes."
   ]
  },
  {
   "cell_type": "code",
   "execution_count": 117,
   "metadata": {},
   "outputs": [],
   "source": [
    "avisos_detalles = pd.read_csv('datos_navent_fiuba/h15_fiuba_6_avisos_detalle.csv')\n",
    "\n",
    "avisos_detalles_2 = pd.read_csv('datos_navent_fiuba/d15_fiuba_6_avisos_detalle.csv')\n",
    "\n",
    "avisos_detalles = pd.merge(avisos_detalles, avisos_detalles_2, how='outer')\n",
    "\n",
    "avisos_detalles_2 = pd.read_csv('datos_navent_fiuba/fiuba_6_avisos_detalle.csv')\n",
    "\n",
    "avisos_detalles = pd.merge(avisos_detalles, avisos_detalles_2, how='outer')\n",
    "\n",
    "avisos_detalles_2 = pd.read_csv('datos_navent_fiuba/fiuba_6_avisos_detalle_missing_nivel_laboral.csv')\n",
    "\n",
    "avisos_detalles = pd.merge(avisos_detalles, avisos_detalles_2, how='outer')"
   ]
  },
  {
   "cell_type": "code",
   "execution_count": 118,
   "metadata": {},
   "outputs": [],
   "source": [
    "areas_totales = avisos_detalles['nombre_area'].unique()"
   ]
  },
  {
   "cell_type": "code",
   "execution_count": 119,
   "metadata": {},
   "outputs": [
    {
     "data": {
      "text/plain": [
       "188"
      ]
     },
     "execution_count": 119,
     "metadata": {},
     "output_type": "execute_result"
    }
   ],
   "source": [
    "len_areas_totales = len(areas_totales)\n",
    "len_areas_totales"
   ]
  },
  {
   "cell_type": "code",
   "execution_count": 120,
   "metadata": {},
   "outputs": [],
   "source": [
    "areas_restantes = []\n",
    "\n",
    "for area in areas_totales:\n",
    "    if area not in top_areas:\n",
    "        areas_restantes.append(area)"
   ]
  },
  {
   "cell_type": "markdown",
   "metadata": {},
   "source": [
    "Comprobamos que la cantidad de áreas restantes es la correcta."
   ]
  },
  {
   "cell_type": "code",
   "execution_count": 121,
   "metadata": {},
   "outputs": [
    {
     "data": {
      "text/plain": [
       "True"
      ]
     },
     "execution_count": 121,
     "metadata": {},
     "output_type": "execute_result"
    }
   ],
   "source": [
    "len_areas_restantes = len(areas_restantes)\n",
    "\n",
    "len_areas_restantes == len_areas_totales - len_top_areas"
   ]
  },
  {
   "cell_type": "markdown",
   "metadata": {},
   "source": [
    "Asignamos las áreas restantes a un top_area, según las duplas arriba obtenidas."
   ]
  },
  {
   "cell_type": "code",
   "execution_count": 122,
   "metadata": {},
   "outputs": [],
   "source": [
    "contador = 0\n",
    "asignados = []\n",
    "\n",
    "# En este diccionario se van a ir cargando las areas que le corresponden a cada top_area\n",
    "# Va a ser de la pinta dic_area = {top_area:[lista_sub_areas]}\n",
    "dic_areas = {}\n",
    "for area in top_areas:\n",
    "    dic_areas[area] = []\n",
    "    \n",
    "    \n",
    "# Recorremos las tuplas y vamos asignando cada area al top_area que le corresponda\n",
    "for index, row in df_tuplas.iterrows():\n",
    "    area1 = row[0][0]\n",
    "    area2 = row[0][1]\n",
    "\n",
    "    if (area1 not in top_areas) and (area2 in top_areas):\n",
    "        if area1 not in asignados:\n",
    "            dic_areas[area2].append(area1)\n",
    "            asignados.append(area1)\n",
    "    \n",
    "    if (area2 not in top_areas) and (area1 in top_areas):\n",
    "        if area2 not in asignados:\n",
    "            dic_areas[area1].append(area2)\n",
    "            asignados.append(area2)"
   ]
  },
  {
   "cell_type": "markdown",
   "metadata": {},
   "source": [
    "Comprobamos la cantidad de áreas que efectivamente fueron asignadas a algún top_area."
   ]
  },
  {
   "cell_type": "code",
   "execution_count": 123,
   "metadata": {},
   "outputs": [
    {
     "data": {
      "text/plain": [
       "162"
      ]
     },
     "execution_count": 123,
     "metadata": {},
     "output_type": "execute_result"
    }
   ],
   "source": [
    "areas_asignadas = []\n",
    "\n",
    "for top_area in dic_areas:\n",
    "    for area in dic_areas[top_area]:\n",
    "        areas_asignadas.append(area)\n",
    "        \n",
    "len(areas_asignadas)"
   ]
  },
  {
   "cell_type": "markdown",
   "metadata": {},
   "source": [
    "Considerando, que tenemos un total de 188 áreas y 19 de ellas son top_areas, nos quedan 7 áreas sin asignar. Las asignamos a la categoría \"Otros\"."
   ]
  },
  {
   "cell_type": "code",
   "execution_count": 124,
   "metadata": {},
   "outputs": [],
   "source": [
    "otros = \"Otros\"\n",
    "\n",
    "for area in areas_restantes:\n",
    "    if area not in areas_asignadas:\n",
    "        if not otros in dic_areas:\n",
    "            dic_areas[otros] = []\n",
    "        dic_areas[otros].append(area)            "
   ]
  },
  {
   "cell_type": "markdown",
   "metadata": {},
   "source": [
    "Comprobamos que efectivamente las 7 áreas sin asignar ahora forman parte de \"Otros\"."
   ]
  },
  {
   "cell_type": "code",
   "execution_count": 125,
   "metadata": {},
   "outputs": [
    {
     "data": {
      "text/plain": [
       "['Prácticas cardiológicas',\n",
       " 'Odontología',\n",
       " 'Fonoaudiología',\n",
       " 'Esterilización',\n",
       " 'Traduccion',\n",
       " 'Enfermería (ver Enfermería)',\n",
       " 'Auditoría de Seguros']"
      ]
     },
     "execution_count": 125,
     "metadata": {},
     "output_type": "execute_result"
    }
   ],
   "source": [
    "dic_areas[otros]"
   ]
  },
  {
   "cell_type": "markdown",
   "metadata": {},
   "source": [
    " "
   ]
  },
  {
   "cell_type": "markdown",
   "metadata": {},
   "source": [
    "Asignamos variables numéricas a las áreas del modelo y del test final, según lo analizado arriba."
   ]
  },
  {
   "cell_type": "code",
   "execution_count": 126,
   "metadata": {},
   "outputs": [
    {
     "name": "stdout",
     "output_type": "stream",
     "text": [
      "65.38207960128784\n"
     ]
    }
   ],
   "source": [
    "t0 = time()\n",
    "\n",
    "otros = \"Otros\"\n",
    "n_area = 1    \n",
    "    \n",
    "for top_area in dic_areas:\n",
    "    if (top_area != otros):\n",
    "        modelo.loc[(modelo['nombre_area'] == top_area), 'num_area'] = n_area\n",
    "        test_final.loc[(test_final['nombre_area'] == top_area), 'num_area'] = n_area\n",
    "        for area in dic_areas[top_area]:\n",
    "            modelo.loc[(modelo['nombre_area'] == area), 'num_area'] = n_area\n",
    "            test_final.loc[(test_final['nombre_area'] == area), 'num_area'] = n_area\n",
    "    else:\n",
    "        modelo.loc[(modelo['nombre_area'] == top_area), 'num_area'] = 0\n",
    "        test_final.loc[(test_final['nombre_area'] == top_area), 'num_area'] = 0\n",
    "        \n",
    "    n_area += 1\n",
    "    \n",
    "\n",
    "tf = time() - t0\n",
    "    \n",
    "print(tf)"
   ]
  },
  {
   "cell_type": "code",
   "execution_count": 127,
   "metadata": {},
   "outputs": [
    {
     "data": {
      "text/plain": [
       "2.0     907375\n",
       "3.0     488513\n",
       "1.0     486389\n",
       "17.0    145262\n",
       "16.0    133423\n",
       "5.0     133345\n",
       "8.0     114175\n",
       "4.0      84931\n",
       "15.0     81734\n",
       "6.0      75028\n",
       "7.0      60896\n",
       "10.0     58167\n",
       "11.0     46237\n",
       "9.0      45146\n",
       "14.0     27651\n",
       "0.0      25050\n",
       "12.0     24749\n",
       "13.0     24167\n",
       "19.0     20861\n",
       "18.0     16257\n",
       "Name: num_area, dtype: int64"
      ]
     },
     "execution_count": 127,
     "metadata": {},
     "output_type": "execute_result"
    }
   ],
   "source": [
    "modelo['num_area'].value_counts()"
   ]
  },
  {
   "cell_type": "code",
   "execution_count": 128,
   "metadata": {},
   "outputs": [
    {
     "data": {
      "text/plain": [
       "2.0     30898\n",
       "3.0     17342\n",
       "1.0     16517\n",
       "17.0     4606\n",
       "16.0     4116\n",
       "8.0      3615\n",
       "5.0      3555\n",
       "4.0      3467\n",
       "15.0     2716\n",
       "6.0      2212\n",
       "10.0     1697\n",
       "11.0     1584\n",
       "7.0      1573\n",
       "9.0      1171\n",
       "12.0     1102\n",
       "14.0     1077\n",
       "0.0       846\n",
       "13.0      746\n",
       "19.0      635\n",
       "18.0      495\n",
       "Name: num_area, dtype: int64"
      ]
     },
     "execution_count": 128,
     "metadata": {},
     "output_type": "execute_result"
    }
   ],
   "source": [
    "test_final['num_area'].value_counts()"
   ]
  },
  {
   "cell_type": "markdown",
   "metadata": {},
   "source": [
    " "
   ]
  },
  {
   "cell_type": "markdown",
   "metadata": {},
   "source": [
    "Asignamos a la categoría \"Otros\" (valor = 0) aquellos valores nulos"
   ]
  },
  {
   "cell_type": "code",
   "execution_count": 129,
   "metadata": {},
   "outputs": [
    {
     "data": {
      "text/plain": [
       "644"
      ]
     },
     "execution_count": 129,
     "metadata": {},
     "output_type": "execute_result"
    }
   ],
   "source": [
    "modelo['num_area'].isnull().sum()"
   ]
  },
  {
   "cell_type": "code",
   "execution_count": 130,
   "metadata": {},
   "outputs": [],
   "source": [
    "modelo.loc[(modelo['num_area'].isnull()), 'num_area'] = 0"
   ]
  },
  {
   "cell_type": "code",
   "execution_count": 131,
   "metadata": {},
   "outputs": [
    {
     "data": {
      "text/plain": [
       "30"
      ]
     },
     "execution_count": 131,
     "metadata": {},
     "output_type": "execute_result"
    }
   ],
   "source": [
    "test_final['num_area'].isnull().sum()"
   ]
  },
  {
   "cell_type": "code",
   "execution_count": 132,
   "metadata": {},
   "outputs": [],
   "source": [
    "test_final.loc[(test_final['num_area'].isnull()), 'num_area'] = 0"
   ]
  },
  {
   "cell_type": "markdown",
   "metadata": {},
   "source": [
    " "
   ]
  },
  {
   "cell_type": "markdown",
   "metadata": {},
   "source": [
    "# Exportamos el modelo final featured"
   ]
  },
  {
   "cell_type": "code",
   "execution_count": 133,
   "metadata": {},
   "outputs": [
    {
     "data": {
      "text/html": [
       "<div>\n",
       "<style scoped>\n",
       "    .dataframe tbody tr th:only-of-type {\n",
       "        vertical-align: middle;\n",
       "    }\n",
       "\n",
       "    .dataframe tbody tr th {\n",
       "        vertical-align: top;\n",
       "    }\n",
       "\n",
       "    .dataframe thead th {\n",
       "        text-align: right;\n",
       "    }\n",
       "</style>\n",
       "<table border=\"1\" class=\"dataframe\">\n",
       "  <thead>\n",
       "    <tr style=\"text-align: right;\">\n",
       "      <th></th>\n",
       "      <th>idaviso</th>\n",
       "      <th>idpostulante</th>\n",
       "      <th>rango_edad</th>\n",
       "      <th>sexo</th>\n",
       "      <th>nivel_estudios</th>\n",
       "      <th>esta_estudiando</th>\n",
       "      <th>titulo</th>\n",
       "      <th>tipo_de_trabajo</th>\n",
       "      <th>nivel_laboral</th>\n",
       "      <th>nombre_zona</th>\n",
       "      <th>nombre_area</th>\n",
       "      <th>sepostulo</th>\n",
       "      <th>num_area</th>\n",
       "    </tr>\n",
       "  </thead>\n",
       "  <tbody>\n",
       "    <tr>\n",
       "      <th>2433797</th>\n",
       "      <td>1112298029</td>\n",
       "      <td>NK8JjD</td>\n",
       "      <td>2.0</td>\n",
       "      <td>1</td>\n",
       "      <td>2.0</td>\n",
       "      <td>0.0</td>\n",
       "      <td>Tecnico Quimico- Cañuelas</td>\n",
       "      <td>10</td>\n",
       "      <td>3</td>\n",
       "      <td>3</td>\n",
       "      <td>Química</td>\n",
       "      <td>1.0</td>\n",
       "      <td>3.0</td>\n",
       "    </tr>\n",
       "    <tr>\n",
       "      <th>1570659</th>\n",
       "      <td>1112336395</td>\n",
       "      <td>ow2aw24</td>\n",
       "      <td>2.0</td>\n",
       "      <td>2</td>\n",
       "      <td>2.0</td>\n",
       "      <td>0.0</td>\n",
       "      <td>TECNICO Mecánico - Mantenimiento de Maquinaria...</td>\n",
       "      <td>10</td>\n",
       "      <td>3</td>\n",
       "      <td>3</td>\n",
       "      <td>Mantenimiento</td>\n",
       "      <td>1.0</td>\n",
       "      <td>10.0</td>\n",
       "    </tr>\n",
       "    <tr>\n",
       "      <th>824645</th>\n",
       "      <td>1112470846</td>\n",
       "      <td>kPXWEZ0</td>\n",
       "      <td>1.0</td>\n",
       "      <td>2</td>\n",
       "      <td>4.0</td>\n",
       "      <td>1.0</td>\n",
       "      <td>Vendedor/a</td>\n",
       "      <td>10</td>\n",
       "      <td>3</td>\n",
       "      <td>3</td>\n",
       "      <td>Ventas</td>\n",
       "      <td>0.0</td>\n",
       "      <td>2.0</td>\n",
       "    </tr>\n",
       "    <tr>\n",
       "      <th>2181042</th>\n",
       "      <td>1112312178</td>\n",
       "      <td>KBzLNGQ</td>\n",
       "      <td>1.0</td>\n",
       "      <td>1</td>\n",
       "      <td>4.0</td>\n",
       "      <td>0.0</td>\n",
       "      <td>Talent Acquisition - E-commerce Líder en la re...</td>\n",
       "      <td>10</td>\n",
       "      <td>3</td>\n",
       "      <td>3</td>\n",
       "      <td>Selección</td>\n",
       "      <td>1.0</td>\n",
       "      <td>8.0</td>\n",
       "    </tr>\n",
       "    <tr>\n",
       "      <th>693288</th>\n",
       "      <td>1112281495</td>\n",
       "      <td>wVoQw2Z</td>\n",
       "      <td>1.0</td>\n",
       "      <td>1</td>\n",
       "      <td>2.0</td>\n",
       "      <td>0.0</td>\n",
       "      <td>Jefe de Higiene, Seguridad y Medioambiente</td>\n",
       "      <td>10</td>\n",
       "      <td>3</td>\n",
       "      <td>3</td>\n",
       "      <td>Otros</td>\n",
       "      <td>0.0</td>\n",
       "      <td>0.0</td>\n",
       "    </tr>\n",
       "  </tbody>\n",
       "</table>\n",
       "</div>"
      ],
      "text/plain": [
       "            idaviso idpostulante  rango_edad  sexo  nivel_estudios  \\\n",
       "2433797  1112298029       NK8JjD         2.0     1             2.0   \n",
       "1570659  1112336395      ow2aw24         2.0     2             2.0   \n",
       "824645   1112470846      kPXWEZ0         1.0     2             4.0   \n",
       "2181042  1112312178      KBzLNGQ         1.0     1             4.0   \n",
       "693288   1112281495      wVoQw2Z         1.0     1             2.0   \n",
       "\n",
       "         esta_estudiando                                             titulo  \\\n",
       "2433797              0.0                          Tecnico Quimico- Cañuelas   \n",
       "1570659              0.0  TECNICO Mecánico - Mantenimiento de Maquinaria...   \n",
       "824645               1.0                                         Vendedor/a   \n",
       "2181042              0.0  Talent Acquisition - E-commerce Líder en la re...   \n",
       "693288               0.0         Jefe de Higiene, Seguridad y Medioambiente   \n",
       "\n",
       "         tipo_de_trabajo  nivel_laboral  nombre_zona    nombre_area  \\\n",
       "2433797               10              3            3        Química   \n",
       "1570659               10              3            3  Mantenimiento   \n",
       "824645                10              3            3         Ventas   \n",
       "2181042               10              3            3      Selección   \n",
       "693288                10              3            3          Otros   \n",
       "\n",
       "         sepostulo  num_area  \n",
       "2433797        1.0       3.0  \n",
       "1570659        1.0      10.0  \n",
       "824645         0.0       2.0  \n",
       "2181042        1.0       8.0  \n",
       "693288         0.0       0.0  "
      ]
     },
     "execution_count": 133,
     "metadata": {},
     "output_type": "execute_result"
    }
   ],
   "source": [
    "modelo.sample(5)"
   ]
  },
  {
   "cell_type": "code",
   "execution_count": 134,
   "metadata": {},
   "outputs": [
    {
     "name": "stdout",
     "output_type": "stream",
     "text": [
      "<class 'pandas.core.frame.DataFrame'>\n",
      "RangeIndex: 3000000 entries, 0 to 2999999\n",
      "Data columns (total 13 columns):\n",
      "idaviso            int64\n",
      "idpostulante       object\n",
      "rango_edad         float64\n",
      "sexo               int64\n",
      "nivel_estudios     float64\n",
      "esta_estudiando    float64\n",
      "titulo             object\n",
      "tipo_de_trabajo    int64\n",
      "nivel_laboral      int64\n",
      "nombre_zona        int64\n",
      "nombre_area        object\n",
      "sepostulo          float64\n",
      "num_area           float64\n",
      "dtypes: float64(5), int64(5), object(3)\n",
      "memory usage: 297.5+ MB\n"
     ]
    }
   ],
   "source": [
    "modelo.info()"
   ]
  },
  {
   "cell_type": "code",
   "execution_count": 135,
   "metadata": {},
   "outputs": [],
   "source": [
    "modelo['rango_edad'] = modelo['rango_edad'].astype('category')\n",
    "modelo['sexo'] = modelo['sexo'].astype('category') \n",
    "modelo['nivel_estudios'] = modelo['nivel_estudios'].astype('category')\n",
    "modelo['esta_estudiando'] = modelo['esta_estudiando'].astype('category')\n",
    "modelo['tipo_de_trabajo'] = modelo['tipo_de_trabajo'].astype('category')\n",
    "modelo['nivel_laboral'] = modelo['nivel_laboral'].astype('category')\n",
    "modelo['nombre_zona'] = modelo['nombre_zona'].astype('category')\n",
    "modelo['num_area'] = modelo['num_area'].astype('category')\n",
    "modelo['sepostulo'] = modelo['sepostulo'].astype('category')"
   ]
  },
  {
   "cell_type": "code",
   "execution_count": 136,
   "metadata": {},
   "outputs": [
    {
     "name": "stdout",
     "output_type": "stream",
     "text": [
      "<class 'pandas.core.frame.DataFrame'>\n",
      "RangeIndex: 3000000 entries, 0 to 2999999\n",
      "Data columns (total 13 columns):\n",
      "idaviso            int64\n",
      "idpostulante       object\n",
      "rango_edad         category\n",
      "sexo               category\n",
      "nivel_estudios     category\n",
      "esta_estudiando    category\n",
      "titulo             object\n",
      "tipo_de_trabajo    category\n",
      "nivel_laboral      category\n",
      "nombre_zona        category\n",
      "nombre_area        object\n",
      "sepostulo          category\n",
      "num_area           category\n",
      "dtypes: category(9), int64(1), object(3)\n",
      "memory usage: 117.3+ MB\n"
     ]
    }
   ],
   "source": [
    "modelo.info()"
   ]
  },
  {
   "cell_type": "markdown",
   "metadata": {},
   "source": [
    " "
   ]
  },
  {
   "cell_type": "code",
   "execution_count": 137,
   "metadata": {},
   "outputs": [],
   "source": [
    "modelo.to_csv('csv_files/modelo_final_featured.csv', encoding='utf-8', index=False)"
   ]
  },
  {
   "cell_type": "markdown",
   "metadata": {},
   "source": [
    "# Exportamos el test final featured"
   ]
  },
  {
   "cell_type": "code",
   "execution_count": 138,
   "metadata": {},
   "outputs": [
    {
     "data": {
      "text/html": [
       "<div>\n",
       "<style scoped>\n",
       "    .dataframe tbody tr th:only-of-type {\n",
       "        vertical-align: middle;\n",
       "    }\n",
       "\n",
       "    .dataframe tbody tr th {\n",
       "        vertical-align: top;\n",
       "    }\n",
       "\n",
       "    .dataframe thead th {\n",
       "        text-align: right;\n",
       "    }\n",
       "</style>\n",
       "<table border=\"1\" class=\"dataframe\">\n",
       "  <thead>\n",
       "    <tr style=\"text-align: right;\">\n",
       "      <th></th>\n",
       "      <th>id</th>\n",
       "      <th>idaviso</th>\n",
       "      <th>idpostulante</th>\n",
       "      <th>rango_edad</th>\n",
       "      <th>sexo</th>\n",
       "      <th>nivel_estudios</th>\n",
       "      <th>esta_estudiando</th>\n",
       "      <th>tipo_de_trabajo</th>\n",
       "      <th>nivel_laboral</th>\n",
       "      <th>nombre_zona</th>\n",
       "      <th>nombre_area</th>\n",
       "      <th>num_area</th>\n",
       "    </tr>\n",
       "  </thead>\n",
       "  <tbody>\n",
       "    <tr>\n",
       "      <th>20784</th>\n",
       "      <td>20784</td>\n",
       "      <td>1112263307</td>\n",
       "      <td>N5d8WM</td>\n",
       "      <td>4.0</td>\n",
       "      <td>2.0</td>\n",
       "      <td>4.0</td>\n",
       "      <td>1.0</td>\n",
       "      <td>10</td>\n",
       "      <td>1</td>\n",
       "      <td>3</td>\n",
       "      <td>Ventas</td>\n",
       "      <td>2.0</td>\n",
       "    </tr>\n",
       "    <tr>\n",
       "      <th>69804</th>\n",
       "      <td>69804</td>\n",
       "      <td>1112461553</td>\n",
       "      <td>xkvWw5P</td>\n",
       "      <td>1.0</td>\n",
       "      <td>2.0</td>\n",
       "      <td>3.0</td>\n",
       "      <td>0.0</td>\n",
       "      <td>10</td>\n",
       "      <td>2</td>\n",
       "      <td>3</td>\n",
       "      <td>Administración</td>\n",
       "      <td>1.0</td>\n",
       "    </tr>\n",
       "    <tr>\n",
       "      <th>12409</th>\n",
       "      <td>12409</td>\n",
       "      <td>1112000785</td>\n",
       "      <td>EBzbwo</td>\n",
       "      <td>4.0</td>\n",
       "      <td>1.0</td>\n",
       "      <td>4.0</td>\n",
       "      <td>0.0</td>\n",
       "      <td>10</td>\n",
       "      <td>3</td>\n",
       "      <td>3</td>\n",
       "      <td>Ventas</td>\n",
       "      <td>2.0</td>\n",
       "    </tr>\n",
       "    <tr>\n",
       "      <th>65820</th>\n",
       "      <td>65820</td>\n",
       "      <td>1112458856</td>\n",
       "      <td>bO44Bxb</td>\n",
       "      <td>1.0</td>\n",
       "      <td>2.0</td>\n",
       "      <td>4.0</td>\n",
       "      <td>1.0</td>\n",
       "      <td>10</td>\n",
       "      <td>3</td>\n",
       "      <td>3</td>\n",
       "      <td>Ventas</td>\n",
       "      <td>2.0</td>\n",
       "    </tr>\n",
       "    <tr>\n",
       "      <th>63090</th>\n",
       "      <td>63090</td>\n",
       "      <td>1112457238</td>\n",
       "      <td>xkvLm3K</td>\n",
       "      <td>2.0</td>\n",
       "      <td>2.0</td>\n",
       "      <td>2.0</td>\n",
       "      <td>0.0</td>\n",
       "      <td>10</td>\n",
       "      <td>0</td>\n",
       "      <td>2</td>\n",
       "      <td>Ventas</td>\n",
       "      <td>2.0</td>\n",
       "    </tr>\n",
       "  </tbody>\n",
       "</table>\n",
       "</div>"
      ],
      "text/plain": [
       "          id     idaviso idpostulante  rango_edad  sexo  nivel_estudios  \\\n",
       "20784  20784  1112263307       N5d8WM         4.0   2.0             4.0   \n",
       "69804  69804  1112461553      xkvWw5P         1.0   2.0             3.0   \n",
       "12409  12409  1112000785       EBzbwo         4.0   1.0             4.0   \n",
       "65820  65820  1112458856      bO44Bxb         1.0   2.0             4.0   \n",
       "63090  63090  1112457238      xkvLm3K         2.0   2.0             2.0   \n",
       "\n",
       "       esta_estudiando  tipo_de_trabajo  nivel_laboral nombre_zona  \\\n",
       "20784              1.0               10              1           3   \n",
       "69804              0.0               10              2           3   \n",
       "12409              0.0               10              3           3   \n",
       "65820              1.0               10              3           3   \n",
       "63090              0.0               10              0           2   \n",
       "\n",
       "          nombre_area  num_area  \n",
       "20784          Ventas       2.0  \n",
       "69804  Administración       1.0  \n",
       "12409          Ventas       2.0  \n",
       "65820          Ventas       2.0  \n",
       "63090          Ventas       2.0  "
      ]
     },
     "execution_count": 138,
     "metadata": {},
     "output_type": "execute_result"
    }
   ],
   "source": [
    "test_final.sample(5)"
   ]
  },
  {
   "cell_type": "code",
   "execution_count": 139,
   "metadata": {},
   "outputs": [
    {
     "name": "stdout",
     "output_type": "stream",
     "text": [
      "<class 'pandas.core.frame.DataFrame'>\n",
      "RangeIndex: 100000 entries, 0 to 99999\n",
      "Data columns (total 12 columns):\n",
      "id                 100000 non-null int64\n",
      "idaviso            100000 non-null int64\n",
      "idpostulante       100000 non-null object\n",
      "rango_edad         100000 non-null float64\n",
      "sexo               100000 non-null float64\n",
      "nivel_estudios     100000 non-null float64\n",
      "esta_estudiando    100000 non-null float64\n",
      "tipo_de_trabajo    100000 non-null int64\n",
      "nivel_laboral      100000 non-null int64\n",
      "nombre_zona        100000 non-null object\n",
      "nombre_area        100000 non-null object\n",
      "num_area           100000 non-null float64\n",
      "dtypes: float64(5), int64(4), object(3)\n",
      "memory usage: 9.2+ MB\n"
     ]
    }
   ],
   "source": [
    "test_final.info()"
   ]
  },
  {
   "cell_type": "code",
   "execution_count": 141,
   "metadata": {},
   "outputs": [],
   "source": [
    "test_final['rango_edad'] = test_final['rango_edad'].astype('category')\n",
    "test_final['sexo'] = test_final['sexo'].astype('category') \n",
    "test_final['nivel_estudios'] = test_final['nivel_estudios'].astype('category')\n",
    "test_final['esta_estudiando'] = test_final['esta_estudiando'].astype('category')\n",
    "test_final['tipo_de_trabajo'] = test_final['tipo_de_trabajo'].astype('category')\n",
    "test_final['nivel_laboral'] = test_final['nivel_laboral'].astype('category')\n",
    "test_final['nombre_zona'] = test_final['nombre_zona'].astype('category')\n",
    "test_final['num_area'] = test_final['num_area'].astype('category')"
   ]
  },
  {
   "cell_type": "code",
   "execution_count": 142,
   "metadata": {},
   "outputs": [
    {
     "name": "stdout",
     "output_type": "stream",
     "text": [
      "<class 'pandas.core.frame.DataFrame'>\n",
      "RangeIndex: 100000 entries, 0 to 99999\n",
      "Data columns (total 12 columns):\n",
      "id                 100000 non-null int64\n",
      "idaviso            100000 non-null int64\n",
      "idpostulante       100000 non-null object\n",
      "rango_edad         100000 non-null category\n",
      "sexo               100000 non-null category\n",
      "nivel_estudios     100000 non-null category\n",
      "esta_estudiando    100000 non-null category\n",
      "tipo_de_trabajo    100000 non-null category\n",
      "nivel_laboral      100000 non-null category\n",
      "nombre_zona        100000 non-null category\n",
      "nombre_area        100000 non-null object\n",
      "num_area           100000 non-null category\n",
      "dtypes: category(8), int64(2), object(2)\n",
      "memory usage: 3.8+ MB\n"
     ]
    }
   ],
   "source": [
    "test_final.info()"
   ]
  },
  {
   "cell_type": "markdown",
   "metadata": {},
   "source": [
    " "
   ]
  },
  {
   "cell_type": "code",
   "execution_count": 143,
   "metadata": {},
   "outputs": [],
   "source": [
    "test_final.to_csv('csv_files/test_final_featured.csv', encoding='utf-8', index=False)"
   ]
  }
 ],
 "metadata": {
  "kernelspec": {
   "display_name": "Python 3",
   "language": "python",
   "name": "python3"
  },
  "language_info": {
   "codemirror_mode": {
    "name": "ipython",
    "version": 3
   },
   "file_extension": ".py",
   "mimetype": "text/x-python",
   "name": "python",
   "nbconvert_exporter": "python",
   "pygments_lexer": "ipython3",
   "version": "3.6.4"
  }
 },
 "nbformat": 4,
 "nbformat_minor": 2
}
