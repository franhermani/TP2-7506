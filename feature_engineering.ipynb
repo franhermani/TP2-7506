{
 "cells": [
  {
   "cell_type": "code",
   "execution_count": 1,
   "metadata": {},
   "outputs": [],
   "source": [
    "import pandas as pd\n",
    "import numpy as np\n",
    "import matplotlib.pyplot as plt\n",
    "import seaborn as sns\n",
    "\n",
    "from time import time\n",
    "\n",
    "%matplotlib inline"
   ]
  },
  {
   "cell_type": "markdown",
   "metadata": {},
   "source": [
    "# Cargamos el modelo y el test final"
   ]
  },
  {
   "cell_type": "code",
   "execution_count": 2,
   "metadata": {},
   "outputs": [
    {
     "name": "stderr",
     "output_type": "stream",
     "text": [
      "/home/mariano/ENTER/lib/python3.6/site-packages/IPython/core/interactiveshell.py:2785: DtypeWarning: Columns (9) have mixed types. Specify dtype option on import or set low_memory=False.\n",
      "  interactivity=interactivity, compiler=compiler, result=result)\n"
     ]
    }
   ],
   "source": [
    "modelo = pd.read_csv('csv_files/modelo_final.csv')\n",
    "test_final = pd.read_csv('csv_files/test_final.csv')"
   ]
  },
  {
   "cell_type": "code",
   "execution_count": 3,
   "metadata": {},
   "outputs": [
    {
     "data": {
      "text/html": [
       "<div>\n",
       "<style scoped>\n",
       "    .dataframe tbody tr th:only-of-type {\n",
       "        vertical-align: middle;\n",
       "    }\n",
       "\n",
       "    .dataframe tbody tr th {\n",
       "        vertical-align: top;\n",
       "    }\n",
       "\n",
       "    .dataframe thead th {\n",
       "        text-align: right;\n",
       "    }\n",
       "</style>\n",
       "<table border=\"1\" class=\"dataframe\">\n",
       "  <thead>\n",
       "    <tr style=\"text-align: right;\">\n",
       "      <th></th>\n",
       "      <th>idaviso</th>\n",
       "      <th>idpostulante</th>\n",
       "      <th>rango_edad</th>\n",
       "      <th>sexo</th>\n",
       "      <th>nivel_estudios</th>\n",
       "      <th>esta_estudiando</th>\n",
       "      <th>descripcion</th>\n",
       "      <th>tipo_de_trabajo</th>\n",
       "      <th>nivel_laboral</th>\n",
       "      <th>nombre_zona</th>\n",
       "      <th>nombre_area</th>\n",
       "      <th>sepostulo</th>\n",
       "    </tr>\n",
       "  </thead>\n",
       "  <tbody>\n",
       "    <tr>\n",
       "      <th>994585</th>\n",
       "      <td>1112351903</td>\n",
       "      <td>EzZwww6</td>\n",
       "      <td>4.0</td>\n",
       "      <td>2</td>\n",
       "      <td>2.0</td>\n",
       "      <td>0.0</td>\n",
       "      <td>&lt;p&gt;Se busca encargado para importante fiambrer...</td>\n",
       "      <td>10</td>\n",
       "      <td>4</td>\n",
       "      <td>3</td>\n",
       "      <td>Ventas</td>\n",
       "      <td>1.0</td>\n",
       "    </tr>\n",
       "    <tr>\n",
       "      <th>550278</th>\n",
       "      <td>1112246646</td>\n",
       "      <td>1QP6pRz</td>\n",
       "      <td>3.0</td>\n",
       "      <td>2</td>\n",
       "      <td>4.0</td>\n",
       "      <td>0.0</td>\n",
       "      <td>&lt;p align=\"center\"&gt;Importante Empresa Multinaci...</td>\n",
       "      <td>10</td>\n",
       "      <td>2</td>\n",
       "      <td>3</td>\n",
       "      <td>Jóvenes Profesionales</td>\n",
       "      <td>1.0</td>\n",
       "    </tr>\n",
       "    <tr>\n",
       "      <th>720632</th>\n",
       "      <td>1112094756</td>\n",
       "      <td>6r5P06l</td>\n",
       "      <td>1.0</td>\n",
       "      <td>1</td>\n",
       "      <td>3.0</td>\n",
       "      <td>0.0</td>\n",
       "      <td>&lt;p&gt;Seleccionaremos para Importante Entidad Ban...</td>\n",
       "      <td>9</td>\n",
       "      <td>3</td>\n",
       "      <td>3</td>\n",
       "      <td>Call Center</td>\n",
       "      <td>1.0</td>\n",
       "    </tr>\n",
       "    <tr>\n",
       "      <th>388656</th>\n",
       "      <td>1112458919</td>\n",
       "      <td>96Xk6Aw</td>\n",
       "      <td>2.0</td>\n",
       "      <td>1</td>\n",
       "      <td>4.0</td>\n",
       "      <td>0.0</td>\n",
       "      <td>&lt;p&gt;Somos la empresa de retail #1 en el mundo y...</td>\n",
       "      <td>10</td>\n",
       "      <td>0</td>\n",
       "      <td>2</td>\n",
       "      <td>Comercial</td>\n",
       "      <td>0.0</td>\n",
       "    </tr>\n",
       "    <tr>\n",
       "      <th>498981</th>\n",
       "      <td>1112470793</td>\n",
       "      <td>N5mjDL</td>\n",
       "      <td>4.0</td>\n",
       "      <td>2</td>\n",
       "      <td>4.0</td>\n",
       "      <td>1.0</td>\n",
       "      <td>&lt;p style=\"\"&gt;Nos orientamos a un profesional de...</td>\n",
       "      <td>10</td>\n",
       "      <td>3</td>\n",
       "      <td>3</td>\n",
       "      <td>Marketing</td>\n",
       "      <td>0.0</td>\n",
       "    </tr>\n",
       "  </tbody>\n",
       "</table>\n",
       "</div>"
      ],
      "text/plain": [
       "           idaviso idpostulante  rango_edad  sexo  nivel_estudios  \\\n",
       "994585  1112351903      EzZwww6         4.0     2             2.0   \n",
       "550278  1112246646      1QP6pRz         3.0     2             4.0   \n",
       "720632  1112094756      6r5P06l         1.0     1             3.0   \n",
       "388656  1112458919      96Xk6Aw         2.0     1             4.0   \n",
       "498981  1112470793       N5mjDL         4.0     2             4.0   \n",
       "\n",
       "        esta_estudiando                                        descripcion  \\\n",
       "994585              0.0  <p>Se busca encargado para importante fiambrer...   \n",
       "550278              0.0  <p align=\"center\">Importante Empresa Multinaci...   \n",
       "720632              0.0  <p>Seleccionaremos para Importante Entidad Ban...   \n",
       "388656              0.0  <p>Somos la empresa de retail #1 en el mundo y...   \n",
       "498981              1.0  <p style=\"\">Nos orientamos a un profesional de...   \n",
       "\n",
       "        tipo_de_trabajo  nivel_laboral nombre_zona            nombre_area  \\\n",
       "994585               10              4           3                 Ventas   \n",
       "550278               10              2           3  Jóvenes Profesionales   \n",
       "720632                9              3           3            Call Center   \n",
       "388656               10              0           2              Comercial   \n",
       "498981               10              3           3              Marketing   \n",
       "\n",
       "        sepostulo  \n",
       "994585        1.0  \n",
       "550278        1.0  \n",
       "720632        1.0  \n",
       "388656        0.0  \n",
       "498981        0.0  "
      ]
     },
     "execution_count": 3,
     "metadata": {},
     "output_type": "execute_result"
    }
   ],
   "source": [
    "modelo.sample(5)"
   ]
  },
  {
   "cell_type": "code",
   "execution_count": 4,
   "metadata": {},
   "outputs": [
    {
     "name": "stdout",
     "output_type": "stream",
     "text": [
      "<class 'pandas.core.frame.DataFrame'>\n",
      "RangeIndex: 1000000 entries, 0 to 999999\n",
      "Data columns (total 12 columns):\n",
      "idaviso            1000000 non-null int64\n",
      "idpostulante       1000000 non-null object\n",
      "rango_edad         1000000 non-null float64\n",
      "sexo               1000000 non-null int64\n",
      "nivel_estudios     1000000 non-null float64\n",
      "esta_estudiando    1000000 non-null float64\n",
      "descripcion        1000000 non-null object\n",
      "tipo_de_trabajo    1000000 non-null int64\n",
      "nivel_laboral      1000000 non-null int64\n",
      "nombre_zona        1000000 non-null object\n",
      "nombre_area        1000000 non-null object\n",
      "sepostulo          1000000 non-null float64\n",
      "dtypes: float64(4), int64(4), object(4)\n",
      "memory usage: 91.6+ MB\n"
     ]
    }
   ],
   "source": [
    "modelo.info()"
   ]
  },
  {
   "cell_type": "code",
   "execution_count": 5,
   "metadata": {},
   "outputs": [
    {
     "data": {
      "text/html": [
       "<div>\n",
       "<style scoped>\n",
       "    .dataframe tbody tr th:only-of-type {\n",
       "        vertical-align: middle;\n",
       "    }\n",
       "\n",
       "    .dataframe tbody tr th {\n",
       "        vertical-align: top;\n",
       "    }\n",
       "\n",
       "    .dataframe thead th {\n",
       "        text-align: right;\n",
       "    }\n",
       "</style>\n",
       "<table border=\"1\" class=\"dataframe\">\n",
       "  <thead>\n",
       "    <tr style=\"text-align: right;\">\n",
       "      <th></th>\n",
       "      <th>id</th>\n",
       "      <th>idaviso</th>\n",
       "      <th>idpostulante</th>\n",
       "      <th>rango_edad</th>\n",
       "      <th>sexo</th>\n",
       "      <th>nivel_estudios</th>\n",
       "      <th>esta_estudiando</th>\n",
       "      <th>titulo</th>\n",
       "      <th>tipo_de_trabajo</th>\n",
       "      <th>nivel_laboral</th>\n",
       "      <th>nombre_zona</th>\n",
       "      <th>nombre_area</th>\n",
       "    </tr>\n",
       "  </thead>\n",
       "  <tbody>\n",
       "    <tr>\n",
       "      <th>50709</th>\n",
       "      <td>50709</td>\n",
       "      <td>1112440445</td>\n",
       "      <td>ZZLAKZ</td>\n",
       "      <td>3.0</td>\n",
       "      <td>1.0</td>\n",
       "      <td>5.0</td>\n",
       "      <td>0.0</td>\n",
       "      <td>Analista Sr de Políticas de Crédito</td>\n",
       "      <td>10.0</td>\n",
       "      <td>3.0</td>\n",
       "      <td>3.0</td>\n",
       "      <td>Análisis de Riesgos</td>\n",
       "    </tr>\n",
       "    <tr>\n",
       "      <th>79247</th>\n",
       "      <td>79247</td>\n",
       "      <td>1112464667</td>\n",
       "      <td>e3wOaW</td>\n",
       "      <td>2.0</td>\n",
       "      <td>1.0</td>\n",
       "      <td>6.0</td>\n",
       "      <td>1.0</td>\n",
       "      <td>Analista SSr de Selección y Gestión del Talent...</td>\n",
       "      <td>10.0</td>\n",
       "      <td>3.0</td>\n",
       "      <td>3.0</td>\n",
       "      <td>Selección</td>\n",
       "    </tr>\n",
       "    <tr>\n",
       "      <th>50603</th>\n",
       "      <td>50603</td>\n",
       "      <td>1112440357</td>\n",
       "      <td>ZPxYj5</td>\n",
       "      <td>3.0</td>\n",
       "      <td>1.0</td>\n",
       "      <td>3.0</td>\n",
       "      <td>0.0</td>\n",
       "      <td>EJECUTIVO DE VENTAS  MAR DEL PLATA</td>\n",
       "      <td>10.0</td>\n",
       "      <td>3.0</td>\n",
       "      <td>3.0</td>\n",
       "      <td>Comercial</td>\n",
       "    </tr>\n",
       "    <tr>\n",
       "      <th>85995</th>\n",
       "      <td>85995</td>\n",
       "      <td>1112466706</td>\n",
       "      <td>4rWJqOe</td>\n",
       "      <td>3.0</td>\n",
       "      <td>2.0</td>\n",
       "      <td>2.0</td>\n",
       "      <td>0.0</td>\n",
       "      <td>Operario para planta fibra Optica</td>\n",
       "      <td>10.0</td>\n",
       "      <td>3.0</td>\n",
       "      <td>3.0</td>\n",
       "      <td>Producción</td>\n",
       "    </tr>\n",
       "    <tr>\n",
       "      <th>77441</th>\n",
       "      <td>77441</td>\n",
       "      <td>1112464349</td>\n",
       "      <td>1DMj9b</td>\n",
       "      <td>3.0</td>\n",
       "      <td>1.0</td>\n",
       "      <td>4.0</td>\n",
       "      <td>0.0</td>\n",
       "      <td>Administrativa de cuentas por cobrar - Luján d...</td>\n",
       "      <td>10.0</td>\n",
       "      <td>3.0</td>\n",
       "      <td>3.0</td>\n",
       "      <td>Administración</td>\n",
       "    </tr>\n",
       "  </tbody>\n",
       "</table>\n",
       "</div>"
      ],
      "text/plain": [
       "          id     idaviso idpostulante  rango_edad  sexo  nivel_estudios  \\\n",
       "50709  50709  1112440445       ZZLAKZ         3.0   1.0             5.0   \n",
       "79247  79247  1112464667       e3wOaW         2.0   1.0             6.0   \n",
       "50603  50603  1112440357       ZPxYj5         3.0   1.0             3.0   \n",
       "85995  85995  1112466706      4rWJqOe         3.0   2.0             2.0   \n",
       "77441  77441  1112464349       1DMj9b         3.0   1.0             4.0   \n",
       "\n",
       "       esta_estudiando                                             titulo  \\\n",
       "50709              0.0               Analista Sr de Políticas de Crédito    \n",
       "79247              1.0  Analista SSr de Selección y Gestión del Talent...   \n",
       "50603              0.0                EJECUTIVO DE VENTAS  MAR DEL PLATA   \n",
       "85995              0.0                  Operario para planta fibra Optica   \n",
       "77441              0.0  Administrativa de cuentas por cobrar - Luján d...   \n",
       "\n",
       "       tipo_de_trabajo  nivel_laboral  nombre_zona          nombre_area  \n",
       "50709             10.0            3.0          3.0  Análisis de Riesgos  \n",
       "79247             10.0            3.0          3.0            Selección  \n",
       "50603             10.0            3.0          3.0            Comercial  \n",
       "85995             10.0            3.0          3.0           Producción  \n",
       "77441             10.0            3.0          3.0       Administración  "
      ]
     },
     "execution_count": 5,
     "metadata": {},
     "output_type": "execute_result"
    }
   ],
   "source": [
    "test_final.sample(5)"
   ]
  },
  {
   "cell_type": "code",
   "execution_count": 6,
   "metadata": {},
   "outputs": [
    {
     "name": "stdout",
     "output_type": "stream",
     "text": [
      "<class 'pandas.core.frame.DataFrame'>\n",
      "RangeIndex: 100000 entries, 0 to 99999\n",
      "Data columns (total 12 columns):\n",
      "id                 100000 non-null int64\n",
      "idaviso            100000 non-null int64\n",
      "idpostulante       100000 non-null object\n",
      "rango_edad         100000 non-null float64\n",
      "sexo               100000 non-null float64\n",
      "nivel_estudios     100000 non-null float64\n",
      "esta_estudiando    100000 non-null float64\n",
      "titulo             95552 non-null object\n",
      "tipo_de_trabajo    100000 non-null float64\n",
      "nivel_laboral      100000 non-null float64\n",
      "nombre_zona        100000 non-null float64\n",
      "nombre_area        95552 non-null object\n",
      "dtypes: float64(7), int64(2), object(3)\n",
      "memory usage: 9.2+ MB\n"
     ]
    }
   ],
   "source": [
    "test_final.info()"
   ]
  },
  {
   "cell_type": "markdown",
   "metadata": {},
   "source": [
    " "
   ]
  },
  {
   "cell_type": "markdown",
   "metadata": {},
   "source": [
    "Nos guardamos en un dataframe alternativo todos los registros con postulaciones efectivas del postulante al aviso en cuestión."
   ]
  },
  {
   "cell_type": "code",
   "execution_count": 7,
   "metadata": {},
   "outputs": [],
   "source": [
    "si = modelo['sepostulo'] == 1\n",
    "no = modelo['sepostulo'] == 0\n",
    "modelo_si = modelo[si]\n",
    "modelo_no = modelo[no]"
   ]
  },
  {
   "cell_type": "markdown",
   "metadata": {},
   "source": [
    "# Correlación de Pearson entre los features"
   ]
  },
  {
   "cell_type": "code",
   "execution_count": 8,
   "metadata": {},
   "outputs": [
    {
     "data": {
      "text/plain": [
       "Text(0.5,1,'Correlación de Pearson entre los features')"
      ]
     },
     "execution_count": 8,
     "metadata": {},
     "output_type": "execute_result"
    },
    {
     "data": {
      "image/png": "[encoded data removed]",
      "text/plain": [
       "<Figure size 1008x288 with 2 Axes>"
      ]
     },
     "metadata": {},
     "output_type": "display_data"
    }
   ],
   "source": [
    "modelo_features = modelo[['rango_edad', 'sexo', 'nivel_estudios', 'esta_estudiando',\\\n",
    "                          'tipo_de_trabajo', 'nivel_laboral', 'sepostulo']]\n",
    "\n",
    "fig, ax = plt.subplots(figsize=(14,4))\n",
    "heatmap = sns.heatmap(modelo_features.astype(float).corr(), cmap=plt.cm.RdBu, robust=False, annot=True,\\\n",
    "                      linewidths=.5, linecolor='white', ax=ax)\n",
    "\n",
    "heatmap.set_title('Correlación de Pearson entre los features', fontsize=18)"
   ]
  },
  {
   "cell_type": "markdown",
   "metadata": {},
   "source": [
    "# Features de avisos vs Features de postulantes"
   ]
  },
  {
   "cell_type": "markdown",
   "metadata": {},
   "source": [
    "En esta sección, realizamos \"enfrentamientos\" entre distintos features de los avisos con distintos features de los postulantes.\n",
    "\n",
    "En un principio, la idea fue lograr una tabla que mostrara en porcentajes la cantidad de registros en los que se cumplía cada combinación de valores entre los dos features. De esta forma, creamos un nuevo feature que contenía el peso (porcentaje) de la combinación que se daba en el registro en cuestión. Cuando llevamos esto a los algoritmos de ML, los resultados empeoraron, por lo cual decidimos dejarlo de lado.\n",
    "\n",
    "Luego, en vez de analizar todas las combinaciones de valores para cada par de features, le dimos importancia a aquellas relaciones que más peso tenían. Es decir, que a priori parecían influir en la decisión de un postulante de postularse o no a un cierto aviso. Por más fino que fue el análisis, los resultados tampoco mejoraron y, nuevamente, lo dejamos de lado.\n",
    "\n",
    "Sin embargo, a continuación, mostramos los procedimientos realizados, ya que los consideramos importantes en el desarrollo del TP."
   ]
  },
  {
   "cell_type": "markdown",
   "metadata": {},
   "source": [
    " "
   ]
  },
  {
   "cell_type": "markdown",
   "metadata": {},
   "source": [
    "## Nivel de estudios vs Nivel laboral"
   ]
  },
  {
   "cell_type": "markdown",
   "metadata": {},
   "source": [
    "Nivel de estudios:\n",
    "- 1 = Otro\n",
    "- 2 = Secundario\n",
    "- 3 = Terciario/Técnico\n",
    "- 4 = Universitario\n",
    "- 5 = Posgrado\n",
    "- 6 = Master\n",
    "- 7 = Doctorado"
   ]
  },
  {
   "cell_type": "markdown",
   "metadata": {},
   "source": [
    "Nivel laboral:\n",
    "- 1 = Otro\n",
    "- 2 = Junior\n",
    "- 3 = Senior / Semi-Senior\n",
    "- 4 = Jefe / Supervisor / Responsable\n",
    "- 5 = Gerencia / Alta Gerencia / Dirección"
   ]
  },
  {
   "cell_type": "markdown",
   "metadata": {},
   "source": [
    " "
   ]
  },
  {
   "cell_type": "markdown",
   "metadata": {},
   "source": [
    "#### Analizamos las postulaciones"
   ]
  },
  {
   "cell_type": "markdown",
   "metadata": {},
   "source": [
    "Creamos un dataframe con porcentajes por columnas. De esta forma, el heatmap nos mostrará mejor la incidencia de cada nivel de estudios para cada nivel laboral."
   ]
  },
  {
   "cell_type": "code",
   "execution_count": 9,
   "metadata": {},
   "outputs": [
    {
     "data": {
      "text/html": [
       "<div>\n",
       "<style scoped>\n",
       "    .dataframe tbody tr th:only-of-type {\n",
       "        vertical-align: middle;\n",
       "    }\n",
       "\n",
       "    .dataframe tbody tr th {\n",
       "        vertical-align: top;\n",
       "    }\n",
       "\n",
       "    .dataframe thead th {\n",
       "        text-align: right;\n",
       "    }\n",
       "</style>\n",
       "<table border=\"1\" class=\"dataframe\">\n",
       "  <thead>\n",
       "    <tr style=\"text-align: right;\">\n",
       "      <th>nivel_estudios</th>\n",
       "      <th>1.0</th>\n",
       "      <th>2.0</th>\n",
       "      <th>3.0</th>\n",
       "      <th>4.0</th>\n",
       "      <th>5.0</th>\n",
       "      <th>6.0</th>\n",
       "      <th>7.0</th>\n",
       "    </tr>\n",
       "    <tr>\n",
       "      <th>nivel_laboral</th>\n",
       "      <th></th>\n",
       "      <th></th>\n",
       "      <th></th>\n",
       "      <th></th>\n",
       "      <th></th>\n",
       "      <th></th>\n",
       "      <th></th>\n",
       "    </tr>\n",
       "  </thead>\n",
       "  <tbody>\n",
       "    <tr>\n",
       "      <th>0</th>\n",
       "      <td>0.019214</td>\n",
       "      <td>0.020397</td>\n",
       "      <td>0.021952</td>\n",
       "      <td>0.025466</td>\n",
       "      <td>0.027915</td>\n",
       "      <td>0.028381</td>\n",
       "      <td>0.026746</td>\n",
       "    </tr>\n",
       "    <tr>\n",
       "      <th>1</th>\n",
       "      <td>0.113537</td>\n",
       "      <td>0.106819</td>\n",
       "      <td>0.086819</td>\n",
       "      <td>0.067034</td>\n",
       "      <td>0.047005</td>\n",
       "      <td>0.040030</td>\n",
       "      <td>0.066865</td>\n",
       "    </tr>\n",
       "    <tr>\n",
       "      <th>2</th>\n",
       "      <td>0.175546</td>\n",
       "      <td>0.201669</td>\n",
       "      <td>0.217929</td>\n",
       "      <td>0.238409</td>\n",
       "      <td>0.165488</td>\n",
       "      <td>0.155671</td>\n",
       "      <td>0.164933</td>\n",
       "    </tr>\n",
       "    <tr>\n",
       "      <th>3</th>\n",
       "      <td>0.670306</td>\n",
       "      <td>0.651948</td>\n",
       "      <td>0.644958</td>\n",
       "      <td>0.626690</td>\n",
       "      <td>0.651875</td>\n",
       "      <td>0.634121</td>\n",
       "      <td>0.649331</td>\n",
       "    </tr>\n",
       "    <tr>\n",
       "      <th>4</th>\n",
       "      <td>0.016157</td>\n",
       "      <td>0.016756</td>\n",
       "      <td>0.023733</td>\n",
       "      <td>0.034400</td>\n",
       "      <td>0.078488</td>\n",
       "      <td>0.091496</td>\n",
       "      <td>0.059435</td>\n",
       "    </tr>\n",
       "    <tr>\n",
       "      <th>5</th>\n",
       "      <td>0.005240</td>\n",
       "      <td>0.002411</td>\n",
       "      <td>0.004609</td>\n",
       "      <td>0.008000</td>\n",
       "      <td>0.029230</td>\n",
       "      <td>0.050302</td>\n",
       "      <td>0.032689</td>\n",
       "    </tr>\n",
       "  </tbody>\n",
       "</table>\n",
       "</div>"
      ],
      "text/plain": [
       "nivel_estudios       1.0       2.0       3.0       4.0       5.0       6.0  \\\n",
       "nivel_laboral                                                                \n",
       "0               0.019214  0.020397  0.021952  0.025466  0.027915  0.028381   \n",
       "1               0.113537  0.106819  0.086819  0.067034  0.047005  0.040030   \n",
       "2               0.175546  0.201669  0.217929  0.238409  0.165488  0.155671   \n",
       "3               0.670306  0.651948  0.644958  0.626690  0.651875  0.634121   \n",
       "4               0.016157  0.016756  0.023733  0.034400  0.078488  0.091496   \n",
       "5               0.005240  0.002411  0.004609  0.008000  0.029230  0.050302   \n",
       "\n",
       "nivel_estudios       7.0  \n",
       "nivel_laboral             \n",
       "0               0.026746  \n",
       "1               0.066865  \n",
       "2               0.164933  \n",
       "3               0.649331  \n",
       "4               0.059435  \n",
       "5               0.032689  "
      ]
     },
     "execution_count": 9,
     "metadata": {},
     "output_type": "execute_result"
    }
   ],
   "source": [
    "estudios_vs_laboral_si = pd.crosstab(modelo_si['nivel_laboral'], modelo_si['nivel_estudios'], normalize='columns')\n",
    "estudios_vs_laboral_si"
   ]
  },
  {
   "cell_type": "code",
   "execution_count": 10,
   "metadata": {},
   "outputs": [
    {
     "data": {
      "text/plain": [
       "Text(105,0.5,'Nivel laboral')"
      ]
     },
     "execution_count": 10,
     "metadata": {},
     "output_type": "execute_result"
    },
    {
     "data": {
      "image/png": "[encoded data removed]",
      "text/plain": [
       "<Figure size 1008x288 with 2 Axes>"
      ]
     },
     "metadata": {},
     "output_type": "display_data"
    }
   ],
   "source": [
    "fig, ax = plt.subplots(figsize=(14,4))\n",
    "heatmap = sns.heatmap(estudios_vs_laboral_si, cmap='Oranges', robust=False, annot=True,\\\n",
    "                      linewidths=.5, linecolor='grey', ax=ax)\n",
    "\n",
    "heatmap.set_title('Nivel de estudios vs Nivel laboral', fontsize=18)\n",
    "heatmap.set_xlabel('Nivel de estudios', fontsize=14)\n",
    "heatmap.set_ylabel('Nivel laboral', fontsize=14)"
   ]
  },
  {
   "cell_type": "markdown",
   "metadata": {},
   "source": [
    "#### Analizamos las no postulaciones"
   ]
  },
  {
   "cell_type": "code",
   "execution_count": 11,
   "metadata": {},
   "outputs": [
    {
     "data": {
      "text/html": [
       "<div>\n",
       "<style scoped>\n",
       "    .dataframe tbody tr th:only-of-type {\n",
       "        vertical-align: middle;\n",
       "    }\n",
       "\n",
       "    .dataframe tbody tr th {\n",
       "        vertical-align: top;\n",
       "    }\n",
       "\n",
       "    .dataframe thead th {\n",
       "        text-align: right;\n",
       "    }\n",
       "</style>\n",
       "<table border=\"1\" class=\"dataframe\">\n",
       "  <thead>\n",
       "    <tr style=\"text-align: right;\">\n",
       "      <th>nivel_estudios</th>\n",
       "      <th>1.0</th>\n",
       "      <th>2.0</th>\n",
       "      <th>3.0</th>\n",
       "      <th>4.0</th>\n",
       "      <th>5.0</th>\n",
       "      <th>6.0</th>\n",
       "      <th>7.0</th>\n",
       "    </tr>\n",
       "    <tr>\n",
       "      <th>nivel_laboral</th>\n",
       "      <th></th>\n",
       "      <th></th>\n",
       "      <th></th>\n",
       "      <th></th>\n",
       "      <th></th>\n",
       "      <th></th>\n",
       "      <th></th>\n",
       "    </tr>\n",
       "  </thead>\n",
       "  <tbody>\n",
       "    <tr>\n",
       "      <th>0</th>\n",
       "      <td>0.013899</td>\n",
       "      <td>0.012853</td>\n",
       "      <td>0.012917</td>\n",
       "      <td>0.013293</td>\n",
       "      <td>0.014277</td>\n",
       "      <td>0.013708</td>\n",
       "      <td>0.012894</td>\n",
       "    </tr>\n",
       "    <tr>\n",
       "      <th>1</th>\n",
       "      <td>0.072475</td>\n",
       "      <td>0.077774</td>\n",
       "      <td>0.079915</td>\n",
       "      <td>0.077921</td>\n",
       "      <td>0.078708</td>\n",
       "      <td>0.075854</td>\n",
       "      <td>0.075931</td>\n",
       "    </tr>\n",
       "    <tr>\n",
       "      <th>2</th>\n",
       "      <td>0.151899</td>\n",
       "      <td>0.163154</td>\n",
       "      <td>0.162701</td>\n",
       "      <td>0.163977</td>\n",
       "      <td>0.167094</td>\n",
       "      <td>0.166713</td>\n",
       "      <td>0.161891</td>\n",
       "    </tr>\n",
       "    <tr>\n",
       "      <th>3</th>\n",
       "      <td>0.690494</td>\n",
       "      <td>0.673748</td>\n",
       "      <td>0.670306</td>\n",
       "      <td>0.670773</td>\n",
       "      <td>0.670196</td>\n",
       "      <td>0.675188</td>\n",
       "      <td>0.673352</td>\n",
       "    </tr>\n",
       "    <tr>\n",
       "      <th>4</th>\n",
       "      <td>0.057583</td>\n",
       "      <td>0.059979</td>\n",
       "      <td>0.061861</td>\n",
       "      <td>0.061137</td>\n",
       "      <td>0.056678</td>\n",
       "      <td>0.055756</td>\n",
       "      <td>0.060172</td>\n",
       "    </tr>\n",
       "    <tr>\n",
       "      <th>5</th>\n",
       "      <td>0.013651</td>\n",
       "      <td>0.012492</td>\n",
       "      <td>0.012300</td>\n",
       "      <td>0.012899</td>\n",
       "      <td>0.013047</td>\n",
       "      <td>0.012781</td>\n",
       "      <td>0.015759</td>\n",
       "    </tr>\n",
       "  </tbody>\n",
       "</table>\n",
       "</div>"
      ],
      "text/plain": [
       "nivel_estudios       1.0       2.0       3.0       4.0       5.0       6.0  \\\n",
       "nivel_laboral                                                                \n",
       "0               0.013899  0.012853  0.012917  0.013293  0.014277  0.013708   \n",
       "1               0.072475  0.077774  0.079915  0.077921  0.078708  0.075854   \n",
       "2               0.151899  0.163154  0.162701  0.163977  0.167094  0.166713   \n",
       "3               0.690494  0.673748  0.670306  0.670773  0.670196  0.675188   \n",
       "4               0.057583  0.059979  0.061861  0.061137  0.056678  0.055756   \n",
       "5               0.013651  0.012492  0.012300  0.012899  0.013047  0.012781   \n",
       "\n",
       "nivel_estudios       7.0  \n",
       "nivel_laboral             \n",
       "0               0.012894  \n",
       "1               0.075931  \n",
       "2               0.161891  \n",
       "3               0.673352  \n",
       "4               0.060172  \n",
       "5               0.015759  "
      ]
     },
     "execution_count": 11,
     "metadata": {},
     "output_type": "execute_result"
    }
   ],
   "source": [
    "estudios_vs_laboral_no = pd.crosstab(modelo_no['nivel_laboral'], modelo_no['nivel_estudios'], normalize='columns')\n",
    "estudios_vs_laboral_no"
   ]
  },
  {
   "cell_type": "code",
   "execution_count": 12,
   "metadata": {},
   "outputs": [
    {
     "data": {
      "text/plain": [
       "Text(105,0.5,'Nivel laboral')"
      ]
     },
     "execution_count": 12,
     "metadata": {},
     "output_type": "execute_result"
    },
    {
     "data": {
      "image/png": "[encoded data removed]",
      "text/plain": [
       "<Figure size 1008x288 with 2 Axes>"
      ]
     },
     "metadata": {},
     "output_type": "display_data"
    }
   ],
   "source": [
    "fig, ax = plt.subplots(figsize=(14,4))\n",
    "heatmap = sns.heatmap(estudios_vs_laboral_no, cmap='Oranges', robust=False, annot=True,\\\n",
    "                      linewidths=.5, linecolor='grey', ax=ax)\n",
    "\n",
    "heatmap.set_title('Nivel de estudios vs Nivel laboral', fontsize=18)\n",
    "heatmap.set_xlabel('Nivel de estudios', fontsize=14)\n",
    "heatmap.set_ylabel('Nivel laboral', fontsize=14)"
   ]
  },
  {
   "cell_type": "markdown",
   "metadata": {},
   "source": [
    "#### Conclusión"
   ]
  },
  {
   "cell_type": "markdown",
   "metadata": {},
   "source": [
    "Ambos heatmaps son muy similares. No encontramos relaciones inversas entre uno y otro. Esto quiere decir que la combinación entre el nivel de estudios del postulante y el nivel laboral del aviso no influyen en la decisión de postularse o no."
   ]
  },
  {
   "cell_type": "markdown",
   "metadata": {},
   "source": [
    " "
   ]
  },
  {
   "cell_type": "markdown",
   "metadata": {},
   "source": [
    "## Esta estudiando vs Tipo de trabajo"
   ]
  },
  {
   "cell_type": "markdown",
   "metadata": {},
   "source": [
    "Esta estudiando:\n",
    "- 0 = Está graduado o abandonó\n",
    "- 1 = Tiene un título en curso"
   ]
  },
  {
   "cell_type": "markdown",
   "metadata": {},
   "source": [
    "Tipo de trabajo:\n",
    "- 1 = Voluntario\n",
    "- 2 = Primer Empleo\n",
    "- 3 = Fines de Semana\n",
    "- 4 = Por Contrato\n",
    "- 5 = Temporario\n",
    "- 6 = Pasantia\n",
    "- 7 = Por Horas\n",
    "- 8 = Teletrabajo\n",
    "- 9 = Part-time\n",
    "- 10 = Full-time"
   ]
  },
  {
   "cell_type": "markdown",
   "metadata": {},
   "source": [
    "#### Analizamos las postulaciones"
   ]
  },
  {
   "cell_type": "code",
   "execution_count": 13,
   "metadata": {},
   "outputs": [
    {
     "data": {
      "text/html": [
       "<div>\n",
       "<style scoped>\n",
       "    .dataframe tbody tr th:only-of-type {\n",
       "        vertical-align: middle;\n",
       "    }\n",
       "\n",
       "    .dataframe tbody tr th {\n",
       "        vertical-align: top;\n",
       "    }\n",
       "\n",
       "    .dataframe thead th {\n",
       "        text-align: right;\n",
       "    }\n",
       "</style>\n",
       "<table border=\"1\" class=\"dataframe\">\n",
       "  <thead>\n",
       "    <tr style=\"text-align: right;\">\n",
       "      <th>tipo_de_trabajo</th>\n",
       "      <th>1</th>\n",
       "      <th>2</th>\n",
       "      <th>3</th>\n",
       "      <th>4</th>\n",
       "      <th>5</th>\n",
       "      <th>6</th>\n",
       "      <th>7</th>\n",
       "      <th>8</th>\n",
       "      <th>9</th>\n",
       "      <th>10</th>\n",
       "    </tr>\n",
       "    <tr>\n",
       "      <th>esta_estudiando</th>\n",
       "      <th></th>\n",
       "      <th></th>\n",
       "      <th></th>\n",
       "      <th></th>\n",
       "      <th></th>\n",
       "      <th></th>\n",
       "      <th></th>\n",
       "      <th></th>\n",
       "      <th></th>\n",
       "      <th></th>\n",
       "    </tr>\n",
       "  </thead>\n",
       "  <tbody>\n",
       "    <tr>\n",
       "      <th>0.0</th>\n",
       "      <td>0.666667</td>\n",
       "      <td>0.526316</td>\n",
       "      <td>0.678873</td>\n",
       "      <td>0.636238</td>\n",
       "      <td>0.672241</td>\n",
       "      <td>0.272877</td>\n",
       "      <td>0.71625</td>\n",
       "      <td>0.608779</td>\n",
       "      <td>0.53484</td>\n",
       "      <td>0.65041</td>\n",
       "    </tr>\n",
       "    <tr>\n",
       "      <th>1.0</th>\n",
       "      <td>0.333333</td>\n",
       "      <td>0.473684</td>\n",
       "      <td>0.321127</td>\n",
       "      <td>0.363762</td>\n",
       "      <td>0.327759</td>\n",
       "      <td>0.727123</td>\n",
       "      <td>0.28375</td>\n",
       "      <td>0.391221</td>\n",
       "      <td>0.46516</td>\n",
       "      <td>0.34959</td>\n",
       "    </tr>\n",
       "  </tbody>\n",
       "</table>\n",
       "</div>"
      ],
      "text/plain": [
       "tipo_de_trabajo        1         2         3         4         5         6   \\\n",
       "esta_estudiando                                                               \n",
       "0.0              0.666667  0.526316  0.678873  0.636238  0.672241  0.272877   \n",
       "1.0              0.333333  0.473684  0.321127  0.363762  0.327759  0.727123   \n",
       "\n",
       "tipo_de_trabajo       7         8        9        10  \n",
       "esta_estudiando                                       \n",
       "0.0              0.71625  0.608779  0.53484  0.65041  \n",
       "1.0              0.28375  0.391221  0.46516  0.34959  "
      ]
     },
     "execution_count": 13,
     "metadata": {},
     "output_type": "execute_result"
    }
   ],
   "source": [
    "estudiando_vs_tipo_trabajo_si = pd.crosstab(modelo_si['esta_estudiando'], modelo_si['tipo_de_trabajo'], normalize='columns')\n",
    "estudiando_vs_tipo_trabajo_si"
   ]
  },
  {
   "cell_type": "code",
   "execution_count": 14,
   "metadata": {},
   "outputs": [
    {
     "data": {
      "text/plain": [
       "Text(105,0.5,'Esta estudiando')"
      ]
     },
     "execution_count": 14,
     "metadata": {},
     "output_type": "execute_result"
    },
    {
     "data": {
      "image/png": "[encoded data removed]",
      "text/plain": [
       "<Figure size 1008x288 with 2 Axes>"
      ]
     },
     "metadata": {},
     "output_type": "display_data"
    }
   ],
   "source": [
    "fig, ax = plt.subplots(figsize=(14,4))\n",
    "heatmap = sns.heatmap(estudiando_vs_tipo_trabajo_si, cmap='YlGnBu', robust=False, annot=True,\\\n",
    "                      linewidths=.5, linecolor='grey', ax=ax)\n",
    "\n",
    "heatmap.set_title('Esta estudiando vs Tipo de trabajo', fontsize=18)\n",
    "heatmap.set_xlabel('Tipo de trabajo', fontsize=14)\n",
    "heatmap.set_ylabel('Esta estudiando', fontsize=14)"
   ]
  },
  {
   "cell_type": "markdown",
   "metadata": {},
   "source": [
    "#### Analizamos las no postulaciones"
   ]
  },
  {
   "cell_type": "code",
   "execution_count": 15,
   "metadata": {},
   "outputs": [
    {
     "data": {
      "text/html": [
       "<div>\n",
       "<style scoped>\n",
       "    .dataframe tbody tr th:only-of-type {\n",
       "        vertical-align: middle;\n",
       "    }\n",
       "\n",
       "    .dataframe tbody tr th {\n",
       "        vertical-align: top;\n",
       "    }\n",
       "\n",
       "    .dataframe thead th {\n",
       "        text-align: right;\n",
       "    }\n",
       "</style>\n",
       "<table border=\"1\" class=\"dataframe\">\n",
       "  <thead>\n",
       "    <tr style=\"text-align: right;\">\n",
       "      <th>tipo_de_trabajo</th>\n",
       "      <th>1</th>\n",
       "      <th>2</th>\n",
       "      <th>3</th>\n",
       "      <th>4</th>\n",
       "      <th>5</th>\n",
       "      <th>6</th>\n",
       "      <th>7</th>\n",
       "      <th>8</th>\n",
       "      <th>9</th>\n",
       "      <th>10</th>\n",
       "    </tr>\n",
       "    <tr>\n",
       "      <th>esta_estudiando</th>\n",
       "      <th></th>\n",
       "      <th></th>\n",
       "      <th></th>\n",
       "      <th></th>\n",
       "      <th></th>\n",
       "      <th></th>\n",
       "      <th></th>\n",
       "      <th></th>\n",
       "      <th></th>\n",
       "      <th></th>\n",
       "    </tr>\n",
       "  </thead>\n",
       "  <tbody>\n",
       "    <tr>\n",
       "      <th>0.0</th>\n",
       "      <td>0.52381</td>\n",
       "      <td>0.705882</td>\n",
       "      <td>0.624277</td>\n",
       "      <td>0.672297</td>\n",
       "      <td>0.663978</td>\n",
       "      <td>0.675755</td>\n",
       "      <td>0.655059</td>\n",
       "      <td>0.667347</td>\n",
       "      <td>0.67139</td>\n",
       "      <td>0.668384</td>\n",
       "    </tr>\n",
       "    <tr>\n",
       "      <th>1.0</th>\n",
       "      <td>0.47619</td>\n",
       "      <td>0.294118</td>\n",
       "      <td>0.375723</td>\n",
       "      <td>0.327703</td>\n",
       "      <td>0.336022</td>\n",
       "      <td>0.324245</td>\n",
       "      <td>0.344941</td>\n",
       "      <td>0.332653</td>\n",
       "      <td>0.32861</td>\n",
       "      <td>0.331616</td>\n",
       "    </tr>\n",
       "  </tbody>\n",
       "</table>\n",
       "</div>"
      ],
      "text/plain": [
       "tipo_de_trabajo       1         2         3         4         5         6   \\\n",
       "esta_estudiando                                                              \n",
       "0.0              0.52381  0.705882  0.624277  0.672297  0.663978  0.675755   \n",
       "1.0              0.47619  0.294118  0.375723  0.327703  0.336022  0.324245   \n",
       "\n",
       "tipo_de_trabajo        7         8        9         10  \n",
       "esta_estudiando                                         \n",
       "0.0              0.655059  0.667347  0.67139  0.668384  \n",
       "1.0              0.344941  0.332653  0.32861  0.331616  "
      ]
     },
     "execution_count": 15,
     "metadata": {},
     "output_type": "execute_result"
    }
   ],
   "source": [
    "estudiando_vs_tipo_trabajo_no = pd.crosstab(modelo_no['esta_estudiando'], modelo_no['tipo_de_trabajo'], normalize='columns')\n",
    "estudiando_vs_tipo_trabajo_no"
   ]
  },
  {
   "cell_type": "code",
   "execution_count": 16,
   "metadata": {},
   "outputs": [
    {
     "data": {
      "text/plain": [
       "Text(105,0.5,'Esta estudiando')"
      ]
     },
     "execution_count": 16,
     "metadata": {},
     "output_type": "execute_result"
    },
    {
     "data": {
      "image/png": "[encoded data removed]",
      "text/plain": [
       "<Figure size 1008x288 with 2 Axes>"
      ]
     },
     "metadata": {},
     "output_type": "display_data"
    }
   ],
   "source": [
    "fig, ax = plt.subplots(figsize=(14,4))\n",
    "heatmap = sns.heatmap(estudiando_vs_tipo_trabajo_no, cmap='YlGnBu', robust=False, annot=True,\\\n",
    "                      linewidths=.5, linecolor='grey', ax=ax)\n",
    "\n",
    "heatmap.set_title('Esta estudiando vs Tipo de trabajo', fontsize=18)\n",
    "heatmap.set_xlabel('Tipo de trabajo', fontsize=14)\n",
    "heatmap.set_ylabel('Esta estudiando', fontsize=14)"
   ]
  },
  {
   "cell_type": "markdown",
   "metadata": {},
   "source": [
    "#### Conclusión"
   ]
  },
  {
   "cell_type": "markdown",
   "metadata": {},
   "source": [
    "Luego de analizar ambos heatmaps, notamos una única relación inversa entre ambos:\n",
    "- Si un postulante no está estudiando, es poco probable que se postule a una pasantía (tipo_de_trabajo = 6)\n",
    "- Si un postulante está estudiando, es muy probable que se postule a una pasantía (tipo_de_trabajo = 6)\n",
    "\n",
    "Creamos entonces el feature que indica esta relación."
   ]
  },
  {
   "cell_type": "code",
   "execution_count": 17,
   "metadata": {},
   "outputs": [
    {
     "data": {
      "text/html": [
       "<div>\n",
       "<style scoped>\n",
       "    .dataframe tbody tr th:only-of-type {\n",
       "        vertical-align: middle;\n",
       "    }\n",
       "\n",
       "    .dataframe tbody tr th {\n",
       "        vertical-align: top;\n",
       "    }\n",
       "\n",
       "    .dataframe thead th {\n",
       "        text-align: right;\n",
       "    }\n",
       "</style>\n",
       "<table border=\"1\" class=\"dataframe\">\n",
       "  <thead>\n",
       "    <tr style=\"text-align: right;\">\n",
       "      <th></th>\n",
       "      <th>idaviso</th>\n",
       "      <th>idpostulante</th>\n",
       "      <th>rango_edad</th>\n",
       "      <th>sexo</th>\n",
       "      <th>nivel_estudios</th>\n",
       "      <th>esta_estudiando</th>\n",
       "      <th>descripcion</th>\n",
       "      <th>tipo_de_trabajo</th>\n",
       "      <th>nivel_laboral</th>\n",
       "      <th>nombre_zona</th>\n",
       "      <th>nombre_area</th>\n",
       "      <th>sepostulo</th>\n",
       "    </tr>\n",
       "  </thead>\n",
       "  <tbody>\n",
       "    <tr>\n",
       "      <th>277786</th>\n",
       "      <td>1112405931</td>\n",
       "      <td>xkdDjRa</td>\n",
       "      <td>4.0</td>\n",
       "      <td>1</td>\n",
       "      <td>5.0</td>\n",
       "      <td>0.0</td>\n",
       "      <td>&lt;p&gt;Para importante industria con amplia trayec...</td>\n",
       "      <td>10</td>\n",
       "      <td>3</td>\n",
       "      <td>3</td>\n",
       "      <td>Diseño Industrial</td>\n",
       "      <td>0.0</td>\n",
       "    </tr>\n",
       "    <tr>\n",
       "      <th>169606</th>\n",
       "      <td>1112251086</td>\n",
       "      <td>MVzoeP3</td>\n",
       "      <td>1.0</td>\n",
       "      <td>2</td>\n",
       "      <td>4.0</td>\n",
       "      <td>1.0</td>\n",
       "      <td>&lt;div style=\"\"&gt;&lt;div style=\"\"&gt;&lt;p style=\"\"&gt;The UN...</td>\n",
       "      <td>10</td>\n",
       "      <td>4</td>\n",
       "      <td>3</td>\n",
       "      <td>Administración</td>\n",
       "      <td>0.0</td>\n",
       "    </tr>\n",
       "    <tr>\n",
       "      <th>127906</th>\n",
       "      <td>1112472232</td>\n",
       "      <td>kPLA1eb</td>\n",
       "      <td>2.0</td>\n",
       "      <td>2</td>\n",
       "      <td>2.0</td>\n",
       "      <td>0.0</td>\n",
       "      <td>&lt;p style=\"\"&gt;Seleccionaremos para la Dirección ...</td>\n",
       "      <td>10</td>\n",
       "      <td>3</td>\n",
       "      <td>3</td>\n",
       "      <td>Comercial</td>\n",
       "      <td>0.0</td>\n",
       "    </tr>\n",
       "    <tr>\n",
       "      <th>161774</th>\n",
       "      <td>1112134354</td>\n",
       "      <td>0zPAv0q</td>\n",
       "      <td>1.0</td>\n",
       "      <td>1</td>\n",
       "      <td>4.0</td>\n",
       "      <td>1.0</td>\n",
       "      <td>&lt;p&gt;Grupo Cosmos Recursos Humanos es una compañ...</td>\n",
       "      <td>10</td>\n",
       "      <td>3</td>\n",
       "      <td>3</td>\n",
       "      <td>Recepcionista</td>\n",
       "      <td>0.0</td>\n",
       "    </tr>\n",
       "    <tr>\n",
       "      <th>263692</th>\n",
       "      <td>1112208597</td>\n",
       "      <td>jkVKk8Q</td>\n",
       "      <td>2.0</td>\n",
       "      <td>1</td>\n",
       "      <td>4.0</td>\n",
       "      <td>1.0</td>\n",
       "      <td>&lt;p&gt;&lt;span style=\"\"&gt;Nos encontramos en la búsque...</td>\n",
       "      <td>10</td>\n",
       "      <td>3</td>\n",
       "      <td>3</td>\n",
       "      <td>Producción</td>\n",
       "      <td>0.0</td>\n",
       "    </tr>\n",
       "  </tbody>\n",
       "</table>\n",
       "</div>"
      ],
      "text/plain": [
       "           idaviso idpostulante  rango_edad  sexo  nivel_estudios  \\\n",
       "277786  1112405931      xkdDjRa         4.0     1             5.0   \n",
       "169606  1112251086      MVzoeP3         1.0     2             4.0   \n",
       "127906  1112472232      kPLA1eb         2.0     2             2.0   \n",
       "161774  1112134354      0zPAv0q         1.0     1             4.0   \n",
       "263692  1112208597      jkVKk8Q         2.0     1             4.0   \n",
       "\n",
       "        esta_estudiando                                        descripcion  \\\n",
       "277786              0.0  <p>Para importante industria con amplia trayec...   \n",
       "169606              1.0  <div style=\"\"><div style=\"\"><p style=\"\">The UN...   \n",
       "127906              0.0  <p style=\"\">Seleccionaremos para la Dirección ...   \n",
       "161774              1.0  <p>Grupo Cosmos Recursos Humanos es una compañ...   \n",
       "263692              1.0  <p><span style=\"\">Nos encontramos en la búsque...   \n",
       "\n",
       "        tipo_de_trabajo  nivel_laboral nombre_zona        nombre_area  \\\n",
       "277786               10              3           3  Diseño Industrial   \n",
       "169606               10              4           3     Administración   \n",
       "127906               10              3           3          Comercial   \n",
       "161774               10              3           3      Recepcionista   \n",
       "263692               10              3           3         Producción   \n",
       "\n",
       "        sepostulo  \n",
       "277786        0.0  \n",
       "169606        0.0  \n",
       "127906        0.0  \n",
       "161774        0.0  \n",
       "263692        0.0  "
      ]
     },
     "execution_count": 17,
     "metadata": {},
     "output_type": "execute_result"
    }
   ],
   "source": [
    "relacion = (modelo['esta_estudiando'] == 1) & (modelo['tipo_de_trabajo'] == 6)\n",
    "\n",
    "#modelo.loc[(relacion), 'estudia_vs_tipo_de_trabajo'] = 1\n",
    "#modelo.loc[(~relacion), 'estudia_vs_tipo_de_trabajo'] = 0\n",
    "\n",
    "modelo.sample(5)"
   ]
  },
  {
   "cell_type": "markdown",
   "metadata": {},
   "source": [
    " "
   ]
  },
  {
   "cell_type": "markdown",
   "metadata": {},
   "source": [
    "## Rango de edad vs Tipo de trabajo"
   ]
  },
  {
   "cell_type": "markdown",
   "metadata": {},
   "source": [
    "Rango de edad:\n",
    "- 1 = 18-25 \n",
    "- 2 = 26-30\n",
    "- 3 = 31-40\n",
    "- 4 = 41-68"
   ]
  },
  {
   "cell_type": "markdown",
   "metadata": {},
   "source": [
    "Tipo de trabajo:\n",
    "- 1 = Voluntario\n",
    "- 2 = Primer Empleo\n",
    "- 3 = Fines de Semana\n",
    "- 4 = Por Contrato\n",
    "- 5 = Temporario\n",
    "- 6 = Pasantia\n",
    "- 7 = Por Horas\n",
    "- 8 = Teletrabajo\n",
    "- 9 = Part-time\n",
    "- 10 = Full-time"
   ]
  },
  {
   "cell_type": "markdown",
   "metadata": {},
   "source": [
    "#### Analizamos las postulaciones"
   ]
  },
  {
   "cell_type": "code",
   "execution_count": 18,
   "metadata": {},
   "outputs": [
    {
     "data": {
      "text/html": [
       "<div>\n",
       "<style scoped>\n",
       "    .dataframe tbody tr th:only-of-type {\n",
       "        vertical-align: middle;\n",
       "    }\n",
       "\n",
       "    .dataframe tbody tr th {\n",
       "        vertical-align: top;\n",
       "    }\n",
       "\n",
       "    .dataframe thead th {\n",
       "        text-align: right;\n",
       "    }\n",
       "</style>\n",
       "<table border=\"1\" class=\"dataframe\">\n",
       "  <thead>\n",
       "    <tr style=\"text-align: right;\">\n",
       "      <th>tipo_de_trabajo</th>\n",
       "      <th>1</th>\n",
       "      <th>2</th>\n",
       "      <th>3</th>\n",
       "      <th>4</th>\n",
       "      <th>5</th>\n",
       "      <th>6</th>\n",
       "      <th>7</th>\n",
       "      <th>8</th>\n",
       "      <th>9</th>\n",
       "      <th>10</th>\n",
       "    </tr>\n",
       "    <tr>\n",
       "      <th>rango_edad</th>\n",
       "      <th></th>\n",
       "      <th></th>\n",
       "      <th></th>\n",
       "      <th></th>\n",
       "      <th></th>\n",
       "      <th></th>\n",
       "      <th></th>\n",
       "      <th></th>\n",
       "      <th></th>\n",
       "      <th></th>\n",
       "    </tr>\n",
       "  </thead>\n",
       "  <tbody>\n",
       "    <tr>\n",
       "      <th>1.0</th>\n",
       "      <td>0.428571</td>\n",
       "      <td>0.736842</td>\n",
       "      <td>0.466197</td>\n",
       "      <td>0.247580</td>\n",
       "      <td>0.297659</td>\n",
       "      <td>0.625721</td>\n",
       "      <td>0.37500</td>\n",
       "      <td>0.417939</td>\n",
       "      <td>0.504757</td>\n",
       "      <td>0.314924</td>\n",
       "    </tr>\n",
       "    <tr>\n",
       "      <th>2.0</th>\n",
       "      <td>0.380952</td>\n",
       "      <td>0.116959</td>\n",
       "      <td>0.298592</td>\n",
       "      <td>0.311203</td>\n",
       "      <td>0.291639</td>\n",
       "      <td>0.248145</td>\n",
       "      <td>0.28875</td>\n",
       "      <td>0.261450</td>\n",
       "      <td>0.255768</td>\n",
       "      <td>0.303033</td>\n",
       "    </tr>\n",
       "    <tr>\n",
       "      <th>3.0</th>\n",
       "      <td>0.095238</td>\n",
       "      <td>0.099415</td>\n",
       "      <td>0.204225</td>\n",
       "      <td>0.325035</td>\n",
       "      <td>0.319064</td>\n",
       "      <td>0.109233</td>\n",
       "      <td>0.24625</td>\n",
       "      <td>0.251908</td>\n",
       "      <td>0.185622</td>\n",
       "      <td>0.279793</td>\n",
       "    </tr>\n",
       "    <tr>\n",
       "      <th>4.0</th>\n",
       "      <td>0.095238</td>\n",
       "      <td>0.046784</td>\n",
       "      <td>0.030986</td>\n",
       "      <td>0.116183</td>\n",
       "      <td>0.091639</td>\n",
       "      <td>0.016900</td>\n",
       "      <td>0.09000</td>\n",
       "      <td>0.068702</td>\n",
       "      <td>0.053854</td>\n",
       "      <td>0.102250</td>\n",
       "    </tr>\n",
       "  </tbody>\n",
       "</table>\n",
       "</div>"
      ],
      "text/plain": [
       "tipo_de_trabajo        1         2         3         4         5         6   \\\n",
       "rango_edad                                                                    \n",
       "1.0              0.428571  0.736842  0.466197  0.247580  0.297659  0.625721   \n",
       "2.0              0.380952  0.116959  0.298592  0.311203  0.291639  0.248145   \n",
       "3.0              0.095238  0.099415  0.204225  0.325035  0.319064  0.109233   \n",
       "4.0              0.095238  0.046784  0.030986  0.116183  0.091639  0.016900   \n",
       "\n",
       "tipo_de_trabajo       7         8         9         10  \n",
       "rango_edad                                              \n",
       "1.0              0.37500  0.417939  0.504757  0.314924  \n",
       "2.0              0.28875  0.261450  0.255768  0.303033  \n",
       "3.0              0.24625  0.251908  0.185622  0.279793  \n",
       "4.0              0.09000  0.068702  0.053854  0.102250  "
      ]
     },
     "execution_count": 18,
     "metadata": {},
     "output_type": "execute_result"
    }
   ],
   "source": [
    "edad_vs_tipo_trabajo_si = pd.crosstab(modelo_si['rango_edad'], modelo_si['tipo_de_trabajo'], normalize='columns')\n",
    "edad_vs_tipo_trabajo_si"
   ]
  },
  {
   "cell_type": "code",
   "execution_count": 19,
   "metadata": {},
   "outputs": [
    {
     "data": {
      "text/plain": [
       "Text(105,0.5,'Rango edad')"
      ]
     },
     "execution_count": 19,
     "metadata": {},
     "output_type": "execute_result"
    },
    {
     "data": {
      "image/png": "[encoded data removed]",
      "text/plain": [
       "<Figure size 1008x288 with 2 Axes>"
      ]
     },
     "metadata": {},
     "output_type": "display_data"
    }
   ],
   "source": [
    "fig, ax = plt.subplots(figsize=(14,4))\n",
    "heatmap = sns.heatmap(edad_vs_tipo_trabajo_si, cmap='Greens', robust=False, annot=True,\\\n",
    "                      linewidths=.5, linecolor='grey', ax=ax)\n",
    "\n",
    "heatmap.set_title('Rango edad vs Tipo de trabajo', fontsize=18)\n",
    "heatmap.set_xlabel('Tipo de trabajo', fontsize=14)\n",
    "heatmap.set_ylabel('Rango edad', fontsize=14)"
   ]
  },
  {
   "cell_type": "markdown",
   "metadata": {},
   "source": [
    "#### Analizamos las no postulaciones"
   ]
  },
  {
   "cell_type": "code",
   "execution_count": 20,
   "metadata": {},
   "outputs": [
    {
     "data": {
      "text/html": [
       "<div>\n",
       "<style scoped>\n",
       "    .dataframe tbody tr th:only-of-type {\n",
       "        vertical-align: middle;\n",
       "    }\n",
       "\n",
       "    .dataframe tbody tr th {\n",
       "        vertical-align: top;\n",
       "    }\n",
       "\n",
       "    .dataframe thead th {\n",
       "        text-align: right;\n",
       "    }\n",
       "</style>\n",
       "<table border=\"1\" class=\"dataframe\">\n",
       "  <thead>\n",
       "    <tr style=\"text-align: right;\">\n",
       "      <th>tipo_de_trabajo</th>\n",
       "      <th>1</th>\n",
       "      <th>2</th>\n",
       "      <th>3</th>\n",
       "      <th>4</th>\n",
       "      <th>5</th>\n",
       "      <th>6</th>\n",
       "      <th>7</th>\n",
       "      <th>8</th>\n",
       "      <th>9</th>\n",
       "      <th>10</th>\n",
       "    </tr>\n",
       "    <tr>\n",
       "      <th>rango_edad</th>\n",
       "      <th></th>\n",
       "      <th></th>\n",
       "      <th></th>\n",
       "      <th></th>\n",
       "      <th></th>\n",
       "      <th></th>\n",
       "      <th></th>\n",
       "      <th></th>\n",
       "      <th></th>\n",
       "      <th></th>\n",
       "    </tr>\n",
       "  </thead>\n",
       "  <tbody>\n",
       "    <tr>\n",
       "      <th>1.0</th>\n",
       "      <td>0.380952</td>\n",
       "      <td>0.303922</td>\n",
       "      <td>0.314066</td>\n",
       "      <td>0.276464</td>\n",
       "      <td>0.316667</td>\n",
       "      <td>0.309564</td>\n",
       "      <td>0.290455</td>\n",
       "      <td>0.305085</td>\n",
       "      <td>0.302912</td>\n",
       "      <td>0.303868</td>\n",
       "    </tr>\n",
       "    <tr>\n",
       "      <th>2.0</th>\n",
       "      <td>0.238095</td>\n",
       "      <td>0.274510</td>\n",
       "      <td>0.275530</td>\n",
       "      <td>0.263514</td>\n",
       "      <td>0.241398</td>\n",
       "      <td>0.249581</td>\n",
       "      <td>0.264236</td>\n",
       "      <td>0.260159</td>\n",
       "      <td>0.253405</td>\n",
       "      <td>0.256898</td>\n",
       "    </tr>\n",
       "    <tr>\n",
       "      <th>3.0</th>\n",
       "      <td>0.285714</td>\n",
       "      <td>0.254902</td>\n",
       "      <td>0.256262</td>\n",
       "      <td>0.296171</td>\n",
       "      <td>0.287634</td>\n",
       "      <td>0.300336</td>\n",
       "      <td>0.295780</td>\n",
       "      <td>0.291811</td>\n",
       "      <td>0.290833</td>\n",
       "      <td>0.290616</td>\n",
       "    </tr>\n",
       "    <tr>\n",
       "      <th>4.0</th>\n",
       "      <td>0.095238</td>\n",
       "      <td>0.166667</td>\n",
       "      <td>0.154143</td>\n",
       "      <td>0.163851</td>\n",
       "      <td>0.154301</td>\n",
       "      <td>0.140520</td>\n",
       "      <td>0.149529</td>\n",
       "      <td>0.142945</td>\n",
       "      <td>0.152850</td>\n",
       "      <td>0.148618</td>\n",
       "    </tr>\n",
       "  </tbody>\n",
       "</table>\n",
       "</div>"
      ],
      "text/plain": [
       "tipo_de_trabajo        1         2         3         4         5         6   \\\n",
       "rango_edad                                                                    \n",
       "1.0              0.380952  0.303922  0.314066  0.276464  0.316667  0.309564   \n",
       "2.0              0.238095  0.274510  0.275530  0.263514  0.241398  0.249581   \n",
       "3.0              0.285714  0.254902  0.256262  0.296171  0.287634  0.300336   \n",
       "4.0              0.095238  0.166667  0.154143  0.163851  0.154301  0.140520   \n",
       "\n",
       "tipo_de_trabajo        7         8         9         10  \n",
       "rango_edad                                               \n",
       "1.0              0.290455  0.305085  0.302912  0.303868  \n",
       "2.0              0.264236  0.260159  0.253405  0.256898  \n",
       "3.0              0.295780  0.291811  0.290833  0.290616  \n",
       "4.0              0.149529  0.142945  0.152850  0.148618  "
      ]
     },
     "execution_count": 20,
     "metadata": {},
     "output_type": "execute_result"
    }
   ],
   "source": [
    "edad_vs_tipo_trabajo_no = pd.crosstab(modelo_no['rango_edad'], modelo_no['tipo_de_trabajo'], normalize='columns')\n",
    "edad_vs_tipo_trabajo_no"
   ]
  },
  {
   "cell_type": "code",
   "execution_count": 21,
   "metadata": {},
   "outputs": [
    {
     "data": {
      "text/plain": [
       "Text(105,0.5,'Rango edad')"
      ]
     },
     "execution_count": 21,
     "metadata": {},
     "output_type": "execute_result"
    },
    {
     "data": {
      "image/png": "[encoded data removed]",
      "text/plain": [
       "<Figure size 1008x288 with 2 Axes>"
      ]
     },
     "metadata": {},
     "output_type": "display_data"
    }
   ],
   "source": [
    "fig, ax = plt.subplots(figsize=(14,4))\n",
    "heatmap = sns.heatmap(edad_vs_tipo_trabajo_no, cmap='Greens', robust=False, annot=True,\\\n",
    "                      linewidths=.5, linecolor='grey', ax=ax)\n",
    "\n",
    "heatmap.set_title('Rango edad vs Tipo de trabajo', fontsize=18)\n",
    "heatmap.set_xlabel('Tipo de trabajo', fontsize=14)\n",
    "heatmap.set_ylabel('Rango edad', fontsize=14)"
   ]
  },
  {
   "cell_type": "markdown",
   "metadata": {},
   "source": [
    "#### Conclusión"
   ]
  },
  {
   "cell_type": "markdown",
   "metadata": {},
   "source": [
    "Luego de analizar ambos heatmaps, notamos las siguientes relaciones inversas:\n",
    "- Si un postulante tiene entre 18 y 25 años (rango_edad = 1), es muy probable que se postule a un primer empleo (tipo_de_trabajo = 2)\n",
    "- Si un postulante no tiene entre 18 y 25 años (rango_edad =1), es poco probable que se postule a un primer emepleo (tipo_de_trabajo = 2) \n",
    "\n",
    "- Si un postulante tiene entre 18 y 25 años (rango_edad = 1), es bastante probable que se postule a una pasantía (tipo_de_trabajo = 6)\n",
    "- Si un postulante no tiene entre 18 y 25 años (rango_edad =1), es menos probable que se postule a una pasantía (tipo_de_trabajo = 6)\n",
    "\n",
    "Creamos entonces el feature que indica estas relaciones."
   ]
  },
  {
   "cell_type": "code",
   "execution_count": 22,
   "metadata": {},
   "outputs": [
    {
     "data": {
      "text/html": [
       "<div>\n",
       "<style scoped>\n",
       "    .dataframe tbody tr th:only-of-type {\n",
       "        vertical-align: middle;\n",
       "    }\n",
       "\n",
       "    .dataframe tbody tr th {\n",
       "        vertical-align: top;\n",
       "    }\n",
       "\n",
       "    .dataframe thead th {\n",
       "        text-align: right;\n",
       "    }\n",
       "</style>\n",
       "<table border=\"1\" class=\"dataframe\">\n",
       "  <thead>\n",
       "    <tr style=\"text-align: right;\">\n",
       "      <th></th>\n",
       "      <th>idaviso</th>\n",
       "      <th>idpostulante</th>\n",
       "      <th>rango_edad</th>\n",
       "      <th>sexo</th>\n",
       "      <th>nivel_estudios</th>\n",
       "      <th>esta_estudiando</th>\n",
       "      <th>descripcion</th>\n",
       "      <th>tipo_de_trabajo</th>\n",
       "      <th>nivel_laboral</th>\n",
       "      <th>nombre_zona</th>\n",
       "      <th>nombre_area</th>\n",
       "      <th>sepostulo</th>\n",
       "    </tr>\n",
       "  </thead>\n",
       "  <tbody>\n",
       "    <tr>\n",
       "      <th>960262</th>\n",
       "      <td>1112305844</td>\n",
       "      <td>5mP54pk</td>\n",
       "      <td>3.0</td>\n",
       "      <td>1</td>\n",
       "      <td>3.0</td>\n",
       "      <td>0.0</td>\n",
       "      <td>&lt;p style=\"\"&gt;&lt;strong&gt;Adecco Office&lt;/strong&gt; est...</td>\n",
       "      <td>10</td>\n",
       "      <td>3</td>\n",
       "      <td>3</td>\n",
       "      <td>Tesorería</td>\n",
       "      <td>1.0</td>\n",
       "    </tr>\n",
       "    <tr>\n",
       "      <th>421291</th>\n",
       "      <td>1112390398</td>\n",
       "      <td>JBd0JjJ</td>\n",
       "      <td>2.0</td>\n",
       "      <td>2</td>\n",
       "      <td>4.0</td>\n",
       "      <td>1.0</td>\n",
       "      <td>&lt;p&gt;&lt;strong&gt;&lt;span style=\"text-decoration: under...</td>\n",
       "      <td>10</td>\n",
       "      <td>3</td>\n",
       "      <td>3</td>\n",
       "      <td>Seguridad</td>\n",
       "      <td>0.0</td>\n",
       "    </tr>\n",
       "    <tr>\n",
       "      <th>517097</th>\n",
       "      <td>1111644641</td>\n",
       "      <td>Z903jb</td>\n",
       "      <td>4.0</td>\n",
       "      <td>2</td>\n",
       "      <td>4.0</td>\n",
       "      <td>0.0</td>\n",
       "      <td>&lt;p&gt;Farmacia Central Oeste, busca repositores p...</td>\n",
       "      <td>10</td>\n",
       "      <td>1</td>\n",
       "      <td>3</td>\n",
       "      <td>Ventas</td>\n",
       "      <td>1.0</td>\n",
       "    </tr>\n",
       "    <tr>\n",
       "      <th>735676</th>\n",
       "      <td>1112397204</td>\n",
       "      <td>1QreAY3</td>\n",
       "      <td>2.0</td>\n",
       "      <td>2</td>\n",
       "      <td>3.0</td>\n",
       "      <td>0.0</td>\n",
       "      <td>&lt;p&gt;&lt;strong&gt;Adecco Office&lt;/strong&gt; está especia...</td>\n",
       "      <td>10</td>\n",
       "      <td>3</td>\n",
       "      <td>3</td>\n",
       "      <td>Logística</td>\n",
       "      <td>1.0</td>\n",
       "    </tr>\n",
       "    <tr>\n",
       "      <th>559881</th>\n",
       "      <td>1112309561</td>\n",
       "      <td>ZOjzP8</td>\n",
       "      <td>2.0</td>\n",
       "      <td>1</td>\n",
       "      <td>3.0</td>\n",
       "      <td>0.0</td>\n",
       "      <td>&lt;p&gt;Nos encontramos en la búsqueda de una emple...</td>\n",
       "      <td>10</td>\n",
       "      <td>1</td>\n",
       "      <td>3</td>\n",
       "      <td>Administración</td>\n",
       "      <td>1.0</td>\n",
       "    </tr>\n",
       "  </tbody>\n",
       "</table>\n",
       "</div>"
      ],
      "text/plain": [
       "           idaviso idpostulante  rango_edad  sexo  nivel_estudios  \\\n",
       "960262  1112305844      5mP54pk         3.0     1             3.0   \n",
       "421291  1112390398      JBd0JjJ         2.0     2             4.0   \n",
       "517097  1111644641       Z903jb         4.0     2             4.0   \n",
       "735676  1112397204      1QreAY3         2.0     2             3.0   \n",
       "559881  1112309561       ZOjzP8         2.0     1             3.0   \n",
       "\n",
       "        esta_estudiando                                        descripcion  \\\n",
       "960262              0.0  <p style=\"\"><strong>Adecco Office</strong> est...   \n",
       "421291              1.0  <p><strong><span style=\"text-decoration: under...   \n",
       "517097              0.0  <p>Farmacia Central Oeste, busca repositores p...   \n",
       "735676              0.0  <p><strong>Adecco Office</strong> está especia...   \n",
       "559881              0.0  <p>Nos encontramos en la búsqueda de una emple...   \n",
       "\n",
       "        tipo_de_trabajo  nivel_laboral nombre_zona     nombre_area  sepostulo  \n",
       "960262               10              3           3       Tesorería        1.0  \n",
       "421291               10              3           3       Seguridad        0.0  \n",
       "517097               10              1           3          Ventas        1.0  \n",
       "735676               10              3           3       Logística        1.0  \n",
       "559881               10              1           3  Administración        1.0  "
      ]
     },
     "execution_count": 22,
     "metadata": {},
     "output_type": "execute_result"
    }
   ],
   "source": [
    "relacion = ((modelo['rango_edad'] == 1) & (modelo['tipo_de_trabajo'] == 2)) |\\\n",
    "           ((modelo['rango_edad'] == 1) & (modelo['tipo_de_trabajo'] == 6))\n",
    "\n",
    "#modelo.loc[(relacion), 'edad_vs_tipo_de_trabajo'] = 1\n",
    "#modelo.loc[(~relacion), 'edad_vs_tipo_de_trabajo'] = 0\n",
    "\n",
    "modelo.sample(5)"
   ]
  },
  {
   "cell_type": "markdown",
   "metadata": {},
   "source": [
    " "
   ]
  },
  {
   "cell_type": "markdown",
   "metadata": {},
   "source": [
    "## Rango de edad vs Nombre zona"
   ]
  },
  {
   "cell_type": "markdown",
   "metadata": {},
   "source": [
    "Rango de edad:\n",
    "- 1 = 18-25 \n",
    "- 2 = 26-30\n",
    "- 3 = 31-40\n",
    "- 4 = 41-68"
   ]
  },
  {
   "cell_type": "markdown",
   "metadata": {},
   "source": [
    "Nombre zona:\n",
    "- 1 = Otros\n",
    "- 2 = Capital Federal\n",
    "- 3 = Gran Buenos Aires"
   ]
  },
  {
   "cell_type": "markdown",
   "metadata": {},
   "source": [
    "#### Analizamos las postulaciones"
   ]
  },
  {
   "cell_type": "code",
   "execution_count": 23,
   "metadata": {},
   "outputs": [
    {
     "data": {
      "text/html": [
       "<div>\n",
       "<style scoped>\n",
       "    .dataframe tbody tr th:only-of-type {\n",
       "        vertical-align: middle;\n",
       "    }\n",
       "\n",
       "    .dataframe tbody tr th {\n",
       "        vertical-align: top;\n",
       "    }\n",
       "\n",
       "    .dataframe thead th {\n",
       "        text-align: right;\n",
       "    }\n",
       "</style>\n",
       "<table border=\"1\" class=\"dataframe\">\n",
       "  <thead>\n",
       "    <tr style=\"text-align: right;\">\n",
       "      <th>nombre_zona</th>\n",
       "      <th>1</th>\n",
       "      <th>2</th>\n",
       "      <th>3</th>\n",
       "      <th>Corrientes</th>\n",
       "    </tr>\n",
       "    <tr>\n",
       "      <th>rango_edad</th>\n",
       "      <th></th>\n",
       "      <th></th>\n",
       "      <th></th>\n",
       "      <th></th>\n",
       "    </tr>\n",
       "  </thead>\n",
       "  <tbody>\n",
       "    <tr>\n",
       "      <th>1.0</th>\n",
       "      <td>0.288040</td>\n",
       "      <td>0.353493</td>\n",
       "      <td>0.342246</td>\n",
       "      <td>0.137931</td>\n",
       "    </tr>\n",
       "    <tr>\n",
       "      <th>2.0</th>\n",
       "      <td>0.280962</td>\n",
       "      <td>0.295157</td>\n",
       "      <td>0.296233</td>\n",
       "      <td>0.241379</td>\n",
       "    </tr>\n",
       "    <tr>\n",
       "      <th>3.0</th>\n",
       "      <td>0.316348</td>\n",
       "      <td>0.260519</td>\n",
       "      <td>0.266225</td>\n",
       "      <td>0.413793</td>\n",
       "    </tr>\n",
       "    <tr>\n",
       "      <th>4.0</th>\n",
       "      <td>0.114650</td>\n",
       "      <td>0.090832</td>\n",
       "      <td>0.095296</td>\n",
       "      <td>0.206897</td>\n",
       "    </tr>\n",
       "  </tbody>\n",
       "</table>\n",
       "</div>"
      ],
      "text/plain": [
       "nombre_zona         1         2         3  Corrientes\n",
       "rango_edad                                           \n",
       "1.0          0.288040  0.353493  0.342246    0.137931\n",
       "2.0          0.280962  0.295157  0.296233    0.241379\n",
       "3.0          0.316348  0.260519  0.266225    0.413793\n",
       "4.0          0.114650  0.090832  0.095296    0.206897"
      ]
     },
     "execution_count": 23,
     "metadata": {},
     "output_type": "execute_result"
    }
   ],
   "source": [
    "edad_vs_zona_si = pd.crosstab(modelo_si['rango_edad'], modelo_si['nombre_zona'], normalize='columns')\n",
    "edad_vs_zona_si"
   ]
  },
  {
   "cell_type": "code",
   "execution_count": 24,
   "metadata": {},
   "outputs": [
    {
     "data": {
      "text/plain": [
       "Text(105,0.5,'Rango edad')"
      ]
     },
     "execution_count": 24,
     "metadata": {},
     "output_type": "execute_result"
    },
    {
     "data": {
      "image/png": "[encoded data removed]",
      "text/plain": [
       "<Figure size 1008x288 with 2 Axes>"
      ]
     },
     "metadata": {},
     "output_type": "display_data"
    }
   ],
   "source": [
    "fig, ax = plt.subplots(figsize=(14,4))\n",
    "heatmap = sns.heatmap(edad_vs_zona_si, cmap='Purples', robust=False, annot=True,\\\n",
    "                      linewidths=.5, linecolor='grey', ax=ax)\n",
    "\n",
    "heatmap.set_title('Rango edad vs Nombre zona', fontsize=18)\n",
    "heatmap.set_xlabel('Nombre zona', fontsize=14)\n",
    "heatmap.set_ylabel('Rango edad', fontsize=14)"
   ]
  },
  {
   "cell_type": "markdown",
   "metadata": {},
   "source": [
    "#### Analizamos las no postulaciones"
   ]
  },
  {
   "cell_type": "code",
   "execution_count": 25,
   "metadata": {},
   "outputs": [
    {
     "data": {
      "text/html": [
       "<div>\n",
       "<style scoped>\n",
       "    .dataframe tbody tr th:only-of-type {\n",
       "        vertical-align: middle;\n",
       "    }\n",
       "\n",
       "    .dataframe tbody tr th {\n",
       "        vertical-align: top;\n",
       "    }\n",
       "\n",
       "    .dataframe thead th {\n",
       "        text-align: right;\n",
       "    }\n",
       "</style>\n",
       "<table border=\"1\" class=\"dataframe\">\n",
       "  <thead>\n",
       "    <tr style=\"text-align: right;\">\n",
       "      <th>nombre_zona</th>\n",
       "      <th>1</th>\n",
       "      <th>2</th>\n",
       "      <th>3</th>\n",
       "      <th>1</th>\n",
       "      <th>2</th>\n",
       "      <th>3</th>\n",
       "      <th>Corrientes</th>\n",
       "    </tr>\n",
       "    <tr>\n",
       "      <th>rango_edad</th>\n",
       "      <th></th>\n",
       "      <th></th>\n",
       "      <th></th>\n",
       "      <th></th>\n",
       "      <th></th>\n",
       "      <th></th>\n",
       "      <th></th>\n",
       "    </tr>\n",
       "  </thead>\n",
       "  <tbody>\n",
       "    <tr>\n",
       "      <th>1.0</th>\n",
       "      <td>0.326531</td>\n",
       "      <td>0.304621</td>\n",
       "      <td>0.301414</td>\n",
       "      <td>0.303378</td>\n",
       "      <td>0.299554</td>\n",
       "      <td>0.304469</td>\n",
       "      <td>0.176471</td>\n",
       "    </tr>\n",
       "    <tr>\n",
       "      <th>2.0</th>\n",
       "      <td>0.257143</td>\n",
       "      <td>0.257890</td>\n",
       "      <td>0.255524</td>\n",
       "      <td>0.266216</td>\n",
       "      <td>0.262903</td>\n",
       "      <td>0.256199</td>\n",
       "      <td>0.411765</td>\n",
       "    </tr>\n",
       "    <tr>\n",
       "      <th>3.0</th>\n",
       "      <td>0.289796</td>\n",
       "      <td>0.292066</td>\n",
       "      <td>0.292363</td>\n",
       "      <td>0.293919</td>\n",
       "      <td>0.291208</td>\n",
       "      <td>0.290342</td>\n",
       "      <td>0.352941</td>\n",
       "    </tr>\n",
       "    <tr>\n",
       "      <th>4.0</th>\n",
       "      <td>0.126531</td>\n",
       "      <td>0.145423</td>\n",
       "      <td>0.150699</td>\n",
       "      <td>0.136486</td>\n",
       "      <td>0.146335</td>\n",
       "      <td>0.148990</td>\n",
       "      <td>0.058824</td>\n",
       "    </tr>\n",
       "  </tbody>\n",
       "</table>\n",
       "</div>"
      ],
      "text/plain": [
       "nombre_zona         1         2         3         1         2         3  \\\n",
       "rango_edad                                                                \n",
       "1.0          0.326531  0.304621  0.301414  0.303378  0.299554  0.304469   \n",
       "2.0          0.257143  0.257890  0.255524  0.266216  0.262903  0.256199   \n",
       "3.0          0.289796  0.292066  0.292363  0.293919  0.291208  0.290342   \n",
       "4.0          0.126531  0.145423  0.150699  0.136486  0.146335  0.148990   \n",
       "\n",
       "nombre_zona  Corrientes  \n",
       "rango_edad               \n",
       "1.0            0.176471  \n",
       "2.0            0.411765  \n",
       "3.0            0.352941  \n",
       "4.0            0.058824  "
      ]
     },
     "execution_count": 25,
     "metadata": {},
     "output_type": "execute_result"
    }
   ],
   "source": [
    "edad_vs_zona_no = pd.crosstab(modelo_no['rango_edad'], modelo_no['nombre_zona'], normalize='columns')\n",
    "edad_vs_zona_no"
   ]
  },
  {
   "cell_type": "code",
   "execution_count": 26,
   "metadata": {},
   "outputs": [
    {
     "data": {
      "text/plain": [
       "Text(105,0.5,'Rango edad')"
      ]
     },
     "execution_count": 26,
     "metadata": {},
     "output_type": "execute_result"
    },
    {
     "data": {
      "image/png": "[encoded data removed]",
      "text/plain": [
       "<Figure size 1008x288 with 2 Axes>"
      ]
     },
     "metadata": {},
     "output_type": "display_data"
    }
   ],
   "source": [
    "fig, ax = plt.subplots(figsize=(14,4))\n",
    "heatmap = sns.heatmap(edad_vs_zona_no, cmap='Purples', robust=False, annot=True,\\\n",
    "                      linewidths=.5, linecolor='grey', ax=ax)\n",
    "\n",
    "heatmap.set_title('Rango edad vs Nombre zona', fontsize=18)\n",
    "heatmap.set_xlabel('Nombre zona', fontsize=14)\n",
    "heatmap.set_ylabel('Rango edad', fontsize=14)"
   ]
  },
  {
   "cell_type": "markdown",
   "metadata": {},
   "source": [
    "#### Conclusión"
   ]
  },
  {
   "cell_type": "markdown",
   "metadata": {},
   "source": [
    "No encontramos grandes diferencias entre ambos heatmaps. No podemos traducir esto a una relación binaria."
   ]
  },
  {
   "cell_type": "markdown",
   "metadata": {},
   "source": [
    " "
   ]
  },
  {
   "cell_type": "markdown",
   "metadata": {},
   "source": [
    "## Rango de edad vs Nivel laboral"
   ]
  },
  {
   "cell_type": "markdown",
   "metadata": {},
   "source": [
    "Rango de edad:\n",
    "- 1 = 18-25 \n",
    "- 2 = 26-30\n",
    "- 3 = 31-40\n",
    "- 4 = 41-68"
   ]
  },
  {
   "cell_type": "markdown",
   "metadata": {},
   "source": [
    "Nivel laboral:\n",
    "- 1 = Otro\n",
    "- 2 = Junior\n",
    "- 3 = Senior / Semi-Senior\n",
    "- 4 = Jefe / Supervisor / Responsable\n",
    "- 5 = Gerencia / Alta Gerencia / Dirección"
   ]
  },
  {
   "cell_type": "markdown",
   "metadata": {},
   "source": [
    "#### Analizamos las postulaciones"
   ]
  },
  {
   "cell_type": "code",
   "execution_count": 27,
   "metadata": {},
   "outputs": [
    {
     "data": {
      "text/html": [
       "<div>\n",
       "<style scoped>\n",
       "    .dataframe tbody tr th:only-of-type {\n",
       "        vertical-align: middle;\n",
       "    }\n",
       "\n",
       "    .dataframe tbody tr th {\n",
       "        vertical-align: top;\n",
       "    }\n",
       "\n",
       "    .dataframe thead th {\n",
       "        text-align: right;\n",
       "    }\n",
       "</style>\n",
       "<table border=\"1\" class=\"dataframe\">\n",
       "  <thead>\n",
       "    <tr style=\"text-align: right;\">\n",
       "      <th>nivel_laboral</th>\n",
       "      <th>0</th>\n",
       "      <th>1</th>\n",
       "      <th>2</th>\n",
       "      <th>3</th>\n",
       "      <th>4</th>\n",
       "      <th>5</th>\n",
       "    </tr>\n",
       "    <tr>\n",
       "      <th>rango_edad</th>\n",
       "      <th></th>\n",
       "      <th></th>\n",
       "      <th></th>\n",
       "      <th></th>\n",
       "      <th></th>\n",
       "      <th></th>\n",
       "    </tr>\n",
       "  </thead>\n",
       "  <tbody>\n",
       "    <tr>\n",
       "      <th>1.0</th>\n",
       "      <td>0.329886</td>\n",
       "      <td>0.388095</td>\n",
       "      <td>0.398470</td>\n",
       "      <td>0.331104</td>\n",
       "      <td>0.140005</td>\n",
       "      <td>0.099458</td>\n",
       "    </tr>\n",
       "    <tr>\n",
       "      <th>2.0</th>\n",
       "      <td>0.291734</td>\n",
       "      <td>0.290860</td>\n",
       "      <td>0.310245</td>\n",
       "      <td>0.296735</td>\n",
       "      <td>0.228611</td>\n",
       "      <td>0.164228</td>\n",
       "    </tr>\n",
       "    <tr>\n",
       "      <th>3.0</th>\n",
       "      <td>0.277406</td>\n",
       "      <td>0.242553</td>\n",
       "      <td>0.231219</td>\n",
       "      <td>0.274413</td>\n",
       "      <td>0.374453</td>\n",
       "      <td>0.339024</td>\n",
       "    </tr>\n",
       "    <tr>\n",
       "      <th>4.0</th>\n",
       "      <td>0.100975</td>\n",
       "      <td>0.078493</td>\n",
       "      <td>0.060066</td>\n",
       "      <td>0.097747</td>\n",
       "      <td>0.256931</td>\n",
       "      <td>0.397290</td>\n",
       "    </tr>\n",
       "  </tbody>\n",
       "</table>\n",
       "</div>"
      ],
      "text/plain": [
       "nivel_laboral         0         1         2         3         4         5\n",
       "rango_edad                                                               \n",
       "1.0            0.329886  0.388095  0.398470  0.331104  0.140005  0.099458\n",
       "2.0            0.291734  0.290860  0.310245  0.296735  0.228611  0.164228\n",
       "3.0            0.277406  0.242553  0.231219  0.274413  0.374453  0.339024\n",
       "4.0            0.100975  0.078493  0.060066  0.097747  0.256931  0.397290"
      ]
     },
     "execution_count": 27,
     "metadata": {},
     "output_type": "execute_result"
    }
   ],
   "source": [
    "edad_vs_nivel_laboral_si = pd.crosstab(modelo_si['rango_edad'], modelo_si['nivel_laboral'], normalize='columns')\n",
    "edad_vs_nivel_laboral_si"
   ]
  },
  {
   "cell_type": "code",
   "execution_count": 28,
   "metadata": {},
   "outputs": [
    {
     "data": {
      "text/plain": [
       "Text(105,0.5,'Edad')"
      ]
     },
     "execution_count": 28,
     "metadata": {},
     "output_type": "execute_result"
    },
    {
     "data": {
      "image/png": "[encoded data removed]",
      "text/plain": [
       "<Figure size 1008x288 with 2 Axes>"
      ]
     },
     "metadata": {},
     "output_type": "display_data"
    }
   ],
   "source": [
    "fig, ax = plt.subplots(figsize=(14,4))\n",
    "heatmap = sns.heatmap(edad_vs_nivel_laboral_si, cmap='winter', robust=False, annot=True,\\\n",
    "                      linewidths=.5, linecolor='grey', ax=ax)\n",
    "\n",
    "heatmap.set_title('Edad vs Nivel laboral', fontsize=18)\n",
    "heatmap.set_xlabel('Nivel laboral', fontsize=14)\n",
    "heatmap.set_ylabel('Edad', fontsize=14)"
   ]
  },
  {
   "cell_type": "markdown",
   "metadata": {},
   "source": [
    "#### Analizamos las no postulaciones"
   ]
  },
  {
   "cell_type": "code",
   "execution_count": 29,
   "metadata": {},
   "outputs": [
    {
     "data": {
      "text/html": [
       "<div>\n",
       "<style scoped>\n",
       "    .dataframe tbody tr th:only-of-type {\n",
       "        vertical-align: middle;\n",
       "    }\n",
       "\n",
       "    .dataframe tbody tr th {\n",
       "        vertical-align: top;\n",
       "    }\n",
       "\n",
       "    .dataframe thead th {\n",
       "        text-align: right;\n",
       "    }\n",
       "</style>\n",
       "<table border=\"1\" class=\"dataframe\">\n",
       "  <thead>\n",
       "    <tr style=\"text-align: right;\">\n",
       "      <th>nivel_laboral</th>\n",
       "      <th>0</th>\n",
       "      <th>1</th>\n",
       "      <th>2</th>\n",
       "      <th>3</th>\n",
       "      <th>4</th>\n",
       "      <th>5</th>\n",
       "    </tr>\n",
       "    <tr>\n",
       "      <th>rango_edad</th>\n",
       "      <th></th>\n",
       "      <th></th>\n",
       "      <th></th>\n",
       "      <th></th>\n",
       "      <th></th>\n",
       "      <th></th>\n",
       "    </tr>\n",
       "  </thead>\n",
       "  <tbody>\n",
       "    <tr>\n",
       "      <th>1.0</th>\n",
       "      <td>0.288865</td>\n",
       "      <td>0.303930</td>\n",
       "      <td>0.301500</td>\n",
       "      <td>0.304986</td>\n",
       "      <td>0.300532</td>\n",
       "      <td>0.296203</td>\n",
       "    </tr>\n",
       "    <tr>\n",
       "      <th>2.0</th>\n",
       "      <td>0.273958</td>\n",
       "      <td>0.255793</td>\n",
       "      <td>0.258249</td>\n",
       "      <td>0.255977</td>\n",
       "      <td>0.260047</td>\n",
       "      <td>0.244998</td>\n",
       "    </tr>\n",
       "    <tr>\n",
       "      <th>3.0</th>\n",
       "      <td>0.289930</td>\n",
       "      <td>0.292511</td>\n",
       "      <td>0.289715</td>\n",
       "      <td>0.290302</td>\n",
       "      <td>0.292606</td>\n",
       "      <td>0.303450</td>\n",
       "    </tr>\n",
       "    <tr>\n",
       "      <th>4.0</th>\n",
       "      <td>0.147247</td>\n",
       "      <td>0.147766</td>\n",
       "      <td>0.150536</td>\n",
       "      <td>0.148735</td>\n",
       "      <td>0.146815</td>\n",
       "      <td>0.155349</td>\n",
       "    </tr>\n",
       "  </tbody>\n",
       "</table>\n",
       "</div>"
      ],
      "text/plain": [
       "nivel_laboral         0         1         2         3         4         5\n",
       "rango_edad                                                               \n",
       "1.0            0.288865  0.303930  0.301500  0.304986  0.300532  0.296203\n",
       "2.0            0.273958  0.255793  0.258249  0.255977  0.260047  0.244998\n",
       "3.0            0.289930  0.292511  0.289715  0.290302  0.292606  0.303450\n",
       "4.0            0.147247  0.147766  0.150536  0.148735  0.146815  0.155349"
      ]
     },
     "execution_count": 29,
     "metadata": {},
     "output_type": "execute_result"
    }
   ],
   "source": [
    "edad_vs_nivel_laboral_no = pd.crosstab(modelo_no['rango_edad'], modelo_no['nivel_laboral'], normalize='columns')\n",
    "edad_vs_nivel_laboral_no"
   ]
  },
  {
   "cell_type": "code",
   "execution_count": 30,
   "metadata": {},
   "outputs": [
    {
     "data": {
      "text/plain": [
       "Text(105,0.5,'Edad')"
      ]
     },
     "execution_count": 30,
     "metadata": {},
     "output_type": "execute_result"
    },
    {
     "data": {
      "image/png": "[encoded data removed]",
      "text/plain": [
       "<Figure size 1008x288 with 2 Axes>"
      ]
     },
     "metadata": {},
     "output_type": "display_data"
    }
   ],
   "source": [
    "fig, ax = plt.subplots(figsize=(14,4))\n",
    "heatmap = sns.heatmap(edad_vs_nivel_laboral_no, cmap='winter', robust=False, annot=True,\\\n",
    "                      linewidths=.5, linecolor='grey', ax=ax)\n",
    "\n",
    "heatmap.set_title('Edad vs Nivel laboral', fontsize=18)\n",
    "heatmap.set_xlabel('Nivel laboral', fontsize=14)\n",
    "heatmap.set_ylabel('Edad', fontsize=14)"
   ]
  },
  {
   "cell_type": "markdown",
   "metadata": {},
   "source": [
    "#### Conclusión"
   ]
  },
  {
   "cell_type": "markdown",
   "metadata": {},
   "source": [
    "Luego de analizar ambos heatmaps, notamos la siguiente relación inversa bastante marcada:\n",
    "- Si un postulante tiene entre 41 y 68 años (rango_edad = 4), es bastante probable que se postule a un aviso de gerencia (nivel_laboral = 5)\n",
    "- Si un postulante no tiene entre 41 y 68 años (rango_edad = 4), es menos probable que se postule a un aviso de gerencia (nivel_laboral = 5)\n",
    "\n",
    "Creamos entonces el feature que indica esta relación."
   ]
  },
  {
   "cell_type": "code",
   "execution_count": 31,
   "metadata": {},
   "outputs": [
    {
     "data": {
      "text/html": [
       "<div>\n",
       "<style scoped>\n",
       "    .dataframe tbody tr th:only-of-type {\n",
       "        vertical-align: middle;\n",
       "    }\n",
       "\n",
       "    .dataframe tbody tr th {\n",
       "        vertical-align: top;\n",
       "    }\n",
       "\n",
       "    .dataframe thead th {\n",
       "        text-align: right;\n",
       "    }\n",
       "</style>\n",
       "<table border=\"1\" class=\"dataframe\">\n",
       "  <thead>\n",
       "    <tr style=\"text-align: right;\">\n",
       "      <th></th>\n",
       "      <th>idaviso</th>\n",
       "      <th>idpostulante</th>\n",
       "      <th>rango_edad</th>\n",
       "      <th>sexo</th>\n",
       "      <th>nivel_estudios</th>\n",
       "      <th>esta_estudiando</th>\n",
       "      <th>descripcion</th>\n",
       "      <th>tipo_de_trabajo</th>\n",
       "      <th>nivel_laboral</th>\n",
       "      <th>nombre_zona</th>\n",
       "      <th>nombre_area</th>\n",
       "      <th>sepostulo</th>\n",
       "    </tr>\n",
       "  </thead>\n",
       "  <tbody>\n",
       "    <tr>\n",
       "      <th>718888</th>\n",
       "      <td>1112437193</td>\n",
       "      <td>OqrpXpv</td>\n",
       "      <td>2.0</td>\n",
       "      <td>1</td>\n",
       "      <td>6.0</td>\n",
       "      <td>1.0</td>\n",
       "      <td>&lt;p style=\"\"&gt;&lt;strong style=\"\"&gt;&lt;span style=\"\"&gt;Ob...</td>\n",
       "      <td>10</td>\n",
       "      <td>3</td>\n",
       "      <td>3</td>\n",
       "      <td>Tecnologia / Sistemas</td>\n",
       "      <td>1.0</td>\n",
       "    </tr>\n",
       "    <tr>\n",
       "      <th>762151</th>\n",
       "      <td>1111870627</td>\n",
       "      <td>X9xdWGd</td>\n",
       "      <td>2.0</td>\n",
       "      <td>2</td>\n",
       "      <td>3.0</td>\n",
       "      <td>0.0</td>\n",
       "      <td>&lt;p&gt;Importante Industria dedicada a la elaborac...</td>\n",
       "      <td>10</td>\n",
       "      <td>3</td>\n",
       "      <td>3</td>\n",
       "      <td>Producción</td>\n",
       "      <td>1.0</td>\n",
       "    </tr>\n",
       "    <tr>\n",
       "      <th>78796</th>\n",
       "      <td>1112275157</td>\n",
       "      <td>YR9Ddr</td>\n",
       "      <td>4.0</td>\n",
       "      <td>2</td>\n",
       "      <td>4.0</td>\n",
       "      <td>0.0</td>\n",
       "      <td>VENDEDORES para  Tienda Lomas de Zamora Jorna...</td>\n",
       "      <td>9</td>\n",
       "      <td>2</td>\n",
       "      <td>3</td>\n",
       "      <td>Ventas</td>\n",
       "      <td>0.0</td>\n",
       "    </tr>\n",
       "    <tr>\n",
       "      <th>486140</th>\n",
       "      <td>1112264344</td>\n",
       "      <td>52KZYZ</td>\n",
       "      <td>4.0</td>\n",
       "      <td>2</td>\n",
       "      <td>4.0</td>\n",
       "      <td>0.0</td>\n",
       "      <td>&lt;p&gt;Para importante empresa con oficina comerci...</td>\n",
       "      <td>10</td>\n",
       "      <td>3</td>\n",
       "      <td>3</td>\n",
       "      <td>Ventas</td>\n",
       "      <td>0.0</td>\n",
       "    </tr>\n",
       "    <tr>\n",
       "      <th>624154</th>\n",
       "      <td>1112349392</td>\n",
       "      <td>6pNEaM</td>\n",
       "      <td>3.0</td>\n",
       "      <td>2</td>\n",
       "      <td>2.0</td>\n",
       "      <td>0.0</td>\n",
       "      <td>&lt;p&gt;&lt;strong&gt;¡Estamos buscando nuevos talentos p...</td>\n",
       "      <td>10</td>\n",
       "      <td>2</td>\n",
       "      <td>3</td>\n",
       "      <td>Logística</td>\n",
       "      <td>1.0</td>\n",
       "    </tr>\n",
       "  </tbody>\n",
       "</table>\n",
       "</div>"
      ],
      "text/plain": [
       "           idaviso idpostulante  rango_edad  sexo  nivel_estudios  \\\n",
       "718888  1112437193      OqrpXpv         2.0     1             6.0   \n",
       "762151  1111870627      X9xdWGd         2.0     2             3.0   \n",
       "78796   1112275157       YR9Ddr         4.0     2             4.0   \n",
       "486140  1112264344       52KZYZ         4.0     2             4.0   \n",
       "624154  1112349392       6pNEaM         3.0     2             2.0   \n",
       "\n",
       "        esta_estudiando                                        descripcion  \\\n",
       "718888              1.0  <p style=\"\"><strong style=\"\"><span style=\"\">Ob...   \n",
       "762151              0.0  <p>Importante Industria dedicada a la elaborac...   \n",
       "78796               0.0   VENDEDORES para  Tienda Lomas de Zamora Jorna...   \n",
       "486140              0.0  <p>Para importante empresa con oficina comerci...   \n",
       "624154              0.0  <p><strong>¡Estamos buscando nuevos talentos p...   \n",
       "\n",
       "        tipo_de_trabajo  nivel_laboral nombre_zona            nombre_area  \\\n",
       "718888               10              3           3  Tecnologia / Sistemas   \n",
       "762151               10              3           3             Producción   \n",
       "78796                 9              2           3                 Ventas   \n",
       "486140               10              3           3                 Ventas   \n",
       "624154               10              2           3              Logística   \n",
       "\n",
       "        sepostulo  \n",
       "718888        1.0  \n",
       "762151        1.0  \n",
       "78796         0.0  \n",
       "486140        0.0  \n",
       "624154        1.0  "
      ]
     },
     "execution_count": 31,
     "metadata": {},
     "output_type": "execute_result"
    }
   ],
   "source": [
    "relacion = ((modelo['rango_edad'] == 4) & (modelo['nivel_laboral'] == 5))\n",
    "\n",
    "#modelo.loc[(relacion), 'edad_vs_nivel_laboral'] = 1\n",
    "#modelo.loc[(~relacion), 'edad_vs_nivel_laboral'] = 0\n",
    "\n",
    "modelo.sample(5)"
   ]
  },
  {
   "cell_type": "markdown",
   "metadata": {},
   "source": [
    " "
   ]
  },
  {
   "cell_type": "markdown",
   "metadata": {},
   "source": [
    "## Sexo vs Nivel laboral"
   ]
  },
  {
   "cell_type": "markdown",
   "metadata": {},
   "source": [
    "Sexo:\n",
    "- 0 = 'NO_DECLARA'\n",
    "- 1 = 'FEM'\n",
    "- 2 = 'MASC'"
   ]
  },
  {
   "cell_type": "markdown",
   "metadata": {},
   "source": [
    "Nivel laboral:\n",
    "- 1 = Otro\n",
    "- 2 = Junior\n",
    "- 3 = Senior / Semi-Senior\n",
    "- 4 = Jefe / Supervisor / Responsable\n",
    "- 5 = Gerencia / Alta Gerencia / Dirección"
   ]
  },
  {
   "cell_type": "markdown",
   "metadata": {},
   "source": [
    "#### Analizamos las postulaciones"
   ]
  },
  {
   "cell_type": "code",
   "execution_count": 32,
   "metadata": {},
   "outputs": [
    {
     "data": {
      "text/html": [
       "<div>\n",
       "<style scoped>\n",
       "    .dataframe tbody tr th:only-of-type {\n",
       "        vertical-align: middle;\n",
       "    }\n",
       "\n",
       "    .dataframe tbody tr th {\n",
       "        vertical-align: top;\n",
       "    }\n",
       "\n",
       "    .dataframe thead th {\n",
       "        text-align: right;\n",
       "    }\n",
       "</style>\n",
       "<table border=\"1\" class=\"dataframe\">\n",
       "  <thead>\n",
       "    <tr style=\"text-align: right;\">\n",
       "      <th>nivel_laboral</th>\n",
       "      <th>0</th>\n",
       "      <th>1</th>\n",
       "      <th>2</th>\n",
       "      <th>3</th>\n",
       "      <th>4</th>\n",
       "      <th>5</th>\n",
       "    </tr>\n",
       "    <tr>\n",
       "      <th>sexo</th>\n",
       "      <th></th>\n",
       "      <th></th>\n",
       "      <th></th>\n",
       "      <th></th>\n",
       "      <th></th>\n",
       "      <th></th>\n",
       "    </tr>\n",
       "  </thead>\n",
       "  <tbody>\n",
       "    <tr>\n",
       "      <th>0</th>\n",
       "      <td>0.001526</td>\n",
       "      <td>0.001465</td>\n",
       "      <td>0.001778</td>\n",
       "      <td>0.001665</td>\n",
       "      <td>0.001857</td>\n",
       "      <td>0.002981</td>\n",
       "    </tr>\n",
       "    <tr>\n",
       "      <th>1</th>\n",
       "      <td>0.504790</td>\n",
       "      <td>0.534778</td>\n",
       "      <td>0.548821</td>\n",
       "      <td>0.516860</td>\n",
       "      <td>0.315029</td>\n",
       "      <td>0.288076</td>\n",
       "    </tr>\n",
       "    <tr>\n",
       "      <th>2</th>\n",
       "      <td>0.493684</td>\n",
       "      <td>0.463757</td>\n",
       "      <td>0.449401</td>\n",
       "      <td>0.481475</td>\n",
       "      <td>0.683114</td>\n",
       "      <td>0.708943</td>\n",
       "    </tr>\n",
       "  </tbody>\n",
       "</table>\n",
       "</div>"
      ],
      "text/plain": [
       "nivel_laboral         0         1         2         3         4         5\n",
       "sexo                                                                     \n",
       "0              0.001526  0.001465  0.001778  0.001665  0.001857  0.002981\n",
       "1              0.504790  0.534778  0.548821  0.516860  0.315029  0.288076\n",
       "2              0.493684  0.463757  0.449401  0.481475  0.683114  0.708943"
      ]
     },
     "execution_count": 32,
     "metadata": {},
     "output_type": "execute_result"
    }
   ],
   "source": [
    "sexo_vs_nivel_laboral_si = pd.crosstab(modelo_si['sexo'], modelo_si['nivel_laboral'], normalize='columns')\n",
    "sexo_vs_nivel_laboral_si"
   ]
  },
  {
   "cell_type": "code",
   "execution_count": 33,
   "metadata": {},
   "outputs": [
    {
     "data": {
      "text/plain": [
       "Text(105,0.5,'Sexo')"
      ]
     },
     "execution_count": 33,
     "metadata": {},
     "output_type": "execute_result"
    },
    {
     "data": {
      "image/png": "[encoded data removed]",
      "text/plain": [
       "<Figure size 1008x288 with 2 Axes>"
      ]
     },
     "metadata": {},
     "output_type": "display_data"
    }
   ],
   "source": [
    "fig, ax = plt.subplots(figsize=(14,4))\n",
    "heatmap = sns.heatmap(sexo_vs_nivel_laboral_si, cmap='Greys', robust=False, annot=True,\\\n",
    "                      linewidths=.5, linecolor='grey', ax=ax)\n",
    "\n",
    "heatmap.set_title('Sexo vs Nivel laboral', fontsize=18)\n",
    "heatmap.set_xlabel('Nivel laboral', fontsize=14)\n",
    "heatmap.set_ylabel('Sexo', fontsize=14)"
   ]
  },
  {
   "cell_type": "markdown",
   "metadata": {},
   "source": [
    "#### Analizamos las no postulaciones"
   ]
  },
  {
   "cell_type": "code",
   "execution_count": 34,
   "metadata": {},
   "outputs": [
    {
     "data": {
      "text/html": [
       "<div>\n",
       "<style scoped>\n",
       "    .dataframe tbody tr th:only-of-type {\n",
       "        vertical-align: middle;\n",
       "    }\n",
       "\n",
       "    .dataframe tbody tr th {\n",
       "        vertical-align: top;\n",
       "    }\n",
       "\n",
       "    .dataframe thead th {\n",
       "        text-align: right;\n",
       "    }\n",
       "</style>\n",
       "<table border=\"1\" class=\"dataframe\">\n",
       "  <thead>\n",
       "    <tr style=\"text-align: right;\">\n",
       "      <th>nivel_laboral</th>\n",
       "      <th>0</th>\n",
       "      <th>1</th>\n",
       "      <th>2</th>\n",
       "      <th>3</th>\n",
       "      <th>4</th>\n",
       "      <th>5</th>\n",
       "    </tr>\n",
       "    <tr>\n",
       "      <th>sexo</th>\n",
       "      <th></th>\n",
       "      <th></th>\n",
       "      <th></th>\n",
       "      <th></th>\n",
       "      <th></th>\n",
       "      <th></th>\n",
       "    </tr>\n",
       "  </thead>\n",
       "  <tbody>\n",
       "    <tr>\n",
       "      <th>0</th>\n",
       "      <td>0.001217</td>\n",
       "      <td>0.002279</td>\n",
       "      <td>0.002421</td>\n",
       "      <td>0.002274</td>\n",
       "      <td>0.002312</td>\n",
       "      <td>0.002363</td>\n",
       "    </tr>\n",
       "    <tr>\n",
       "      <th>1</th>\n",
       "      <td>0.516733</td>\n",
       "      <td>0.525310</td>\n",
       "      <td>0.522292</td>\n",
       "      <td>0.525761</td>\n",
       "      <td>0.530066</td>\n",
       "      <td>0.517252</td>\n",
       "    </tr>\n",
       "    <tr>\n",
       "      <th>2</th>\n",
       "      <td>0.482051</td>\n",
       "      <td>0.472411</td>\n",
       "      <td>0.475288</td>\n",
       "      <td>0.471965</td>\n",
       "      <td>0.467622</td>\n",
       "      <td>0.480384</td>\n",
       "    </tr>\n",
       "  </tbody>\n",
       "</table>\n",
       "</div>"
      ],
      "text/plain": [
       "nivel_laboral         0         1         2         3         4         5\n",
       "sexo                                                                     \n",
       "0              0.001217  0.002279  0.002421  0.002274  0.002312  0.002363\n",
       "1              0.516733  0.525310  0.522292  0.525761  0.530066  0.517252\n",
       "2              0.482051  0.472411  0.475288  0.471965  0.467622  0.480384"
      ]
     },
     "execution_count": 34,
     "metadata": {},
     "output_type": "execute_result"
    }
   ],
   "source": [
    "sexo_vs_nivel_laboral_no = pd.crosstab(modelo_no['sexo'], modelo_no['nivel_laboral'], normalize='columns')\n",
    "sexo_vs_nivel_laboral_no"
   ]
  },
  {
   "cell_type": "code",
   "execution_count": 35,
   "metadata": {},
   "outputs": [
    {
     "data": {
      "text/plain": [
       "Text(105,0.5,'Sexo')"
      ]
     },
     "execution_count": 35,
     "metadata": {},
     "output_type": "execute_result"
    },
    {
     "data": {
      "image/png": "[encoded data removed]",
      "text/plain": [
       "<Figure size 1008x288 with 2 Axes>"
      ]
     },
     "metadata": {},
     "output_type": "display_data"
    }
   ],
   "source": [
    "fig, ax = plt.subplots(figsize=(14,4))\n",
    "heatmap = sns.heatmap(sexo_vs_nivel_laboral_no, cmap='Greys', robust=False, annot=True,\\\n",
    "                      linewidths=.5, linecolor='grey', ax=ax)\n",
    "\n",
    "heatmap.set_title('Sexo vs Nivel laboral', fontsize=18)\n",
    "heatmap.set_xlabel('Nivel laboral', fontsize=14)\n",
    "heatmap.set_ylabel('Sexo', fontsize=14)"
   ]
  },
  {
   "cell_type": "markdown",
   "metadata": {},
   "source": [
    "#### Conclusión"
   ]
  },
  {
   "cell_type": "markdown",
   "metadata": {},
   "source": [
    "No encontramos grandes diferencias entre ambos heatmaps. No podemos traducir esto a una relación binaria."
   ]
  },
  {
   "cell_type": "markdown",
   "metadata": {},
   "source": [
    " "
   ]
  },
  {
   "cell_type": "markdown",
   "metadata": {},
   "source": [
    " "
   ]
  },
  {
   "cell_type": "markdown",
   "metadata": {},
   "source": [
    "# Relación entre las distintas áreas"
   ]
  },
  {
   "cell_type": "markdown",
   "metadata": {},
   "source": [
    "La idea es encontrar relaciones fuertes entre las distintas áreas de los avisos laborales. Para esto, comenzamos por analizar las áreas a las que se postuló cada postulante.\n",
    "\n",
    "Cabe destacar que únicamente nos interesa si el postulante se postuló o no a una cierta área: no influye la cantidad de veces que lo hizo."
   ]
  },
  {
   "cell_type": "code",
   "execution_count": 36,
   "metadata": {},
   "outputs": [],
   "source": [
    "# Eliminamos las postulaciones duplicadas de un mismo postulante a una misma área\n",
    "modelo_areas = modelo_si.drop_duplicates(['idpostulante','nombre_area'])\n",
    "\n",
    "# Creamos un diccionario del estilo {idpostulante:[areas_a_las_que_se_postulo]}\n",
    "dic_id_area = {}\n",
    "for index, row in modelo_areas.iterrows():\n",
    "    area = row['nombre_area']\n",
    "    idpostulante = row['idpostulante']\n",
    "    if (idpostulante not in dic_id_area):\n",
    "        dic_id_area[idpostulante] = [area]\n",
    "    else:\n",
    "        if (area not in dic_id_area[idpostulante]):\n",
    "            dic_id_area[idpostulante].append(area)"
   ]
  },
  {
   "cell_type": "markdown",
   "metadata": {},
   "source": [
    "Creamos una lista de listas. Cada sublista contiene las areas a las que se postuló cada postulante. Ya no nos interesa el idpostulante, sino las areas en común.\n",
    "\n",
    "NOTA: tomamos listas de mas de un elemento y menos de 8, ya que luego calcularemos todas las duplas\n",
    "posibles para cada lista. Considerar que 7C2 = 21 duplas como máximo por lista."
   ]
  },
  {
   "cell_type": "code",
   "execution_count": 37,
   "metadata": {},
   "outputs": [],
   "source": [
    "lista_areas = []\n",
    "for id in dic_id_area:\n",
    "    areas = dic_id_area[id]\n",
    "    if (len(areas) > 1 and len(areas) < 8):\n",
    "        lista_areas.append(areas)"
   ]
  },
  {
   "cell_type": "code",
   "execution_count": 38,
   "metadata": {},
   "outputs": [
    {
     "data": {
      "text/html": [
       "<div>\n",
       "<style scoped>\n",
       "    .dataframe tbody tr th:only-of-type {\n",
       "        vertical-align: middle;\n",
       "    }\n",
       "\n",
       "    .dataframe tbody tr th {\n",
       "        vertical-align: top;\n",
       "    }\n",
       "\n",
       "    .dataframe thead th {\n",
       "        text-align: right;\n",
       "    }\n",
       "</style>\n",
       "<table border=\"1\" class=\"dataframe\">\n",
       "  <thead>\n",
       "    <tr style=\"text-align: right;\">\n",
       "      <th></th>\n",
       "      <th>areas</th>\n",
       "    </tr>\n",
       "  </thead>\n",
       "  <tbody>\n",
       "    <tr>\n",
       "      <th>0</th>\n",
       "      <td>[Administración, Ventas]</td>\n",
       "    </tr>\n",
       "    <tr>\n",
       "      <th>1</th>\n",
       "      <td>[Ventas, Camareros, Atención al Cliente, Gastr...</td>\n",
       "    </tr>\n",
       "    <tr>\n",
       "      <th>2</th>\n",
       "      <td>[Recursos Humanos, Administración de Personal,...</td>\n",
       "    </tr>\n",
       "    <tr>\n",
       "      <th>3</th>\n",
       "      <td>[Administración, Telemarketing, Cadetería, Ate...</td>\n",
       "    </tr>\n",
       "    <tr>\n",
       "      <th>4</th>\n",
       "      <td>[Atención al Cliente, Ventas]</td>\n",
       "    </tr>\n",
       "  </tbody>\n",
       "</table>\n",
       "</div>"
      ],
      "text/plain": [
       "                                               areas\n",
       "0                           [Administración, Ventas]\n",
       "1  [Ventas, Camareros, Atención al Cliente, Gastr...\n",
       "2  [Recursos Humanos, Administración de Personal,...\n",
       "3  [Administración, Telemarketing, Cadetería, Ate...\n",
       "4                      [Atención al Cliente, Ventas]"
      ]
     },
     "execution_count": 38,
     "metadata": {},
     "output_type": "execute_result"
    }
   ],
   "source": [
    "df_areas = pd.DataFrame({'areas':lista_areas})\n",
    "df_areas.head(5)"
   ]
  },
  {
   "cell_type": "code",
   "execution_count": 39,
   "metadata": {},
   "outputs": [
    {
     "name": "stdout",
     "output_type": "stream",
     "text": [
      "<class 'pandas.core.frame.DataFrame'>\n",
      "RangeIndex: 75024 entries, 0 to 75023\n",
      "Data columns (total 1 columns):\n",
      "areas    75024 non-null object\n",
      "dtypes: object(1)\n",
      "memory usage: 586.2+ KB\n"
     ]
    }
   ],
   "source": [
    "df_areas.info()"
   ]
  },
  {
   "cell_type": "markdown",
   "metadata": {},
   "source": [
    " "
   ]
  },
  {
   "cell_type": "markdown",
   "metadata": {},
   "source": [
    "A continuación, calcularemos todas las duplas posibles para cada lista de áreas y las ordenaremos de mayor a menor por cantidad de apariciones. De esta forma, podremos saber cuáles son las combinaciones de áreas más comunes."
   ]
  },
  {
   "cell_type": "code",
   "execution_count": 40,
   "metadata": {},
   "outputs": [],
   "source": [
    "dic_tuplas = {}\n",
    "contador = 0\n",
    "for index, row in df_areas.iterrows():\n",
    "    areas = sorted(row['areas'])\n",
    "    for area_x in areas:\n",
    "        indice = areas.index(area_x)\n",
    "        for area_y in areas[indice+1:]:\n",
    "            tupla = (area_x, area_y)\n",
    "            if (tupla not in dic_tuplas):\n",
    "                dic_tuplas[tupla] = 1\n",
    "            else:\n",
    "                dic_tuplas[tupla] += 1"
   ]
  },
  {
   "cell_type": "code",
   "execution_count": 41,
   "metadata": {},
   "outputs": [],
   "source": [
    "df_tuplas = pd.DataFrame(list(dic_tuplas.items()), columns=['dupla_areas','cantidad'])\n",
    "df_tuplas = df_tuplas.sort_values(by=['cantidad'], ascending=False).reset_index()\n",
    "df_tuplas = df_tuplas[['dupla_areas', 'cantidad']]"
   ]
  },
  {
   "cell_type": "code",
   "execution_count": 42,
   "metadata": {},
   "outputs": [
    {
     "data": {
      "text/html": [
       "<div>\n",
       "<style scoped>\n",
       "    .dataframe tbody tr th:only-of-type {\n",
       "        vertical-align: middle;\n",
       "    }\n",
       "\n",
       "    .dataframe tbody tr th {\n",
       "        vertical-align: top;\n",
       "    }\n",
       "\n",
       "    .dataframe thead th {\n",
       "        text-align: right;\n",
       "    }\n",
       "</style>\n",
       "<table border=\"1\" class=\"dataframe\">\n",
       "  <thead>\n",
       "    <tr style=\"text-align: right;\">\n",
       "      <th></th>\n",
       "      <th>dupla_areas</th>\n",
       "      <th>cantidad</th>\n",
       "    </tr>\n",
       "  </thead>\n",
       "  <tbody>\n",
       "    <tr>\n",
       "      <th>0</th>\n",
       "      <td>(Comercial, Ventas)</td>\n",
       "      <td>8040</td>\n",
       "    </tr>\n",
       "    <tr>\n",
       "      <th>1</th>\n",
       "      <td>(Atención al Cliente, Ventas)</td>\n",
       "      <td>7188</td>\n",
       "    </tr>\n",
       "    <tr>\n",
       "      <th>2</th>\n",
       "      <td>(Administración, Ventas)</td>\n",
       "      <td>5333</td>\n",
       "    </tr>\n",
       "    <tr>\n",
       "      <th>3</th>\n",
       "      <td>(Call Center, Ventas)</td>\n",
       "      <td>4838</td>\n",
       "    </tr>\n",
       "    <tr>\n",
       "      <th>4</th>\n",
       "      <td>(Atención al Cliente, Call Center)</td>\n",
       "      <td>4047</td>\n",
       "    </tr>\n",
       "    <tr>\n",
       "      <th>5</th>\n",
       "      <td>(Atención al Cliente, Comercial)</td>\n",
       "      <td>3919</td>\n",
       "    </tr>\n",
       "    <tr>\n",
       "      <th>6</th>\n",
       "      <td>(Administración, Comercial)</td>\n",
       "      <td>3903</td>\n",
       "    </tr>\n",
       "    <tr>\n",
       "      <th>7</th>\n",
       "      <td>(Recepcionista, Ventas)</td>\n",
       "      <td>3901</td>\n",
       "    </tr>\n",
       "    <tr>\n",
       "      <th>8</th>\n",
       "      <td>(Administración, Atención al Cliente)</td>\n",
       "      <td>3749</td>\n",
       "    </tr>\n",
       "    <tr>\n",
       "      <th>9</th>\n",
       "      <td>(Administración, Recepcionista)</td>\n",
       "      <td>3681</td>\n",
       "    </tr>\n",
       "  </tbody>\n",
       "</table>\n",
       "</div>"
      ],
      "text/plain": [
       "                             dupla_areas  cantidad\n",
       "0                    (Comercial, Ventas)      8040\n",
       "1          (Atención al Cliente, Ventas)      7188\n",
       "2               (Administración, Ventas)      5333\n",
       "3                  (Call Center, Ventas)      4838\n",
       "4     (Atención al Cliente, Call Center)      4047\n",
       "5       (Atención al Cliente, Comercial)      3919\n",
       "6            (Administración, Comercial)      3903\n",
       "7                (Recepcionista, Ventas)      3901\n",
       "8  (Administración, Atención al Cliente)      3749\n",
       "9        (Administración, Recepcionista)      3681"
      ]
     },
     "execution_count": 42,
     "metadata": {},
     "output_type": "execute_result"
    }
   ],
   "source": [
    "df_tuplas.head(10)"
   ]
  },
  {
   "cell_type": "code",
   "execution_count": 43,
   "metadata": {},
   "outputs": [
    {
     "name": "stdout",
     "output_type": "stream",
     "text": [
      "<class 'pandas.core.frame.DataFrame'>\n",
      "RangeIndex: 7258 entries, 0 to 7257\n",
      "Data columns (total 2 columns):\n",
      "dupla_areas    7258 non-null object\n",
      "cantidad       7258 non-null int64\n",
      "dtypes: int64(1), object(1)\n",
      "memory usage: 113.5+ KB\n"
     ]
    }
   ],
   "source": [
    "df_tuplas.info()"
   ]
  },
  {
   "cell_type": "markdown",
   "metadata": {},
   "source": [
    " "
   ]
  },
  {
   "cell_type": "markdown",
   "metadata": {},
   "source": [
    "Definimos las áreas más importantes en base a las duplas obtenidas y a información obtenida en la página web de Navent."
   ]
  },
  {
   "cell_type": "code",
   "execution_count": 44,
   "metadata": {},
   "outputs": [],
   "source": [
    "top_areas = ['Administración','Ventas','Producción','Call Center','Recepcionista',\\\n",
    "             'Contabilidad','Programación','Recursos Humanos','Gastronomia','Mantenimiento',\\\n",
    "             'Logística','Seguridad','Transporte','Legal','Marketing','Atención al Cliente',\\\n",
    "             'Tecnologia / Sistemas','Medicina','Salud']"
   ]
  },
  {
   "cell_type": "code",
   "execution_count": 45,
   "metadata": {},
   "outputs": [
    {
     "data": {
      "text/plain": [
       "19"
      ]
     },
     "execution_count": 45,
     "metadata": {},
     "output_type": "execute_result"
    }
   ],
   "source": [
    "len_top_areas = len(top_areas)\n",
    "len_top_areas"
   ]
  },
  {
   "cell_type": "markdown",
   "metadata": {},
   "source": [
    "Nos guardamos en una lista las áreas restantes."
   ]
  },
  {
   "cell_type": "code",
   "execution_count": 46,
   "metadata": {},
   "outputs": [],
   "source": [
    "avisos_detalles = pd.read_csv('datos_navent_fiuba/h15_fiuba_6_avisos_detalle.csv')\n",
    "\n",
    "avisos_detalles_2 = pd.read_csv('datos_navent_fiuba/d15_fiuba_6_avisos_detalle.csv')\n",
    "\n",
    "avisos_detalles = pd.merge(avisos_detalles, avisos_detalles_2, how='outer')\n",
    "\n",
    "avisos_detalles_2 = pd.read_csv('datos_navent_fiuba/fiuba_6_avisos_detalle.csv')\n",
    "\n",
    "avisos_detalles = pd.merge(avisos_detalles, avisos_detalles_2, how='outer')\n",
    "\n",
    "avisos_detalles_2 = pd.read_csv('datos_navent_fiuba/fiuba_6_avisos_detalle_missing_nivel_laboral.csv')\n",
    "\n",
    "avisos_detalles = pd.merge(avisos_detalles, avisos_detalles_2, how='outer')"
   ]
  },
  {
   "cell_type": "code",
   "execution_count": 47,
   "metadata": {},
   "outputs": [],
   "source": [
    "areas_totales = avisos_detalles['nombre_area'].unique()"
   ]
  },
  {
   "cell_type": "code",
   "execution_count": 48,
   "metadata": {},
   "outputs": [
    {
     "data": {
      "text/plain": [
       "188"
      ]
     },
     "execution_count": 48,
     "metadata": {},
     "output_type": "execute_result"
    }
   ],
   "source": [
    "len_areas_totales = len(areas_totales)\n",
    "len_areas_totales"
   ]
  },
  {
   "cell_type": "code",
   "execution_count": 49,
   "metadata": {},
   "outputs": [],
   "source": [
    "areas_restantes = []\n",
    "\n",
    "for area in areas_totales:\n",
    "    if area not in top_areas:\n",
    "        areas_restantes.append(area)"
   ]
  },
  {
   "cell_type": "markdown",
   "metadata": {},
   "source": [
    "Comprobamos que la cantidad de áreas restantes es la correcta."
   ]
  },
  {
   "cell_type": "code",
   "execution_count": 50,
   "metadata": {},
   "outputs": [
    {
     "data": {
      "text/plain": [
       "True"
      ]
     },
     "execution_count": 50,
     "metadata": {},
     "output_type": "execute_result"
    }
   ],
   "source": [
    "len_areas_restantes = len(areas_restantes)\n",
    "\n",
    "len_areas_restantes == len_areas_totales - len_top_areas"
   ]
  },
  {
   "cell_type": "markdown",
   "metadata": {},
   "source": [
    "Asignamos las áreas restantes a un top_area, según las duplas arriba obtenidas."
   ]
  },
  {
   "cell_type": "code",
   "execution_count": 51,
   "metadata": {},
   "outputs": [],
   "source": [
    "contador = 0\n",
    "asignados = []\n",
    "\n",
    "# En este diccionario se van a ir cargando las areas que le corresponden a cada top_area\n",
    "# Va a ser de la pinta dic_area = {top_area:[lista_sub_areas]}\n",
    "dic_areas = {}\n",
    "for area in top_areas:\n",
    "    dic_areas[area] = []\n",
    "    \n",
    "    \n",
    "# Recorremos las tuplas y vamos asignando cada area al top_area que le corresponda\n",
    "for index, row in df_tuplas.iterrows():\n",
    "    area1 = row[0][0]\n",
    "    area2 = row[0][1]\n",
    "\n",
    "    if (area1 not in top_areas) and (area2 in top_areas):\n",
    "        if area1 not in asignados:\n",
    "            dic_areas[area2].append(area1)\n",
    "            asignados.append(area1)\n",
    "    \n",
    "    if (area2 not in top_areas) and (area1 in top_areas):\n",
    "        if area2 not in asignados:\n",
    "            dic_areas[area1].append(area2)\n",
    "            asignados.append(area2)"
   ]
  },
  {
   "cell_type": "markdown",
   "metadata": {},
   "source": [
    "Comprobamos la cantidad de áreas que efectivamente fueron asignadas a algún top_area."
   ]
  },
  {
   "cell_type": "code",
   "execution_count": 52,
   "metadata": {},
   "outputs": [
    {
     "data": {
      "text/plain": [
       "159"
      ]
     },
     "execution_count": 52,
     "metadata": {},
     "output_type": "execute_result"
    }
   ],
   "source": [
    "areas_asignadas = []\n",
    "\n",
    "for top_area in dic_areas:\n",
    "    for area in dic_areas[top_area]:\n",
    "        areas_asignadas.append(area)\n",
    "        \n",
    "len(areas_asignadas)"
   ]
  },
  {
   "cell_type": "markdown",
   "metadata": {},
   "source": [
    "Considerando, que tenemos un total de 188 áreas y 19 de ellas son top_areas, nos quedan 7 áreas sin asignar. Las asignamos a la categoría \"Otros\"."
   ]
  },
  {
   "cell_type": "code",
   "execution_count": 53,
   "metadata": {},
   "outputs": [],
   "source": [
    "otros = \"Otros\"\n",
    "\n",
    "for area in areas_restantes:\n",
    "    if area not in areas_asignadas:\n",
    "        if not otros in dic_areas:\n",
    "            dic_areas[otros] = []\n",
    "        dic_areas[otros].append(area)            "
   ]
  },
  {
   "cell_type": "markdown",
   "metadata": {},
   "source": [
    "Comprobamos que efectivamente las 7 áreas sin asignar ahora forman parte de \"Otros\"."
   ]
  },
  {
   "cell_type": "code",
   "execution_count": 54,
   "metadata": {},
   "outputs": [
    {
     "data": {
      "text/plain": [
       "['Prácticas cardiológicas',\n",
       " 'Odontología',\n",
       " 'Psicología',\n",
       " 'Fonoaudiología',\n",
       " 'Instrumentación quirúrgica',\n",
       " 'Esterilización',\n",
       " 'Traduccion',\n",
       " 'Maternidad',\n",
       " 'Enfermería (ver Enfermería)',\n",
       " 'Auditoría de Seguros']"
      ]
     },
     "execution_count": 54,
     "metadata": {},
     "output_type": "execute_result"
    }
   ],
   "source": [
    "dic_areas[otros]"
   ]
  },
  {
   "cell_type": "markdown",
   "metadata": {},
   "source": [
    " "
   ]
  },
  {
   "cell_type": "markdown",
   "metadata": {},
   "source": [
    "Asignamos variables numéricas a las áreas del modelo y del test final, según lo analizado arriba."
   ]
  },
  {
   "cell_type": "code",
   "execution_count": 55,
   "metadata": {},
   "outputs": [
    {
     "name": "stdout",
     "output_type": "stream",
     "text": [
      "13.927818059921265\n"
     ]
    }
   ],
   "source": [
    "t0 = time()\n",
    "\n",
    "otros = \"Otros\"\n",
    "n_area = 1    \n",
    "    \n",
    "for top_area in dic_areas:\n",
    "    if (top_area != otros):\n",
    "        modelo.loc[(modelo['nombre_area'] == top_area), 'num_area'] = n_area\n",
    "        test_final.loc[(test_final['nombre_area'] == top_area), 'num_area'] = n_area\n",
    "        for area in dic_areas[top_area]:\n",
    "            modelo.loc[(modelo['nombre_area'] == area), 'num_area'] = n_area\n",
    "            test_final.loc[(test_final['nombre_area'] == area), 'num_area'] = n_area\n",
    "    else:\n",
    "        modelo.loc[(modelo['nombre_area'] == top_area), 'num_area'] = 0\n",
    "        test_final.loc[(test_final['nombre_area'] == top_area), 'num_area'] = 0\n",
    "        \n",
    "    n_area += 1\n",
    "    \n",
    "\n",
    "tf = time() - t0\n",
    "    \n",
    "print(tf)"
   ]
  },
  {
   "cell_type": "code",
   "execution_count": 56,
   "metadata": {},
   "outputs": [
    {
     "data": {
      "text/plain": [
       "2.0     316901\n",
       "1.0     180419\n",
       "3.0     157177\n",
       "16.0     45325\n",
       "5.0      44109\n",
       "17.0     35474\n",
       "4.0      28377\n",
       "8.0      26520\n",
       "6.0      24968\n",
       "15.0     24757\n",
       "7.0      20203\n",
       "10.0     19401\n",
       "9.0      14804\n",
       "11.0     14786\n",
       "14.0      9631\n",
       "0.0       8379\n",
       "13.0      8154\n",
       "12.0      8085\n",
       "19.0      6860\n",
       "18.0      5318\n",
       "Name: num_area, dtype: int64"
      ]
     },
     "execution_count": 56,
     "metadata": {},
     "output_type": "execute_result"
    }
   ],
   "source": [
    "modelo['num_area'].value_counts()"
   ]
  },
  {
   "cell_type": "code",
   "execution_count": 57,
   "metadata": {},
   "outputs": [
    {
     "data": {
      "text/plain": [
       "2.0     31008\n",
       "1.0     17464\n",
       "3.0     16115\n",
       "16.0     3689\n",
       "5.0      3585\n",
       "4.0      3231\n",
       "17.0     3210\n",
       "8.0      2457\n",
       "15.0     2282\n",
       "6.0      2079\n",
       "10.0     1643\n",
       "7.0      1562\n",
       "11.0     1366\n",
       "9.0      1146\n",
       "12.0     1102\n",
       "14.0      946\n",
       "0.0       831\n",
       "13.0      719\n",
       "19.0      612\n",
       "18.0      459\n",
       "Name: num_area, dtype: int64"
      ]
     },
     "execution_count": 57,
     "metadata": {},
     "output_type": "execute_result"
    }
   ],
   "source": [
    "test_final['num_area'].value_counts()"
   ]
  },
  {
   "cell_type": "markdown",
   "metadata": {},
   "source": [
    " "
   ]
  },
  {
   "cell_type": "markdown",
   "metadata": {},
   "source": [
    "Asignamos a la categoría \"Otros\" (valor = 0) aquellos valores nulos"
   ]
  },
  {
   "cell_type": "code",
   "execution_count": 58,
   "metadata": {},
   "outputs": [
    {
     "data": {
      "text/plain": [
       "352"
      ]
     },
     "execution_count": 58,
     "metadata": {},
     "output_type": "execute_result"
    }
   ],
   "source": [
    "modelo['num_area'].isnull().sum()"
   ]
  },
  {
   "cell_type": "code",
   "execution_count": 59,
   "metadata": {},
   "outputs": [],
   "source": [
    "modelo.loc[(modelo['num_area'].isnull()), 'num_area'] = 0"
   ]
  },
  {
   "cell_type": "code",
   "execution_count": 60,
   "metadata": {},
   "outputs": [
    {
     "data": {
      "text/plain": [
       "4494"
      ]
     },
     "execution_count": 60,
     "metadata": {},
     "output_type": "execute_result"
    }
   ],
   "source": [
    "test_final['num_area'].isnull().sum()"
   ]
  },
  {
   "cell_type": "code",
   "execution_count": 61,
   "metadata": {},
   "outputs": [],
   "source": [
    "test_final.loc[(test_final['num_area'].isnull()), 'num_area'] = 0"
   ]
  },
  {
   "cell_type": "markdown",
   "metadata": {},
   "source": [
    " "
   ]
  },
  {
   "cell_type": "markdown",
   "metadata": {},
   "source": [
    "# Relación entre la cantidad de postulaciones y el nivel laboral, por postulante y aviso"
   ]
  },
  {
   "cell_type": "markdown",
   "metadata": {},
   "source": [
    "Cargamos las postulaciones, eliminamos postulaciones duplicadas y las fechas de postulacion.\n",
    "Armamos el dataframe postulaciones_nivel con las columnas nivel laboral, idpostulante e idaviso."
   ]
  },
  {
   "cell_type": "code",
   "execution_count": 62,
   "metadata": {},
   "outputs": [],
   "source": [
    "postulaciones = pd.read_csv('datos_navent_fiuba/fiuba_4_postulaciones.csv')\n",
    "postulaciones_2 = pd.read_csv('datos_navent_fiuba/h15_fiuba_4_postulaciones.csv')\n",
    "\n",
    "postulaciones = pd.merge(postulaciones, postulaciones_2, how='outer')\n",
    "\n",
    "postulaciones.drop_duplicates(['idaviso','idpostulante'], inplace=True)\n",
    "postulaciones.drop(columns={'fechapostulacion'}, inplace = True)\n",
    "\n",
    "avisos_nivel = avisos_detalles[['idaviso','nivel_laboral']]\n",
    "\n",
    "postulacion_nivel = pd.merge(postulaciones,avisos_nivel,on='idaviso')\n",
    "\n",
    "postulaciones = 0\n",
    "avisos_detalles = 0"
   ]
  },
  {
   "cell_type": "markdown",
   "metadata": {},
   "source": [
    "Pasamos a valor numérico el nivel laboral, según un orden jerárquico asignado por nosotros."
   ]
  },
  {
   "cell_type": "code",
   "execution_count": 63,
   "metadata": {},
   "outputs": [],
   "source": [
    "postulacion_nivel.loc[(postulacion_nivel['nivel_laboral'] == 'Gerencia / Alta Gerencia / Dirección'),'nivel_laboral'] = 5\n",
    "postulacion_nivel.loc[(postulacion_nivel['nivel_laboral'] == 'Jefe / Supervisor / Responsable'),'nivel_laboral'] = 4\n",
    "postulacion_nivel.loc[(postulacion_nivel['nivel_laboral'] == 'Senior / Semi-Senior'),'nivel_laboral'] = 3\n",
    "postulacion_nivel.loc[(postulacion_nivel['nivel_laboral'] == 'Junior'),'nivel_laboral'] = 2\n",
    "postulacion_nivel.loc[(postulacion_nivel['nivel_laboral'] == 'Otro'),'nivel_laboral'] = 1\n",
    "postulacion_nivel.loc[(postulacion_nivel['nivel_laboral'].isnull()),'nivel_laboral'] = 0"
   ]
  },
  {
   "cell_type": "markdown",
   "metadata": {},
   "source": [
    "Hacemos el groupby por nivel laboral y postulante, agregamos el tamaño a la columna post_por_nivel."
   ]
  },
  {
   "cell_type": "code",
   "execution_count": 64,
   "metadata": {},
   "outputs": [],
   "source": [
    "postulacion_nivel ['post_por_nivel'] = 0\n",
    "postulacion_nivel = postulacion_nivel.groupby(['nivel_laboral','idpostulante'])['post_por_nivel'].size().reset_index()\n"
   ]
  },
  {
   "cell_type": "markdown",
   "metadata": {},
   "source": [
    "Mergeamos el modelo para agregar la columna."
   ]
  },
  {
   "cell_type": "code",
   "execution_count": 65,
   "metadata": {
    "scrolled": true
   },
   "outputs": [
    {
     "data": {
      "text/html": [
       "<div>\n",
       "<style scoped>\n",
       "    .dataframe tbody tr th:only-of-type {\n",
       "        vertical-align: middle;\n",
       "    }\n",
       "\n",
       "    .dataframe tbody tr th {\n",
       "        vertical-align: top;\n",
       "    }\n",
       "\n",
       "    .dataframe thead th {\n",
       "        text-align: right;\n",
       "    }\n",
       "</style>\n",
       "<table border=\"1\" class=\"dataframe\">\n",
       "  <thead>\n",
       "    <tr style=\"text-align: right;\">\n",
       "      <th></th>\n",
       "      <th>idaviso</th>\n",
       "      <th>idpostulante</th>\n",
       "      <th>rango_edad</th>\n",
       "      <th>sexo</th>\n",
       "      <th>nivel_estudios</th>\n",
       "      <th>esta_estudiando</th>\n",
       "      <th>descripcion</th>\n",
       "      <th>tipo_de_trabajo</th>\n",
       "      <th>nivel_laboral</th>\n",
       "      <th>nombre_zona</th>\n",
       "      <th>nombre_area</th>\n",
       "      <th>sepostulo</th>\n",
       "      <th>num_area</th>\n",
       "      <th>post_por_nivel</th>\n",
       "    </tr>\n",
       "  </thead>\n",
       "  <tbody>\n",
       "    <tr>\n",
       "      <th>785863</th>\n",
       "      <td>1112293402</td>\n",
       "      <td>vVDV6JQ</td>\n",
       "      <td>1.0</td>\n",
       "      <td>1</td>\n",
       "      <td>5.0</td>\n",
       "      <td>1.0</td>\n",
       "      <td>&lt;p&gt;Nuestro cliente, reconocida empresa de logí...</td>\n",
       "      <td>10</td>\n",
       "      <td>3</td>\n",
       "      <td>3</td>\n",
       "      <td>Recursos Humanos</td>\n",
       "      <td>1.0</td>\n",
       "      <td>8.0</td>\n",
       "      <td>42.0</td>\n",
       "    </tr>\n",
       "    <tr>\n",
       "      <th>465290</th>\n",
       "      <td>1111895142</td>\n",
       "      <td>eRW4b9</td>\n",
       "      <td>3.0</td>\n",
       "      <td>2</td>\n",
       "      <td>6.0</td>\n",
       "      <td>0.0</td>\n",
       "      <td>&lt;p&gt;En &lt;strong&gt;Garbarino &lt;/strong&gt;nos encontram...</td>\n",
       "      <td>10</td>\n",
       "      <td>3</td>\n",
       "      <td>3</td>\n",
       "      <td>Cadetería</td>\n",
       "      <td>0.0</td>\n",
       "      <td>2.0</td>\n",
       "      <td>NaN</td>\n",
       "    </tr>\n",
       "    <tr>\n",
       "      <th>321627</th>\n",
       "      <td>1112312969</td>\n",
       "      <td>A3X5j91</td>\n",
       "      <td>2.0</td>\n",
       "      <td>1</td>\n",
       "      <td>4.0</td>\n",
       "      <td>0.0</td>\n",
       "      <td>&lt;p&gt;&lt;strong&gt;Descripcion&lt;/strong&gt;&lt;/p&gt;&lt;p&gt; &lt;/p&gt;&lt;p&gt;...</td>\n",
       "      <td>10</td>\n",
       "      <td>3</td>\n",
       "      <td>3</td>\n",
       "      <td>Comercial</td>\n",
       "      <td>0.0</td>\n",
       "      <td>2.0</td>\n",
       "      <td>6.0</td>\n",
       "    </tr>\n",
       "    <tr>\n",
       "      <th>963384</th>\n",
       "      <td>1112270422</td>\n",
       "      <td>kPjBRKZ</td>\n",
       "      <td>3.0</td>\n",
       "      <td>2</td>\n",
       "      <td>4.0</td>\n",
       "      <td>0.0</td>\n",
       "      <td>&lt;p&gt;&lt;strong&gt;Adecco Sales &amp;amp; Marketing&lt;/stron...</td>\n",
       "      <td>10</td>\n",
       "      <td>3</td>\n",
       "      <td>3</td>\n",
       "      <td>Almacén / Depósito / Expedición</td>\n",
       "      <td>1.0</td>\n",
       "      <td>3.0</td>\n",
       "      <td>1.0</td>\n",
       "    </tr>\n",
       "    <tr>\n",
       "      <th>677897</th>\n",
       "      <td>1112342544</td>\n",
       "      <td>VNkjDNm</td>\n",
       "      <td>2.0</td>\n",
       "      <td>1</td>\n",
       "      <td>4.0</td>\n",
       "      <td>1.0</td>\n",
       "      <td>&lt;p&gt;Importante hipermercado se encuentra en la ...</td>\n",
       "      <td>10</td>\n",
       "      <td>3</td>\n",
       "      <td>3</td>\n",
       "      <td>Atención al Cliente</td>\n",
       "      <td>1.0</td>\n",
       "      <td>16.0</td>\n",
       "      <td>383.0</td>\n",
       "    </tr>\n",
       "  </tbody>\n",
       "</table>\n",
       "</div>"
      ],
      "text/plain": [
       "           idaviso idpostulante  rango_edad  sexo  nivel_estudios  \\\n",
       "785863  1112293402      vVDV6JQ         1.0     1             5.0   \n",
       "465290  1111895142       eRW4b9         3.0     2             6.0   \n",
       "321627  1112312969      A3X5j91         2.0     1             4.0   \n",
       "963384  1112270422      kPjBRKZ         3.0     2             4.0   \n",
       "677897  1112342544      VNkjDNm         2.0     1             4.0   \n",
       "\n",
       "        esta_estudiando                                        descripcion  \\\n",
       "785863              1.0  <p>Nuestro cliente, reconocida empresa de logí...   \n",
       "465290              0.0  <p>En <strong>Garbarino </strong>nos encontram...   \n",
       "321627              0.0  <p><strong>Descripcion</strong></p><p> </p><p>...   \n",
       "963384              0.0  <p><strong>Adecco Sales &amp; Marketing</stron...   \n",
       "677897              1.0  <p>Importante hipermercado se encuentra en la ...   \n",
       "\n",
       "        tipo_de_trabajo  nivel_laboral nombre_zona  \\\n",
       "785863               10              3           3   \n",
       "465290               10              3           3   \n",
       "321627               10              3           3   \n",
       "963384               10              3           3   \n",
       "677897               10              3           3   \n",
       "\n",
       "                            nombre_area  sepostulo  num_area  post_por_nivel  \n",
       "785863                 Recursos Humanos        1.0       8.0            42.0  \n",
       "465290                        Cadetería        0.0       2.0             NaN  \n",
       "321627                        Comercial        0.0       2.0             6.0  \n",
       "963384  Almacén / Depósito / Expedición        1.0       3.0             1.0  \n",
       "677897              Atención al Cliente        1.0      16.0           383.0  "
      ]
     },
     "execution_count": 65,
     "metadata": {},
     "output_type": "execute_result"
    }
   ],
   "source": [
    "modelo = pd.merge(modelo,postulacion_nivel,on=['nivel_laboral','idpostulante'],how='left')\n",
    "modelo.sample(5)"
   ]
  },
  {
   "cell_type": "markdown",
   "metadata": {},
   "source": [
    "Mergeamos el test_final para agregar la columna"
   ]
  },
  {
   "cell_type": "code",
   "execution_count": 66,
   "metadata": {},
   "outputs": [
    {
     "data": {
      "text/html": [
       "<div>\n",
       "<style scoped>\n",
       "    .dataframe tbody tr th:only-of-type {\n",
       "        vertical-align: middle;\n",
       "    }\n",
       "\n",
       "    .dataframe tbody tr th {\n",
       "        vertical-align: top;\n",
       "    }\n",
       "\n",
       "    .dataframe thead th {\n",
       "        text-align: right;\n",
       "    }\n",
       "</style>\n",
       "<table border=\"1\" class=\"dataframe\">\n",
       "  <thead>\n",
       "    <tr style=\"text-align: right;\">\n",
       "      <th></th>\n",
       "      <th>id</th>\n",
       "      <th>idaviso</th>\n",
       "      <th>idpostulante</th>\n",
       "      <th>rango_edad</th>\n",
       "      <th>sexo</th>\n",
       "      <th>nivel_estudios</th>\n",
       "      <th>esta_estudiando</th>\n",
       "      <th>titulo</th>\n",
       "      <th>tipo_de_trabajo</th>\n",
       "      <th>nivel_laboral</th>\n",
       "      <th>nombre_zona</th>\n",
       "      <th>nombre_area</th>\n",
       "      <th>num_area</th>\n",
       "      <th>post_por_nivel</th>\n",
       "    </tr>\n",
       "  </thead>\n",
       "  <tbody>\n",
       "    <tr>\n",
       "      <th>31246</th>\n",
       "      <td>31246</td>\n",
       "      <td>1112384556</td>\n",
       "      <td>ZEYQbZ</td>\n",
       "      <td>3.0</td>\n",
       "      <td>2.0</td>\n",
       "      <td>5.0</td>\n",
       "      <td>0.0</td>\n",
       "      <td>MUSIMUNDO CORDOBA incorpora vendedores</td>\n",
       "      <td>10.0</td>\n",
       "      <td>3.0</td>\n",
       "      <td>3.0</td>\n",
       "      <td>Ventas</td>\n",
       "      <td>2.0</td>\n",
       "      <td>NaN</td>\n",
       "    </tr>\n",
       "    <tr>\n",
       "      <th>73407</th>\n",
       "      <td>73407</td>\n",
       "      <td>1112463356</td>\n",
       "      <td>1MabZB</td>\n",
       "      <td>2.0</td>\n",
       "      <td>1.0</td>\n",
       "      <td>2.0</td>\n",
       "      <td>0.0</td>\n",
       "      <td>Cajera/o</td>\n",
       "      <td>9.0</td>\n",
       "      <td>1.0</td>\n",
       "      <td>3.0</td>\n",
       "      <td>Tesorería</td>\n",
       "      <td>2.0</td>\n",
       "      <td>NaN</td>\n",
       "    </tr>\n",
       "    <tr>\n",
       "      <th>19045</th>\n",
       "      <td>19045</td>\n",
       "      <td>1112221522</td>\n",
       "      <td>aj2ZOW</td>\n",
       "      <td>3.0</td>\n",
       "      <td>1.0</td>\n",
       "      <td>5.0</td>\n",
       "      <td>0.0</td>\n",
       "      <td>Operario de produccion zona sur</td>\n",
       "      <td>10.0</td>\n",
       "      <td>2.0</td>\n",
       "      <td>3.0</td>\n",
       "      <td>Producción</td>\n",
       "      <td>3.0</td>\n",
       "      <td>NaN</td>\n",
       "    </tr>\n",
       "    <tr>\n",
       "      <th>5046</th>\n",
       "      <td>5046</td>\n",
       "      <td>1111513077</td>\n",
       "      <td>YA4qRD</td>\n",
       "      <td>4.0</td>\n",
       "      <td>2.0</td>\n",
       "      <td>4.0</td>\n",
       "      <td>0.0</td>\n",
       "      <td>Estudiantes y/o graduados de Contador Público ...</td>\n",
       "      <td>10.0</td>\n",
       "      <td>2.0</td>\n",
       "      <td>3.0</td>\n",
       "      <td>Auditoría</td>\n",
       "      <td>1.0</td>\n",
       "      <td>NaN</td>\n",
       "    </tr>\n",
       "    <tr>\n",
       "      <th>23392</th>\n",
       "      <td>23392</td>\n",
       "      <td>1112304711</td>\n",
       "      <td>882Q1W</td>\n",
       "      <td>2.0</td>\n",
       "      <td>2.0</td>\n",
       "      <td>4.0</td>\n",
       "      <td>1.0</td>\n",
       "      <td>GENERALISTA DE RRHH - Proyecto eventual</td>\n",
       "      <td>10.0</td>\n",
       "      <td>3.0</td>\n",
       "      <td>3.0</td>\n",
       "      <td>Recursos Humanos</td>\n",
       "      <td>8.0</td>\n",
       "      <td>6.0</td>\n",
       "    </tr>\n",
       "  </tbody>\n",
       "</table>\n",
       "</div>"
      ],
      "text/plain": [
       "          id     idaviso idpostulante  rango_edad  sexo  nivel_estudios  \\\n",
       "31246  31246  1112384556       ZEYQbZ         3.0   2.0             5.0   \n",
       "73407  73407  1112463356       1MabZB         2.0   1.0             2.0   \n",
       "19045  19045  1112221522       aj2ZOW         3.0   1.0             5.0   \n",
       "5046    5046  1111513077       YA4qRD         4.0   2.0             4.0   \n",
       "23392  23392  1112304711       882Q1W         2.0   2.0             4.0   \n",
       "\n",
       "       esta_estudiando                                             titulo  \\\n",
       "31246              0.0            MUSIMUNDO CORDOBA incorpora vendedores    \n",
       "73407              0.0                                          Cajera/o    \n",
       "19045              0.0                    Operario de produccion zona sur   \n",
       "5046               0.0  Estudiantes y/o graduados de Contador Público ...   \n",
       "23392              1.0            GENERALISTA DE RRHH - Proyecto eventual   \n",
       "\n",
       "       tipo_de_trabajo  nivel_laboral  nombre_zona       nombre_area  \\\n",
       "31246             10.0            3.0          3.0            Ventas   \n",
       "73407              9.0            1.0          3.0         Tesorería   \n",
       "19045             10.0            2.0          3.0        Producción   \n",
       "5046              10.0            2.0          3.0         Auditoría   \n",
       "23392             10.0            3.0          3.0  Recursos Humanos   \n",
       "\n",
       "       num_area  post_por_nivel  \n",
       "31246       2.0             NaN  \n",
       "73407       2.0             NaN  \n",
       "19045       3.0             NaN  \n",
       "5046        1.0             NaN  \n",
       "23392       8.0             6.0  "
      ]
     },
     "execution_count": 66,
     "metadata": {},
     "output_type": "execute_result"
    }
   ],
   "source": [
    "test_final = pd.merge(test_final,postulacion_nivel,on=['nivel_laboral','idpostulante'],how='left')\n",
    "test_final.sample(5)"
   ]
  },
  {
   "cell_type": "markdown",
   "metadata": {},
   "source": [
    "Lleno los nulos con 0, y queda la columna post_por_nivel en el modelo como relacion de la cantidad de postulaciones del postulante por nivel de trabajo del aviso. "
   ]
  },
  {
   "cell_type": "code",
   "execution_count": 67,
   "metadata": {},
   "outputs": [],
   "source": [
    "modelo = modelo.fillna(0)\n",
    "test_final = test_final.fillna(0)"
   ]
  },
  {
   "cell_type": "markdown",
   "metadata": {},
   "source": [
    "# Exportamos el modelo final featured"
   ]
  },
  {
   "cell_type": "code",
   "execution_count": 68,
   "metadata": {},
   "outputs": [
    {
     "data": {
      "text/html": [
       "<div>\n",
       "<style scoped>\n",
       "    .dataframe tbody tr th:only-of-type {\n",
       "        vertical-align: middle;\n",
       "    }\n",
       "\n",
       "    .dataframe tbody tr th {\n",
       "        vertical-align: top;\n",
       "    }\n",
       "\n",
       "    .dataframe thead th {\n",
       "        text-align: right;\n",
       "    }\n",
       "</style>\n",
       "<table border=\"1\" class=\"dataframe\">\n",
       "  <thead>\n",
       "    <tr style=\"text-align: right;\">\n",
       "      <th></th>\n",
       "      <th>idaviso</th>\n",
       "      <th>idpostulante</th>\n",
       "      <th>rango_edad</th>\n",
       "      <th>sexo</th>\n",
       "      <th>nivel_estudios</th>\n",
       "      <th>esta_estudiando</th>\n",
       "      <th>descripcion</th>\n",
       "      <th>tipo_de_trabajo</th>\n",
       "      <th>nivel_laboral</th>\n",
       "      <th>nombre_zona</th>\n",
       "      <th>nombre_area</th>\n",
       "      <th>sepostulo</th>\n",
       "      <th>num_area</th>\n",
       "      <th>post_por_nivel</th>\n",
       "    </tr>\n",
       "  </thead>\n",
       "  <tbody>\n",
       "    <tr>\n",
       "      <th>49561</th>\n",
       "      <td>1112302177</td>\n",
       "      <td>96Mvowp</td>\n",
       "      <td>2.0</td>\n",
       "      <td>2</td>\n",
       "      <td>2.0</td>\n",
       "      <td>0.0</td>\n",
       "      <td>&lt;p&gt;Somos una fabrica orientada a la construcci...</td>\n",
       "      <td>10</td>\n",
       "      <td>3</td>\n",
       "      <td>3</td>\n",
       "      <td>Diseño Industrial</td>\n",
       "      <td>0.0</td>\n",
       "      <td>2.0</td>\n",
       "      <td>16.0</td>\n",
       "    </tr>\n",
       "    <tr>\n",
       "      <th>49336</th>\n",
       "      <td>1112300369</td>\n",
       "      <td>rmRDQRe</td>\n",
       "      <td>2.0</td>\n",
       "      <td>1</td>\n",
       "      <td>4.0</td>\n",
       "      <td>0.0</td>\n",
       "      <td>&lt;p&gt;&lt;strong&gt;Solutix&lt;/strong&gt; selecciona&lt;strong&gt;...</td>\n",
       "      <td>10</td>\n",
       "      <td>3</td>\n",
       "      <td>3</td>\n",
       "      <td>Programación</td>\n",
       "      <td>0.0</td>\n",
       "      <td>7.0</td>\n",
       "      <td>3.0</td>\n",
       "    </tr>\n",
       "    <tr>\n",
       "      <th>914351</th>\n",
       "      <td>1111933464</td>\n",
       "      <td>6r2GAZl</td>\n",
       "      <td>4.0</td>\n",
       "      <td>2</td>\n",
       "      <td>2.0</td>\n",
       "      <td>0.0</td>\n",
       "      <td>&lt;p&gt;&lt;strong&gt;Adecco Industrial&lt;/strong&gt; está esp...</td>\n",
       "      <td>10</td>\n",
       "      <td>3</td>\n",
       "      <td>3</td>\n",
       "      <td>Ingeniería de Procesos</td>\n",
       "      <td>1.0</td>\n",
       "      <td>3.0</td>\n",
       "      <td>15.0</td>\n",
       "    </tr>\n",
       "    <tr>\n",
       "      <th>863182</th>\n",
       "      <td>1112381873</td>\n",
       "      <td>ebx3O2</td>\n",
       "      <td>2.0</td>\n",
       "      <td>1</td>\n",
       "      <td>4.0</td>\n",
       "      <td>0.0</td>\n",
       "      <td>&lt;p&gt; &lt;/p&gt;&lt;p&gt;Importante Concesionario Oficial de...</td>\n",
       "      <td>10</td>\n",
       "      <td>3</td>\n",
       "      <td>3</td>\n",
       "      <td>Administración</td>\n",
       "      <td>1.0</td>\n",
       "      <td>1.0</td>\n",
       "      <td>125.0</td>\n",
       "    </tr>\n",
       "    <tr>\n",
       "      <th>25544</th>\n",
       "      <td>1112267858</td>\n",
       "      <td>MVeKjGK</td>\n",
       "      <td>1.0</td>\n",
       "      <td>1</td>\n",
       "      <td>3.0</td>\n",
       "      <td>1.0</td>\n",
       "      <td>&lt;p&gt;Importante empresa Alimenticia de Consumo m...</td>\n",
       "      <td>10</td>\n",
       "      <td>3</td>\n",
       "      <td>3</td>\n",
       "      <td>Administración</td>\n",
       "      <td>0.0</td>\n",
       "      <td>1.0</td>\n",
       "      <td>2.0</td>\n",
       "    </tr>\n",
       "  </tbody>\n",
       "</table>\n",
       "</div>"
      ],
      "text/plain": [
       "           idaviso idpostulante  rango_edad  sexo  nivel_estudios  \\\n",
       "49561   1112302177      96Mvowp         2.0     2             2.0   \n",
       "49336   1112300369      rmRDQRe         2.0     1             4.0   \n",
       "914351  1111933464      6r2GAZl         4.0     2             2.0   \n",
       "863182  1112381873       ebx3O2         2.0     1             4.0   \n",
       "25544   1112267858      MVeKjGK         1.0     1             3.0   \n",
       "\n",
       "        esta_estudiando                                        descripcion  \\\n",
       "49561               0.0  <p>Somos una fabrica orientada a la construcci...   \n",
       "49336               0.0  <p><strong>Solutix</strong> selecciona<strong>...   \n",
       "914351              0.0  <p><strong>Adecco Industrial</strong> está esp...   \n",
       "863182              0.0  <p> </p><p>Importante Concesionario Oficial de...   \n",
       "25544               1.0  <p>Importante empresa Alimenticia de Consumo m...   \n",
       "\n",
       "        tipo_de_trabajo  nivel_laboral nombre_zona             nombre_area  \\\n",
       "49561                10              3           3       Diseño Industrial   \n",
       "49336                10              3           3            Programación   \n",
       "914351               10              3           3  Ingeniería de Procesos   \n",
       "863182               10              3           3          Administración   \n",
       "25544                10              3           3          Administración   \n",
       "\n",
       "        sepostulo  num_area  post_por_nivel  \n",
       "49561         0.0       2.0            16.0  \n",
       "49336         0.0       7.0             3.0  \n",
       "914351        1.0       3.0            15.0  \n",
       "863182        1.0       1.0           125.0  \n",
       "25544         0.0       1.0             2.0  "
      ]
     },
     "execution_count": 68,
     "metadata": {},
     "output_type": "execute_result"
    }
   ],
   "source": [
    "modelo.sample(5)"
   ]
  },
  {
   "cell_type": "code",
   "execution_count": 69,
   "metadata": {},
   "outputs": [
    {
     "name": "stdout",
     "output_type": "stream",
     "text": [
      "<class 'pandas.core.frame.DataFrame'>\n",
      "Int64Index: 1000000 entries, 0 to 999999\n",
      "Data columns (total 14 columns):\n",
      "idaviso            1000000 non-null int64\n",
      "idpostulante       1000000 non-null object\n",
      "rango_edad         1000000 non-null float64\n",
      "sexo               1000000 non-null int64\n",
      "nivel_estudios     1000000 non-null float64\n",
      "esta_estudiando    1000000 non-null float64\n",
      "descripcion        1000000 non-null object\n",
      "tipo_de_trabajo    1000000 non-null int64\n",
      "nivel_laboral      1000000 non-null int64\n",
      "nombre_zona        1000000 non-null object\n",
      "nombre_area        1000000 non-null object\n",
      "sepostulo          1000000 non-null float64\n",
      "num_area           1000000 non-null float64\n",
      "post_por_nivel     1000000 non-null float64\n",
      "dtypes: float64(6), int64(4), object(4)\n",
      "memory usage: 114.4+ MB\n"
     ]
    }
   ],
   "source": [
    "modelo.info()"
   ]
  },
  {
   "cell_type": "code",
   "execution_count": 70,
   "metadata": {},
   "outputs": [],
   "source": [
    "modelo['rango_edad'] = modelo['rango_edad'].astype('category')\n",
    "modelo['sexo'] = modelo['sexo'].astype('category') \n",
    "modelo['nivel_estudios'] = modelo['nivel_estudios'].astype('category')\n",
    "modelo['esta_estudiando'] = modelo['esta_estudiando'].astype('category')\n",
    "modelo['tipo_de_trabajo'] = modelo['tipo_de_trabajo'].astype('category')\n",
    "modelo['nivel_laboral'] = modelo['nivel_laboral'].astype('category')\n",
    "modelo['nombre_zona'] = modelo['nombre_zona'].astype('category')\n",
    "modelo['num_area'] = modelo['num_area'].astype('category')\n",
    "modelo['post_por_nivel'] = modelo['post_por_nivel'].astype('category')\n",
    "modelo['sepostulo'] = modelo['sepostulo'].astype('category')"
   ]
  },
  {
   "cell_type": "code",
   "execution_count": 71,
   "metadata": {},
   "outputs": [
    {
     "name": "stdout",
     "output_type": "stream",
     "text": [
      "<class 'pandas.core.frame.DataFrame'>\n",
      "Int64Index: 1000000 entries, 0 to 999999\n",
      "Data columns (total 14 columns):\n",
      "idaviso            1000000 non-null int64\n",
      "idpostulante       1000000 non-null object\n",
      "rango_edad         1000000 non-null category\n",
      "sexo               1000000 non-null category\n",
      "nivel_estudios     1000000 non-null category\n",
      "esta_estudiando    1000000 non-null category\n",
      "descripcion        1000000 non-null object\n",
      "tipo_de_trabajo    1000000 non-null category\n",
      "nivel_laboral      1000000 non-null category\n",
      "nombre_zona        1000000 non-null category\n",
      "nombre_area        1000000 non-null object\n",
      "sepostulo          1000000 non-null category\n",
      "num_area           1000000 non-null category\n",
      "post_por_nivel     1000000 non-null category\n",
      "dtypes: category(10), int64(1), object(3)\n",
      "memory usage: 48.7+ MB\n"
     ]
    }
   ],
   "source": [
    "modelo.info()"
   ]
  },
  {
   "cell_type": "markdown",
   "metadata": {},
   "source": [
    " "
   ]
  },
  {
   "cell_type": "code",
   "execution_count": 72,
   "metadata": {},
   "outputs": [],
   "source": [
    "modelo.to_csv('csv_files/modelo_final_featured.csv', encoding='utf-8', index=False)"
   ]
  },
  {
   "cell_type": "markdown",
   "metadata": {},
   "source": [
    "# Exportamos el test final featured"
   ]
  },
  {
   "cell_type": "code",
   "execution_count": 73,
   "metadata": {},
   "outputs": [
    {
     "data": {
      "text/html": [
       "<div>\n",
       "<style scoped>\n",
       "    .dataframe tbody tr th:only-of-type {\n",
       "        vertical-align: middle;\n",
       "    }\n",
       "\n",
       "    .dataframe tbody tr th {\n",
       "        vertical-align: top;\n",
       "    }\n",
       "\n",
       "    .dataframe thead th {\n",
       "        text-align: right;\n",
       "    }\n",
       "</style>\n",
       "<table border=\"1\" class=\"dataframe\">\n",
       "  <thead>\n",
       "    <tr style=\"text-align: right;\">\n",
       "      <th></th>\n",
       "      <th>id</th>\n",
       "      <th>idaviso</th>\n",
       "      <th>idpostulante</th>\n",
       "      <th>rango_edad</th>\n",
       "      <th>sexo</th>\n",
       "      <th>nivel_estudios</th>\n",
       "      <th>esta_estudiando</th>\n",
       "      <th>titulo</th>\n",
       "      <th>tipo_de_trabajo</th>\n",
       "      <th>nivel_laboral</th>\n",
       "      <th>nombre_zona</th>\n",
       "      <th>nombre_area</th>\n",
       "      <th>num_area</th>\n",
       "      <th>post_por_nivel</th>\n",
       "    </tr>\n",
       "  </thead>\n",
       "  <tbody>\n",
       "    <tr>\n",
       "      <th>54421</th>\n",
       "      <td>54421</td>\n",
       "      <td>1112446506</td>\n",
       "      <td>e4VRO4</td>\n",
       "      <td>3.0</td>\n",
       "      <td>2.0</td>\n",
       "      <td>3.0</td>\n",
       "      <td>1.0</td>\n",
       "      <td>Comprador</td>\n",
       "      <td>10.0</td>\n",
       "      <td>3.0</td>\n",
       "      <td>3.0</td>\n",
       "      <td>Compras</td>\n",
       "      <td>1.0</td>\n",
       "      <td>27.0</td>\n",
       "    </tr>\n",
       "    <tr>\n",
       "      <th>83129</th>\n",
       "      <td>83129</td>\n",
       "      <td>1112466360</td>\n",
       "      <td>ekX25ep</td>\n",
       "      <td>2.0</td>\n",
       "      <td>1.0</td>\n",
       "      <td>4.0</td>\n",
       "      <td>0.0</td>\n",
       "      <td>Estudiantes y/o graduados de Contador Público ...</td>\n",
       "      <td>10.0</td>\n",
       "      <td>2.0</td>\n",
       "      <td>3.0</td>\n",
       "      <td>Auditoría</td>\n",
       "      <td>1.0</td>\n",
       "      <td>45.0</td>\n",
       "    </tr>\n",
       "    <tr>\n",
       "      <th>82829</th>\n",
       "      <td>82829</td>\n",
       "      <td>1112466289</td>\n",
       "      <td>dY9exDP</td>\n",
       "      <td>2.0</td>\n",
       "      <td>2.0</td>\n",
       "      <td>2.0</td>\n",
       "      <td>0.0</td>\n",
       "      <td>Entrevista CAJERO REPOSITOR presentarse LUNES ...</td>\n",
       "      <td>10.0</td>\n",
       "      <td>2.0</td>\n",
       "      <td>3.0</td>\n",
       "      <td>Comercial</td>\n",
       "      <td>2.0</td>\n",
       "      <td>14.0</td>\n",
       "    </tr>\n",
       "    <tr>\n",
       "      <th>46388</th>\n",
       "      <td>46388</td>\n",
       "      <td>1112429961</td>\n",
       "      <td>qe2K5aR</td>\n",
       "      <td>1.0</td>\n",
       "      <td>2.0</td>\n",
       "      <td>4.0</td>\n",
       "      <td>0.0</td>\n",
       "      <td>Vendedores/as de Calle</td>\n",
       "      <td>10.0</td>\n",
       "      <td>3.0</td>\n",
       "      <td>3.0</td>\n",
       "      <td>Ventas</td>\n",
       "      <td>2.0</td>\n",
       "      <td>12.0</td>\n",
       "    </tr>\n",
       "    <tr>\n",
       "      <th>84223</th>\n",
       "      <td>84223</td>\n",
       "      <td>1112466532</td>\n",
       "      <td>10BdAR</td>\n",
       "      <td>4.0</td>\n",
       "      <td>2.0</td>\n",
       "      <td>2.0</td>\n",
       "      <td>0.0</td>\n",
       "      <td>Ejecutivo de ventas</td>\n",
       "      <td>10.0</td>\n",
       "      <td>3.0</td>\n",
       "      <td>3.0</td>\n",
       "      <td>Comercial</td>\n",
       "      <td>2.0</td>\n",
       "      <td>208.0</td>\n",
       "    </tr>\n",
       "  </tbody>\n",
       "</table>\n",
       "</div>"
      ],
      "text/plain": [
       "          id     idaviso idpostulante  rango_edad  sexo  nivel_estudios  \\\n",
       "54421  54421  1112446506       e4VRO4         3.0   2.0             3.0   \n",
       "83129  83129  1112466360      ekX25ep         2.0   1.0             4.0   \n",
       "82829  82829  1112466289      dY9exDP         2.0   2.0             2.0   \n",
       "46388  46388  1112429961      qe2K5aR         1.0   2.0             4.0   \n",
       "84223  84223  1112466532       10BdAR         4.0   2.0             2.0   \n",
       "\n",
       "       esta_estudiando                                             titulo  \\\n",
       "54421              1.0                                          Comprador   \n",
       "83129              0.0  Estudiantes y/o graduados de Contador Público ...   \n",
       "82829              0.0  Entrevista CAJERO REPOSITOR presentarse LUNES ...   \n",
       "46388              0.0                            Vendedores/as de Calle    \n",
       "84223              0.0                               Ejecutivo de ventas    \n",
       "\n",
       "       tipo_de_trabajo  nivel_laboral  nombre_zona nombre_area  num_area  \\\n",
       "54421             10.0            3.0          3.0     Compras       1.0   \n",
       "83129             10.0            2.0          3.0   Auditoría       1.0   \n",
       "82829             10.0            2.0          3.0   Comercial       2.0   \n",
       "46388             10.0            3.0          3.0      Ventas       2.0   \n",
       "84223             10.0            3.0          3.0   Comercial       2.0   \n",
       "\n",
       "       post_por_nivel  \n",
       "54421            27.0  \n",
       "83129            45.0  \n",
       "82829            14.0  \n",
       "46388            12.0  \n",
       "84223           208.0  "
      ]
     },
     "execution_count": 73,
     "metadata": {},
     "output_type": "execute_result"
    }
   ],
   "source": [
    "test_final.sample(5)"
   ]
  },
  {
   "cell_type": "code",
   "execution_count": 74,
   "metadata": {},
   "outputs": [
    {
     "name": "stdout",
     "output_type": "stream",
     "text": [
      "<class 'pandas.core.frame.DataFrame'>\n",
      "Int64Index: 100000 entries, 0 to 99999\n",
      "Data columns (total 14 columns):\n",
      "id                 100000 non-null int64\n",
      "idaviso            100000 non-null int64\n",
      "idpostulante       100000 non-null object\n",
      "rango_edad         100000 non-null float64\n",
      "sexo               100000 non-null float64\n",
      "nivel_estudios     100000 non-null float64\n",
      "esta_estudiando    100000 non-null float64\n",
      "titulo             100000 non-null object\n",
      "tipo_de_trabajo    100000 non-null float64\n",
      "nivel_laboral      100000 non-null float64\n",
      "nombre_zona        100000 non-null float64\n",
      "nombre_area        100000 non-null object\n",
      "num_area           100000 non-null float64\n",
      "post_por_nivel     100000 non-null float64\n",
      "dtypes: float64(9), int64(2), object(3)\n",
      "memory usage: 11.4+ MB\n"
     ]
    }
   ],
   "source": [
    "test_final.info()"
   ]
  },
  {
   "cell_type": "code",
   "execution_count": 75,
   "metadata": {},
   "outputs": [],
   "source": [
    "test_final['rango_edad'] = test_final['rango_edad'].astype('category')\n",
    "test_final['sexo'] = test_final['sexo'].astype('category') \n",
    "test_final['nivel_estudios'] = test_final['nivel_estudios'].astype('category')\n",
    "test_final['esta_estudiando'] = test_final['esta_estudiando'].astype('category')\n",
    "test_final['tipo_de_trabajo'] = test_final['tipo_de_trabajo'].astype('category')\n",
    "test_final['nivel_laboral'] = test_final['nivel_laboral'].astype('category')\n",
    "test_final['nombre_zona'] = test_final['nombre_zona'].astype('category')\n",
    "test_final['num_area'] = test_final['num_area'].astype('category')\n",
    "test_final['post_por_nivel'] = test_final['post_por_nivel'].astype('category')"
   ]
  },
  {
   "cell_type": "code",
   "execution_count": 76,
   "metadata": {},
   "outputs": [
    {
     "name": "stdout",
     "output_type": "stream",
     "text": [
      "<class 'pandas.core.frame.DataFrame'>\n",
      "Int64Index: 100000 entries, 0 to 99999\n",
      "Data columns (total 14 columns):\n",
      "id                 100000 non-null int64\n",
      "idaviso            100000 non-null int64\n",
      "idpostulante       100000 non-null object\n",
      "rango_edad         100000 non-null category\n",
      "sexo               100000 non-null category\n",
      "nivel_estudios     100000 non-null category\n",
      "esta_estudiando    100000 non-null category\n",
      "titulo             100000 non-null object\n",
      "tipo_de_trabajo    100000 non-null category\n",
      "nivel_laboral      100000 non-null category\n",
      "nombre_zona        100000 non-null category\n",
      "nombre_area        100000 non-null object\n",
      "num_area           100000 non-null category\n",
      "post_por_nivel     100000 non-null category\n",
      "dtypes: category(9), int64(2), object(3)\n",
      "memory usage: 5.5+ MB\n"
     ]
    }
   ],
   "source": [
    "test_final.info()"
   ]
  },
  {
   "cell_type": "markdown",
   "metadata": {},
   "source": [
    " "
   ]
  },
  {
   "cell_type": "code",
   "execution_count": 77,
   "metadata": {},
   "outputs": [],
   "source": [
    "test_final.to_csv('csv_files/test_final_featured.csv', encoding='utf-8', index=False)"
   ]
  }
 ],
 "metadata": {
  "kernelspec": {
   "display_name": "Python 3",
   "language": "python",
   "name": "python3"
  },
  "language_info": {
   "codemirror_mode": {
    "name": "ipython",
    "version": 3
   },
   "file_extension": ".py",
   "mimetype": "text/x-python",
   "name": "python",
   "nbconvert_exporter": "python",
   "pygments_lexer": "ipython3",
   "version": "3.6.5"
  }
 },
 "nbformat": 4,
 "nbformat_minor": 2
}
